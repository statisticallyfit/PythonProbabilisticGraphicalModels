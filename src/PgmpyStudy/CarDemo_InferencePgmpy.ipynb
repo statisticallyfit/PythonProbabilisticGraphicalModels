{
 "cells": [
  {
   "cell_type": "markdown",
   "metadata": {
    "title": "markdown"
   },
   "source": [
    "# Car Bayesian Network\n",
    "Creating bayesian network to model use cases in [httplus://synergo.atlassian.net/wiki/spaces/CLNTMMC/pages/1812529153/RFP+-+Extra+use+cases+-+Appendix+A](httplus://synergo.atlassian.net/wiki/spaces/CLNTMMC/pages/1812529153/RFP+-+Extra+use+cases+-+Appendix+A)."
   ]
  },
  {
   "cell_type": "markdown",
   "metadata": {
    "lines_to_next_cell": 0,
    "title": "markdown"
   },
   "source": [
    "Doing path-setting:"
   ]
  },
  {
   "cell_type": "code",
   "execution_count": 1,
   "metadata": {
    "title": "codecell"
   },
   "outputs": [
    {
     "name": "stdout",
     "output_type": "stream",
     "text": [
      "curPath =  /development/projects/statisticallyfit/github/learningmathstat/PythonProbabilisticGraphicalModels/src/PgmpyStudy/ \n",
      "\n",
      "dataPath =  /development/projects/statisticallyfit/github/learningmathstat/PythonProbabilisticGraphicalModels/src/_data/ \n",
      "\n",
      "imagePath =  /development/projects/statisticallyfit/github/learningmathstat/PythonProbabilisticGraphicalModels/src/PgmpyStudy/images/ \n",
      "\n"
     ]
    },
    {
     "data": {
      "text/plain": [
       "['/development/projects/statisticallyfit/github/learningmathstat/PythonProbabilisticGraphicalModels/src/PgmpyStudy',\n",
       " '/development/bin/python/conda3_ana/envs/pybayesian_env/lib/python37.zip',\n",
       " '/development/bin/python/conda3_ana/envs/pybayesian_env/lib/python3.7',\n",
       " '/development/bin/python/conda3_ana/envs/pybayesian_env/lib/python3.7/lib-dynload',\n",
       " '',\n",
       " '/development/bin/python/conda3_ana/envs/pybayesian_env/lib/python3.7/site-packages',\n",
       " '/development/bin/python/conda3_ana/envs/pybayesian_env/lib/python3.7/site-packages/IPython/extensions',\n",
       " '/home/statisticallyfit/.ipython',\n",
       " '/development/projects/statisticallyfit/github/learningmathstat/PythonProbabilisticGraphicalModels/src/utils/',\n",
       " '/development/projects/statisticallyfit/github/learningmathstat/PythonProbabilisticGraphicalModels/src/PgmpyStudy/']"
      ]
     },
     "execution_count": 1,
     "metadata": {},
     "output_type": "execute_result"
    }
   ],
   "source": [
    "import os\n",
    "import sys\n",
    "\n",
    "\n",
    "os.getcwd()\n",
    "# Setting the baseline:\n",
    "os.chdir('/development/projects/statisticallyfit/github/learningmathstat/PythonProbabilisticGraphicalModels')\n",
    "\n",
    "\n",
    "curPath: str = os.getcwd() + \"/src/PgmpyStudy/\"\n",
    "\n",
    "dataPath: str = os.getcwd() + \"/src/_data/\"\n",
    "imagePath: str = curPath + 'images/'\n",
    "\n",
    "print(\"curPath = \", curPath, \"\\n\")\n",
    "print(\"dataPath = \", dataPath, \"\\n\")\n",
    "print('imagePath = ', imagePath, \"\\n\")\n",
    "\n",
    "\n",
    "# Making files in utils folder visible here: to import my local print functions for nn.Module objects\n",
    "sys.path.append(os.getcwd() + \"/src/utils/\")\n",
    "# For being able to import files within PgmpyStudy folder\n",
    "sys.path.append(curPath)\n",
    "\n",
    "#sys.path.remove('/development/projects/statisticallyfit/github/learningmathstat/PythonNeuralNetNLP/src/utils/')\n",
    "#sys.path.remove('/development/projects/statisticallyfit/github/learningmathstat/PythonNeuralNetNLP/src/PgmpyStudy/')\n",
    "\n",
    "sys.path"
   ]
  },
  {
   "cell_type": "markdown",
   "metadata": {
    "lines_to_next_cell": 0,
    "title": "markdown"
   },
   "source": [
    "Science imports:"
   ]
  },
  {
   "cell_type": "code",
   "execution_count": 2,
   "metadata": {
    "lines_to_next_cell": 2,
    "title": "codecell"
   },
   "outputs": [],
   "source": [
    "from pgmpy.models import BayesianModel\n",
    "from pgmpy.inference import VariableElimination\n",
    "from pgmpy.factors.discrete import TabularCPD\n",
    "from pgmpy.factors.discrete import JointProbabilityDistribution\n",
    "from pgmpy.factors.discrete.DiscreteFactor import DiscreteFactor\n",
    "from pgmpy.independencies import Independencies\n",
    "from pgmpy.independencies.Independencies import IndependenceAssertion\n",
    "\n",
    "\n",
    "from operator import mul\n",
    "from functools import reduce\n",
    "\n",
    "import itertools\n",
    "import collections\n",
    "\n",
    "\n",
    "\n",
    "from src.utils.TypeAliases import *\n",
    "\n",
    "from src.utils.GraphvizUtil import *\n",
    "from src.utils.NetworkUtil import *\n",
    "from src.utils.DataUtil import *\n",
    "from src.utils.GenericUtil import *\n",
    "\n",
    "from typing import *\n",
    "\n",
    "# My type alias for clarity\n",
    "\n",
    "import pandas as pd\n",
    "from pandas.core.frame import DataFrame"
   ]
  },
  {
   "cell_type": "markdown",
   "metadata": {
    "lines_to_next_cell": 0,
    "title": "markdown"
   },
   "source": [
    "## Step 1: Creating / Loading Data"
   ]
  },
  {
   "cell_type": "code",
   "execution_count": 3,
   "metadata": {
    "title": "codecell"
   },
   "outputs": [],
   "source": [
    "\n",
    "# Create named tuple class with names \"Names\" and \"Objects\"\n",
    "#RandomVariable = collections.namedtuple(\"RandomVariable\", [\"var\", \"states\"]) # already in type aliases\n",
    "\n",
    "\n",
    "Process = RandomVariable(var =\"Process\", states = {'Accel-Pedal',\n",
    "                                                    'Door-Mount',\n",
    "                                                    'Engine-Mount',\n",
    "                                                    'Engine-Wiring',\n",
    "                                                    'Oil-Fill',\n",
    "                                                    'Sun-Roof-Housing'})\n",
    "\n",
    "Tool = RandomVariable(var =\"Tool\", states = {'Forklift', 'Front-Right-Door', 'Oil', 'Power-Gun'})\n",
    "\n",
    "Injury = RandomVariable(var =\"Injury\", states = {'Chemical-Burn',\n",
    "                                                  'Contact-Contusion',\n",
    "                                                  'Electrical-Burn',\n",
    "                                                  'Electrical-Shock',\n",
    "                                                  'Fall-Gtm'})\n",
    "\n",
    "#Absenteeism = RandomVariable(var = \"Absenteeism\", states =  ['Absenteeism-00',\n",
    "#                                                                       'Absenteeism-01',\n",
    "#                                                                       'Absenteeism-02',\n",
    "#                                                                       'Absenteeism-03'])\n",
    "Absenteeism = RandomVariable(var =\"Absenteeism\", states =  {'Low', 'Medium', 'High'})\n",
    "\n",
    "\n",
    "# Make 30 days to represent 1 month\n",
    "Time = RandomVariable(var = \"Time\", states = set(range(1, 31))) # list(map(lambda day : str(day), range(1, 31))))\n",
    "\n",
    "#Training = RandomVariable(var = \"Training\", states = ['Training-00',\n",
    "#                                                                'Training-01',\n",
    "#                                                                'Training-02',\n",
    "#                                                                'Training-03'])\n",
    "Training = RandomVariable(var =\"Training\", states = {'Low', 'Medium', 'High'})\n",
    "\n",
    "#Exertion = RandomVariable(var = \"Exertion\", states = ['Exertion-00',\n",
    "#                                                                'Exertion-01',\n",
    "#                                                                'Exertion-02',\n",
    "#                                                                'Exertion-03'])\n",
    "Exertion = RandomVariable(var =\"Exertion\", states = {'Low', 'Medium', 'High'})\n",
    "\n",
    "#Experience = RandomVariable(var = \"Experience\", states = ['Experience-00',\n",
    "#                                                                    'Experience-01',\n",
    "#                                                                    'Experience-02',\n",
    "#                                                                    'Experience-03'])\n",
    "Experience = RandomVariable(var =\"Experience\", states = {'Low', 'Medium', 'High'})\n",
    "\n",
    "#WorkCapacity = RandomVariable(var = \"WorkCapacity\", states = ['WorkCapacity-00',\n",
    "#                                                              'WorkCapacity-01',\n",
    "#                                                              'WorkCapacity-02',\n",
    "#                                                              'WorkCapacity-03'])\n",
    "WorkCapacity = RandomVariable(var = \"WorkCapacity\", states = {'Low', 'Medium', 'High'})\n",
    "\n",
    "varDict = {Time.var : Time.states,\n",
    "            Training.var : Training.states,\n",
    "            Exertion.var : Exertion.states,\n",
    "            Experience.var : Experience.states,\n",
    "            WorkCapacity.var : WorkCapacity. states,\n",
    "            Process.var : Process.states,\n",
    "            Tool.var : Tool.states,\n",
    "            Injury.var : Injury.states,\n",
    "            Absenteeism.var : Absenteeism.states}"
   ]
  },
  {
   "cell_type": "code",
   "execution_count": 4,
   "metadata": {
    "lines_to_next_cell": 0,
    "title": "codecell"
   },
   "outputs": [
    {
     "data": {
      "text/html": [
       "<div>\n",
       "<style scoped>\n",
       "    .dataframe tbody tr th:only-of-type {\n",
       "        vertical-align: middle;\n",
       "    }\n",
       "\n",
       "    .dataframe tbody tr th {\n",
       "        vertical-align: top;\n",
       "    }\n",
       "\n",
       "    .dataframe thead th {\n",
       "        text-align: right;\n",
       "    }\n",
       "</style>\n",
       "<table border=\"1\" class=\"dataframe\">\n",
       "  <thead>\n",
       "    <tr style=\"text-align: right;\">\n",
       "      <th></th>\n",
       "      <th>Time</th>\n",
       "      <th>Training</th>\n",
       "      <th>Exertion</th>\n",
       "      <th>Experience</th>\n",
       "      <th>WorkCapacity</th>\n",
       "      <th>Process</th>\n",
       "      <th>Tool</th>\n",
       "      <th>Injury</th>\n",
       "      <th>Absenteeism</th>\n",
       "    </tr>\n",
       "  </thead>\n",
       "  <tbody>\n",
       "    <tr>\n",
       "      <th>0</th>\n",
       "      <td>1</td>\n",
       "      <td>Low</td>\n",
       "      <td>Low</td>\n",
       "      <td>Low</td>\n",
       "      <td>High</td>\n",
       "      <td>Engine-Mount</td>\n",
       "      <td>Forklift</td>\n",
       "      <td>Fall-Gtm</td>\n",
       "      <td>High</td>\n",
       "    </tr>\n",
       "    <tr>\n",
       "      <th>1</th>\n",
       "      <td>1</td>\n",
       "      <td>Low</td>\n",
       "      <td>Low</td>\n",
       "      <td>Low</td>\n",
       "      <td>High</td>\n",
       "      <td>Engine-Mount</td>\n",
       "      <td>Forklift</td>\n",
       "      <td>Contact-Contusion</td>\n",
       "      <td>High</td>\n",
       "    </tr>\n",
       "    <tr>\n",
       "      <th>2</th>\n",
       "      <td>1</td>\n",
       "      <td>Low</td>\n",
       "      <td>Low</td>\n",
       "      <td>Low</td>\n",
       "      <td>High</td>\n",
       "      <td>Engine-Mount</td>\n",
       "      <td>Forklift</td>\n",
       "      <td>Fall-Gtm</td>\n",
       "      <td>High</td>\n",
       "    </tr>\n",
       "    <tr>\n",
       "      <th>3</th>\n",
       "      <td>1</td>\n",
       "      <td>Low</td>\n",
       "      <td>Low</td>\n",
       "      <td>Low</td>\n",
       "      <td>High</td>\n",
       "      <td>Engine-Mount</td>\n",
       "      <td>Forklift</td>\n",
       "      <td>Contact-Contusion</td>\n",
       "      <td>Medium</td>\n",
       "    </tr>\n",
       "    <tr>\n",
       "      <th>4</th>\n",
       "      <td>1</td>\n",
       "      <td>Low</td>\n",
       "      <td>Low</td>\n",
       "      <td>Low</td>\n",
       "      <td>High</td>\n",
       "      <td>Engine-Mount</td>\n",
       "      <td>Forklift</td>\n",
       "      <td>Contact-Contusion</td>\n",
       "      <td>High</td>\n",
       "    </tr>\n",
       "    <tr>\n",
       "      <th>...</th>\n",
       "      <td>...</td>\n",
       "      <td>...</td>\n",
       "      <td>...</td>\n",
       "      <td>...</td>\n",
       "      <td>...</td>\n",
       "      <td>...</td>\n",
       "      <td>...</td>\n",
       "      <td>...</td>\n",
       "      <td>...</td>\n",
       "    </tr>\n",
       "    <tr>\n",
       "      <th>924</th>\n",
       "      <td>30</td>\n",
       "      <td>High</td>\n",
       "      <td>High</td>\n",
       "      <td>High</td>\n",
       "      <td>Low</td>\n",
       "      <td>Oil-Fill</td>\n",
       "      <td>Oil</td>\n",
       "      <td>Chemical-Burn</td>\n",
       "      <td>High</td>\n",
       "    </tr>\n",
       "    <tr>\n",
       "      <th>925</th>\n",
       "      <td>30</td>\n",
       "      <td>High</td>\n",
       "      <td>High</td>\n",
       "      <td>High</td>\n",
       "      <td>Low</td>\n",
       "      <td>Oil-Fill</td>\n",
       "      <td>Oil</td>\n",
       "      <td>Chemical-Burn</td>\n",
       "      <td>High</td>\n",
       "    </tr>\n",
       "    <tr>\n",
       "      <th>926</th>\n",
       "      <td>30</td>\n",
       "      <td>High</td>\n",
       "      <td>High</td>\n",
       "      <td>High</td>\n",
       "      <td>Low</td>\n",
       "      <td>Oil-Fill</td>\n",
       "      <td>Front-Right-Door</td>\n",
       "      <td>Chemical-Burn</td>\n",
       "      <td>Medium</td>\n",
       "    </tr>\n",
       "    <tr>\n",
       "      <th>927</th>\n",
       "      <td>30</td>\n",
       "      <td>High</td>\n",
       "      <td>High</td>\n",
       "      <td>High</td>\n",
       "      <td>Low</td>\n",
       "      <td>Oil-Fill</td>\n",
       "      <td>Front-Right-Door</td>\n",
       "      <td>Chemical-Burn</td>\n",
       "      <td>Medium</td>\n",
       "    </tr>\n",
       "    <tr>\n",
       "      <th>928</th>\n",
       "      <td>30</td>\n",
       "      <td>High</td>\n",
       "      <td>High</td>\n",
       "      <td>High</td>\n",
       "      <td>Low</td>\n",
       "      <td>Oil-Fill</td>\n",
       "      <td>Front-Right-Door</td>\n",
       "      <td>Chemical-Burn</td>\n",
       "      <td>Low</td>\n",
       "    </tr>\n",
       "  </tbody>\n",
       "</table>\n",
       "<p>900 rows × 9 columns</p>\n",
       "</div>"
      ],
      "text/plain": [
       "     Time Training Exertion Experience WorkCapacity       Process  \\\n",
       "0       1      Low      Low        Low         High  Engine-Mount   \n",
       "1       1      Low      Low        Low         High  Engine-Mount   \n",
       "2       1      Low      Low        Low         High  Engine-Mount   \n",
       "3       1      Low      Low        Low         High  Engine-Mount   \n",
       "4       1      Low      Low        Low         High  Engine-Mount   \n",
       "..    ...      ...      ...        ...          ...           ...   \n",
       "924    30     High     High       High          Low      Oil-Fill   \n",
       "925    30     High     High       High          Low      Oil-Fill   \n",
       "926    30     High     High       High          Low      Oil-Fill   \n",
       "927    30     High     High       High          Low      Oil-Fill   \n",
       "928    30     High     High       High          Low      Oil-Fill   \n",
       "\n",
       "                 Tool             Injury Absenteeism  \n",
       "0            Forklift           Fall-Gtm        High  \n",
       "1            Forklift  Contact-Contusion        High  \n",
       "2            Forklift           Fall-Gtm        High  \n",
       "3            Forklift  Contact-Contusion      Medium  \n",
       "4            Forklift  Contact-Contusion        High  \n",
       "..                ...                ...         ...  \n",
       "924               Oil      Chemical-Burn        High  \n",
       "925               Oil      Chemical-Burn        High  \n",
       "926  Front-Right-Door      Chemical-Burn      Medium  \n",
       "927  Front-Right-Door      Chemical-Burn      Medium  \n",
       "928  Front-Right-Door      Chemical-Burn         Low  \n",
       "\n",
       "[900 rows x 9 columns]"
      ]
     },
     "execution_count": 4,
     "metadata": {},
     "output_type": "execute_result"
    }
   ],
   "source": [
    "# Reading in the use case data\n",
    "# NOTE: reading in every column as string type so the Time variable will come out string\n",
    "usecaseData: DataFrame = pd.read_csv(dataPath + 'WIKI_USECASES_4_5.csv', delimiter = ',', dtype = str)\n",
    "usecaseData = cleanData(usecaseData)\n",
    "\n",
    "# Now convert the Time to int:\n",
    "usecaseData[Time.var] = usecaseData[Time.var].astype(int)\n",
    "\n",
    "data = usecaseData\n",
    "# TODO: Option to later concat with white noise data (like in CarDemo Manual from CausalnexStudy)\n",
    "data"
   ]
  },
  {
   "cell_type": "code",
   "execution_count": 5,
   "metadata": {
    "title": "codecell"
   },
   "outputs": [
    {
     "data": {
      "text/plain": [
       "{'Time': [1,\n",
       "  2,\n",
       "  3,\n",
       "  4,\n",
       "  5,\n",
       "  6,\n",
       "  7,\n",
       "  8,\n",
       "  9,\n",
       "  10,\n",
       "  11,\n",
       "  12,\n",
       "  13,\n",
       "  14,\n",
       "  15,\n",
       "  16,\n",
       "  17,\n",
       "  18,\n",
       "  19,\n",
       "  20,\n",
       "  21,\n",
       "  22,\n",
       "  23,\n",
       "  24,\n",
       "  25,\n",
       "  26,\n",
       "  27,\n",
       "  28,\n",
       "  29,\n",
       "  30],\n",
       " 'Training': ['High', 'Low', 'Medium'],\n",
       " 'Exertion': ['High', 'Low', 'Medium'],\n",
       " 'Experience': ['High', 'Low', 'Medium'],\n",
       " 'WorkCapacity': ['High', 'Low', 'Medium'],\n",
       " 'Process': ['Engine-Mount', 'Engine-Wiring', 'Oil-Fill'],\n",
       " 'Tool': ['Forklift', 'Front-Right-Door', 'Oil', 'Power-Gun'],\n",
       " 'Injury': ['Chemical-Burn',\n",
       "  'Contact-Contusion',\n",
       "  'Electrical-Shock',\n",
       "  'Fall-Gtm'],\n",
       " 'Absenteeism': ['High', 'Low', 'Medium']}"
      ]
     },
     "execution_count": 5,
     "metadata": {},
     "output_type": "execute_result"
    }
   ],
   "source": [
    "dataDict: Dict[Name, List[State]] = dict([(var, list(np.unique(data[var]))) for var in data.columns])\n",
    "dataDict"
   ]
  },
  {
   "cell_type": "markdown",
   "metadata": {
    "title": "markdown"
   },
   "source": [
    "## Step 2: Create Network Structure"
   ]
  },
  {
   "cell_type": "code",
   "execution_count": 6,
   "metadata": {
    "title": "codecell"
   },
   "outputs": [
    {
     "data": {
      "image/svg+xml": [
       "<?xml version=\"1.0\" encoding=\"UTF-8\" standalone=\"no\"?>\n",
       "<!DOCTYPE svg PUBLIC \"-//W3C//DTD SVG 1.1//EN\"\n",
       " \"http://www.w3.org/Graphics/SVG/1.1/DTD/svg11.dtd\">\n",
       "<!-- Generated by graphviz version 2.38.0 (20140413.2041)\n",
       " -->\n",
       "<!-- Title: G Pages: 1 -->\n",
       "<svg width=\"504pt\" height=\"260pt\"\n",
       " viewBox=\"0.00 0.00 504.05 260.00\" xmlns=\"http://www.w3.org/2000/svg\" xmlns:xlink=\"http://www.w3.org/1999/xlink\">\n",
       "<g id=\"graph0\" class=\"graph\" transform=\"scale(1 1) rotate(0) translate(4 256)\">\n",
       "<title>G</title>\n",
       "<polygon fill=\"white\" stroke=\"none\" points=\"-4,4 -4,-256 500.053,-256 500.053,4 -4,4\"/>\n",
       "<!-- Exertion -->\n",
       "<g id=\"node1\" class=\"node\"><title>Exertion</title>\n",
       "<defs>\n",
       "<linearGradient id=\"l_0\" gradientUnits=\"userSpaceOnUse\" x1=\"40.6287\" y1=\"-144\" x2=\"40.6287\" y2=\"-180\" >\n",
       "<stop offset=\"0\" style=\"stop-color:#ceccff;stop-opacity:1.;\"/>\n",
       "<stop offset=\"1\" style=\"stop-color:white;stop-opacity:1.;\"/>\n",
       "</linearGradient>\n",
       "</defs>\n",
       "<ellipse fill=\"url(#l_0)\" stroke=\"#ff638d\" cx=\"40.6287\" cy=\"-162\" rx=\"40.7579\" ry=\"18\"/>\n",
       "<text text-anchor=\"middle\" x=\"40.6287\" y=\"-158.9\" font-family=\"Acme-Regular.ttf\" font-size=\"12.00\">Exertion</text>\n",
       "</g>\n",
       "<!-- WorkCapacity -->\n",
       "<g id=\"node2\" class=\"node\"><title>WorkCapacity</title>\n",
       "<defs>\n",
       "<linearGradient id=\"l_1\" gradientUnits=\"userSpaceOnUse\" x1=\"188.629\" y1=\"-72\" x2=\"188.629\" y2=\"-108\" >\n",
       "<stop offset=\"0\" style=\"stop-color:#ceccff;stop-opacity:1.;\"/>\n",
       "<stop offset=\"1\" style=\"stop-color:white;stop-opacity:1.;\"/>\n",
       "</linearGradient>\n",
       "</defs>\n",
       "<ellipse fill=\"url(#l_1)\" stroke=\"#ff638d\" cx=\"188.629\" cy=\"-90\" rx=\"60.8863\" ry=\"18\"/>\n",
       "<text text-anchor=\"middle\" x=\"188.629\" y=\"-86.9\" font-family=\"Acme-Regular.ttf\" font-size=\"12.00\">WorkCapacity</text>\n",
       "</g>\n",
       "<!-- Exertion&#45;&gt;WorkCapacity -->\n",
       "<g id=\"edge1\" class=\"edge\"><title>Exertion&#45;&gt;WorkCapacity</title>\n",
       "<path fill=\"none\" stroke=\"#ff638d\" d=\"M67.4304,-148.324C90.0581,-137.621 122.791,-122.14 148.537,-109.962\"/>\n",
       "<polygon fill=\"#ff638d\" stroke=\"#ff638d\" points=\"150.131,-113.08 157.674,-105.641 147.138,-106.752 150.131,-113.08\"/>\n",
       "</g>\n",
       "<!-- Absenteeism -->\n",
       "<g id=\"node3\" class=\"node\"><title>Absenteeism</title>\n",
       "<defs>\n",
       "<linearGradient id=\"l_2\" gradientUnits=\"userSpaceOnUse\" x1=\"382.629\" y1=\"-1.77636e-14\" x2=\"382.629\" y2=\"-36\" >\n",
       "<stop offset=\"0\" style=\"stop-color:#ceccff;stop-opacity:1.;\"/>\n",
       "<stop offset=\"1\" style=\"stop-color:white;stop-opacity:1.;\"/>\n",
       "</linearGradient>\n",
       "</defs>\n",
       "<ellipse fill=\"url(#l_2)\" stroke=\"#ff638d\" cx=\"382.629\" cy=\"-18\" rx=\"57.7307\" ry=\"18\"/>\n",
       "<text text-anchor=\"middle\" x=\"382.629\" y=\"-14.9\" font-family=\"Acme-Regular.ttf\" font-size=\"12.00\">Absenteeism</text>\n",
       "</g>\n",
       "<!-- WorkCapacity&#45;&gt;Absenteeism -->\n",
       "<g id=\"edge2\" class=\"edge\"><title>WorkCapacity&#45;&gt;Absenteeism</title>\n",
       "<path fill=\"none\" stroke=\"#ff638d\" d=\"M225.575,-75.6688C257.094,-64.2961 302.559,-47.8911 336.469,-35.6556\"/>\n",
       "<polygon fill=\"#ff638d\" stroke=\"#ff638d\" points=\"337.93,-38.8493 346.149,-32.1629 335.554,-32.2648 337.93,-38.8493\"/>\n",
       "</g>\n",
       "<!-- Experience -->\n",
       "<g id=\"node4\" class=\"node\"><title>Experience</title>\n",
       "<defs>\n",
       "<linearGradient id=\"l_3\" gradientUnits=\"userSpaceOnUse\" x1=\"188.629\" y1=\"-144\" x2=\"188.629\" y2=\"-180\" >\n",
       "<stop offset=\"0\" style=\"stop-color:#ceccff;stop-opacity:1.;\"/>\n",
       "<stop offset=\"1\" style=\"stop-color:white;stop-opacity:1.;\"/>\n",
       "</linearGradient>\n",
       "</defs>\n",
       "<ellipse fill=\"url(#l_3)\" stroke=\"#ff638d\" cx=\"188.629\" cy=\"-162\" rx=\"51.1876\" ry=\"18\"/>\n",
       "<text text-anchor=\"middle\" x=\"188.629\" y=\"-158.9\" font-family=\"Acme-Regular.ttf\" font-size=\"12.00\">Experience</text>\n",
       "</g>\n",
       "<!-- Experience&#45;&gt;WorkCapacity -->\n",
       "<g id=\"edge3\" class=\"edge\"><title>Experience&#45;&gt;WorkCapacity</title>\n",
       "<path fill=\"none\" stroke=\"#ff638d\" d=\"M188.629,-143.697C188.629,-135.983 188.629,-126.712 188.629,-118.112\"/>\n",
       "<polygon fill=\"#ff638d\" stroke=\"#ff638d\" points=\"192.129,-118.104 188.629,-108.104 185.129,-118.104 192.129,-118.104\"/>\n",
       "</g>\n",
       "<!-- Training -->\n",
       "<g id=\"node5\" class=\"node\"><title>Training</title>\n",
       "<defs>\n",
       "<linearGradient id=\"l_4\" gradientUnits=\"userSpaceOnUse\" x1=\"296.629\" y1=\"-144\" x2=\"296.629\" y2=\"-180\" >\n",
       "<stop offset=\"0\" style=\"stop-color:#ceccff;stop-opacity:1.;\"/>\n",
       "<stop offset=\"1\" style=\"stop-color:white;stop-opacity:1.;\"/>\n",
       "</linearGradient>\n",
       "</defs>\n",
       "<ellipse fill=\"url(#l_4)\" stroke=\"#ff638d\" cx=\"296.629\" cy=\"-162\" rx=\"39.2954\" ry=\"18\"/>\n",
       "<text text-anchor=\"middle\" x=\"296.629\" y=\"-158.9\" font-family=\"Acme-Regular.ttf\" font-size=\"12.00\">Training</text>\n",
       "</g>\n",
       "<!-- Training&#45;&gt;WorkCapacity -->\n",
       "<g id=\"edge4\" class=\"edge\"><title>Training&#45;&gt;WorkCapacity</title>\n",
       "<path fill=\"none\" stroke=\"#ff638d\" d=\"M274.773,-146.834C259.447,-136.901 238.689,-123.447 221.39,-112.234\"/>\n",
       "<polygon fill=\"#ff638d\" stroke=\"#ff638d\" points=\"223.002,-109.108 212.706,-106.606 219.194,-114.982 223.002,-109.108\"/>\n",
       "</g>\n",
       "<!-- Time -->\n",
       "<g id=\"node6\" class=\"node\"><title>Time</title>\n",
       "<defs>\n",
       "<linearGradient id=\"l_5\" gradientUnits=\"userSpaceOnUse\" x1=\"188.629\" y1=\"-216\" x2=\"188.629\" y2=\"-252\" >\n",
       "<stop offset=\"0\" style=\"stop-color:#ceccff;stop-opacity:1.;\"/>\n",
       "<stop offset=\"1\" style=\"stop-color:white;stop-opacity:1.;\"/>\n",
       "</linearGradient>\n",
       "</defs>\n",
       "<ellipse fill=\"url(#l_5)\" stroke=\"#ff638d\" cx=\"188.629\" cy=\"-234\" rx=\"28.8653\" ry=\"18\"/>\n",
       "<text text-anchor=\"middle\" x=\"188.629\" y=\"-230.9\" font-family=\"Acme-Regular.ttf\" font-size=\"12.00\">Time</text>\n",
       "</g>\n",
       "<!-- Time&#45;&gt;Exertion -->\n",
       "<g id=\"edge7\" class=\"edge\"><title>Time&#45;&gt;Exertion</title>\n",
       "<path fill=\"none\" stroke=\"#ff638d\" d=\"M166.151,-222.369C142.321,-211.098 104.34,-193.134 76.3925,-179.915\"/>\n",
       "<polygon fill=\"#ff638d\" stroke=\"#ff638d\" points=\"77.8704,-176.743 67.334,-175.631 74.8774,-183.07 77.8704,-176.743\"/>\n",
       "</g>\n",
       "<!-- Time&#45;&gt;WorkCapacity -->\n",
       "<g id=\"edge5\" class=\"edge\"><title>Time&#45;&gt;WorkCapacity</title>\n",
       "<path fill=\"none\" stroke=\"#ff638d\" d=\"M168.06,-221.338C154.068,-212.128 136.685,-197.865 128.629,-180 122.052,-165.414 122.052,-158.586 128.629,-144 134.174,-131.703 144.138,-121.112 154.374,-112.702\"/>\n",
       "<polygon fill=\"#ff638d\" stroke=\"#ff638d\" points=\"156.75,-115.291 162.562,-106.433 152.494,-109.733 156.75,-115.291\"/>\n",
       "</g>\n",
       "<!-- Time&#45;&gt;Absenteeism -->\n",
       "<g id=\"edge6\" class=\"edge\"><title>Time&#45;&gt;Absenteeism</title>\n",
       "<path fill=\"none\" stroke=\"#ff638d\" d=\"M217.308,-231.387C252.496,-227.821 311.545,-216.413 344.629,-180 378.408,-142.822 383.768,-81.2912 383.774,-46.0394\"/>\n",
       "<polygon fill=\"#ff638d\" stroke=\"#ff638d\" points=\"387.273,-45.9475 383.629,-35.9989 380.274,-46.0483 387.273,-45.9475\"/>\n",
       "</g>\n",
       "<!-- Time&#45;&gt;Experience -->\n",
       "<g id=\"edge8\" class=\"edge\"><title>Time&#45;&gt;Experience</title>\n",
       "<path fill=\"none\" stroke=\"#ff638d\" d=\"M188.629,-215.697C188.629,-207.983 188.629,-198.712 188.629,-190.112\"/>\n",
       "<polygon fill=\"#ff638d\" stroke=\"#ff638d\" points=\"192.129,-190.104 188.629,-180.104 185.129,-190.104 192.129,-190.104\"/>\n",
       "</g>\n",
       "<!-- Time&#45;&gt;Training -->\n",
       "<g id=\"edge9\" class=\"edge\"><title>Time&#45;&gt;Training</title>\n",
       "<path fill=\"none\" stroke=\"#ff638d\" d=\"M207.937,-220.485C224.174,-209.961 247.668,-194.734 266.397,-182.595\"/>\n",
       "<polygon fill=\"#ff638d\" stroke=\"#ff638d\" points=\"268.401,-185.467 274.889,-177.091 264.594,-179.593 268.401,-185.467\"/>\n",
       "</g>\n",
       "<!-- Process -->\n",
       "<g id=\"node7\" class=\"node\"><title>Process</title>\n",
       "<defs>\n",
       "<linearGradient id=\"l_6\" gradientUnits=\"userSpaceOnUse\" x1=\"456.629\" y1=\"-216\" x2=\"456.629\" y2=\"-252\" >\n",
       "<stop offset=\"0\" style=\"stop-color:#ceccff;stop-opacity:1.;\"/>\n",
       "<stop offset=\"1\" style=\"stop-color:white;stop-opacity:1.;\"/>\n",
       "</linearGradient>\n",
       "</defs>\n",
       "<ellipse fill=\"url(#l_6)\" stroke=\"#ff638d\" cx=\"456.629\" cy=\"-234\" rx=\"38.5652\" ry=\"18\"/>\n",
       "<text text-anchor=\"middle\" x=\"456.629\" y=\"-230.9\" font-family=\"Acme-Regular.ttf\" font-size=\"12.00\">Process</text>\n",
       "</g>\n",
       "<!-- Process&#45;&gt;Absenteeism -->\n",
       "<g id=\"edge12\" class=\"edge\"><title>Process&#45;&gt;Absenteeism</title>\n",
       "<path fill=\"none\" stroke=\"#ff638d\" d=\"M443.28,-216.741C435.641,-206.698 426.449,-193.237 420.629,-180 401.001,-135.357 390.693,-79.103 385.976,-46.2823\"/>\n",
       "<polygon fill=\"#ff638d\" stroke=\"#ff638d\" points=\"389.407,-45.5352 384.586,-36.1008 382.471,-46.4825 389.407,-45.5352\"/>\n",
       "</g>\n",
       "<!-- Tool -->\n",
       "<g id=\"node8\" class=\"node\"><title>Tool</title>\n",
       "<defs>\n",
       "<linearGradient id=\"l_7\" gradientUnits=\"userSpaceOnUse\" x1=\"456.629\" y1=\"-144\" x2=\"456.629\" y2=\"-180\" >\n",
       "<stop offset=\"0\" style=\"stop-color:#ceccff;stop-opacity:1.;\"/>\n",
       "<stop offset=\"1\" style=\"stop-color:white;stop-opacity:1.;\"/>\n",
       "</linearGradient>\n",
       "</defs>\n",
       "<ellipse fill=\"url(#l_7)\" stroke=\"#ff638d\" cx=\"456.629\" cy=\"-162\" rx=\"27\" ry=\"18\"/>\n",
       "<text text-anchor=\"middle\" x=\"456.629\" y=\"-158.9\" font-family=\"Acme-Regular.ttf\" font-size=\"12.00\">Tool</text>\n",
       "</g>\n",
       "<!-- Process&#45;&gt;Tool -->\n",
       "<g id=\"edge10\" class=\"edge\"><title>Process&#45;&gt;Tool</title>\n",
       "<path fill=\"none\" stroke=\"#ff638d\" d=\"M456.629,-215.697C456.629,-207.983 456.629,-198.712 456.629,-190.112\"/>\n",
       "<polygon fill=\"#ff638d\" stroke=\"#ff638d\" points=\"460.129,-190.104 456.629,-180.104 453.129,-190.104 460.129,-190.104\"/>\n",
       "</g>\n",
       "<!-- Injury -->\n",
       "<g id=\"node9\" class=\"node\"><title>Injury</title>\n",
       "<defs>\n",
       "<linearGradient id=\"l_8\" gradientUnits=\"userSpaceOnUse\" x1=\"460.629\" y1=\"-72\" x2=\"460.629\" y2=\"-108\" >\n",
       "<stop offset=\"0\" style=\"stop-color:#ceccff;stop-opacity:1.;\"/>\n",
       "<stop offset=\"1\" style=\"stop-color:white;stop-opacity:1.;\"/>\n",
       "</linearGradient>\n",
       "</defs>\n",
       "<ellipse fill=\"url(#l_8)\" stroke=\"#ff638d\" cx=\"460.629\" cy=\"-90\" rx=\"30.5603\" ry=\"18\"/>\n",
       "<text text-anchor=\"middle\" x=\"460.629\" y=\"-86.9\" font-family=\"Acme-Regular.ttf\" font-size=\"12.00\">Injury</text>\n",
       "</g>\n",
       "<!-- Process&#45;&gt;Injury -->\n",
       "<g id=\"edge11\" class=\"edge\"><title>Process&#45;&gt;Injury</title>\n",
       "<path fill=\"none\" stroke=\"#ff638d\" d=\"M471.118,-217.166C479.161,-207.273 488.379,-193.822 492.629,-180 497.332,-164.707 496.921,-159.414 492.629,-144 489.804,-133.856 484.455,-123.714 478.927,-115.058\"/>\n",
       "<polygon fill=\"#ff638d\" stroke=\"#ff638d\" points=\"481.718,-112.938 473.2,-106.638 475.93,-116.875 481.718,-112.938\"/>\n",
       "</g>\n",
       "<!-- Tool&#45;&gt;Injury -->\n",
       "<g id=\"edge13\" class=\"edge\"><title>Tool&#45;&gt;Injury</title>\n",
       "<path fill=\"none\" stroke=\"#ff638d\" d=\"M457.618,-143.697C458.058,-135.983 458.588,-126.712 459.079,-118.112\"/>\n",
       "<polygon fill=\"#ff638d\" stroke=\"#ff638d\" points=\"462.575,-118.288 459.651,-108.104 455.586,-117.888 462.575,-118.288\"/>\n",
       "</g>\n",
       "<!-- Injury&#45;&gt;Absenteeism -->\n",
       "<g id=\"edge14\" class=\"edge\"><title>Injury&#45;&gt;Absenteeism</title>\n",
       "<path fill=\"none\" stroke=\"#ff638d\" d=\"M444.467,-74.496C433.998,-65.1008 420.14,-52.6635 408.196,-41.9446\"/>\n",
       "<polygon fill=\"#ff638d\" stroke=\"#ff638d\" points=\"410.458,-39.2725 400.678,-35.1982 405.783,-44.4822 410.458,-39.2725\"/>\n",
       "</g>\n",
       "</g>\n",
       "</svg>\n"
      ],
      "text/plain": [
       "<graphviz.dot.Digraph at 0x7f346e102890>"
      ]
     },
     "execution_count": 6,
     "metadata": {},
     "output_type": "execute_result"
    }
   ],
   "source": [
    "\n",
    "carModel: BayesianModel = BayesianModel([\n",
    "    (Exertion.var, WorkCapacity.var),\n",
    "    (Experience.var, WorkCapacity.var),\n",
    "    (Training.var, WorkCapacity.var),\n",
    "    (WorkCapacity.var, Absenteeism.var),\n",
    "\n",
    "    (Time.var, WorkCapacity.var),\n",
    "    (Time.var, Absenteeism.var),\n",
    "    (Time.var, Exertion.var),\n",
    "    (Time.var, Experience.var),\n",
    "    (Time.var, Training.var),\n",
    "\n",
    "    (Process.var, Tool.var),\n",
    "    (Tool.var, Injury.var),\n",
    "    (Process.var, Injury.var),\n",
    "    (Process.var, Absenteeism.var),\n",
    "    (Injury.var, Absenteeism.var)\n",
    "])\n",
    "\n",
    "\n",
    "drawGraph(model = carModel)"
   ]
  },
  {
   "cell_type": "markdown",
   "metadata": {
    "lines_to_next_cell": 0,
    "title": "markdown"
   },
   "source": [
    "## Step 3: Estimate CPDs"
   ]
  },
  {
   "cell_type": "code",
   "execution_count": 7,
   "metadata": {
    "lines_to_next_cell": 2,
    "title": "codecell"
   },
   "outputs": [],
   "source": [
    "from pgmpy.estimators import BayesianEstimator\n",
    "\n",
    "#est: BayesianEstimator = BayesianEstimator(model = carModel, data = data)\n",
    "\n",
    "assert carModel.get_cpds() == [], \"Check cpds are empty beforehand\"\n",
    "\n",
    "carModel.fit(data, estimator = BayesianEstimator,\n",
    "             prior_type = \"BDeu\",\n",
    "             equivalent_sample_size = 10)"
   ]
  },
  {
   "cell_type": "code",
   "execution_count": 8,
   "metadata": {
    "lines_to_next_cell": 0,
    "title": "codecell"
   },
   "outputs": [
    {
     "data": {
      "text/html": [
       "<div>\n",
       "<style scoped>\n",
       "    .dataframe tbody tr th:only-of-type {\n",
       "        vertical-align: middle;\n",
       "    }\n",
       "\n",
       "    .dataframe tbody tr th {\n",
       "        vertical-align: top;\n",
       "    }\n",
       "\n",
       "    .dataframe thead th {\n",
       "        text-align: right;\n",
       "    }\n",
       "</style>\n",
       "<table border=\"1\" class=\"dataframe\">\n",
       "  <thead>\n",
       "    <tr style=\"text-align: right;\">\n",
       "      <th></th>\n",
       "      <th></th>\n",
       "    </tr>\n",
       "    <tr>\n",
       "      <th>Time</th>\n",
       "      <th></th>\n",
       "    </tr>\n",
       "  </thead>\n",
       "  <tbody>\n",
       "    <tr>\n",
       "      <th>1</th>\n",
       "      <td>0.033333</td>\n",
       "    </tr>\n",
       "    <tr>\n",
       "      <th>2</th>\n",
       "      <td>0.033333</td>\n",
       "    </tr>\n",
       "    <tr>\n",
       "      <th>3</th>\n",
       "      <td>0.033333</td>\n",
       "    </tr>\n",
       "    <tr>\n",
       "      <th>4</th>\n",
       "      <td>0.033333</td>\n",
       "    </tr>\n",
       "    <tr>\n",
       "      <th>5</th>\n",
       "      <td>0.033333</td>\n",
       "    </tr>\n",
       "    <tr>\n",
       "      <th>6</th>\n",
       "      <td>0.033333</td>\n",
       "    </tr>\n",
       "    <tr>\n",
       "      <th>7</th>\n",
       "      <td>0.033333</td>\n",
       "    </tr>\n",
       "    <tr>\n",
       "      <th>8</th>\n",
       "      <td>0.033333</td>\n",
       "    </tr>\n",
       "    <tr>\n",
       "      <th>9</th>\n",
       "      <td>0.033333</td>\n",
       "    </tr>\n",
       "    <tr>\n",
       "      <th>10</th>\n",
       "      <td>0.033333</td>\n",
       "    </tr>\n",
       "    <tr>\n",
       "      <th>11</th>\n",
       "      <td>0.033333</td>\n",
       "    </tr>\n",
       "    <tr>\n",
       "      <th>12</th>\n",
       "      <td>0.033333</td>\n",
       "    </tr>\n",
       "    <tr>\n",
       "      <th>13</th>\n",
       "      <td>0.033333</td>\n",
       "    </tr>\n",
       "    <tr>\n",
       "      <th>14</th>\n",
       "      <td>0.033333</td>\n",
       "    </tr>\n",
       "    <tr>\n",
       "      <th>15</th>\n",
       "      <td>0.033333</td>\n",
       "    </tr>\n",
       "    <tr>\n",
       "      <th>16</th>\n",
       "      <td>0.033333</td>\n",
       "    </tr>\n",
       "    <tr>\n",
       "      <th>17</th>\n",
       "      <td>0.033333</td>\n",
       "    </tr>\n",
       "    <tr>\n",
       "      <th>18</th>\n",
       "      <td>0.033333</td>\n",
       "    </tr>\n",
       "    <tr>\n",
       "      <th>19</th>\n",
       "      <td>0.033333</td>\n",
       "    </tr>\n",
       "    <tr>\n",
       "      <th>20</th>\n",
       "      <td>0.033333</td>\n",
       "    </tr>\n",
       "    <tr>\n",
       "      <th>21</th>\n",
       "      <td>0.033333</td>\n",
       "    </tr>\n",
       "    <tr>\n",
       "      <th>22</th>\n",
       "      <td>0.033333</td>\n",
       "    </tr>\n",
       "    <tr>\n",
       "      <th>23</th>\n",
       "      <td>0.033333</td>\n",
       "    </tr>\n",
       "    <tr>\n",
       "      <th>24</th>\n",
       "      <td>0.033333</td>\n",
       "    </tr>\n",
       "    <tr>\n",
       "      <th>25</th>\n",
       "      <td>0.033333</td>\n",
       "    </tr>\n",
       "    <tr>\n",
       "      <th>26</th>\n",
       "      <td>0.033333</td>\n",
       "    </tr>\n",
       "    <tr>\n",
       "      <th>27</th>\n",
       "      <td>0.033333</td>\n",
       "    </tr>\n",
       "    <tr>\n",
       "      <th>28</th>\n",
       "      <td>0.033333</td>\n",
       "    </tr>\n",
       "    <tr>\n",
       "      <th>29</th>\n",
       "      <td>0.033333</td>\n",
       "    </tr>\n",
       "    <tr>\n",
       "      <th>30</th>\n",
       "      <td>0.033333</td>\n",
       "    </tr>\n",
       "  </tbody>\n",
       "</table>\n",
       "</div>"
      ],
      "text/plain": [
       "              \n",
       "Time          \n",
       "1     0.033333\n",
       "2     0.033333\n",
       "3     0.033333\n",
       "4     0.033333\n",
       "5     0.033333\n",
       "6     0.033333\n",
       "7     0.033333\n",
       "8     0.033333\n",
       "9     0.033333\n",
       "10    0.033333\n",
       "11    0.033333\n",
       "12    0.033333\n",
       "13    0.033333\n",
       "14    0.033333\n",
       "15    0.033333\n",
       "16    0.033333\n",
       "17    0.033333\n",
       "18    0.033333\n",
       "19    0.033333\n",
       "20    0.033333\n",
       "21    0.033333\n",
       "22    0.033333\n",
       "23    0.033333\n",
       "24    0.033333\n",
       "25    0.033333\n",
       "26    0.033333\n",
       "27    0.033333\n",
       "28    0.033333\n",
       "29    0.033333\n",
       "30    0.033333"
      ]
     },
     "execution_count": 8,
     "metadata": {},
     "output_type": "execute_result"
    }
   ],
   "source": [
    "conditionalDistDf(carModel, query= Time)"
   ]
  },
  {
   "cell_type": "code",
   "execution_count": 9,
   "metadata": {
    "lines_to_next_cell": 0,
    "title": "codecell"
   },
   "outputs": [
    {
     "data": {
      "text/html": [
       "<div>\n",
       "<style scoped>\n",
       "    .dataframe tbody tr th:only-of-type {\n",
       "        vertical-align: middle;\n",
       "    }\n",
       "\n",
       "    .dataframe tbody tr th {\n",
       "        vertical-align: top;\n",
       "    }\n",
       "\n",
       "    .dataframe thead th {\n",
       "        text-align: right;\n",
       "    }\n",
       "</style>\n",
       "<table border=\"1\" class=\"dataframe\">\n",
       "  <thead>\n",
       "    <tr style=\"text-align: right;\">\n",
       "      <th></th>\n",
       "      <th></th>\n",
       "    </tr>\n",
       "    <tr>\n",
       "      <th>Process</th>\n",
       "      <th></th>\n",
       "    </tr>\n",
       "  </thead>\n",
       "  <tbody>\n",
       "    <tr>\n",
       "      <th>Engine-Mount</th>\n",
       "      <td>0.333333</td>\n",
       "    </tr>\n",
       "    <tr>\n",
       "      <th>Engine-Wiring</th>\n",
       "      <td>0.432234</td>\n",
       "    </tr>\n",
       "    <tr>\n",
       "      <th>Oil-Fill</th>\n",
       "      <td>0.234432</td>\n",
       "    </tr>\n",
       "  </tbody>\n",
       "</table>\n",
       "</div>"
      ],
      "text/plain": [
       "                       \n",
       "Process                \n",
       "Engine-Mount   0.333333\n",
       "Engine-Wiring  0.432234\n",
       "Oil-Fill       0.234432"
      ]
     },
     "execution_count": 9,
     "metadata": {},
     "output_type": "execute_result"
    }
   ],
   "source": [
    "conditionalDistDf(carModel, query= Process)"
   ]
  },
  {
   "cell_type": "code",
   "execution_count": 10,
   "metadata": {
    "lines_to_next_cell": 0,
    "title": "codecell"
   },
   "outputs": [
    {
     "data": {
      "text/html": [
       "<div>\n",
       "<style scoped>\n",
       "    .dataframe tbody tr th:only-of-type {\n",
       "        vertical-align: middle;\n",
       "    }\n",
       "\n",
       "    .dataframe tbody tr th {\n",
       "        vertical-align: top;\n",
       "    }\n",
       "\n",
       "    .dataframe thead th {\n",
       "        text-align: right;\n",
       "    }\n",
       "</style>\n",
       "<table border=\"1\" class=\"dataframe\">\n",
       "  <thead>\n",
       "    <tr style=\"text-align: right;\">\n",
       "      <th>Tool</th>\n",
       "      <th>Forklift</th>\n",
       "      <th>Front-Right-Door</th>\n",
       "      <th>Oil</th>\n",
       "      <th>Power-Gun</th>\n",
       "    </tr>\n",
       "    <tr>\n",
       "      <th>Process</th>\n",
       "      <th></th>\n",
       "      <th></th>\n",
       "      <th></th>\n",
       "      <th></th>\n",
       "    </tr>\n",
       "  </thead>\n",
       "  <tbody>\n",
       "    <tr>\n",
       "      <th>Engine-Mount</th>\n",
       "      <td>0.991758</td>\n",
       "      <td>0.002747</td>\n",
       "      <td>0.002747</td>\n",
       "      <td>0.002747</td>\n",
       "    </tr>\n",
       "    <tr>\n",
       "      <th>Engine-Wiring</th>\n",
       "      <td>0.002119</td>\n",
       "      <td>0.002119</td>\n",
       "      <td>0.002119</td>\n",
       "      <td>0.993644</td>\n",
       "    </tr>\n",
       "    <tr>\n",
       "      <th>Oil-Fill</th>\n",
       "      <td>0.003906</td>\n",
       "      <td>0.425781</td>\n",
       "      <td>0.566406</td>\n",
       "      <td>0.003906</td>\n",
       "    </tr>\n",
       "  </tbody>\n",
       "</table>\n",
       "</div>"
      ],
      "text/plain": [
       "Tool           Forklift  Front-Right-Door       Oil  Power-Gun\n",
       "Process                                                       \n",
       "Engine-Mount   0.991758          0.002747  0.002747   0.002747\n",
       "Engine-Wiring  0.002119          0.002119  0.002119   0.993644\n",
       "Oil-Fill       0.003906          0.425781  0.566406   0.003906"
      ]
     },
     "execution_count": 10,
     "metadata": {},
     "output_type": "execute_result"
    }
   ],
   "source": [
    "conditionalDistDf(carModel, query= Tool)"
   ]
  },
  {
   "cell_type": "code",
   "execution_count": 11,
   "metadata": {
    "lines_to_next_cell": 0,
    "title": "codecell"
   },
   "outputs": [
    {
     "data": {
      "text/html": [
       "<div>\n",
       "<style scoped>\n",
       "    .dataframe tbody tr th:only-of-type {\n",
       "        vertical-align: middle;\n",
       "    }\n",
       "\n",
       "    .dataframe tbody tr th {\n",
       "        vertical-align: top;\n",
       "    }\n",
       "\n",
       "    .dataframe thead th {\n",
       "        text-align: right;\n",
       "    }\n",
       "</style>\n",
       "<table border=\"1\" class=\"dataframe\">\n",
       "  <thead>\n",
       "    <tr style=\"text-align: right;\">\n",
       "      <th>Experience</th>\n",
       "      <th>High</th>\n",
       "      <th>Low</th>\n",
       "      <th>Medium</th>\n",
       "    </tr>\n",
       "    <tr>\n",
       "      <th>Time</th>\n",
       "      <th></th>\n",
       "      <th></th>\n",
       "      <th></th>\n",
       "    </tr>\n",
       "  </thead>\n",
       "  <tbody>\n",
       "    <tr>\n",
       "      <th>1</th>\n",
       "      <td>0.003663</td>\n",
       "      <td>0.992674</td>\n",
       "      <td>0.003663</td>\n",
       "    </tr>\n",
       "    <tr>\n",
       "      <th>2</th>\n",
       "      <td>0.003663</td>\n",
       "      <td>0.992674</td>\n",
       "      <td>0.003663</td>\n",
       "    </tr>\n",
       "    <tr>\n",
       "      <th>3</th>\n",
       "      <td>0.003663</td>\n",
       "      <td>0.992674</td>\n",
       "      <td>0.003663</td>\n",
       "    </tr>\n",
       "    <tr>\n",
       "      <th>4</th>\n",
       "      <td>0.003663</td>\n",
       "      <td>0.003663</td>\n",
       "      <td>0.992674</td>\n",
       "    </tr>\n",
       "    <tr>\n",
       "      <th>5</th>\n",
       "      <td>0.003663</td>\n",
       "      <td>0.003663</td>\n",
       "      <td>0.992674</td>\n",
       "    </tr>\n",
       "    <tr>\n",
       "      <th>6</th>\n",
       "      <td>0.003663</td>\n",
       "      <td>0.992674</td>\n",
       "      <td>0.003663</td>\n",
       "    </tr>\n",
       "    <tr>\n",
       "      <th>7</th>\n",
       "      <td>0.003663</td>\n",
       "      <td>0.992674</td>\n",
       "      <td>0.003663</td>\n",
       "    </tr>\n",
       "    <tr>\n",
       "      <th>8</th>\n",
       "      <td>0.003663</td>\n",
       "      <td>0.992674</td>\n",
       "      <td>0.003663</td>\n",
       "    </tr>\n",
       "    <tr>\n",
       "      <th>9</th>\n",
       "      <td>0.003663</td>\n",
       "      <td>0.992674</td>\n",
       "      <td>0.003663</td>\n",
       "    </tr>\n",
       "    <tr>\n",
       "      <th>10</th>\n",
       "      <td>0.003663</td>\n",
       "      <td>0.992674</td>\n",
       "      <td>0.003663</td>\n",
       "    </tr>\n",
       "    <tr>\n",
       "      <th>11</th>\n",
       "      <td>0.003663</td>\n",
       "      <td>0.003663</td>\n",
       "      <td>0.992674</td>\n",
       "    </tr>\n",
       "    <tr>\n",
       "      <th>12</th>\n",
       "      <td>0.003663</td>\n",
       "      <td>0.003663</td>\n",
       "      <td>0.992674</td>\n",
       "    </tr>\n",
       "    <tr>\n",
       "      <th>13</th>\n",
       "      <td>0.003663</td>\n",
       "      <td>0.992674</td>\n",
       "      <td>0.003663</td>\n",
       "    </tr>\n",
       "    <tr>\n",
       "      <th>14</th>\n",
       "      <td>0.003663</td>\n",
       "      <td>0.003663</td>\n",
       "      <td>0.992674</td>\n",
       "    </tr>\n",
       "    <tr>\n",
       "      <th>15</th>\n",
       "      <td>0.992674</td>\n",
       "      <td>0.003663</td>\n",
       "      <td>0.003663</td>\n",
       "    </tr>\n",
       "    <tr>\n",
       "      <th>16</th>\n",
       "      <td>0.992674</td>\n",
       "      <td>0.003663</td>\n",
       "      <td>0.003663</td>\n",
       "    </tr>\n",
       "    <tr>\n",
       "      <th>17</th>\n",
       "      <td>0.003663</td>\n",
       "      <td>0.003663</td>\n",
       "      <td>0.992674</td>\n",
       "    </tr>\n",
       "    <tr>\n",
       "      <th>18</th>\n",
       "      <td>0.992674</td>\n",
       "      <td>0.003663</td>\n",
       "      <td>0.003663</td>\n",
       "    </tr>\n",
       "    <tr>\n",
       "      <th>19</th>\n",
       "      <td>0.003663</td>\n",
       "      <td>0.003663</td>\n",
       "      <td>0.992674</td>\n",
       "    </tr>\n",
       "    <tr>\n",
       "      <th>20</th>\n",
       "      <td>0.003663</td>\n",
       "      <td>0.003663</td>\n",
       "      <td>0.992674</td>\n",
       "    </tr>\n",
       "    <tr>\n",
       "      <th>21</th>\n",
       "      <td>0.003663</td>\n",
       "      <td>0.003663</td>\n",
       "      <td>0.992674</td>\n",
       "    </tr>\n",
       "    <tr>\n",
       "      <th>22</th>\n",
       "      <td>0.992674</td>\n",
       "      <td>0.003663</td>\n",
       "      <td>0.003663</td>\n",
       "    </tr>\n",
       "    <tr>\n",
       "      <th>23</th>\n",
       "      <td>0.992674</td>\n",
       "      <td>0.003663</td>\n",
       "      <td>0.003663</td>\n",
       "    </tr>\n",
       "    <tr>\n",
       "      <th>24</th>\n",
       "      <td>0.992674</td>\n",
       "      <td>0.003663</td>\n",
       "      <td>0.003663</td>\n",
       "    </tr>\n",
       "    <tr>\n",
       "      <th>25</th>\n",
       "      <td>0.992674</td>\n",
       "      <td>0.003663</td>\n",
       "      <td>0.003663</td>\n",
       "    </tr>\n",
       "    <tr>\n",
       "      <th>26</th>\n",
       "      <td>0.003663</td>\n",
       "      <td>0.003663</td>\n",
       "      <td>0.992674</td>\n",
       "    </tr>\n",
       "    <tr>\n",
       "      <th>27</th>\n",
       "      <td>0.992674</td>\n",
       "      <td>0.003663</td>\n",
       "      <td>0.003663</td>\n",
       "    </tr>\n",
       "    <tr>\n",
       "      <th>28</th>\n",
       "      <td>0.992674</td>\n",
       "      <td>0.003663</td>\n",
       "      <td>0.003663</td>\n",
       "    </tr>\n",
       "    <tr>\n",
       "      <th>29</th>\n",
       "      <td>0.992674</td>\n",
       "      <td>0.003663</td>\n",
       "      <td>0.003663</td>\n",
       "    </tr>\n",
       "    <tr>\n",
       "      <th>30</th>\n",
       "      <td>0.992674</td>\n",
       "      <td>0.003663</td>\n",
       "      <td>0.003663</td>\n",
       "    </tr>\n",
       "  </tbody>\n",
       "</table>\n",
       "</div>"
      ],
      "text/plain": [
       "Experience      High       Low    Medium\n",
       "Time                                    \n",
       "1           0.003663  0.992674  0.003663\n",
       "2           0.003663  0.992674  0.003663\n",
       "3           0.003663  0.992674  0.003663\n",
       "4           0.003663  0.003663  0.992674\n",
       "5           0.003663  0.003663  0.992674\n",
       "6           0.003663  0.992674  0.003663\n",
       "7           0.003663  0.992674  0.003663\n",
       "8           0.003663  0.992674  0.003663\n",
       "9           0.003663  0.992674  0.003663\n",
       "10          0.003663  0.992674  0.003663\n",
       "11          0.003663  0.003663  0.992674\n",
       "12          0.003663  0.003663  0.992674\n",
       "13          0.003663  0.992674  0.003663\n",
       "14          0.003663  0.003663  0.992674\n",
       "15          0.992674  0.003663  0.003663\n",
       "16          0.992674  0.003663  0.003663\n",
       "17          0.003663  0.003663  0.992674\n",
       "18          0.992674  0.003663  0.003663\n",
       "19          0.003663  0.003663  0.992674\n",
       "20          0.003663  0.003663  0.992674\n",
       "21          0.003663  0.003663  0.992674\n",
       "22          0.992674  0.003663  0.003663\n",
       "23          0.992674  0.003663  0.003663\n",
       "24          0.992674  0.003663  0.003663\n",
       "25          0.992674  0.003663  0.003663\n",
       "26          0.003663  0.003663  0.992674\n",
       "27          0.992674  0.003663  0.003663\n",
       "28          0.992674  0.003663  0.003663\n",
       "29          0.992674  0.003663  0.003663\n",
       "30          0.992674  0.003663  0.003663"
      ]
     },
     "execution_count": 11,
     "metadata": {},
     "output_type": "execute_result"
    }
   ],
   "source": [
    "conditionalDistDf(carModel, query= Experience)"
   ]
  },
  {
   "cell_type": "code",
   "execution_count": 12,
   "metadata": {
    "lines_to_next_cell": 0,
    "title": "codecell"
   },
   "outputs": [
    {
     "data": {
      "text/html": [
       "<div>\n",
       "<style scoped>\n",
       "    .dataframe tbody tr th:only-of-type {\n",
       "        vertical-align: middle;\n",
       "    }\n",
       "\n",
       "    .dataframe tbody tr th {\n",
       "        vertical-align: top;\n",
       "    }\n",
       "\n",
       "    .dataframe thead th {\n",
       "        text-align: right;\n",
       "    }\n",
       "</style>\n",
       "<table border=\"1\" class=\"dataframe\">\n",
       "  <thead>\n",
       "    <tr style=\"text-align: right;\">\n",
       "      <th></th>\n",
       "      <th></th>\n",
       "      <th></th>\n",
       "      <th>WorkCapacity</th>\n",
       "      <th>High</th>\n",
       "      <th>Low</th>\n",
       "      <th>Medium</th>\n",
       "    </tr>\n",
       "    <tr>\n",
       "      <th>Exertion</th>\n",
       "      <th>Experience</th>\n",
       "      <th>Time</th>\n",
       "      <th>Training</th>\n",
       "      <th></th>\n",
       "      <th></th>\n",
       "      <th></th>\n",
       "    </tr>\n",
       "  </thead>\n",
       "  <tbody>\n",
       "    <tr>\n",
       "      <th rowspan=\"5\" valign=\"top\">High</th>\n",
       "      <th rowspan=\"5\" valign=\"top\">High</th>\n",
       "      <th rowspan=\"3\" valign=\"top\">1</th>\n",
       "      <th>High</th>\n",
       "      <td>0.333333</td>\n",
       "      <td>0.333333</td>\n",
       "      <td>0.333333</td>\n",
       "    </tr>\n",
       "    <tr>\n",
       "      <th>Low</th>\n",
       "      <td>0.333333</td>\n",
       "      <td>0.333333</td>\n",
       "      <td>0.333333</td>\n",
       "    </tr>\n",
       "    <tr>\n",
       "      <th>Medium</th>\n",
       "      <td>0.333333</td>\n",
       "      <td>0.333333</td>\n",
       "      <td>0.333333</td>\n",
       "    </tr>\n",
       "    <tr>\n",
       "      <th rowspan=\"2\" valign=\"top\">2</th>\n",
       "      <th>High</th>\n",
       "      <td>0.333333</td>\n",
       "      <td>0.333333</td>\n",
       "      <td>0.333333</td>\n",
       "    </tr>\n",
       "    <tr>\n",
       "      <th>Low</th>\n",
       "      <td>0.333333</td>\n",
       "      <td>0.333333</td>\n",
       "      <td>0.333333</td>\n",
       "    </tr>\n",
       "    <tr>\n",
       "      <th>...</th>\n",
       "      <th>...</th>\n",
       "      <th>...</th>\n",
       "      <th>...</th>\n",
       "      <td>...</td>\n",
       "      <td>...</td>\n",
       "      <td>...</td>\n",
       "    </tr>\n",
       "    <tr>\n",
       "      <th rowspan=\"5\" valign=\"top\">Medium</th>\n",
       "      <th rowspan=\"5\" valign=\"top\">Medium</th>\n",
       "      <th rowspan=\"2\" valign=\"top\">29</th>\n",
       "      <th>Low</th>\n",
       "      <td>0.333333</td>\n",
       "      <td>0.333333</td>\n",
       "      <td>0.333333</td>\n",
       "    </tr>\n",
       "    <tr>\n",
       "      <th>Medium</th>\n",
       "      <td>0.333333</td>\n",
       "      <td>0.333333</td>\n",
       "      <td>0.333333</td>\n",
       "    </tr>\n",
       "    <tr>\n",
       "      <th rowspan=\"3\" valign=\"top\">30</th>\n",
       "      <th>High</th>\n",
       "      <td>0.333333</td>\n",
       "      <td>0.333333</td>\n",
       "      <td>0.333333</td>\n",
       "    </tr>\n",
       "    <tr>\n",
       "      <th>Low</th>\n",
       "      <td>0.333333</td>\n",
       "      <td>0.333333</td>\n",
       "      <td>0.333333</td>\n",
       "    </tr>\n",
       "    <tr>\n",
       "      <th>Medium</th>\n",
       "      <td>0.333333</td>\n",
       "      <td>0.333333</td>\n",
       "      <td>0.333333</td>\n",
       "    </tr>\n",
       "  </tbody>\n",
       "</table>\n",
       "<p>810 rows × 3 columns</p>\n",
       "</div>"
      ],
      "text/plain": [
       "WorkCapacity                           High       Low    Medium\n",
       "Exertion Experience Time Training                              \n",
       "High     High       1    High      0.333333  0.333333  0.333333\n",
       "                         Low       0.333333  0.333333  0.333333\n",
       "                         Medium    0.333333  0.333333  0.333333\n",
       "                    2    High      0.333333  0.333333  0.333333\n",
       "                         Low       0.333333  0.333333  0.333333\n",
       "...                                     ...       ...       ...\n",
       "Medium   Medium     29   Low       0.333333  0.333333  0.333333\n",
       "                         Medium    0.333333  0.333333  0.333333\n",
       "                    30   High      0.333333  0.333333  0.333333\n",
       "                         Low       0.333333  0.333333  0.333333\n",
       "                         Medium    0.333333  0.333333  0.333333\n",
       "\n",
       "[810 rows x 3 columns]"
      ]
     },
     "execution_count": 12,
     "metadata": {},
     "output_type": "execute_result"
    }
   ],
   "source": [
    "conditionalDistDf(carModel, query= WorkCapacity)"
   ]
  },
  {
   "cell_type": "code",
   "execution_count": 13,
   "metadata": {
    "title": "codecell"
   },
   "outputs": [
    {
     "data": {
      "text/html": [
       "<div>\n",
       "<style scoped>\n",
       "    .dataframe tbody tr th:only-of-type {\n",
       "        vertical-align: middle;\n",
       "    }\n",
       "\n",
       "    .dataframe tbody tr th {\n",
       "        vertical-align: top;\n",
       "    }\n",
       "\n",
       "    .dataframe thead th {\n",
       "        text-align: right;\n",
       "    }\n",
       "</style>\n",
       "<table border=\"1\" class=\"dataframe\">\n",
       "  <thead>\n",
       "    <tr style=\"text-align: right;\">\n",
       "      <th></th>\n",
       "      <th>Injury</th>\n",
       "      <th>Chemical-Burn</th>\n",
       "      <th>Contact-Contusion</th>\n",
       "      <th>Electrical-Shock</th>\n",
       "      <th>Fall-Gtm</th>\n",
       "    </tr>\n",
       "    <tr>\n",
       "      <th>Process</th>\n",
       "      <th>Tool</th>\n",
       "      <th></th>\n",
       "      <th></th>\n",
       "      <th></th>\n",
       "      <th></th>\n",
       "    </tr>\n",
       "  </thead>\n",
       "  <tbody>\n",
       "    <tr>\n",
       "      <th rowspan=\"4\" valign=\"top\">Engine-Mount</th>\n",
       "      <th>Forklift</th>\n",
       "      <td>0.499307</td>\n",
       "      <td>0.299861</td>\n",
       "      <td>0.000693</td>\n",
       "      <td>0.200139</td>\n",
       "    </tr>\n",
       "    <tr>\n",
       "      <th>Front-Right-Door</th>\n",
       "      <td>0.250000</td>\n",
       "      <td>0.250000</td>\n",
       "      <td>0.250000</td>\n",
       "      <td>0.250000</td>\n",
       "    </tr>\n",
       "    <tr>\n",
       "      <th>Oil</th>\n",
       "      <td>0.250000</td>\n",
       "      <td>0.250000</td>\n",
       "      <td>0.250000</td>\n",
       "      <td>0.250000</td>\n",
       "    </tr>\n",
       "    <tr>\n",
       "      <th>Power-Gun</th>\n",
       "      <td>0.250000</td>\n",
       "      <td>0.250000</td>\n",
       "      <td>0.250000</td>\n",
       "      <td>0.250000</td>\n",
       "    </tr>\n",
       "    <tr>\n",
       "      <th rowspan=\"4\" valign=\"top\">Engine-Wiring</th>\n",
       "      <th>Forklift</th>\n",
       "      <td>0.250000</td>\n",
       "      <td>0.250000</td>\n",
       "      <td>0.250000</td>\n",
       "      <td>0.250000</td>\n",
       "    </tr>\n",
       "    <tr>\n",
       "      <th>Front-Right-Door</th>\n",
       "      <td>0.250000</td>\n",
       "      <td>0.250000</td>\n",
       "      <td>0.250000</td>\n",
       "      <td>0.250000</td>\n",
       "    </tr>\n",
       "    <tr>\n",
       "      <th>Oil</th>\n",
       "      <td>0.250000</td>\n",
       "      <td>0.250000</td>\n",
       "      <td>0.250000</td>\n",
       "      <td>0.250000</td>\n",
       "    </tr>\n",
       "    <tr>\n",
       "      <th>Power-Gun</th>\n",
       "      <td>0.000533</td>\n",
       "      <td>0.000533</td>\n",
       "      <td>0.537846</td>\n",
       "      <td>0.461087</td>\n",
       "    </tr>\n",
       "    <tr>\n",
       "      <th rowspan=\"4\" valign=\"top\">Oil-Fill</th>\n",
       "      <th>Forklift</th>\n",
       "      <td>0.250000</td>\n",
       "      <td>0.250000</td>\n",
       "      <td>0.250000</td>\n",
       "      <td>0.250000</td>\n",
       "    </tr>\n",
       "    <tr>\n",
       "      <th>Front-Right-Door</th>\n",
       "      <td>0.993119</td>\n",
       "      <td>0.002294</td>\n",
       "      <td>0.002294</td>\n",
       "      <td>0.002294</td>\n",
       "    </tr>\n",
       "    <tr>\n",
       "      <th>Oil</th>\n",
       "      <td>0.994828</td>\n",
       "      <td>0.001724</td>\n",
       "      <td>0.001724</td>\n",
       "      <td>0.001724</td>\n",
       "    </tr>\n",
       "    <tr>\n",
       "      <th>Power-Gun</th>\n",
       "      <td>0.250000</td>\n",
       "      <td>0.250000</td>\n",
       "      <td>0.250000</td>\n",
       "      <td>0.250000</td>\n",
       "    </tr>\n",
       "  </tbody>\n",
       "</table>\n",
       "</div>"
      ],
      "text/plain": [
       "Injury                          Chemical-Burn  Contact-Contusion  \\\n",
       "Process       Tool                                                 \n",
       "Engine-Mount  Forklift               0.499307           0.299861   \n",
       "              Front-Right-Door       0.250000           0.250000   \n",
       "              Oil                    0.250000           0.250000   \n",
       "              Power-Gun              0.250000           0.250000   \n",
       "Engine-Wiring Forklift               0.250000           0.250000   \n",
       "              Front-Right-Door       0.250000           0.250000   \n",
       "              Oil                    0.250000           0.250000   \n",
       "              Power-Gun              0.000533           0.000533   \n",
       "Oil-Fill      Forklift               0.250000           0.250000   \n",
       "              Front-Right-Door       0.993119           0.002294   \n",
       "              Oil                    0.994828           0.001724   \n",
       "              Power-Gun              0.250000           0.250000   \n",
       "\n",
       "Injury                          Electrical-Shock  Fall-Gtm  \n",
       "Process       Tool                                          \n",
       "Engine-Mount  Forklift                  0.000693  0.200139  \n",
       "              Front-Right-Door          0.250000  0.250000  \n",
       "              Oil                       0.250000  0.250000  \n",
       "              Power-Gun                 0.250000  0.250000  \n",
       "Engine-Wiring Forklift                  0.250000  0.250000  \n",
       "              Front-Right-Door          0.250000  0.250000  \n",
       "              Oil                       0.250000  0.250000  \n",
       "              Power-Gun                 0.537846  0.461087  \n",
       "Oil-Fill      Forklift                  0.250000  0.250000  \n",
       "              Front-Right-Door          0.002294  0.002294  \n",
       "              Oil                       0.001724  0.001724  \n",
       "              Power-Gun                 0.250000  0.250000  "
      ]
     },
     "execution_count": 13,
     "metadata": {},
     "output_type": "execute_result"
    }
   ],
   "source": [
    "conditionalDistDf(carModel, query= Injury)"
   ]
  },
  {
   "cell_type": "code",
   "execution_count": 14,
   "metadata": {
    "title": "codecell"
   },
   "outputs": [
    {
     "data": {
      "text/html": [
       "<div>\n",
       "<style scoped>\n",
       "    .dataframe tbody tr th:only-of-type {\n",
       "        vertical-align: middle;\n",
       "    }\n",
       "\n",
       "    .dataframe tbody tr th {\n",
       "        vertical-align: top;\n",
       "    }\n",
       "\n",
       "    .dataframe thead th {\n",
       "        text-align: right;\n",
       "    }\n",
       "</style>\n",
       "<table border=\"1\" class=\"dataframe\">\n",
       "  <thead>\n",
       "    <tr style=\"text-align: right;\">\n",
       "      <th></th>\n",
       "      <th></th>\n",
       "      <th></th>\n",
       "      <th>Absenteeism</th>\n",
       "      <th>High</th>\n",
       "      <th>Low</th>\n",
       "      <th>Medium</th>\n",
       "    </tr>\n",
       "    <tr>\n",
       "      <th>Injury</th>\n",
       "      <th>Process</th>\n",
       "      <th>Time</th>\n",
       "      <th>WorkCapacity</th>\n",
       "      <th></th>\n",
       "      <th></th>\n",
       "      <th></th>\n",
       "    </tr>\n",
       "  </thead>\n",
       "  <tbody>\n",
       "    <tr>\n",
       "      <th rowspan=\"5\" valign=\"top\">Chemical-Burn</th>\n",
       "      <th rowspan=\"5\" valign=\"top\">Engine-Mount</th>\n",
       "      <th rowspan=\"3\" valign=\"top\">1</th>\n",
       "      <th>High</th>\n",
       "      <td>0.000616</td>\n",
       "      <td>0.998768</td>\n",
       "      <td>0.000616</td>\n",
       "    </tr>\n",
       "    <tr>\n",
       "      <th>Low</th>\n",
       "      <td>0.333333</td>\n",
       "      <td>0.333333</td>\n",
       "      <td>0.333333</td>\n",
       "    </tr>\n",
       "    <tr>\n",
       "      <th>Medium</th>\n",
       "      <td>0.333333</td>\n",
       "      <td>0.333333</td>\n",
       "      <td>0.333333</td>\n",
       "    </tr>\n",
       "    <tr>\n",
       "      <th rowspan=\"2\" valign=\"top\">2</th>\n",
       "      <th>High</th>\n",
       "      <td>0.333333</td>\n",
       "      <td>0.333333</td>\n",
       "      <td>0.333333</td>\n",
       "    </tr>\n",
       "    <tr>\n",
       "      <th>Low</th>\n",
       "      <td>0.333333</td>\n",
       "      <td>0.333333</td>\n",
       "      <td>0.333333</td>\n",
       "    </tr>\n",
       "    <tr>\n",
       "      <th>...</th>\n",
       "      <th>...</th>\n",
       "      <th>...</th>\n",
       "      <th>...</th>\n",
       "      <td>...</td>\n",
       "      <td>...</td>\n",
       "      <td>...</td>\n",
       "    </tr>\n",
       "    <tr>\n",
       "      <th rowspan=\"5\" valign=\"top\">Fall-Gtm</th>\n",
       "      <th rowspan=\"5\" valign=\"top\">Oil-Fill</th>\n",
       "      <th rowspan=\"2\" valign=\"top\">29</th>\n",
       "      <th>Low</th>\n",
       "      <td>0.333333</td>\n",
       "      <td>0.333333</td>\n",
       "      <td>0.333333</td>\n",
       "    </tr>\n",
       "    <tr>\n",
       "      <th>Medium</th>\n",
       "      <td>0.333333</td>\n",
       "      <td>0.333333</td>\n",
       "      <td>0.333333</td>\n",
       "    </tr>\n",
       "    <tr>\n",
       "      <th rowspan=\"3\" valign=\"top\">30</th>\n",
       "      <th>High</th>\n",
       "      <td>0.333333</td>\n",
       "      <td>0.333333</td>\n",
       "      <td>0.333333</td>\n",
       "    </tr>\n",
       "    <tr>\n",
       "      <th>Low</th>\n",
       "      <td>0.333333</td>\n",
       "      <td>0.333333</td>\n",
       "      <td>0.333333</td>\n",
       "    </tr>\n",
       "    <tr>\n",
       "      <th>Medium</th>\n",
       "      <td>0.333333</td>\n",
       "      <td>0.333333</td>\n",
       "      <td>0.333333</td>\n",
       "    </tr>\n",
       "  </tbody>\n",
       "</table>\n",
       "<p>1080 rows × 3 columns</p>\n",
       "</div>"
      ],
      "text/plain": [
       "Absenteeism                                       High       Low    Medium\n",
       "Injury        Process      Time WorkCapacity                              \n",
       "Chemical-Burn Engine-Mount 1    High          0.000616  0.998768  0.000616\n",
       "                                Low           0.333333  0.333333  0.333333\n",
       "                                Medium        0.333333  0.333333  0.333333\n",
       "                           2    High          0.333333  0.333333  0.333333\n",
       "                                Low           0.333333  0.333333  0.333333\n",
       "...                                                ...       ...       ...\n",
       "Fall-Gtm      Oil-Fill     29   Low           0.333333  0.333333  0.333333\n",
       "                                Medium        0.333333  0.333333  0.333333\n",
       "                           30   High          0.333333  0.333333  0.333333\n",
       "                                Low           0.333333  0.333333  0.333333\n",
       "                                Medium        0.333333  0.333333  0.333333\n",
       "\n",
       "[1080 rows x 3 columns]"
      ]
     },
     "execution_count": 14,
     "metadata": {},
     "output_type": "execute_result"
    }
   ],
   "source": [
    "conditionalDistDf(carModel, query= Absenteeism)\n",
    "\n",
    "\n",
    "\n"
   ]
  },
  {
   "cell_type": "markdown",
   "metadata": {
    "lines_to_next_cell": 2,
    "title": "markdown"
   },
   "source": [
    "## Step 4: Inference in Bayesian Car Model\n",
    "\n",
    "Now let us verify active trails or independencies, for each kind of chain (causal, evidential, common cause, and common evidence) that can be found along the paths of the car model graph\n",
    "\n",
    "### 1/ Causal Reasoning in the Car Model\n",
    "For a causal model $A \\rightarrow B \\rightarrow C$, there are two cases:\n",
    "  * **Marginal Dependence:** ($B$ unknown): When $B$ is unknown / unobserved, there is an active trail between $A$ and $C$, meaning the probability of $A$ can influence probability of $C$ (and vice versa). We can say $P(A) \\ne P(A \\; | \\; C)$\n",
    "  * **Conditional Independence:** ($B$ fixed): When $B$ is fixed, there is NO active trail between $A$ and $C$, so they are independent, which means the probability of $A$ won't influence probability of $C$ (and vice versa). We can say $P(A) = P(A \\; | \\; C)$"
   ]
  },
  {
   "cell_type": "code",
   "execution_count": 15,
   "metadata": {
    "lines_to_next_cell": 0,
    "title": "codecell"
   },
   "outputs": [
    {
     "data": {
      "image/svg+xml": [
       "<?xml version=\"1.0\" encoding=\"UTF-8\" standalone=\"no\"?>\n",
       "<!DOCTYPE svg PUBLIC \"-//W3C//DTD SVG 1.1//EN\"\n",
       " \"http://www.w3.org/Graphics/SVG/1.1/DTD/svg11.dtd\">\n",
       "<!-- Generated by graphviz version 2.38.0 (20140413.2041)\n",
       " -->\n",
       "<!-- Title: G Pages: 1 -->\n",
       "<svg width=\"504pt\" height=\"260pt\"\n",
       " viewBox=\"0.00 0.00 504.05 260.00\" xmlns=\"http://www.w3.org/2000/svg\" xmlns:xlink=\"http://www.w3.org/1999/xlink\">\n",
       "<g id=\"graph0\" class=\"graph\" transform=\"scale(1 1) rotate(0) translate(4 256)\">\n",
       "<title>G</title>\n",
       "<polygon fill=\"white\" stroke=\"none\" points=\"-4,4 -4,-256 500.053,-256 500.053,4 -4,4\"/>\n",
       "<!-- Exertion -->\n",
       "<g id=\"node1\" class=\"node\"><title>Exertion</title>\n",
       "<defs>\n",
       "<linearGradient id=\"l_0\" gradientUnits=\"userSpaceOnUse\" x1=\"40.6287\" y1=\"-144\" x2=\"40.6287\" y2=\"-180\" >\n",
       "<stop offset=\"0\" style=\"stop-color:#ceccff;stop-opacity:1.;\"/>\n",
       "<stop offset=\"1\" style=\"stop-color:white;stop-opacity:1.;\"/>\n",
       "</linearGradient>\n",
       "</defs>\n",
       "<ellipse fill=\"url(#l_0)\" stroke=\"#ff638d\" cx=\"40.6287\" cy=\"-162\" rx=\"40.7579\" ry=\"18\"/>\n",
       "<text text-anchor=\"middle\" x=\"40.6287\" y=\"-158.9\" font-family=\"Acme-Regular.ttf\" font-size=\"12.00\">Exertion</text>\n",
       "</g>\n",
       "<!-- WorkCapacity -->\n",
       "<g id=\"node2\" class=\"node\"><title>WorkCapacity</title>\n",
       "<defs>\n",
       "<linearGradient id=\"l_1\" gradientUnits=\"userSpaceOnUse\" x1=\"188.629\" y1=\"-72\" x2=\"188.629\" y2=\"-108\" >\n",
       "<stop offset=\"0\" style=\"stop-color:#ceccff;stop-opacity:1.;\"/>\n",
       "<stop offset=\"1\" style=\"stop-color:white;stop-opacity:1.;\"/>\n",
       "</linearGradient>\n",
       "</defs>\n",
       "<ellipse fill=\"url(#l_1)\" stroke=\"#ff638d\" cx=\"188.629\" cy=\"-90\" rx=\"60.8863\" ry=\"18\"/>\n",
       "<text text-anchor=\"middle\" x=\"188.629\" y=\"-86.9\" font-family=\"Acme-Regular.ttf\" font-size=\"12.00\">WorkCapacity</text>\n",
       "</g>\n",
       "<!-- Exertion&#45;&gt;WorkCapacity -->\n",
       "<g id=\"edge1\" class=\"edge\"><title>Exertion&#45;&gt;WorkCapacity</title>\n",
       "<path fill=\"none\" stroke=\"#ff638d\" d=\"M67.4304,-148.324C90.0581,-137.621 122.791,-122.14 148.537,-109.962\"/>\n",
       "<polygon fill=\"#ff638d\" stroke=\"#ff638d\" points=\"150.131,-113.08 157.674,-105.641 147.138,-106.752 150.131,-113.08\"/>\n",
       "</g>\n",
       "<!-- Absenteeism -->\n",
       "<g id=\"node3\" class=\"node\"><title>Absenteeism</title>\n",
       "<defs>\n",
       "<linearGradient id=\"l_2\" gradientUnits=\"userSpaceOnUse\" x1=\"382.629\" y1=\"-1.77636e-14\" x2=\"382.629\" y2=\"-36\" >\n",
       "<stop offset=\"0\" style=\"stop-color:#ceccff;stop-opacity:1.;\"/>\n",
       "<stop offset=\"1\" style=\"stop-color:white;stop-opacity:1.;\"/>\n",
       "</linearGradient>\n",
       "</defs>\n",
       "<ellipse fill=\"url(#l_2)\" stroke=\"#ff638d\" cx=\"382.629\" cy=\"-18\" rx=\"57.7307\" ry=\"18\"/>\n",
       "<text text-anchor=\"middle\" x=\"382.629\" y=\"-14.9\" font-family=\"Acme-Regular.ttf\" font-size=\"12.00\">Absenteeism</text>\n",
       "</g>\n",
       "<!-- WorkCapacity&#45;&gt;Absenteeism -->\n",
       "<g id=\"edge2\" class=\"edge\"><title>WorkCapacity&#45;&gt;Absenteeism</title>\n",
       "<path fill=\"none\" stroke=\"#ff638d\" d=\"M225.575,-75.6688C257.094,-64.2961 302.559,-47.8911 336.469,-35.6556\"/>\n",
       "<polygon fill=\"#ff638d\" stroke=\"#ff638d\" points=\"337.93,-38.8493 346.149,-32.1629 335.554,-32.2648 337.93,-38.8493\"/>\n",
       "</g>\n",
       "<!-- Experience -->\n",
       "<g id=\"node4\" class=\"node\"><title>Experience</title>\n",
       "<defs>\n",
       "<linearGradient id=\"l_3\" gradientUnits=\"userSpaceOnUse\" x1=\"188.629\" y1=\"-144\" x2=\"188.629\" y2=\"-180\" >\n",
       "<stop offset=\"0\" style=\"stop-color:#ceccff;stop-opacity:1.;\"/>\n",
       "<stop offset=\"1\" style=\"stop-color:white;stop-opacity:1.;\"/>\n",
       "</linearGradient>\n",
       "</defs>\n",
       "<ellipse fill=\"url(#l_3)\" stroke=\"#ff638d\" cx=\"188.629\" cy=\"-162\" rx=\"51.1876\" ry=\"18\"/>\n",
       "<text text-anchor=\"middle\" x=\"188.629\" y=\"-158.9\" font-family=\"Acme-Regular.ttf\" font-size=\"12.00\">Experience</text>\n",
       "</g>\n",
       "<!-- Experience&#45;&gt;WorkCapacity -->\n",
       "<g id=\"edge3\" class=\"edge\"><title>Experience&#45;&gt;WorkCapacity</title>\n",
       "<path fill=\"none\" stroke=\"#ff638d\" d=\"M188.629,-143.697C188.629,-135.983 188.629,-126.712 188.629,-118.112\"/>\n",
       "<polygon fill=\"#ff638d\" stroke=\"#ff638d\" points=\"192.129,-118.104 188.629,-108.104 185.129,-118.104 192.129,-118.104\"/>\n",
       "</g>\n",
       "<!-- Training -->\n",
       "<g id=\"node5\" class=\"node\"><title>Training</title>\n",
       "<defs>\n",
       "<linearGradient id=\"l_4\" gradientUnits=\"userSpaceOnUse\" x1=\"296.629\" y1=\"-144\" x2=\"296.629\" y2=\"-180\" >\n",
       "<stop offset=\"0\" style=\"stop-color:#ceccff;stop-opacity:1.;\"/>\n",
       "<stop offset=\"1\" style=\"stop-color:white;stop-opacity:1.;\"/>\n",
       "</linearGradient>\n",
       "</defs>\n",
       "<ellipse fill=\"url(#l_4)\" stroke=\"#ff638d\" cx=\"296.629\" cy=\"-162\" rx=\"39.2954\" ry=\"18\"/>\n",
       "<text text-anchor=\"middle\" x=\"296.629\" y=\"-158.9\" font-family=\"Acme-Regular.ttf\" font-size=\"12.00\">Training</text>\n",
       "</g>\n",
       "<!-- Training&#45;&gt;WorkCapacity -->\n",
       "<g id=\"edge4\" class=\"edge\"><title>Training&#45;&gt;WorkCapacity</title>\n",
       "<path fill=\"none\" stroke=\"#ff638d\" d=\"M274.773,-146.834C259.447,-136.901 238.689,-123.447 221.39,-112.234\"/>\n",
       "<polygon fill=\"#ff638d\" stroke=\"#ff638d\" points=\"223.002,-109.108 212.706,-106.606 219.194,-114.982 223.002,-109.108\"/>\n",
       "</g>\n",
       "<!-- Time -->\n",
       "<g id=\"node6\" class=\"node\"><title>Time</title>\n",
       "<defs>\n",
       "<linearGradient id=\"l_5\" gradientUnits=\"userSpaceOnUse\" x1=\"188.629\" y1=\"-216\" x2=\"188.629\" y2=\"-252\" >\n",
       "<stop offset=\"0\" style=\"stop-color:#ceccff;stop-opacity:1.;\"/>\n",
       "<stop offset=\"1\" style=\"stop-color:white;stop-opacity:1.;\"/>\n",
       "</linearGradient>\n",
       "</defs>\n",
       "<ellipse fill=\"url(#l_5)\" stroke=\"#ff638d\" cx=\"188.629\" cy=\"-234\" rx=\"28.8653\" ry=\"18\"/>\n",
       "<text text-anchor=\"middle\" x=\"188.629\" y=\"-230.9\" font-family=\"Acme-Regular.ttf\" font-size=\"12.00\">Time</text>\n",
       "</g>\n",
       "<!-- Time&#45;&gt;Exertion -->\n",
       "<g id=\"edge7\" class=\"edge\"><title>Time&#45;&gt;Exertion</title>\n",
       "<path fill=\"none\" stroke=\"#ff638d\" d=\"M166.151,-222.369C142.321,-211.098 104.34,-193.134 76.3925,-179.915\"/>\n",
       "<polygon fill=\"#ff638d\" stroke=\"#ff638d\" points=\"77.8704,-176.743 67.334,-175.631 74.8774,-183.07 77.8704,-176.743\"/>\n",
       "</g>\n",
       "<!-- Time&#45;&gt;WorkCapacity -->\n",
       "<g id=\"edge5\" class=\"edge\"><title>Time&#45;&gt;WorkCapacity</title>\n",
       "<path fill=\"none\" stroke=\"#ff638d\" d=\"M168.06,-221.338C154.068,-212.128 136.685,-197.865 128.629,-180 122.052,-165.414 122.052,-158.586 128.629,-144 134.174,-131.703 144.138,-121.112 154.374,-112.702\"/>\n",
       "<polygon fill=\"#ff638d\" stroke=\"#ff638d\" points=\"156.75,-115.291 162.562,-106.433 152.494,-109.733 156.75,-115.291\"/>\n",
       "</g>\n",
       "<!-- Time&#45;&gt;Absenteeism -->\n",
       "<g id=\"edge6\" class=\"edge\"><title>Time&#45;&gt;Absenteeism</title>\n",
       "<path fill=\"none\" stroke=\"#ff638d\" d=\"M217.308,-231.387C252.496,-227.821 311.545,-216.413 344.629,-180 378.408,-142.822 383.768,-81.2912 383.774,-46.0394\"/>\n",
       "<polygon fill=\"#ff638d\" stroke=\"#ff638d\" points=\"387.273,-45.9475 383.629,-35.9989 380.274,-46.0483 387.273,-45.9475\"/>\n",
       "</g>\n",
       "<!-- Time&#45;&gt;Experience -->\n",
       "<g id=\"edge8\" class=\"edge\"><title>Time&#45;&gt;Experience</title>\n",
       "<path fill=\"none\" stroke=\"#ff638d\" d=\"M188.629,-215.697C188.629,-207.983 188.629,-198.712 188.629,-190.112\"/>\n",
       "<polygon fill=\"#ff638d\" stroke=\"#ff638d\" points=\"192.129,-190.104 188.629,-180.104 185.129,-190.104 192.129,-190.104\"/>\n",
       "</g>\n",
       "<!-- Time&#45;&gt;Training -->\n",
       "<g id=\"edge9\" class=\"edge\"><title>Time&#45;&gt;Training</title>\n",
       "<path fill=\"none\" stroke=\"#ff638d\" d=\"M207.937,-220.485C224.174,-209.961 247.668,-194.734 266.397,-182.595\"/>\n",
       "<polygon fill=\"#ff638d\" stroke=\"#ff638d\" points=\"268.401,-185.467 274.889,-177.091 264.594,-179.593 268.401,-185.467\"/>\n",
       "</g>\n",
       "<!-- Process -->\n",
       "<g id=\"node7\" class=\"node\"><title>Process</title>\n",
       "<defs>\n",
       "<linearGradient id=\"l_6\" gradientUnits=\"userSpaceOnUse\" x1=\"456.629\" y1=\"-216\" x2=\"456.629\" y2=\"-252\" >\n",
       "<stop offset=\"0\" style=\"stop-color:#ceccff;stop-opacity:1.;\"/>\n",
       "<stop offset=\"1\" style=\"stop-color:white;stop-opacity:1.;\"/>\n",
       "</linearGradient>\n",
       "</defs>\n",
       "<ellipse fill=\"url(#l_6)\" stroke=\"#ff638d\" cx=\"456.629\" cy=\"-234\" rx=\"38.5652\" ry=\"18\"/>\n",
       "<text text-anchor=\"middle\" x=\"456.629\" y=\"-230.9\" font-family=\"Acme-Regular.ttf\" font-size=\"12.00\">Process</text>\n",
       "</g>\n",
       "<!-- Process&#45;&gt;Absenteeism -->\n",
       "<g id=\"edge12\" class=\"edge\"><title>Process&#45;&gt;Absenteeism</title>\n",
       "<path fill=\"none\" stroke=\"#ff638d\" d=\"M443.28,-216.741C435.641,-206.698 426.449,-193.237 420.629,-180 401.001,-135.357 390.693,-79.103 385.976,-46.2823\"/>\n",
       "<polygon fill=\"#ff638d\" stroke=\"#ff638d\" points=\"389.407,-45.5352 384.586,-36.1008 382.471,-46.4825 389.407,-45.5352\"/>\n",
       "</g>\n",
       "<!-- Tool -->\n",
       "<g id=\"node8\" class=\"node\"><title>Tool</title>\n",
       "<defs>\n",
       "<linearGradient id=\"l_7\" gradientUnits=\"userSpaceOnUse\" x1=\"456.629\" y1=\"-144\" x2=\"456.629\" y2=\"-180\" >\n",
       "<stop offset=\"0\" style=\"stop-color:#ceccff;stop-opacity:1.;\"/>\n",
       "<stop offset=\"1\" style=\"stop-color:white;stop-opacity:1.;\"/>\n",
       "</linearGradient>\n",
       "</defs>\n",
       "<ellipse fill=\"url(#l_7)\" stroke=\"#ff638d\" cx=\"456.629\" cy=\"-162\" rx=\"27\" ry=\"18\"/>\n",
       "<text text-anchor=\"middle\" x=\"456.629\" y=\"-158.9\" font-family=\"Acme-Regular.ttf\" font-size=\"12.00\">Tool</text>\n",
       "</g>\n",
       "<!-- Process&#45;&gt;Tool -->\n",
       "<g id=\"edge10\" class=\"edge\"><title>Process&#45;&gt;Tool</title>\n",
       "<path fill=\"none\" stroke=\"#ff638d\" d=\"M456.629,-215.697C456.629,-207.983 456.629,-198.712 456.629,-190.112\"/>\n",
       "<polygon fill=\"#ff638d\" stroke=\"#ff638d\" points=\"460.129,-190.104 456.629,-180.104 453.129,-190.104 460.129,-190.104\"/>\n",
       "</g>\n",
       "<!-- Injury -->\n",
       "<g id=\"node9\" class=\"node\"><title>Injury</title>\n",
       "<defs>\n",
       "<linearGradient id=\"l_8\" gradientUnits=\"userSpaceOnUse\" x1=\"460.629\" y1=\"-72\" x2=\"460.629\" y2=\"-108\" >\n",
       "<stop offset=\"0\" style=\"stop-color:#ceccff;stop-opacity:1.;\"/>\n",
       "<stop offset=\"1\" style=\"stop-color:white;stop-opacity:1.;\"/>\n",
       "</linearGradient>\n",
       "</defs>\n",
       "<ellipse fill=\"url(#l_8)\" stroke=\"#ff638d\" cx=\"460.629\" cy=\"-90\" rx=\"30.5603\" ry=\"18\"/>\n",
       "<text text-anchor=\"middle\" x=\"460.629\" y=\"-86.9\" font-family=\"Acme-Regular.ttf\" font-size=\"12.00\">Injury</text>\n",
       "</g>\n",
       "<!-- Process&#45;&gt;Injury -->\n",
       "<g id=\"edge11\" class=\"edge\"><title>Process&#45;&gt;Injury</title>\n",
       "<path fill=\"none\" stroke=\"#ff638d\" d=\"M471.118,-217.166C479.161,-207.273 488.379,-193.822 492.629,-180 497.332,-164.707 496.921,-159.414 492.629,-144 489.804,-133.856 484.455,-123.714 478.927,-115.058\"/>\n",
       "<polygon fill=\"#ff638d\" stroke=\"#ff638d\" points=\"481.718,-112.938 473.2,-106.638 475.93,-116.875 481.718,-112.938\"/>\n",
       "</g>\n",
       "<!-- Tool&#45;&gt;Injury -->\n",
       "<g id=\"edge13\" class=\"edge\"><title>Tool&#45;&gt;Injury</title>\n",
       "<path fill=\"none\" stroke=\"#ff638d\" d=\"M457.618,-143.697C458.058,-135.983 458.588,-126.712 459.079,-118.112\"/>\n",
       "<polygon fill=\"#ff638d\" stroke=\"#ff638d\" points=\"462.575,-118.288 459.651,-108.104 455.586,-117.888 462.575,-118.288\"/>\n",
       "</g>\n",
       "<!-- Injury&#45;&gt;Absenteeism -->\n",
       "<g id=\"edge14\" class=\"edge\"><title>Injury&#45;&gt;Absenteeism</title>\n",
       "<path fill=\"none\" stroke=\"#ff638d\" d=\"M444.467,-74.496C433.998,-65.1008 420.14,-52.6635 408.196,-41.9446\"/>\n",
       "<polygon fill=\"#ff638d\" stroke=\"#ff638d\" points=\"410.458,-39.2725 400.678,-35.1982 405.783,-44.4822 410.458,-39.2725\"/>\n",
       "</g>\n",
       "</g>\n",
       "</svg>\n"
      ],
      "text/plain": [
       "<graphviz.dot.Digraph at 0x7f346e097390>"
      ]
     },
     "execution_count": 15,
     "metadata": {},
     "output_type": "execute_result"
    }
   ],
   "source": [
    "drawGraph(carModel)"
   ]
  },
  {
   "cell_type": "markdown",
   "metadata": {
    "title": "markdown"
   },
   "source": [
    "#### Testing conditional independence:\n",
    "$$\n",
    "\\color{DodgerBlue}{\\text{WorkCapacity (observed)}: \\;\\;\\;\\;\\;\\;\\;  \\text{Experience} \\; \\bot \\; \\text{Absenteeism} \\; | \\; \\text{WorkCapacity}}\n",
    "$$\n",
    "\n",
    "Given that **WorkCapacity**'s state is observed, we can make the following equivalent statements:\n",
    "* there is NO active trail between **Experience** and **Absenteeism**.\n",
    "* **Experience** and **Absenteeism** are locally independent.\n",
    "* the probability of **Experience** won't influence probability of **Absenteeism** (and vice versa).\n"
   ]
  },
  {
   "cell_type": "code",
   "execution_count": 16,
   "metadata": {
    "title": "codecell"
   },
   "outputs": [],
   "source": [
    "elim: VariableElimination = VariableElimination(model = carModel)"
   ]
  },
  {
   "cell_type": "markdown",
   "metadata": {
    "lines_to_next_cell": 0,
    "title": "markdown"
   },
   "source": [
    "**Testing Conditional Independence:** Using Active Trails Methods"
   ]
  },
  {
   "cell_type": "code",
   "execution_count": 17,
   "metadata": {
    "title": "codecell"
   },
   "outputs": [
    {
     "name": "stdout",
     "output_type": "stream",
     "text": [
      "Experience --> Exertion\n",
      "Experience --> Training\n",
      "Absenteeism --> Tool\n",
      "Absenteeism --> Injury\n",
      "Absenteeism --> Process\n"
     ]
    }
   ],
   "source": [
    "assert carModel.is_active_trail(start = Experience.var, end = Absenteeism.var, observed = None)\n",
    "\n",
    "assert carModel.is_active_trail(start = Experience.var, end = Absenteeism.var, observed = [WorkCapacity.var]), \"Check: still need to condition on extra variable for this not to be an active trail\"\n",
    "\n",
    "# Finding out which extra variable to condition on:\n",
    "# TODO OBSERVEDVARS: must fix observedvars function so that (assuming causal chain) it can identify in the graph what is the middle node between these passed 'start' and 'end' nodes and also include that middle node in the output list (along with existing backdoors)\n",
    "observedVars(carModel, start= Experience, end= Absenteeism)\n",
    "assert observedVars(carModel, start= Experience, end= Absenteeism) == [{Time.var, WorkCapacity.var}], \"Check: all list of extra variables to condition on to nullify active trail between Experience and Absenteeism\"\n",
    "\n",
    "# Check trail is nullified\n",
    "assert not carModel.is_active_trail(start = Experience.var, end = Absenteeism.var, observed =[WorkCapacity.var] + [Time.var]), \"Check: active trail between Experience and Absenteeism is nullified with the extra variable observed\"\n",
    "\n",
    "# See, there is no active trail from Experience to Absenteeism when observing WorkCapacity and time.\n",
    "showActiveTrails(carModel, variables = [Experience, Absenteeism], observed = [WorkCapacity, Time])"
   ]
  },
  {
   "cell_type": "markdown",
   "metadata": {
    "lines_to_next_cell": 0,
    "title": "markdown"
   },
   "source": [
    "**Testing Conditional Independence:** Using Probabilities"
   ]
  },
  {
   "cell_type": "code",
   "execution_count": 18,
   "metadata": {
    "lines_to_next_cell": 0,
    "title": "codecell"
   },
   "outputs": [
    {
     "name": "stderr",
     "output_type": "stream",
     "text": [
      "\r",
      "  0%|          | 0/6 [00:00<?, ?it/s]"
     ]
    },
    {
     "name": "stderr",
     "output_type": "stream",
     "text": [
      "\r",
      "Finding Elimination Order: :   0%|          | 0/6 [00:00<?, ?it/s]"
     ]
    },
    {
     "name": "stderr",
     "output_type": "stream",
     "text": [
      "\r",
      "Finding Elimination Order: : 100%|██████████| 6/6 [00:00<00:00, 2927.28it/s]"
     ]
    },
    {
     "name": "stderr",
     "output_type": "stream",
     "text": [
      "\n",
      "\r",
      "  0%|          | 0/6 [00:00<?, ?it/s]"
     ]
    },
    {
     "name": "stderr",
     "output_type": "stream",
     "text": [
      "\r",
      "Eliminating: Injury:   0%|          | 0/6 [00:00<?, ?it/s]"
     ]
    },
    {
     "name": "stderr",
     "output_type": "stream",
     "text": [
      "\r",
      "Eliminating: Tool:   0%|          | 0/6 [00:00<?, ?it/s]  "
     ]
    },
    {
     "name": "stderr",
     "output_type": "stream",
     "text": [
      "\r",
      "Eliminating: Process:   0%|          | 0/6 [00:00<?, ?it/s]"
     ]
    },
    {
     "name": "stderr",
     "output_type": "stream",
     "text": [
      "\r",
      "Eliminating: Exertion:   0%|          | 0/6 [00:00<?, ?it/s]"
     ]
    },
    {
     "name": "stderr",
     "output_type": "stream",
     "text": [
      "\r",
      "Eliminating: Experience:   0%|          | 0/6 [00:00<?, ?it/s]"
     ]
    },
    {
     "name": "stderr",
     "output_type": "stream",
     "text": [
      "\r",
      "Eliminating: Training:   0%|          | 0/6 [00:00<?, ?it/s]  "
     ]
    },
    {
     "name": "stderr",
     "output_type": "stream",
     "text": [
      "\r",
      "Eliminating: Training: 100%|██████████| 6/6 [00:00<00:00, 519.82it/s]"
     ]
    },
    {
     "name": "stderr",
     "output_type": "stream",
     "text": [
      "\n"
     ]
    },
    {
     "name": "stderr",
     "output_type": "stream",
     "text": [
      "\r",
      "  0%|          | 0/5 [00:00<?, ?it/s]"
     ]
    },
    {
     "name": "stderr",
     "output_type": "stream",
     "text": [
      "\r",
      "Finding Elimination Order: :   0%|          | 0/5 [00:00<?, ?it/s]"
     ]
    },
    {
     "name": "stderr",
     "output_type": "stream",
     "text": [
      "\r",
      "Finding Elimination Order: : 100%|██████████| 5/5 [00:00<00:00, 2624.72it/s]"
     ]
    },
    {
     "name": "stderr",
     "output_type": "stream",
     "text": [
      "\n",
      "\r",
      "  0%|          | 0/5 [00:00<?, ?it/s]"
     ]
    },
    {
     "name": "stderr",
     "output_type": "stream",
     "text": [
      "\r",
      "Eliminating: Injury:   0%|          | 0/5 [00:00<?, ?it/s]"
     ]
    },
    {
     "name": "stderr",
     "output_type": "stream",
     "text": [
      "\r",
      "Eliminating: Tool:   0%|          | 0/5 [00:00<?, ?it/s]  "
     ]
    },
    {
     "name": "stderr",
     "output_type": "stream",
     "text": [
      "\r",
      "Eliminating: Process:   0%|          | 0/5 [00:00<?, ?it/s]"
     ]
    },
    {
     "name": "stderr",
     "output_type": "stream",
     "text": [
      "\r",
      "Eliminating: Exertion:   0%|          | 0/5 [00:00<?, ?it/s]"
     ]
    },
    {
     "name": "stderr",
     "output_type": "stream",
     "text": [
      "\r",
      "Eliminating: Training:   0%|          | 0/5 [00:00<?, ?it/s]"
     ]
    },
    {
     "name": "stderr",
     "output_type": "stream",
     "text": [
      "\r",
      "Eliminating: Training: 100%|██████████| 5/5 [00:00<00:00, 519.47it/s]"
     ]
    },
    {
     "name": "stderr",
     "output_type": "stream",
     "text": [
      "\n"
     ]
    },
    {
     "name": "stderr",
     "output_type": "stream",
     "text": [
      "\r",
      "  0%|          | 0/5 [00:00<?, ?it/s]"
     ]
    },
    {
     "name": "stderr",
     "output_type": "stream",
     "text": [
      "\r",
      "Finding Elimination Order: :   0%|          | 0/5 [00:00<?, ?it/s]"
     ]
    },
    {
     "name": "stderr",
     "output_type": "stream",
     "text": [
      "\r",
      "Finding Elimination Order: : 100%|██████████| 5/5 [00:00<00:00, 1614.19it/s]"
     ]
    },
    {
     "name": "stderr",
     "output_type": "stream",
     "text": [
      "\n",
      "\r",
      "  0%|          | 0/5 [00:00<?, ?it/s]"
     ]
    },
    {
     "name": "stderr",
     "output_type": "stream",
     "text": [
      "\r",
      "Eliminating: Injury:   0%|          | 0/5 [00:00<?, ?it/s]"
     ]
    },
    {
     "name": "stderr",
     "output_type": "stream",
     "text": [
      "\r",
      "Eliminating: Tool:   0%|          | 0/5 [00:00<?, ?it/s]  "
     ]
    },
    {
     "name": "stderr",
     "output_type": "stream",
     "text": [
      "\r",
      "Eliminating: Process:   0%|          | 0/5 [00:00<?, ?it/s]"
     ]
    },
    {
     "name": "stderr",
     "output_type": "stream",
     "text": [
      "\r",
      "Eliminating: Exertion:   0%|          | 0/5 [00:00<?, ?it/s]"
     ]
    },
    {
     "name": "stderr",
     "output_type": "stream",
     "text": [
      "\r",
      "Eliminating: Training:   0%|          | 0/5 [00:00<?, ?it/s]"
     ]
    },
    {
     "name": "stderr",
     "output_type": "stream",
     "text": [
      "\r",
      "Eliminating: Training: 100%|██████████| 5/5 [00:00<00:00, 265.89it/s]"
     ]
    },
    {
     "name": "stderr",
     "output_type": "stream",
     "text": [
      "\n"
     ]
    },
    {
     "name": "stderr",
     "output_type": "stream",
     "text": [
      "\r",
      "  0%|          | 0/5 [00:00<?, ?it/s]"
     ]
    },
    {
     "name": "stderr",
     "output_type": "stream",
     "text": [
      "\r",
      "Finding Elimination Order: :   0%|          | 0/5 [00:00<?, ?it/s]"
     ]
    },
    {
     "name": "stderr",
     "output_type": "stream",
     "text": [
      "\r",
      "Finding Elimination Order: : 100%|██████████| 5/5 [00:00<00:00, 2619.48it/s]"
     ]
    },
    {
     "name": "stderr",
     "output_type": "stream",
     "text": [
      "\n",
      "\r",
      "  0%|          | 0/5 [00:00<?, ?it/s]"
     ]
    },
    {
     "name": "stderr",
     "output_type": "stream",
     "text": [
      "\r",
      "Eliminating: Injury:   0%|          | 0/5 [00:00<?, ?it/s]"
     ]
    },
    {
     "name": "stderr",
     "output_type": "stream",
     "text": [
      "\r",
      "Eliminating: Tool:   0%|          | 0/5 [00:00<?, ?it/s]  "
     ]
    },
    {
     "name": "stderr",
     "output_type": "stream",
     "text": [
      "\r",
      "Eliminating: Process:   0%|          | 0/5 [00:00<?, ?it/s]"
     ]
    },
    {
     "name": "stderr",
     "output_type": "stream",
     "text": [
      "\r",
      "Eliminating: Exertion:   0%|          | 0/5 [00:00<?, ?it/s]"
     ]
    },
    {
     "name": "stderr",
     "output_type": "stream",
     "text": [
      "\r",
      "Eliminating: Training:   0%|          | 0/5 [00:00<?, ?it/s]"
     ]
    },
    {
     "name": "stderr",
     "output_type": "stream",
     "text": [
      "\r",
      "Eliminating: Training: 100%|██████████| 5/5 [00:00<00:00, 522.64it/s]"
     ]
    },
    {
     "name": "stdout",
     "output_type": "stream",
     "text": [
      "+---------------------+--------------------+\n",
      "| Absenteeism         |   phi(Absenteeism) |\n",
      "+=====================+====================+\n",
      "| Absenteeism(High)   |             0.4989 |\n",
      "+---------------------+--------------------+\n",
      "| Absenteeism(Low)    |             0.3994 |\n",
      "+---------------------+--------------------+\n",
      "| Absenteeism(Medium) |             0.1017 |\n",
      "+---------------------+--------------------+\n"
     ]
    },
    {
     "name": "stderr",
     "output_type": "stream",
     "text": [
      "\n"
     ]
    }
   ],
   "source": [
    "OBS_STATE_WORKCAPACITY: State = 'Low'\n",
    "OBS_STATE_TIME: int = 23\n",
    "\n",
    "backdoorStates: Dict[Name, State] = {Time.var: OBS_STATE_TIME, WorkCapacity.var : OBS_STATE_WORKCAPACITY }\n",
    "\n",
    "\n",
    "EWA: DiscreteFactor = elim.query(variables = [Absenteeism.var],\n",
    "                                 evidence = backdoorStates)\n",
    "\n",
    "EWA_1: DiscreteFactor = elim.query(variables = [Absenteeism.var],\n",
    "                                   evidence = backdoorStates |o| {Experience.var : 'High'})\n",
    "\n",
    "EWA_2: DiscreteFactor = elim.query(variables = [Absenteeism.var],\n",
    "                                   evidence = backdoorStates |o| {Experience.var : 'Medium'})\n",
    "\n",
    "EWA_3: DiscreteFactor = elim.query(variables = [Absenteeism.var],\n",
    "                                   evidence = backdoorStates |o| {Experience.var : 'Low'})\n",
    "\n",
    "print(EWA)"
   ]
  },
  {
   "cell_type": "markdown",
   "metadata": {
    "lines_to_next_cell": 0,
    "title": "markdown"
   },
   "source": [
    "The probabilities above are stated formulaically as follows:\n",
    "\n",
    "$$\n",
    "\\begin{array}{ll}\n",
    "P(\\text{Absenteeism} = \\text{High} \\; | \\; \\Big\\{  \\text{WorkCapacity} = \\text{Low} \\; \\cap \\; \\text{Time} = 23  \\Big\\}) \\\\\n",
    "= P(\\text{Absenteeism} = \\text{High} \\; | \\; \\Big\\{\\text{WorkCapacity} = \\text{Low} \\; \\cap \\; \\text{Time} = 23 \\Big\\} \\; \\cap \\; \\text{Experience} = \\text{Low})  \\\\\n",
    "= P(\\text{Absenteeism} = \\text{High} \\; | \\; \\Big\\{\\text{WorkCapacity} = \\text{Low} \\; \\cap \\; \\text{Time} = 23 \\Big\\} \\; \\cap \\; \\text{Experience} = \\text{Medium}) \\\\\n",
    "= P(\\text{Absenteeism} = \\text{High} \\; | \\; \\Big\\{\\text{WorkCapacity} = \\text{Low} \\; \\cap \\; \\text{Time} = 23 \\Big\\} \\; \\cap \\; \\text{Experience} = \\text{High}) \\\\\n",
    "= 0.4989\n",
    "\\end{array}\n",
    "$$\n",
    "$$\n",
    "\\begin{array}{ll}\n",
    "P(\\text{Absenteeism} = \\text{Low} \\; | \\; \\Big\\{\\text{WorkCapacity} = \\text{Low} \\; \\cap \\; \\text{Time} = 23 \\Big\\}) \\\\\n",
    "= P(\\text{Absenteeism} = \\text{Low} \\; | \\; \\Big\\{\\text{WorkCapacity} = \\text{Low} \\; \\cap \\; \\text{Time} = 23 \\Big\\} \\; \\cap \\; \\text{Experience} = \\text{Low})  \\\\\n",
    "= P(\\text{Absenteeism} = \\text{Low} \\; | \\; \\Big\\{\\text{WorkCapacity} = \\text{Low} \\; \\cap \\; \\text{Time} = 23 \\Big\\} \\; \\cap \\; \\text{Experience} = \\text{Medium}) \\\\\n",
    "= P(\\text{Absenteeism} = \\text{Low} \\; | \\; \\Big\\{\\text{WorkCapacity} = \\text{Low} \\; \\cap \\; \\text{Time} = 23 \\Big\\} \\; \\cap \\; \\text{Experience} = \\text{High}) \\\\\n",
    "= 0.3994\n",
    "\\end{array}\n",
    "$$\n",
    "$$\n",
    "\\begin{array}{ll}\n",
    "P(\\text{Absenteeism} = \\text{Medium} \\; | \\; \\Big\\{\\text{WorkCapacity} = \\text{Low} \\; \\cap \\; \\text{Time} = 23 \\Big\\}) \\\\\n",
    "= P(\\text{Absenteeism} = \\text{Medium} \\; | \\; \\Big\\{\\text{WorkCapacity} = \\text{Low} \\; \\cap \\; \\text{Time} = 23 \\Big\\} \\; \\cap \\; \\text{Experience} = \\text{Low})  \\\\\n",
    "= P(\\text{Absenteeism} = \\text{Medium} \\; | \\; \\Big\\{\\text{WorkCapacity} = \\text{Low} \\; \\cap \\; \\text{Time} = 23 \\Big\\} \\; \\cap \\; \\text{Experience} = \\text{Medium}) \\\\\n",
    "= P(\\text{Absenteeism} = \\text{Medium} \\; | \\; \\Big\\{\\text{WorkCapacity} = \\text{Low} \\; \\cap \\; \\text{Time} = 23 \\Big\\} \\; \\cap \\; \\text{Experience} = \\text{High}) \\\\\n",
    "= 0.1017\n",
    "\\end{array}\n",
    "$$\n",
    "\n",
    "Since all the above stated probabilities are equal for each state of `Absenteeism` = `Low`, `Medium`, `High`, we can assert that the random variables `Experience` and `Absenteeism` are independent of each other, when observing `WorkCapacity` state (and also observing the state of `Time` to adjust for backdoors). Arbitrarily choosing the states `backdoorStates` = `{WorkCapacity = Low, Time = 23}`, we can write:\n",
    "$$\n",
    "P(\\text{Absenteeism} \\; | \\; \\{\\texttt{backdoorStates} \\}) = P(\\text{Absenteeism} \\; | \\; \\{ \\texttt{backdoorStates} \\} \\; \\cap \\; \\text{Experience})\n",
    "$$"
   ]
  },
  {
   "cell_type": "code",
   "execution_count": 19,
   "metadata": {
    "title": "codecell"
   },
   "outputs": [
    {
     "data": {
      "text/html": [
       "<div>\n",
       "<style scoped>\n",
       "    .dataframe tbody tr th:only-of-type {\n",
       "        vertical-align: middle;\n",
       "    }\n",
       "\n",
       "    .dataframe tbody tr th {\n",
       "        vertical-align: top;\n",
       "    }\n",
       "\n",
       "    .dataframe thead th {\n",
       "        text-align: right;\n",
       "    }\n",
       "</style>\n",
       "<table border=\"1\" class=\"dataframe\">\n",
       "  <thead>\n",
       "    <tr style=\"text-align: right;\">\n",
       "      <th></th>\n",
       "      <th></th>\n",
       "      <th>Absenteeism</th>\n",
       "      <th>High</th>\n",
       "      <th>Low</th>\n",
       "      <th>Medium</th>\n",
       "    </tr>\n",
       "    <tr>\n",
       "      <th>Experience</th>\n",
       "      <th>Time</th>\n",
       "      <th>WorkCapacity</th>\n",
       "      <th></th>\n",
       "      <th></th>\n",
       "      <th></th>\n",
       "    </tr>\n",
       "  </thead>\n",
       "  <tbody>\n",
       "    <tr>\n",
       "      <th>High</th>\n",
       "      <th>23</th>\n",
       "      <th>Low</th>\n",
       "      <td>0.498922</td>\n",
       "      <td>0.399355</td>\n",
       "      <td>0.101723</td>\n",
       "    </tr>\n",
       "    <tr>\n",
       "      <th>Medium</th>\n",
       "      <th>23</th>\n",
       "      <th>Low</th>\n",
       "      <td>0.498922</td>\n",
       "      <td>0.399355</td>\n",
       "      <td>0.101723</td>\n",
       "    </tr>\n",
       "    <tr>\n",
       "      <th>Low</th>\n",
       "      <th>23</th>\n",
       "      <th>Low</th>\n",
       "      <td>0.498922</td>\n",
       "      <td>0.399355</td>\n",
       "      <td>0.101723</td>\n",
       "    </tr>\n",
       "  </tbody>\n",
       "</table>\n",
       "</div>"
      ],
      "text/plain": [
       "Absenteeism                       High       Low    Medium\n",
       "Experience Time WorkCapacity                              \n",
       "High       23   Low           0.498922  0.399355  0.101723\n",
       "Medium     23   Low           0.498922  0.399355  0.101723\n",
       "Low        23   Low           0.498922  0.399355  0.101723"
      ]
     },
     "execution_count": 19,
     "metadata": {},
     "output_type": "execute_result"
    }
   ],
   "source": [
    "assert allEqual(EWA.values, EWA_1.values, EWA_2.values, EWA_3.values), \"Check: the random variables Experience and Absenteeism are independent, when intermediary node WorkCapacity is observed (while accounting for backdoors)\"\n",
    "\n",
    "\n",
    "#Causal:  Experience ---> WorkCapacity --> Absenteeism\n",
    "backdoorStateSet: Dict[Name, Set[State]] = {WorkCapacity.var : {OBS_STATE_WORKCAPACITY}, Time.var : {OBS_STATE_TIME}}\n",
    "\n",
    "\n",
    "dfEWA: DataFrame = eliminateSlice(carModel, query = Absenteeism,\n",
    "                                  evidence = backdoorStateSet |s| {Experience.var : Experience.states})\n",
    "\n",
    "dfEWA\n",
    "\n",
    "\n",
    "\n",
    "\n"
   ]
  },
  {
   "cell_type": "markdown",
   "metadata": {
    "lines_to_next_cell": 2,
    "title": "markdown"
   },
   "source": [
    "#### Testing marginal dependence:\n",
    "$$\n",
    "\\color{Green}{\\text{WorkCapacity (unobserved)}: \\;\\;\\;\\;\\;\\;\\;  \\text{Experience} \\longrightarrow \\text{WorkCapacity} \\longrightarrow \\text{Absenteeism}}\n",
    "$$\n",
    "Given that **WorkCapacity**'s state is unobserved, we can make the following equivalent statements:\n",
    "* there IS active trail between **Experience** and **Absenteeism**.\n",
    "* **Experience** and **Absenteeism** are dependent.\n",
    "* the probability of **Experience** influences probability of **Absenteeism** (and vice versa).\n"
   ]
  },
  {
   "cell_type": "markdown",
   "metadata": {
    "lines_to_next_cell": 0,
    "title": "markdown"
   },
   "source": [
    "**Testing Marginal Dependence:** Using Active Trails Methods"
   ]
  },
  {
   "cell_type": "code",
   "execution_count": 20,
   "metadata": {
    "title": "codecell"
   },
   "outputs": [
    {
     "name": "stdout",
     "output_type": "stream",
     "text": [
      "Experience --> Absenteeism\n",
      "Experience --> Time\n",
      "Experience --> Exertion\n",
      "Experience --> WorkCapacity\n",
      "Experience --> Training\n",
      "Absenteeism --> Time\n",
      "Absenteeism --> Exertion\n",
      "Absenteeism --> Experience\n",
      "Absenteeism --> Process\n",
      "Absenteeism --> WorkCapacity\n",
      "Absenteeism --> Injury\n",
      "Absenteeism --> Tool\n",
      "Absenteeism --> Training\n"
     ]
    }
   ],
   "source": [
    "assert carModel.is_active_trail(start = Experience.var, end = Absenteeism.var, observed = None)\n",
    "\n",
    "\n",
    "# See, there is active trail from Experience to Absenteeism when not observing WorkCapacity variable\n",
    "showActiveTrails(carModel, variables = [Experience, Absenteeism], observed = None)"
   ]
  },
  {
   "cell_type": "markdown",
   "metadata": {
    "lines_to_next_cell": 0,
    "title": "markdown"
   },
   "source": [
    "**Testing Marginal Dependence:** Using Probabilities"
   ]
  },
  {
   "cell_type": "code",
   "execution_count": 21,
   "metadata": {
    "lines_to_next_cell": 0,
    "title": "codecell"
   },
   "outputs": [
    {
     "name": "stderr",
     "output_type": "stream",
     "text": [
      "\r",
      "  0%|          | 0/7 [00:00<?, ?it/s]"
     ]
    },
    {
     "name": "stderr",
     "output_type": "stream",
     "text": [
      "\r",
      "Finding Elimination Order: :   0%|          | 0/7 [00:00<?, ?it/s]"
     ]
    },
    {
     "name": "stderr",
     "output_type": "stream",
     "text": [
      "\r",
      "Finding Elimination Order: : 100%|██████████| 7/7 [00:00<00:00, 2873.65it/s]"
     ]
    },
    {
     "name": "stderr",
     "output_type": "stream",
     "text": [
      "\n",
      "\r",
      "  0%|          | 0/7 [00:00<?, ?it/s]"
     ]
    },
    {
     "name": "stderr",
     "output_type": "stream",
     "text": [
      "\r",
      "Eliminating: WorkCapacity:   0%|          | 0/7 [00:00<?, ?it/s]"
     ]
    },
    {
     "name": "stderr",
     "output_type": "stream",
     "text": [
      "\r",
      "Eliminating: Injury:   0%|          | 0/7 [00:00<?, ?it/s]      "
     ]
    },
    {
     "name": "stderr",
     "output_type": "stream",
     "text": [
      "\r",
      "Eliminating: Injury:  29%|██▊       | 2/7 [00:00<00:00, 11.00it/s]"
     ]
    },
    {
     "name": "stderr",
     "output_type": "stream",
     "text": [
      "\r",
      "Eliminating: Tool:  29%|██▊       | 2/7 [00:00<00:00, 11.00it/s]  "
     ]
    },
    {
     "name": "stderr",
     "output_type": "stream",
     "text": [
      "\r",
      "Eliminating: Process:  29%|██▊       | 2/7 [00:00<00:00, 11.00it/s]"
     ]
    },
    {
     "name": "stderr",
     "output_type": "stream",
     "text": [
      "\r",
      "Eliminating: Exertion:  29%|██▊       | 2/7 [00:00<00:00, 11.00it/s]"
     ]
    },
    {
     "name": "stderr",
     "output_type": "stream",
     "text": [
      "\r",
      "Eliminating: Experience:  29%|██▊       | 2/7 [00:00<00:00, 11.00it/s]"
     ]
    },
    {
     "name": "stderr",
     "output_type": "stream",
     "text": [
      "\r",
      "Eliminating: Training:  29%|██▊       | 2/7 [00:00<00:00, 11.00it/s]  "
     ]
    },
    {
     "name": "stderr",
     "output_type": "stream",
     "text": [
      "\r",
      "Eliminating: Training: 100%|██████████| 7/7 [00:00<00:00, 31.75it/s]"
     ]
    },
    {
     "name": "stdout",
     "output_type": "stream",
     "text": [
      "+---------------------+--------------------+\n",
      "| Absenteeism         |   phi(Absenteeism) |\n",
      "+=====================+====================+\n",
      "| Absenteeism(High)   |             0.4965 |\n",
      "+---------------------+--------------------+\n",
      "| Absenteeism(Low)    |             0.3984 |\n",
      "+---------------------+--------------------+\n",
      "| Absenteeism(Medium) |             0.1052 |\n",
      "+---------------------+--------------------+\n"
     ]
    },
    {
     "name": "stderr",
     "output_type": "stream",
     "text": [
      "\n"
     ]
    }
   ],
   "source": [
    "\n",
    "# TODO DIFFERENT plus HERE\n",
    "\n",
    "OBS_STATE_TIME: int = 23\n",
    "\n",
    "# TODO left off here: must make backdoor states type compatible with |plus| but also with elim.query() arguments\n",
    "backdoorStates: Dict[Name, State] = {Time.var : OBS_STATE_TIME}\n",
    "\n",
    "EA: DiscreteFactor = elim.query(variables = [Absenteeism.var],\n",
    "                                evidence = backdoorStates)\n",
    "print(EA)"
   ]
  },
  {
   "cell_type": "code",
   "execution_count": 22,
   "metadata": {
    "lines_to_next_cell": 0,
    "title": "codecell"
   },
   "outputs": [
    {
     "name": "stderr",
     "output_type": "stream",
     "text": [
      "\r",
      "  0%|          | 0/6 [00:00<?, ?it/s]"
     ]
    },
    {
     "name": "stderr",
     "output_type": "stream",
     "text": [
      "\r",
      "Finding Elimination Order: :   0%|          | 0/6 [00:00<?, ?it/s]"
     ]
    },
    {
     "name": "stderr",
     "output_type": "stream",
     "text": [
      "\r",
      "Finding Elimination Order: : 100%|██████████| 6/6 [00:00<00:00, 2295.52it/s]"
     ]
    },
    {
     "name": "stderr",
     "output_type": "stream",
     "text": [
      "\n",
      "\r",
      "  0%|          | 0/6 [00:00<?, ?it/s]"
     ]
    },
    {
     "name": "stderr",
     "output_type": "stream",
     "text": [
      "\r",
      "Eliminating: WorkCapacity:   0%|          | 0/6 [00:00<?, ?it/s]"
     ]
    },
    {
     "name": "stderr",
     "output_type": "stream",
     "text": [
      "\r",
      "Eliminating: Injury:   0%|          | 0/6 [00:00<?, ?it/s]      "
     ]
    },
    {
     "name": "stderr",
     "output_type": "stream",
     "text": [
      "\r",
      "Eliminating: Tool:   0%|          | 0/6 [00:00<?, ?it/s]  "
     ]
    },
    {
     "name": "stderr",
     "output_type": "stream",
     "text": [
      "\r",
      "Eliminating: Process:   0%|          | 0/6 [00:00<?, ?it/s]"
     ]
    },
    {
     "name": "stderr",
     "output_type": "stream",
     "text": [
      "\r",
      "Eliminating: Exertion:   0%|          | 0/6 [00:00<?, ?it/s]"
     ]
    },
    {
     "name": "stderr",
     "output_type": "stream",
     "text": [
      "\r",
      "Eliminating: Training:   0%|          | 0/6 [00:00<?, ?it/s]"
     ]
    },
    {
     "name": "stderr",
     "output_type": "stream",
     "text": [
      "\r",
      "Eliminating: Training: 100%|██████████| 6/6 [00:00<00:00, 88.69it/s]"
     ]
    },
    {
     "name": "stdout",
     "output_type": "stream",
     "text": [
      "+---------------------+--------------------+\n",
      "| Absenteeism         |   phi(Absenteeism) |\n",
      "+=====================+====================+\n",
      "| Absenteeism(High)   |             0.4973 |\n",
      "+---------------------+--------------------+\n",
      "| Absenteeism(Low)    |             0.3987 |\n",
      "+---------------------+--------------------+\n",
      "| Absenteeism(Medium) |             0.1040 |\n",
      "+---------------------+--------------------+\n"
     ]
    },
    {
     "name": "stderr",
     "output_type": "stream",
     "text": [
      "\n"
     ]
    }
   ],
   "source": [
    "EA_1: DiscreteFactor = elim.query(variables = [Absenteeism.var],\n",
    "                                  evidence = backdoorStates |o| {Experience.var : 'High'})\n",
    "print(EA_1)"
   ]
  },
  {
   "cell_type": "code",
   "execution_count": 23,
   "metadata": {
    "lines_to_next_cell": 0,
    "title": "codecell"
   },
   "outputs": [
    {
     "name": "stderr",
     "output_type": "stream",
     "text": [
      "\r",
      "  0%|          | 0/6 [00:00<?, ?it/s]"
     ]
    },
    {
     "name": "stderr",
     "output_type": "stream",
     "text": [
      "\r",
      "Finding Elimination Order: :   0%|          | 0/6 [00:00<?, ?it/s]"
     ]
    },
    {
     "name": "stderr",
     "output_type": "stream",
     "text": [
      "\r",
      "Finding Elimination Order: : 100%|██████████| 6/6 [00:00<00:00, 1740.13it/s]"
     ]
    },
    {
     "name": "stderr",
     "output_type": "stream",
     "text": [
      "\n",
      "\r",
      "  0%|          | 0/6 [00:00<?, ?it/s]"
     ]
    },
    {
     "name": "stderr",
     "output_type": "stream",
     "text": [
      "\r",
      "Eliminating: WorkCapacity:   0%|          | 0/6 [00:00<?, ?it/s]"
     ]
    },
    {
     "name": "stderr",
     "output_type": "stream",
     "text": [
      "\r",
      "Eliminating: Injury:   0%|          | 0/6 [00:00<?, ?it/s]      "
     ]
    },
    {
     "name": "stderr",
     "output_type": "stream",
     "text": [
      "\r",
      "Eliminating: Tool:   0%|          | 0/6 [00:00<?, ?it/s]  "
     ]
    },
    {
     "name": "stderr",
     "output_type": "stream",
     "text": [
      "\r",
      "Eliminating: Process:   0%|          | 0/6 [00:00<?, ?it/s]"
     ]
    },
    {
     "name": "stderr",
     "output_type": "stream",
     "text": [
      "\r",
      "Eliminating: Exertion:   0%|          | 0/6 [00:00<?, ?it/s]"
     ]
    },
    {
     "name": "stderr",
     "output_type": "stream",
     "text": [
      "\r",
      "Eliminating: Training:   0%|          | 0/6 [00:00<?, ?it/s]"
     ]
    },
    {
     "name": "stderr",
     "output_type": "stream",
     "text": [
      "\r",
      "Eliminating: Training: 100%|██████████| 6/6 [00:00<00:00, 74.93it/s]"
     ]
    },
    {
     "name": "stdout",
     "output_type": "stream",
     "text": [
      "+---------------------+--------------------+\n",
      "| Absenteeism         |   phi(Absenteeism) |\n",
      "+=====================+====================+\n",
      "| Absenteeism(High)   |             0.3885 |\n",
      "+---------------------+--------------------+\n",
      "| Absenteeism(Low)    |             0.3553 |\n",
      "+---------------------+--------------------+\n",
      "| Absenteeism(Medium) |             0.2561 |\n",
      "+---------------------+--------------------+\n"
     ]
    },
    {
     "name": "stderr",
     "output_type": "stream",
     "text": [
      "\n"
     ]
    }
   ],
   "source": [
    "EA_2: DiscreteFactor = elim.query(variables = [Absenteeism.var],\n",
    "                                  evidence = backdoorStates |o| {Experience.var : 'Medium'})\n",
    "print(EA_2)"
   ]
  },
  {
   "cell_type": "code",
   "execution_count": 24,
   "metadata": {
    "lines_to_next_cell": 0,
    "title": "codecell"
   },
   "outputs": [
    {
     "name": "stderr",
     "output_type": "stream",
     "text": [
      "\r",
      "  0%|          | 0/6 [00:00<?, ?it/s]"
     ]
    },
    {
     "name": "stderr",
     "output_type": "stream",
     "text": [
      "\r",
      "Finding Elimination Order: :   0%|          | 0/6 [00:00<?, ?it/s]"
     ]
    },
    {
     "name": "stderr",
     "output_type": "stream",
     "text": [
      "\r",
      "Finding Elimination Order: : 100%|██████████| 6/6 [00:00<00:00, 2220.78it/s]"
     ]
    },
    {
     "name": "stderr",
     "output_type": "stream",
     "text": [
      "\n",
      "\r",
      "  0%|          | 0/6 [00:00<?, ?it/s]"
     ]
    },
    {
     "name": "stderr",
     "output_type": "stream",
     "text": [
      "\r",
      "Eliminating: WorkCapacity:   0%|          | 0/6 [00:00<?, ?it/s]"
     ]
    },
    {
     "name": "stderr",
     "output_type": "stream",
     "text": [
      "\r",
      "Eliminating: Injury:   0%|          | 0/6 [00:00<?, ?it/s]      "
     ]
    },
    {
     "name": "stderr",
     "output_type": "stream",
     "text": [
      "\r",
      "Eliminating: Tool:   0%|          | 0/6 [00:00<?, ?it/s]  "
     ]
    },
    {
     "name": "stderr",
     "output_type": "stream",
     "text": [
      "\r",
      "Eliminating: Process:   0%|          | 0/6 [00:00<?, ?it/s]"
     ]
    },
    {
     "name": "stderr",
     "output_type": "stream",
     "text": [
      "\r",
      "Eliminating: Process:  67%|██████▋   | 4/6 [00:00<00:00, 39.68it/s]"
     ]
    },
    {
     "name": "stderr",
     "output_type": "stream",
     "text": [
      "\r",
      "Eliminating: Exertion:  67%|██████▋   | 4/6 [00:00<00:00, 39.68it/s]"
     ]
    },
    {
     "name": "stderr",
     "output_type": "stream",
     "text": [
      "\r",
      "Eliminating: Training:  67%|██████▋   | 4/6 [00:00<00:00, 39.68it/s]"
     ]
    },
    {
     "name": "stderr",
     "output_type": "stream",
     "text": [
      "\r",
      "Eliminating: Training: 100%|██████████| 6/6 [00:00<00:00, 55.36it/s]"
     ]
    },
    {
     "name": "stdout",
     "output_type": "stream",
     "text": [
      "+---------------------+--------------------+\n",
      "| Absenteeism         |   phi(Absenteeism) |\n",
      "+=====================+====================+\n",
      "| Absenteeism(High)   |             0.3885 |\n",
      "+---------------------+--------------------+\n",
      "| Absenteeism(Low)    |             0.3553 |\n",
      "+---------------------+--------------------+\n",
      "| Absenteeism(Medium) |             0.2561 |\n",
      "+---------------------+--------------------+\n"
     ]
    },
    {
     "name": "stderr",
     "output_type": "stream",
     "text": [
      "\n"
     ]
    }
   ],
   "source": [
    "EA_3: DiscreteFactor = elim.query(variables = [Absenteeism.var],\n",
    "                                  evidence = backdoorStates |o| {Experience.var : 'Low'})\n",
    "print(EA_3)"
   ]
  },
  {
   "cell_type": "markdown",
   "metadata": {
    "lines_to_next_cell": 0,
    "title": "markdown"
   },
   "source": [
    "The probabilities above are stated formulaically as follows:\n",
    "$$\n",
    "\\begin{array}{ll}\n",
    "P(\\text{Absenteeism} = \\text{High} \\; | \\; \\Big\\{ \\text{Time} = 23  \\Big\\}) = 0.4965 \\\\\n",
    "\\ne P(\\text{Absenteeism} = \\text{High} \\; | \\; \\Big\\{\\text{Time} = 23 \\Big\\} \\; \\cap \\; \\text{Experience} = \\text{Low}) = 0.3885  \\\\\n",
    "\\ne P(\\text{Absenteeism} = \\text{High} \\; | \\; \\Big\\{\\text{Time} = 23 \\Big\\} \\; \\cap \\; \\text{Experience} = \\text{Medium}) = 0.3885 \\\\\n",
    "\\ne P(\\text{Absenteeism} = \\text{High} \\; | \\; \\Big\\{\\text{Time} = 23 \\Big\\} \\; \\cap \\; \\text{Experience} = \\text{High}) = 0.4973\n",
    "\\end{array}\n",
    "$$\n",
    "$$\n",
    "\\begin{array}{ll}\n",
    "P(\\text{Absenteeism} = \\text{Low} \\; | \\; \\Big\\{ \\text{Time} = 23  \\Big\\}) = 0.4965 \\\\\n",
    "\\ne P(\\text{Absenteeism} = \\text{Low} \\; | \\; \\Big\\{\\text{Time} = 23 \\Big\\} \\; \\cap \\; \\text{Experience} = \\text{Low}) = 0.3553 \\\\\n",
    "\\ne P(\\text{Absenteeism} = \\text{Low} \\; | \\; \\Big\\{\\text{Time} = 23 \\Big\\} \\; \\cap \\; \\text{Experience} = \\text{Medium}) = 0.3553 \\\\\n",
    "\\ne P(\\text{Absenteeism} = \\text{Low} \\; | \\; \\Big\\{\\text{Time} = 23 \\Big\\} \\; \\cap \\; \\text{Experience} = \\text{High}) = 0.3987\n",
    "\\end{array}\n",
    "$$\n",
    "$$\n",
    "\\begin{array}{ll}\n",
    "P(\\text{Absenteeism} = \\text{Medium} \\; | \\; \\Big\\{ \\text{Time} = 23  \\Big\\}) = 0.4965 \\\\\n",
    "\\ne P(\\text{Absenteeism} = \\text{Medium} \\; | \\; \\Big\\{\\text{Time} = 23 \\Big\\} \\; \\cap \\; \\text{Experience} = \\text{Low}) = 0.2561 \\\\\n",
    "\\ne P(\\text{Absenteeism} = \\text{Medium} \\; | \\; \\Big\\{\\text{Time} = 23 \\Big\\} \\; \\cap \\; \\text{Experience} = \\text{Medium}) = 0.2561 \\\\\n",
    "\\ne P(\\text{Absenteeism} = \\text{Medium} \\; | \\; \\Big\\{\\text{Time} = 23 \\Big\\} \\; \\cap \\; \\text{Experience} = \\text{High}) = 0.1040\n",
    "\\end{array}\n",
    "$$\n",
    "\n",
    "Since not all the above stated probabilities are equal for each state of `Absenteeism` = `Low`, `Medium`, `High`, we can assert that the random variables `Experience` and `Absenteeism` are dependent of each other, when not observing `WorkCapacity` state (while  observing the state of `Time` to adjust for backdoors). Arbitrarily choosing the state `backdoorStates` = `{Time = 23}`, we can write:\n",
    "$$\n",
    "P(\\text{Absenteeism} \\; | \\; \\{\\texttt{backdoorStates} \\}) \\ne P(\\text{Absenteeism} \\; | \\; \\{ \\texttt{backdoorStates} \\} \\; \\cap \\; \\text{Experience})\n",
    "$$"
   ]
  },
  {
   "cell_type": "code",
   "execution_count": 25,
   "metadata": {
    "lines_to_next_cell": 2,
    "title": "codecell"
   },
   "outputs": [
    {
     "data": {
      "text/html": [
       "<div>\n",
       "<style scoped>\n",
       "    .dataframe tbody tr th:only-of-type {\n",
       "        vertical-align: middle;\n",
       "    }\n",
       "\n",
       "    .dataframe tbody tr th {\n",
       "        vertical-align: top;\n",
       "    }\n",
       "\n",
       "    .dataframe thead th {\n",
       "        text-align: right;\n",
       "    }\n",
       "</style>\n",
       "<table border=\"1\" class=\"dataframe\">\n",
       "  <thead>\n",
       "    <tr style=\"text-align: right;\">\n",
       "      <th></th>\n",
       "      <th>Absenteeism</th>\n",
       "      <th>High</th>\n",
       "      <th>Low</th>\n",
       "      <th>Medium</th>\n",
       "    </tr>\n",
       "    <tr>\n",
       "      <th>Experience</th>\n",
       "      <th>Time</th>\n",
       "      <th></th>\n",
       "      <th></th>\n",
       "      <th></th>\n",
       "    </tr>\n",
       "  </thead>\n",
       "  <tbody>\n",
       "    <tr>\n",
       "      <th>High</th>\n",
       "      <th>23</th>\n",
       "      <td>0.497266</td>\n",
       "      <td>0.398695</td>\n",
       "      <td>0.10404</td>\n",
       "    </tr>\n",
       "    <tr>\n",
       "      <th>Medium</th>\n",
       "      <th>23</th>\n",
       "      <td>0.388529</td>\n",
       "      <td>0.355341</td>\n",
       "      <td>0.25613</td>\n",
       "    </tr>\n",
       "    <tr>\n",
       "      <th>Low</th>\n",
       "      <th>23</th>\n",
       "      <td>0.388529</td>\n",
       "      <td>0.355341</td>\n",
       "      <td>0.25613</td>\n",
       "    </tr>\n",
       "  </tbody>\n",
       "</table>\n",
       "</div>"
      ],
      "text/plain": [
       "Absenteeism          High       Low   Medium\n",
       "Experience Time                             \n",
       "High       23    0.497266  0.398695  0.10404\n",
       "Medium     23    0.388529  0.355341  0.25613\n",
       "Low        23    0.388529  0.355341  0.25613"
      ]
     },
     "execution_count": 25,
     "metadata": {},
     "output_type": "execute_result"
    }
   ],
   "source": [
    "\n",
    "assert not allEqual(EA.values, EA_1.values, EA_2.values, EA_3.values), \"Check: the random variables Experience and Absenteeism are dependent, when intermediary node WorkCapacity is NOT observed (while accounting for backdoors)\"\n",
    "\n",
    "\n",
    "\n",
    "backdoorStateSet: Dict[Name, Set[State]] = {Time.var : {OBS_STATE_TIME}}\n",
    "\n",
    "dfEA = eliminateSlice(carModel, query = Absenteeism,\n",
    "                      evidence = backdoorStateSet |s| {Experience.var : Experience.states})\n",
    "dfEA"
   ]
  },
  {
   "cell_type": "markdown",
   "metadata": {
    "title": "markdown"
   },
   "source": [
    "### Causal Reasoning: Experience - Absenteeism Effect\n",
    "Since the probabilities of `Absenteeism = High` are NOT the same, across all varying conditions of `Time` and `Experience`, this means that there is an active trail between `Experience` and `Absenteeism`."
   ]
  },
  {
   "cell_type": "code",
   "execution_count": 26,
   "metadata": {
    "lines_to_next_cell": 0,
    "title": "codecell"
   },
   "outputs": [
    {
     "data": {
      "text/html": [
       "<div>\n",
       "<style scoped>\n",
       "    .dataframe tbody tr th:only-of-type {\n",
       "        vertical-align: middle;\n",
       "    }\n",
       "\n",
       "    .dataframe tbody tr th {\n",
       "        vertical-align: top;\n",
       "    }\n",
       "\n",
       "    .dataframe thead th {\n",
       "        text-align: right;\n",
       "    }\n",
       "</style>\n",
       "<table border=\"1\" class=\"dataframe\">\n",
       "  <thead>\n",
       "    <tr style=\"text-align: right;\">\n",
       "      <th></th>\n",
       "      <th>Absenteeism</th>\n",
       "      <th>High</th>\n",
       "      <th>Low</th>\n",
       "      <th>Medium</th>\n",
       "    </tr>\n",
       "    <tr>\n",
       "      <th>Experience</th>\n",
       "      <th>Time</th>\n",
       "      <th></th>\n",
       "      <th></th>\n",
       "      <th></th>\n",
       "    </tr>\n",
       "  </thead>\n",
       "  <tbody>\n",
       "    <tr>\n",
       "      <th rowspan=\"3\" valign=\"top\">High</th>\n",
       "      <th>2</th>\n",
       "      <td>0.388529</td>\n",
       "      <td>0.355341</td>\n",
       "      <td>0.25613</td>\n",
       "    </tr>\n",
       "    <tr>\n",
       "      <th>30</th>\n",
       "      <td>0.497266</td>\n",
       "      <td>0.398695</td>\n",
       "      <td>0.10404</td>\n",
       "    </tr>\n",
       "    <tr>\n",
       "      <th>15</th>\n",
       "      <td>0.497266</td>\n",
       "      <td>0.398695</td>\n",
       "      <td>0.10404</td>\n",
       "    </tr>\n",
       "    <tr>\n",
       "      <th rowspan=\"3\" valign=\"top\">Medium</th>\n",
       "      <th>2</th>\n",
       "      <td>0.388529</td>\n",
       "      <td>0.355341</td>\n",
       "      <td>0.25613</td>\n",
       "    </tr>\n",
       "    <tr>\n",
       "      <th>30</th>\n",
       "      <td>0.388529</td>\n",
       "      <td>0.355341</td>\n",
       "      <td>0.25613</td>\n",
       "    </tr>\n",
       "    <tr>\n",
       "      <th>15</th>\n",
       "      <td>0.388529</td>\n",
       "      <td>0.355341</td>\n",
       "      <td>0.25613</td>\n",
       "    </tr>\n",
       "    <tr>\n",
       "      <th rowspan=\"3\" valign=\"top\">Low</th>\n",
       "      <th>2</th>\n",
       "      <td>0.497266</td>\n",
       "      <td>0.398695</td>\n",
       "      <td>0.10404</td>\n",
       "    </tr>\n",
       "    <tr>\n",
       "      <th>30</th>\n",
       "      <td>0.388529</td>\n",
       "      <td>0.355341</td>\n",
       "      <td>0.25613</td>\n",
       "    </tr>\n",
       "    <tr>\n",
       "      <th>15</th>\n",
       "      <td>0.388529</td>\n",
       "      <td>0.355341</td>\n",
       "      <td>0.25613</td>\n",
       "    </tr>\n",
       "  </tbody>\n",
       "</table>\n",
       "</div>"
      ],
      "text/plain": [
       "Absenteeism          High       Low   Medium\n",
       "Experience Time                             \n",
       "High       2     0.388529  0.355341  0.25613\n",
       "           30    0.497266  0.398695  0.10404\n",
       "           15    0.497266  0.398695  0.10404\n",
       "Medium     2     0.388529  0.355341  0.25613\n",
       "           30    0.388529  0.355341  0.25613\n",
       "           15    0.388529  0.355341  0.25613\n",
       "Low        2     0.497266  0.398695  0.10404\n",
       "           30    0.388529  0.355341  0.25613\n",
       "           15    0.388529  0.355341  0.25613"
      ]
     },
     "execution_count": 26,
     "metadata": {},
     "output_type": "execute_result"
    }
   ],
   "source": [
    "backdoorStateSet: Dict[Name, Set[State]] = {Time.var : {2, 15 , 30}}\n",
    "\n",
    "dfEA: DataFrame = eliminateSlice(carModel, query = Absenteeism,\n",
    "                                 evidence = backdoorStateSet |s| {Experience.var : Experience.states})\n",
    "dfEA"
   ]
  },
  {
   "cell_type": "markdown",
   "metadata": {
    "title": "markdown"
   },
   "source": [
    "### Causal Reasoning: Exertion - Absenteeism Effect\n",
    "Since the probabilities of `Absenteeism = High` are NOT the same, across all varying conditions of `Time` and `Exertion`, this means that there is an active trail between `Exertion` and `Absenteeism`."
   ]
  },
  {
   "cell_type": "code",
   "execution_count": 27,
   "metadata": {
    "lines_to_next_cell": 0,
    "title": "codecell"
   },
   "outputs": [
    {
     "data": {
      "text/html": [
       "<div>\n",
       "<style scoped>\n",
       "    .dataframe tbody tr th:only-of-type {\n",
       "        vertical-align: middle;\n",
       "    }\n",
       "\n",
       "    .dataframe tbody tr th {\n",
       "        vertical-align: top;\n",
       "    }\n",
       "\n",
       "    .dataframe thead th {\n",
       "        text-align: right;\n",
       "    }\n",
       "</style>\n",
       "<table border=\"1\" class=\"dataframe\">\n",
       "  <thead>\n",
       "    <tr style=\"text-align: right;\">\n",
       "      <th></th>\n",
       "      <th>Absenteeism</th>\n",
       "      <th>High</th>\n",
       "      <th>Low</th>\n",
       "      <th>Medium</th>\n",
       "    </tr>\n",
       "    <tr>\n",
       "      <th>Exertion</th>\n",
       "      <th>Time</th>\n",
       "      <th></th>\n",
       "      <th></th>\n",
       "      <th></th>\n",
       "    </tr>\n",
       "  </thead>\n",
       "  <tbody>\n",
       "    <tr>\n",
       "      <th rowspan=\"3\" valign=\"top\">High</th>\n",
       "      <th>2</th>\n",
       "      <td>0.388529</td>\n",
       "      <td>0.355341</td>\n",
       "      <td>0.25613</td>\n",
       "    </tr>\n",
       "    <tr>\n",
       "      <th>30</th>\n",
       "      <td>0.497266</td>\n",
       "      <td>0.398695</td>\n",
       "      <td>0.10404</td>\n",
       "    </tr>\n",
       "    <tr>\n",
       "      <th>15</th>\n",
       "      <td>0.497266</td>\n",
       "      <td>0.398695</td>\n",
       "      <td>0.10404</td>\n",
       "    </tr>\n",
       "    <tr>\n",
       "      <th rowspan=\"3\" valign=\"top\">Medium</th>\n",
       "      <th>2</th>\n",
       "      <td>0.388529</td>\n",
       "      <td>0.355341</td>\n",
       "      <td>0.25613</td>\n",
       "    </tr>\n",
       "    <tr>\n",
       "      <th>30</th>\n",
       "      <td>0.388529</td>\n",
       "      <td>0.355341</td>\n",
       "      <td>0.25613</td>\n",
       "    </tr>\n",
       "    <tr>\n",
       "      <th>15</th>\n",
       "      <td>0.388529</td>\n",
       "      <td>0.355341</td>\n",
       "      <td>0.25613</td>\n",
       "    </tr>\n",
       "    <tr>\n",
       "      <th rowspan=\"3\" valign=\"top\">Low</th>\n",
       "      <th>2</th>\n",
       "      <td>0.497266</td>\n",
       "      <td>0.398695</td>\n",
       "      <td>0.10404</td>\n",
       "    </tr>\n",
       "    <tr>\n",
       "      <th>30</th>\n",
       "      <td>0.388529</td>\n",
       "      <td>0.355341</td>\n",
       "      <td>0.25613</td>\n",
       "    </tr>\n",
       "    <tr>\n",
       "      <th>15</th>\n",
       "      <td>0.388529</td>\n",
       "      <td>0.355341</td>\n",
       "      <td>0.25613</td>\n",
       "    </tr>\n",
       "  </tbody>\n",
       "</table>\n",
       "</div>"
      ],
      "text/plain": [
       "Absenteeism        High       Low   Medium\n",
       "Exertion Time                             \n",
       "High     2     0.388529  0.355341  0.25613\n",
       "         30    0.497266  0.398695  0.10404\n",
       "         15    0.497266  0.398695  0.10404\n",
       "Medium   2     0.388529  0.355341  0.25613\n",
       "         30    0.388529  0.355341  0.25613\n",
       "         15    0.388529  0.355341  0.25613\n",
       "Low      2     0.497266  0.398695  0.10404\n",
       "         30    0.388529  0.355341  0.25613\n",
       "         15    0.388529  0.355341  0.25613"
      ]
     },
     "execution_count": 27,
     "metadata": {},
     "output_type": "execute_result"
    }
   ],
   "source": [
    "backdoorStateSet: Dict[Name, Set[State]] = {Time.var : {2, 15, 30}}\n",
    "\n",
    "dfXA: DataFrame = eliminateSlice(carModel, query = Absenteeism,\n",
    "                                 evidence = backdoorStateSet |s| {Exertion.var : Exertion.states})\n",
    "dfXA"
   ]
  },
  {
   "cell_type": "markdown",
   "metadata": {
    "title": "markdown"
   },
   "source": [
    "### Causal Reasoning: Training - Absenteeism Effect\n",
    "Since the probabilities of `Absenteeism = High` are NOT the same, across all varying conditions of `Time` and `Training`, this means that there is an active trail between `Training` and `Absenteeism`."
   ]
  },
  {
   "cell_type": "code",
   "execution_count": 28,
   "metadata": {
    "title": "codecell"
   },
   "outputs": [
    {
     "data": {
      "text/html": [
       "<div>\n",
       "<style scoped>\n",
       "    .dataframe tbody tr th:only-of-type {\n",
       "        vertical-align: middle;\n",
       "    }\n",
       "\n",
       "    .dataframe tbody tr th {\n",
       "        vertical-align: top;\n",
       "    }\n",
       "\n",
       "    .dataframe thead th {\n",
       "        text-align: right;\n",
       "    }\n",
       "</style>\n",
       "<table border=\"1\" class=\"dataframe\">\n",
       "  <thead>\n",
       "    <tr style=\"text-align: right;\">\n",
       "      <th></th>\n",
       "      <th>Absenteeism</th>\n",
       "      <th>High</th>\n",
       "      <th>Low</th>\n",
       "      <th>Medium</th>\n",
       "    </tr>\n",
       "    <tr>\n",
       "      <th>Time</th>\n",
       "      <th>Training</th>\n",
       "      <th></th>\n",
       "      <th></th>\n",
       "      <th></th>\n",
       "    </tr>\n",
       "  </thead>\n",
       "  <tbody>\n",
       "    <tr>\n",
       "      <th rowspan=\"3\" valign=\"top\">2</th>\n",
       "      <th>High</th>\n",
       "      <td>0.388529</td>\n",
       "      <td>0.355341</td>\n",
       "      <td>0.25613</td>\n",
       "    </tr>\n",
       "    <tr>\n",
       "      <th>Medium</th>\n",
       "      <td>0.388529</td>\n",
       "      <td>0.355341</td>\n",
       "      <td>0.25613</td>\n",
       "    </tr>\n",
       "    <tr>\n",
       "      <th>Low</th>\n",
       "      <td>0.497266</td>\n",
       "      <td>0.398695</td>\n",
       "      <td>0.10404</td>\n",
       "    </tr>\n",
       "    <tr>\n",
       "      <th rowspan=\"3\" valign=\"top\">30</th>\n",
       "      <th>High</th>\n",
       "      <td>0.497266</td>\n",
       "      <td>0.398695</td>\n",
       "      <td>0.10404</td>\n",
       "    </tr>\n",
       "    <tr>\n",
       "      <th>Medium</th>\n",
       "      <td>0.388529</td>\n",
       "      <td>0.355341</td>\n",
       "      <td>0.25613</td>\n",
       "    </tr>\n",
       "    <tr>\n",
       "      <th>Low</th>\n",
       "      <td>0.388529</td>\n",
       "      <td>0.355341</td>\n",
       "      <td>0.25613</td>\n",
       "    </tr>\n",
       "    <tr>\n",
       "      <th rowspan=\"3\" valign=\"top\">15</th>\n",
       "      <th>High</th>\n",
       "      <td>0.497266</td>\n",
       "      <td>0.398695</td>\n",
       "      <td>0.10404</td>\n",
       "    </tr>\n",
       "    <tr>\n",
       "      <th>Medium</th>\n",
       "      <td>0.388529</td>\n",
       "      <td>0.355341</td>\n",
       "      <td>0.25613</td>\n",
       "    </tr>\n",
       "    <tr>\n",
       "      <th>Low</th>\n",
       "      <td>0.388529</td>\n",
       "      <td>0.355341</td>\n",
       "      <td>0.25613</td>\n",
       "    </tr>\n",
       "  </tbody>\n",
       "</table>\n",
       "</div>"
      ],
      "text/plain": [
       "Absenteeism        High       Low   Medium\n",
       "Time Training                             \n",
       "2    High      0.388529  0.355341  0.25613\n",
       "     Medium    0.388529  0.355341  0.25613\n",
       "     Low       0.497266  0.398695  0.10404\n",
       "30   High      0.497266  0.398695  0.10404\n",
       "     Medium    0.388529  0.355341  0.25613\n",
       "     Low       0.388529  0.355341  0.25613\n",
       "15   High      0.497266  0.398695  0.10404\n",
       "     Medium    0.388529  0.355341  0.25613\n",
       "     Low       0.388529  0.355341  0.25613"
      ]
     },
     "execution_count": 28,
     "metadata": {},
     "output_type": "execute_result"
    }
   ],
   "source": [
    "backdoorStateSet: Dict[Name, Set[State]] = {Time.var : {2, 15, 30}}\n",
    "\n",
    "\n",
    "dfTA: DataFrame = eliminateSlice(carModel, query = Absenteeism,\n",
    "                                 evidence = backdoorStateSet |s| {Training.var : Training.states})\n",
    "dfTA"
   ]
  },
  {
   "cell_type": "markdown",
   "metadata": {
    "lines_to_next_cell": 0,
    "title": "markdown"
   },
   "source": [
    "### Causal Reasoning: Experience / Exertion / Training - Absenteeism"
   ]
  },
  {
   "cell_type": "code",
   "execution_count": 29,
   "metadata": {
    "title": "codecell"
   },
   "outputs": [
    {
     "data": {
      "text/html": [
       "<div>\n",
       "<style scoped>\n",
       "    .dataframe tbody tr th:only-of-type {\n",
       "        vertical-align: middle;\n",
       "    }\n",
       "\n",
       "    .dataframe tbody tr th {\n",
       "        vertical-align: top;\n",
       "    }\n",
       "\n",
       "    .dataframe thead th {\n",
       "        text-align: right;\n",
       "    }\n",
       "</style>\n",
       "<table border=\"1\" class=\"dataframe\">\n",
       "  <thead>\n",
       "    <tr style=\"text-align: right;\">\n",
       "      <th></th>\n",
       "      <th></th>\n",
       "      <th></th>\n",
       "      <th>Absenteeism</th>\n",
       "      <th>High</th>\n",
       "      <th>Low</th>\n",
       "      <th>Medium</th>\n",
       "    </tr>\n",
       "    <tr>\n",
       "      <th>Exertion</th>\n",
       "      <th>Experience</th>\n",
       "      <th>Time</th>\n",
       "      <th>Training</th>\n",
       "      <th></th>\n",
       "      <th></th>\n",
       "      <th></th>\n",
       "    </tr>\n",
       "  </thead>\n",
       "  <tbody>\n",
       "    <tr>\n",
       "      <th rowspan=\"18\" valign=\"top\">High</th>\n",
       "      <th rowspan=\"6\" valign=\"top\">High</th>\n",
       "      <th rowspan=\"3\" valign=\"top\">2</th>\n",
       "      <th>High</th>\n",
       "      <td>0.388529</td>\n",
       "      <td>0.355341</td>\n",
       "      <td>0.256130</td>\n",
       "    </tr>\n",
       "    <tr>\n",
       "      <th>Medium</th>\n",
       "      <td>0.388529</td>\n",
       "      <td>0.355341</td>\n",
       "      <td>0.256130</td>\n",
       "    </tr>\n",
       "    <tr>\n",
       "      <th>Low</th>\n",
       "      <td>0.388529</td>\n",
       "      <td>0.355341</td>\n",
       "      <td>0.256130</td>\n",
       "    </tr>\n",
       "    <tr>\n",
       "      <th rowspan=\"3\" valign=\"top\">30</th>\n",
       "      <th>High</th>\n",
       "      <td>0.498876</td>\n",
       "      <td>0.399337</td>\n",
       "      <td>0.101786</td>\n",
       "    </tr>\n",
       "    <tr>\n",
       "      <th>Medium</th>\n",
       "      <td>0.388529</td>\n",
       "      <td>0.355341</td>\n",
       "      <td>0.256130</td>\n",
       "    </tr>\n",
       "    <tr>\n",
       "      <th>Low</th>\n",
       "      <td>0.388529</td>\n",
       "      <td>0.355341</td>\n",
       "      <td>0.256130</td>\n",
       "    </tr>\n",
       "    <tr>\n",
       "      <th rowspan=\"6\" valign=\"top\">Medium</th>\n",
       "      <th rowspan=\"3\" valign=\"top\">2</th>\n",
       "      <th>High</th>\n",
       "      <td>0.388529</td>\n",
       "      <td>0.355341</td>\n",
       "      <td>0.256130</td>\n",
       "    </tr>\n",
       "    <tr>\n",
       "      <th>Medium</th>\n",
       "      <td>0.388529</td>\n",
       "      <td>0.355341</td>\n",
       "      <td>0.256130</td>\n",
       "    </tr>\n",
       "    <tr>\n",
       "      <th>Low</th>\n",
       "      <td>0.388529</td>\n",
       "      <td>0.355341</td>\n",
       "      <td>0.256130</td>\n",
       "    </tr>\n",
       "    <tr>\n",
       "      <th rowspan=\"3\" valign=\"top\">30</th>\n",
       "      <th>High</th>\n",
       "      <td>0.388529</td>\n",
       "      <td>0.355341</td>\n",
       "      <td>0.256130</td>\n",
       "    </tr>\n",
       "    <tr>\n",
       "      <th>Medium</th>\n",
       "      <td>0.388529</td>\n",
       "      <td>0.355341</td>\n",
       "      <td>0.256130</td>\n",
       "    </tr>\n",
       "    <tr>\n",
       "      <th>Low</th>\n",
       "      <td>0.388529</td>\n",
       "      <td>0.355341</td>\n",
       "      <td>0.256130</td>\n",
       "    </tr>\n",
       "    <tr>\n",
       "      <th rowspan=\"6\" valign=\"top\">Low</th>\n",
       "      <th rowspan=\"3\" valign=\"top\">2</th>\n",
       "      <th>High</th>\n",
       "      <td>0.388529</td>\n",
       "      <td>0.355341</td>\n",
       "      <td>0.256130</td>\n",
       "    </tr>\n",
       "    <tr>\n",
       "      <th>Medium</th>\n",
       "      <td>0.388529</td>\n",
       "      <td>0.355341</td>\n",
       "      <td>0.256130</td>\n",
       "    </tr>\n",
       "    <tr>\n",
       "      <th>Low</th>\n",
       "      <td>0.388529</td>\n",
       "      <td>0.355341</td>\n",
       "      <td>0.256130</td>\n",
       "    </tr>\n",
       "    <tr>\n",
       "      <th rowspan=\"3\" valign=\"top\">30</th>\n",
       "      <th>High</th>\n",
       "      <td>0.388529</td>\n",
       "      <td>0.355341</td>\n",
       "      <td>0.256130</td>\n",
       "    </tr>\n",
       "    <tr>\n",
       "      <th>Medium</th>\n",
       "      <td>0.388529</td>\n",
       "      <td>0.355341</td>\n",
       "      <td>0.256130</td>\n",
       "    </tr>\n",
       "    <tr>\n",
       "      <th>Low</th>\n",
       "      <td>0.388529</td>\n",
       "      <td>0.355341</td>\n",
       "      <td>0.256130</td>\n",
       "    </tr>\n",
       "    <tr>\n",
       "      <th rowspan=\"18\" valign=\"top\">Medium</th>\n",
       "      <th rowspan=\"6\" valign=\"top\">High</th>\n",
       "      <th rowspan=\"3\" valign=\"top\">2</th>\n",
       "      <th>High</th>\n",
       "      <td>0.388529</td>\n",
       "      <td>0.355341</td>\n",
       "      <td>0.256130</td>\n",
       "    </tr>\n",
       "    <tr>\n",
       "      <th>Medium</th>\n",
       "      <td>0.388529</td>\n",
       "      <td>0.355341</td>\n",
       "      <td>0.256130</td>\n",
       "    </tr>\n",
       "    <tr>\n",
       "      <th>Low</th>\n",
       "      <td>0.388529</td>\n",
       "      <td>0.355341</td>\n",
       "      <td>0.256130</td>\n",
       "    </tr>\n",
       "    <tr>\n",
       "      <th rowspan=\"3\" valign=\"top\">30</th>\n",
       "      <th>High</th>\n",
       "      <td>0.388529</td>\n",
       "      <td>0.355341</td>\n",
       "      <td>0.256130</td>\n",
       "    </tr>\n",
       "    <tr>\n",
       "      <th>Medium</th>\n",
       "      <td>0.388529</td>\n",
       "      <td>0.355341</td>\n",
       "      <td>0.256130</td>\n",
       "    </tr>\n",
       "    <tr>\n",
       "      <th>Low</th>\n",
       "      <td>0.388529</td>\n",
       "      <td>0.355341</td>\n",
       "      <td>0.256130</td>\n",
       "    </tr>\n",
       "    <tr>\n",
       "      <th rowspan=\"6\" valign=\"top\">Medium</th>\n",
       "      <th rowspan=\"3\" valign=\"top\">2</th>\n",
       "      <th>High</th>\n",
       "      <td>0.388529</td>\n",
       "      <td>0.355341</td>\n",
       "      <td>0.256130</td>\n",
       "    </tr>\n",
       "    <tr>\n",
       "      <th>Medium</th>\n",
       "      <td>0.388529</td>\n",
       "      <td>0.355341</td>\n",
       "      <td>0.256130</td>\n",
       "    </tr>\n",
       "    <tr>\n",
       "      <th>Low</th>\n",
       "      <td>0.388529</td>\n",
       "      <td>0.355341</td>\n",
       "      <td>0.256130</td>\n",
       "    </tr>\n",
       "    <tr>\n",
       "      <th rowspan=\"3\" valign=\"top\">30</th>\n",
       "      <th>High</th>\n",
       "      <td>0.388529</td>\n",
       "      <td>0.355341</td>\n",
       "      <td>0.256130</td>\n",
       "    </tr>\n",
       "    <tr>\n",
       "      <th>Medium</th>\n",
       "      <td>0.388529</td>\n",
       "      <td>0.355341</td>\n",
       "      <td>0.256130</td>\n",
       "    </tr>\n",
       "    <tr>\n",
       "      <th>Low</th>\n",
       "      <td>0.388529</td>\n",
       "      <td>0.355341</td>\n",
       "      <td>0.256130</td>\n",
       "    </tr>\n",
       "    <tr>\n",
       "      <th rowspan=\"6\" valign=\"top\">Low</th>\n",
       "      <th rowspan=\"3\" valign=\"top\">2</th>\n",
       "      <th>High</th>\n",
       "      <td>0.388529</td>\n",
       "      <td>0.355341</td>\n",
       "      <td>0.256130</td>\n",
       "    </tr>\n",
       "    <tr>\n",
       "      <th>Medium</th>\n",
       "      <td>0.388529</td>\n",
       "      <td>0.355341</td>\n",
       "      <td>0.256130</td>\n",
       "    </tr>\n",
       "    <tr>\n",
       "      <th>Low</th>\n",
       "      <td>0.388529</td>\n",
       "      <td>0.355341</td>\n",
       "      <td>0.256130</td>\n",
       "    </tr>\n",
       "    <tr>\n",
       "      <th rowspan=\"3\" valign=\"top\">30</th>\n",
       "      <th>High</th>\n",
       "      <td>0.388529</td>\n",
       "      <td>0.355341</td>\n",
       "      <td>0.256130</td>\n",
       "    </tr>\n",
       "    <tr>\n",
       "      <th>Medium</th>\n",
       "      <td>0.388529</td>\n",
       "      <td>0.355341</td>\n",
       "      <td>0.256130</td>\n",
       "    </tr>\n",
       "    <tr>\n",
       "      <th>Low</th>\n",
       "      <td>0.388529</td>\n",
       "      <td>0.355341</td>\n",
       "      <td>0.256130</td>\n",
       "    </tr>\n",
       "    <tr>\n",
       "      <th rowspan=\"18\" valign=\"top\">Low</th>\n",
       "      <th rowspan=\"6\" valign=\"top\">High</th>\n",
       "      <th rowspan=\"3\" valign=\"top\">2</th>\n",
       "      <th>High</th>\n",
       "      <td>0.388529</td>\n",
       "      <td>0.355341</td>\n",
       "      <td>0.256130</td>\n",
       "    </tr>\n",
       "    <tr>\n",
       "      <th>Medium</th>\n",
       "      <td>0.388529</td>\n",
       "      <td>0.355341</td>\n",
       "      <td>0.256130</td>\n",
       "    </tr>\n",
       "    <tr>\n",
       "      <th>Low</th>\n",
       "      <td>0.388529</td>\n",
       "      <td>0.355341</td>\n",
       "      <td>0.256130</td>\n",
       "    </tr>\n",
       "    <tr>\n",
       "      <th rowspan=\"3\" valign=\"top\">30</th>\n",
       "      <th>High</th>\n",
       "      <td>0.388529</td>\n",
       "      <td>0.355341</td>\n",
       "      <td>0.256130</td>\n",
       "    </tr>\n",
       "    <tr>\n",
       "      <th>Medium</th>\n",
       "      <td>0.388529</td>\n",
       "      <td>0.355341</td>\n",
       "      <td>0.256130</td>\n",
       "    </tr>\n",
       "    <tr>\n",
       "      <th>Low</th>\n",
       "      <td>0.388529</td>\n",
       "      <td>0.355341</td>\n",
       "      <td>0.256130</td>\n",
       "    </tr>\n",
       "    <tr>\n",
       "      <th rowspan=\"6\" valign=\"top\">Medium</th>\n",
       "      <th rowspan=\"3\" valign=\"top\">2</th>\n",
       "      <th>High</th>\n",
       "      <td>0.388529</td>\n",
       "      <td>0.355341</td>\n",
       "      <td>0.256130</td>\n",
       "    </tr>\n",
       "    <tr>\n",
       "      <th>Medium</th>\n",
       "      <td>0.388529</td>\n",
       "      <td>0.355341</td>\n",
       "      <td>0.256130</td>\n",
       "    </tr>\n",
       "    <tr>\n",
       "      <th>Low</th>\n",
       "      <td>0.388529</td>\n",
       "      <td>0.355341</td>\n",
       "      <td>0.256130</td>\n",
       "    </tr>\n",
       "    <tr>\n",
       "      <th rowspan=\"3\" valign=\"top\">30</th>\n",
       "      <th>High</th>\n",
       "      <td>0.388529</td>\n",
       "      <td>0.355341</td>\n",
       "      <td>0.256130</td>\n",
       "    </tr>\n",
       "    <tr>\n",
       "      <th>Medium</th>\n",
       "      <td>0.388529</td>\n",
       "      <td>0.355341</td>\n",
       "      <td>0.256130</td>\n",
       "    </tr>\n",
       "    <tr>\n",
       "      <th>Low</th>\n",
       "      <td>0.388529</td>\n",
       "      <td>0.355341</td>\n",
       "      <td>0.256130</td>\n",
       "    </tr>\n",
       "    <tr>\n",
       "      <th rowspan=\"6\" valign=\"top\">Low</th>\n",
       "      <th rowspan=\"3\" valign=\"top\">2</th>\n",
       "      <th>High</th>\n",
       "      <td>0.388529</td>\n",
       "      <td>0.355341</td>\n",
       "      <td>0.256130</td>\n",
       "    </tr>\n",
       "    <tr>\n",
       "      <th>Medium</th>\n",
       "      <td>0.388529</td>\n",
       "      <td>0.355341</td>\n",
       "      <td>0.256130</td>\n",
       "    </tr>\n",
       "    <tr>\n",
       "      <th>Low</th>\n",
       "      <td>0.498876</td>\n",
       "      <td>0.399337</td>\n",
       "      <td>0.101786</td>\n",
       "    </tr>\n",
       "    <tr>\n",
       "      <th rowspan=\"3\" valign=\"top\">30</th>\n",
       "      <th>High</th>\n",
       "      <td>0.388529</td>\n",
       "      <td>0.355341</td>\n",
       "      <td>0.256130</td>\n",
       "    </tr>\n",
       "    <tr>\n",
       "      <th>Medium</th>\n",
       "      <td>0.388529</td>\n",
       "      <td>0.355341</td>\n",
       "      <td>0.256130</td>\n",
       "    </tr>\n",
       "    <tr>\n",
       "      <th>Low</th>\n",
       "      <td>0.388529</td>\n",
       "      <td>0.355341</td>\n",
       "      <td>0.256130</td>\n",
       "    </tr>\n",
       "  </tbody>\n",
       "</table>\n",
       "</div>"
      ],
      "text/plain": [
       "Absenteeism                            High       Low    Medium\n",
       "Exertion Experience Time Training                              \n",
       "High     High       2    High      0.388529  0.355341  0.256130\n",
       "                         Medium    0.388529  0.355341  0.256130\n",
       "                         Low       0.388529  0.355341  0.256130\n",
       "                    30   High      0.498876  0.399337  0.101786\n",
       "                         Medium    0.388529  0.355341  0.256130\n",
       "                         Low       0.388529  0.355341  0.256130\n",
       "         Medium     2    High      0.388529  0.355341  0.256130\n",
       "                         Medium    0.388529  0.355341  0.256130\n",
       "                         Low       0.388529  0.355341  0.256130\n",
       "                    30   High      0.388529  0.355341  0.256130\n",
       "                         Medium    0.388529  0.355341  0.256130\n",
       "                         Low       0.388529  0.355341  0.256130\n",
       "         Low        2    High      0.388529  0.355341  0.256130\n",
       "                         Medium    0.388529  0.355341  0.256130\n",
       "                         Low       0.388529  0.355341  0.256130\n",
       "                    30   High      0.388529  0.355341  0.256130\n",
       "                         Medium    0.388529  0.355341  0.256130\n",
       "                         Low       0.388529  0.355341  0.256130\n",
       "Medium   High       2    High      0.388529  0.355341  0.256130\n",
       "                         Medium    0.388529  0.355341  0.256130\n",
       "                         Low       0.388529  0.355341  0.256130\n",
       "                    30   High      0.388529  0.355341  0.256130\n",
       "                         Medium    0.388529  0.355341  0.256130\n",
       "                         Low       0.388529  0.355341  0.256130\n",
       "         Medium     2    High      0.388529  0.355341  0.256130\n",
       "                         Medium    0.388529  0.355341  0.256130\n",
       "                         Low       0.388529  0.355341  0.256130\n",
       "                    30   High      0.388529  0.355341  0.256130\n",
       "                         Medium    0.388529  0.355341  0.256130\n",
       "                         Low       0.388529  0.355341  0.256130\n",
       "         Low        2    High      0.388529  0.355341  0.256130\n",
       "                         Medium    0.388529  0.355341  0.256130\n",
       "                         Low       0.388529  0.355341  0.256130\n",
       "                    30   High      0.388529  0.355341  0.256130\n",
       "                         Medium    0.388529  0.355341  0.256130\n",
       "                         Low       0.388529  0.355341  0.256130\n",
       "Low      High       2    High      0.388529  0.355341  0.256130\n",
       "                         Medium    0.388529  0.355341  0.256130\n",
       "                         Low       0.388529  0.355341  0.256130\n",
       "                    30   High      0.388529  0.355341  0.256130\n",
       "                         Medium    0.388529  0.355341  0.256130\n",
       "                         Low       0.388529  0.355341  0.256130\n",
       "         Medium     2    High      0.388529  0.355341  0.256130\n",
       "                         Medium    0.388529  0.355341  0.256130\n",
       "                         Low       0.388529  0.355341  0.256130\n",
       "                    30   High      0.388529  0.355341  0.256130\n",
       "                         Medium    0.388529  0.355341  0.256130\n",
       "                         Low       0.388529  0.355341  0.256130\n",
       "         Low        2    High      0.388529  0.355341  0.256130\n",
       "                         Medium    0.388529  0.355341  0.256130\n",
       "                         Low       0.498876  0.399337  0.101786\n",
       "                    30   High      0.388529  0.355341  0.256130\n",
       "                         Medium    0.388529  0.355341  0.256130\n",
       "                         Low       0.388529  0.355341  0.256130"
      ]
     },
     "execution_count": 29,
     "metadata": {},
     "output_type": "execute_result"
    }
   ],
   "source": [
    "\n",
    "#carModel.is_active_trail(start = [Exertion.var, Training.var, Experience.var], end = Absenteeism.var)\n",
    "backdoorStateSet: Dict[Name, Set[State]] = {Time.var : {2, 30}}\n",
    "\n",
    "dfEETA: DataFrame = eliminateSlice(carModel,\n",
    "                                   query = Absenteeism,\n",
    "                                   evidence = backdoorStateSet |s| {Exertion.var : Exertion.states,\n",
    "                                                                     Training.var : Training.states,\n",
    "                                                                     Experience.var : Experience.states})\n",
    "dfEETA\n",
    "\n",
    "\n",
    "\n",
    "\n",
    "\n",
    "\n",
    "\n",
    "\n",
    "\n",
    "\n",
    "\n",
    "\n",
    "\n",
    "\n",
    "\n"
   ]
  },
  {
   "cell_type": "markdown",
   "metadata": {
    "lines_to_next_cell": 2,
    "title": "markdown"
   },
   "source": [
    "### 4/ Inter-Causal Reasoning in the Car Model (Common Effect Chains)\n",
    "For a common effect model $A \\rightarrow B \\leftarrow C$, there are two cases:\n",
    "  * **Marginal Independence:** ($B$ unknown): When $B$ is unknown / unobserved, there is NO active trail between $A$ and $C$, so they are independent, which means the probability of $A$ won't influence probability of $C$ (and vice versa). We can say $P(A) = P(A \\; | \\; C)$\n",
    "  * **Conditional Dependence:** ($B$ fixed): When $B$ is fixed, there IS an active trail between $A$ and $C$, meaning the probability of $A$ can influence probability of $C$ (and vice versa). We can say $P(A) \\ne P(A \\; | \\; C)$"
   ]
  },
  {
   "cell_type": "code",
   "execution_count": 30,
   "metadata": {
    "lines_to_next_cell": 0,
    "title": "codecell"
   },
   "outputs": [
    {
     "data": {
      "image/svg+xml": [
       "<?xml version=\"1.0\" encoding=\"UTF-8\" standalone=\"no\"?>\n",
       "<!DOCTYPE svg PUBLIC \"-//W3C//DTD SVG 1.1//EN\"\n",
       " \"http://www.w3.org/Graphics/SVG/1.1/DTD/svg11.dtd\">\n",
       "<!-- Generated by graphviz version 2.38.0 (20140413.2041)\n",
       " -->\n",
       "<!-- Title: G Pages: 1 -->\n",
       "<svg width=\"504pt\" height=\"260pt\"\n",
       " viewBox=\"0.00 0.00 504.05 260.00\" xmlns=\"http://www.w3.org/2000/svg\" xmlns:xlink=\"http://www.w3.org/1999/xlink\">\n",
       "<g id=\"graph0\" class=\"graph\" transform=\"scale(1 1) rotate(0) translate(4 256)\">\n",
       "<title>G</title>\n",
       "<polygon fill=\"white\" stroke=\"none\" points=\"-4,4 -4,-256 500.053,-256 500.053,4 -4,4\"/>\n",
       "<!-- Exertion -->\n",
       "<g id=\"node1\" class=\"node\"><title>Exertion</title>\n",
       "<defs>\n",
       "<linearGradient id=\"l_0\" gradientUnits=\"userSpaceOnUse\" x1=\"40.6287\" y1=\"-144\" x2=\"40.6287\" y2=\"-180\" >\n",
       "<stop offset=\"0\" style=\"stop-color:#ceccff;stop-opacity:1.;\"/>\n",
       "<stop offset=\"1\" style=\"stop-color:white;stop-opacity:1.;\"/>\n",
       "</linearGradient>\n",
       "</defs>\n",
       "<ellipse fill=\"url(#l_0)\" stroke=\"#ff638d\" cx=\"40.6287\" cy=\"-162\" rx=\"40.7579\" ry=\"18\"/>\n",
       "<text text-anchor=\"middle\" x=\"40.6287\" y=\"-158.9\" font-family=\"Acme-Regular.ttf\" font-size=\"12.00\">Exertion</text>\n",
       "</g>\n",
       "<!-- WorkCapacity -->\n",
       "<g id=\"node2\" class=\"node\"><title>WorkCapacity</title>\n",
       "<defs>\n",
       "<linearGradient id=\"l_1\" gradientUnits=\"userSpaceOnUse\" x1=\"188.629\" y1=\"-72\" x2=\"188.629\" y2=\"-108\" >\n",
       "<stop offset=\"0\" style=\"stop-color:#ceccff;stop-opacity:1.;\"/>\n",
       "<stop offset=\"1\" style=\"stop-color:white;stop-opacity:1.;\"/>\n",
       "</linearGradient>\n",
       "</defs>\n",
       "<ellipse fill=\"url(#l_1)\" stroke=\"#ff638d\" cx=\"188.629\" cy=\"-90\" rx=\"60.8863\" ry=\"18\"/>\n",
       "<text text-anchor=\"middle\" x=\"188.629\" y=\"-86.9\" font-family=\"Acme-Regular.ttf\" font-size=\"12.00\">WorkCapacity</text>\n",
       "</g>\n",
       "<!-- Exertion&#45;&gt;WorkCapacity -->\n",
       "<g id=\"edge1\" class=\"edge\"><title>Exertion&#45;&gt;WorkCapacity</title>\n",
       "<path fill=\"none\" stroke=\"#ff638d\" d=\"M67.4304,-148.324C90.0581,-137.621 122.791,-122.14 148.537,-109.962\"/>\n",
       "<polygon fill=\"#ff638d\" stroke=\"#ff638d\" points=\"150.131,-113.08 157.674,-105.641 147.138,-106.752 150.131,-113.08\"/>\n",
       "</g>\n",
       "<!-- Absenteeism -->\n",
       "<g id=\"node3\" class=\"node\"><title>Absenteeism</title>\n",
       "<defs>\n",
       "<linearGradient id=\"l_2\" gradientUnits=\"userSpaceOnUse\" x1=\"382.629\" y1=\"-1.77636e-14\" x2=\"382.629\" y2=\"-36\" >\n",
       "<stop offset=\"0\" style=\"stop-color:#ceccff;stop-opacity:1.;\"/>\n",
       "<stop offset=\"1\" style=\"stop-color:white;stop-opacity:1.;\"/>\n",
       "</linearGradient>\n",
       "</defs>\n",
       "<ellipse fill=\"url(#l_2)\" stroke=\"#ff638d\" cx=\"382.629\" cy=\"-18\" rx=\"57.7307\" ry=\"18\"/>\n",
       "<text text-anchor=\"middle\" x=\"382.629\" y=\"-14.9\" font-family=\"Acme-Regular.ttf\" font-size=\"12.00\">Absenteeism</text>\n",
       "</g>\n",
       "<!-- WorkCapacity&#45;&gt;Absenteeism -->\n",
       "<g id=\"edge2\" class=\"edge\"><title>WorkCapacity&#45;&gt;Absenteeism</title>\n",
       "<path fill=\"none\" stroke=\"#ff638d\" d=\"M225.575,-75.6688C257.094,-64.2961 302.559,-47.8911 336.469,-35.6556\"/>\n",
       "<polygon fill=\"#ff638d\" stroke=\"#ff638d\" points=\"337.93,-38.8493 346.149,-32.1629 335.554,-32.2648 337.93,-38.8493\"/>\n",
       "</g>\n",
       "<!-- Experience -->\n",
       "<g id=\"node4\" class=\"node\"><title>Experience</title>\n",
       "<defs>\n",
       "<linearGradient id=\"l_3\" gradientUnits=\"userSpaceOnUse\" x1=\"188.629\" y1=\"-144\" x2=\"188.629\" y2=\"-180\" >\n",
       "<stop offset=\"0\" style=\"stop-color:#ceccff;stop-opacity:1.;\"/>\n",
       "<stop offset=\"1\" style=\"stop-color:white;stop-opacity:1.;\"/>\n",
       "</linearGradient>\n",
       "</defs>\n",
       "<ellipse fill=\"url(#l_3)\" stroke=\"#ff638d\" cx=\"188.629\" cy=\"-162\" rx=\"51.1876\" ry=\"18\"/>\n",
       "<text text-anchor=\"middle\" x=\"188.629\" y=\"-158.9\" font-family=\"Acme-Regular.ttf\" font-size=\"12.00\">Experience</text>\n",
       "</g>\n",
       "<!-- Experience&#45;&gt;WorkCapacity -->\n",
       "<g id=\"edge3\" class=\"edge\"><title>Experience&#45;&gt;WorkCapacity</title>\n",
       "<path fill=\"none\" stroke=\"#ff638d\" d=\"M188.629,-143.697C188.629,-135.983 188.629,-126.712 188.629,-118.112\"/>\n",
       "<polygon fill=\"#ff638d\" stroke=\"#ff638d\" points=\"192.129,-118.104 188.629,-108.104 185.129,-118.104 192.129,-118.104\"/>\n",
       "</g>\n",
       "<!-- Training -->\n",
       "<g id=\"node5\" class=\"node\"><title>Training</title>\n",
       "<defs>\n",
       "<linearGradient id=\"l_4\" gradientUnits=\"userSpaceOnUse\" x1=\"296.629\" y1=\"-144\" x2=\"296.629\" y2=\"-180\" >\n",
       "<stop offset=\"0\" style=\"stop-color:#ceccff;stop-opacity:1.;\"/>\n",
       "<stop offset=\"1\" style=\"stop-color:white;stop-opacity:1.;\"/>\n",
       "</linearGradient>\n",
       "</defs>\n",
       "<ellipse fill=\"url(#l_4)\" stroke=\"#ff638d\" cx=\"296.629\" cy=\"-162\" rx=\"39.2954\" ry=\"18\"/>\n",
       "<text text-anchor=\"middle\" x=\"296.629\" y=\"-158.9\" font-family=\"Acme-Regular.ttf\" font-size=\"12.00\">Training</text>\n",
       "</g>\n",
       "<!-- Training&#45;&gt;WorkCapacity -->\n",
       "<g id=\"edge4\" class=\"edge\"><title>Training&#45;&gt;WorkCapacity</title>\n",
       "<path fill=\"none\" stroke=\"#ff638d\" d=\"M274.773,-146.834C259.447,-136.901 238.689,-123.447 221.39,-112.234\"/>\n",
       "<polygon fill=\"#ff638d\" stroke=\"#ff638d\" points=\"223.002,-109.108 212.706,-106.606 219.194,-114.982 223.002,-109.108\"/>\n",
       "</g>\n",
       "<!-- Time -->\n",
       "<g id=\"node6\" class=\"node\"><title>Time</title>\n",
       "<defs>\n",
       "<linearGradient id=\"l_5\" gradientUnits=\"userSpaceOnUse\" x1=\"188.629\" y1=\"-216\" x2=\"188.629\" y2=\"-252\" >\n",
       "<stop offset=\"0\" style=\"stop-color:#ceccff;stop-opacity:1.;\"/>\n",
       "<stop offset=\"1\" style=\"stop-color:white;stop-opacity:1.;\"/>\n",
       "</linearGradient>\n",
       "</defs>\n",
       "<ellipse fill=\"url(#l_5)\" stroke=\"#ff638d\" cx=\"188.629\" cy=\"-234\" rx=\"28.8653\" ry=\"18\"/>\n",
       "<text text-anchor=\"middle\" x=\"188.629\" y=\"-230.9\" font-family=\"Acme-Regular.ttf\" font-size=\"12.00\">Time</text>\n",
       "</g>\n",
       "<!-- Time&#45;&gt;Exertion -->\n",
       "<g id=\"edge7\" class=\"edge\"><title>Time&#45;&gt;Exertion</title>\n",
       "<path fill=\"none\" stroke=\"#ff638d\" d=\"M166.151,-222.369C142.321,-211.098 104.34,-193.134 76.3925,-179.915\"/>\n",
       "<polygon fill=\"#ff638d\" stroke=\"#ff638d\" points=\"77.8704,-176.743 67.334,-175.631 74.8774,-183.07 77.8704,-176.743\"/>\n",
       "</g>\n",
       "<!-- Time&#45;&gt;WorkCapacity -->\n",
       "<g id=\"edge5\" class=\"edge\"><title>Time&#45;&gt;WorkCapacity</title>\n",
       "<path fill=\"none\" stroke=\"#ff638d\" d=\"M168.06,-221.338C154.068,-212.128 136.685,-197.865 128.629,-180 122.052,-165.414 122.052,-158.586 128.629,-144 134.174,-131.703 144.138,-121.112 154.374,-112.702\"/>\n",
       "<polygon fill=\"#ff638d\" stroke=\"#ff638d\" points=\"156.75,-115.291 162.562,-106.433 152.494,-109.733 156.75,-115.291\"/>\n",
       "</g>\n",
       "<!-- Time&#45;&gt;Absenteeism -->\n",
       "<g id=\"edge6\" class=\"edge\"><title>Time&#45;&gt;Absenteeism</title>\n",
       "<path fill=\"none\" stroke=\"#ff638d\" d=\"M217.308,-231.387C252.496,-227.821 311.545,-216.413 344.629,-180 378.408,-142.822 383.768,-81.2912 383.774,-46.0394\"/>\n",
       "<polygon fill=\"#ff638d\" stroke=\"#ff638d\" points=\"387.273,-45.9475 383.629,-35.9989 380.274,-46.0483 387.273,-45.9475\"/>\n",
       "</g>\n",
       "<!-- Time&#45;&gt;Experience -->\n",
       "<g id=\"edge8\" class=\"edge\"><title>Time&#45;&gt;Experience</title>\n",
       "<path fill=\"none\" stroke=\"#ff638d\" d=\"M188.629,-215.697C188.629,-207.983 188.629,-198.712 188.629,-190.112\"/>\n",
       "<polygon fill=\"#ff638d\" stroke=\"#ff638d\" points=\"192.129,-190.104 188.629,-180.104 185.129,-190.104 192.129,-190.104\"/>\n",
       "</g>\n",
       "<!-- Time&#45;&gt;Training -->\n",
       "<g id=\"edge9\" class=\"edge\"><title>Time&#45;&gt;Training</title>\n",
       "<path fill=\"none\" stroke=\"#ff638d\" d=\"M207.937,-220.485C224.174,-209.961 247.668,-194.734 266.397,-182.595\"/>\n",
       "<polygon fill=\"#ff638d\" stroke=\"#ff638d\" points=\"268.401,-185.467 274.889,-177.091 264.594,-179.593 268.401,-185.467\"/>\n",
       "</g>\n",
       "<!-- Process -->\n",
       "<g id=\"node7\" class=\"node\"><title>Process</title>\n",
       "<defs>\n",
       "<linearGradient id=\"l_6\" gradientUnits=\"userSpaceOnUse\" x1=\"456.629\" y1=\"-216\" x2=\"456.629\" y2=\"-252\" >\n",
       "<stop offset=\"0\" style=\"stop-color:#ceccff;stop-opacity:1.;\"/>\n",
       "<stop offset=\"1\" style=\"stop-color:white;stop-opacity:1.;\"/>\n",
       "</linearGradient>\n",
       "</defs>\n",
       "<ellipse fill=\"url(#l_6)\" stroke=\"#ff638d\" cx=\"456.629\" cy=\"-234\" rx=\"38.5652\" ry=\"18\"/>\n",
       "<text text-anchor=\"middle\" x=\"456.629\" y=\"-230.9\" font-family=\"Acme-Regular.ttf\" font-size=\"12.00\">Process</text>\n",
       "</g>\n",
       "<!-- Process&#45;&gt;Absenteeism -->\n",
       "<g id=\"edge12\" class=\"edge\"><title>Process&#45;&gt;Absenteeism</title>\n",
       "<path fill=\"none\" stroke=\"#ff638d\" d=\"M443.28,-216.741C435.641,-206.698 426.449,-193.237 420.629,-180 401.001,-135.357 390.693,-79.103 385.976,-46.2823\"/>\n",
       "<polygon fill=\"#ff638d\" stroke=\"#ff638d\" points=\"389.407,-45.5352 384.586,-36.1008 382.471,-46.4825 389.407,-45.5352\"/>\n",
       "</g>\n",
       "<!-- Tool -->\n",
       "<g id=\"node8\" class=\"node\"><title>Tool</title>\n",
       "<defs>\n",
       "<linearGradient id=\"l_7\" gradientUnits=\"userSpaceOnUse\" x1=\"456.629\" y1=\"-144\" x2=\"456.629\" y2=\"-180\" >\n",
       "<stop offset=\"0\" style=\"stop-color:#ceccff;stop-opacity:1.;\"/>\n",
       "<stop offset=\"1\" style=\"stop-color:white;stop-opacity:1.;\"/>\n",
       "</linearGradient>\n",
       "</defs>\n",
       "<ellipse fill=\"url(#l_7)\" stroke=\"#ff638d\" cx=\"456.629\" cy=\"-162\" rx=\"27\" ry=\"18\"/>\n",
       "<text text-anchor=\"middle\" x=\"456.629\" y=\"-158.9\" font-family=\"Acme-Regular.ttf\" font-size=\"12.00\">Tool</text>\n",
       "</g>\n",
       "<!-- Process&#45;&gt;Tool -->\n",
       "<g id=\"edge10\" class=\"edge\"><title>Process&#45;&gt;Tool</title>\n",
       "<path fill=\"none\" stroke=\"#ff638d\" d=\"M456.629,-215.697C456.629,-207.983 456.629,-198.712 456.629,-190.112\"/>\n",
       "<polygon fill=\"#ff638d\" stroke=\"#ff638d\" points=\"460.129,-190.104 456.629,-180.104 453.129,-190.104 460.129,-190.104\"/>\n",
       "</g>\n",
       "<!-- Injury -->\n",
       "<g id=\"node9\" class=\"node\"><title>Injury</title>\n",
       "<defs>\n",
       "<linearGradient id=\"l_8\" gradientUnits=\"userSpaceOnUse\" x1=\"460.629\" y1=\"-72\" x2=\"460.629\" y2=\"-108\" >\n",
       "<stop offset=\"0\" style=\"stop-color:#ceccff;stop-opacity:1.;\"/>\n",
       "<stop offset=\"1\" style=\"stop-color:white;stop-opacity:1.;\"/>\n",
       "</linearGradient>\n",
       "</defs>\n",
       "<ellipse fill=\"url(#l_8)\" stroke=\"#ff638d\" cx=\"460.629\" cy=\"-90\" rx=\"30.5603\" ry=\"18\"/>\n",
       "<text text-anchor=\"middle\" x=\"460.629\" y=\"-86.9\" font-family=\"Acme-Regular.ttf\" font-size=\"12.00\">Injury</text>\n",
       "</g>\n",
       "<!-- Process&#45;&gt;Injury -->\n",
       "<g id=\"edge11\" class=\"edge\"><title>Process&#45;&gt;Injury</title>\n",
       "<path fill=\"none\" stroke=\"#ff638d\" d=\"M471.118,-217.166C479.161,-207.273 488.379,-193.822 492.629,-180 497.332,-164.707 496.921,-159.414 492.629,-144 489.804,-133.856 484.455,-123.714 478.927,-115.058\"/>\n",
       "<polygon fill=\"#ff638d\" stroke=\"#ff638d\" points=\"481.718,-112.938 473.2,-106.638 475.93,-116.875 481.718,-112.938\"/>\n",
       "</g>\n",
       "<!-- Tool&#45;&gt;Injury -->\n",
       "<g id=\"edge13\" class=\"edge\"><title>Tool&#45;&gt;Injury</title>\n",
       "<path fill=\"none\" stroke=\"#ff638d\" d=\"M457.618,-143.697C458.058,-135.983 458.588,-126.712 459.079,-118.112\"/>\n",
       "<polygon fill=\"#ff638d\" stroke=\"#ff638d\" points=\"462.575,-118.288 459.651,-108.104 455.586,-117.888 462.575,-118.288\"/>\n",
       "</g>\n",
       "<!-- Injury&#45;&gt;Absenteeism -->\n",
       "<g id=\"edge14\" class=\"edge\"><title>Injury&#45;&gt;Absenteeism</title>\n",
       "<path fill=\"none\" stroke=\"#ff638d\" d=\"M444.467,-74.496C433.998,-65.1008 420.14,-52.6635 408.196,-41.9446\"/>\n",
       "<polygon fill=\"#ff638d\" stroke=\"#ff638d\" points=\"410.458,-39.2725 400.678,-35.1982 405.783,-44.4822 410.458,-39.2725\"/>\n",
       "</g>\n",
       "</g>\n",
       "</svg>\n"
      ],
      "text/plain": [
       "<graphviz.dot.Digraph at 0x7f346e090390>"
      ]
     },
     "execution_count": 30,
     "metadata": {},
     "output_type": "execute_result"
    }
   ],
   "source": [
    "drawGraph(carModel)"
   ]
  },
  {
   "cell_type": "markdown",
   "metadata": {
    "lines_to_next_cell": 2,
    "title": "markdown"
   },
   "source": [
    "#### Testing marginal independence:\n",
    "$$\n",
    "\\color{DodgerBlue}{\\text{WorkCapacity (unobserved)}: \\;\\;\\;\\;\\;\\;\\;  \\text{Exertion} \\; \\bot \\; \\text{Training}}\n",
    "$$\n",
    "\n",
    "Given that **WorkCapacity**'s state is NOT observed, we can make the following equivalent statements:\n",
    "* there is NO active trail between **Exertion** and **Training**.\n",
    "* **Exertion** and **Training** are locally independent.\n",
    "* the probability of **Exertion** won't influence probability of **Training** (and vice versa).\n"
   ]
  },
  {
   "cell_type": "markdown",
   "metadata": {
    "lines_to_next_cell": 0,
    "title": "markdown"
   },
   "source": [
    "**Testing Marginal Independence:** Using Active Trails Methods"
   ]
  },
  {
   "cell_type": "code",
   "execution_count": 31,
   "metadata": {
    "lines_to_next_cell": 2,
    "title": "codecell"
   },
   "outputs": [],
   "source": [
    "# When NOT observing the state of the middle node, there is NO active trail (but need to bserve the Time var state because this is a backdoor)\n",
    "assert not carModel.is_active_trail(start = Exertion.var, end = Training.var, observed = [Time.var])\n",
    "\n",
    "# When observing the state, there is IS an active trail (also must always account for the backdoor, Time)\n",
    "assert carModel.is_active_trail(start = Exertion.var, end = Training.var, observed = [WorkCapacity.var, Time.var])\n",
    "\n",
    "assert carModel.is_active_trail(start = Exertion.var, end = Training.var, observed = [WorkCapacity.var]), \"Check: still need to condition on extra variable for this not to be an active trail\""
   ]
  },
  {
   "cell_type": "code",
   "execution_count": 32,
   "metadata": {
    "lines_to_next_cell": 0,
    "title": "codecell"
   },
   "outputs": [
    {
     "name": "stdout",
     "output_type": "stream",
     "text": [
      "Exertion --> Absenteeism\n",
      "Exertion --> WorkCapacity\n",
      "Training --> Absenteeism\n",
      "Training --> WorkCapacity\n"
     ]
    }
   ],
   "source": [
    "# Finding out which extra variable to condition on: this is the backdoor\n",
    "# TODO problem here returning Time Time twice!\n",
    "observedVars(carModel, start= Exertion, end= Training)\n",
    "assert observedVars(carModel, start= Exertion, end= Training) == [{'Time'}], \"Check: all list of extra variables (backdoors) to condition on to ACTIVATE active trail between Exertion and Training\"\n",
    "\n",
    "\n",
    "# See, there is no active trail from Exertion to Training when not observing WorkCapacity.\n",
    "showActiveTrails(carModel, variables = [Exertion, Training], observed = [Time])"
   ]
  },
  {
   "cell_type": "code",
   "execution_count": 33,
   "metadata": {
    "title": "codecell"
   },
   "outputs": [
    {
     "name": "stdout",
     "output_type": "stream",
     "text": [
      "Exertion --> Experience\n",
      "Exertion --> Training\n",
      "Training --> Exertion\n",
      "Training --> Experience\n"
     ]
    }
   ],
   "source": [
    "\n",
    "# See, there IS active trail from Exertion to Training when observing WorkCapacity.\n",
    "showActiveTrails(carModel, variables = [Exertion, Training], observed = [WorkCapacity, Time])"
   ]
  },
  {
   "cell_type": "markdown",
   "metadata": {
    "lines_to_next_cell": 0,
    "title": "markdown"
   },
   "source": [
    "**Testing Marginal Independence:** Using Probabilities"
   ]
  },
  {
   "cell_type": "code",
   "execution_count": 34,
   "metadata": {
    "title": "codecell"
   },
   "outputs": [
    {
     "name": "stderr",
     "output_type": "stream",
     "text": [
      "\r",
      "  0%|          | 0/7 [00:00<?, ?it/s]"
     ]
    },
    {
     "name": "stderr",
     "output_type": "stream",
     "text": [
      "\r",
      "Finding Elimination Order: :   0%|          | 0/7 [00:00<?, ?it/s]"
     ]
    },
    {
     "name": "stderr",
     "output_type": "stream",
     "text": [
      "\r",
      "Finding Elimination Order: : 100%|██████████| 7/7 [00:00<00:00, 3249.60it/s]"
     ]
    },
    {
     "name": "stderr",
     "output_type": "stream",
     "text": [
      "\n",
      "\r",
      "  0%|          | 0/7 [00:00<?, ?it/s]"
     ]
    },
    {
     "name": "stderr",
     "output_type": "stream",
     "text": [
      "\r",
      "Eliminating: Absenteeism:   0%|          | 0/7 [00:00<?, ?it/s]"
     ]
    },
    {
     "name": "stderr",
     "output_type": "stream",
     "text": [
      "\r",
      "Eliminating: WorkCapacity:   0%|          | 0/7 [00:00<?, ?it/s]"
     ]
    },
    {
     "name": "stderr",
     "output_type": "stream",
     "text": [
      "\r",
      "Eliminating: Injury:   0%|          | 0/7 [00:00<?, ?it/s]      "
     ]
    },
    {
     "name": "stderr",
     "output_type": "stream",
     "text": [
      "\r",
      "Eliminating: Process:   0%|          | 0/7 [00:00<?, ?it/s]"
     ]
    },
    {
     "name": "stderr",
     "output_type": "stream",
     "text": [
      "\r",
      "Eliminating: Tool:   0%|          | 0/7 [00:00<?, ?it/s]   "
     ]
    },
    {
     "name": "stderr",
     "output_type": "stream",
     "text": [
      "\r",
      "Eliminating: Experience:   0%|          | 0/7 [00:00<?, ?it/s]"
     ]
    },
    {
     "name": "stderr",
     "output_type": "stream",
     "text": [
      "\r",
      "Eliminating: Training:   0%|          | 0/7 [00:00<?, ?it/s]  "
     ]
    },
    {
     "name": "stderr",
     "output_type": "stream",
     "text": [
      "\r",
      "Eliminating: Training: 100%|██████████| 7/7 [00:00<00:00, 88.04it/s]"
     ]
    },
    {
     "name": "stderr",
     "output_type": "stream",
     "text": [
      "\n"
     ]
    },
    {
     "name": "stderr",
     "output_type": "stream",
     "text": [
      "\r",
      "  0%|          | 0/6 [00:00<?, ?it/s]"
     ]
    },
    {
     "name": "stderr",
     "output_type": "stream",
     "text": [
      "\r",
      "Finding Elimination Order: :   0%|          | 0/6 [00:00<?, ?it/s]"
     ]
    },
    {
     "name": "stderr",
     "output_type": "stream",
     "text": [
      "\r",
      "Finding Elimination Order: : 100%|██████████| 6/6 [00:00<00:00, 3796.32it/s]"
     ]
    },
    {
     "name": "stderr",
     "output_type": "stream",
     "text": [
      "\n",
      "\r",
      "  0%|          | 0/6 [00:00<?, ?it/s]"
     ]
    },
    {
     "name": "stderr",
     "output_type": "stream",
     "text": [
      "\r",
      "Eliminating: Absenteeism:   0%|          | 0/6 [00:00<?, ?it/s]"
     ]
    },
    {
     "name": "stderr",
     "output_type": "stream",
     "text": [
      "\r",
      "Eliminating: WorkCapacity:   0%|          | 0/6 [00:00<?, ?it/s]"
     ]
    },
    {
     "name": "stderr",
     "output_type": "stream",
     "text": [
      "\r",
      "Eliminating: Injury:   0%|          | 0/6 [00:00<?, ?it/s]      "
     ]
    },
    {
     "name": "stderr",
     "output_type": "stream",
     "text": [
      "\r",
      "Eliminating: Process:   0%|          | 0/6 [00:00<?, ?it/s]"
     ]
    },
    {
     "name": "stderr",
     "output_type": "stream",
     "text": [
      "\r",
      "Eliminating: Tool:   0%|          | 0/6 [00:00<?, ?it/s]   "
     ]
    },
    {
     "name": "stderr",
     "output_type": "stream",
     "text": [
      "\r",
      "Eliminating: Experience:   0%|          | 0/6 [00:00<?, ?it/s]"
     ]
    },
    {
     "name": "stderr",
     "output_type": "stream",
     "text": [
      "\r",
      "Eliminating: Experience: 100%|██████████| 6/6 [00:00<00:00, 197.21it/s]"
     ]
    },
    {
     "name": "stderr",
     "output_type": "stream",
     "text": [
      "\n"
     ]
    },
    {
     "name": "stderr",
     "output_type": "stream",
     "text": [
      "\r",
      "  0%|          | 0/6 [00:00<?, ?it/s]"
     ]
    },
    {
     "name": "stderr",
     "output_type": "stream",
     "text": [
      "\r",
      "Finding Elimination Order: :   0%|          | 0/6 [00:00<?, ?it/s]"
     ]
    },
    {
     "name": "stderr",
     "output_type": "stream",
     "text": [
      "\r",
      "Finding Elimination Order: : 100%|██████████| 6/6 [00:00<00:00, 3006.31it/s]"
     ]
    },
    {
     "name": "stderr",
     "output_type": "stream",
     "text": [
      "\n",
      "\r",
      "  0%|          | 0/6 [00:00<?, ?it/s]"
     ]
    },
    {
     "name": "stderr",
     "output_type": "stream",
     "text": [
      "\r",
      "Eliminating: Absenteeism:   0%|          | 0/6 [00:00<?, ?it/s]"
     ]
    },
    {
     "name": "stderr",
     "output_type": "stream",
     "text": [
      "\r",
      "Eliminating: WorkCapacity:   0%|          | 0/6 [00:00<?, ?it/s]"
     ]
    },
    {
     "name": "stderr",
     "output_type": "stream",
     "text": [
      "\r",
      "Eliminating: Injury:   0%|          | 0/6 [00:00<?, ?it/s]      "
     ]
    },
    {
     "name": "stderr",
     "output_type": "stream",
     "text": [
      "\r",
      "Eliminating: Process:   0%|          | 0/6 [00:00<?, ?it/s]"
     ]
    },
    {
     "name": "stderr",
     "output_type": "stream",
     "text": [
      "\r",
      "Eliminating: Tool:   0%|          | 0/6 [00:00<?, ?it/s]   "
     ]
    },
    {
     "name": "stderr",
     "output_type": "stream",
     "text": [
      "\r",
      "Eliminating: Experience:   0%|          | 0/6 [00:00<?, ?it/s]"
     ]
    },
    {
     "name": "stderr",
     "output_type": "stream",
     "text": [
      "\r",
      "Eliminating: Experience: 100%|██████████| 6/6 [00:00<00:00, 184.56it/s]"
     ]
    },
    {
     "name": "stderr",
     "output_type": "stream",
     "text": [
      "\n"
     ]
    },
    {
     "name": "stderr",
     "output_type": "stream",
     "text": [
      "\r",
      "  0%|          | 0/6 [00:00<?, ?it/s]"
     ]
    },
    {
     "name": "stderr",
     "output_type": "stream",
     "text": [
      "\r",
      "Finding Elimination Order: :   0%|          | 0/6 [00:00<?, ?it/s]"
     ]
    },
    {
     "name": "stderr",
     "output_type": "stream",
     "text": [
      "\r",
      "Finding Elimination Order: : 100%|██████████| 6/6 [00:00<00:00, 1774.24it/s]"
     ]
    },
    {
     "name": "stderr",
     "output_type": "stream",
     "text": [
      "\n",
      "\r",
      "  0%|          | 0/6 [00:00<?, ?it/s]"
     ]
    },
    {
     "name": "stderr",
     "output_type": "stream",
     "text": [
      "\r",
      "Eliminating: Absenteeism:   0%|          | 0/6 [00:00<?, ?it/s]"
     ]
    },
    {
     "name": "stderr",
     "output_type": "stream",
     "text": [
      "\r",
      "Eliminating: WorkCapacity:   0%|          | 0/6 [00:00<?, ?it/s]"
     ]
    },
    {
     "name": "stderr",
     "output_type": "stream",
     "text": [
      "\r",
      "Eliminating: Injury:   0%|          | 0/6 [00:00<?, ?it/s]      "
     ]
    },
    {
     "name": "stderr",
     "output_type": "stream",
     "text": [
      "\r",
      "Eliminating: Process:   0%|          | 0/6 [00:00<?, ?it/s]"
     ]
    },
    {
     "name": "stderr",
     "output_type": "stream",
     "text": [
      "\r",
      "Eliminating: Tool:   0%|          | 0/6 [00:00<?, ?it/s]   "
     ]
    },
    {
     "name": "stderr",
     "output_type": "stream",
     "text": [
      "\r",
      "Eliminating: Experience:   0%|          | 0/6 [00:00<?, ?it/s]"
     ]
    },
    {
     "name": "stderr",
     "output_type": "stream",
     "text": [
      "\r",
      "Eliminating: Experience: 100%|██████████| 6/6 [00:00<00:00, 142.77it/s]"
     ]
    },
    {
     "name": "stdout",
     "output_type": "stream",
     "text": [
      "+------------------+-----------------+\n",
      "| Exertion         |   phi(Exertion) |\n",
      "+==================+=================+\n",
      "| Exertion(High)   |          0.9927 |\n",
      "+------------------+-----------------+\n",
      "| Exertion(Low)    |          0.0037 |\n",
      "+------------------+-----------------+\n",
      "| Exertion(Medium) |          0.0037 |\n",
      "+------------------+-----------------+\n"
     ]
    },
    {
     "name": "stderr",
     "output_type": "stream",
     "text": [
      "\n"
     ]
    }
   ],
   "source": [
    "# OBS_STATE_WORKCAPACITY: State = 'Low' # remember, not observing the state of the middle node.\n",
    "OBS_STATE_TIME: int = 23\n",
    "\n",
    "# TODO DIFFERENT plus HERE\n",
    "backdoorStates: Dict[Name, State] = {Time.var : OBS_STATE_TIME}\n",
    "backdoorStateSet: Dict[Name, Set[State]] = {Time.var : {OBS_STATE_TIME}}\n",
    "\n",
    "TE: DiscreteFactor = elim.query(variables = [Exertion.var], evidence = backdoorStates)\n",
    "\n",
    "TE_1: DiscreteFactor = elim.query(variables = [Exertion.var],\n",
    "                                  evidence = backdoorStates |o| {Training.var : 'High'})\n",
    "\n",
    "TE_2: DiscreteFactor = elim.query(variables = [Exertion.var],\n",
    "                                  evidence = backdoorStates |o| {Training.var : 'Medium'})\n",
    "\n",
    "TE_3: DiscreteFactor = elim.query(variables = [Exertion.var],\n",
    "                                  evidence = backdoorStates |o| {Training.var : 'Low'})\n",
    "print(TE)\n",
    "\n"
   ]
  },
  {
   "cell_type": "markdown",
   "metadata": {
    "lines_to_next_cell": 0,
    "title": "markdown"
   },
   "source": [
    "\n",
    "The probabilities above are stated formulaically as follows:\n",
    "$$\n",
    "\\begin{array}{ll}\n",
    "P(\\text{Exertion} = \\text{High} \\; | \\; \\Big\\{ \\text{Time} = 23  \\Big\\}) \\\\\n",
    "= P(\\text{Exertion} = \\text{High} \\; | \\; \\Big\\{ \\text{Time} = 23 \\Big\\} \\; \\cap \\; \\text{Training} = \\text{Low})  \\\\\n",
    "= P(\\text{Exertion} = \\text{High} \\; | \\; \\Big\\{ \\text{Time} = 23 \\Big\\} \\; \\cap \\; \\text{Training} = \\text{Medium}) \\\\\n",
    "= P(\\text{Exertion} = \\text{High} \\; | \\; \\Big\\{\\text{Time} = 23 \\Big\\} \\; \\cap \\; \\text{Training} = \\text{High}) \\\\\n",
    "= 0.9927\n",
    "\\end{array}\n",
    "$$\n",
    "$$\n",
    "\\begin{array}{ll}\n",
    "P(\\text{Exertion} = \\text{Low} \\; | \\; \\Big\\{ \\text{Time} = 23 \\Big\\}) \\\\\n",
    "= P(\\text{Exertion} = \\text{Low} \\; | \\; \\Big\\{ \\text{Time} = 23 \\Big\\} \\; \\cap \\; \\text{Training} = \\text{Low})  \\\\\n",
    "= P(\\text{Exertion} = \\text{Low} \\; | \\; \\Big\\{ \\text{Time} = 23 \\Big\\} \\; \\cap \\; \\text{Training} = \\text{Medium}) \\\\\n",
    "= P(\\text{Exertion} = \\text{Low} \\; | \\; \\Big\\{\\text{Time} = 23 \\Big\\} \\; \\cap \\; \\text{Training} = \\text{High}) \\\\\n",
    "= 0.0037\n",
    "\\end{array}\n",
    "$$\n",
    "$$\n",
    "\\begin{array}{ll}\n",
    "P(\\text{Exertion} = \\text{Medium} \\; | \\; \\Big\\{ \\text{Time} = 23 \\Big\\}) \\\\\n",
    "= P(\\text{Exertion} = \\text{Medium} \\; | \\; \\Big\\{ \\text{Time} = 23 \\Big\\} \\; \\cap \\; \\text{Training} = \\text{Low})  \\\\\n",
    "= P(\\text{Exertion} = \\text{Medium} \\; | \\; \\Big\\{ \\text{Time} = 23 \\Big\\} \\; \\cap \\; \\text{Training} = \\text{Medium}) \\\\\n",
    "= P(\\text{Exertion} = \\text{Medium} \\; | \\; \\Big\\{ \\text{Time} = 23 \\Big\\} \\; \\cap \\; \\text{Training} = \\text{High}) \\\\\n",
    "= 0.0037\n",
    "\\end{array}\n",
    "$$\n",
    "\n",
    "Since all the above stated probabilities are equal for each state of `Exertion` = `Low`, `Medium`, `High`, we can assert that the random variables `Training` and `Exertion` are independent of each other, when NOT observing `WorkCapacity` state (but also observing the state of `Time` to adjust for backdoors). Arbitrarily choosing the `backdoorStates` = `{Time = 23}`, we can write:\n",
    "$$\n",
    "P(\\text{Exertion} \\; | \\; \\{\\texttt{backdoorStates} \\}) = P(\\text{Exertion} \\; | \\; \\{ \\texttt{backdoorStates} \\} \\; \\cap \\; \\text{Training})\n",
    "$$\n"
   ]
  },
  {
   "cell_type": "code",
   "execution_count": 35,
   "metadata": {
    "title": "codecell"
   },
   "outputs": [
    {
     "data": {
      "text/html": [
       "<div>\n",
       "<style scoped>\n",
       "    .dataframe tbody tr th:only-of-type {\n",
       "        vertical-align: middle;\n",
       "    }\n",
       "\n",
       "    .dataframe tbody tr th {\n",
       "        vertical-align: top;\n",
       "    }\n",
       "\n",
       "    .dataframe thead th {\n",
       "        text-align: right;\n",
       "    }\n",
       "</style>\n",
       "<table border=\"1\" class=\"dataframe\">\n",
       "  <thead>\n",
       "    <tr style=\"text-align: right;\">\n",
       "      <th></th>\n",
       "      <th>Exertion</th>\n",
       "      <th>High</th>\n",
       "      <th>Low</th>\n",
       "      <th>Medium</th>\n",
       "    </tr>\n",
       "    <tr>\n",
       "      <th>Time</th>\n",
       "      <th>Training</th>\n",
       "      <th></th>\n",
       "      <th></th>\n",
       "      <th></th>\n",
       "    </tr>\n",
       "  </thead>\n",
       "  <tbody>\n",
       "    <tr>\n",
       "      <th rowspan=\"3\" valign=\"top\">23</th>\n",
       "      <th>High</th>\n",
       "      <td>0.992674</td>\n",
       "      <td>0.003663</td>\n",
       "      <td>0.003663</td>\n",
       "    </tr>\n",
       "    <tr>\n",
       "      <th>Medium</th>\n",
       "      <td>0.992674</td>\n",
       "      <td>0.003663</td>\n",
       "      <td>0.003663</td>\n",
       "    </tr>\n",
       "    <tr>\n",
       "      <th>Low</th>\n",
       "      <td>0.992674</td>\n",
       "      <td>0.003663</td>\n",
       "      <td>0.003663</td>\n",
       "    </tr>\n",
       "  </tbody>\n",
       "</table>\n",
       "</div>"
      ],
      "text/plain": [
       "Exertion           High       Low    Medium\n",
       "Time Training                              \n",
       "23   High      0.992674  0.003663  0.003663\n",
       "     Medium    0.992674  0.003663  0.003663\n",
       "     Low       0.992674  0.003663  0.003663"
      ]
     },
     "execution_count": 35,
     "metadata": {},
     "output_type": "execute_result"
    }
   ],
   "source": [
    "assert allEqual(TE.values, TE_1.values, TE_2.values, TE_3.values), \"Check: the random variables Exertion and Training are independent, when intermediary node WorkCapacity is NOT observed (while accounting for backdoors)\"\n",
    "\n",
    "\n",
    "backdoorStateSet: Dict[Name, Set[State]] = {Time.var: {OBS_STATE_TIME}} # , WorkCapacity.var : {OBS_STATE_WORKCAPACITY} }\n",
    "\n",
    "dfTE = eliminateSlice(carModel, query = Exertion,\n",
    "                       evidence = backdoorStateSet |s| {Training.var : Training.states})\n",
    "dfTE\n",
    "\n"
   ]
  },
  {
   "cell_type": "markdown",
   "metadata": {
    "lines_to_next_cell": 2,
    "title": "markdown"
   },
   "source": [
    "#### Testing conditional dependence:\n",
    "$$\n",
    "\\color{Chartreuse}{\\text{WorkCapacity (observed)}: \\;\\;\\;\\;\\;\\;\\;  \\text{Exertion} \\longrightarrow \\text{WorkCapacity} \\longrightarrow \\text{Training}}\n",
    "$$\n",
    "$$\n",
    "\\color{LimeGreen}{\\text{WorkCapacity (observed)}: \\;\\;\\;\\;\\;\\;\\;  \\text{Exertion} \\longrightarrow \\text{WorkCapacity} \\longrightarrow \\text{Training}}\n",
    "$$\n",
    "$$\n",
    "\\color{Green}{\\text{WorkCapacity (observed)}: \\;\\;\\;\\;\\;\\;\\;  \\text{Exertion} \\longrightarrow \\text{WorkCapacity} \\longrightarrow \\text{Training}}\n",
    "$$\n",
    "Given that **WorkCapacity**'s state is observed, we can make the following equivalent statements:\n",
    "* there IS active trail between **Exertion** and **Training**.\n",
    "* **Exertion** and **Training** are dependent.\n",
    "* the probability of **Exertion** influences probability of **Training** (and vice versa).\n"
   ]
  },
  {
   "cell_type": "markdown",
   "metadata": {
    "lines_to_next_cell": 0,
    "title": "markdown"
   },
   "source": [
    "**Testing Conditional Dependence:** Using Active Trails Methods"
   ]
  },
  {
   "cell_type": "code",
   "execution_count": 36,
   "metadata": {
    "title": "codecell"
   },
   "outputs": [
    {
     "name": "stdout",
     "output_type": "stream",
     "text": [
      "Exertion --> Experience\n",
      "Exertion --> Training\n",
      "Training --> Exertion\n",
      "Training --> Experience\n"
     ]
    }
   ],
   "source": [
    "assert carModel.is_active_trail(start = Exertion.var, end = Training.var, observed = [WorkCapacity.var, Time.var])\n",
    "\n",
    "# See, there is active trail from Experience to Absenteeism when not observing WorkCapacity variable\n",
    "showActiveTrails(carModel, variables = [Exertion, Training], observed = [WorkCapacity, Time])"
   ]
  },
  {
   "cell_type": "markdown",
   "metadata": {
    "title": "markdown"
   },
   "source": [
    "**Testing Conditional Dependence:** Using Probabilities"
   ]
  },
  {
   "cell_type": "code",
   "execution_count": 37,
   "metadata": {
    "lines_to_next_cell": 0,
    "title": "codecell"
   },
   "outputs": [
    {
     "name": "stderr",
     "output_type": "stream",
     "text": [
      "\r",
      "  0%|          | 0/6 [00:00<?, ?it/s]"
     ]
    },
    {
     "name": "stderr",
     "output_type": "stream",
     "text": [
      "\r",
      "Finding Elimination Order: :   0%|          | 0/6 [00:00<?, ?it/s]"
     ]
    },
    {
     "name": "stderr",
     "output_type": "stream",
     "text": [
      "\r",
      "Finding Elimination Order: : 100%|██████████| 6/6 [00:00<00:00, 3124.64it/s]"
     ]
    },
    {
     "name": "stderr",
     "output_type": "stream",
     "text": [
      "\n",
      "\r",
      "  0%|          | 0/6 [00:00<?, ?it/s]"
     ]
    },
    {
     "name": "stderr",
     "output_type": "stream",
     "text": [
      "\r",
      "Eliminating: Absenteeism:   0%|          | 0/6 [00:00<?, ?it/s]"
     ]
    },
    {
     "name": "stderr",
     "output_type": "stream",
     "text": [
      "\r",
      "Eliminating: Injury:   0%|          | 0/6 [00:00<?, ?it/s]     "
     ]
    },
    {
     "name": "stderr",
     "output_type": "stream",
     "text": [
      "\r",
      "Eliminating: Process:   0%|          | 0/6 [00:00<?, ?it/s]"
     ]
    },
    {
     "name": "stderr",
     "output_type": "stream",
     "text": [
      "\r",
      "Eliminating: Tool:   0%|          | 0/6 [00:00<?, ?it/s]   "
     ]
    },
    {
     "name": "stderr",
     "output_type": "stream",
     "text": [
      "\r",
      "Eliminating: Experience:   0%|          | 0/6 [00:00<?, ?it/s]"
     ]
    },
    {
     "name": "stderr",
     "output_type": "stream",
     "text": [
      "\r",
      "Eliminating: Training:   0%|          | 0/6 [00:00<?, ?it/s]  "
     ]
    },
    {
     "name": "stderr",
     "output_type": "stream",
     "text": [
      "\r",
      "Eliminating: Training: 100%|██████████| 6/6 [00:00<00:00, 513.67it/s]"
     ]
    },
    {
     "name": "stdout",
     "output_type": "stream",
     "text": [
      "+------------------+-----------------+\n",
      "| Exertion         |   phi(Exertion) |\n",
      "+==================+=================+\n",
      "| Exertion(High)   |          0.9975 |\n",
      "+------------------+-----------------+\n",
      "| Exertion(Low)    |          0.0012 |\n",
      "+------------------+-----------------+\n",
      "| Exertion(Medium) |          0.0012 |\n",
      "+------------------+-----------------+\n"
     ]
    },
    {
     "name": "stderr",
     "output_type": "stream",
     "text": [
      "\n"
     ]
    }
   ],
   "source": [
    "OBS_STATE_WORKCAPACITY: State = 'Low'\n",
    "OBS_STATE_TIME: int = 23\n",
    "\n",
    "backdoorStates: Dict[Name, State] = {Time.var: OBS_STATE_TIME, WorkCapacity.var : OBS_STATE_WORKCAPACITY }\n",
    "\n",
    "TWE: DiscreteFactor = elim.query(variables = [Exertion.var],\n",
    "                                 evidence = backdoorStates)\n",
    "print(TWE)"
   ]
  },
  {
   "cell_type": "code",
   "execution_count": 38,
   "metadata": {
    "lines_to_next_cell": 0,
    "title": "codecell"
   },
   "outputs": [
    {
     "name": "stderr",
     "output_type": "stream",
     "text": [
      "\r",
      "  0%|          | 0/5 [00:00<?, ?it/s]"
     ]
    },
    {
     "name": "stderr",
     "output_type": "stream",
     "text": [
      "\r",
      "Finding Elimination Order: :   0%|          | 0/5 [00:00<?, ?it/s]"
     ]
    },
    {
     "name": "stderr",
     "output_type": "stream",
     "text": [
      "\r",
      "Finding Elimination Order: : 100%|██████████| 5/5 [00:00<00:00, 1863.64it/s]"
     ]
    },
    {
     "name": "stderr",
     "output_type": "stream",
     "text": [
      "\n",
      "\r",
      "  0%|          | 0/5 [00:00<?, ?it/s]"
     ]
    },
    {
     "name": "stderr",
     "output_type": "stream",
     "text": [
      "\r",
      "Eliminating: Absenteeism:   0%|          | 0/5 [00:00<?, ?it/s]"
     ]
    },
    {
     "name": "stderr",
     "output_type": "stream",
     "text": [
      "\r",
      "Eliminating: Injury:   0%|          | 0/5 [00:00<?, ?it/s]     "
     ]
    },
    {
     "name": "stderr",
     "output_type": "stream",
     "text": [
      "\r",
      "Eliminating: Process:   0%|          | 0/5 [00:00<?, ?it/s]"
     ]
    },
    {
     "name": "stderr",
     "output_type": "stream",
     "text": [
      "\r",
      "Eliminating: Tool:   0%|          | 0/5 [00:00<?, ?it/s]   "
     ]
    },
    {
     "name": "stderr",
     "output_type": "stream",
     "text": [
      "\r",
      "Eliminating: Experience:   0%|          | 0/5 [00:00<?, ?it/s]"
     ]
    },
    {
     "name": "stderr",
     "output_type": "stream",
     "text": [
      "\r",
      "Eliminating: Experience: 100%|██████████| 5/5 [00:00<00:00, 321.99it/s]"
     ]
    },
    {
     "name": "stdout",
     "output_type": "stream",
     "text": [
      "+------------------+-----------------+\n",
      "| Exertion         |   phi(Exertion) |\n",
      "+==================+=================+\n",
      "| Exertion(High)   |          0.9975 |\n",
      "+------------------+-----------------+\n",
      "| Exertion(Low)    |          0.0012 |\n",
      "+------------------+-----------------+\n",
      "| Exertion(Medium) |          0.0012 |\n",
      "+------------------+-----------------+\n"
     ]
    },
    {
     "name": "stderr",
     "output_type": "stream",
     "text": [
      "\n"
     ]
    }
   ],
   "source": [
    "\n",
    "TWE_1: DiscreteFactor = elim.query(variables = [Exertion.var],\n",
    "                                   evidence = backdoorStates |o| {Training.var : 'High'})\n",
    "print(TWE_1)"
   ]
  },
  {
   "cell_type": "code",
   "execution_count": 39,
   "metadata": {
    "lines_to_next_cell": 0,
    "title": "codecell"
   },
   "outputs": [
    {
     "name": "stderr",
     "output_type": "stream",
     "text": [
      "\r",
      "  0%|          | 0/5 [00:00<?, ?it/s]"
     ]
    },
    {
     "name": "stderr",
     "output_type": "stream",
     "text": [
      "\r",
      "Finding Elimination Order: :   0%|          | 0/5 [00:00<?, ?it/s]"
     ]
    },
    {
     "name": "stderr",
     "output_type": "stream",
     "text": [
      "\r",
      "Finding Elimination Order: : 100%|██████████| 5/5 [00:00<00:00, 1335.17it/s]"
     ]
    },
    {
     "name": "stderr",
     "output_type": "stream",
     "text": [
      "\n",
      "\r",
      "  0%|          | 0/5 [00:00<?, ?it/s]"
     ]
    },
    {
     "name": "stderr",
     "output_type": "stream",
     "text": [
      "\r",
      "Eliminating: Absenteeism:   0%|          | 0/5 [00:00<?, ?it/s]"
     ]
    },
    {
     "name": "stderr",
     "output_type": "stream",
     "text": [
      "\r",
      "Eliminating: Injury:   0%|          | 0/5 [00:00<?, ?it/s]     "
     ]
    },
    {
     "name": "stderr",
     "output_type": "stream",
     "text": [
      "\r",
      "Eliminating: Process:   0%|          | 0/5 [00:00<?, ?it/s]"
     ]
    },
    {
     "name": "stderr",
     "output_type": "stream",
     "text": [
      "\r",
      "Eliminating: Tool:   0%|          | 0/5 [00:00<?, ?it/s]   "
     ]
    },
    {
     "name": "stderr",
     "output_type": "stream",
     "text": [
      "\r",
      "Eliminating: Experience:   0%|          | 0/5 [00:00<?, ?it/s]"
     ]
    },
    {
     "name": "stderr",
     "output_type": "stream",
     "text": [
      "\r",
      "Eliminating: Experience: 100%|██████████| 5/5 [00:00<00:00, 281.15it/s]"
     ]
    },
    {
     "name": "stdout",
     "output_type": "stream",
     "text": [
      "+------------------+-----------------+\n",
      "| Exertion         |   phi(Exertion) |\n",
      "+==================+=================+\n",
      "| Exertion(High)   |          0.9927 |\n",
      "+------------------+-----------------+\n",
      "| Exertion(Low)    |          0.0037 |\n",
      "+------------------+-----------------+\n",
      "| Exertion(Medium) |          0.0037 |\n",
      "+------------------+-----------------+\n"
     ]
    },
    {
     "name": "stderr",
     "output_type": "stream",
     "text": [
      "\n"
     ]
    }
   ],
   "source": [
    "TWE_2: DiscreteFactor = elim.query(variables = [Exertion.var],\n",
    "                                   evidence = backdoorStates |o| {Training.var : 'Medium'})\n",
    "print(TWE_2)"
   ]
  },
  {
   "cell_type": "code",
   "execution_count": 40,
   "metadata": {
    "lines_to_next_cell": 0,
    "title": "codecell"
   },
   "outputs": [
    {
     "name": "stderr",
     "output_type": "stream",
     "text": [
      "\r",
      "  0%|          | 0/5 [00:00<?, ?it/s]"
     ]
    },
    {
     "name": "stderr",
     "output_type": "stream",
     "text": [
      "\r",
      "Finding Elimination Order: :   0%|          | 0/5 [00:00<?, ?it/s]"
     ]
    },
    {
     "name": "stderr",
     "output_type": "stream",
     "text": [
      "\r",
      "Finding Elimination Order: : 100%|██████████| 5/5 [00:00<00:00, 905.86it/s]"
     ]
    },
    {
     "name": "stderr",
     "output_type": "stream",
     "text": [
      "\n",
      "\r",
      "  0%|          | 0/5 [00:00<?, ?it/s]"
     ]
    },
    {
     "name": "stderr",
     "output_type": "stream",
     "text": [
      "\r",
      "Eliminating: Absenteeism:   0%|          | 0/5 [00:00<?, ?it/s]"
     ]
    },
    {
     "name": "stderr",
     "output_type": "stream",
     "text": [
      "\r",
      "Eliminating: Injury:   0%|          | 0/5 [00:00<?, ?it/s]     "
     ]
    },
    {
     "name": "stderr",
     "output_type": "stream",
     "text": [
      "\r",
      "Eliminating: Process:   0%|          | 0/5 [00:00<?, ?it/s]"
     ]
    },
    {
     "name": "stderr",
     "output_type": "stream",
     "text": [
      "\r",
      "Eliminating: Tool:   0%|          | 0/5 [00:00<?, ?it/s]   "
     ]
    },
    {
     "name": "stderr",
     "output_type": "stream",
     "text": [
      "\r",
      "Eliminating: Experience:   0%|          | 0/5 [00:00<?, ?it/s]"
     ]
    },
    {
     "name": "stderr",
     "output_type": "stream",
     "text": [
      "\r",
      "Eliminating: Experience: 100%|██████████| 5/5 [00:00<00:00, 190.30it/s]"
     ]
    },
    {
     "name": "stdout",
     "output_type": "stream",
     "text": [
      "+------------------+-----------------+\n",
      "| Exertion         |   phi(Exertion) |\n",
      "+==================+=================+\n",
      "| Exertion(High)   |          0.9927 |\n",
      "+------------------+-----------------+\n",
      "| Exertion(Low)    |          0.0037 |\n",
      "+------------------+-----------------+\n",
      "| Exertion(Medium) |          0.0037 |\n",
      "+------------------+-----------------+\n"
     ]
    },
    {
     "name": "stderr",
     "output_type": "stream",
     "text": [
      "\n"
     ]
    }
   ],
   "source": [
    "TWE_3: DiscreteFactor = elim.query(variables = [Exertion.var],\n",
    "                                   evidence = backdoorStates |o| {Training.var : 'Low'})\n",
    "print(TWE_3)"
   ]
  },
  {
   "cell_type": "markdown",
   "metadata": {
    "lines_to_next_cell": 0,
    "title": "markdown"
   },
   "source": [
    "\n",
    "$$\n",
    "\\begin{array}{ll}\n",
    "P(\\text{Exertion} = \\text{High} \\; | \\; \\Big\\{  \\text{WorkCapacity} = \\text{Low} \\; \\cap \\; \\text{Time} = 23  \\Big\\}) = 0.9975 \\\\\n",
    "\\ne P(\\text{Exertion} = \\text{High} \\; | \\; \\Big\\{\\text{WorkCapacity} = \\text{Low} \\; \\cap \\; \\text{Time} = 23 \\Big\\} \\; \\cap \\; \\text{Training} = \\text{Low})  = 0.9927 \\\\\n",
    "\\ne P(\\text{Exertion} = \\text{High} \\; | \\; \\Big\\{\\text{WorkCapacity} = \\text{Low} \\; \\cap \\; \\text{Time} = 23 \\Big\\} \\; \\cap \\; \\text{Training} = \\text{Medium}) = 0.9927 \\\\\n",
    "\\ne P(\\text{Exertion} = \\text{High} \\; | \\; \\Big\\{\\text{WorkCapacity} = \\text{Low} \\; \\cap \\; \\text{Time} = 23 \\Big\\} \\; \\cap \\; \\text{Training} = \\text{High})  = 0.9975\n",
    "\\end{array}\n",
    "$$\n",
    "$$\n",
    "\\begin{array}{ll}\n",
    "P(\\text{Exertion} = \\text{Low} \\; | \\; \\Big\\{\\text{WorkCapacity} = \\text{Low} \\; \\cap \\; \\text{Time} = 23 \\Big\\}) = 0.0012 \\\\\n",
    "\\ne P(\\text{Exertion} = \\text{Low} \\; | \\; \\Big\\{\\text{WorkCapacity} = \\text{Low} \\; \\cap \\; \\text{Time} = 23 \\Big\\} \\; \\cap \\; \\text{Training} = \\text{Low})  = 0.0037 \\\\\n",
    "\\ne P(\\text{Exertion} = \\text{Low} \\; | \\; \\Big\\{\\text{WorkCapacity} = \\text{Low} \\; \\cap \\; \\text{Time} = 23 \\Big\\} \\; \\cap \\; \\text{Training} = \\text{Medium}) = 0.0037 \\\\\n",
    "\\ne P(\\text{Exertion} = \\text{Low} \\; | \\; \\Big\\{\\text{WorkCapacity} = \\text{Low} \\; \\cap \\; \\text{Time} = 23 \\Big\\} \\; \\cap \\; \\text{Training} = \\text{High}) = 0.0012\n",
    "\\end{array}\n",
    "$$\n",
    "$$\n",
    "\\begin{array}{ll}\n",
    "P(\\text{Exertion} = \\text{Medium} \\; | \\; \\Big\\{\\text{WorkCapacity} = \\text{Low} \\; \\cap \\; \\text{Time} = 23 \\Big\\}) = 0.0012 \\\\\n",
    "\\ne P(\\text{Exertion} = \\text{Medium} \\; | \\; \\Big\\{\\text{WorkCapacity} = \\text{Low} \\; \\cap \\; \\text{Time} = 23 \\Big\\} \\; \\cap \\; \\text{Training} = \\text{Low}) = 0.0037 \\\\\n",
    "\\ne P(\\text{Exertion} = \\text{Medium} \\; | \\; \\Big\\{\\text{WorkCapacity} = \\text{Low} \\; \\cap \\; \\text{Time} = 23 \\Big\\} \\; \\cap \\; \\text{Training} = \\text{Medium}) = 0.0037 \\\\\n",
    "\\ne P(\\text{Exertion} = \\text{Medium} \\; | \\; \\Big\\{\\text{WorkCapacity} = \\text{Low} \\; \\cap \\; \\text{Time} = 23 \\Big\\} \\; \\cap \\; \\text{Training} = \\text{High}) = 0.0012\n",
    "\\end{array}\n",
    "$$\n",
    "\n",
    "Since not all the above stated probabilities are equal for each state of `Exertion` = `Low`, `Medium`, `High`, we can assert that the random variables `Training` and `Exertion` are dependent, when observing `WorkCapacity` state (and also observing the state of `Time` to adjust for backdoors). Arbitrarily choosing the states `backdoorStates` = `{WorkCapacity = Low, Time = 23}`, we can write:\n",
    "$$\n",
    "P(\\text{Exertion} \\; | \\; \\{\\texttt{backdoorStates} \\}) \\ne P(\\text{Exertion} \\; | \\; \\{ \\texttt{backdoorStates} \\} \\; \\cap \\; \\text{Training})\n",
    "$$"
   ]
  },
  {
   "cell_type": "code",
   "execution_count": 41,
   "metadata": {
    "title": "codecell"
   },
   "outputs": [
    {
     "data": {
      "text/html": [
       "<div>\n",
       "<style scoped>\n",
       "    .dataframe tbody tr th:only-of-type {\n",
       "        vertical-align: middle;\n",
       "    }\n",
       "\n",
       "    .dataframe tbody tr th {\n",
       "        vertical-align: top;\n",
       "    }\n",
       "\n",
       "    .dataframe thead th {\n",
       "        text-align: right;\n",
       "    }\n",
       "</style>\n",
       "<table border=\"1\" class=\"dataframe\">\n",
       "  <thead>\n",
       "    <tr style=\"text-align: right;\">\n",
       "      <th></th>\n",
       "      <th></th>\n",
       "      <th>Exertion</th>\n",
       "      <th>High</th>\n",
       "      <th>Low</th>\n",
       "      <th>Medium</th>\n",
       "    </tr>\n",
       "    <tr>\n",
       "      <th>Time</th>\n",
       "      <th>Training</th>\n",
       "      <th>WorkCapacity</th>\n",
       "      <th></th>\n",
       "      <th></th>\n",
       "      <th></th>\n",
       "    </tr>\n",
       "  </thead>\n",
       "  <tbody>\n",
       "    <tr>\n",
       "      <th rowspan=\"3\" valign=\"top\">23</th>\n",
       "      <th>High</th>\n",
       "      <th>Low</th>\n",
       "      <td>0.997533</td>\n",
       "      <td>0.001233</td>\n",
       "      <td>0.001233</td>\n",
       "    </tr>\n",
       "    <tr>\n",
       "      <th>Medium</th>\n",
       "      <th>Low</th>\n",
       "      <td>0.992674</td>\n",
       "      <td>0.003663</td>\n",
       "      <td>0.003663</td>\n",
       "    </tr>\n",
       "    <tr>\n",
       "      <th>Low</th>\n",
       "      <th>Low</th>\n",
       "      <td>0.992674</td>\n",
       "      <td>0.003663</td>\n",
       "      <td>0.003663</td>\n",
       "    </tr>\n",
       "  </tbody>\n",
       "</table>\n",
       "</div>"
      ],
      "text/plain": [
       "Exertion                        High       Low    Medium\n",
       "Time Training WorkCapacity                              \n",
       "23   High     Low           0.997533  0.001233  0.001233\n",
       "     Medium   Low           0.992674  0.003663  0.003663\n",
       "     Low      Low           0.992674  0.003663  0.003663"
      ]
     },
     "execution_count": 41,
     "metadata": {},
     "output_type": "execute_result"
    }
   ],
   "source": [
    "\n",
    "assert not allEqual(TWE.values, TWE_1.values, TWE_2.values, TWE_3.values), \"Check: the random variables Exertion and Training are dependent, when intermediary node WorkCapacity is observed (while accounting for backdoors)\"\n",
    "\n",
    "\n",
    "backdoorStateSet: Dict[Name, Set[State]] = {Time.var: {OBS_STATE_TIME}, WorkCapacity.var : {OBS_STATE_WORKCAPACITY} }\n",
    "\n",
    "dfTWE = eliminateSlice(carModel, query = Exertion,\n",
    "                       evidence = backdoorStateSet |s| {Training.var : Training.states})\n",
    "dfTWE"
   ]
  },
  {
   "cell_type": "markdown",
   "metadata": {
    "lines_to_next_cell": 0,
    "title": "markdown"
   },
   "source": [
    "### (2) Common Effect Reasoning: Exertion --> WorkCapacity <-- Training"
   ]
  },
  {
   "cell_type": "code",
   "execution_count": 42,
   "metadata": {
    "lines_to_next_cell": 0,
    "title": "codecell"
   },
   "outputs": [
    {
     "data": {
      "text/html": [
       "<div>\n",
       "<style scoped>\n",
       "    .dataframe tbody tr th:only-of-type {\n",
       "        vertical-align: middle;\n",
       "    }\n",
       "\n",
       "    .dataframe tbody tr th {\n",
       "        vertical-align: top;\n",
       "    }\n",
       "\n",
       "    .dataframe thead th {\n",
       "        text-align: right;\n",
       "    }\n",
       "</style>\n",
       "<table border=\"1\" class=\"dataframe\">\n",
       "  <thead>\n",
       "    <tr style=\"text-align: right;\">\n",
       "      <th></th>\n",
       "      <th></th>\n",
       "      <th>Exertion</th>\n",
       "      <th>High</th>\n",
       "      <th>Low</th>\n",
       "      <th>Medium</th>\n",
       "    </tr>\n",
       "    <tr>\n",
       "      <th>Time</th>\n",
       "      <th>Training</th>\n",
       "      <th>WorkCapacity</th>\n",
       "      <th></th>\n",
       "      <th></th>\n",
       "      <th></th>\n",
       "    </tr>\n",
       "  </thead>\n",
       "  <tbody>\n",
       "    <tr>\n",
       "      <th rowspan=\"3\" valign=\"top\">23</th>\n",
       "      <th>High</th>\n",
       "      <th>Low</th>\n",
       "      <td>0.997533</td>\n",
       "      <td>0.001233</td>\n",
       "      <td>0.001233</td>\n",
       "    </tr>\n",
       "    <tr>\n",
       "      <th>Medium</th>\n",
       "      <th>Low</th>\n",
       "      <td>0.992674</td>\n",
       "      <td>0.003663</td>\n",
       "      <td>0.003663</td>\n",
       "    </tr>\n",
       "    <tr>\n",
       "      <th>Low</th>\n",
       "      <th>Low</th>\n",
       "      <td>0.992674</td>\n",
       "      <td>0.003663</td>\n",
       "      <td>0.003663</td>\n",
       "    </tr>\n",
       "  </tbody>\n",
       "</table>\n",
       "</div>"
      ],
      "text/plain": [
       "Exertion                        High       Low    Medium\n",
       "Time Training WorkCapacity                              \n",
       "23   High     Low           0.997533  0.001233  0.001233\n",
       "     Medium   Low           0.992674  0.003663  0.003663\n",
       "     Low      Low           0.992674  0.003663  0.003663"
      ]
     },
     "execution_count": 42,
     "metadata": {},
     "output_type": "execute_result"
    }
   ],
   "source": [
    "dfTWE"
   ]
  },
  {
   "cell_type": "markdown",
   "metadata": {
    "lines_to_next_cell": 0,
    "title": "markdown"
   },
   "source": [
    "### (4) Common Effect Reasoning: WorkCapacity --> Absenteeism <-- Time\n",
    "$\\color{red}{\\text{TODO: CASE 4 is not working!}}$"
   ]
  },
  {
   "cell_type": "code",
   "execution_count": 43,
   "metadata": {
    "title": "codecell"
   },
   "outputs": [
    {
     "data": {
      "text/plain": [
       "[{'WorkCapacity'}, {'Time'}]"
      ]
     },
     "execution_count": 43,
     "metadata": {},
     "output_type": "execute_result"
    }
   ],
   "source": [
    "\n",
    "# 4\n",
    "\n",
    "observedVars(carModel, start = WorkCapacity, end = Time)"
   ]
  },
  {
   "cell_type": "code",
   "execution_count": 44,
   "metadata": {
    "lines_to_next_cell": 0,
    "title": "codecell"
   },
   "outputs": [
    {
     "data": {
      "text/plain": [
       "False"
      ]
     },
     "execution_count": 44,
     "metadata": {},
     "output_type": "execute_result"
    }
   ],
   "source": [
    "# TODO why false?\n",
    "carModel.is_active_trail(start = WorkCapacity.var, end = Time.var, observed = [WorkCapacity.var, Absenteeism.var])\n",
    "# TODO why is this true even when there is NO observed var? Should be false when there is no middle node / backdoor observation:"
   ]
  },
  {
   "cell_type": "code",
   "execution_count": 45,
   "metadata": {
    "title": "codecell"
   },
   "outputs": [
    {
     "data": {
      "text/plain": [
       "True"
      ]
     },
     "execution_count": 45,
     "metadata": {},
     "output_type": "execute_result"
    }
   ],
   "source": [
    "carModel.is_active_trail(start = WorkCapacity.var, end = Time.var, observed = None)\n",
    "# TODO problem with this (above) is that when we pass JUST Absenteeism (without backdoor workcapacity) then is_active_trail() yields TRUE also, but that is a false positive because we know TRUE is yielded when not observing state of Absenteeism, which should be incorrect for the common-effect model."
   ]
  },
  {
   "cell_type": "code",
   "execution_count": 46,
   "metadata": {
    "title": "codecell"
   },
   "outputs": [
    {
     "data": {
      "text/html": [
       "<div>\n",
       "<style scoped>\n",
       "    .dataframe tbody tr th:only-of-type {\n",
       "        vertical-align: middle;\n",
       "    }\n",
       "\n",
       "    .dataframe tbody tr th {\n",
       "        vertical-align: top;\n",
       "    }\n",
       "\n",
       "    .dataframe thead th {\n",
       "        text-align: right;\n",
       "    }\n",
       "</style>\n",
       "<table border=\"1\" class=\"dataframe\">\n",
       "  <thead>\n",
       "    <tr style=\"text-align: right;\">\n",
       "      <th>WorkCapacity</th>\n",
       "      <th>High</th>\n",
       "      <th>Low</th>\n",
       "      <th>Medium</th>\n",
       "    </tr>\n",
       "    <tr>\n",
       "      <th>Time</th>\n",
       "      <th></th>\n",
       "      <th></th>\n",
       "      <th></th>\n",
       "    </tr>\n",
       "  </thead>\n",
       "  <tbody>\n",
       "    <tr>\n",
       "      <th>2</th>\n",
       "      <td>0.007407</td>\n",
       "      <td>0.007407</td>\n",
       "      <td>0.985187</td>\n",
       "    </tr>\n",
       "    <tr>\n",
       "      <th>30</th>\n",
       "      <td>0.007407</td>\n",
       "      <td>0.985187</td>\n",
       "      <td>0.007407</td>\n",
       "    </tr>\n",
       "    <tr>\n",
       "      <th>15</th>\n",
       "      <td>0.985187</td>\n",
       "      <td>0.007407</td>\n",
       "      <td>0.007407</td>\n",
       "    </tr>\n",
       "  </tbody>\n",
       "</table>\n",
       "</div>"
      ],
      "text/plain": [
       "WorkCapacity      High       Low    Medium\n",
       "Time                                      \n",
       "2             0.007407  0.007407  0.985187\n",
       "30            0.007407  0.985187  0.007407\n",
       "15            0.985187  0.007407  0.007407"
      ]
     },
     "execution_count": 46,
     "metadata": {},
     "output_type": "execute_result"
    }
   ],
   "source": [
    "# Common Evidence: WorkCapacity ---> Absenteeism <---- Time\n",
    "#backdoorStateSet: Dict[Name, Set[State]] = {WorkCapacity.var : {OBS_STATE_WORKCAPACITY}}\n",
    "\n",
    "# NOTE: cannot use the same variable in evidence as the one in query so even though observedVars function returns workcapacity as one of the observed vars, the below method will complain if we put it in evidence ...so cannot account for \"my backdoor guesses\" here.\n",
    "\n",
    "# TODO even here the same above problem is visible: when not including Absenteeism (middle node) there should be NO active trail between Time and WorkCapacity but still we see there are difference probabiliities of workcapacity states given varying levels of time so they seem dependent.\n",
    "#inf = CausalInference(carModel)\n",
    "#inf.get_all_backdoor_adjustment_sets(WorkCapacity.var, Time.var) # is empty\n",
    "\n",
    "dfTW: DataFrame = eliminateSlice(carModel, query = WorkCapacity,\n",
    "                                  evidence = {Time.var : {2, 15, 30}})\n",
    "dfTW"
   ]
  },
  {
   "cell_type": "code",
   "execution_count": 47,
   "metadata": {
    "title": "codecell"
   },
   "outputs": [
    {
     "data": {
      "text/html": [
       "<div>\n",
       "<style scoped>\n",
       "    .dataframe tbody tr th:only-of-type {\n",
       "        vertical-align: middle;\n",
       "    }\n",
       "\n",
       "    .dataframe tbody tr th {\n",
       "        vertical-align: top;\n",
       "    }\n",
       "\n",
       "    .dataframe thead th {\n",
       "        text-align: right;\n",
       "    }\n",
       "</style>\n",
       "<table border=\"1\" class=\"dataframe\">\n",
       "  <thead>\n",
       "    <tr style=\"text-align: right;\">\n",
       "      <th></th>\n",
       "      <th>WorkCapacity</th>\n",
       "      <th>High</th>\n",
       "      <th>Low</th>\n",
       "      <th>Medium</th>\n",
       "    </tr>\n",
       "    <tr>\n",
       "      <th>Absenteeism</th>\n",
       "      <th>Time</th>\n",
       "      <th></th>\n",
       "      <th></th>\n",
       "      <th></th>\n",
       "    </tr>\n",
       "  </thead>\n",
       "  <tbody>\n",
       "    <tr>\n",
       "      <th rowspan=\"3\" valign=\"top\">Low</th>\n",
       "      <th>2</th>\n",
       "      <td>0.006197</td>\n",
       "      <td>0.006197</td>\n",
       "      <td>0.987605</td>\n",
       "    </tr>\n",
       "    <tr>\n",
       "      <th>30</th>\n",
       "      <td>0.006197</td>\n",
       "      <td>0.987605</td>\n",
       "      <td>0.006197</td>\n",
       "    </tr>\n",
       "    <tr>\n",
       "      <th>15</th>\n",
       "      <td>0.987605</td>\n",
       "      <td>0.006197</td>\n",
       "      <td>0.006197</td>\n",
       "    </tr>\n",
       "  </tbody>\n",
       "</table>\n",
       "</div>"
      ],
      "text/plain": [
       "WorkCapacity          High       Low    Medium\n",
       "Absenteeism Time                              \n",
       "Low         2     0.006197  0.006197  0.987605\n",
       "            30    0.006197  0.987605  0.006197\n",
       "            15    0.987605  0.006197  0.006197"
      ]
     },
     "execution_count": 47,
     "metadata": {},
     "output_type": "execute_result"
    }
   ],
   "source": [
    "# Here is the false positive (even if we include absenteeism the fake active trail is visible through the differing probabilities in workcapacity)\n",
    "dfTAW: DataFrame = eliminateSlice(carModel, query = WorkCapacity,\n",
    "                                  evidence = {Absenteeism.var : {'Low'}, Time.var : {2, 15, 30}})\n",
    "dfTAW\n",
    "\n",
    "\n",
    "\n"
   ]
  },
  {
   "cell_type": "markdown",
   "metadata": {
    "lines_to_next_cell": 0,
    "title": "markdown"
   },
   "source": [
    "### (5) Common Effect Reasoning: Time --> WorkCapacity <-- Exertion\n",
    "$\\color{red}{\\text{TODO: CASE 5 is not working!}}$"
   ]
  },
  {
   "cell_type": "code",
   "execution_count": 48,
   "metadata": {
    "lines_to_next_cell": 0,
    "title": "codecell"
   },
   "outputs": [
    {
     "data": {
      "text/plain": [
       "frozenset()"
      ]
     },
     "execution_count": 48,
     "metadata": {},
     "output_type": "execute_result"
    }
   ],
   "source": [
    "\n",
    "# 5\n",
    "observedVars(carModel, start = Time, end = Exertion)\n",
    "observedVars(carModel, start = Exertion, end = Time)\n",
    "\n",
    "inf = CausalInference(carModel)\n",
    "inf.get_all_backdoor_adjustment_sets(Exertion.var, Time.var)\n",
    "inf.get_all_backdoor_adjustment_sets(Time.var, Exertion.var)"
   ]
  },
  {
   "cell_type": "code",
   "execution_count": 49,
   "metadata": {
    "title": "codecell"
   },
   "outputs": [
    {
     "data": {
      "text/plain": [
       "True"
      ]
     },
     "execution_count": 49,
     "metadata": {},
     "output_type": "execute_result"
    }
   ],
   "source": [
    "\n",
    "# TODO why is this true even when there is NO observed var? Should be false when there is no middle node / backdoor observation:\n",
    "carModel.is_active_trail(start = Exertion.var, end = Time.var, observed = None)"
   ]
  },
  {
   "cell_type": "code",
   "execution_count": 50,
   "metadata": {
    "title": "codecell"
   },
   "outputs": [
    {
     "data": {
      "text/plain": [
       "True"
      ]
     },
     "execution_count": 50,
     "metadata": {},
     "output_type": "execute_result"
    }
   ],
   "source": [
    "# TODO because above (previous) works with observed = None, the below is false positive!\n",
    "carModel.is_active_trail(start = Exertion.var, end = Time.var, observed = [WorkCapacity.var])"
   ]
  },
  {
   "cell_type": "code",
   "execution_count": 51,
   "metadata": {
    "title": "codecell"
   },
   "outputs": [
    {
     "data": {
      "text/html": [
       "<div>\n",
       "<style scoped>\n",
       "    .dataframe tbody tr th:only-of-type {\n",
       "        vertical-align: middle;\n",
       "    }\n",
       "\n",
       "    .dataframe tbody tr th {\n",
       "        vertical-align: top;\n",
       "    }\n",
       "\n",
       "    .dataframe thead th {\n",
       "        text-align: right;\n",
       "    }\n",
       "</style>\n",
       "<table border=\"1\" class=\"dataframe\">\n",
       "  <thead>\n",
       "    <tr style=\"text-align: right;\">\n",
       "      <th>Exertion</th>\n",
       "      <th>High</th>\n",
       "      <th>Low</th>\n",
       "      <th>Medium</th>\n",
       "    </tr>\n",
       "    <tr>\n",
       "      <th>Time</th>\n",
       "      <th></th>\n",
       "      <th></th>\n",
       "      <th></th>\n",
       "    </tr>\n",
       "  </thead>\n",
       "  <tbody>\n",
       "    <tr>\n",
       "      <th>2</th>\n",
       "      <td>0.003663</td>\n",
       "      <td>0.992674</td>\n",
       "      <td>0.003663</td>\n",
       "    </tr>\n",
       "    <tr>\n",
       "      <th>30</th>\n",
       "      <td>0.992674</td>\n",
       "      <td>0.003663</td>\n",
       "      <td>0.003663</td>\n",
       "    </tr>\n",
       "    <tr>\n",
       "      <th>15</th>\n",
       "      <td>0.992674</td>\n",
       "      <td>0.003663</td>\n",
       "      <td>0.003663</td>\n",
       "    </tr>\n",
       "  </tbody>\n",
       "</table>\n",
       "</div>"
      ],
      "text/plain": [
       "Exertion      High       Low    Medium\n",
       "Time                                  \n",
       "2         0.003663  0.992674  0.003663\n",
       "30        0.992674  0.003663  0.003663\n",
       "15        0.992674  0.003663  0.003663"
      ]
     },
     "execution_count": 51,
     "metadata": {},
     "output_type": "execute_result"
    }
   ],
   "source": [
    "# TODO all probs per exertion state must be the same (so probs along a column  must be the same, when not observing the middle node absenteeism)\n",
    "dfTX: DataFrame = eliminateSlice(carModel, query = Exertion, evidence = {Time.var : {2, 15, 30}})\n",
    "dfTX"
   ]
  },
  {
   "cell_type": "code",
   "execution_count": 52,
   "metadata": {
    "title": "codecell"
   },
   "outputs": [
    {
     "data": {
      "text/html": [
       "<div>\n",
       "<style scoped>\n",
       "    .dataframe tbody tr th:only-of-type {\n",
       "        vertical-align: middle;\n",
       "    }\n",
       "\n",
       "    .dataframe tbody tr th {\n",
       "        vertical-align: top;\n",
       "    }\n",
       "\n",
       "    .dataframe thead th {\n",
       "        text-align: right;\n",
       "    }\n",
       "</style>\n",
       "<table border=\"1\" class=\"dataframe\">\n",
       "  <thead>\n",
       "    <tr style=\"text-align: right;\">\n",
       "      <th></th>\n",
       "      <th>Exertion</th>\n",
       "      <th>High</th>\n",
       "      <th>Low</th>\n",
       "      <th>Medium</th>\n",
       "    </tr>\n",
       "    <tr>\n",
       "      <th>Absenteeism</th>\n",
       "      <th>Time</th>\n",
       "      <th></th>\n",
       "      <th></th>\n",
       "      <th></th>\n",
       "    </tr>\n",
       "  </thead>\n",
       "  <tbody>\n",
       "    <tr>\n",
       "      <th rowspan=\"3\" valign=\"top\">Low</th>\n",
       "      <th>2</th>\n",
       "      <td>0.003267</td>\n",
       "      <td>0.993465</td>\n",
       "      <td>0.003267</td>\n",
       "    </tr>\n",
       "    <tr>\n",
       "      <th>30</th>\n",
       "      <td>0.993465</td>\n",
       "      <td>0.003267</td>\n",
       "      <td>0.003267</td>\n",
       "    </tr>\n",
       "    <tr>\n",
       "      <th>15</th>\n",
       "      <td>0.993465</td>\n",
       "      <td>0.003267</td>\n",
       "      <td>0.003267</td>\n",
       "    </tr>\n",
       "  </tbody>\n",
       "</table>\n",
       "</div>"
      ],
      "text/plain": [
       "Exertion              High       Low    Medium\n",
       "Absenteeism Time                              \n",
       "Low         2     0.003267  0.993465  0.003267\n",
       "            30    0.993465  0.003267  0.003267\n",
       "            15    0.993465  0.003267  0.003267"
      ]
     },
     "execution_count": 52,
     "metadata": {},
     "output_type": "execute_result"
    }
   ],
   "source": [
    "# TODO false positive here now because abvoe shows dependence not independence\n",
    "dfTAX: DataFrame = eliminateSlice(carModel, query = Exertion,\n",
    "                                  evidence = {Absenteeism.var : {'Low'}, Time.var : {2, 15, 30}})\n",
    "dfTAX"
   ]
  },
  {
   "cell_type": "markdown",
   "metadata": {
    "lines_to_next_cell": 0,
    "title": "markdown"
   },
   "source": [
    "### (6) Common Effect Reasoning: Time --> WorkCapacity <-- Experience\n",
    "$\\color{red}{\\text{TODO: CASE 6 is not working!}}$"
   ]
  },
  {
   "cell_type": "markdown",
   "metadata": {
    "title": "markdown"
   },
   "source": [
    "### (7) Common Effect Reasoning: Time --> WorkCapacity <-- Training\n",
    "$\\color{red}{\\text{TODO: CASE 7 is not working!}}$\n",
    "\n",
    "\n",
    "\n"
   ]
  },
  {
   "cell_type": "markdown",
   "metadata": {
    "lines_to_next_cell": 0,
    "title": "markdown"
   },
   "source": [
    "### (9) Common Effect Reasoning: Process ---> Absenteeism <--- Injury\n",
    "$\\color{red}{\\text{TODO: CASE 9 is not working!}}$"
   ]
  },
  {
   "cell_type": "code",
   "execution_count": 53,
   "metadata": {
    "lines_to_next_cell": 0,
    "title": "codecell"
   },
   "outputs": [
    {
     "data": {
      "text/plain": [
       "frozenset()"
      ]
     },
     "execution_count": 53,
     "metadata": {},
     "output_type": "execute_result"
    }
   ],
   "source": [
    "\n",
    "# 9\n",
    "observedVars(carModel, start = Process, end = Injury)\n",
    "observedVars(carModel, start = Injury, end = Process)\n",
    "\n",
    "inf = CausalInference(carModel)\n",
    "inf.get_all_backdoor_adjustment_sets(Injury.var, Process.var)\n",
    "inf.get_all_backdoor_adjustment_sets(Process.var, Injury.var)"
   ]
  },
  {
   "cell_type": "code",
   "execution_count": 54,
   "metadata": {
    "title": "codecell"
   },
   "outputs": [
    {
     "data": {
      "text/plain": [
       "True"
      ]
     },
     "execution_count": 54,
     "metadata": {},
     "output_type": "execute_result"
    }
   ],
   "source": [
    "\n",
    "# TURE for common evidence model by default since there is no observed variable (no backdoors even)\n",
    "assert carModel.is_active_trail(start = Process.var, end = Injury.var, observed = None), \"Check: Common evidence model's active trail is active by default when no variables are observed\"\n",
    "\n",
    "# checking backdoors\n",
    "# TODO shouldn't setting the middle node as observed ALSO be necessary for nullifying the active trails?\n",
    "assert not carModel.is_active_trail(start = Process.var, end = Injury.var, observed = [Process.var]), \"Check: active trail for common evidence model is nullified when including the backdoor as an observed variable\"\n",
    "\n",
    "assert not carModel.is_active_trail(start = Process.var, end = Injury.var, observed = [Injury.var]), \"Check: active trail for common evidence model is nullified when including the backdoor as an observed variable\"\n",
    "\n",
    "\n",
    "# TODO including the middle node in question (Absenteeism) as the observed var doesn't nullify the active trail because we haven't set the backdoors as observed.\n",
    "carModel.is_active_trail(start = Process.var, end = Injury.var, observed = [Absenteeism.var])"
   ]
  },
  {
   "cell_type": "code",
   "execution_count": 55,
   "metadata": {
    "title": "codecell"
   },
   "outputs": [
    {
     "data": {
      "text/html": [
       "<div>\n",
       "<style scoped>\n",
       "    .dataframe tbody tr th:only-of-type {\n",
       "        vertical-align: middle;\n",
       "    }\n",
       "\n",
       "    .dataframe tbody tr th {\n",
       "        vertical-align: top;\n",
       "    }\n",
       "\n",
       "    .dataframe thead th {\n",
       "        text-align: right;\n",
       "    }\n",
       "</style>\n",
       "<table border=\"1\" class=\"dataframe\">\n",
       "  <thead>\n",
       "    <tr style=\"text-align: right;\">\n",
       "      <th>Process</th>\n",
       "      <th>Engine-Mount</th>\n",
       "      <th>Engine-Wiring</th>\n",
       "      <th>Oil-Fill</th>\n",
       "    </tr>\n",
       "    <tr>\n",
       "      <th>Injury</th>\n",
       "      <th></th>\n",
       "      <th></th>\n",
       "      <th></th>\n",
       "    </tr>\n",
       "  </thead>\n",
       "  <tbody>\n",
       "    <tr>\n",
       "      <th>Chemical-Burn</th>\n",
       "      <td>0.416092</td>\n",
       "      <td>0.002299</td>\n",
       "      <td>0.581609</td>\n",
       "    </tr>\n",
       "    <tr>\n",
       "      <th>Contact-Contusion</th>\n",
       "      <td>0.981982</td>\n",
       "      <td>0.009009</td>\n",
       "      <td>0.009009</td>\n",
       "    </tr>\n",
       "    <tr>\n",
       "      <th>Electrical-Shock</th>\n",
       "      <td>0.003922</td>\n",
       "      <td>0.992157</td>\n",
       "      <td>0.003922</td>\n",
       "    </tr>\n",
       "    <tr>\n",
       "      <th>Fall-Gtm</th>\n",
       "      <td>0.250859</td>\n",
       "      <td>0.745704</td>\n",
       "      <td>0.003436</td>\n",
       "    </tr>\n",
       "  </tbody>\n",
       "</table>\n",
       "</div>"
      ],
      "text/plain": [
       "Process            Engine-Mount  Engine-Wiring  Oil-Fill\n",
       "Injury                                                  \n",
       "Chemical-Burn          0.416092       0.002299  0.581609\n",
       "Contact-Contusion      0.981982       0.009009  0.009009\n",
       "Electrical-Shock       0.003922       0.992157  0.003922\n",
       "Fall-Gtm               0.250859       0.745704  0.003436"
      ]
     },
     "execution_count": 55,
     "metadata": {},
     "output_type": "execute_result"
    }
   ],
   "source": [
    "# todo all probs per exertion state must be the same (so probs along a column  must be the same, when not observing the\n",
    "# middle node absenteeism)\n",
    "\n",
    "# NOTE: using data dict here because not all Injury.states are included in the data file (so passing Injury.states here instead of the dataDict[Injury.var] will give error at `Electrical-Burn`)\n",
    "dfIP: DataFrame = eliminateSlice(carModel, query = Process, evidence = {Injury.var : dataDict[Injury.var]})\n",
    "dfIP"
   ]
  },
  {
   "cell_type": "code",
   "execution_count": 56,
   "metadata": {
    "lines_to_next_cell": 2,
    "title": "codecell"
   },
   "outputs": [
    {
     "data": {
      "text/html": [
       "<div>\n",
       "<style scoped>\n",
       "    .dataframe tbody tr th:only-of-type {\n",
       "        vertical-align: middle;\n",
       "    }\n",
       "\n",
       "    .dataframe tbody tr th {\n",
       "        vertical-align: top;\n",
       "    }\n",
       "\n",
       "    .dataframe thead th {\n",
       "        text-align: right;\n",
       "    }\n",
       "</style>\n",
       "<table border=\"1\" class=\"dataframe\">\n",
       "  <thead>\n",
       "    <tr style=\"text-align: right;\">\n",
       "      <th></th>\n",
       "      <th>Process</th>\n",
       "      <th>Engine-Mount</th>\n",
       "      <th>Engine-Wiring</th>\n",
       "      <th>Oil-Fill</th>\n",
       "    </tr>\n",
       "    <tr>\n",
       "      <th>Absenteeism</th>\n",
       "      <th>Injury</th>\n",
       "      <th></th>\n",
       "      <th></th>\n",
       "      <th></th>\n",
       "    </tr>\n",
       "  </thead>\n",
       "  <tbody>\n",
       "    <tr>\n",
       "      <th rowspan=\"4\" valign=\"top\">Low</th>\n",
       "      <th>Chemical-Burn</th>\n",
       "      <td>0.827729</td>\n",
       "      <td>0.001541</td>\n",
       "      <td>0.170729</td>\n",
       "    </tr>\n",
       "    <tr>\n",
       "      <th>Contact-Contusion</th>\n",
       "      <td>0.493036</td>\n",
       "      <td>0.253482</td>\n",
       "      <td>0.253482</td>\n",
       "    </tr>\n",
       "    <tr>\n",
       "      <th>Electrical-Shock</th>\n",
       "      <td>0.164555</td>\n",
       "      <td>0.670890</td>\n",
       "      <td>0.164555</td>\n",
       "    </tr>\n",
       "    <tr>\n",
       "      <th>Fall-Gtm</th>\n",
       "      <td>0.002186</td>\n",
       "      <td>0.996267</td>\n",
       "      <td>0.001547</td>\n",
       "    </tr>\n",
       "  </tbody>\n",
       "</table>\n",
       "</div>"
      ],
      "text/plain": [
       "Process                        Engine-Mount  Engine-Wiring  Oil-Fill\n",
       "Absenteeism Injury                                                  \n",
       "Low         Chemical-Burn          0.827729       0.001541  0.170729\n",
       "            Contact-Contusion      0.493036       0.253482  0.253482\n",
       "            Electrical-Shock       0.164555       0.670890  0.164555\n",
       "            Fall-Gtm               0.002186       0.996267  0.001547"
      ]
     },
     "execution_count": 56,
     "metadata": {},
     "output_type": "execute_result"
    }
   ],
   "source": [
    "dfIAP: DataFrame = eliminateSlice(carModel, query = Process, evidence = {Absenteeism.var : {'Low'},\n",
    "                                                                         Injury.var : dataDict[Injury.var]})\n",
    "dfIAP\n",
    "\n",
    "\n",
    "#print(elim.query(variables = [Process.var], evidence = {Absenteeism.var : 'Low', Injury.var : 'Chemical-Burn'}))\n",
    "#print(elim.query(variables = [Process.var], evidence = {Absenteeism.var : 'Low', Injury.var : 'Contact-Contusion'}))\n",
    "#print(elim.query(variables = [Process.var], evidence = {Absenteeism.var : 'Low', Injury.var : 'Fall-Gtm'}))"
   ]
  },
  {
   "cell_type": "markdown",
   "metadata": {
    "lines_to_next_cell": 0,
    "title": "markdown"
   },
   "source": [
    "### (10) Common Effect Reasoning: Tool ---> Injury <--- Process\n",
    "$\\color{red}{\\text{TODO: CASE 9 is not working!}}$"
   ]
  },
  {
   "cell_type": "code",
   "execution_count": 57,
   "metadata": {
    "lines_to_next_cell": 0,
    "title": "codecell"
   },
   "outputs": [
    {
     "data": {
      "text/plain": [
       "frozenset()"
      ]
     },
     "execution_count": 57,
     "metadata": {},
     "output_type": "execute_result"
    }
   ],
   "source": [
    "\n",
    "# 10\n",
    "observedVars(carModel, start = Tool, end = Process)\n",
    "observedVars(carModel, start = Process, end = Tool)\n",
    "\n",
    "inf = CausalInference(carModel)\n",
    "inf.get_all_backdoor_adjustment_sets(Tool.var, Process.var)\n",
    "inf.get_all_backdoor_adjustment_sets(Process.var, Tool.var)"
   ]
  },
  {
   "cell_type": "code",
   "execution_count": 58,
   "metadata": {
    "lines_to_next_cell": 2,
    "title": "codecell"
   },
   "outputs": [
    {
     "data": {
      "text/plain": [
       "True"
      ]
     },
     "execution_count": 58,
     "metadata": {},
     "output_type": "execute_result"
    }
   ],
   "source": [
    "\n",
    "# Most base case: when including no backdoors and no middle node in the observed area, we get an active trail.\n",
    "assert carModel.is_active_trail(start = Process.var, end = Tool.var, observed = None)\n",
    "\n",
    "# This is the base case, accounting for back doors but NOT for the middle node.\n",
    "assert not carModel.is_active_trail(start = Process.var, end = Tool.var, observed = [Tool.var])\n",
    "assert not carModel.is_active_trail(start = Process.var, end = Tool.var, observed = [Process.var])\n",
    "\n",
    "# TODO when including the middle node without backdoors the active trail is NOT nullified.... so does this conclude that only backdoors nullify the active trail? The whole point was to test that the middle node nullified it...\n",
    "carModel.is_active_trail(start = Process.var, end = Tool.var, observed = [Injury.var])"
   ]
  },
  {
   "cell_type": "code",
   "execution_count": 59,
   "metadata": {
    "title": "codecell"
   },
   "outputs": [
    {
     "data": {
      "text/html": [
       "<div>\n",
       "<style scoped>\n",
       "    .dataframe tbody tr th:only-of-type {\n",
       "        vertical-align: middle;\n",
       "    }\n",
       "\n",
       "    .dataframe tbody tr th {\n",
       "        vertical-align: top;\n",
       "    }\n",
       "\n",
       "    .dataframe thead th {\n",
       "        text-align: right;\n",
       "    }\n",
       "</style>\n",
       "<table border=\"1\" class=\"dataframe\">\n",
       "  <thead>\n",
       "    <tr style=\"text-align: right;\">\n",
       "      <th>Process</th>\n",
       "      <th>Engine-Mount</th>\n",
       "      <th>Engine-Wiring</th>\n",
       "      <th>Oil-Fill</th>\n",
       "    </tr>\n",
       "    <tr>\n",
       "      <th>Tool</th>\n",
       "      <th></th>\n",
       "      <th></th>\n",
       "      <th></th>\n",
       "    </tr>\n",
       "  </thead>\n",
       "  <tbody>\n",
       "    <tr>\n",
       "      <th>Oil</th>\n",
       "      <td>0.006803</td>\n",
       "      <td>0.006803</td>\n",
       "      <td>0.986395</td>\n",
       "    </tr>\n",
       "    <tr>\n",
       "      <th>Forklift</th>\n",
       "      <td>0.994490</td>\n",
       "      <td>0.002755</td>\n",
       "      <td>0.002755</td>\n",
       "    </tr>\n",
       "    <tr>\n",
       "      <th>Front-Right-Door</th>\n",
       "      <td>0.009009</td>\n",
       "      <td>0.009009</td>\n",
       "      <td>0.981982</td>\n",
       "    </tr>\n",
       "    <tr>\n",
       "      <th>Power-Gun</th>\n",
       "      <td>0.002123</td>\n",
       "      <td>0.995754</td>\n",
       "      <td>0.002123</td>\n",
       "    </tr>\n",
       "  </tbody>\n",
       "</table>\n",
       "</div>"
      ],
      "text/plain": [
       "Process           Engine-Mount  Engine-Wiring  Oil-Fill\n",
       "Tool                                                   \n",
       "Oil                   0.006803       0.006803  0.986395\n",
       "Forklift              0.994490       0.002755  0.002755\n",
       "Front-Right-Door      0.009009       0.009009  0.981982\n",
       "Power-Gun             0.002123       0.995754  0.002123"
      ]
     },
     "execution_count": 59,
     "metadata": {},
     "output_type": "execute_result"
    }
   ],
   "source": [
    "# todo all probs per exertion state must be the same (so probs along a column  must be the same, when not observing the\n",
    "# middle node Injury)\n",
    "\n",
    "dfTP: DataFrame = eliminateSlice(carModel, query = Process, evidence = {Tool.var :Tool.states} )\n",
    "dfTP"
   ]
  },
  {
   "cell_type": "code",
   "execution_count": 60,
   "metadata": {
    "title": "codecell"
   },
   "outputs": [
    {
     "data": {
      "text/html": [
       "<div>\n",
       "<style scoped>\n",
       "    .dataframe tbody tr th:only-of-type {\n",
       "        vertical-align: middle;\n",
       "    }\n",
       "\n",
       "    .dataframe tbody tr th {\n",
       "        vertical-align: top;\n",
       "    }\n",
       "\n",
       "    .dataframe thead th {\n",
       "        text-align: right;\n",
       "    }\n",
       "</style>\n",
       "<table border=\"1\" class=\"dataframe\">\n",
       "  <thead>\n",
       "    <tr style=\"text-align: right;\">\n",
       "      <th></th>\n",
       "      <th>Process</th>\n",
       "      <th>Engine-Mount</th>\n",
       "      <th>Engine-Wiring</th>\n",
       "      <th>Oil-Fill</th>\n",
       "    </tr>\n",
       "    <tr>\n",
       "      <th>Injury</th>\n",
       "      <th>Tool</th>\n",
       "      <th></th>\n",
       "      <th></th>\n",
       "      <th></th>\n",
       "    </tr>\n",
       "  </thead>\n",
       "  <tbody>\n",
       "    <tr>\n",
       "      <th rowspan=\"4\" valign=\"top\">Contact-Contusion</th>\n",
       "      <th>Oil</th>\n",
       "      <td>0.333333</td>\n",
       "      <td>0.333333</td>\n",
       "      <td>0.333333</td>\n",
       "    </tr>\n",
       "    <tr>\n",
       "      <th>Forklift</th>\n",
       "      <td>0.995402</td>\n",
       "      <td>0.002299</td>\n",
       "      <td>0.002299</td>\n",
       "    </tr>\n",
       "    <tr>\n",
       "      <th>Front-Right-Door</th>\n",
       "      <td>0.333333</td>\n",
       "      <td>0.333333</td>\n",
       "      <td>0.333333</td>\n",
       "    </tr>\n",
       "    <tr>\n",
       "      <th>Power-Gun</th>\n",
       "      <td>0.333333</td>\n",
       "      <td>0.333333</td>\n",
       "      <td>0.333333</td>\n",
       "    </tr>\n",
       "  </tbody>\n",
       "</table>\n",
       "</div>"
      ],
      "text/plain": [
       "Process                             Engine-Mount  Engine-Wiring  Oil-Fill\n",
       "Injury            Tool                                                   \n",
       "Contact-Contusion Oil                   0.333333       0.333333  0.333333\n",
       "                  Forklift              0.995402       0.002299  0.002299\n",
       "                  Front-Right-Door      0.333333       0.333333  0.333333\n",
       "                  Power-Gun             0.333333       0.333333  0.333333"
      ]
     },
     "execution_count": 60,
     "metadata": {},
     "output_type": "execute_result"
    }
   ],
   "source": [
    "dfTIP: DataFrame = eliminateSlice(carModel, query = Process, evidence = {Injury.var : {'Contact-Contusion'},\n",
    "                                                                        Tool.var : Tool.states})\n",
    "dfTIP\n",
    "\n",
    "\n",
    "\n",
    "\n"
   ]
  },
  {
   "cell_type": "markdown",
   "metadata": {
    "lines_to_next_cell": 0,
    "title": "markdown"
   },
   "source": [
    "### (13) Common Effect Reasoning: WorkCapacity ----> Absenteeism <---- Injury\n",
    "$\\color{red}{\\text{TODO: CASE 13 is not working!}}$"
   ]
  },
  {
   "cell_type": "code",
   "execution_count": 61,
   "metadata": {
    "lines_to_next_cell": 0,
    "title": "codecell"
   },
   "outputs": [
    {
     "data": {
      "text/plain": [
       "frozenset()"
      ]
     },
     "execution_count": 61,
     "metadata": {},
     "output_type": "execute_result"
    }
   ],
   "source": [
    "\n",
    "# 13\n",
    "observedVars(carModel, start = WorkCapacity, end = Injury)\n",
    "observedVars(carModel, start = Injury, end = WorkCapacity)\n",
    "\n",
    "inf = CausalInference(carModel)\n",
    "inf.get_all_backdoor_adjustment_sets(Injury.var, WorkCapacity.var)\n",
    "inf.get_all_backdoor_adjustment_sets(WorkCapacity.var, Injury.var)"
   ]
  },
  {
   "cell_type": "code",
   "execution_count": 62,
   "metadata": {
    "lines_to_next_cell": 2,
    "title": "codecell"
   },
   "outputs": [
    {
     "data": {
      "text/plain": [
       "True"
      ]
     },
     "execution_count": 62,
     "metadata": {},
     "output_type": "execute_result"
    }
   ],
   "source": [
    "\n",
    "# TODO different from the rest of the cases above: here including NONE observed still lets active trail be nullified, even without including backdoors or middle node.\n",
    "# CORRECT: when middle node state is unknown, there is NO active trail\n",
    "assert not carModel.is_active_trail(start = WorkCapacity.var, end = Injury.var, observed = None)\n",
    "\n",
    "# This is the base case, accounting for back doors but NOT for the middle node.\n",
    "# CORRECT: when not including the middle node, the active trail is still nullified.\n",
    "assert not carModel.is_active_trail(start = WorkCapacity.var, end = Injury.var, observed = [Injury.var])\n",
    "assert not carModel.is_active_trail(start = WorkCapacity.var, end = Injury.var, observed = [WorkCapacity.var])\n",
    "\n",
    "\n",
    "# TODO when including the middle node without backdoors the active trail is NOT nullified.... so does this conclude that only backdoors nullify the active trail? The whole point was to test that the middle node nullified it...\n",
    "carModel.is_active_trail(start = WorkCapacity.var, end = Injury.var, observed = [Absenteeism.var])"
   ]
  },
  {
   "cell_type": "code",
   "execution_count": 63,
   "metadata": {
    "title": "codecell"
   },
   "outputs": [
    {
     "data": {
      "text/html": [
       "<div>\n",
       "<style scoped>\n",
       "    .dataframe tbody tr th:only-of-type {\n",
       "        vertical-align: middle;\n",
       "    }\n",
       "\n",
       "    .dataframe tbody tr th {\n",
       "        vertical-align: top;\n",
       "    }\n",
       "\n",
       "    .dataframe thead th {\n",
       "        text-align: right;\n",
       "    }\n",
       "</style>\n",
       "<table border=\"1\" class=\"dataframe\">\n",
       "  <thead>\n",
       "    <tr style=\"text-align: right;\">\n",
       "      <th>Process</th>\n",
       "      <th>Engine-Mount</th>\n",
       "      <th>Engine-Wiring</th>\n",
       "      <th>Oil-Fill</th>\n",
       "    </tr>\n",
       "    <tr>\n",
       "      <th>Tool</th>\n",
       "      <th></th>\n",
       "      <th></th>\n",
       "      <th></th>\n",
       "    </tr>\n",
       "  </thead>\n",
       "  <tbody>\n",
       "    <tr>\n",
       "      <th>Oil</th>\n",
       "      <td>0.006803</td>\n",
       "      <td>0.006803</td>\n",
       "      <td>0.986395</td>\n",
       "    </tr>\n",
       "    <tr>\n",
       "      <th>Forklift</th>\n",
       "      <td>0.994490</td>\n",
       "      <td>0.002755</td>\n",
       "      <td>0.002755</td>\n",
       "    </tr>\n",
       "    <tr>\n",
       "      <th>Front-Right-Door</th>\n",
       "      <td>0.009009</td>\n",
       "      <td>0.009009</td>\n",
       "      <td>0.981982</td>\n",
       "    </tr>\n",
       "    <tr>\n",
       "      <th>Power-Gun</th>\n",
       "      <td>0.002123</td>\n",
       "      <td>0.995754</td>\n",
       "      <td>0.002123</td>\n",
       "    </tr>\n",
       "  </tbody>\n",
       "</table>\n",
       "</div>"
      ],
      "text/plain": [
       "Process           Engine-Mount  Engine-Wiring  Oil-Fill\n",
       "Tool                                                   \n",
       "Oil                   0.006803       0.006803  0.986395\n",
       "Forklift              0.994490       0.002755  0.002755\n",
       "Front-Right-Door      0.009009       0.009009  0.981982\n",
       "Power-Gun             0.002123       0.995754  0.002123"
      ]
     },
     "execution_count": 63,
     "metadata": {},
     "output_type": "execute_result"
    }
   ],
   "source": [
    "# todo all probs per exertion state must be the same (so probs along a column  must be the same, when not observing the\n",
    "# middle node Injury)\n",
    "\n",
    "dfTP: DataFrame = eliminateSlice(carModel, query = Process, evidence = {Tool.var :Tool.states} )\n",
    "dfTP"
   ]
  },
  {
   "cell_type": "code",
   "execution_count": 64,
   "metadata": {
    "title": "codecell"
   },
   "outputs": [
    {
     "data": {
      "text/html": [
       "<div>\n",
       "<style scoped>\n",
       "    .dataframe tbody tr th:only-of-type {\n",
       "        vertical-align: middle;\n",
       "    }\n",
       "\n",
       "    .dataframe tbody tr th {\n",
       "        vertical-align: top;\n",
       "    }\n",
       "\n",
       "    .dataframe thead th {\n",
       "        text-align: right;\n",
       "    }\n",
       "</style>\n",
       "<table border=\"1\" class=\"dataframe\">\n",
       "  <thead>\n",
       "    <tr style=\"text-align: right;\">\n",
       "      <th></th>\n",
       "      <th>Process</th>\n",
       "      <th>Engine-Mount</th>\n",
       "      <th>Engine-Wiring</th>\n",
       "      <th>Oil-Fill</th>\n",
       "    </tr>\n",
       "    <tr>\n",
       "      <th>Injury</th>\n",
       "      <th>Tool</th>\n",
       "      <th></th>\n",
       "      <th></th>\n",
       "      <th></th>\n",
       "    </tr>\n",
       "  </thead>\n",
       "  <tbody>\n",
       "    <tr>\n",
       "      <th rowspan=\"4\" valign=\"top\">Contact-Contusion</th>\n",
       "      <th>Oil</th>\n",
       "      <td>0.333333</td>\n",
       "      <td>0.333333</td>\n",
       "      <td>0.333333</td>\n",
       "    </tr>\n",
       "    <tr>\n",
       "      <th>Forklift</th>\n",
       "      <td>0.995402</td>\n",
       "      <td>0.002299</td>\n",
       "      <td>0.002299</td>\n",
       "    </tr>\n",
       "    <tr>\n",
       "      <th>Front-Right-Door</th>\n",
       "      <td>0.333333</td>\n",
       "      <td>0.333333</td>\n",
       "      <td>0.333333</td>\n",
       "    </tr>\n",
       "    <tr>\n",
       "      <th>Power-Gun</th>\n",
       "      <td>0.333333</td>\n",
       "      <td>0.333333</td>\n",
       "      <td>0.333333</td>\n",
       "    </tr>\n",
       "  </tbody>\n",
       "</table>\n",
       "</div>"
      ],
      "text/plain": [
       "Process                             Engine-Mount  Engine-Wiring  Oil-Fill\n",
       "Injury            Tool                                                   \n",
       "Contact-Contusion Oil                   0.333333       0.333333  0.333333\n",
       "                  Forklift              0.995402       0.002299  0.002299\n",
       "                  Front-Right-Door      0.333333       0.333333  0.333333\n",
       "                  Power-Gun             0.333333       0.333333  0.333333"
      ]
     },
     "execution_count": 64,
     "metadata": {},
     "output_type": "execute_result"
    }
   ],
   "source": [
    "dfTIP: DataFrame = eliminateSlice(carModel, query = Process, evidence = {Injury.var : {'Contact-Contusion'},\n",
    "                                                                        Tool.var : Tool.states})\n",
    "dfTIP\n",
    "\n",
    "\n",
    "\n"
   ]
  },
  {
   "cell_type": "code",
   "execution_count": 65,
   "metadata": {
    "lines_to_next_cell": 0,
    "title": "codecell"
   },
   "outputs": [
    {
     "data": {
      "text/plain": [
       "[{'Time'}, {'Process'}]"
      ]
     },
     "execution_count": 65,
     "metadata": {},
     "output_type": "execute_result"
    }
   ],
   "source": [
    "# 14\n",
    "observedVars(carModel, start= Time, end= Process)"
   ]
  },
  {
   "cell_type": "code",
   "execution_count": null,
   "metadata": {
    "title": "codecell"
   },
   "outputs": [],
   "source": []
  }
 ],
 "metadata": {
  "jupytext": {
   "cell_metadata_filter": "title,-all"
  },
  "kernelspec": {
   "display_name": "pybayesian_env",
   "language": "python",
   "name": "pybayesian_env"
  },
  "language_info": {
   "codemirror_mode": {
    "name": "ipython",
    "version": 3
   },
   "file_extension": ".py",
   "mimetype": "text/x-python",
   "name": "python",
   "nbconvert_exporter": "python",
   "pygments_lexer": "ipython3",
   "version": "3.7.6"
  }
 },
 "nbformat": 4,
 "nbformat_minor": 4
}
