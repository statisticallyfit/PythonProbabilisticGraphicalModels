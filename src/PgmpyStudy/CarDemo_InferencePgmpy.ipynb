{
 "cells": [
  {
   "cell_type": "markdown",
   "metadata": {
    "title": "markdown"
   },
   "source": [
    "# Car Bayesian Network\n",
    "Creating bayesian network to model use cases in [https://synergo.atlassian.net/wiki/spaces/CLNTMMC/pages/1812529153/RFP+-+Extra+use+cases+-+Appendix+A](https://synergo.atlassian.net/wiki/spaces/CLNTMMC/pages/1812529153/RFP+-+Extra+use+cases+-+Appendix+A)."
   ]
  },
  {
   "cell_type": "markdown",
   "metadata": {
    "lines_to_next_cell": 0,
    "title": "markdown"
   },
   "source": [
    "Doing path-setting:"
   ]
  },
  {
   "cell_type": "code",
   "execution_count": 1,
   "metadata": {
    "title": "codecell"
   },
   "outputs": [
    {
     "name": "stdout",
     "output_type": "stream",
     "text": [
      "curPath =  /development/projects/statisticallyfit/github/learningmathstat/PythonProbabilisticGraphicalModels/src/PgmpyStudy/ \n",
      "\n",
      "dataPath =  /development/projects/statisticallyfit/github/learningmathstat/PythonProbabilisticGraphicalModels/src/_data/ \n",
      "\n",
      "imagePath =  /development/projects/statisticallyfit/github/learningmathstat/PythonProbabilisticGraphicalModels/src/PgmpyStudy/images/ \n",
      "\n"
     ]
    },
    {
     "data": {
      "text/plain": [
       "['/development/projects/statisticallyfit/github/learningmathstat/PythonProbabilisticGraphicalModels/src/PgmpyStudy',\n",
       " '/development/bin/python/conda3_ana/envs/pybayesian_env/lib/python37.zip',\n",
       " '/development/bin/python/conda3_ana/envs/pybayesian_env/lib/python3.7',\n",
       " '/development/bin/python/conda3_ana/envs/pybayesian_env/lib/python3.7/lib-dynload',\n",
       " '',\n",
       " '/development/bin/python/conda3_ana/envs/pybayesian_env/lib/python3.7/site-packages',\n",
       " '/development/bin/python/conda3_ana/envs/pybayesian_env/lib/python3.7/site-packages/IPython/extensions',\n",
       " '/home/statisticallyfit/.ipython',\n",
       " '/development/projects/statisticallyfit/github/learningmathstat/PythonProbabilisticGraphicalModels/src/utils/',\n",
       " '/development/projects/statisticallyfit/github/learningmathstat/PythonProbabilisticGraphicalModels/src/PgmpyStudy/']"
      ]
     },
     "execution_count": 1,
     "metadata": {},
     "output_type": "execute_result"
    }
   ],
   "source": [
    "import os\n",
    "import sys\n",
    "from typing import *\n",
    "from typing import Union, List, Any\n",
    "\n",
    "import itertools\n",
    "\n",
    "os.getcwd()\n",
    "# Setting the baseline:\n",
    "os.chdir('/development/projects/statisticallyfit/github/learningmathstat/PythonProbabilisticGraphicalModels')\n",
    "\n",
    "\n",
    "curPath: str = os.getcwd() + \"/src/PgmpyStudy/\"\n",
    "\n",
    "dataPath: str = os.getcwd() + \"/src/_data/\"\n",
    "imagePath: str = curPath + 'images/'\n",
    "\n",
    "print(\"curPath = \", curPath, \"\\n\")\n",
    "print(\"dataPath = \", dataPath, \"\\n\")\n",
    "print('imagePath = ', imagePath, \"\\n\")\n",
    "\n",
    "\n",
    "# Making files in utils folder visible here: to import my local print functions for nn.Module objects\n",
    "sys.path.append(os.getcwd() + \"/src/utils/\")\n",
    "# For being able to import files within PgmpyStudy folder\n",
    "sys.path.append(curPath)\n",
    "\n",
    "#sys.path.remove('/development/projects/statisticallyfit/github/learningmathstat/PythonNeuralNetNLP/src/utils/')\n",
    "#sys.path.remove('/development/projects/statisticallyfit/github/learningmathstat/PythonNeuralNetNLP/src/PgmpyStudy/')\n",
    "\n",
    "sys.path"
   ]
  },
  {
   "cell_type": "markdown",
   "metadata": {
    "lines_to_next_cell": 0,
    "title": "markdown"
   },
   "source": [
    "Science imports:"
   ]
  },
  {
   "cell_type": "code",
   "execution_count": 2,
   "metadata": {
    "lines_to_next_cell": 2,
    "title": "codecell"
   },
   "outputs": [],
   "source": [
    "from pgmpy.models import BayesianModel\n",
    "from pgmpy.inference import VariableElimination\n",
    "from pgmpy.factors.discrete import TabularCPD\n",
    "from pgmpy.factors.discrete import JointProbabilityDistribution\n",
    "from pgmpy.factors.discrete.DiscreteFactor import DiscreteFactor\n",
    "from pgmpy.independencies import Independencies\n",
    "from pgmpy.independencies.Independencies import IndependenceAssertion\n",
    "\n",
    "\n",
    "from operator import mul\n",
    "from functools import reduce\n",
    "\n",
    "\n",
    "from src.utils.GraphvizUtil import *\n",
    "from src.utils.NetworkUtil import *\n",
    "from src.utils.DataUtil import *\n",
    "from src.utils.GenericUtil import *\n",
    "\n",
    "import pandas as pd\n",
    "from pandas.core.frame import DataFrame"
   ]
  },
  {
   "cell_type": "markdown",
   "metadata": {
    "lines_to_next_cell": 0,
    "title": "markdown"
   },
   "source": [
    "## Step 1: Creating / Loading Data"
   ]
  },
  {
   "cell_type": "code",
   "execution_count": 3,
   "metadata": {
    "title": "codecell"
   },
   "outputs": [],
   "source": [
    "import collections\n",
    "\n",
    "# Create named tuple class with names \"Names\" and \"Objects\"\n",
    "RandomVariable = collections.namedtuple(\"RandomVariable\", [\"var\", \"states\"])\n",
    "\n",
    "\n",
    "ProcessType = RandomVariable(var = \"ProcessType\", states = ['Accel-Pedal',\n",
    "                                                            'Door-Mount',\n",
    "                                                            'Engine-Mount',\n",
    "                                                            'Engine-Wiring',\n",
    "                                                            'Oil-Fill',\n",
    "                                                            'Sun-Roof-Housing'])\n",
    "\n",
    "ToolType = RandomVariable(var = \"ToolType\", states = ['Forklift', 'Front-Right-Door', 'Oil', 'Power-Gun'])\n",
    "\n",
    "InjuryType = RandomVariable(var = \"InjuryType\", states = ['Chemical-Burn',\n",
    "                                                          'Contact-Contusion',\n",
    "                                                          'Electrical-Burn',\n",
    "                                                          'Electrical-Shock',\n",
    "                                                          'Fall-Gtm'])\n",
    "\n",
    "#AbsenteeismLevel = RandomVariable(var = \"AbsenteeismLevel\", states =  ['Absenteeism-00',\n",
    "#                                                                       'Absenteeism-01',\n",
    "#                                                                       'Absenteeism-02',\n",
    "#                                                                       'Absenteeism-03'])\n",
    "AbsenteeismLevel = RandomVariable(var = \"AbsenteeismLevel\", states =  ['Low', 'Medium', 'High'])\n",
    "\n",
    "\n",
    "# Make 30 days to represent 1 month\n",
    "Time = RandomVariable(var = \"Time\", states = list(map(lambda day : str(day), range(1, 31))))\n",
    "\n",
    "#TrainingLevel = RandomVariable(var = \"TrainingLevel\", states = ['Training-00',\n",
    "#                                                                'Training-01',\n",
    "#                                                                'Training-02',\n",
    "#                                                                'Training-03'])\n",
    "TrainingLevel = RandomVariable(var = \"TrainingLevel\", states = ['Low', 'Medium', 'High'])\n",
    "\n",
    "#ExertionLevel = RandomVariable(var = \"ExertionLevel\", states = ['Exertion-00',\n",
    "#                                                                'Exertion-01',\n",
    "#                                                                'Exertion-02',\n",
    "#                                                                'Exertion-03'])\n",
    "ExertionLevel = RandomVariable(var = \"ExertionLevel\", states = ['Low', 'Medium', 'High'])\n",
    "\n",
    "#ExperienceLevel = RandomVariable(var = \"ExperienceLevel\", states = ['Experience-00',\n",
    "#                                                                    'Experience-01',\n",
    "#                                                                    'Experience-02',\n",
    "#                                                                    'Experience-03'])\n",
    "ExperienceLevel = RandomVariable(var = \"ExperienceLevel\", states = ['Low', 'Medium', 'High'])\n",
    "\n",
    "#WorkCapacity = RandomVariable(var = \"WorkCapacity\", states = ['WorkCapacity-00',\n",
    "#                                                              'WorkCapacity-01',\n",
    "#                                                              'WorkCapacity-02',\n",
    "#                                                              'WorkCapacity-03'])\n",
    "WorkCapacity = RandomVariable(var = \"WorkCapacity\", states = ['Low', 'Medium', 'High'])\n",
    "\n",
    "dataDict = {Time.var : Time.states,\n",
    "            TrainingLevel.var : TrainingLevel.states,\n",
    "            ExertionLevel.var : ExertionLevel.states,\n",
    "            ExperienceLevel.var : ExperienceLevel.states,\n",
    "            WorkCapacity.var : WorkCapacity. states,\n",
    "            ProcessType.var : ProcessType.states,\n",
    "            ToolType.var : ToolType.states,\n",
    "            InjuryType.var : InjuryType.states,\n",
    "            AbsenteeismLevel.var : AbsenteeismLevel.states}"
   ]
  },
  {
   "cell_type": "code",
   "execution_count": 4,
   "metadata": {
    "lines_to_next_cell": 2,
    "title": "codecell"
   },
   "outputs": [
    {
     "data": {
      "text/html": [
       "<div>\n",
       "<style scoped>\n",
       "    .dataframe tbody tr th:only-of-type {\n",
       "        vertical-align: middle;\n",
       "    }\n",
       "\n",
       "    .dataframe tbody tr th {\n",
       "        vertical-align: top;\n",
       "    }\n",
       "\n",
       "    .dataframe thead th {\n",
       "        text-align: right;\n",
       "    }\n",
       "</style>\n",
       "<table border=\"1\" class=\"dataframe\">\n",
       "  <thead>\n",
       "    <tr style=\"text-align: right;\">\n",
       "      <th></th>\n",
       "      <th>Time</th>\n",
       "      <th>TrainingLevel</th>\n",
       "      <th>ExertionLevel</th>\n",
       "      <th>ExperienceLevel</th>\n",
       "      <th>WorkCapacity</th>\n",
       "      <th>ProcessType</th>\n",
       "      <th>ToolType</th>\n",
       "      <th>InjuryType</th>\n",
       "      <th>AbsenteeismLevel</th>\n",
       "    </tr>\n",
       "  </thead>\n",
       "  <tbody>\n",
       "    <tr>\n",
       "      <th>0</th>\n",
       "      <td>1</td>\n",
       "      <td>Low</td>\n",
       "      <td>Low</td>\n",
       "      <td>Low</td>\n",
       "      <td>High</td>\n",
       "      <td>Engine-Mount</td>\n",
       "      <td>Forklift</td>\n",
       "      <td>Fall-Gtm</td>\n",
       "      <td>High</td>\n",
       "    </tr>\n",
       "    <tr>\n",
       "      <th>1</th>\n",
       "      <td>1</td>\n",
       "      <td>Low</td>\n",
       "      <td>Low</td>\n",
       "      <td>Low</td>\n",
       "      <td>High</td>\n",
       "      <td>Engine-Mount</td>\n",
       "      <td>Forklift</td>\n",
       "      <td>Contact-Contusion</td>\n",
       "      <td>High</td>\n",
       "    </tr>\n",
       "    <tr>\n",
       "      <th>2</th>\n",
       "      <td>1</td>\n",
       "      <td>Low</td>\n",
       "      <td>Low</td>\n",
       "      <td>Low</td>\n",
       "      <td>High</td>\n",
       "      <td>Engine-Mount</td>\n",
       "      <td>Forklift</td>\n",
       "      <td>Fall-Gtm</td>\n",
       "      <td>High</td>\n",
       "    </tr>\n",
       "    <tr>\n",
       "      <th>3</th>\n",
       "      <td>1</td>\n",
       "      <td>Low</td>\n",
       "      <td>Low</td>\n",
       "      <td>Low</td>\n",
       "      <td>High</td>\n",
       "      <td>Engine-Mount</td>\n",
       "      <td>Forklift</td>\n",
       "      <td>Contact-Contusion</td>\n",
       "      <td>Medium</td>\n",
       "    </tr>\n",
       "    <tr>\n",
       "      <th>4</th>\n",
       "      <td>1</td>\n",
       "      <td>Low</td>\n",
       "      <td>Low</td>\n",
       "      <td>Low</td>\n",
       "      <td>High</td>\n",
       "      <td>Engine-Mount</td>\n",
       "      <td>Forklift</td>\n",
       "      <td>Contact-Contusion</td>\n",
       "      <td>High</td>\n",
       "    </tr>\n",
       "    <tr>\n",
       "      <th>...</th>\n",
       "      <td>...</td>\n",
       "      <td>...</td>\n",
       "      <td>...</td>\n",
       "      <td>...</td>\n",
       "      <td>...</td>\n",
       "      <td>...</td>\n",
       "      <td>...</td>\n",
       "      <td>...</td>\n",
       "      <td>...</td>\n",
       "    </tr>\n",
       "    <tr>\n",
       "      <th>924</th>\n",
       "      <td>30</td>\n",
       "      <td>High</td>\n",
       "      <td>High</td>\n",
       "      <td>High</td>\n",
       "      <td>Low</td>\n",
       "      <td>Oil-Fill</td>\n",
       "      <td>Oil</td>\n",
       "      <td>Chemical-Burn</td>\n",
       "      <td>High</td>\n",
       "    </tr>\n",
       "    <tr>\n",
       "      <th>925</th>\n",
       "      <td>30</td>\n",
       "      <td>High</td>\n",
       "      <td>High</td>\n",
       "      <td>High</td>\n",
       "      <td>Low</td>\n",
       "      <td>Oil-Fill</td>\n",
       "      <td>Oil</td>\n",
       "      <td>Chemical-Burn</td>\n",
       "      <td>High</td>\n",
       "    </tr>\n",
       "    <tr>\n",
       "      <th>926</th>\n",
       "      <td>30</td>\n",
       "      <td>High</td>\n",
       "      <td>High</td>\n",
       "      <td>High</td>\n",
       "      <td>Low</td>\n",
       "      <td>Oil-Fill</td>\n",
       "      <td>Front-Right-Door</td>\n",
       "      <td>Chemical-Burn</td>\n",
       "      <td>Medium</td>\n",
       "    </tr>\n",
       "    <tr>\n",
       "      <th>927</th>\n",
       "      <td>30</td>\n",
       "      <td>High</td>\n",
       "      <td>High</td>\n",
       "      <td>High</td>\n",
       "      <td>Low</td>\n",
       "      <td>Oil-Fill</td>\n",
       "      <td>Front-Right-Door</td>\n",
       "      <td>Chemical-Burn</td>\n",
       "      <td>Medium</td>\n",
       "    </tr>\n",
       "    <tr>\n",
       "      <th>928</th>\n",
       "      <td>30</td>\n",
       "      <td>High</td>\n",
       "      <td>High</td>\n",
       "      <td>High</td>\n",
       "      <td>Low</td>\n",
       "      <td>Oil-Fill</td>\n",
       "      <td>Front-Right-Door</td>\n",
       "      <td>Chemical-Burn</td>\n",
       "      <td>Low</td>\n",
       "    </tr>\n",
       "  </tbody>\n",
       "</table>\n",
       "<p>900 rows × 9 columns</p>\n",
       "</div>"
      ],
      "text/plain": [
       "     Time TrainingLevel ExertionLevel ExperienceLevel WorkCapacity  \\\n",
       "0       1           Low           Low             Low         High   \n",
       "1       1           Low           Low             Low         High   \n",
       "2       1           Low           Low             Low         High   \n",
       "3       1           Low           Low             Low         High   \n",
       "4       1           Low           Low             Low         High   \n",
       "..    ...           ...           ...             ...          ...   \n",
       "924    30          High          High            High          Low   \n",
       "925    30          High          High            High          Low   \n",
       "926    30          High          High            High          Low   \n",
       "927    30          High          High            High          Low   \n",
       "928    30          High          High            High          Low   \n",
       "\n",
       "      ProcessType          ToolType         InjuryType AbsenteeismLevel  \n",
       "0    Engine-Mount          Forklift           Fall-Gtm             High  \n",
       "1    Engine-Mount          Forklift  Contact-Contusion             High  \n",
       "2    Engine-Mount          Forklift           Fall-Gtm             High  \n",
       "3    Engine-Mount          Forklift  Contact-Contusion           Medium  \n",
       "4    Engine-Mount          Forklift  Contact-Contusion             High  \n",
       "..            ...               ...                ...              ...  \n",
       "924      Oil-Fill               Oil      Chemical-Burn             High  \n",
       "925      Oil-Fill               Oil      Chemical-Burn             High  \n",
       "926      Oil-Fill  Front-Right-Door      Chemical-Burn           Medium  \n",
       "927      Oil-Fill  Front-Right-Door      Chemical-Burn           Medium  \n",
       "928      Oil-Fill  Front-Right-Door      Chemical-Burn              Low  \n",
       "\n",
       "[900 rows x 9 columns]"
      ]
     },
     "execution_count": 4,
     "metadata": {},
     "output_type": "execute_result"
    }
   ],
   "source": [
    "# Reading in the use case data\n",
    "# NOTE: reading in every column as string type so the Time variable will come out string\n",
    "usecaseData: DataFrame = pd.read_csv(dataPath + 'WIKI_USECASES_4_5.csv', delimiter = ',', dtype = str)\n",
    "usecaseData = cleanData(usecaseData)\n",
    "\n",
    "# Now convert the Time to int:\n",
    "usecaseData[Time.var] = usecaseData[Time.var].astype(int)\n",
    "\n",
    "data = usecaseData\n",
    "# TODO: Option to later concat with white noise data (like in CarDemo Manual from CausalnexStudy)\n",
    "data"
   ]
  },
  {
   "cell_type": "markdown",
   "metadata": {
    "title": "markdown"
   },
   "source": [
    "## Step 2: Create Network Structure"
   ]
  },
  {
   "cell_type": "code",
   "execution_count": 5,
   "metadata": {
    "title": "codecell"
   },
   "outputs": [
    {
     "data": {
      "image/svg+xml": [
       "<?xml version=\"1.0\" encoding=\"UTF-8\" standalone=\"no\"?>\n",
       "<!DOCTYPE svg PUBLIC \"-//W3C//DTD SVG 1.1//EN\"\n",
       " \"http://www.w3.org/Graphics/SVG/1.1/DTD/svg11.dtd\">\n",
       "<!-- Generated by graphviz version 2.38.0 (20140413.2041)\n",
       " -->\n",
       "<!-- Title: G Pages: 1 -->\n",
       "<svg width=\"652pt\" height=\"260pt\"\n",
       " viewBox=\"0.00 0.00 652.35 260.00\" xmlns=\"http://www.w3.org/2000/svg\" xmlns:xlink=\"http://www.w3.org/1999/xlink\">\n",
       "<g id=\"graph0\" class=\"graph\" transform=\"scale(1 1) rotate(0) translate(4 256)\">\n",
       "<title>G</title>\n",
       "<polygon fill=\"white\" stroke=\"none\" points=\"-4,4 -4,-256 648.346,-256 648.346,4 -4,4\"/>\n",
       "<!-- ExertionLevel -->\n",
       "<g id=\"node1\" class=\"node\"><title>ExertionLevel</title>\n",
       "<defs>\n",
       "<linearGradient id=\"l_0\" gradientUnits=\"userSpaceOnUse\" x1=\"60.3275\" y1=\"-144\" x2=\"60.3275\" y2=\"-180\" >\n",
       "<stop offset=\"0\" style=\"stop-color:#ceccff;stop-opacity:1.;\"/>\n",
       "<stop offset=\"1\" style=\"stop-color:white;stop-opacity:1.;\"/>\n",
       "</linearGradient>\n",
       "</defs>\n",
       "<ellipse fill=\"url(#l_0)\" stroke=\"#ff638d\" cx=\"60.3275\" cy=\"-162\" rx=\"60.1555\" ry=\"18\"/>\n",
       "<text text-anchor=\"middle\" x=\"60.3275\" y=\"-158.9\" font-family=\"Acme-Regular.ttf\" font-size=\"12.00\">ExertionLevel</text>\n",
       "</g>\n",
       "<!-- WorkCapacity -->\n",
       "<g id=\"node2\" class=\"node\"><title>WorkCapacity</title>\n",
       "<defs>\n",
       "<linearGradient id=\"l_1\" gradientUnits=\"userSpaceOnUse\" x1=\"247.328\" y1=\"-72\" x2=\"247.328\" y2=\"-108\" >\n",
       "<stop offset=\"0\" style=\"stop-color:#ceccff;stop-opacity:1.;\"/>\n",
       "<stop offset=\"1\" style=\"stop-color:white;stop-opacity:1.;\"/>\n",
       "</linearGradient>\n",
       "</defs>\n",
       "<ellipse fill=\"url(#l_1)\" stroke=\"#ff638d\" cx=\"247.328\" cy=\"-90\" rx=\"60.8863\" ry=\"18\"/>\n",
       "<text text-anchor=\"middle\" x=\"247.328\" y=\"-86.9\" font-family=\"Acme-Regular.ttf\" font-size=\"12.00\">WorkCapacity</text>\n",
       "</g>\n",
       "<!-- ExertionLevel&#45;&gt;WorkCapacity -->\n",
       "<g id=\"edge1\" class=\"edge\"><title>ExertionLevel&#45;&gt;WorkCapacity</title>\n",
       "<path fill=\"none\" stroke=\"#ff638d\" d=\"M96.383,-147.503C126.296,-136.306 169.016,-120.315 201.379,-108.2\"/>\n",
       "<polygon fill=\"#ff638d\" stroke=\"#ff638d\" points=\"202.926,-111.358 211.064,-104.575 200.472,-104.802 202.926,-111.358\"/>\n",
       "</g>\n",
       "<!-- AbsenteeismLevel -->\n",
       "<g id=\"node3\" class=\"node\"><title>AbsenteeismLevel</title>\n",
       "<defs>\n",
       "<linearGradient id=\"l_2\" gradientUnits=\"userSpaceOnUse\" x1=\"499.328\" y1=\"-1.77636e-14\" x2=\"499.328\" y2=\"-36\" >\n",
       "<stop offset=\"0\" style=\"stop-color:#ceccff;stop-opacity:1.;\"/>\n",
       "<stop offset=\"1\" style=\"stop-color:white;stop-opacity:1.;\"/>\n",
       "</linearGradient>\n",
       "</defs>\n",
       "<ellipse fill=\"url(#l_2)\" stroke=\"#ff638d\" cx=\"499.328\" cy=\"-18\" rx=\"76.8968\" ry=\"18\"/>\n",
       "<text text-anchor=\"middle\" x=\"499.328\" y=\"-14.9\" font-family=\"Acme-Regular.ttf\" font-size=\"12.00\">AbsenteeismLevel</text>\n",
       "</g>\n",
       "<!-- WorkCapacity&#45;&gt;AbsenteeismLevel -->\n",
       "<g id=\"edge2\" class=\"edge\"><title>WorkCapacity&#45;&gt;AbsenteeismLevel</title>\n",
       "<path fill=\"none\" stroke=\"#ff638d\" d=\"M290.076,-77.1255C331.809,-65.533 395.596,-47.8142 441.774,-34.9871\"/>\n",
       "<polygon fill=\"#ff638d\" stroke=\"#ff638d\" points=\"442.941,-38.2957 451.639,-32.2468 441.067,-31.551 442.941,-38.2957\"/>\n",
       "</g>\n",
       "<!-- ExperienceLevel -->\n",
       "<g id=\"node4\" class=\"node\"><title>ExperienceLevel</title>\n",
       "<defs>\n",
       "<linearGradient id=\"l_3\" gradientUnits=\"userSpaceOnUse\" x1=\"247.328\" y1=\"-144\" x2=\"247.328\" y2=\"-180\" >\n",
       "<stop offset=\"0\" style=\"stop-color:#ceccff;stop-opacity:1.;\"/>\n",
       "<stop offset=\"1\" style=\"stop-color:white;stop-opacity:1.;\"/>\n",
       "</linearGradient>\n",
       "</defs>\n",
       "<ellipse fill=\"url(#l_3)\" stroke=\"#ff638d\" cx=\"247.328\" cy=\"-162\" rx=\"70.5856\" ry=\"18\"/>\n",
       "<text text-anchor=\"middle\" x=\"247.328\" y=\"-158.9\" font-family=\"Acme-Regular.ttf\" font-size=\"12.00\">ExperienceLevel</text>\n",
       "</g>\n",
       "<!-- ExperienceLevel&#45;&gt;WorkCapacity -->\n",
       "<g id=\"edge3\" class=\"edge\"><title>ExperienceLevel&#45;&gt;WorkCapacity</title>\n",
       "<path fill=\"none\" stroke=\"#ff638d\" d=\"M247.328,-143.697C247.328,-135.983 247.328,-126.712 247.328,-118.112\"/>\n",
       "<polygon fill=\"#ff638d\" stroke=\"#ff638d\" points=\"250.828,-118.104 247.328,-108.104 243.828,-118.104 250.828,-118.104\"/>\n",
       "</g>\n",
       "<!-- TrainingLevel -->\n",
       "<g id=\"node5\" class=\"node\"><title>TrainingLevel</title>\n",
       "<defs>\n",
       "<linearGradient id=\"l_4\" gradientUnits=\"userSpaceOnUse\" x1=\"394.328\" y1=\"-144\" x2=\"394.328\" y2=\"-180\" >\n",
       "<stop offset=\"0\" style=\"stop-color:#ceccff;stop-opacity:1.;\"/>\n",
       "<stop offset=\"1\" style=\"stop-color:white;stop-opacity:1.;\"/>\n",
       "</linearGradient>\n",
       "</defs>\n",
       "<ellipse fill=\"url(#l_4)\" stroke=\"#ff638d\" cx=\"394.328\" cy=\"-162\" rx=\"58.4615\" ry=\"18\"/>\n",
       "<text text-anchor=\"middle\" x=\"394.328\" y=\"-158.9\" font-family=\"Acme-Regular.ttf\" font-size=\"12.00\">TrainingLevel</text>\n",
       "</g>\n",
       "<!-- TrainingLevel&#45;&gt;WorkCapacity -->\n",
       "<g id=\"edge4\" class=\"edge\"><title>TrainingLevel&#45;&gt;WorkCapacity</title>\n",
       "<path fill=\"none\" stroke=\"#ff638d\" d=\"M363.869,-146.496C341.671,-135.925 311.386,-121.504 287.252,-110.012\"/>\n",
       "<polygon fill=\"#ff638d\" stroke=\"#ff638d\" points=\"288.533,-106.745 278,-105.606 285.523,-113.065 288.533,-106.745\"/>\n",
       "</g>\n",
       "<!-- Time -->\n",
       "<g id=\"node6\" class=\"node\"><title>Time</title>\n",
       "<defs>\n",
       "<linearGradient id=\"l_5\" gradientUnits=\"userSpaceOnUse\" x1=\"247.328\" y1=\"-216\" x2=\"247.328\" y2=\"-252\" >\n",
       "<stop offset=\"0\" style=\"stop-color:#ceccff;stop-opacity:1.;\"/>\n",
       "<stop offset=\"1\" style=\"stop-color:white;stop-opacity:1.;\"/>\n",
       "</linearGradient>\n",
       "</defs>\n",
       "<ellipse fill=\"url(#l_5)\" stroke=\"#ff638d\" cx=\"247.328\" cy=\"-234\" rx=\"28.8653\" ry=\"18\"/>\n",
       "<text text-anchor=\"middle\" x=\"247.328\" y=\"-230.9\" font-family=\"Acme-Regular.ttf\" font-size=\"12.00\">Time</text>\n",
       "</g>\n",
       "<!-- Time&#45;&gt;ExertionLevel -->\n",
       "<g id=\"edge7\" class=\"edge\"><title>Time&#45;&gt;ExertionLevel</title>\n",
       "<path fill=\"none\" stroke=\"#ff638d\" d=\"M223.263,-223.992C193.743,-212.942 143.068,-193.973 106.053,-180.116\"/>\n",
       "<polygon fill=\"#ff638d\" stroke=\"#ff638d\" points=\"107.074,-176.762 96.4817,-176.534 104.62,-183.317 107.074,-176.762\"/>\n",
       "</g>\n",
       "<!-- Time&#45;&gt;WorkCapacity -->\n",
       "<g id=\"edge5\" class=\"edge\"><title>Time&#45;&gt;WorkCapacity</title>\n",
       "<path fill=\"none\" stroke=\"#ff638d\" d=\"M222.855,-224.259C203.909,-216.043 178.994,-201.723 167.328,-180 159.757,-165.904 159.757,-158.096 167.328,-144 175.152,-129.431 188.935,-118.192 202.88,-109.891\"/>\n",
       "<polygon fill=\"#ff638d\" stroke=\"#ff638d\" points=\"204.942,-112.751 212.007,-104.855 201.56,-106.622 204.942,-112.751\"/>\n",
       "</g>\n",
       "<!-- Time&#45;&gt;AbsenteeismLevel -->\n",
       "<g id=\"edge6\" class=\"edge\"><title>Time&#45;&gt;AbsenteeismLevel</title>\n",
       "<path fill=\"none\" stroke=\"#ff638d\" d=\"M275.514,-229.67C327.473,-222.962 435.421,-206.193 461.328,-180 496.743,-144.193 501.47,-81.8969 500.934,-46.2029\"/>\n",
       "<polygon fill=\"#ff638d\" stroke=\"#ff638d\" points=\"504.427,-45.9279 500.626,-36.0382 497.43,-46.1394 504.427,-45.9279\"/>\n",
       "</g>\n",
       "<!-- Time&#45;&gt;ExperienceLevel -->\n",
       "<g id=\"edge8\" class=\"edge\"><title>Time&#45;&gt;ExperienceLevel</title>\n",
       "<path fill=\"none\" stroke=\"#ff638d\" d=\"M247.328,-215.697C247.328,-207.983 247.328,-198.712 247.328,-190.112\"/>\n",
       "<polygon fill=\"#ff638d\" stroke=\"#ff638d\" points=\"250.828,-190.104 247.328,-180.104 243.828,-190.104 250.828,-190.104\"/>\n",
       "</g>\n",
       "<!-- Time&#45;&gt;TrainingLevel -->\n",
       "<g id=\"edge9\" class=\"edge\"><title>Time&#45;&gt;TrainingLevel</title>\n",
       "<path fill=\"none\" stroke=\"#ff638d\" d=\"M269.654,-222.369C292.142,-211.66 327.318,-194.909 354.58,-181.927\"/>\n",
       "<polygon fill=\"#ff638d\" stroke=\"#ff638d\" points=\"356.335,-184.968 363.859,-177.509 353.326,-178.648 356.335,-184.968\"/>\n",
       "</g>\n",
       "<!-- ProcessType -->\n",
       "<g id=\"node7\" class=\"node\"><title>ProcessType</title>\n",
       "<defs>\n",
       "<linearGradient id=\"l_6\" gradientUnits=\"userSpaceOnUse\" x1=\"588.328\" y1=\"-216\" x2=\"588.328\" y2=\"-252\" >\n",
       "<stop offset=\"0\" style=\"stop-color:#ceccff;stop-opacity:1.;\"/>\n",
       "<stop offset=\"1\" style=\"stop-color:white;stop-opacity:1.;\"/>\n",
       "</linearGradient>\n",
       "</defs>\n",
       "<ellipse fill=\"url(#l_6)\" stroke=\"#ff638d\" cx=\"588.328\" cy=\"-234\" rx=\"56.0368\" ry=\"18\"/>\n",
       "<text text-anchor=\"middle\" x=\"588.328\" y=\"-230.9\" font-family=\"Acme-Regular.ttf\" font-size=\"12.00\">ProcessType</text>\n",
       "</g>\n",
       "<!-- ProcessType&#45;&gt;AbsenteeismLevel -->\n",
       "<g id=\"edge12\" class=\"edge\"><title>ProcessType&#45;&gt;AbsenteeismLevel</title>\n",
       "<path fill=\"none\" stroke=\"#ff638d\" d=\"M568.44,-217.037C557.7,-207.395 545.088,-194.24 537.328,-180 513.868,-136.953 504.798,-79.7278 501.359,-46.3733\"/>\n",
       "<polygon fill=\"#ff638d\" stroke=\"#ff638d\" points=\"504.808,-45.6641 500.396,-36.0318 497.838,-46.3133 504.808,-45.6641\"/>\n",
       "</g>\n",
       "<!-- ToolType -->\n",
       "<g id=\"node8\" class=\"node\"><title>ToolType</title>\n",
       "<defs>\n",
       "<linearGradient id=\"l_7\" gradientUnits=\"userSpaceOnUse\" x1=\"588.328\" y1=\"-144\" x2=\"588.328\" y2=\"-180\" >\n",
       "<stop offset=\"0\" style=\"stop-color:#ceccff;stop-opacity:1.;\"/>\n",
       "<stop offset=\"1\" style=\"stop-color:white;stop-opacity:1.;\"/>\n",
       "</linearGradient>\n",
       "</defs>\n",
       "<ellipse fill=\"url(#l_7)\" stroke=\"#ff638d\" cx=\"588.328\" cy=\"-162\" rx=\"41.7203\" ry=\"18\"/>\n",
       "<text text-anchor=\"middle\" x=\"588.328\" y=\"-158.9\" font-family=\"Acme-Regular.ttf\" font-size=\"12.00\">ToolType</text>\n",
       "</g>\n",
       "<!-- ProcessType&#45;&gt;ToolType -->\n",
       "<g id=\"edge10\" class=\"edge\"><title>ProcessType&#45;&gt;ToolType</title>\n",
       "<path fill=\"none\" stroke=\"#ff638d\" d=\"M588.328,-215.697C588.328,-207.983 588.328,-198.712 588.328,-190.112\"/>\n",
       "<polygon fill=\"#ff638d\" stroke=\"#ff638d\" points=\"591.828,-190.104 588.328,-180.104 584.828,-190.104 591.828,-190.104\"/>\n",
       "</g>\n",
       "<!-- InjuryType -->\n",
       "<g id=\"node9\" class=\"node\"><title>InjuryType</title>\n",
       "<defs>\n",
       "<linearGradient id=\"l_8\" gradientUnits=\"userSpaceOnUse\" x1=\"594.328\" y1=\"-72\" x2=\"594.328\" y2=\"-108\" >\n",
       "<stop offset=\"0\" style=\"stop-color:#ceccff;stop-opacity:1.;\"/>\n",
       "<stop offset=\"1\" style=\"stop-color:white;stop-opacity:1.;\"/>\n",
       "</linearGradient>\n",
       "</defs>\n",
       "<ellipse fill=\"url(#l_8)\" stroke=\"#ff638d\" cx=\"594.328\" cy=\"-90\" rx=\"48.0316\" ry=\"18\"/>\n",
       "<text text-anchor=\"middle\" x=\"594.328\" y=\"-86.9\" font-family=\"Acme-Regular.ttf\" font-size=\"12.00\">InjuryType</text>\n",
       "</g>\n",
       "<!-- ProcessType&#45;&gt;InjuryType -->\n",
       "<g id=\"edge11\" class=\"edge\"><title>ProcessType&#45;&gt;InjuryType</title>\n",
       "<path fill=\"none\" stroke=\"#ff638d\" d=\"M610.037,-217.199C621.062,-207.788 633.361,-194.805 639.328,-180 645.308,-165.16 644.844,-159.019 639.328,-144 635.249,-132.896 627.699,-122.527 619.933,-113.957\"/>\n",
       "<polygon fill=\"#ff638d\" stroke=\"#ff638d\" points=\"622.303,-111.373 612.833,-106.623 617.273,-116.242 622.303,-111.373\"/>\n",
       "</g>\n",
       "<!-- ToolType&#45;&gt;InjuryType -->\n",
       "<g id=\"edge13\" class=\"edge\"><title>ToolType&#45;&gt;InjuryType</title>\n",
       "<path fill=\"none\" stroke=\"#ff638d\" d=\"M589.811,-143.697C590.472,-135.983 591.266,-126.712 592.004,-118.112\"/>\n",
       "<polygon fill=\"#ff638d\" stroke=\"#ff638d\" points=\"595.495,-118.367 592.861,-108.104 588.52,-117.769 595.495,-118.367\"/>\n",
       "</g>\n",
       "<!-- InjuryType&#45;&gt;AbsenteeismLevel -->\n",
       "<g id=\"edge14\" class=\"edge\"><title>InjuryType&#45;&gt;AbsenteeismLevel</title>\n",
       "<path fill=\"none\" stroke=\"#ff638d\" d=\"M573.244,-73.4647C560.569,-64.1252 544.214,-52.0742 530.112,-41.6834\"/>\n",
       "<polygon fill=\"#ff638d\" stroke=\"#ff638d\" points=\"531.803,-38.5815 521.676,-35.4672 527.65,-44.2169 531.803,-38.5815\"/>\n",
       "</g>\n",
       "</g>\n",
       "</svg>\n"
      ],
      "text/plain": [
       "<graphviz.dot.Digraph at 0x7fb75429ead0>"
      ]
     },
     "execution_count": 5,
     "metadata": {},
     "output_type": "execute_result"
    }
   ],
   "source": [
    "\n",
    "carModel: BayesianModel = BayesianModel([\n",
    "    (ExertionLevel.var, WorkCapacity.var),\n",
    "    (ExperienceLevel.var, WorkCapacity.var),\n",
    "    (TrainingLevel.var, WorkCapacity.var),\n",
    "    (WorkCapacity.var, AbsenteeismLevel.var),\n",
    "\n",
    "    (Time.var, WorkCapacity.var),\n",
    "    (Time.var, AbsenteeismLevel.var),\n",
    "    (Time.var, ExertionLevel.var),\n",
    "    (Time.var, ExperienceLevel.var),\n",
    "    (Time.var, TrainingLevel.var),\n",
    "\n",
    "    (ProcessType.var, ToolType.var),\n",
    "    (ToolType.var, InjuryType.var),\n",
    "    (ProcessType.var, InjuryType.var),\n",
    "    (ProcessType.var, AbsenteeismLevel.var),\n",
    "    (InjuryType.var, AbsenteeismLevel.var)\n",
    "])\n",
    "\n",
    "\n",
    "pgmpyToGraph(model = carModel)"
   ]
  },
  {
   "cell_type": "markdown",
   "metadata": {
    "lines_to_next_cell": 0,
    "title": "markdown"
   },
   "source": [
    "## Step 3: Estimate CPDs"
   ]
  },
  {
   "cell_type": "code",
   "execution_count": 6,
   "metadata": {
    "lines_to_next_cell": 2,
    "title": "codecell"
   },
   "outputs": [],
   "source": [
    "from pgmpy.estimators import BayesianEstimator\n",
    "\n",
    "#est: BayesianEstimator = BayesianEstimator(model = carModel, data = data)\n",
    "\n",
    "assert carModel.get_cpds() == [], \"Check cpds are empty beforehand\"\n",
    "\n",
    "carModel.fit(data, estimator = BayesianEstimator,\n",
    "             prior_type = \"BDeu\",\n",
    "             equivalent_sample_size = 10)"
   ]
  },
  {
   "cell_type": "code",
   "execution_count": 7,
   "metadata": {
    "lines_to_next_cell": 0,
    "title": "codecell"
   },
   "outputs": [
    {
     "data": {
      "text/html": [
       "<div>\n",
       "<style scoped>\n",
       "    .dataframe tbody tr th:only-of-type {\n",
       "        vertical-align: middle;\n",
       "    }\n",
       "\n",
       "    .dataframe tbody tr th {\n",
       "        vertical-align: top;\n",
       "    }\n",
       "\n",
       "    .dataframe thead th {\n",
       "        text-align: right;\n",
       "    }\n",
       "</style>\n",
       "<table border=\"1\" class=\"dataframe\">\n",
       "  <thead>\n",
       "    <tr style=\"text-align: right;\">\n",
       "      <th></th>\n",
       "      <th></th>\n",
       "    </tr>\n",
       "    <tr>\n",
       "      <th>Time</th>\n",
       "      <th></th>\n",
       "    </tr>\n",
       "  </thead>\n",
       "  <tbody>\n",
       "    <tr>\n",
       "      <th>1</th>\n",
       "      <td>0.033333</td>\n",
       "    </tr>\n",
       "    <tr>\n",
       "      <th>2</th>\n",
       "      <td>0.033333</td>\n",
       "    </tr>\n",
       "    <tr>\n",
       "      <th>3</th>\n",
       "      <td>0.033333</td>\n",
       "    </tr>\n",
       "    <tr>\n",
       "      <th>4</th>\n",
       "      <td>0.033333</td>\n",
       "    </tr>\n",
       "    <tr>\n",
       "      <th>5</th>\n",
       "      <td>0.033333</td>\n",
       "    </tr>\n",
       "    <tr>\n",
       "      <th>6</th>\n",
       "      <td>0.033333</td>\n",
       "    </tr>\n",
       "    <tr>\n",
       "      <th>7</th>\n",
       "      <td>0.033333</td>\n",
       "    </tr>\n",
       "    <tr>\n",
       "      <th>8</th>\n",
       "      <td>0.033333</td>\n",
       "    </tr>\n",
       "    <tr>\n",
       "      <th>9</th>\n",
       "      <td>0.033333</td>\n",
       "    </tr>\n",
       "    <tr>\n",
       "      <th>10</th>\n",
       "      <td>0.033333</td>\n",
       "    </tr>\n",
       "    <tr>\n",
       "      <th>11</th>\n",
       "      <td>0.033333</td>\n",
       "    </tr>\n",
       "    <tr>\n",
       "      <th>12</th>\n",
       "      <td>0.033333</td>\n",
       "    </tr>\n",
       "    <tr>\n",
       "      <th>13</th>\n",
       "      <td>0.033333</td>\n",
       "    </tr>\n",
       "    <tr>\n",
       "      <th>14</th>\n",
       "      <td>0.033333</td>\n",
       "    </tr>\n",
       "    <tr>\n",
       "      <th>15</th>\n",
       "      <td>0.033333</td>\n",
       "    </tr>\n",
       "    <tr>\n",
       "      <th>16</th>\n",
       "      <td>0.033333</td>\n",
       "    </tr>\n",
       "    <tr>\n",
       "      <th>17</th>\n",
       "      <td>0.033333</td>\n",
       "    </tr>\n",
       "    <tr>\n",
       "      <th>18</th>\n",
       "      <td>0.033333</td>\n",
       "    </tr>\n",
       "    <tr>\n",
       "      <th>19</th>\n",
       "      <td>0.033333</td>\n",
       "    </tr>\n",
       "    <tr>\n",
       "      <th>20</th>\n",
       "      <td>0.033333</td>\n",
       "    </tr>\n",
       "    <tr>\n",
       "      <th>21</th>\n",
       "      <td>0.033333</td>\n",
       "    </tr>\n",
       "    <tr>\n",
       "      <th>22</th>\n",
       "      <td>0.033333</td>\n",
       "    </tr>\n",
       "    <tr>\n",
       "      <th>23</th>\n",
       "      <td>0.033333</td>\n",
       "    </tr>\n",
       "    <tr>\n",
       "      <th>24</th>\n",
       "      <td>0.033333</td>\n",
       "    </tr>\n",
       "    <tr>\n",
       "      <th>25</th>\n",
       "      <td>0.033333</td>\n",
       "    </tr>\n",
       "    <tr>\n",
       "      <th>26</th>\n",
       "      <td>0.033333</td>\n",
       "    </tr>\n",
       "    <tr>\n",
       "      <th>27</th>\n",
       "      <td>0.033333</td>\n",
       "    </tr>\n",
       "    <tr>\n",
       "      <th>28</th>\n",
       "      <td>0.033333</td>\n",
       "    </tr>\n",
       "    <tr>\n",
       "      <th>29</th>\n",
       "      <td>0.033333</td>\n",
       "    </tr>\n",
       "    <tr>\n",
       "      <th>30</th>\n",
       "      <td>0.033333</td>\n",
       "    </tr>\n",
       "  </tbody>\n",
       "</table>\n",
       "</div>"
      ],
      "text/plain": [
       "              \n",
       "Time          \n",
       "1     0.033333\n",
       "2     0.033333\n",
       "3     0.033333\n",
       "4     0.033333\n",
       "5     0.033333\n",
       "6     0.033333\n",
       "7     0.033333\n",
       "8     0.033333\n",
       "9     0.033333\n",
       "10    0.033333\n",
       "11    0.033333\n",
       "12    0.033333\n",
       "13    0.033333\n",
       "14    0.033333\n",
       "15    0.033333\n",
       "16    0.033333\n",
       "17    0.033333\n",
       "18    0.033333\n",
       "19    0.033333\n",
       "20    0.033333\n",
       "21    0.033333\n",
       "22    0.033333\n",
       "23    0.033333\n",
       "24    0.033333\n",
       "25    0.033333\n",
       "26    0.033333\n",
       "27    0.033333\n",
       "28    0.033333\n",
       "29    0.033333\n",
       "30    0.033333"
      ]
     },
     "execution_count": 7,
     "metadata": {},
     "output_type": "execute_result"
    }
   ],
   "source": [
    "pgmpyTabularToDataFrame(carModel, queryVar = Time.var)"
   ]
  },
  {
   "cell_type": "code",
   "execution_count": 8,
   "metadata": {
    "lines_to_next_cell": 0,
    "title": "codecell"
   },
   "outputs": [
    {
     "data": {
      "text/html": [
       "<div>\n",
       "<style scoped>\n",
       "    .dataframe tbody tr th:only-of-type {\n",
       "        vertical-align: middle;\n",
       "    }\n",
       "\n",
       "    .dataframe tbody tr th {\n",
       "        vertical-align: top;\n",
       "    }\n",
       "\n",
       "    .dataframe thead th {\n",
       "        text-align: right;\n",
       "    }\n",
       "</style>\n",
       "<table border=\"1\" class=\"dataframe\">\n",
       "  <thead>\n",
       "    <tr style=\"text-align: right;\">\n",
       "      <th></th>\n",
       "      <th></th>\n",
       "    </tr>\n",
       "    <tr>\n",
       "      <th>ProcessType</th>\n",
       "      <th></th>\n",
       "    </tr>\n",
       "  </thead>\n",
       "  <tbody>\n",
       "    <tr>\n",
       "      <th>Engine-Mount</th>\n",
       "      <td>0.333333</td>\n",
       "    </tr>\n",
       "    <tr>\n",
       "      <th>Engine-Wiring</th>\n",
       "      <td>0.432234</td>\n",
       "    </tr>\n",
       "    <tr>\n",
       "      <th>Oil-Fill</th>\n",
       "      <td>0.234432</td>\n",
       "    </tr>\n",
       "  </tbody>\n",
       "</table>\n",
       "</div>"
      ],
      "text/plain": [
       "                       \n",
       "ProcessType            \n",
       "Engine-Mount   0.333333\n",
       "Engine-Wiring  0.432234\n",
       "Oil-Fill       0.234432"
      ]
     },
     "execution_count": 8,
     "metadata": {},
     "output_type": "execute_result"
    }
   ],
   "source": [
    "pgmpyTabularToDataFrame(carModel, queryVar = ProcessType.var)"
   ]
  },
  {
   "cell_type": "code",
   "execution_count": 9,
   "metadata": {
    "lines_to_next_cell": 0,
    "title": "codecell"
   },
   "outputs": [
    {
     "data": {
      "text/html": [
       "<div>\n",
       "<style scoped>\n",
       "    .dataframe tbody tr th:only-of-type {\n",
       "        vertical-align: middle;\n",
       "    }\n",
       "\n",
       "    .dataframe tbody tr th {\n",
       "        vertical-align: top;\n",
       "    }\n",
       "\n",
       "    .dataframe thead tr th {\n",
       "        text-align: left;\n",
       "    }\n",
       "\n",
       "    .dataframe thead tr:last-of-type th {\n",
       "        text-align: right;\n",
       "    }\n",
       "</style>\n",
       "<table border=\"1\" class=\"dataframe\">\n",
       "  <thead>\n",
       "    <tr>\n",
       "      <th>ProcessType</th>\n",
       "      <th>Engine-Mount</th>\n",
       "      <th>Engine-Wiring</th>\n",
       "      <th>Oil-Fill</th>\n",
       "    </tr>\n",
       "    <tr>\n",
       "      <th>ToolType</th>\n",
       "      <th></th>\n",
       "      <th></th>\n",
       "      <th></th>\n",
       "    </tr>\n",
       "  </thead>\n",
       "  <tbody>\n",
       "    <tr>\n",
       "      <th>Forklift</th>\n",
       "      <td>0.991758</td>\n",
       "      <td>0.002119</td>\n",
       "      <td>0.003906</td>\n",
       "    </tr>\n",
       "    <tr>\n",
       "      <th>Front-Right-Door</th>\n",
       "      <td>0.002747</td>\n",
       "      <td>0.002119</td>\n",
       "      <td>0.425781</td>\n",
       "    </tr>\n",
       "    <tr>\n",
       "      <th>Oil</th>\n",
       "      <td>0.002747</td>\n",
       "      <td>0.002119</td>\n",
       "      <td>0.566406</td>\n",
       "    </tr>\n",
       "    <tr>\n",
       "      <th>Power-Gun</th>\n",
       "      <td>0.002747</td>\n",
       "      <td>0.993644</td>\n",
       "      <td>0.003906</td>\n",
       "    </tr>\n",
       "  </tbody>\n",
       "</table>\n",
       "</div>"
      ],
      "text/plain": [
       "ProcessType      Engine-Mount Engine-Wiring  Oil-Fill\n",
       "ToolType                                             \n",
       "Forklift             0.991758      0.002119  0.003906\n",
       "Front-Right-Door     0.002747      0.002119  0.425781\n",
       "Oil                  0.002747      0.002119  0.566406\n",
       "Power-Gun            0.002747      0.993644  0.003906"
      ]
     },
     "execution_count": 9,
     "metadata": {},
     "output_type": "execute_result"
    }
   ],
   "source": [
    "pgmpyTabularToDataFrame(carModel, queryVar = ToolType.var)"
   ]
  },
  {
   "cell_type": "code",
   "execution_count": 10,
   "metadata": {
    "lines_to_next_cell": 0,
    "title": "codecell"
   },
   "outputs": [
    {
     "data": {
      "text/html": [
       "<div>\n",
       "<style scoped>\n",
       "    .dataframe tbody tr th:only-of-type {\n",
       "        vertical-align: middle;\n",
       "    }\n",
       "\n",
       "    .dataframe tbody tr th {\n",
       "        vertical-align: top;\n",
       "    }\n",
       "\n",
       "    .dataframe thead tr th {\n",
       "        text-align: left;\n",
       "    }\n",
       "\n",
       "    .dataframe thead tr:last-of-type th {\n",
       "        text-align: right;\n",
       "    }\n",
       "</style>\n",
       "<table border=\"1\" class=\"dataframe\">\n",
       "  <thead>\n",
       "    <tr>\n",
       "      <th>Time</th>\n",
       "      <th>1</th>\n",
       "      <th>2</th>\n",
       "      <th>3</th>\n",
       "      <th>4</th>\n",
       "      <th>5</th>\n",
       "      <th>6</th>\n",
       "      <th>7</th>\n",
       "      <th>8</th>\n",
       "      <th>9</th>\n",
       "      <th>10</th>\n",
       "      <th>...</th>\n",
       "      <th>21</th>\n",
       "      <th>22</th>\n",
       "      <th>23</th>\n",
       "      <th>24</th>\n",
       "      <th>25</th>\n",
       "      <th>26</th>\n",
       "      <th>27</th>\n",
       "      <th>28</th>\n",
       "      <th>29</th>\n",
       "      <th>30</th>\n",
       "    </tr>\n",
       "    <tr>\n",
       "      <th>ExperienceLevel</th>\n",
       "      <th></th>\n",
       "      <th></th>\n",
       "      <th></th>\n",
       "      <th></th>\n",
       "      <th></th>\n",
       "      <th></th>\n",
       "      <th></th>\n",
       "      <th></th>\n",
       "      <th></th>\n",
       "      <th></th>\n",
       "      <th></th>\n",
       "      <th></th>\n",
       "      <th></th>\n",
       "      <th></th>\n",
       "      <th></th>\n",
       "      <th></th>\n",
       "      <th></th>\n",
       "      <th></th>\n",
       "      <th></th>\n",
       "      <th></th>\n",
       "      <th></th>\n",
       "    </tr>\n",
       "  </thead>\n",
       "  <tbody>\n",
       "    <tr>\n",
       "      <th>High</th>\n",
       "      <td>0.003663</td>\n",
       "      <td>0.003663</td>\n",
       "      <td>0.003663</td>\n",
       "      <td>0.003663</td>\n",
       "      <td>0.003663</td>\n",
       "      <td>0.003663</td>\n",
       "      <td>0.003663</td>\n",
       "      <td>0.003663</td>\n",
       "      <td>0.003663</td>\n",
       "      <td>0.003663</td>\n",
       "      <td>...</td>\n",
       "      <td>0.003663</td>\n",
       "      <td>0.992674</td>\n",
       "      <td>0.992674</td>\n",
       "      <td>0.992674</td>\n",
       "      <td>0.992674</td>\n",
       "      <td>0.003663</td>\n",
       "      <td>0.992674</td>\n",
       "      <td>0.992674</td>\n",
       "      <td>0.992674</td>\n",
       "      <td>0.992674</td>\n",
       "    </tr>\n",
       "    <tr>\n",
       "      <th>Low</th>\n",
       "      <td>0.992674</td>\n",
       "      <td>0.992674</td>\n",
       "      <td>0.992674</td>\n",
       "      <td>0.003663</td>\n",
       "      <td>0.003663</td>\n",
       "      <td>0.992674</td>\n",
       "      <td>0.992674</td>\n",
       "      <td>0.992674</td>\n",
       "      <td>0.992674</td>\n",
       "      <td>0.992674</td>\n",
       "      <td>...</td>\n",
       "      <td>0.003663</td>\n",
       "      <td>0.003663</td>\n",
       "      <td>0.003663</td>\n",
       "      <td>0.003663</td>\n",
       "      <td>0.003663</td>\n",
       "      <td>0.003663</td>\n",
       "      <td>0.003663</td>\n",
       "      <td>0.003663</td>\n",
       "      <td>0.003663</td>\n",
       "      <td>0.003663</td>\n",
       "    </tr>\n",
       "    <tr>\n",
       "      <th>Medium</th>\n",
       "      <td>0.003663</td>\n",
       "      <td>0.003663</td>\n",
       "      <td>0.003663</td>\n",
       "      <td>0.992674</td>\n",
       "      <td>0.992674</td>\n",
       "      <td>0.003663</td>\n",
       "      <td>0.003663</td>\n",
       "      <td>0.003663</td>\n",
       "      <td>0.003663</td>\n",
       "      <td>0.003663</td>\n",
       "      <td>...</td>\n",
       "      <td>0.992674</td>\n",
       "      <td>0.003663</td>\n",
       "      <td>0.003663</td>\n",
       "      <td>0.003663</td>\n",
       "      <td>0.003663</td>\n",
       "      <td>0.992674</td>\n",
       "      <td>0.003663</td>\n",
       "      <td>0.003663</td>\n",
       "      <td>0.003663</td>\n",
       "      <td>0.003663</td>\n",
       "    </tr>\n",
       "  </tbody>\n",
       "</table>\n",
       "<p>3 rows × 30 columns</p>\n",
       "</div>"
      ],
      "text/plain": [
       "Time                   1         2         3         4         5         6   \\\n",
       "ExperienceLevel                                                               \n",
       "High             0.003663  0.003663  0.003663  0.003663  0.003663  0.003663   \n",
       "Low              0.992674  0.992674  0.992674  0.003663  0.003663  0.992674   \n",
       "Medium           0.003663  0.003663  0.003663  0.992674  0.992674  0.003663   \n",
       "\n",
       "Time                   7         8         9         10  ...        21  \\\n",
       "ExperienceLevel                                          ...             \n",
       "High             0.003663  0.003663  0.003663  0.003663  ...  0.003663   \n",
       "Low              0.992674  0.992674  0.992674  0.992674  ...  0.003663   \n",
       "Medium           0.003663  0.003663  0.003663  0.003663  ...  0.992674   \n",
       "\n",
       "Time                   22        23        24        25        26        27  \\\n",
       "ExperienceLevel                                                               \n",
       "High             0.992674  0.992674  0.992674  0.992674  0.003663  0.992674   \n",
       "Low              0.003663  0.003663  0.003663  0.003663  0.003663  0.003663   \n",
       "Medium           0.003663  0.003663  0.003663  0.003663  0.992674  0.003663   \n",
       "\n",
       "Time                   28        29        30  \n",
       "ExperienceLevel                                \n",
       "High             0.992674  0.992674  0.992674  \n",
       "Low              0.003663  0.003663  0.003663  \n",
       "Medium           0.003663  0.003663  0.003663  \n",
       "\n",
       "[3 rows x 30 columns]"
      ]
     },
     "execution_count": 10,
     "metadata": {},
     "output_type": "execute_result"
    }
   ],
   "source": [
    "pgmpyTabularToDataFrame(carModel, queryVar = ExperienceLevel.var)"
   ]
  },
  {
   "cell_type": "code",
   "execution_count": 11,
   "metadata": {
    "lines_to_next_cell": 0,
    "title": "codecell"
   },
   "outputs": [
    {
     "data": {
      "text/html": [
       "<div>\n",
       "<style scoped>\n",
       "    .dataframe tbody tr th:only-of-type {\n",
       "        vertical-align: middle;\n",
       "    }\n",
       "\n",
       "    .dataframe tbody tr th {\n",
       "        vertical-align: top;\n",
       "    }\n",
       "\n",
       "    .dataframe thead tr th {\n",
       "        text-align: left;\n",
       "    }\n",
       "\n",
       "    .dataframe thead tr:last-of-type th {\n",
       "        text-align: right;\n",
       "    }\n",
       "</style>\n",
       "<table border=\"1\" class=\"dataframe\">\n",
       "  <thead>\n",
       "    <tr>\n",
       "      <th>ExertionLevel</th>\n",
       "      <th colspan=\"10\" halign=\"left\">High</th>\n",
       "      <th>...</th>\n",
       "      <th colspan=\"10\" halign=\"left\">Medium</th>\n",
       "    </tr>\n",
       "    <tr>\n",
       "      <th>ExperienceLevel</th>\n",
       "      <th colspan=\"10\" halign=\"left\">High</th>\n",
       "      <th>...</th>\n",
       "      <th colspan=\"10\" halign=\"left\">Medium</th>\n",
       "    </tr>\n",
       "    <tr>\n",
       "      <th>Time</th>\n",
       "      <th colspan=\"3\" halign=\"left\">1</th>\n",
       "      <th colspan=\"3\" halign=\"left\">2</th>\n",
       "      <th colspan=\"3\" halign=\"left\">3</th>\n",
       "      <th>4</th>\n",
       "      <th>...</th>\n",
       "      <th>27</th>\n",
       "      <th colspan=\"3\" halign=\"left\">28</th>\n",
       "      <th colspan=\"3\" halign=\"left\">29</th>\n",
       "      <th colspan=\"3\" halign=\"left\">30</th>\n",
       "    </tr>\n",
       "    <tr>\n",
       "      <th>TrainingLevel</th>\n",
       "      <th>High</th>\n",
       "      <th>Low</th>\n",
       "      <th>Medium</th>\n",
       "      <th>High</th>\n",
       "      <th>Low</th>\n",
       "      <th>Medium</th>\n",
       "      <th>High</th>\n",
       "      <th>Low</th>\n",
       "      <th>Medium</th>\n",
       "      <th>High</th>\n",
       "      <th>...</th>\n",
       "      <th>Medium</th>\n",
       "      <th>High</th>\n",
       "      <th>Low</th>\n",
       "      <th>Medium</th>\n",
       "      <th>High</th>\n",
       "      <th>Low</th>\n",
       "      <th>Medium</th>\n",
       "      <th>High</th>\n",
       "      <th>Low</th>\n",
       "      <th>Medium</th>\n",
       "    </tr>\n",
       "    <tr>\n",
       "      <th>WorkCapacity</th>\n",
       "      <th></th>\n",
       "      <th></th>\n",
       "      <th></th>\n",
       "      <th></th>\n",
       "      <th></th>\n",
       "      <th></th>\n",
       "      <th></th>\n",
       "      <th></th>\n",
       "      <th></th>\n",
       "      <th></th>\n",
       "      <th></th>\n",
       "      <th></th>\n",
       "      <th></th>\n",
       "      <th></th>\n",
       "      <th></th>\n",
       "      <th></th>\n",
       "      <th></th>\n",
       "      <th></th>\n",
       "      <th></th>\n",
       "      <th></th>\n",
       "      <th></th>\n",
       "    </tr>\n",
       "  </thead>\n",
       "  <tbody>\n",
       "    <tr>\n",
       "      <th>High</th>\n",
       "      <td>0.333333</td>\n",
       "      <td>0.333333</td>\n",
       "      <td>0.333333</td>\n",
       "      <td>0.333333</td>\n",
       "      <td>0.333333</td>\n",
       "      <td>0.333333</td>\n",
       "      <td>0.333333</td>\n",
       "      <td>0.333333</td>\n",
       "      <td>0.333333</td>\n",
       "      <td>0.333333</td>\n",
       "      <td>...</td>\n",
       "      <td>0.333333</td>\n",
       "      <td>0.333333</td>\n",
       "      <td>0.333333</td>\n",
       "      <td>0.333333</td>\n",
       "      <td>0.333333</td>\n",
       "      <td>0.333333</td>\n",
       "      <td>0.333333</td>\n",
       "      <td>0.333333</td>\n",
       "      <td>0.333333</td>\n",
       "      <td>0.333333</td>\n",
       "    </tr>\n",
       "    <tr>\n",
       "      <th>Low</th>\n",
       "      <td>0.333333</td>\n",
       "      <td>0.333333</td>\n",
       "      <td>0.333333</td>\n",
       "      <td>0.333333</td>\n",
       "      <td>0.333333</td>\n",
       "      <td>0.333333</td>\n",
       "      <td>0.333333</td>\n",
       "      <td>0.333333</td>\n",
       "      <td>0.333333</td>\n",
       "      <td>0.333333</td>\n",
       "      <td>...</td>\n",
       "      <td>0.333333</td>\n",
       "      <td>0.333333</td>\n",
       "      <td>0.333333</td>\n",
       "      <td>0.333333</td>\n",
       "      <td>0.333333</td>\n",
       "      <td>0.333333</td>\n",
       "      <td>0.333333</td>\n",
       "      <td>0.333333</td>\n",
       "      <td>0.333333</td>\n",
       "      <td>0.333333</td>\n",
       "    </tr>\n",
       "    <tr>\n",
       "      <th>Medium</th>\n",
       "      <td>0.333333</td>\n",
       "      <td>0.333333</td>\n",
       "      <td>0.333333</td>\n",
       "      <td>0.333333</td>\n",
       "      <td>0.333333</td>\n",
       "      <td>0.333333</td>\n",
       "      <td>0.333333</td>\n",
       "      <td>0.333333</td>\n",
       "      <td>0.333333</td>\n",
       "      <td>0.333333</td>\n",
       "      <td>...</td>\n",
       "      <td>0.333333</td>\n",
       "      <td>0.333333</td>\n",
       "      <td>0.333333</td>\n",
       "      <td>0.333333</td>\n",
       "      <td>0.333333</td>\n",
       "      <td>0.333333</td>\n",
       "      <td>0.333333</td>\n",
       "      <td>0.333333</td>\n",
       "      <td>0.333333</td>\n",
       "      <td>0.333333</td>\n",
       "    </tr>\n",
       "  </tbody>\n",
       "</table>\n",
       "<p>3 rows × 810 columns</p>\n",
       "</div>"
      ],
      "text/plain": [
       "ExertionLevel        High                                                    \\\n",
       "ExperienceLevel      High                                                     \n",
       "Time                   1                             2                        \n",
       "TrainingLevel        High       Low    Medium      High       Low    Medium   \n",
       "WorkCapacity                                                                  \n",
       "High             0.333333  0.333333  0.333333  0.333333  0.333333  0.333333   \n",
       "Low              0.333333  0.333333  0.333333  0.333333  0.333333  0.333333   \n",
       "Medium           0.333333  0.333333  0.333333  0.333333  0.333333  0.333333   \n",
       "\n",
       "ExertionLevel                                            ...    Medium  \\\n",
       "ExperienceLevel                                          ...    Medium   \n",
       "Time                   3                             4   ...        27   \n",
       "TrainingLevel        High       Low    Medium      High  ...    Medium   \n",
       "WorkCapacity                                             ...             \n",
       "High             0.333333  0.333333  0.333333  0.333333  ...  0.333333   \n",
       "Low              0.333333  0.333333  0.333333  0.333333  ...  0.333333   \n",
       "Medium           0.333333  0.333333  0.333333  0.333333  ...  0.333333   \n",
       "\n",
       "ExertionLevel                                                                \\\n",
       "ExperienceLevel                                                               \n",
       "Time                   28                            29                       \n",
       "TrainingLevel        High       Low    Medium      High       Low    Medium   \n",
       "WorkCapacity                                                                  \n",
       "High             0.333333  0.333333  0.333333  0.333333  0.333333  0.333333   \n",
       "Low              0.333333  0.333333  0.333333  0.333333  0.333333  0.333333   \n",
       "Medium           0.333333  0.333333  0.333333  0.333333  0.333333  0.333333   \n",
       "\n",
       "ExertionLevel                                  \n",
       "ExperienceLevel                                \n",
       "Time                   30                      \n",
       "TrainingLevel        High       Low    Medium  \n",
       "WorkCapacity                                   \n",
       "High             0.333333  0.333333  0.333333  \n",
       "Low              0.333333  0.333333  0.333333  \n",
       "Medium           0.333333  0.333333  0.333333  \n",
       "\n",
       "[3 rows x 810 columns]"
      ]
     },
     "execution_count": 11,
     "metadata": {},
     "output_type": "execute_result"
    }
   ],
   "source": [
    "pgmpyTabularToDataFrame(carModel, queryVar = WorkCapacity.var)"
   ]
  },
  {
   "cell_type": "code",
   "execution_count": 12,
   "metadata": {
    "title": "codecell"
   },
   "outputs": [
    {
     "data": {
      "text/html": [
       "<div>\n",
       "<style scoped>\n",
       "    .dataframe tbody tr th:only-of-type {\n",
       "        vertical-align: middle;\n",
       "    }\n",
       "\n",
       "    .dataframe tbody tr th {\n",
       "        vertical-align: top;\n",
       "    }\n",
       "\n",
       "    .dataframe thead tr th {\n",
       "        text-align: left;\n",
       "    }\n",
       "\n",
       "    .dataframe thead tr:last-of-type th {\n",
       "        text-align: right;\n",
       "    }\n",
       "</style>\n",
       "<table border=\"1\" class=\"dataframe\">\n",
       "  <thead>\n",
       "    <tr>\n",
       "      <th>ProcessType</th>\n",
       "      <th colspan=\"4\" halign=\"left\">Engine-Mount</th>\n",
       "      <th colspan=\"4\" halign=\"left\">Engine-Wiring</th>\n",
       "      <th colspan=\"4\" halign=\"left\">Oil-Fill</th>\n",
       "    </tr>\n",
       "    <tr>\n",
       "      <th>ToolType</th>\n",
       "      <th>Forklift</th>\n",
       "      <th>Front-Right-Door</th>\n",
       "      <th>Oil</th>\n",
       "      <th>Power-Gun</th>\n",
       "      <th>Forklift</th>\n",
       "      <th>Front-Right-Door</th>\n",
       "      <th>Oil</th>\n",
       "      <th>Power-Gun</th>\n",
       "      <th>Forklift</th>\n",
       "      <th>Front-Right-Door</th>\n",
       "      <th>Oil</th>\n",
       "      <th>Power-Gun</th>\n",
       "    </tr>\n",
       "    <tr>\n",
       "      <th>InjuryType</th>\n",
       "      <th></th>\n",
       "      <th></th>\n",
       "      <th></th>\n",
       "      <th></th>\n",
       "      <th></th>\n",
       "      <th></th>\n",
       "      <th></th>\n",
       "      <th></th>\n",
       "      <th></th>\n",
       "      <th></th>\n",
       "      <th></th>\n",
       "      <th></th>\n",
       "    </tr>\n",
       "  </thead>\n",
       "  <tbody>\n",
       "    <tr>\n",
       "      <th>Chemical-Burn</th>\n",
       "      <td>0.499307</td>\n",
       "      <td>0.25</td>\n",
       "      <td>0.25</td>\n",
       "      <td>0.25</td>\n",
       "      <td>0.25</td>\n",
       "      <td>0.25</td>\n",
       "      <td>0.25</td>\n",
       "      <td>0.000533</td>\n",
       "      <td>0.25</td>\n",
       "      <td>0.993119</td>\n",
       "      <td>0.994828</td>\n",
       "      <td>0.25</td>\n",
       "    </tr>\n",
       "    <tr>\n",
       "      <th>Contact-Contusion</th>\n",
       "      <td>0.299861</td>\n",
       "      <td>0.25</td>\n",
       "      <td>0.25</td>\n",
       "      <td>0.25</td>\n",
       "      <td>0.25</td>\n",
       "      <td>0.25</td>\n",
       "      <td>0.25</td>\n",
       "      <td>0.000533</td>\n",
       "      <td>0.25</td>\n",
       "      <td>0.002294</td>\n",
       "      <td>0.001724</td>\n",
       "      <td>0.25</td>\n",
       "    </tr>\n",
       "    <tr>\n",
       "      <th>Electrical-Shock</th>\n",
       "      <td>0.000693</td>\n",
       "      <td>0.25</td>\n",
       "      <td>0.25</td>\n",
       "      <td>0.25</td>\n",
       "      <td>0.25</td>\n",
       "      <td>0.25</td>\n",
       "      <td>0.25</td>\n",
       "      <td>0.537846</td>\n",
       "      <td>0.25</td>\n",
       "      <td>0.002294</td>\n",
       "      <td>0.001724</td>\n",
       "      <td>0.25</td>\n",
       "    </tr>\n",
       "    <tr>\n",
       "      <th>Fall-Gtm</th>\n",
       "      <td>0.200139</td>\n",
       "      <td>0.25</td>\n",
       "      <td>0.25</td>\n",
       "      <td>0.25</td>\n",
       "      <td>0.25</td>\n",
       "      <td>0.25</td>\n",
       "      <td>0.25</td>\n",
       "      <td>0.461087</td>\n",
       "      <td>0.25</td>\n",
       "      <td>0.002294</td>\n",
       "      <td>0.001724</td>\n",
       "      <td>0.25</td>\n",
       "    </tr>\n",
       "  </tbody>\n",
       "</table>\n",
       "</div>"
      ],
      "text/plain": [
       "ProcessType       Engine-Mount                                  Engine-Wiring  \\\n",
       "ToolType              Forklift Front-Right-Door   Oil Power-Gun      Forklift   \n",
       "InjuryType                                                                      \n",
       "Chemical-Burn         0.499307             0.25  0.25      0.25          0.25   \n",
       "Contact-Contusion     0.299861             0.25  0.25      0.25          0.25   \n",
       "Electrical-Shock      0.000693             0.25  0.25      0.25          0.25   \n",
       "Fall-Gtm              0.200139             0.25  0.25      0.25          0.25   \n",
       "\n",
       "ProcessType                                        Oil-Fill                   \\\n",
       "ToolType          Front-Right-Door   Oil Power-Gun Forklift Front-Right-Door   \n",
       "InjuryType                                                                     \n",
       "Chemical-Burn                 0.25  0.25  0.000533     0.25         0.993119   \n",
       "Contact-Contusion             0.25  0.25  0.000533     0.25         0.002294   \n",
       "Electrical-Shock              0.25  0.25  0.537846     0.25         0.002294   \n",
       "Fall-Gtm                      0.25  0.25  0.461087     0.25         0.002294   \n",
       "\n",
       "ProcessType                            \n",
       "ToolType                Oil Power-Gun  \n",
       "InjuryType                             \n",
       "Chemical-Burn      0.994828      0.25  \n",
       "Contact-Contusion  0.001724      0.25  \n",
       "Electrical-Shock   0.001724      0.25  \n",
       "Fall-Gtm           0.001724      0.25  "
      ]
     },
     "execution_count": 12,
     "metadata": {},
     "output_type": "execute_result"
    }
   ],
   "source": [
    "pgmpyTabularToDataFrame(carModel, queryVar = InjuryType.var)"
   ]
  },
  {
   "cell_type": "code",
   "execution_count": 13,
   "metadata": {
    "title": "codecell"
   },
   "outputs": [
    {
     "data": {
      "text/html": [
       "<div>\n",
       "<style scoped>\n",
       "    .dataframe tbody tr th:only-of-type {\n",
       "        vertical-align: middle;\n",
       "    }\n",
       "\n",
       "    .dataframe tbody tr th {\n",
       "        vertical-align: top;\n",
       "    }\n",
       "\n",
       "    .dataframe thead tr th {\n",
       "        text-align: left;\n",
       "    }\n",
       "\n",
       "    .dataframe thead tr:last-of-type th {\n",
       "        text-align: right;\n",
       "    }\n",
       "</style>\n",
       "<table border=\"1\" class=\"dataframe\">\n",
       "  <thead>\n",
       "    <tr>\n",
       "      <th>InjuryType</th>\n",
       "      <th colspan=\"10\" halign=\"left\">Chemical-Burn</th>\n",
       "      <th>...</th>\n",
       "      <th colspan=\"10\" halign=\"left\">Fall-Gtm</th>\n",
       "    </tr>\n",
       "    <tr>\n",
       "      <th>ProcessType</th>\n",
       "      <th colspan=\"10\" halign=\"left\">Engine-Mount</th>\n",
       "      <th>...</th>\n",
       "      <th colspan=\"10\" halign=\"left\">Oil-Fill</th>\n",
       "    </tr>\n",
       "    <tr>\n",
       "      <th>Time</th>\n",
       "      <th colspan=\"3\" halign=\"left\">1</th>\n",
       "      <th colspan=\"3\" halign=\"left\">2</th>\n",
       "      <th colspan=\"3\" halign=\"left\">3</th>\n",
       "      <th>4</th>\n",
       "      <th>...</th>\n",
       "      <th>27</th>\n",
       "      <th colspan=\"3\" halign=\"left\">28</th>\n",
       "      <th colspan=\"3\" halign=\"left\">29</th>\n",
       "      <th colspan=\"3\" halign=\"left\">30</th>\n",
       "    </tr>\n",
       "    <tr>\n",
       "      <th>WorkCapacity</th>\n",
       "      <th>High</th>\n",
       "      <th>Low</th>\n",
       "      <th>Medium</th>\n",
       "      <th>High</th>\n",
       "      <th>Low</th>\n",
       "      <th>Medium</th>\n",
       "      <th>High</th>\n",
       "      <th>Low</th>\n",
       "      <th>Medium</th>\n",
       "      <th>High</th>\n",
       "      <th>...</th>\n",
       "      <th>Medium</th>\n",
       "      <th>High</th>\n",
       "      <th>Low</th>\n",
       "      <th>Medium</th>\n",
       "      <th>High</th>\n",
       "      <th>Low</th>\n",
       "      <th>Medium</th>\n",
       "      <th>High</th>\n",
       "      <th>Low</th>\n",
       "      <th>Medium</th>\n",
       "    </tr>\n",
       "    <tr>\n",
       "      <th>AbsenteeismLevel</th>\n",
       "      <th></th>\n",
       "      <th></th>\n",
       "      <th></th>\n",
       "      <th></th>\n",
       "      <th></th>\n",
       "      <th></th>\n",
       "      <th></th>\n",
       "      <th></th>\n",
       "      <th></th>\n",
       "      <th></th>\n",
       "      <th></th>\n",
       "      <th></th>\n",
       "      <th></th>\n",
       "      <th></th>\n",
       "      <th></th>\n",
       "      <th></th>\n",
       "      <th></th>\n",
       "      <th></th>\n",
       "      <th></th>\n",
       "      <th></th>\n",
       "      <th></th>\n",
       "    </tr>\n",
       "  </thead>\n",
       "  <tbody>\n",
       "    <tr>\n",
       "      <th>High</th>\n",
       "      <td>0.000616</td>\n",
       "      <td>0.333333</td>\n",
       "      <td>0.333333</td>\n",
       "      <td>0.333333</td>\n",
       "      <td>0.333333</td>\n",
       "      <td>0.000616</td>\n",
       "      <td>0.000616</td>\n",
       "      <td>0.333333</td>\n",
       "      <td>0.333333</td>\n",
       "      <td>0.000616</td>\n",
       "      <td>...</td>\n",
       "      <td>0.333333</td>\n",
       "      <td>0.333333</td>\n",
       "      <td>0.333333</td>\n",
       "      <td>0.333333</td>\n",
       "      <td>0.333333</td>\n",
       "      <td>0.333333</td>\n",
       "      <td>0.333333</td>\n",
       "      <td>0.333333</td>\n",
       "      <td>0.333333</td>\n",
       "      <td>0.333333</td>\n",
       "    </tr>\n",
       "    <tr>\n",
       "      <th>Low</th>\n",
       "      <td>0.998768</td>\n",
       "      <td>0.333333</td>\n",
       "      <td>0.333333</td>\n",
       "      <td>0.333333</td>\n",
       "      <td>0.333333</td>\n",
       "      <td>0.998768</td>\n",
       "      <td>0.998768</td>\n",
       "      <td>0.333333</td>\n",
       "      <td>0.333333</td>\n",
       "      <td>0.998768</td>\n",
       "      <td>...</td>\n",
       "      <td>0.333333</td>\n",
       "      <td>0.333333</td>\n",
       "      <td>0.333333</td>\n",
       "      <td>0.333333</td>\n",
       "      <td>0.333333</td>\n",
       "      <td>0.333333</td>\n",
       "      <td>0.333333</td>\n",
       "      <td>0.333333</td>\n",
       "      <td>0.333333</td>\n",
       "      <td>0.333333</td>\n",
       "    </tr>\n",
       "    <tr>\n",
       "      <th>Medium</th>\n",
       "      <td>0.000616</td>\n",
       "      <td>0.333333</td>\n",
       "      <td>0.333333</td>\n",
       "      <td>0.333333</td>\n",
       "      <td>0.333333</td>\n",
       "      <td>0.000616</td>\n",
       "      <td>0.000616</td>\n",
       "      <td>0.333333</td>\n",
       "      <td>0.333333</td>\n",
       "      <td>0.000616</td>\n",
       "      <td>...</td>\n",
       "      <td>0.333333</td>\n",
       "      <td>0.333333</td>\n",
       "      <td>0.333333</td>\n",
       "      <td>0.333333</td>\n",
       "      <td>0.333333</td>\n",
       "      <td>0.333333</td>\n",
       "      <td>0.333333</td>\n",
       "      <td>0.333333</td>\n",
       "      <td>0.333333</td>\n",
       "      <td>0.333333</td>\n",
       "    </tr>\n",
       "  </tbody>\n",
       "</table>\n",
       "<p>3 rows × 1080 columns</p>\n",
       "</div>"
      ],
      "text/plain": [
       "InjuryType       Chemical-Burn                                          \\\n",
       "ProcessType       Engine-Mount                                           \n",
       "Time                        1                             2              \n",
       "WorkCapacity              High       Low    Medium      High       Low   \n",
       "AbsenteeismLevel                                                         \n",
       "High                  0.000616  0.333333  0.333333  0.333333  0.333333   \n",
       "Low                   0.998768  0.333333  0.333333  0.333333  0.333333   \n",
       "Medium                0.000616  0.333333  0.333333  0.333333  0.333333   \n",
       "\n",
       "InjuryType                                                          ...  \\\n",
       "ProcessType                                                         ...   \n",
       "Time                              3                             4   ...   \n",
       "WorkCapacity        Medium      High       Low    Medium      High  ...   \n",
       "AbsenteeismLevel                                                    ...   \n",
       "High              0.000616  0.000616  0.333333  0.333333  0.000616  ...   \n",
       "Low               0.998768  0.998768  0.333333  0.333333  0.998768  ...   \n",
       "Medium            0.000616  0.000616  0.333333  0.333333  0.000616  ...   \n",
       "\n",
       "InjuryType        Fall-Gtm                                                    \\\n",
       "ProcessType       Oil-Fill                                                     \n",
       "Time                    27        28                            29             \n",
       "WorkCapacity        Medium      High       Low    Medium      High       Low   \n",
       "AbsenteeismLevel                                                               \n",
       "High              0.333333  0.333333  0.333333  0.333333  0.333333  0.333333   \n",
       "Low               0.333333  0.333333  0.333333  0.333333  0.333333  0.333333   \n",
       "Medium            0.333333  0.333333  0.333333  0.333333  0.333333  0.333333   \n",
       "\n",
       "InjuryType                                                \n",
       "ProcessType                                               \n",
       "Time                              30                      \n",
       "WorkCapacity        Medium      High       Low    Medium  \n",
       "AbsenteeismLevel                                          \n",
       "High              0.333333  0.333333  0.333333  0.333333  \n",
       "Low               0.333333  0.333333  0.333333  0.333333  \n",
       "Medium            0.333333  0.333333  0.333333  0.333333  \n",
       "\n",
       "[3 rows x 1080 columns]"
      ]
     },
     "execution_count": 13,
     "metadata": {},
     "output_type": "execute_result"
    }
   ],
   "source": [
    "pgmpyTabularToDataFrame(carModel, queryVar = AbsenteeismLevel.var)\n",
    "\n",
    "\n",
    "\n"
   ]
  },
  {
   "cell_type": "markdown",
   "metadata": {
    "lines_to_next_cell": 2,
    "title": "markdown"
   },
   "source": [
    "## Step 4: Inference in Bayesian Car Model\n",
    "\n",
    "Now let us verify active trails or independencies, for each kind of chain (causal, evidential, common cause, and common evidence) that can be found along the paths of the car model graph\n",
    "\n",
    "### 1/ Causal Reasoning in the Car Model\n",
    "For a causal model $A \\rightarrow B \\rightarrow C$, there are two cases:\n",
    "  * **Marginal Dependence:** ($B$ unknown): When $B$ is unknown / unobserved, there is an active trail between $A$ and $C$, meaning the probability of $A$ can influence probability of $C$ (and vice versa). We can say $P(A) \\ne P(A \\; | \\; C)$\n",
    "  * **Conditional Independence:** ($B$ fixed): When $B$ is fixed, there is NO active trail between $A$ and $C$, so they are independent, which means the probability of $A$ won't influence probability of $C$ (and vice versa). We can say $P(A) = P(A \\; | \\; C)$"
   ]
  },
  {
   "cell_type": "code",
   "execution_count": 14,
   "metadata": {
    "lines_to_next_cell": 0,
    "title": "codecell"
   },
   "outputs": [
    {
     "data": {
      "image/svg+xml": [
       "<?xml version=\"1.0\" encoding=\"UTF-8\" standalone=\"no\"?>\n",
       "<!DOCTYPE svg PUBLIC \"-//W3C//DTD SVG 1.1//EN\"\n",
       " \"http://www.w3.org/Graphics/SVG/1.1/DTD/svg11.dtd\">\n",
       "<!-- Generated by graphviz version 2.38.0 (20140413.2041)\n",
       " -->\n",
       "<!-- Title: G Pages: 1 -->\n",
       "<svg width=\"652pt\" height=\"260pt\"\n",
       " viewBox=\"0.00 0.00 652.35 260.00\" xmlns=\"http://www.w3.org/2000/svg\" xmlns:xlink=\"http://www.w3.org/1999/xlink\">\n",
       "<g id=\"graph0\" class=\"graph\" transform=\"scale(1 1) rotate(0) translate(4 256)\">\n",
       "<title>G</title>\n",
       "<polygon fill=\"white\" stroke=\"none\" points=\"-4,4 -4,-256 648.346,-256 648.346,4 -4,4\"/>\n",
       "<!-- ExertionLevel -->\n",
       "<g id=\"node1\" class=\"node\"><title>ExertionLevel</title>\n",
       "<defs>\n",
       "<linearGradient id=\"l_0\" gradientUnits=\"userSpaceOnUse\" x1=\"60.3275\" y1=\"-144\" x2=\"60.3275\" y2=\"-180\" >\n",
       "<stop offset=\"0\" style=\"stop-color:#ceccff;stop-opacity:1.;\"/>\n",
       "<stop offset=\"1\" style=\"stop-color:white;stop-opacity:1.;\"/>\n",
       "</linearGradient>\n",
       "</defs>\n",
       "<ellipse fill=\"url(#l_0)\" stroke=\"#ff638d\" cx=\"60.3275\" cy=\"-162\" rx=\"60.1555\" ry=\"18\"/>\n",
       "<text text-anchor=\"middle\" x=\"60.3275\" y=\"-158.9\" font-family=\"Acme-Regular.ttf\" font-size=\"12.00\">ExertionLevel</text>\n",
       "</g>\n",
       "<!-- WorkCapacity -->\n",
       "<g id=\"node2\" class=\"node\"><title>WorkCapacity</title>\n",
       "<defs>\n",
       "<linearGradient id=\"l_1\" gradientUnits=\"userSpaceOnUse\" x1=\"247.328\" y1=\"-72\" x2=\"247.328\" y2=\"-108\" >\n",
       "<stop offset=\"0\" style=\"stop-color:#ceccff;stop-opacity:1.;\"/>\n",
       "<stop offset=\"1\" style=\"stop-color:white;stop-opacity:1.;\"/>\n",
       "</linearGradient>\n",
       "</defs>\n",
       "<ellipse fill=\"url(#l_1)\" stroke=\"#ff638d\" cx=\"247.328\" cy=\"-90\" rx=\"60.8863\" ry=\"18\"/>\n",
       "<text text-anchor=\"middle\" x=\"247.328\" y=\"-86.9\" font-family=\"Acme-Regular.ttf\" font-size=\"12.00\">WorkCapacity</text>\n",
       "</g>\n",
       "<!-- ExertionLevel&#45;&gt;WorkCapacity -->\n",
       "<g id=\"edge1\" class=\"edge\"><title>ExertionLevel&#45;&gt;WorkCapacity</title>\n",
       "<path fill=\"none\" stroke=\"#ff638d\" d=\"M96.383,-147.503C126.296,-136.306 169.016,-120.315 201.379,-108.2\"/>\n",
       "<polygon fill=\"#ff638d\" stroke=\"#ff638d\" points=\"202.926,-111.358 211.064,-104.575 200.472,-104.802 202.926,-111.358\"/>\n",
       "</g>\n",
       "<!-- AbsenteeismLevel -->\n",
       "<g id=\"node3\" class=\"node\"><title>AbsenteeismLevel</title>\n",
       "<defs>\n",
       "<linearGradient id=\"l_2\" gradientUnits=\"userSpaceOnUse\" x1=\"499.328\" y1=\"-1.77636e-14\" x2=\"499.328\" y2=\"-36\" >\n",
       "<stop offset=\"0\" style=\"stop-color:#ceccff;stop-opacity:1.;\"/>\n",
       "<stop offset=\"1\" style=\"stop-color:white;stop-opacity:1.;\"/>\n",
       "</linearGradient>\n",
       "</defs>\n",
       "<ellipse fill=\"url(#l_2)\" stroke=\"#ff638d\" cx=\"499.328\" cy=\"-18\" rx=\"76.8968\" ry=\"18\"/>\n",
       "<text text-anchor=\"middle\" x=\"499.328\" y=\"-14.9\" font-family=\"Acme-Regular.ttf\" font-size=\"12.00\">AbsenteeismLevel</text>\n",
       "</g>\n",
       "<!-- WorkCapacity&#45;&gt;AbsenteeismLevel -->\n",
       "<g id=\"edge2\" class=\"edge\"><title>WorkCapacity&#45;&gt;AbsenteeismLevel</title>\n",
       "<path fill=\"none\" stroke=\"#ff638d\" d=\"M290.076,-77.1255C331.809,-65.533 395.596,-47.8142 441.774,-34.9871\"/>\n",
       "<polygon fill=\"#ff638d\" stroke=\"#ff638d\" points=\"442.941,-38.2957 451.639,-32.2468 441.067,-31.551 442.941,-38.2957\"/>\n",
       "</g>\n",
       "<!-- ExperienceLevel -->\n",
       "<g id=\"node4\" class=\"node\"><title>ExperienceLevel</title>\n",
       "<defs>\n",
       "<linearGradient id=\"l_3\" gradientUnits=\"userSpaceOnUse\" x1=\"247.328\" y1=\"-144\" x2=\"247.328\" y2=\"-180\" >\n",
       "<stop offset=\"0\" style=\"stop-color:#ceccff;stop-opacity:1.;\"/>\n",
       "<stop offset=\"1\" style=\"stop-color:white;stop-opacity:1.;\"/>\n",
       "</linearGradient>\n",
       "</defs>\n",
       "<ellipse fill=\"url(#l_3)\" stroke=\"#ff638d\" cx=\"247.328\" cy=\"-162\" rx=\"70.5856\" ry=\"18\"/>\n",
       "<text text-anchor=\"middle\" x=\"247.328\" y=\"-158.9\" font-family=\"Acme-Regular.ttf\" font-size=\"12.00\">ExperienceLevel</text>\n",
       "</g>\n",
       "<!-- ExperienceLevel&#45;&gt;WorkCapacity -->\n",
       "<g id=\"edge3\" class=\"edge\"><title>ExperienceLevel&#45;&gt;WorkCapacity</title>\n",
       "<path fill=\"none\" stroke=\"#ff638d\" d=\"M247.328,-143.697C247.328,-135.983 247.328,-126.712 247.328,-118.112\"/>\n",
       "<polygon fill=\"#ff638d\" stroke=\"#ff638d\" points=\"250.828,-118.104 247.328,-108.104 243.828,-118.104 250.828,-118.104\"/>\n",
       "</g>\n",
       "<!-- TrainingLevel -->\n",
       "<g id=\"node5\" class=\"node\"><title>TrainingLevel</title>\n",
       "<defs>\n",
       "<linearGradient id=\"l_4\" gradientUnits=\"userSpaceOnUse\" x1=\"394.328\" y1=\"-144\" x2=\"394.328\" y2=\"-180\" >\n",
       "<stop offset=\"0\" style=\"stop-color:#ceccff;stop-opacity:1.;\"/>\n",
       "<stop offset=\"1\" style=\"stop-color:white;stop-opacity:1.;\"/>\n",
       "</linearGradient>\n",
       "</defs>\n",
       "<ellipse fill=\"url(#l_4)\" stroke=\"#ff638d\" cx=\"394.328\" cy=\"-162\" rx=\"58.4615\" ry=\"18\"/>\n",
       "<text text-anchor=\"middle\" x=\"394.328\" y=\"-158.9\" font-family=\"Acme-Regular.ttf\" font-size=\"12.00\">TrainingLevel</text>\n",
       "</g>\n",
       "<!-- TrainingLevel&#45;&gt;WorkCapacity -->\n",
       "<g id=\"edge4\" class=\"edge\"><title>TrainingLevel&#45;&gt;WorkCapacity</title>\n",
       "<path fill=\"none\" stroke=\"#ff638d\" d=\"M363.869,-146.496C341.671,-135.925 311.386,-121.504 287.252,-110.012\"/>\n",
       "<polygon fill=\"#ff638d\" stroke=\"#ff638d\" points=\"288.533,-106.745 278,-105.606 285.523,-113.065 288.533,-106.745\"/>\n",
       "</g>\n",
       "<!-- Time -->\n",
       "<g id=\"node6\" class=\"node\"><title>Time</title>\n",
       "<defs>\n",
       "<linearGradient id=\"l_5\" gradientUnits=\"userSpaceOnUse\" x1=\"247.328\" y1=\"-216\" x2=\"247.328\" y2=\"-252\" >\n",
       "<stop offset=\"0\" style=\"stop-color:#ceccff;stop-opacity:1.;\"/>\n",
       "<stop offset=\"1\" style=\"stop-color:white;stop-opacity:1.;\"/>\n",
       "</linearGradient>\n",
       "</defs>\n",
       "<ellipse fill=\"url(#l_5)\" stroke=\"#ff638d\" cx=\"247.328\" cy=\"-234\" rx=\"28.8653\" ry=\"18\"/>\n",
       "<text text-anchor=\"middle\" x=\"247.328\" y=\"-230.9\" font-family=\"Acme-Regular.ttf\" font-size=\"12.00\">Time</text>\n",
       "</g>\n",
       "<!-- Time&#45;&gt;ExertionLevel -->\n",
       "<g id=\"edge7\" class=\"edge\"><title>Time&#45;&gt;ExertionLevel</title>\n",
       "<path fill=\"none\" stroke=\"#ff638d\" d=\"M223.263,-223.992C193.743,-212.942 143.068,-193.973 106.053,-180.116\"/>\n",
       "<polygon fill=\"#ff638d\" stroke=\"#ff638d\" points=\"107.074,-176.762 96.4817,-176.534 104.62,-183.317 107.074,-176.762\"/>\n",
       "</g>\n",
       "<!-- Time&#45;&gt;WorkCapacity -->\n",
       "<g id=\"edge5\" class=\"edge\"><title>Time&#45;&gt;WorkCapacity</title>\n",
       "<path fill=\"none\" stroke=\"#ff638d\" d=\"M222.855,-224.259C203.909,-216.043 178.994,-201.723 167.328,-180 159.757,-165.904 159.757,-158.096 167.328,-144 175.152,-129.431 188.935,-118.192 202.88,-109.891\"/>\n",
       "<polygon fill=\"#ff638d\" stroke=\"#ff638d\" points=\"204.942,-112.751 212.007,-104.855 201.56,-106.622 204.942,-112.751\"/>\n",
       "</g>\n",
       "<!-- Time&#45;&gt;AbsenteeismLevel -->\n",
       "<g id=\"edge6\" class=\"edge\"><title>Time&#45;&gt;AbsenteeismLevel</title>\n",
       "<path fill=\"none\" stroke=\"#ff638d\" d=\"M275.514,-229.67C327.473,-222.962 435.421,-206.193 461.328,-180 496.743,-144.193 501.47,-81.8969 500.934,-46.2029\"/>\n",
       "<polygon fill=\"#ff638d\" stroke=\"#ff638d\" points=\"504.427,-45.9279 500.626,-36.0382 497.43,-46.1394 504.427,-45.9279\"/>\n",
       "</g>\n",
       "<!-- Time&#45;&gt;ExperienceLevel -->\n",
       "<g id=\"edge8\" class=\"edge\"><title>Time&#45;&gt;ExperienceLevel</title>\n",
       "<path fill=\"none\" stroke=\"#ff638d\" d=\"M247.328,-215.697C247.328,-207.983 247.328,-198.712 247.328,-190.112\"/>\n",
       "<polygon fill=\"#ff638d\" stroke=\"#ff638d\" points=\"250.828,-190.104 247.328,-180.104 243.828,-190.104 250.828,-190.104\"/>\n",
       "</g>\n",
       "<!-- Time&#45;&gt;TrainingLevel -->\n",
       "<g id=\"edge9\" class=\"edge\"><title>Time&#45;&gt;TrainingLevel</title>\n",
       "<path fill=\"none\" stroke=\"#ff638d\" d=\"M269.654,-222.369C292.142,-211.66 327.318,-194.909 354.58,-181.927\"/>\n",
       "<polygon fill=\"#ff638d\" stroke=\"#ff638d\" points=\"356.335,-184.968 363.859,-177.509 353.326,-178.648 356.335,-184.968\"/>\n",
       "</g>\n",
       "<!-- ProcessType -->\n",
       "<g id=\"node7\" class=\"node\"><title>ProcessType</title>\n",
       "<defs>\n",
       "<linearGradient id=\"l_6\" gradientUnits=\"userSpaceOnUse\" x1=\"588.328\" y1=\"-216\" x2=\"588.328\" y2=\"-252\" >\n",
       "<stop offset=\"0\" style=\"stop-color:#ceccff;stop-opacity:1.;\"/>\n",
       "<stop offset=\"1\" style=\"stop-color:white;stop-opacity:1.;\"/>\n",
       "</linearGradient>\n",
       "</defs>\n",
       "<ellipse fill=\"url(#l_6)\" stroke=\"#ff638d\" cx=\"588.328\" cy=\"-234\" rx=\"56.0368\" ry=\"18\"/>\n",
       "<text text-anchor=\"middle\" x=\"588.328\" y=\"-230.9\" font-family=\"Acme-Regular.ttf\" font-size=\"12.00\">ProcessType</text>\n",
       "</g>\n",
       "<!-- ProcessType&#45;&gt;AbsenteeismLevel -->\n",
       "<g id=\"edge12\" class=\"edge\"><title>ProcessType&#45;&gt;AbsenteeismLevel</title>\n",
       "<path fill=\"none\" stroke=\"#ff638d\" d=\"M568.44,-217.037C557.7,-207.395 545.088,-194.24 537.328,-180 513.868,-136.953 504.798,-79.7278 501.359,-46.3733\"/>\n",
       "<polygon fill=\"#ff638d\" stroke=\"#ff638d\" points=\"504.808,-45.6641 500.396,-36.0318 497.838,-46.3133 504.808,-45.6641\"/>\n",
       "</g>\n",
       "<!-- ToolType -->\n",
       "<g id=\"node8\" class=\"node\"><title>ToolType</title>\n",
       "<defs>\n",
       "<linearGradient id=\"l_7\" gradientUnits=\"userSpaceOnUse\" x1=\"588.328\" y1=\"-144\" x2=\"588.328\" y2=\"-180\" >\n",
       "<stop offset=\"0\" style=\"stop-color:#ceccff;stop-opacity:1.;\"/>\n",
       "<stop offset=\"1\" style=\"stop-color:white;stop-opacity:1.;\"/>\n",
       "</linearGradient>\n",
       "</defs>\n",
       "<ellipse fill=\"url(#l_7)\" stroke=\"#ff638d\" cx=\"588.328\" cy=\"-162\" rx=\"41.7203\" ry=\"18\"/>\n",
       "<text text-anchor=\"middle\" x=\"588.328\" y=\"-158.9\" font-family=\"Acme-Regular.ttf\" font-size=\"12.00\">ToolType</text>\n",
       "</g>\n",
       "<!-- ProcessType&#45;&gt;ToolType -->\n",
       "<g id=\"edge10\" class=\"edge\"><title>ProcessType&#45;&gt;ToolType</title>\n",
       "<path fill=\"none\" stroke=\"#ff638d\" d=\"M588.328,-215.697C588.328,-207.983 588.328,-198.712 588.328,-190.112\"/>\n",
       "<polygon fill=\"#ff638d\" stroke=\"#ff638d\" points=\"591.828,-190.104 588.328,-180.104 584.828,-190.104 591.828,-190.104\"/>\n",
       "</g>\n",
       "<!-- InjuryType -->\n",
       "<g id=\"node9\" class=\"node\"><title>InjuryType</title>\n",
       "<defs>\n",
       "<linearGradient id=\"l_8\" gradientUnits=\"userSpaceOnUse\" x1=\"594.328\" y1=\"-72\" x2=\"594.328\" y2=\"-108\" >\n",
       "<stop offset=\"0\" style=\"stop-color:#ceccff;stop-opacity:1.;\"/>\n",
       "<stop offset=\"1\" style=\"stop-color:white;stop-opacity:1.;\"/>\n",
       "</linearGradient>\n",
       "</defs>\n",
       "<ellipse fill=\"url(#l_8)\" stroke=\"#ff638d\" cx=\"594.328\" cy=\"-90\" rx=\"48.0316\" ry=\"18\"/>\n",
       "<text text-anchor=\"middle\" x=\"594.328\" y=\"-86.9\" font-family=\"Acme-Regular.ttf\" font-size=\"12.00\">InjuryType</text>\n",
       "</g>\n",
       "<!-- ProcessType&#45;&gt;InjuryType -->\n",
       "<g id=\"edge11\" class=\"edge\"><title>ProcessType&#45;&gt;InjuryType</title>\n",
       "<path fill=\"none\" stroke=\"#ff638d\" d=\"M610.037,-217.199C621.062,-207.788 633.361,-194.805 639.328,-180 645.308,-165.16 644.844,-159.019 639.328,-144 635.249,-132.896 627.699,-122.527 619.933,-113.957\"/>\n",
       "<polygon fill=\"#ff638d\" stroke=\"#ff638d\" points=\"622.303,-111.373 612.833,-106.623 617.273,-116.242 622.303,-111.373\"/>\n",
       "</g>\n",
       "<!-- ToolType&#45;&gt;InjuryType -->\n",
       "<g id=\"edge13\" class=\"edge\"><title>ToolType&#45;&gt;InjuryType</title>\n",
       "<path fill=\"none\" stroke=\"#ff638d\" d=\"M589.811,-143.697C590.472,-135.983 591.266,-126.712 592.004,-118.112\"/>\n",
       "<polygon fill=\"#ff638d\" stroke=\"#ff638d\" points=\"595.495,-118.367 592.861,-108.104 588.52,-117.769 595.495,-118.367\"/>\n",
       "</g>\n",
       "<!-- InjuryType&#45;&gt;AbsenteeismLevel -->\n",
       "<g id=\"edge14\" class=\"edge\"><title>InjuryType&#45;&gt;AbsenteeismLevel</title>\n",
       "<path fill=\"none\" stroke=\"#ff638d\" d=\"M573.244,-73.4647C560.569,-64.1252 544.214,-52.0742 530.112,-41.6834\"/>\n",
       "<polygon fill=\"#ff638d\" stroke=\"#ff638d\" points=\"531.803,-38.5815 521.676,-35.4672 527.65,-44.2169 531.803,-38.5815\"/>\n",
       "</g>\n",
       "</g>\n",
       "</svg>\n"
      ],
      "text/plain": [
       "<graphviz.dot.Digraph at 0x7fb75422a450>"
      ]
     },
     "execution_count": 14,
     "metadata": {},
     "output_type": "execute_result"
    }
   ],
   "source": [
    "pgmpyToGraph(carModel)"
   ]
  },
  {
   "cell_type": "markdown",
   "metadata": {
    "title": "markdown"
   },
   "source": [
    "#### Testing conditional independence:\n",
    "$$\n",
    "\\color{DodgerBlue}{\\text{WorkCapacity (observed)}: \\;\\;\\;\\;\\;\\;\\;  \\text{ExperienceLevel} \\; \\bot \\; \\text{AbsenteeismLevel} \\; | \\; \\text{WorkCapacity}}\n",
    "$$\n",
    "\n",
    "Given that **WorkCapacity**'s state is observed, we can make the following equivalent statements:\n",
    "* there is NO active trail between **ExperienceLevel** and **AbsenteeismLevel**.\n",
    "* **ExperienceLevel** and **AbsenteeismLevel** are locally independent.\n",
    "* the probability of **ExperienceLevel** won't influence probability of **AbsenteeismLevel** (and vice versa).\n"
   ]
  },
  {
   "cell_type": "code",
   "execution_count": 15,
   "metadata": {
    "title": "codecell"
   },
   "outputs": [],
   "source": [
    "elim: VariableElimination = VariableElimination(model = carModel)"
   ]
  },
  {
   "cell_type": "markdown",
   "metadata": {
    "lines_to_next_cell": 0,
    "title": "markdown"
   },
   "source": [
    "**Testing Conditional Independence:** Using Active Trails Methods"
   ]
  },
  {
   "cell_type": "code",
   "execution_count": 16,
   "metadata": {
    "title": "codecell"
   },
   "outputs": [
    {
     "name": "stdout",
     "output_type": "stream",
     "text": [
      "ExperienceLevel --> ExertionLevel\n",
      "ExperienceLevel --> ExperienceLevel\n",
      "ExperienceLevel --> TrainingLevel\n",
      "AbsenteeismLevel --> ToolType\n",
      "AbsenteeismLevel --> InjuryType\n",
      "AbsenteeismLevel --> ProcessType\n",
      "AbsenteeismLevel --> AbsenteeismLevel\n"
     ]
    }
   ],
   "source": [
    "assert carModel.is_active_trail(start = ExperienceLevel.var, end = AbsenteeismLevel.var, observed = None)\n",
    "\n",
    "assert carModel.is_active_trail(start = ExperienceLevel.var, end = AbsenteeismLevel.var, observed = [WorkCapacity.var]), \"Check: still need to condition on extra variable for this not to be an active trail\"\n",
    "\n",
    "# Finding out which extra variable to condition on:\n",
    "assert observedVars(carModel, startVar = ExperienceLevel.var, endVar = AbsenteeismLevel.var) == [{'Time', 'WorkCapacity'}], \"Check: all list of extra variables to condition on to nullify active trail between Experience and Absenteeism\"\n",
    "\n",
    "# Check trail is nullified\n",
    "assert not carModel.is_active_trail(start = ExperienceLevel.var, end = AbsenteeismLevel.var, observed = [WorkCapacity.var] + [Time.var]), \"Check: active trail between Experience and Absenteeism is nullified with the extra variable observed\"\n",
    "\n",
    "# See, there is no active trail from ExperienceLevel to AbsenteeismLevel when observing WorkCapacity and time.\n",
    "showActiveTrails(carModel, variables = [ExperienceLevel.var, AbsenteeismLevel.var], observed = [WorkCapacity.var, Time.var])"
   ]
  },
  {
   "cell_type": "markdown",
   "metadata": {
    "lines_to_next_cell": 0,
    "title": "markdown"
   },
   "source": [
    "**Testing Conditional Independence:** Using Probabilities"
   ]
  },
  {
   "cell_type": "code",
   "execution_count": 17,
   "metadata": {
    "lines_to_next_cell": 0,
    "title": "codecell"
   },
   "outputs": [
    {
     "name": "stderr",
     "output_type": "stream",
     "text": [
      "\r",
      "  0%|          | 0/6 [00:00<?, ?it/s]"
     ]
    },
    {
     "name": "stderr",
     "output_type": "stream",
     "text": [
      "\r",
      "Finding Elimination Order: :   0%|          | 0/6 [00:00<?, ?it/s]"
     ]
    },
    {
     "name": "stderr",
     "output_type": "stream",
     "text": [
      "\r",
      "Finding Elimination Order: : 100%|██████████| 6/6 [00:00<00:00, 1312.36it/s]"
     ]
    },
    {
     "name": "stderr",
     "output_type": "stream",
     "text": [
      "\n",
      "\r",
      "  0%|          | 0/6 [00:00<?, ?it/s]"
     ]
    },
    {
     "name": "stderr",
     "output_type": "stream",
     "text": [
      "\r",
      "Eliminating: ToolType:   0%|          | 0/6 [00:00<?, ?it/s]"
     ]
    },
    {
     "name": "stderr",
     "output_type": "stream",
     "text": [
      "\r",
      "Eliminating: ExertionLevel:   0%|          | 0/6 [00:00<?, ?it/s]"
     ]
    },
    {
     "name": "stderr",
     "output_type": "stream",
     "text": [
      "\r",
      "Eliminating: InjuryType:   0%|          | 0/6 [00:00<?, ?it/s]   "
     ]
    },
    {
     "name": "stderr",
     "output_type": "stream",
     "text": [
      "\r",
      "Eliminating: TrainingLevel:   0%|          | 0/6 [00:00<?, ?it/s]"
     ]
    },
    {
     "name": "stderr",
     "output_type": "stream",
     "text": [
      "\r",
      "Eliminating: ProcessType:   0%|          | 0/6 [00:00<?, ?it/s]  "
     ]
    },
    {
     "name": "stderr",
     "output_type": "stream",
     "text": [
      "\r",
      "Eliminating: ExperienceLevel:   0%|          | 0/6 [00:00<?, ?it/s]"
     ]
    },
    {
     "name": "stderr",
     "output_type": "stream",
     "text": [
      "\r",
      "Eliminating: ExperienceLevel: 100%|██████████| 6/6 [00:00<00:00, 302.57it/s]"
     ]
    },
    {
     "name": "stderr",
     "output_type": "stream",
     "text": [
      "\n"
     ]
    },
    {
     "name": "stderr",
     "output_type": "stream",
     "text": [
      "\r",
      "  0%|          | 0/5 [00:00<?, ?it/s]"
     ]
    },
    {
     "name": "stderr",
     "output_type": "stream",
     "text": [
      "\r",
      "Finding Elimination Order: :   0%|          | 0/5 [00:00<?, ?it/s]"
     ]
    },
    {
     "name": "stderr",
     "output_type": "stream",
     "text": [
      "\r",
      "Finding Elimination Order: : 100%|██████████| 5/5 [00:00<00:00, 2521.83it/s]"
     ]
    },
    {
     "name": "stderr",
     "output_type": "stream",
     "text": [
      "\n",
      "\r",
      "  0%|          | 0/5 [00:00<?, ?it/s]"
     ]
    },
    {
     "name": "stderr",
     "output_type": "stream",
     "text": [
      "\r",
      "Eliminating: ToolType:   0%|          | 0/5 [00:00<?, ?it/s]"
     ]
    },
    {
     "name": "stderr",
     "output_type": "stream",
     "text": [
      "\r",
      "Eliminating: ExertionLevel:   0%|          | 0/5 [00:00<?, ?it/s]"
     ]
    },
    {
     "name": "stderr",
     "output_type": "stream",
     "text": [
      "\r",
      "Eliminating: InjuryType:   0%|          | 0/5 [00:00<?, ?it/s]   "
     ]
    },
    {
     "name": "stderr",
     "output_type": "stream",
     "text": [
      "\r",
      "Eliminating: TrainingLevel:   0%|          | 0/5 [00:00<?, ?it/s]"
     ]
    },
    {
     "name": "stderr",
     "output_type": "stream",
     "text": [
      "\r",
      "Eliminating: ProcessType:   0%|          | 0/5 [00:00<?, ?it/s]  "
     ]
    },
    {
     "name": "stderr",
     "output_type": "stream",
     "text": [
      "\r",
      "Eliminating: ProcessType: 100%|██████████| 5/5 [00:00<00:00, 417.04it/s]"
     ]
    },
    {
     "name": "stderr",
     "output_type": "stream",
     "text": [
      "\n"
     ]
    },
    {
     "name": "stderr",
     "output_type": "stream",
     "text": [
      "\r",
      "  0%|          | 0/5 [00:00<?, ?it/s]"
     ]
    },
    {
     "name": "stderr",
     "output_type": "stream",
     "text": [
      "\r",
      "Finding Elimination Order: :   0%|          | 0/5 [00:00<?, ?it/s]"
     ]
    },
    {
     "name": "stderr",
     "output_type": "stream",
     "text": [
      "\r",
      "Finding Elimination Order: : 100%|██████████| 5/5 [00:00<00:00, 998.93it/s]"
     ]
    },
    {
     "name": "stderr",
     "output_type": "stream",
     "text": [
      "\n",
      "\r",
      "  0%|          | 0/5 [00:00<?, ?it/s]"
     ]
    },
    {
     "name": "stderr",
     "output_type": "stream",
     "text": [
      "\r",
      "Eliminating: ToolType:   0%|          | 0/5 [00:00<?, ?it/s]"
     ]
    },
    {
     "name": "stderr",
     "output_type": "stream",
     "text": [
      "\r",
      "Eliminating: ExertionLevel:   0%|          | 0/5 [00:00<?, ?it/s]"
     ]
    },
    {
     "name": "stderr",
     "output_type": "stream",
     "text": [
      "\r",
      "Eliminating: InjuryType:   0%|          | 0/5 [00:00<?, ?it/s]   "
     ]
    },
    {
     "name": "stderr",
     "output_type": "stream",
     "text": [
      "\r",
      "Eliminating: TrainingLevel:   0%|          | 0/5 [00:00<?, ?it/s]"
     ]
    },
    {
     "name": "stderr",
     "output_type": "stream",
     "text": [
      "\r",
      "Eliminating: ProcessType:   0%|          | 0/5 [00:00<?, ?it/s]  "
     ]
    },
    {
     "name": "stderr",
     "output_type": "stream",
     "text": [
      "\r",
      "Eliminating: ProcessType: 100%|██████████| 5/5 [00:00<00:00, 494.54it/s]"
     ]
    },
    {
     "name": "stderr",
     "output_type": "stream",
     "text": [
      "\n"
     ]
    },
    {
     "name": "stderr",
     "output_type": "stream",
     "text": [
      "\r",
      "  0%|          | 0/5 [00:00<?, ?it/s]"
     ]
    },
    {
     "name": "stderr",
     "output_type": "stream",
     "text": [
      "\r",
      "Finding Elimination Order: :   0%|          | 0/5 [00:00<?, ?it/s]"
     ]
    },
    {
     "name": "stderr",
     "output_type": "stream",
     "text": [
      "\r",
      "Finding Elimination Order: : 100%|██████████| 5/5 [00:00<00:00, 2016.49it/s]"
     ]
    },
    {
     "name": "stderr",
     "output_type": "stream",
     "text": [
      "\n",
      "\r",
      "  0%|          | 0/5 [00:00<?, ?it/s]"
     ]
    },
    {
     "name": "stderr",
     "output_type": "stream",
     "text": [
      "\r",
      "Eliminating: ToolType:   0%|          | 0/5 [00:00<?, ?it/s]"
     ]
    },
    {
     "name": "stderr",
     "output_type": "stream",
     "text": [
      "\r",
      "Eliminating: ExertionLevel:   0%|          | 0/5 [00:00<?, ?it/s]"
     ]
    },
    {
     "name": "stderr",
     "output_type": "stream",
     "text": [
      "\r",
      "Eliminating: InjuryType:   0%|          | 0/5 [00:00<?, ?it/s]   "
     ]
    },
    {
     "name": "stderr",
     "output_type": "stream",
     "text": [
      "\r",
      "Eliminating: TrainingLevel:   0%|          | 0/5 [00:00<?, ?it/s]"
     ]
    },
    {
     "name": "stderr",
     "output_type": "stream",
     "text": [
      "\r",
      "Eliminating: ProcessType:   0%|          | 0/5 [00:00<?, ?it/s]  "
     ]
    },
    {
     "name": "stderr",
     "output_type": "stream",
     "text": [
      "\r",
      "Eliminating: ProcessType: 100%|██████████| 5/5 [00:00<00:00, 416.79it/s]"
     ]
    },
    {
     "name": "stdout",
     "output_type": "stream",
     "text": [
      "+--------------------------+-------------------------+\n",
      "| AbsenteeismLevel         |   phi(AbsenteeismLevel) |\n",
      "+==========================+=========================+\n",
      "| AbsenteeismLevel(High)   |                  0.4989 |\n",
      "+--------------------------+-------------------------+\n",
      "| AbsenteeismLevel(Low)    |                  0.3994 |\n",
      "+--------------------------+-------------------------+\n",
      "| AbsenteeismLevel(Medium) |                  0.1017 |\n",
      "+--------------------------+-------------------------+\n"
     ]
    },
    {
     "name": "stderr",
     "output_type": "stream",
     "text": [
      "\n"
     ]
    }
   ],
   "source": [
    "OBS_STATE_WORKCAPACITY: State = 'Low'\n",
    "OBS_STATE_TIME: int = 23\n",
    "\n",
    "EWA: DiscreteFactor = elim.query(variables = [AbsenteeismLevel.var], evidence = {WorkCapacity.var :OBS_STATE_WORKCAPACITY, Time.var : OBS_STATE_TIME})\n",
    "\n",
    "EWA_1: DiscreteFactor = elim.query(variables = [AbsenteeismLevel.var], evidence = {WorkCapacity.var : OBS_STATE_WORKCAPACITY, Time.var: OBS_STATE_TIME, ExperienceLevel.var : 'High'})\n",
    "\n",
    "EWA_2: DiscreteFactor = elim.query(variables = [AbsenteeismLevel.var], evidence = {WorkCapacity.var : OBS_STATE_WORKCAPACITY, Time.var : OBS_STATE_TIME, ExperienceLevel.var : 'Medium'})\n",
    "\n",
    "EWA_3: DiscreteFactor = elim.query(variables = [AbsenteeismLevel.var], evidence = {WorkCapacity.var : OBS_STATE_WORKCAPACITY, Time.var : OBS_STATE_TIME, ExperienceLevel.var : 'Low'})\n",
    "\n",
    "print(EWA)"
   ]
  },
  {
   "cell_type": "markdown",
   "metadata": {
    "lines_to_next_cell": 0,
    "title": "markdown"
   },
   "source": [
    "\n",
    "The probabilities above are stated formulaically as follows:\n",
    "\n",
    "$$\n",
    "\\begin{array}{ll}\n",
    "P(\\text{AbsenteeismLevel} = \\text{High} \\; | \\; \\Big\\{  \\text{WorkCapacity} = \\text{Low} \\; \\cap \\; \\text{Time} = 23  \\Big\\}) \\\\\n",
    "= P(\\text{AbsenteeismLevel} = \\text{High} \\; | \\; \\Big\\{\\text{WorkCapacity} = \\text{Low} \\; \\cap \\; \\text{Time} = 23 \\Big\\} \\; \\cap \\; \\text{ExperienceLevel} = \\text{Low})  \\\\\n",
    "= P(\\text{AbsenteeismLevel} = \\text{High} \\; | \\; \\Big\\{\\text{WorkCapacity} = \\text{Low} \\; \\cap \\; \\text{Time} = 23 \\Big\\} \\; \\cap \\; \\text{ExperienceLevel} = \\text{Medium}) \\\\\n",
    "= P(\\text{AbsenteeismLevel} = \\text{High} \\; | \\; \\Big\\{\\text{WorkCapacity} = \\text{Low} \\; \\cap \\; \\text{Time} = 23 \\Big\\} \\; \\cap \\; \\text{ExperienceLevel} = \\text{High}) \\\\\n",
    "= 0.4989\n",
    "\\end{array}\n",
    "$$\n",
    "\n",
    "$$\n",
    "\\begin{array}{ll}\n",
    "P(\\text{AbsenteeismLevel} = \\text{Low} \\; | \\; \\Big\\{\\text{WorkCapacity} = \\text{Low} \\; \\cap \\; \\text{Time} = 23 \\Big\\}) \\\\\n",
    "= P(\\text{AbsenteeismLevel} = \\text{Low} \\; | \\; \\Big\\{\\text{WorkCapacity} = \\text{Low} \\; \\cap \\; \\text{Time} = 23 \\Big\\} \\; \\cap \\; \\text{ExperienceLevel} = \\text{Low})  \\\\\n",
    "= P(\\text{AbsenteeismLevel} = \\text{Low} \\; | \\; \\Big\\{\\text{WorkCapacity} = \\text{Low} \\; \\cap \\; \\text{Time} = 23 \\Big\\} \\; \\cap \\; \\text{ExperienceLevel} = \\text{Medium}) \\\\\n",
    "= P(\\text{AbsenteeismLevel} = \\text{Low} \\; | \\; \\Big\\{\\text{WorkCapacity} = \\text{Low} \\; \\cap \\; \\text{Time} = 23 \\Big\\} \\; \\cap \\; \\text{ExperienceLevel} = \\text{High}) \\\\\n",
    "= 0.3994\n",
    "\\end{array}\n",
    "$$\n",
    "\n",
    "$$\n",
    "\\begin{array}{ll}\n",
    "P(\\text{AbsenteeismLevel} = \\text{Medium} \\; | \\; \\Big\\{\\text{WorkCapacity} = \\text{Low} \\; \\cap \\; \\text{Time} = 23 \\Big\\}) \\\\\n",
    "= P(\\text{AbsenteeismLevel} = \\text{Medium} \\; | \\; \\Big\\{\\text{WorkCapacity} = \\text{Low} \\; \\cap \\; \\text{Time} = 23 \\Big\\} \\; \\cap \\; \\text{ExperienceLevel} = \\text{Low})  \\\\\n",
    "= P(\\text{AbsenteeismLevel} = \\text{Medium} \\; | \\; \\Big\\{\\text{WorkCapacity} = \\text{Low} \\; \\cap \\; \\text{Time} = 23 \\Big\\} \\; \\cap \\; \\text{ExperienceLevel} = \\text{Medium}) \\\\\n",
    "= P(\\text{AbsenteeismLevel} = \\text{Medium} \\; | \\; \\Big\\{\\text{WorkCapacity} = \\text{Low} \\; \\cap \\; \\text{Time} = 23 \\Big\\} \\; \\cap \\; \\text{ExperienceLevel} = \\text{High}) \\\\\n",
    "= 0.1017\n",
    "\\end{array}\n",
    "$$\n",
    "Since all the above stated probabilities are equal for each state of `AbsenteeismLevel` = `Low`, `Medium`, `High`, we can assert that the random variables `ExperienceLevel` and `AbsenteeismLevel` are independent of each other, when observing `WorkCapacity` state (and also observing the state of `Time` to adjust for backdoors). Arbitrarily choosing the states `backdoorStates` = `{WorkCapacity = Low, Time = 23}`, we can write:\n",
    "$$\n",
    "P(\\text{AbsenteeismLevel} \\; | \\; \\{\\texttt{backdoorStates} \\}) = P(\\text{AbsenteeismLevel} \\; | \\; \\{ \\texttt{backdoorStates} \\} \\; \\cap \\; \\text{ExperienceLevel})\n",
    "$$"
   ]
  },
  {
   "cell_type": "code",
   "execution_count": 18,
   "metadata": {
    "title": "codecell"
   },
   "outputs": [],
   "source": [
    "assert allEqual(EWA.values, EWA_1.values, EWA_2.values, EWA_3.values), \"Check: the random variables Experience and Absenteeism are independent, when intermediary node WorkCapacity is observed (while accounting for backdoors)\"\n",
    "\n",
    "\n",
    "\n",
    "\n"
   ]
  },
  {
   "cell_type": "markdown",
   "metadata": {
    "lines_to_next_cell": 2,
    "title": "markdown"
   },
   "source": [
    "#### Testing marginal dependence:\n",
    "$$\n",
    "\\color{Green}{\\text{WorkCapacity (unobserved)}: \\;\\;\\;\\;\\;\\;\\;  \\text{ExperienceLevel} \\longrightarrow \\text{WorkCapacity} \\longrightarrow \\text{AbsenteeismLevel}}\n",
    "$$\n",
    "Given that **WorkCapacity**'s state is unobserved, we can make the following equivalent statements:\n",
    "* there IS active trail between **ExperienceLevel** and **AbsenteeismLevel**.\n",
    "* **ExperienceLevel** and **AbsenteeismLevel** are dependent.\n",
    "* the probability of **ExperienceLevel** influences probability of **AbsenteeismLevel** (and vice versa).\n"
   ]
  },
  {
   "cell_type": "markdown",
   "metadata": {
    "lines_to_next_cell": 0,
    "title": "markdown"
   },
   "source": [
    "**Testing Conditional Independence:** Using Active Trails Methods"
   ]
  },
  {
   "cell_type": "code",
   "execution_count": 19,
   "metadata": {
    "title": "codecell"
   },
   "outputs": [
    {
     "name": "stdout",
     "output_type": "stream",
     "text": [
      "ExperienceLevel --> TrainingLevel\n",
      "ExperienceLevel --> Time\n",
      "ExperienceLevel --> WorkCapacity\n",
      "ExperienceLevel --> ExperienceLevel\n",
      "ExperienceLevel --> ExertionLevel\n",
      "ExperienceLevel --> AbsenteeismLevel\n",
      "AbsenteeismLevel --> ToolType\n",
      "AbsenteeismLevel --> InjuryType\n",
      "AbsenteeismLevel --> TrainingLevel\n",
      "AbsenteeismLevel --> Time\n",
      "AbsenteeismLevel --> WorkCapacity\n",
      "AbsenteeismLevel --> ProcessType\n",
      "AbsenteeismLevel --> ExertionLevel\n",
      "AbsenteeismLevel --> AbsenteeismLevel\n",
      "AbsenteeismLevel --> ExperienceLevel\n"
     ]
    }
   ],
   "source": [
    "assert carModel.is_active_trail(start = ExperienceLevel.var, end = AbsenteeismLevel.var, observed = None)\n",
    "\n",
    "# See, there is active trail from ExperienceLevel to AbsenteeismLevel when not observing WorkCapacity variable\n",
    "showActiveTrails(carModel, variables = [ExperienceLevel.var, AbsenteeismLevel.var], observed = None)"
   ]
  },
  {
   "cell_type": "markdown",
   "metadata": {
    "title": "markdown"
   },
   "source": [
    "**Testing Conditional Independence:** Using Probabilities"
   ]
  },
  {
   "cell_type": "code",
   "execution_count": 20,
   "metadata": {
    "lines_to_next_cell": 0,
    "title": "codecell"
   },
   "outputs": [
    {
     "name": "stderr",
     "output_type": "stream",
     "text": [
      "\r",
      "  0%|          | 0/7 [00:00<?, ?it/s]"
     ]
    },
    {
     "name": "stderr",
     "output_type": "stream",
     "text": [
      "\r",
      "Finding Elimination Order: :   0%|          | 0/7 [00:00<?, ?it/s]"
     ]
    },
    {
     "name": "stderr",
     "output_type": "stream",
     "text": [
      "\r",
      "Finding Elimination Order: : 100%|██████████| 7/7 [00:00<00:00, 1788.62it/s]"
     ]
    },
    {
     "name": "stderr",
     "output_type": "stream",
     "text": [
      "\n",
      "\r",
      "  0%|          | 0/7 [00:00<?, ?it/s]"
     ]
    },
    {
     "name": "stderr",
     "output_type": "stream",
     "text": [
      "\r",
      "Eliminating: ToolType:   0%|          | 0/7 [00:00<?, ?it/s]"
     ]
    },
    {
     "name": "stderr",
     "output_type": "stream",
     "text": [
      "\r",
      "Eliminating: WorkCapacity:   0%|          | 0/7 [00:00<?, ?it/s]"
     ]
    },
    {
     "name": "stderr",
     "output_type": "stream",
     "text": [
      "\r",
      "Eliminating: ExertionLevel:   0%|          | 0/7 [00:00<?, ?it/s]"
     ]
    },
    {
     "name": "stderr",
     "output_type": "stream",
     "text": [
      "\r",
      "Eliminating: ExertionLevel:  43%|████▎     | 3/7 [00:00<00:00, 22.96it/s]"
     ]
    },
    {
     "name": "stderr",
     "output_type": "stream",
     "text": [
      "\r",
      "Eliminating: InjuryType:  43%|████▎     | 3/7 [00:00<00:00, 22.96it/s]   "
     ]
    },
    {
     "name": "stderr",
     "output_type": "stream",
     "text": [
      "\r",
      "Eliminating: TrainingLevel:  43%|████▎     | 3/7 [00:00<00:00, 22.96it/s]"
     ]
    },
    {
     "name": "stderr",
     "output_type": "stream",
     "text": [
      "\r",
      "Eliminating: ProcessType:  43%|████▎     | 3/7 [00:00<00:00, 22.96it/s]  "
     ]
    },
    {
     "name": "stderr",
     "output_type": "stream",
     "text": [
      "\r",
      "Eliminating: ExperienceLevel:  43%|████▎     | 3/7 [00:00<00:00, 22.96it/s]"
     ]
    },
    {
     "name": "stderr",
     "output_type": "stream",
     "text": [
      "\r",
      "Eliminating: ExperienceLevel: 100%|██████████| 7/7 [00:00<00:00, 47.40it/s]"
     ]
    },
    {
     "name": "stdout",
     "output_type": "stream",
     "text": [
      "+--------------------------+-------------------------+\n",
      "| AbsenteeismLevel         |   phi(AbsenteeismLevel) |\n",
      "+==========================+=========================+\n",
      "| AbsenteeismLevel(High)   |                  0.4965 |\n",
      "+--------------------------+-------------------------+\n",
      "| AbsenteeismLevel(Low)    |                  0.3984 |\n",
      "+--------------------------+-------------------------+\n",
      "| AbsenteeismLevel(Medium) |                  0.1052 |\n",
      "+--------------------------+-------------------------+\n"
     ]
    },
    {
     "name": "stderr",
     "output_type": "stream",
     "text": [
      "\n"
     ]
    }
   ],
   "source": [
    "OBS_STATE_WORKCAPACITY: State = 'Low'\n",
    "OBS_STATE_TIME: int = 23\n",
    "\n",
    "EA: DiscreteFactor = elim.query(variables = [AbsenteeismLevel.var], evidence = {Time.var : OBS_STATE_TIME})\n",
    "print(EA)"
   ]
  },
  {
   "cell_type": "code",
   "execution_count": 21,
   "metadata": {
    "lines_to_next_cell": 0,
    "title": "codecell"
   },
   "outputs": [
    {
     "name": "stderr",
     "output_type": "stream",
     "text": [
      "\r",
      "  0%|          | 0/6 [00:00<?, ?it/s]"
     ]
    },
    {
     "name": "stderr",
     "output_type": "stream",
     "text": [
      "\r",
      "Finding Elimination Order: :   0%|          | 0/6 [00:00<?, ?it/s]"
     ]
    },
    {
     "name": "stderr",
     "output_type": "stream",
     "text": [
      "\r",
      "Finding Elimination Order: : 100%|██████████| 6/6 [00:00<00:00, 2306.46it/s]"
     ]
    },
    {
     "name": "stderr",
     "output_type": "stream",
     "text": [
      "\n",
      "\r",
      "  0%|          | 0/6 [00:00<?, ?it/s]"
     ]
    },
    {
     "name": "stderr",
     "output_type": "stream",
     "text": [
      "\r",
      "Eliminating: ToolType:   0%|          | 0/6 [00:00<?, ?it/s]"
     ]
    },
    {
     "name": "stderr",
     "output_type": "stream",
     "text": [
      "\r",
      "Eliminating: WorkCapacity:   0%|          | 0/6 [00:00<?, ?it/s]"
     ]
    },
    {
     "name": "stderr",
     "output_type": "stream",
     "text": [
      "\r",
      "Eliminating: ExertionLevel:   0%|          | 0/6 [00:00<?, ?it/s]"
     ]
    },
    {
     "name": "stderr",
     "output_type": "stream",
     "text": [
      "\r",
      "Eliminating: InjuryType:   0%|          | 0/6 [00:00<?, ?it/s]   "
     ]
    },
    {
     "name": "stderr",
     "output_type": "stream",
     "text": [
      "\r",
      "Eliminating: TrainingLevel:   0%|          | 0/6 [00:00<?, ?it/s]"
     ]
    },
    {
     "name": "stderr",
     "output_type": "stream",
     "text": [
      "\r",
      "Eliminating: ProcessType:   0%|          | 0/6 [00:00<?, ?it/s]  "
     ]
    },
    {
     "name": "stderr",
     "output_type": "stream",
     "text": [
      "\r",
      "Eliminating: ProcessType: 100%|██████████| 6/6 [00:00<00:00, 77.17it/s]"
     ]
    },
    {
     "name": "stdout",
     "output_type": "stream",
     "text": [
      "+--------------------------+-------------------------+\n",
      "| AbsenteeismLevel         |   phi(AbsenteeismLevel) |\n",
      "+==========================+=========================+\n",
      "| AbsenteeismLevel(High)   |                  0.4973 |\n",
      "+--------------------------+-------------------------+\n",
      "| AbsenteeismLevel(Low)    |                  0.3987 |\n",
      "+--------------------------+-------------------------+\n",
      "| AbsenteeismLevel(Medium) |                  0.1040 |\n",
      "+--------------------------+-------------------------+\n"
     ]
    },
    {
     "name": "stderr",
     "output_type": "stream",
     "text": [
      "\n"
     ]
    }
   ],
   "source": [
    "EA_1: DiscreteFactor = elim.query(variables = [AbsenteeismLevel.var], evidence = {ExperienceLevel.var : 'High', Time.var: OBS_STATE_TIME})\n",
    "print(EA_1)"
   ]
  },
  {
   "cell_type": "code",
   "execution_count": 22,
   "metadata": {
    "lines_to_next_cell": 0,
    "title": "codecell"
   },
   "outputs": [
    {
     "name": "stderr",
     "output_type": "stream",
     "text": [
      "\r",
      "  0%|          | 0/6 [00:00<?, ?it/s]"
     ]
    },
    {
     "name": "stderr",
     "output_type": "stream",
     "text": [
      "\r",
      "Finding Elimination Order: :   0%|          | 0/6 [00:00<?, ?it/s]"
     ]
    },
    {
     "name": "stderr",
     "output_type": "stream",
     "text": [
      "\r",
      "Finding Elimination Order: : 100%|██████████| 6/6 [00:00<00:00, 2260.27it/s]"
     ]
    },
    {
     "name": "stderr",
     "output_type": "stream",
     "text": [
      "\n",
      "\r",
      "  0%|          | 0/6 [00:00<?, ?it/s]"
     ]
    },
    {
     "name": "stderr",
     "output_type": "stream",
     "text": [
      "\r",
      "Eliminating: ToolType:   0%|          | 0/6 [00:00<?, ?it/s]"
     ]
    },
    {
     "name": "stderr",
     "output_type": "stream",
     "text": [
      "\r",
      "Eliminating: WorkCapacity:   0%|          | 0/6 [00:00<?, ?it/s]"
     ]
    },
    {
     "name": "stderr",
     "output_type": "stream",
     "text": [
      "\r",
      "Eliminating: ExertionLevel:   0%|          | 0/6 [00:00<?, ?it/s]"
     ]
    },
    {
     "name": "stderr",
     "output_type": "stream",
     "text": [
      "\r",
      "Eliminating: InjuryType:   0%|          | 0/6 [00:00<?, ?it/s]   "
     ]
    },
    {
     "name": "stderr",
     "output_type": "stream",
     "text": [
      "\r",
      "Eliminating: TrainingLevel:   0%|          | 0/6 [00:00<?, ?it/s]"
     ]
    },
    {
     "name": "stderr",
     "output_type": "stream",
     "text": [
      "\r",
      "Eliminating: ProcessType:   0%|          | 0/6 [00:00<?, ?it/s]  "
     ]
    },
    {
     "name": "stderr",
     "output_type": "stream",
     "text": [
      "\r",
      "Eliminating: ProcessType: 100%|██████████| 6/6 [00:00<00:00, 106.88it/s]"
     ]
    },
    {
     "name": "stdout",
     "output_type": "stream",
     "text": [
      "+--------------------------+-------------------------+\n",
      "| AbsenteeismLevel         |   phi(AbsenteeismLevel) |\n",
      "+==========================+=========================+\n",
      "| AbsenteeismLevel(High)   |                  0.3885 |\n",
      "+--------------------------+-------------------------+\n",
      "| AbsenteeismLevel(Low)    |                  0.3553 |\n",
      "+--------------------------+-------------------------+\n",
      "| AbsenteeismLevel(Medium) |                  0.2561 |\n",
      "+--------------------------+-------------------------+\n"
     ]
    },
    {
     "name": "stderr",
     "output_type": "stream",
     "text": [
      "\n"
     ]
    }
   ],
   "source": [
    "EA_2: DiscreteFactor = elim.query(variables = [AbsenteeismLevel.var], evidence = {ExperienceLevel.var : 'Medium', Time.var : OBS_STATE_TIME})\n",
    "print(EA_2)"
   ]
  },
  {
   "cell_type": "code",
   "execution_count": 23,
   "metadata": {
    "lines_to_next_cell": 0,
    "title": "codecell"
   },
   "outputs": [
    {
     "name": "stderr",
     "output_type": "stream",
     "text": [
      "\r",
      "  0%|          | 0/6 [00:00<?, ?it/s]"
     ]
    },
    {
     "name": "stderr",
     "output_type": "stream",
     "text": [
      "\r",
      "Finding Elimination Order: :   0%|          | 0/6 [00:00<?, ?it/s]"
     ]
    },
    {
     "name": "stderr",
     "output_type": "stream",
     "text": [
      "\r",
      "Finding Elimination Order: : 100%|██████████| 6/6 [00:00<00:00, 1474.27it/s]"
     ]
    },
    {
     "name": "stderr",
     "output_type": "stream",
     "text": [
      "\n",
      "\r",
      "  0%|          | 0/6 [00:00<?, ?it/s]"
     ]
    },
    {
     "name": "stderr",
     "output_type": "stream",
     "text": [
      "\r",
      "Eliminating: ToolType:   0%|          | 0/6 [00:00<?, ?it/s]"
     ]
    },
    {
     "name": "stderr",
     "output_type": "stream",
     "text": [
      "\r",
      "Eliminating: WorkCapacity:   0%|          | 0/6 [00:00<?, ?it/s]"
     ]
    },
    {
     "name": "stderr",
     "output_type": "stream",
     "text": [
      "\r",
      "Eliminating: ExertionLevel:   0%|          | 0/6 [00:00<?, ?it/s]"
     ]
    },
    {
     "name": "stderr",
     "output_type": "stream",
     "text": [
      "\r",
      "Eliminating: InjuryType:   0%|          | 0/6 [00:00<?, ?it/s]   "
     ]
    },
    {
     "name": "stderr",
     "output_type": "stream",
     "text": [
      "\r",
      "Eliminating: TrainingLevel:   0%|          | 0/6 [00:00<?, ?it/s]"
     ]
    },
    {
     "name": "stderr",
     "output_type": "stream",
     "text": [
      "\r",
      "Eliminating: ProcessType:   0%|          | 0/6 [00:00<?, ?it/s]  "
     ]
    },
    {
     "name": "stderr",
     "output_type": "stream",
     "text": [
      "\r",
      "Eliminating: ProcessType: 100%|██████████| 6/6 [00:00<00:00, 50.58it/s]"
     ]
    },
    {
     "name": "stderr",
     "output_type": "stream",
     "text": [
      "\r",
      "Eliminating: ProcessType: 100%|██████████| 6/6 [00:00<00:00, 47.96it/s]"
     ]
    },
    {
     "name": "stdout",
     "output_type": "stream",
     "text": [
      "+--------------------------+-------------------------+\n",
      "| AbsenteeismLevel         |   phi(AbsenteeismLevel) |\n",
      "+==========================+=========================+\n",
      "| AbsenteeismLevel(High)   |                  0.3885 |\n",
      "+--------------------------+-------------------------+\n",
      "| AbsenteeismLevel(Low)    |                  0.3553 |\n",
      "+--------------------------+-------------------------+\n",
      "| AbsenteeismLevel(Medium) |                  0.2561 |\n",
      "+--------------------------+-------------------------+\n"
     ]
    },
    {
     "name": "stderr",
     "output_type": "stream",
     "text": [
      "\n"
     ]
    }
   ],
   "source": [
    "EA_3: DiscreteFactor = elim.query(variables = [AbsenteeismLevel.var], evidence = {ExperienceLevel.var : 'Low', Time.var : OBS_STATE_TIME})\n",
    "print(EA_3)"
   ]
  },
  {
   "cell_type": "markdown",
   "metadata": {
    "lines_to_next_cell": 0,
    "title": "markdown"
   },
   "source": [
    "\n",
    "The probabilities above are stated formulaically as follows:\n",
    "$$\n",
    "\\begin{array}{ll}\n",
    "P(\\text{AbsenteeismLevel} = \\text{High} \\; | \\; \\Big\\{ \\text{Time} = 23  \\Big\\}) = 0.4965 \\\\\n",
    "\\ne P(\\text{AbsenteeismLevel} = \\text{High} \\; | \\; \\Big\\{\\text{Time} = 23 \\Big\\} \\; \\cap \\; \\text{ExperienceLevel} = \\text{Low}) = 0.3885  \\\\\n",
    "\\ne P(\\text{AbsenteeismLevel} = \\text{High} \\; | \\; \\Big\\{\\text{Time} = 23 \\Big\\} \\; \\cap \\; \\text{ExperienceLevel} = \\text{Medium}) = 0.3885 \\\\\n",
    "\\ne P(\\text{AbsenteeismLevel} = \\text{High} \\; | \\; \\Big\\{\\text{Time} = 23 \\Big\\} \\; \\cap \\; \\text{ExperienceLevel} = \\text{High}) = 0.4973\n",
    "\\end{array}\n",
    "$$\n",
    "\n",
    "$$\n",
    "\\begin{array}{ll}\n",
    "P(\\text{AbsenteeismLevel} = \\text{Low} \\; | \\; \\Big\\{ \\text{Time} = 23  \\Big\\}) = 0.4965 \\\\\n",
    "\\ne P(\\text{AbsenteeismLevel} = \\text{Low} \\; | \\; \\Big\\{\\text{Time} = 23 \\Big\\} \\; \\cap \\; \\text{ExperienceLevel} = \\text{Low}) = 0.3553 \\\\\n",
    "\\ne P(\\text{AbsenteeismLevel} = \\text{Low} \\; | \\; \\Big\\{\\text{Time} = 23 \\Big\\} \\; \\cap \\; \\text{ExperienceLevel} = \\text{Medium}) = 0.3553 \\\\\n",
    "\\ne P(\\text{AbsenteeismLevel} = \\text{Low} \\; | \\; \\Big\\{\\text{Time} = 23 \\Big\\} \\; \\cap \\; \\text{ExperienceLevel} = \\text{High}) = 0.3987\n",
    "\\end{array}\n",
    "$$\n",
    "\n",
    "$$\n",
    "\\begin{array}{ll}\n",
    "P(\\text{AbsenteeismLevel} = \\text{Medium} \\; | \\; \\Big\\{ \\text{Time} = 23  \\Big\\}) = 0.4965 \\\\\n",
    "\\ne P(\\text{AbsenteeismLevel} = \\text{Medium} \\; | \\; \\Big\\{\\text{Time} = 23 \\Big\\} \\; \\cap \\; \\text{ExperienceLevel} = \\text{Low}) = 0.2561 \\\\\n",
    "\\ne P(\\text{AbsenteeismLevel} = \\text{Medium} \\; | \\; \\Big\\{\\text{Time} = 23 \\Big\\} \\; \\cap \\; \\text{ExperienceLevel} = \\text{Medium}) = 0.2561 \\\\\n",
    "\\ne P(\\text{AbsenteeismLevel} = \\text{Medium} \\; | \\; \\Big\\{\\text{Time} = 23 \\Big\\} \\; \\cap \\; \\text{ExperienceLevel} = \\text{High}) = 0.1040\n",
    "\\end{array}\n",
    "$$\n",
    "\n",
    "\n",
    "Since not all the above stated probabilities are equal for each state of `AbsenteeismLevel` = `Low`, `Medium`, `High`, we can assert that the random variables `ExperienceLevel` and `AbsenteeismLevel` are dependent of each other, when not observing `WorkCapacity` state (while  observing the state of `Time` to adjust for backdoors). Arbitrarily choosing the state `backdoorStates` = `{Time = 23}`, we can write:\n",
    "$$\n",
    "P(\\text{AbsenteeismLevel} \\; | \\; \\{\\texttt{backdoorStates} \\}) \\ne P(\\text{AbsenteeismLevel} \\; | \\; \\{ \\texttt{backdoorStates} \\} \\; \\cap \\; \\text{ExperienceLevel})\n",
    "$$"
   ]
  },
  {
   "cell_type": "code",
   "execution_count": 24,
   "metadata": {
    "title": "codecell"
   },
   "outputs": [],
   "source": [
    "\n",
    "assert not allEqual(EA.values, EA_1.values, EA_2.values, EA_3.values), \"Check: the random variables Experience and Absenteeism are dependent, when intermediary node WorkCapacity is NOT observed (while accounting for backdoors)\"\n",
    "\n"
   ]
  },
  {
   "cell_type": "code",
   "execution_count": 25,
   "metadata": {
    "title": "codecell"
   },
   "outputs": [],
   "source": [
    "# TODO: create \"getallcausalchainswithinmodel\" function , where we traverse each path and get all three-way causal chains\n",
    "# TODO do the same for common parent and common effect models"
   ]
  }
 ],
 "metadata": {
  "jupytext": {
   "cell_metadata_filter": "title,-all"
  },
  "kernelspec": {
   "display_name": "pybayesian_env",
   "language": "python",
   "name": "pybayesian_env"
  },
  "language_info": {
   "codemirror_mode": {
    "name": "ipython",
    "version": 3
   },
   "file_extension": ".py",
   "mimetype": "text/x-python",
   "name": "python",
   "nbconvert_exporter": "python",
   "pygments_lexer": "ipython3",
   "version": "3.7.6"
  }
 },
 "nbformat": 4,
 "nbformat_minor": 4
}
