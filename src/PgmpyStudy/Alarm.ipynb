{
 "cells": [
  {
   "cell_type": "markdown",
   "metadata": {
    "title": "markdown"
   },
   "source": [
    "[Source for tutorial](https://github.com/pgmpy/pgmpy/blob/dev/examples/Alarm.ipynb)\n",
    "\n",
    "\n",
    "# Alarm Bayesian Network\n",
    "Creating the Alarm Bayesian network using pgmpy and doing some simple queries (mentioned in Bayesian Artificial Intelligence, Section 2.5.1: )"
   ]
  },
  {
   "cell_type": "markdown",
   "metadata": {
    "lines_to_next_cell": 0,
    "title": "markdown"
   },
   "source": [
    "Doing path-setting:"
   ]
  },
  {
   "cell_type": "code",
   "execution_count": 1,
   "metadata": {
    "title": "codecell"
   },
   "outputs": [
    {
     "name": "stdout",
     "output_type": "stream",
     "text": [
      "curPath =  /development/projects/statisticallyfit/github/learningmathstat/PythonProbabilisticGraphicalModels/src/PgmpyStudy/ \n",
      "\n",
      "dataPath =  /development/projects/statisticallyfit/github/learningmathstat/PythonProbabilisticGraphicalModels/src/PgmpyStudy/data/ \n",
      "\n",
      "imagePath =  /development/projects/statisticallyfit/github/learningmathstat/PythonProbabilisticGraphicalModels/src/PgmpyStudy/images/ \n",
      "\n"
     ]
    },
    {
     "data": {
      "text/plain": [
       "['/development/projects/statisticallyfit/github/learningmathstat/PythonProbabilisticGraphicalModels/src/PgmpyStudy',\n",
       " '/development/bin/python/conda3_ana/envs/pybayesian_env/lib/python37.zip',\n",
       " '/development/bin/python/conda3_ana/envs/pybayesian_env/lib/python3.7',\n",
       " '/development/bin/python/conda3_ana/envs/pybayesian_env/lib/python3.7/lib-dynload',\n",
       " '',\n",
       " '/development/bin/python/conda3_ana/envs/pybayesian_env/lib/python3.7/site-packages',\n",
       " '/development/bin/python/conda3_ana/envs/pybayesian_env/lib/python3.7/site-packages/IPython/extensions',\n",
       " '/home/statisticallyfit/.ipython',\n",
       " '/development/projects/statisticallyfit/github/learningmathstat/PythonProbabilisticGraphicalModels/src/utils/',\n",
       " '/development/projects/statisticallyfit/github/learningmathstat/PythonProbabilisticGraphicalModels/src/PgmpyStudy/']"
      ]
     },
     "execution_count": 1,
     "metadata": {},
     "output_type": "execute_result"
    }
   ],
   "source": [
    "import os\n",
    "import sys\n",
    "from typing import *\n",
    "from typing import Union, List, Any\n",
    "\n",
    "import itertools\n",
    "\n",
    "os.getcwd()\n",
    "# Setting the baseline:\n",
    "os.chdir('/development/projects/statisticallyfit/github/learningmathstat/PythonProbabilisticGraphicalModels')\n",
    "\n",
    "\n",
    "curPath: str = os.getcwd() + \"/src/PgmpyStudy/\"\n",
    "\n",
    "dataPath: str = curPath + \"data/\"\n",
    "\n",
    "imagePath: str = curPath + 'images/'\n",
    "\n",
    "print(\"curPath = \", curPath, \"\\n\")\n",
    "print(\"dataPath = \", dataPath, \"\\n\")\n",
    "print('imagePath = ', imagePath, \"\\n\")\n",
    "\n",
    "\n",
    "# Making files in utils folder visible here: to import my local print functions for nn.Module objects\n",
    "sys.path.append(os.getcwd() + \"/src/utils/\")\n",
    "# For being able to import files within PgmpyStudy folder\n",
    "sys.path.append(curPath)\n",
    "\n",
    "#sys.path.remove('/development/projects/statisticallyfit/github/learningmathstat/PythonNeuralNetNLP/src/utils/')\n",
    "#sys.path.remove('/development/projects/statisticallyfit/github/learningmathstat/PythonNeuralNetNLP/src/PgmpyStudy/')\n",
    "\n",
    "sys.path"
   ]
  },
  {
   "cell_type": "markdown",
   "metadata": {
    "lines_to_next_cell": 0,
    "title": "markdown"
   },
   "source": [
    "Science imports:"
   ]
  },
  {
   "cell_type": "code",
   "execution_count": 2,
   "metadata": {
    "lines_to_next_cell": 0,
    "title": "codecell"
   },
   "outputs": [],
   "source": [
    "from pgmpy.models import BayesianModel\n",
    "from pgmpy.inference import VariableElimination\n",
    "from pgmpy.factors.discrete import TabularCPD\n",
    "from pgmpy.factors.discrete import JointProbabilityDistribution\n",
    "from pgmpy.factors.discrete.DiscreteFactor import DiscreteFactor\n",
    "from pgmpy.independencies import Independencies\n",
    "from pgmpy.independencies.Independencies import IndependenceAssertion\n",
    "\n",
    "\n",
    "from operator import mul\n",
    "from functools import reduce\n",
    "\n",
    "\n",
    "from src.utils.GraphvizUtil import *\n",
    "from src.utils.NetworkUtil import *"
   ]
  },
  {
   "cell_type": "markdown",
   "metadata": {
    "lines_to_next_cell": 0,
    "title": "markdown"
   },
   "source": [
    "## Problem Statement: 2.5.1 Earthquake Alarm\n",
    "**Example statement:** You have a new burglar alarm installed. It reliably detects burglary, but also responds to minor earthquakes. Two neighbors, John and Mary, promise to call the police when they hear the alarm. John always calls when he hears the alarm, but sometimes confuses the alarm with the phone ringing and calls then also. On the other hand, Mary likes loud music and sometimes doesn't hear the alarm. Given evidence about who has and hasn't called, you'd like to estimate the probability of a burglary alarm (from Pearl (1988)).\n"
   ]
  },
  {
   "cell_type": "code",
   "execution_count": 3,
   "metadata": {
    "title": "codecell"
   },
   "outputs": [
    {
     "name": "stdout",
     "output_type": "stream",
     "text": [
      "+-----------------+-------+\n",
      "| Burglary(True)  | 0.001 |\n",
      "+-----------------+-------+\n",
      "| Burglary(False) | 0.999 |\n",
      "+-----------------+-------+\n"
     ]
    }
   ],
   "source": [
    "\n",
    "import collections\n",
    "\n",
    "# Creating some names for the random variables (nodes) in the graph, to clarify meaning.\n",
    "\n",
    "# Create named tuple class with names \"Names\" and \"Objects\"\n",
    "RandomVariable = collections.namedtuple(\"RandomVariable\", [\"var\", \"states\"])\n",
    "\n",
    "Burglary = RandomVariable(var = \"Burglary\", states = ['True', 'False'])\n",
    "Earthquake = RandomVariable(var = \"Earthquake\", states = ['True', 'False'])\n",
    "Alarm = RandomVariable(var = \"Alarm\", states = ['True', 'False'])\n",
    "JohnCalls = RandomVariable(var = \"JohnCalls\", states = ['True', 'False'])\n",
    "MaryCalls = RandomVariable(var = \"MaryCalls\", states = ['True', 'False'])\n",
    "\n",
    "#Burglary: Dict[Variable, List[State]] = {Burglary.var: ['True', 'False']}\n",
    "#Earthquake: Dict[Variable, List[State]] = {Earthquake.var: ['True', 'False']}\n",
    "#Alarm: Dict[Variable, List[State]] = {Alarm.var: ['True', 'False']}\n",
    "#JohnCalls: Dict[Variable, List[State]] = {JohnCalls.var: ['True', 'False']}\n",
    "#MaryCalls: Dict[Variable, List[State]] = {MaryCalls.var: ['True', 'False']}\n",
    "\n",
    "\n",
    "# Defining the network structure:\n",
    "#alarmModel: BayesianModel = BayesianModel([(Burglary.variable, Alarm.variable),\n",
    "#                                           (Earthquake.variable, Alarm.variable),\n",
    "#                                           (Alarm.variable, JohnCalls.variable),\n",
    "#                                           (Alarm.variable, MaryCalls.variable)])\n",
    "\n",
    "alarmModel: BayesianModel = BayesianModel([(Burglary.var, Alarm.var),\n",
    "                                          (Earthquake.var, Alarm.var),\n",
    "                                          (Alarm.var, JohnCalls.var),\n",
    "                                          (Alarm.var, MaryCalls.var)])\n",
    "\n",
    "# Defining parameters using CPT\n",
    "\n",
    "cpdBurglary: TabularCPD = TabularCPD(variable = Burglary.var, variable_card = len(Burglary.states),\n",
    "                                     values = [[0.001, 0.999]],\n",
    "                                     state_names = {Burglary.var : Burglary.states})\n",
    "\n",
    "print(cpdBurglary)"
   ]
  },
  {
   "cell_type": "code",
   "execution_count": 4,
   "metadata": {
    "title": "codecell"
   },
   "outputs": [
    {
     "name": "stdout",
     "output_type": "stream",
     "text": [
      "+-------------------+-------+\n",
      "| Earthquake(True)  | 0.002 |\n",
      "+-------------------+-------+\n",
      "| Earthquake(False) | 0.998 |\n",
      "+-------------------+-------+\n"
     ]
    }
   ],
   "source": [
    "cpdEarthquake: TabularCPD = TabularCPD(variable = Earthquake.var,\n",
    "                                       variable_card = len(Earthquake.states),\n",
    "                                       values = [[0.002, 0.998]],\n",
    "                                       state_names = {Earthquake.var : Earthquake.states})\n",
    "\n",
    "print(cpdEarthquake)"
   ]
  },
  {
   "cell_type": "code",
   "execution_count": 5,
   "metadata": {
    "title": "codecell"
   },
   "outputs": [
    {
     "name": "stdout",
     "output_type": "stream",
     "text": [
      "+--------------+------------------+-------------------+------------------+-------------------+\n",
      "| Burglary     | Burglary(True)   | Burglary(True)    | Burglary(False)  | Burglary(False)   |\n",
      "+--------------+------------------+-------------------+------------------+-------------------+\n",
      "| Earthquake   | Earthquake(True) | Earthquake(False) | Earthquake(True) | Earthquake(False) |\n",
      "+--------------+------------------+-------------------+------------------+-------------------+\n",
      "| Alarm(True)  | 0.95             | 0.94              | 0.29             | 0.001             |\n",
      "+--------------+------------------+-------------------+------------------+-------------------+\n",
      "| Alarm(False) | 0.05             | 0.06              | 0.71             | 0.999             |\n",
      "+--------------+------------------+-------------------+------------------+-------------------+\n"
     ]
    }
   ],
   "source": [
    "cpdAlarm: TabularCPD = TabularCPD(variable = Alarm.var,\n",
    "                                  variable_card = len(Alarm.states),\n",
    "                                  values = [[0.95, 0.94, 0.29, 0.001],\n",
    "                                            [0.05, 0.06, 0.71, 0.999]],\n",
    "                                  evidence = [Burglary.var, Earthquake.var],\n",
    "                                  evidence_card = [len(Burglary.states), len(Earthquake.states)],\n",
    "                                  state_names = {Alarm.var: Alarm.states,\n",
    "                                                 Burglary.var : Burglary.states,\n",
    "                                                 Earthquake.var : Earthquake.states})\n",
    "print(cpdAlarm)\n",
    "\n",
    "\n",
    "#def toDict(tup: RandomVariable):\n",
    "#    return {tup.var : tup.states}"
   ]
  },
  {
   "cell_type": "code",
   "execution_count": 6,
   "metadata": {
    "title": "codecell"
   },
   "outputs": [
    {
     "name": "stdout",
     "output_type": "stream",
     "text": [
      "+------------------+-------------+--------------+\n",
      "| Alarm            | Alarm(True) | Alarm(False) |\n",
      "+------------------+-------------+--------------+\n",
      "| JohnCalls(True)  | 0.9         | 0.05         |\n",
      "+------------------+-------------+--------------+\n",
      "| JohnCalls(False) | 0.1         | 0.95         |\n",
      "+------------------+-------------+--------------+\n"
     ]
    }
   ],
   "source": [
    "cpdJohnCalls: TabularCPD = TabularCPD(variable = JohnCalls.var, variable_card = len(JohnCalls.states),\n",
    "                                      values = [[0.90, 0.05],\n",
    "                                                [0.10, 0.95]],\n",
    "                                      evidence = [Alarm.var], evidence_card = [len(Alarm.states)],\n",
    "                                      state_names = {JohnCalls.var : JohnCalls.states,\n",
    "                                                     Alarm.var : Alarm.states})\n",
    "print(cpdJohnCalls)"
   ]
  },
  {
   "cell_type": "code",
   "execution_count": 7,
   "metadata": {
    "title": "codecell"
   },
   "outputs": [
    {
     "name": "stdout",
     "output_type": "stream",
     "text": [
      "+------------------+-------------+--------------+\n",
      "| Alarm            | Alarm(True) | Alarm(False) |\n",
      "+------------------+-------------+--------------+\n",
      "| MaryCalls(True)  | 0.7         | 0.01         |\n",
      "+------------------+-------------+--------------+\n",
      "| MaryCalls(False) | 0.3         | 0.99         |\n",
      "+------------------+-------------+--------------+\n"
     ]
    }
   ],
   "source": [
    "cpdMaryCalls: TabularCPD = TabularCPD(variable = MaryCalls.var, variable_card = len(MaryCalls.states),\n",
    "                                      values = [[0.70, 0.01],\n",
    "                                                [0.30, 0.99]],\n",
    "                                      evidence = [Alarm.var], evidence_card = [len(Alarm.states)],\n",
    "                                      state_names = {MaryCalls.var: MaryCalls.states,\n",
    "                                                     Alarm.var : Alarm.states})\n",
    "print(cpdMaryCalls)"
   ]
  },
  {
   "cell_type": "code",
   "execution_count": 8,
   "metadata": {
    "lines_to_next_cell": 2,
    "title": "codecell"
   },
   "outputs": [],
   "source": [
    "alarmModel.add_cpds(cpdBurglary, cpdEarthquake, cpdAlarm, cpdJohnCalls, cpdMaryCalls)\n",
    "\n",
    "assert alarmModel.check_model()"
   ]
  },
  {
   "cell_type": "markdown",
   "metadata": {
    "lines_to_next_cell": 0,
    "title": "markdown"
   },
   "source": [
    "Making a brief-name version for viewing clarity, in tables:"
   ]
  },
  {
   "cell_type": "code",
   "execution_count": 9,
   "metadata": {
    "lines_to_next_cell": 2,
    "title": "codecell"
   },
   "outputs": [],
   "source": [
    "alarmModel_brief: BayesianModel = BayesianModel([(Burglary.var[0], Alarm.var[0]),\n",
    "                                          (Earthquake.var[0], Alarm.var[0]),\n",
    "                                          (Alarm.var[0], JohnCalls.var[0]),\n",
    "                                          (Alarm.var[0], MaryCalls.var[0])])\n",
    "\n",
    "# Defining parameters using CPT\n",
    "\n",
    "cpdBurglary: TabularCPD = TabularCPD(variable = Burglary.var[0], variable_card = len(Burglary.states),\n",
    "                                     values = [[0.001, 0.999]],\n",
    "                                     state_names = {Burglary.var[0] : Burglary.states})\n",
    "\n",
    "\n",
    "cpdEarthquake: TabularCPD = TabularCPD(variable = Earthquake.var[0],\n",
    "                                       variable_card = len(Earthquake.states),\n",
    "                                       values = [[0.002, 0.998]],\n",
    "                                       state_names = {Earthquake.var[0] : Earthquake.states})\n",
    "\n",
    "\n",
    "cpdAlarm: TabularCPD = TabularCPD(variable = Alarm.var[0],\n",
    "                                  variable_card = len(Alarm.states),\n",
    "                                  values = [[0.95, 0.94, 0.29, 0.001],\n",
    "                                            [0.05, 0.06, 0.71, 0.999]],\n",
    "                                  evidence = [Burglary.var[0], Earthquake.var[0]],\n",
    "                                  evidence_card = [len(Burglary.states), len(Earthquake.states)],\n",
    "                                  state_names = {Alarm.var[0]: Alarm.states,\n",
    "                                                 Burglary.var[0] : Burglary.states,\n",
    "                                                 Earthquake.var[0] : Earthquake.states})\n",
    "\n",
    "cpdJohnCalls: TabularCPD = TabularCPD(variable = JohnCalls.var[0], variable_card = len(JohnCalls.states),\n",
    "                                      values = [[0.90, 0.05],\n",
    "                                                [0.10, 0.95]],\n",
    "                                      evidence = [Alarm.var[0]], evidence_card = [len(Alarm.states)],\n",
    "                                      state_names = {JohnCalls.var[0] : JohnCalls.states,\n",
    "                                                     Alarm.var[0] : Alarm.states})\n",
    "\n",
    "cpdMaryCalls: TabularCPD = TabularCPD(variable = MaryCalls.var[0], variable_card = len(MaryCalls.states),\n",
    "                                      values = [[0.70, 0.01],\n",
    "                                                [0.30, 0.99]],\n",
    "                                      evidence = [Alarm.var[0]], evidence_card = [len(Alarm.states)],\n",
    "                                      state_names = {MaryCalls.var[0]: MaryCalls.states,\n",
    "                                                     Alarm.var[0] : Alarm.states})\n",
    "\n",
    "alarmModel_brief.add_cpds(cpdBurglary, cpdEarthquake, cpdAlarm, cpdJohnCalls, cpdMaryCalls)\n",
    "\n",
    "assert alarmModel_brief.check_model()"
   ]
  },
  {
   "cell_type": "code",
   "execution_count": 10,
   "metadata": {
    "lines_to_next_cell": 2,
    "title": "codecell"
   },
   "outputs": [
    {
     "data": {
      "image/svg+xml": [
       "<?xml version=\"1.0\" encoding=\"UTF-8\" standalone=\"no\"?>\n",
       "<!DOCTYPE svg PUBLIC \"-//W3C//DTD SVG 1.1//EN\"\n",
       " \"http://www.w3.org/Graphics/SVG/1.1/DTD/svg11.dtd\">\n",
       "<!-- Generated by graphviz version 2.38.0 (20140413.2041)\n",
       " -->\n",
       "<!-- Title: G Pages: 1 -->\n",
       "<svg width=\"689pt\" height=\"358pt\"\n",
       " viewBox=\"0.00 0.00 689.00 358.00\" xmlns=\"http://www.w3.org/2000/svg\" xmlns:xlink=\"http://www.w3.org/1999/xlink\">\n",
       "<g id=\"graph0\" class=\"graph\" transform=\"scale(1 1) rotate(0) translate(4 354)\">\n",
       "<title>G</title>\n",
       "<polygon fill=\"white\" stroke=\"none\" points=\"-4,4 -4,-354 685,-354 685,4 -4,4\"/>\n",
       "<!-- Burglary -->\n",
       "<g id=\"node1\" class=\"node\"><title>Burglary</title>\n",
       "<defs>\n",
       "<linearGradient id=\"l_0\" gradientUnits=\"userSpaceOnUse\" x1=\"257\" y1=\"-200\" x2=\"257\" y2=\"-236\" >\n",
       "<stop offset=\"0\" style=\"stop-color:#ceccff;stop-opacity:1.;\"/>\n",
       "<stop offset=\"1\" style=\"stop-color:white;stop-opacity:1.;\"/>\n",
       "</linearGradient>\n",
       "</defs>\n",
       "<ellipse fill=\"url(#l_0)\" stroke=\"#ff638d\" cx=\"257\" cy=\"-218\" rx=\"41.7203\" ry=\"18\"/>\n",
       "<text text-anchor=\"middle\" x=\"257\" y=\"-214.9\" font-family=\"Acme-Regular.ttf\" font-size=\"12.00\">Burglary</text>\n",
       "</g>\n",
       "<!-- Alarm -->\n",
       "<g id=\"node2\" class=\"node\"><title>Alarm</title>\n",
       "<defs>\n",
       "<linearGradient id=\"l_1\" gradientUnits=\"userSpaceOnUse\" x1=\"401\" y1=\"-86\" x2=\"401\" y2=\"-122\" >\n",
       "<stop offset=\"0\" style=\"stop-color:#ceccff;stop-opacity:1.;\"/>\n",
       "<stop offset=\"1\" style=\"stop-color:white;stop-opacity:1.;\"/>\n",
       "</linearGradient>\n",
       "</defs>\n",
       "<ellipse fill=\"url(#l_1)\" stroke=\"#ff638d\" cx=\"401\" cy=\"-104\" rx=\"32.7527\" ry=\"18\"/>\n",
       "<text text-anchor=\"middle\" x=\"401\" y=\"-100.9\" font-family=\"Acme-Regular.ttf\" font-size=\"12.00\">Alarm</text>\n",
       "</g>\n",
       "<!-- Burglary&#45;&gt;Alarm -->\n",
       "<g id=\"edge1\" class=\"edge\"><title>Burglary&#45;&gt;Alarm</title>\n",
       "<path fill=\"none\" stroke=\"#ff638d\" d=\"M273.706,-201.096C283.23,-192.252 295.521,-181.207 307,-172 328.188,-155.005 353.289,-137.225 372.221,-124.255\"/>\n",
       "<polygon fill=\"#ff638d\" stroke=\"#ff638d\" points=\"374.413,-126.997 380.711,-118.477 370.475,-121.21 374.413,-126.997\"/>\n",
       "</g>\n",
       "<!-- cpd_Burglary -->\n",
       "<g id=\"node6\" class=\"node\"><title>cpd_Burglary</title>\n",
       "<polygon fill=\"white\" stroke=\"none\" points=\"340,-129 196,-129 196,-79 340,-79 340,-129\"/>\n",
       "<polygon fill=\"none\" stroke=\"gray\" points=\"204,-111 204,-125 332,-125 332,-111 204,-111\"/>\n",
       "<text text-anchor=\"start\" x=\"252.5\" y=\"-116.4\" font-family=\"Acme-Regular.ttf\" font-size=\"7.00\">Burglary</text>\n",
       "<polygon fill=\"none\" stroke=\"gray\" points=\"204,-97 204,-111 267,-111 267,-97 204,-97\"/>\n",
       "<text text-anchor=\"start\" x=\"207\" y=\"-102.4\" font-family=\"Acme-Regular.ttf\" font-size=\"7.00\">Burglary = True</text>\n",
       "<polygon fill=\"none\" stroke=\"gray\" points=\"267,-97 267,-111 332,-111 332,-97 267,-97\"/>\n",
       "<text text-anchor=\"start\" x=\"270\" y=\"-102.4\" font-family=\"Acme-Regular.ttf\" font-size=\"7.00\">Burglary = False</text>\n",
       "<polygon fill=\"none\" stroke=\"gray\" points=\"204,-83 204,-97 267,-97 267,-83 204,-83\"/>\n",
       "<text text-anchor=\"start\" x=\"225\" y=\"-88.4\" font-family=\"Acme-Regular.ttf\" font-size=\"7.00\">0.001</text>\n",
       "<polygon fill=\"none\" stroke=\"gray\" points=\"267,-83 267,-97 332,-97 332,-83 267,-83\"/>\n",
       "<text text-anchor=\"start\" x=\"289\" y=\"-88.4\" font-family=\"Acme-Regular.ttf\" font-size=\"7.00\">0.999</text>\n",
       "</g>\n",
       "<!-- Burglary&#45;&gt;cpd_Burglary -->\n",
       "<!-- JohnCalls -->\n",
       "<g id=\"node3\" class=\"node\"><title>JohnCalls</title>\n",
       "<defs>\n",
       "<linearGradient id=\"l_2\" gradientUnits=\"userSpaceOnUse\" x1=\"262\" y1=\"-1.77636e-14\" x2=\"262\" y2=\"-36\" >\n",
       "<stop offset=\"0\" style=\"stop-color:#ceccff;stop-opacity:1.;\"/>\n",
       "<stop offset=\"1\" style=\"stop-color:white;stop-opacity:1.;\"/>\n",
       "</linearGradient>\n",
       "</defs>\n",
       "<ellipse fill=\"url(#l_2)\" stroke=\"#ff638d\" cx=\"262\" cy=\"-18\" rx=\"43.9143\" ry=\"18\"/>\n",
       "<text text-anchor=\"middle\" x=\"262\" y=\"-14.9\" font-family=\"Acme-Regular.ttf\" font-size=\"12.00\">JohnCalls</text>\n",
       "</g>\n",
       "<!-- Alarm&#45;&gt;JohnCalls -->\n",
       "<g id=\"edge2\" class=\"edge\"><title>Alarm&#45;&gt;JohnCalls</title>\n",
       "<path fill=\"none\" stroke=\"#ff638d\" d=\"M379.889,-90.2422C357.198,-76.5297 320.846,-54.5614 294.503,-38.6418\"/>\n",
       "<polygon fill=\"#ff638d\" stroke=\"#ff638d\" points=\"296.01,-35.4633 285.641,-33.2866 292.389,-41.4543 296.01,-35.4633\"/>\n",
       "</g>\n",
       "<!-- MaryCalls -->\n",
       "<g id=\"node4\" class=\"node\"><title>MaryCalls</title>\n",
       "<defs>\n",
       "<linearGradient id=\"l_3\" gradientUnits=\"userSpaceOnUse\" x1=\"471\" y1=\"-1.77636e-14\" x2=\"471\" y2=\"-36\" >\n",
       "<stop offset=\"0\" style=\"stop-color:#ceccff;stop-opacity:1.;\"/>\n",
       "<stop offset=\"1\" style=\"stop-color:white;stop-opacity:1.;\"/>\n",
       "</linearGradient>\n",
       "</defs>\n",
       "<ellipse fill=\"url(#l_3)\" stroke=\"#ff638d\" cx=\"471\" cy=\"-18\" rx=\"45.6069\" ry=\"18\"/>\n",
       "<text text-anchor=\"middle\" x=\"471\" y=\"-14.9\" font-family=\"Acme-Regular.ttf\" font-size=\"12.00\">MaryCalls</text>\n",
       "</g>\n",
       "<!-- Alarm&#45;&gt;MaryCalls -->\n",
       "<g id=\"edge3\" class=\"edge\"><title>Alarm&#45;&gt;MaryCalls</title>\n",
       "<path fill=\"none\" stroke=\"#ff638d\" d=\"M414.166,-87.2002C424.496,-74.8052 439.049,-57.341 450.843,-43.1886\"/>\n",
       "<polygon fill=\"#ff638d\" stroke=\"#ff638d\" points=\"453.702,-45.2248 457.415,-35.3019 448.324,-40.7435 453.702,-45.2248\"/>\n",
       "</g>\n",
       "<!-- Earthquake -->\n",
       "<g id=\"node5\" class=\"node\"><title>Earthquake</title>\n",
       "<defs>\n",
       "<linearGradient id=\"l_4\" gradientUnits=\"userSpaceOnUse\" x1=\"598\" y1=\"-200\" x2=\"598\" y2=\"-236\" >\n",
       "<stop offset=\"0\" style=\"stop-color:#ceccff;stop-opacity:1.;\"/>\n",
       "<stop offset=\"1\" style=\"stop-color:white;stop-opacity:1.;\"/>\n",
       "</linearGradient>\n",
       "</defs>\n",
       "<ellipse fill=\"url(#l_4)\" stroke=\"#ff638d\" cx=\"598\" cy=\"-218\" rx=\"52.1504\" ry=\"18\"/>\n",
       "<text text-anchor=\"middle\" x=\"598\" y=\"-214.9\" font-family=\"Acme-Regular.ttf\" font-size=\"12.00\">Earthquake</text>\n",
       "</g>\n",
       "<!-- Earthquake&#45;&gt;Alarm -->\n",
       "<g id=\"edge4\" class=\"edge\"><title>Earthquake&#45;&gt;Alarm</title>\n",
       "<path fill=\"none\" stroke=\"#ff638d\" d=\"M579.122,-200.995C567.504,-191.688 552.008,-180.212 537,-172 497.754,-150.526 482.243,-157.479 443,-136 437.5,-132.989 431.905,-129.342 426.668,-125.622\"/>\n",
       "<polygon fill=\"#ff638d\" stroke=\"#ff638d\" points=\"428.389,-122.54 418.273,-119.391 424.217,-128.161 428.389,-122.54\"/>\n",
       "</g>\n",
       "<!-- cpd_Alarm -->\n",
       "<g id=\"node7\" class=\"node\"><title>cpd_Alarm</title>\n",
       "<polygon fill=\"white\" stroke=\"none\" points=\"527.5,-264 316.5,-264 316.5,-172 527.5,-172 527.5,-264\"/>\n",
       "<polygon fill=\"none\" stroke=\"gray\" points=\"325,-246 325,-260 520,-260 520,-246 325,-246\"/>\n",
       "<text text-anchor=\"start\" x=\"411.5\" y=\"-251.4\" font-family=\"Acme-Regular.ttf\" font-size=\"7.00\">Alarm</text>\n",
       "<polygon fill=\"none\" stroke=\"gray\" points=\"325,-232 325,-246 362,-246 362,-232 325,-232\"/>\n",
       "<text text-anchor=\"start\" x=\"328\" y=\"-237.4\" font-family=\"Acme-Regular.ttf\" font-size=\"7.00\">Burglary</text>\n",
       "<polygon fill=\"none\" stroke=\"gray\" points=\"362,-232 362,-246 410,-246 410,-232 362,-232\"/>\n",
       "<text text-anchor=\"start\" x=\"365\" y=\"-237.4\" font-family=\"Acme-Regular.ttf\" font-size=\"7.00\">Earthquake</text>\n",
       "<polygon fill=\"none\" stroke=\"gray\" points=\"410,-232 410,-246 464,-246 464,-232 410,-232\"/>\n",
       "<text text-anchor=\"start\" x=\"413\" y=\"-237.4\" font-family=\"Acme-Regular.ttf\" font-size=\"7.00\">Alarm = True</text>\n",
       "<polygon fill=\"none\" stroke=\"gray\" points=\"464,-232 464,-246 520,-246 520,-232 464,-232\"/>\n",
       "<text text-anchor=\"start\" x=\"467\" y=\"-237.4\" font-family=\"Acme-Regular.ttf\" font-size=\"7.00\">Alarm = False</text>\n",
       "<polygon fill=\"none\" stroke=\"gray\" points=\"325,-218 325,-232 362,-232 362,-218 325,-218\"/>\n",
       "<text text-anchor=\"start\" x=\"335.5\" y=\"-223.4\" font-family=\"Acme-Regular.ttf\" font-size=\"7.00\">True</text>\n",
       "<polygon fill=\"none\" stroke=\"gray\" points=\"362,-218 362,-232 410,-232 410,-218 362,-218\"/>\n",
       "<text text-anchor=\"start\" x=\"378\" y=\"-223.4\" font-family=\"Acme-Regular.ttf\" font-size=\"7.00\">True</text>\n",
       "<polygon fill=\"none\" stroke=\"gray\" points=\"410,-218 410,-232 464,-232 464,-218 410,-218\"/>\n",
       "<text text-anchor=\"start\" x=\"429\" y=\"-223.4\" font-family=\"Acme-Regular.ttf\" font-size=\"7.00\">0.95</text>\n",
       "<polygon fill=\"none\" stroke=\"gray\" points=\"464,-218 464,-232 520,-232 520,-218 464,-218\"/>\n",
       "<text text-anchor=\"start\" x=\"484\" y=\"-223.4\" font-family=\"Acme-Regular.ttf\" font-size=\"7.00\">0.05</text>\n",
       "<polygon fill=\"none\" stroke=\"gray\" points=\"325,-204 325,-218 362,-218 362,-204 325,-204\"/>\n",
       "<text text-anchor=\"start\" x=\"335.5\" y=\"-209.4\" font-family=\"Acme-Regular.ttf\" font-size=\"7.00\">True</text>\n",
       "<polygon fill=\"none\" stroke=\"gray\" points=\"362,-204 362,-218 410,-218 410,-204 362,-204\"/>\n",
       "<text text-anchor=\"start\" x=\"376.5\" y=\"-209.4\" font-family=\"Acme-Regular.ttf\" font-size=\"7.00\">False</text>\n",
       "<polygon fill=\"none\" stroke=\"gray\" points=\"410,-204 410,-218 464,-218 464,-204 410,-204\"/>\n",
       "<text text-anchor=\"start\" x=\"429\" y=\"-209.4\" font-family=\"Acme-Regular.ttf\" font-size=\"7.00\">0.94</text>\n",
       "<polygon fill=\"none\" stroke=\"gray\" points=\"464,-204 464,-218 520,-218 520,-204 464,-204\"/>\n",
       "<text text-anchor=\"start\" x=\"484\" y=\"-209.4\" font-family=\"Acme-Regular.ttf\" font-size=\"7.00\">0.06</text>\n",
       "<polygon fill=\"none\" stroke=\"gray\" points=\"325,-190 325,-204 362,-204 362,-190 325,-190\"/>\n",
       "<text text-anchor=\"start\" x=\"334\" y=\"-195.4\" font-family=\"Acme-Regular.ttf\" font-size=\"7.00\">False</text>\n",
       "<polygon fill=\"none\" stroke=\"gray\" points=\"362,-190 362,-204 410,-204 410,-190 362,-190\"/>\n",
       "<text text-anchor=\"start\" x=\"378\" y=\"-195.4\" font-family=\"Acme-Regular.ttf\" font-size=\"7.00\">True</text>\n",
       "<polygon fill=\"none\" stroke=\"gray\" points=\"410,-190 410,-204 464,-204 464,-190 410,-190\"/>\n",
       "<text text-anchor=\"start\" x=\"429\" y=\"-195.4\" font-family=\"Acme-Regular.ttf\" font-size=\"7.00\">0.29</text>\n",
       "<polygon fill=\"none\" stroke=\"gray\" points=\"464,-190 464,-204 520,-204 520,-190 464,-190\"/>\n",
       "<text text-anchor=\"start\" x=\"484\" y=\"-195.4\" font-family=\"Acme-Regular.ttf\" font-size=\"7.00\">0.71</text>\n",
       "<polygon fill=\"none\" stroke=\"gray\" points=\"325,-176 325,-190 362,-190 362,-176 325,-176\"/>\n",
       "<text text-anchor=\"start\" x=\"334\" y=\"-181.4\" font-family=\"Acme-Regular.ttf\" font-size=\"7.00\">False</text>\n",
       "<polygon fill=\"none\" stroke=\"gray\" points=\"362,-176 362,-190 410,-190 410,-176 362,-176\"/>\n",
       "<text text-anchor=\"start\" x=\"376.5\" y=\"-181.4\" font-family=\"Acme-Regular.ttf\" font-size=\"7.00\">False</text>\n",
       "<polygon fill=\"none\" stroke=\"gray\" points=\"410,-176 410,-190 464,-190 464,-176 410,-176\"/>\n",
       "<text text-anchor=\"start\" x=\"426.5\" y=\"-181.4\" font-family=\"Acme-Regular.ttf\" font-size=\"7.00\">0.001</text>\n",
       "<polygon fill=\"none\" stroke=\"gray\" points=\"464,-176 464,-190 520,-190 520,-176 464,-176\"/>\n",
       "<text text-anchor=\"start\" x=\"481.5\" y=\"-181.4\" font-family=\"Acme-Regular.ttf\" font-size=\"7.00\">0.999</text>\n",
       "</g>\n",
       "<!-- cpd_Alarm&#45;&gt;Alarm -->\n",
       "<!-- cpd_Earthquake -->\n",
       "<g id=\"node8\" class=\"node\"><title>cpd_Earthquake</title>\n",
       "<polygon fill=\"white\" stroke=\"none\" points=\"681,-350 515,-350 515,-300 681,-300 681,-350\"/>\n",
       "<polygon fill=\"none\" stroke=\"gray\" points=\"523,-332 523,-346 673,-346 673,-332 523,-332\"/>\n",
       "<text text-anchor=\"start\" x=\"577\" y=\"-337.4\" font-family=\"Acme-Regular.ttf\" font-size=\"7.00\">Earthquake</text>\n",
       "<polygon fill=\"none\" stroke=\"gray\" points=\"523,-318 523,-332 597,-332 597,-318 523,-318\"/>\n",
       "<text text-anchor=\"start\" x=\"526\" y=\"-323.4\" font-family=\"Acme-Regular.ttf\" font-size=\"7.00\">Earthquake = True</text>\n",
       "<polygon fill=\"none\" stroke=\"gray\" points=\"597,-318 597,-332 673,-332 673,-318 597,-318\"/>\n",
       "<text text-anchor=\"start\" x=\"600\" y=\"-323.4\" font-family=\"Acme-Regular.ttf\" font-size=\"7.00\">Earthquake = False</text>\n",
       "<polygon fill=\"none\" stroke=\"gray\" points=\"523,-304 523,-318 597,-318 597,-304 523,-304\"/>\n",
       "<text text-anchor=\"start\" x=\"549.5\" y=\"-309.4\" font-family=\"Acme-Regular.ttf\" font-size=\"7.00\">0.002</text>\n",
       "<polygon fill=\"none\" stroke=\"gray\" points=\"597,-304 597,-318 673,-318 673,-304 597,-304\"/>\n",
       "<text text-anchor=\"start\" x=\"624.5\" y=\"-309.4\" font-family=\"Acme-Regular.ttf\" font-size=\"7.00\">0.998</text>\n",
       "</g>\n",
       "<!-- cpd_Earthquake&#45;&gt;Earthquake -->\n",
       "<!-- cpd_JohnCalls -->\n",
       "<g id=\"node9\" class=\"node\"><title>cpd_JohnCalls</title>\n",
       "<polygon fill=\"white\" stroke=\"none\" points=\"178,-136 1.42109e-14,-136 1.42109e-14,-72 178,-72 178,-136\"/>\n",
       "<polygon fill=\"none\" stroke=\"gray\" points=\"8,-118 8,-132 170,-132 170,-118 8,-118\"/>\n",
       "<text text-anchor=\"start\" x=\"72\" y=\"-123.4\" font-family=\"Acme-Regular.ttf\" font-size=\"7.00\">JohnCalls</text>\n",
       "<polygon fill=\"none\" stroke=\"gray\" points=\"8,-104 8,-118 36,-118 36,-104 8,-104\"/>\n",
       "<text text-anchor=\"start\" x=\"11\" y=\"-109.4\" font-family=\"Acme-Regular.ttf\" font-size=\"7.00\">Alarm</text>\n",
       "<polygon fill=\"none\" stroke=\"gray\" points=\"36,-104 36,-118 102,-118 102,-104 36,-104\"/>\n",
       "<text text-anchor=\"start\" x=\"39\" y=\"-109.4\" font-family=\"Acme-Regular.ttf\" font-size=\"7.00\">JohnCalls = True</text>\n",
       "<polygon fill=\"none\" stroke=\"gray\" points=\"102,-104 102,-118 170,-118 170,-104 102,-104\"/>\n",
       "<text text-anchor=\"start\" x=\"105\" y=\"-109.4\" font-family=\"Acme-Regular.ttf\" font-size=\"7.00\">JohnCalls = False</text>\n",
       "<polygon fill=\"none\" stroke=\"gray\" points=\"8,-90 8,-104 36,-104 36,-90 8,-90\"/>\n",
       "<text text-anchor=\"start\" x=\"14\" y=\"-95.4\" font-family=\"Acme-Regular.ttf\" font-size=\"7.00\">True</text>\n",
       "<polygon fill=\"none\" stroke=\"gray\" points=\"36,-90 36,-104 102,-104 102,-90 36,-90\"/>\n",
       "<text text-anchor=\"start\" x=\"63\" y=\"-95.4\" font-family=\"Acme-Regular.ttf\" font-size=\"7.00\">0.9</text>\n",
       "<polygon fill=\"none\" stroke=\"gray\" points=\"102,-90 102,-104 170,-104 170,-90 102,-90\"/>\n",
       "<text text-anchor=\"start\" x=\"130\" y=\"-95.4\" font-family=\"Acme-Regular.ttf\" font-size=\"7.00\">0.1</text>\n",
       "<polygon fill=\"none\" stroke=\"gray\" points=\"8,-76 8,-90 36,-90 36,-76 8,-76\"/>\n",
       "<text text-anchor=\"start\" x=\"12.5\" y=\"-81.4\" font-family=\"Acme-Regular.ttf\" font-size=\"7.00\">False</text>\n",
       "<polygon fill=\"none\" stroke=\"gray\" points=\"36,-76 36,-90 102,-90 102,-76 36,-76\"/>\n",
       "<text text-anchor=\"start\" x=\"61\" y=\"-81.4\" font-family=\"Acme-Regular.ttf\" font-size=\"7.00\">0.05</text>\n",
       "<polygon fill=\"none\" stroke=\"gray\" points=\"102,-76 102,-90 170,-90 170,-76 102,-76\"/>\n",
       "<text text-anchor=\"start\" x=\"128\" y=\"-81.4\" font-family=\"Acme-Regular.ttf\" font-size=\"7.00\">0.95</text>\n",
       "</g>\n",
       "<!-- cpd_JohnCalls&#45;&gt;JohnCalls -->\n",
       "<!-- cpd_MaryCalls -->\n",
       "<g id=\"node10\" class=\"node\"><title>cpd_MaryCalls</title>\n",
       "<polygon fill=\"white\" stroke=\"none\" points=\"632.5,-136 451.5,-136 451.5,-72 632.5,-72 632.5,-136\"/>\n",
       "<polygon fill=\"none\" stroke=\"gray\" points=\"460,-118 460,-132 625,-132 625,-118 460,-118\"/>\n",
       "<text text-anchor=\"start\" x=\"525\" y=\"-123.4\" font-family=\"Acme-Regular.ttf\" font-size=\"7.00\">MaryCalls</text>\n",
       "<polygon fill=\"none\" stroke=\"gray\" points=\"460,-104 460,-118 488,-118 488,-104 460,-104\"/>\n",
       "<text text-anchor=\"start\" x=\"463\" y=\"-109.4\" font-family=\"Acme-Regular.ttf\" font-size=\"7.00\">Alarm</text>\n",
       "<polygon fill=\"none\" stroke=\"gray\" points=\"488,-104 488,-118 555,-118 555,-104 488,-104\"/>\n",
       "<text text-anchor=\"start\" x=\"491\" y=\"-109.4\" font-family=\"Acme-Regular.ttf\" font-size=\"7.00\">MaryCalls = True</text>\n",
       "<polygon fill=\"none\" stroke=\"gray\" points=\"555,-104 555,-118 625,-118 625,-104 555,-104\"/>\n",
       "<text text-anchor=\"start\" x=\"558\" y=\"-109.4\" font-family=\"Acme-Regular.ttf\" font-size=\"7.00\">MaryCalls = False</text>\n",
       "<polygon fill=\"none\" stroke=\"gray\" points=\"460,-90 460,-104 488,-104 488,-90 460,-90\"/>\n",
       "<text text-anchor=\"start\" x=\"466\" y=\"-95.4\" font-family=\"Acme-Regular.ttf\" font-size=\"7.00\">True</text>\n",
       "<polygon fill=\"none\" stroke=\"gray\" points=\"488,-90 488,-104 555,-104 555,-90 488,-90\"/>\n",
       "<text text-anchor=\"start\" x=\"515.5\" y=\"-95.4\" font-family=\"Acme-Regular.ttf\" font-size=\"7.00\">0.7</text>\n",
       "<polygon fill=\"none\" stroke=\"gray\" points=\"555,-90 555,-104 625,-104 625,-90 555,-90\"/>\n",
       "<text text-anchor=\"start\" x=\"584\" y=\"-95.4\" font-family=\"Acme-Regular.ttf\" font-size=\"7.00\">0.3</text>\n",
       "<polygon fill=\"none\" stroke=\"gray\" points=\"460,-76 460,-90 488,-90 488,-76 460,-76\"/>\n",
       "<text text-anchor=\"start\" x=\"464.5\" y=\"-81.4\" font-family=\"Acme-Regular.ttf\" font-size=\"7.00\">False</text>\n",
       "<polygon fill=\"none\" stroke=\"gray\" points=\"488,-76 488,-90 555,-90 555,-76 488,-76\"/>\n",
       "<text text-anchor=\"start\" x=\"513.5\" y=\"-81.4\" font-family=\"Acme-Regular.ttf\" font-size=\"7.00\">0.01</text>\n",
       "<polygon fill=\"none\" stroke=\"gray\" points=\"555,-76 555,-90 625,-90 625,-76 555,-76\"/>\n",
       "<text text-anchor=\"start\" x=\"582\" y=\"-81.4\" font-family=\"Acme-Regular.ttf\" font-size=\"7.00\">0.99</text>\n",
       "</g>\n",
       "<!-- cpd_MaryCalls&#45;&gt;MaryCalls -->\n",
       "</g>\n",
       "</svg>\n"
      ],
      "text/plain": [
       "<graphviz.dot.Digraph at 0x7f372c7814d0>"
      ]
     },
     "execution_count": 10,
     "metadata": {},
     "output_type": "execute_result"
    }
   ],
   "source": [
    "pgmpyToGraphCPD(model = alarmModel, shorten = False)"
   ]
  },
  {
   "cell_type": "markdown",
   "metadata": {
    "lines_to_next_cell": 0,
    "title": "markdown"
   },
   "source": [
    "## 1/ Independencies of the Alarm Model"
   ]
  },
  {
   "cell_type": "code",
   "execution_count": 11,
   "metadata": {
    "lines_to_next_cell": 0,
    "title": "codecell"
   },
   "outputs": [
    {
     "data": {
      "text/plain": [
       "(Burglary _|_ Earthquake)"
      ]
     },
     "execution_count": 11,
     "metadata": {},
     "output_type": "execute_result"
    }
   ],
   "source": [
    "alarmModel.local_independencies(Burglary.var)"
   ]
  },
  {
   "cell_type": "code",
   "execution_count": 12,
   "metadata": {
    "lines_to_next_cell": 0,
    "title": "codecell"
   },
   "outputs": [
    {
     "data": {
      "text/plain": [
       "(Earthquake _|_ Burglary)"
      ]
     },
     "execution_count": 12,
     "metadata": {},
     "output_type": "execute_result"
    }
   ],
   "source": [
    "alarmModel.local_independencies(Earthquake.var)"
   ]
  },
  {
   "cell_type": "code",
   "execution_count": 13,
   "metadata": {
    "lines_to_next_cell": 0,
    "title": "codecell"
   },
   "outputs": [
    {
     "data": {
      "text/plain": []
     },
     "execution_count": 13,
     "metadata": {},
     "output_type": "execute_result"
    }
   ],
   "source": [
    "alarmModel.local_independencies(Alarm.var)"
   ]
  },
  {
   "cell_type": "code",
   "execution_count": 14,
   "metadata": {
    "lines_to_next_cell": 0,
    "title": "codecell"
   },
   "outputs": [
    {
     "name": "stdout",
     "output_type": "stream",
     "text": [
      "(MaryCalls _|_ Earthquake, JohnCalls, Burglary | Alarm)\n",
      "                                                       INDEPENDENCIES TABLE                                                      \n",
      "Fancy Notation                                                  .....     Regular Notation                                       \n",
      "---------------------------------------------------------------------------------------------------------------------------------\n",
      "(MaryCalls _|_ {Earthquake ∩ JohnCalls ∩ Burglary} | Alarm)     .....     (MaryCalls _|_ Earthquake, JohnCalls, Burglary | Alarm)\n",
      "(MaryCalls _|_ {Earthquake ∩ Burglary ∩ JohnCalls} | Alarm)     .....     (MaryCalls _|_ Earthquake, Burglary, JohnCalls | Alarm)\n",
      "(MaryCalls _|_ {JohnCalls ∩ Earthquake ∩ Burglary} | Alarm)     .....     (MaryCalls _|_ JohnCalls, Earthquake, Burglary | Alarm)\n",
      "(MaryCalls _|_ {JohnCalls ∩ Burglary ∩ Earthquake} | Alarm)     .....     (MaryCalls _|_ JohnCalls, Burglary, Earthquake | Alarm)\n",
      "(MaryCalls _|_ {Burglary ∩ Earthquake ∩ JohnCalls} | Alarm)     .....     (MaryCalls _|_ Burglary, Earthquake, JohnCalls | Alarm)\n",
      "(MaryCalls _|_ {Burglary ∩ JohnCalls ∩ Earthquake} | Alarm)     .....     (MaryCalls _|_ Burglary, JohnCalls, Earthquake | Alarm)\n"
     ]
    }
   ],
   "source": [
    "print(alarmModel.local_independencies(MaryCalls.var))\n",
    "\n",
    "indepSynonymTable(model = alarmModel, queryNode = MaryCalls.var)"
   ]
  },
  {
   "cell_type": "code",
   "execution_count": 15,
   "metadata": {
    "lines_to_next_cell": 0,
    "title": "codecell"
   },
   "outputs": [
    {
     "name": "stdout",
     "output_type": "stream",
     "text": [
      "(JohnCalls _|_ Earthquake, MaryCalls, Burglary | Alarm)\n",
      "                                                       INDEPENDENCIES TABLE                                                      \n",
      "Fancy Notation                                                  .....     Regular Notation                                       \n",
      "---------------------------------------------------------------------------------------------------------------------------------\n",
      "(JohnCalls _|_ {Earthquake ∩ MaryCalls ∩ Burglary} | Alarm)     .....     (JohnCalls _|_ Earthquake, MaryCalls, Burglary | Alarm)\n",
      "(JohnCalls _|_ {Earthquake ∩ Burglary ∩ MaryCalls} | Alarm)     .....     (JohnCalls _|_ Earthquake, Burglary, MaryCalls | Alarm)\n",
      "(JohnCalls _|_ {MaryCalls ∩ Earthquake ∩ Burglary} | Alarm)     .....     (JohnCalls _|_ MaryCalls, Earthquake, Burglary | Alarm)\n",
      "(JohnCalls _|_ {MaryCalls ∩ Burglary ∩ Earthquake} | Alarm)     .....     (JohnCalls _|_ MaryCalls, Burglary, Earthquake | Alarm)\n",
      "(JohnCalls _|_ {Burglary ∩ Earthquake ∩ MaryCalls} | Alarm)     .....     (JohnCalls _|_ Burglary, Earthquake, MaryCalls | Alarm)\n",
      "(JohnCalls _|_ {Burglary ∩ MaryCalls ∩ Earthquake} | Alarm)     .....     (JohnCalls _|_ Burglary, MaryCalls, Earthquake | Alarm)\n"
     ]
    }
   ],
   "source": [
    "print(alarmModel.local_independencies(JohnCalls.var))\n",
    "\n",
    "indepSynonymTable(model = alarmModel, queryNode = JohnCalls.var)"
   ]
  },
  {
   "cell_type": "code",
   "execution_count": 16,
   "metadata": {
    "title": "codecell"
   },
   "outputs": [
    {
     "data": {
      "text/plain": [
       "(Burglary _|_ Earthquake)\n",
       "(Burglary _|_ JohnCalls, MaryCalls | Alarm)\n",
       "(Burglary _|_ JohnCalls, MaryCalls | Earthquake, Alarm)\n",
       "(Burglary _|_ MaryCalls | JohnCalls, Alarm)\n",
       "(Burglary _|_ JohnCalls | MaryCalls, Alarm)\n",
       "(Burglary _|_ MaryCalls | Earthquake, JohnCalls, Alarm)\n",
       "(Burglary _|_ JohnCalls | MaryCalls, Earthquake, Alarm)\n",
       "(Earthquake _|_ Burglary)\n",
       "(Earthquake _|_ JohnCalls, MaryCalls | Alarm)\n",
       "(Earthquake _|_ MaryCalls | JohnCalls, Alarm)\n",
       "(Earthquake _|_ JohnCalls | MaryCalls, Alarm)\n",
       "(Earthquake _|_ JohnCalls, MaryCalls | Alarm, Burglary)\n",
       "(Earthquake _|_ MaryCalls | JohnCalls, Alarm, Burglary)\n",
       "(Earthquake _|_ JohnCalls | MaryCalls, Alarm, Burglary)\n",
       "(JohnCalls _|_ Earthquake, MaryCalls, Burglary | Alarm)\n",
       "(JohnCalls _|_ MaryCalls, Burglary | Earthquake, Alarm)\n",
       "(JohnCalls _|_ Earthquake, Burglary | MaryCalls, Alarm)\n",
       "(JohnCalls _|_ Earthquake, MaryCalls | Alarm, Burglary)\n",
       "(JohnCalls _|_ Burglary | MaryCalls, Earthquake, Alarm)\n",
       "(JohnCalls _|_ MaryCalls | Earthquake, Alarm, Burglary)\n",
       "(JohnCalls _|_ Earthquake | MaryCalls, Alarm, Burglary)\n",
       "(MaryCalls _|_ Earthquake, JohnCalls, Burglary | Alarm)\n",
       "(MaryCalls _|_ JohnCalls, Burglary | Earthquake, Alarm)\n",
       "(MaryCalls _|_ Earthquake, Burglary | JohnCalls, Alarm)\n",
       "(MaryCalls _|_ Earthquake, JohnCalls | Alarm, Burglary)\n",
       "(MaryCalls _|_ Burglary | Earthquake, JohnCalls, Alarm)\n",
       "(MaryCalls _|_ JohnCalls | Earthquake, Alarm, Burglary)\n",
       "(MaryCalls _|_ Earthquake | JohnCalls, Alarm, Burglary)"
      ]
     },
     "execution_count": 16,
     "metadata": {},
     "output_type": "execute_result"
    }
   ],
   "source": [
    "alarmModel.get_independencies()\n",
    "\n"
   ]
  },
  {
   "cell_type": "code",
   "execution_count": 17,
   "metadata": {
    "lines_to_next_cell": 0,
    "title": "codecell"
   },
   "outputs": [
    {
     "data": {
      "image/svg+xml": [
       "<?xml version=\"1.0\" encoding=\"UTF-8\" standalone=\"no\"?>\n",
       "<!DOCTYPE svg PUBLIC \"-//W3C//DTD SVG 1.1//EN\"\n",
       " \"http://www.w3.org/Graphics/SVG/1.1/DTD/svg11.dtd\">\n",
       "<!-- Generated by graphviz version 2.38.0 (20140413.2041)\n",
       " -->\n",
       "<!-- Title: G Pages: 1 -->\n",
       "<svg width=\"214pt\" height=\"188pt\"\n",
       " viewBox=\"0.00 0.00 214.18 188.00\" xmlns=\"http://www.w3.org/2000/svg\" xmlns:xlink=\"http://www.w3.org/1999/xlink\">\n",
       "<g id=\"graph0\" class=\"graph\" transform=\"scale(1 1) rotate(0) translate(4 184)\">\n",
       "<title>G</title>\n",
       "<polygon fill=\"white\" stroke=\"none\" points=\"-4,4 -4,-184 210.185,-184 210.185,4 -4,4\"/>\n",
       "<!-- Burglary -->\n",
       "<g id=\"node1\" class=\"node\"><title>Burglary</title>\n",
       "<defs>\n",
       "<linearGradient id=\"l_0\" gradientUnits=\"userSpaceOnUse\" x1=\"41.8599\" y1=\"-144\" x2=\"41.8599\" y2=\"-180\" >\n",
       "<stop offset=\"0\" style=\"stop-color:#ceccff;stop-opacity:1.;\"/>\n",
       "<stop offset=\"1\" style=\"stop-color:white;stop-opacity:1.;\"/>\n",
       "</linearGradient>\n",
       "</defs>\n",
       "<ellipse fill=\"url(#l_0)\" stroke=\"#ff638d\" cx=\"41.8599\" cy=\"-162\" rx=\"41.7203\" ry=\"18\"/>\n",
       "<text text-anchor=\"middle\" x=\"41.8599\" y=\"-158.9\" font-family=\"Acme-Regular.ttf\" font-size=\"12.00\">Burglary</text>\n",
       "</g>\n",
       "<!-- Alarm -->\n",
       "<g id=\"node2\" class=\"node\"><title>Alarm</title>\n",
       "<defs>\n",
       "<linearGradient id=\"l_1\" gradientUnits=\"userSpaceOnUse\" x1=\"97.8599\" y1=\"-72\" x2=\"97.8599\" y2=\"-108\" >\n",
       "<stop offset=\"0\" style=\"stop-color:#ceccff;stop-opacity:1.;\"/>\n",
       "<stop offset=\"1\" style=\"stop-color:white;stop-opacity:1.;\"/>\n",
       "</linearGradient>\n",
       "</defs>\n",
       "<ellipse fill=\"url(#l_1)\" stroke=\"#ff638d\" cx=\"97.8599\" cy=\"-90\" rx=\"32.7527\" ry=\"18\"/>\n",
       "<text text-anchor=\"middle\" x=\"97.8599\" y=\"-86.9\" font-family=\"Acme-Regular.ttf\" font-size=\"12.00\">Alarm</text>\n",
       "</g>\n",
       "<!-- Burglary&#45;&gt;Alarm -->\n",
       "<g id=\"edge1\" class=\"edge\"><title>Burglary&#45;&gt;Alarm</title>\n",
       "<path fill=\"none\" stroke=\"#ff638d\" d=\"M54.8482,-144.765C62.0171,-135.804 71.05,-124.512 78.985,-114.594\"/>\n",
       "<polygon fill=\"#ff638d\" stroke=\"#ff638d\" points=\"81.8134,-116.661 85.3273,-106.666 76.3473,-112.288 81.8134,-116.661\"/>\n",
       "</g>\n",
       "<!-- JohnCalls -->\n",
       "<g id=\"node3\" class=\"node\"><title>JohnCalls</title>\n",
       "<defs>\n",
       "<linearGradient id=\"l_2\" gradientUnits=\"userSpaceOnUse\" x1=\"44.8599\" y1=\"-1.77636e-14\" x2=\"44.8599\" y2=\"-36\" >\n",
       "<stop offset=\"0\" style=\"stop-color:#ceccff;stop-opacity:1.;\"/>\n",
       "<stop offset=\"1\" style=\"stop-color:white;stop-opacity:1.;\"/>\n",
       "</linearGradient>\n",
       "</defs>\n",
       "<ellipse fill=\"url(#l_2)\" stroke=\"#ff638d\" cx=\"44.8599\" cy=\"-18\" rx=\"43.9143\" ry=\"18\"/>\n",
       "<text text-anchor=\"middle\" x=\"44.8599\" y=\"-14.9\" font-family=\"Acme-Regular.ttf\" font-size=\"12.00\">JohnCalls</text>\n",
       "</g>\n",
       "<!-- Alarm&#45;&gt;JohnCalls -->\n",
       "<g id=\"edge2\" class=\"edge\"><title>Alarm&#45;&gt;JohnCalls</title>\n",
       "<path fill=\"none\" stroke=\"#ff638d\" d=\"M85.8334,-73.1159C79.2193,-64.3803 70.8699,-53.3528 63.4366,-43.5352\"/>\n",
       "<polygon fill=\"#ff638d\" stroke=\"#ff638d\" points=\"66.0335,-41.1669 57.2066,-35.307 60.4527,-45.3923 66.0335,-41.1669\"/>\n",
       "</g>\n",
       "<!-- MaryCalls -->\n",
       "<g id=\"node4\" class=\"node\"><title>MaryCalls</title>\n",
       "<defs>\n",
       "<linearGradient id=\"l_3\" gradientUnits=\"userSpaceOnUse\" x1=\"151.86\" y1=\"-1.77636e-14\" x2=\"151.86\" y2=\"-36\" >\n",
       "<stop offset=\"0\" style=\"stop-color:#ceccff;stop-opacity:1.;\"/>\n",
       "<stop offset=\"1\" style=\"stop-color:white;stop-opacity:1.;\"/>\n",
       "</linearGradient>\n",
       "</defs>\n",
       "<ellipse fill=\"url(#l_3)\" stroke=\"#ff638d\" cx=\"151.86\" cy=\"-18\" rx=\"45.6069\" ry=\"18\"/>\n",
       "<text text-anchor=\"middle\" x=\"151.86\" y=\"-14.9\" font-family=\"Acme-Regular.ttf\" font-size=\"12.00\">MaryCalls</text>\n",
       "</g>\n",
       "<!-- Alarm&#45;&gt;MaryCalls -->\n",
       "<g id=\"edge3\" class=\"edge\"><title>Alarm&#45;&gt;MaryCalls</title>\n",
       "<path fill=\"none\" stroke=\"#ff638d\" d=\"M110.113,-73.1159C116.92,-64.292 125.531,-53.1298 133.162,-43.238\"/>\n",
       "<polygon fill=\"#ff638d\" stroke=\"#ff638d\" points=\"135.943,-45.3627 139.28,-35.307 130.401,-41.087 135.943,-45.3627\"/>\n",
       "</g>\n",
       "<!-- Earthquake -->\n",
       "<g id=\"node5\" class=\"node\"><title>Earthquake</title>\n",
       "<defs>\n",
       "<linearGradient id=\"l_4\" gradientUnits=\"userSpaceOnUse\" x1=\"153.86\" y1=\"-144\" x2=\"153.86\" y2=\"-180\" >\n",
       "<stop offset=\"0\" style=\"stop-color:#ceccff;stop-opacity:1.;\"/>\n",
       "<stop offset=\"1\" style=\"stop-color:white;stop-opacity:1.;\"/>\n",
       "</linearGradient>\n",
       "</defs>\n",
       "<ellipse fill=\"url(#l_4)\" stroke=\"#ff638d\" cx=\"153.86\" cy=\"-162\" rx=\"52.1504\" ry=\"18\"/>\n",
       "<text text-anchor=\"middle\" x=\"153.86\" y=\"-158.9\" font-family=\"Acme-Regular.ttf\" font-size=\"12.00\">Earthquake</text>\n",
       "</g>\n",
       "<!-- Earthquake&#45;&gt;Alarm -->\n",
       "<g id=\"edge4\" class=\"edge\"><title>Earthquake&#45;&gt;Alarm</title>\n",
       "<path fill=\"none\" stroke=\"#ff638d\" d=\"M140.589,-144.411C133.584,-135.655 124.861,-124.751 117.126,-115.082\"/>\n",
       "<polygon fill=\"#ff638d\" stroke=\"#ff638d\" points=\"119.63,-112.61 110.65,-106.988 114.164,-116.983 119.63,-112.61\"/>\n",
       "</g>\n",
       "</g>\n",
       "</svg>\n"
      ],
      "text/plain": [
       "<graphviz.dot.Digraph at 0x7f36a67a2750>"
      ]
     },
     "execution_count": 17,
     "metadata": {},
     "output_type": "execute_result"
    }
   ],
   "source": [
    "# TODO say direct dependency assumptions (from Korb book)\n",
    "\n",
    "pgmpyToGraph(alarmModel)"
   ]
  },
  {
   "cell_type": "markdown",
   "metadata": {
    "lines_to_next_cell": 0,
    "title": "markdown"
   },
   "source": [
    "### Study: Independence Maps (I-Maps)\n",
    "* **Markov Assumption:** Bayesian networks require the assumption of **Markov Property**: that there are no direct dependencies in the system being modeled, which are not already explicitly shown via arcs. (In the earthquake example, this translates to saying there is no way for an `Earthquake` to influence `MaryCalls` except by way of the `Alarm`.  There is no **hidden backdoor** from  `Earthquake` to `MaryCalls`).\n",
    "* **I-maps:** Bayesian networks which have this **Markov property** are called **Independence-maps** or **I-maps**, since every independence suggested by the lack of an arc is actual a valid, real independence in the system.\n",
    "\n",
    "Source: Korb book, Bayesian Artificial Intelligence (section 2.2.4)"
   ]
  },
  {
   "cell_type": "markdown",
   "metadata": {
    "lines_to_next_cell": 0,
    "title": "markdown"
   },
   "source": [
    "### Example 1: I-map\n",
    "Testing meaning of an **I-map** using a simple student example"
   ]
  },
  {
   "cell_type": "code",
   "execution_count": 18,
   "metadata": {
    "title": "codecell"
   },
   "outputs": [
    {
     "data": {
      "image/svg+xml": [
       "<?xml version=\"1.0\" encoding=\"UTF-8\" standalone=\"no\"?>\n",
       "<!DOCTYPE svg PUBLIC \"-//W3C//DTD SVG 1.1//EN\"\n",
       " \"http://www.w3.org/Graphics/SVG/1.1/DTD/svg11.dtd\">\n",
       "<!-- Generated by graphviz version 2.38.0 (20140413.2041)\n",
       " -->\n",
       "<!-- Title: G Pages: 1 -->\n",
       "<svg width=\"320pt\" height=\"286pt\"\n",
       " viewBox=\"0.00 0.00 320.00 286.00\" xmlns=\"http://www.w3.org/2000/svg\" xmlns:xlink=\"http://www.w3.org/1999/xlink\">\n",
       "<g id=\"graph0\" class=\"graph\" transform=\"scale(1 1) rotate(0) translate(4 282)\">\n",
       "<title>G</title>\n",
       "<polygon fill=\"white\" stroke=\"none\" points=\"-4,4 -4,-282 316,-282 316,4 -4,4\"/>\n",
       "<!-- diff -->\n",
       "<g id=\"node1\" class=\"node\"><title>diff</title>\n",
       "<defs>\n",
       "<linearGradient id=\"l_0\" gradientUnits=\"userSpaceOnUse\" x1=\"50\" y1=\"-242\" x2=\"50\" y2=\"-278\" >\n",
       "<stop offset=\"0\" style=\"stop-color:#ceccff;stop-opacity:1.;\"/>\n",
       "<stop offset=\"1\" style=\"stop-color:white;stop-opacity:1.;\"/>\n",
       "</linearGradient>\n",
       "</defs>\n",
       "<ellipse fill=\"url(#l_0)\" stroke=\"#ff638d\" cx=\"50\" cy=\"-260\" rx=\"27\" ry=\"18\"/>\n",
       "<text text-anchor=\"middle\" x=\"50\" y=\"-256.9\" font-family=\"Acme-Regular.ttf\" font-size=\"12.00\">diff</text>\n",
       "</g>\n",
       "<!-- grade -->\n",
       "<g id=\"node2\" class=\"node\"><title>grade</title>\n",
       "<defs>\n",
       "<linearGradient id=\"l_1\" gradientUnits=\"userSpaceOnUse\" x1=\"132\" y1=\"-163\" x2=\"132\" y2=\"-199\" >\n",
       "<stop offset=\"0\" style=\"stop-color:#ceccff;stop-opacity:1.;\"/>\n",
       "<stop offset=\"1\" style=\"stop-color:white;stop-opacity:1.;\"/>\n",
       "</linearGradient>\n",
       "</defs>\n",
       "<ellipse fill=\"url(#l_1)\" stroke=\"#ff638d\" cx=\"132\" cy=\"-181\" rx=\"32.0211\" ry=\"18\"/>\n",
       "<text text-anchor=\"middle\" x=\"132\" y=\"-177.9\" font-family=\"Acme-Regular.ttf\" font-size=\"12.00\">grade</text>\n",
       "</g>\n",
       "<!-- diff&#45;&gt;grade -->\n",
       "<g id=\"edge1\" class=\"edge\"><title>diff&#45;&gt;grade</title>\n",
       "<path fill=\"none\" stroke=\"#ff638d\" d=\"M65.0401,-244.877C77.2896,-233.374 94.7912,-216.94 108.83,-203.758\"/>\n",
       "<polygon fill=\"#ff638d\" stroke=\"#ff638d\" points=\"111.323,-206.218 116.217,-196.821 106.531,-201.115 111.323,-206.218\"/>\n",
       "</g>\n",
       "<!-- cpd_diff -->\n",
       "<g id=\"node4\" class=\"node\"><title>cpd_diff</title>\n",
       "<polygon fill=\"white\" stroke=\"none\" points=\"82,-206 0,-206 0,-156 82,-156 82,-206\"/>\n",
       "<polygon fill=\"none\" stroke=\"gray\" points=\"8,-188 8,-202 74,-202 74,-188 8,-188\"/>\n",
       "<text text-anchor=\"start\" x=\"35\" y=\"-193.4\" font-family=\"Acme-Regular.ttf\" font-size=\"7.00\">diff</text>\n",
       "<polygon fill=\"none\" stroke=\"gray\" points=\"8,-174 8,-188 41,-188 41,-174 8,-174\"/>\n",
       "<text text-anchor=\"start\" x=\"11\" y=\"-179.4\" font-family=\"Acme-Regular.ttf\" font-size=\"7.00\">diff = 0</text>\n",
       "<polygon fill=\"none\" stroke=\"gray\" points=\"41,-174 41,-188 74,-188 74,-174 41,-174\"/>\n",
       "<text text-anchor=\"start\" x=\"44\" y=\"-179.4\" font-family=\"Acme-Regular.ttf\" font-size=\"7.00\">diff = 1</text>\n",
       "<polygon fill=\"none\" stroke=\"gray\" points=\"8,-160 8,-174 41,-174 41,-160 8,-160\"/>\n",
       "<text text-anchor=\"start\" x=\"18.5\" y=\"-165.4\" font-family=\"Acme-Regular.ttf\" font-size=\"7.00\">0.2</text>\n",
       "<polygon fill=\"none\" stroke=\"gray\" points=\"41,-160 41,-174 74,-174 74,-160 41,-160\"/>\n",
       "<text text-anchor=\"start\" x=\"51.5\" y=\"-165.4\" font-family=\"Acme-Regular.ttf\" font-size=\"7.00\">0.8</text>\n",
       "</g>\n",
       "<!-- diff&#45;&gt;cpd_diff -->\n",
       "<!-- cpd_grade -->\n",
       "<g id=\"node5\" class=\"node\"><title>cpd_grade</title>\n",
       "<polygon fill=\"white\" stroke=\"none\" points=\"225,-120 39,-120 39,-7.10543e-15 225,-7.10543e-15 225,-120\"/>\n",
       "<polygon fill=\"none\" stroke=\"gray\" points=\"47,-102 47,-116 217,-116 217,-102 47,-102\"/>\n",
       "<text text-anchor=\"start\" x=\"121\" y=\"-107.4\" font-family=\"Acme-Regular.ttf\" font-size=\"7.00\">grade</text>\n",
       "<polygon fill=\"none\" stroke=\"gray\" points=\"47,-88 47,-102 65,-102 65,-88 47,-88\"/>\n",
       "<text text-anchor=\"start\" x=\"50\" y=\"-93.4\" font-family=\"Acme-Regular.ttf\" font-size=\"7.00\">diff</text>\n",
       "<polygon fill=\"none\" stroke=\"gray\" points=\"65,-88 65,-102 88,-102 88,-88 65,-88\"/>\n",
       "<text text-anchor=\"start\" x=\"68\" y=\"-93.4\" font-family=\"Acme-Regular.ttf\" font-size=\"7.00\">intel</text>\n",
       "<polygon fill=\"none\" stroke=\"gray\" points=\"88,-88 88,-102 131,-102 131,-88 88,-88\"/>\n",
       "<text text-anchor=\"start\" x=\"91\" y=\"-93.4\" font-family=\"Acme-Regular.ttf\" font-size=\"7.00\">grade = 0</text>\n",
       "<polygon fill=\"none\" stroke=\"gray\" points=\"131,-88 131,-102 174,-102 174,-88 131,-88\"/>\n",
       "<text text-anchor=\"start\" x=\"134\" y=\"-93.4\" font-family=\"Acme-Regular.ttf\" font-size=\"7.00\">grade = 1</text>\n",
       "<polygon fill=\"none\" stroke=\"gray\" points=\"174,-88 174,-102 217,-102 217,-88 174,-88\"/>\n",
       "<text text-anchor=\"start\" x=\"177\" y=\"-93.4\" font-family=\"Acme-Regular.ttf\" font-size=\"7.00\">grade = 2</text>\n",
       "<polygon fill=\"none\" stroke=\"gray\" points=\"47,-74 47,-88 65,-88 65,-74 47,-74\"/>\n",
       "<text text-anchor=\"start\" x=\"53.5\" y=\"-79.4\" font-family=\"Acme-Regular.ttf\" font-size=\"7.00\">0</text>\n",
       "<polygon fill=\"none\" stroke=\"gray\" points=\"65,-74 65,-88 88,-88 88,-74 65,-74\"/>\n",
       "<text text-anchor=\"start\" x=\"74\" y=\"-79.4\" font-family=\"Acme-Regular.ttf\" font-size=\"7.00\">0</text>\n",
       "<polygon fill=\"none\" stroke=\"gray\" points=\"88,-74 88,-88 131,-88 131,-74 88,-74\"/>\n",
       "<text text-anchor=\"start\" x=\"103.5\" y=\"-79.4\" font-family=\"Acme-Regular.ttf\" font-size=\"7.00\">0.1</text>\n",
       "<polygon fill=\"none\" stroke=\"gray\" points=\"131,-74 131,-88 174,-88 174,-74 131,-74\"/>\n",
       "<text text-anchor=\"start\" x=\"146.5\" y=\"-79.4\" font-family=\"Acme-Regular.ttf\" font-size=\"7.00\">0.1</text>\n",
       "<polygon fill=\"none\" stroke=\"gray\" points=\"174,-74 174,-88 217,-88 217,-74 174,-74\"/>\n",
       "<text text-anchor=\"start\" x=\"189.5\" y=\"-79.4\" font-family=\"Acme-Regular.ttf\" font-size=\"7.00\">0.8</text>\n",
       "<polygon fill=\"none\" stroke=\"gray\" points=\"47,-60 47,-74 65,-74 65,-60 47,-60\"/>\n",
       "<text text-anchor=\"start\" x=\"53.5\" y=\"-65.4\" font-family=\"Acme-Regular.ttf\" font-size=\"7.00\">0</text>\n",
       "<polygon fill=\"none\" stroke=\"gray\" points=\"65,-60 65,-74 88,-74 88,-60 65,-60\"/>\n",
       "<text text-anchor=\"start\" x=\"74\" y=\"-65.4\" font-family=\"Acme-Regular.ttf\" font-size=\"7.00\">1</text>\n",
       "<polygon fill=\"none\" stroke=\"gray\" points=\"88,-60 88,-74 131,-74 131,-60 88,-60\"/>\n",
       "<text text-anchor=\"start\" x=\"103.5\" y=\"-65.4\" font-family=\"Acme-Regular.ttf\" font-size=\"7.00\">0.1</text>\n",
       "<polygon fill=\"none\" stroke=\"gray\" points=\"131,-60 131,-74 174,-74 174,-60 131,-60\"/>\n",
       "<text text-anchor=\"start\" x=\"146.5\" y=\"-65.4\" font-family=\"Acme-Regular.ttf\" font-size=\"7.00\">0.1</text>\n",
       "<polygon fill=\"none\" stroke=\"gray\" points=\"174,-60 174,-74 217,-74 217,-60 174,-60\"/>\n",
       "<text text-anchor=\"start\" x=\"189.5\" y=\"-65.4\" font-family=\"Acme-Regular.ttf\" font-size=\"7.00\">0.8</text>\n",
       "<polygon fill=\"none\" stroke=\"gray\" points=\"47,-46 47,-60 65,-60 65,-46 47,-46\"/>\n",
       "<text text-anchor=\"start\" x=\"53.5\" y=\"-51.4\" font-family=\"Acme-Regular.ttf\" font-size=\"7.00\">0</text>\n",
       "<polygon fill=\"none\" stroke=\"gray\" points=\"65,-46 65,-60 88,-60 88,-46 65,-46\"/>\n",
       "<text text-anchor=\"start\" x=\"74\" y=\"-51.4\" font-family=\"Acme-Regular.ttf\" font-size=\"7.00\">2</text>\n",
       "<polygon fill=\"none\" stroke=\"gray\" points=\"88,-46 88,-60 131,-60 131,-46 88,-46\"/>\n",
       "<text text-anchor=\"start\" x=\"103.5\" y=\"-51.4\" font-family=\"Acme-Regular.ttf\" font-size=\"7.00\">0.1</text>\n",
       "<polygon fill=\"none\" stroke=\"gray\" points=\"131,-46 131,-60 174,-60 174,-46 131,-46\"/>\n",
       "<text text-anchor=\"start\" x=\"146.5\" y=\"-51.4\" font-family=\"Acme-Regular.ttf\" font-size=\"7.00\">0.1</text>\n",
       "<polygon fill=\"none\" stroke=\"gray\" points=\"174,-46 174,-60 217,-60 217,-46 174,-46\"/>\n",
       "<text text-anchor=\"start\" x=\"189.5\" y=\"-51.4\" font-family=\"Acme-Regular.ttf\" font-size=\"7.00\">0.8</text>\n",
       "<polygon fill=\"none\" stroke=\"gray\" points=\"47,-32 47,-46 65,-46 65,-32 47,-32\"/>\n",
       "<text text-anchor=\"start\" x=\"53.5\" y=\"-37.4\" font-family=\"Acme-Regular.ttf\" font-size=\"7.00\">1</text>\n",
       "<polygon fill=\"none\" stroke=\"gray\" points=\"65,-32 65,-46 88,-46 88,-32 65,-32\"/>\n",
       "<text text-anchor=\"start\" x=\"74\" y=\"-37.4\" font-family=\"Acme-Regular.ttf\" font-size=\"7.00\">0</text>\n",
       "<polygon fill=\"none\" stroke=\"gray\" points=\"88,-32 88,-46 131,-46 131,-32 88,-32\"/>\n",
       "<text text-anchor=\"start\" x=\"103.5\" y=\"-37.4\" font-family=\"Acme-Regular.ttf\" font-size=\"7.00\">0.1</text>\n",
       "<polygon fill=\"none\" stroke=\"gray\" points=\"131,-32 131,-46 174,-46 174,-32 131,-32\"/>\n",
       "<text text-anchor=\"start\" x=\"146.5\" y=\"-37.4\" font-family=\"Acme-Regular.ttf\" font-size=\"7.00\">0.1</text>\n",
       "<polygon fill=\"none\" stroke=\"gray\" points=\"174,-32 174,-46 217,-46 217,-32 174,-32\"/>\n",
       "<text text-anchor=\"start\" x=\"189.5\" y=\"-37.4\" font-family=\"Acme-Regular.ttf\" font-size=\"7.00\">0.8</text>\n",
       "<polygon fill=\"none\" stroke=\"gray\" points=\"47,-18 47,-32 65,-32 65,-18 47,-18\"/>\n",
       "<text text-anchor=\"start\" x=\"53.5\" y=\"-23.4\" font-family=\"Acme-Regular.ttf\" font-size=\"7.00\">1</text>\n",
       "<polygon fill=\"none\" stroke=\"gray\" points=\"65,-18 65,-32 88,-32 88,-18 65,-18\"/>\n",
       "<text text-anchor=\"start\" x=\"74\" y=\"-23.4\" font-family=\"Acme-Regular.ttf\" font-size=\"7.00\">1</text>\n",
       "<polygon fill=\"none\" stroke=\"gray\" points=\"88,-18 88,-32 131,-32 131,-18 88,-18\"/>\n",
       "<text text-anchor=\"start\" x=\"103.5\" y=\"-23.4\" font-family=\"Acme-Regular.ttf\" font-size=\"7.00\">0.1</text>\n",
       "<polygon fill=\"none\" stroke=\"gray\" points=\"131,-18 131,-32 174,-32 174,-18 131,-18\"/>\n",
       "<text text-anchor=\"start\" x=\"146.5\" y=\"-23.4\" font-family=\"Acme-Regular.ttf\" font-size=\"7.00\">0.1</text>\n",
       "<polygon fill=\"none\" stroke=\"gray\" points=\"174,-18 174,-32 217,-32 217,-18 174,-18\"/>\n",
       "<text text-anchor=\"start\" x=\"189.5\" y=\"-23.4\" font-family=\"Acme-Regular.ttf\" font-size=\"7.00\">0.8</text>\n",
       "<polygon fill=\"none\" stroke=\"gray\" points=\"47,-4 47,-18 65,-18 65,-4 47,-4\"/>\n",
       "<text text-anchor=\"start\" x=\"53.5\" y=\"-9.4\" font-family=\"Acme-Regular.ttf\" font-size=\"7.00\">1</text>\n",
       "<polygon fill=\"none\" stroke=\"gray\" points=\"65,-4 65,-18 88,-18 88,-4 65,-4\"/>\n",
       "<text text-anchor=\"start\" x=\"74\" y=\"-9.4\" font-family=\"Acme-Regular.ttf\" font-size=\"7.00\">2</text>\n",
       "<polygon fill=\"none\" stroke=\"gray\" points=\"88,-4 88,-18 131,-18 131,-4 88,-4\"/>\n",
       "<text text-anchor=\"start\" x=\"103.5\" y=\"-9.4\" font-family=\"Acme-Regular.ttf\" font-size=\"7.00\">0.1</text>\n",
       "<polygon fill=\"none\" stroke=\"gray\" points=\"131,-4 131,-18 174,-18 174,-4 131,-4\"/>\n",
       "<text text-anchor=\"start\" x=\"146.5\" y=\"-9.4\" font-family=\"Acme-Regular.ttf\" font-size=\"7.00\">0.1</text>\n",
       "<polygon fill=\"none\" stroke=\"gray\" points=\"174,-4 174,-18 217,-18 217,-4 174,-4\"/>\n",
       "<text text-anchor=\"start\" x=\"189.5\" y=\"-9.4\" font-family=\"Acme-Regular.ttf\" font-size=\"7.00\">0.8</text>\n",
       "</g>\n",
       "<!-- grade&#45;&gt;cpd_grade -->\n",
       "<!-- intel -->\n",
       "<g id=\"node3\" class=\"node\"><title>intel</title>\n",
       "<defs>\n",
       "<linearGradient id=\"l_2\" gradientUnits=\"userSpaceOnUse\" x1=\"189\" y1=\"-242\" x2=\"189\" y2=\"-278\" >\n",
       "<stop offset=\"0\" style=\"stop-color:#ceccff;stop-opacity:1.;\"/>\n",
       "<stop offset=\"1\" style=\"stop-color:white;stop-opacity:1.;\"/>\n",
       "</linearGradient>\n",
       "</defs>\n",
       "<ellipse fill=\"url(#l_2)\" stroke=\"#ff638d\" cx=\"189\" cy=\"-260\" rx=\"27\" ry=\"18\"/>\n",
       "<text text-anchor=\"middle\" x=\"189\" y=\"-256.9\" font-family=\"Acme-Regular.ttf\" font-size=\"12.00\">intel</text>\n",
       "</g>\n",
       "<!-- intel&#45;&gt;grade -->\n",
       "<g id=\"edge2\" class=\"edge\"><title>intel&#45;&gt;grade</title>\n",
       "<path fill=\"none\" stroke=\"#ff638d\" d=\"M177.465,-243.418C169.56,-232.739 158.916,-218.361 149.915,-206.201\"/>\n",
       "<polygon fill=\"#ff638d\" stroke=\"#ff638d\" points=\"152.476,-203.778 143.713,-197.823 146.85,-207.943 152.476,-203.778\"/>\n",
       "</g>\n",
       "<!-- cpd_intel -->\n",
       "<g id=\"node6\" class=\"node\"><title>cpd_intel</title>\n",
       "<polygon fill=\"white\" stroke=\"none\" points=\"312,-206 182,-206 182,-156 312,-156 312,-206\"/>\n",
       "<polygon fill=\"none\" stroke=\"gray\" points=\"190,-188 190,-202 304,-202 304,-188 190,-188\"/>\n",
       "<text text-anchor=\"start\" x=\"238.5\" y=\"-193.4\" font-family=\"Acme-Regular.ttf\" font-size=\"7.00\">intel</text>\n",
       "<polygon fill=\"none\" stroke=\"gray\" points=\"190,-174 190,-188 228,-188 228,-174 190,-174\"/>\n",
       "<text text-anchor=\"start\" x=\"193\" y=\"-179.4\" font-family=\"Acme-Regular.ttf\" font-size=\"7.00\">intel = 0</text>\n",
       "<polygon fill=\"none\" stroke=\"gray\" points=\"228,-174 228,-188 266,-188 266,-174 228,-174\"/>\n",
       "<text text-anchor=\"start\" x=\"231\" y=\"-179.4\" font-family=\"Acme-Regular.ttf\" font-size=\"7.00\">intel = 1</text>\n",
       "<polygon fill=\"none\" stroke=\"gray\" points=\"266,-174 266,-188 304,-188 304,-174 266,-174\"/>\n",
       "<text text-anchor=\"start\" x=\"269\" y=\"-179.4\" font-family=\"Acme-Regular.ttf\" font-size=\"7.00\">intel = 2</text>\n",
       "<polygon fill=\"none\" stroke=\"gray\" points=\"190,-160 190,-174 228,-174 228,-160 190,-160\"/>\n",
       "<text text-anchor=\"start\" x=\"203\" y=\"-165.4\" font-family=\"Acme-Regular.ttf\" font-size=\"7.00\">0.5</text>\n",
       "<polygon fill=\"none\" stroke=\"gray\" points=\"228,-160 228,-174 266,-174 266,-160 228,-160\"/>\n",
       "<text text-anchor=\"start\" x=\"241\" y=\"-165.4\" font-family=\"Acme-Regular.ttf\" font-size=\"7.00\">0.3</text>\n",
       "<polygon fill=\"none\" stroke=\"gray\" points=\"266,-160 266,-174 304,-174 304,-160 266,-160\"/>\n",
       "<text text-anchor=\"start\" x=\"279\" y=\"-165.4\" font-family=\"Acme-Regular.ttf\" font-size=\"7.00\">0.2</text>\n",
       "</g>\n",
       "<!-- intel&#45;&gt;cpd_intel -->\n",
       "</g>\n",
       "</svg>\n"
      ],
      "text/plain": [
       "<graphviz.dot.Digraph at 0x7f36a67a27d0>"
      ]
     },
     "execution_count": 18,
     "metadata": {},
     "output_type": "execute_result"
    }
   ],
   "source": [
    "Difficulty: RandomVariable = RandomVariable(var = 'diff', states = ['Easy', 'Hard'])\n",
    "Grade: RandomVariable = RandomVariable(var = 'grade', states = ['Good', 'Medium', 'Bad'])\n",
    "Intelligence: RandomVariable = RandomVariable(var = 'intel', states = ['Dumb', 'Average', 'Intelligent'])\n",
    "\n",
    "\n",
    "gradeModel = BayesianModel([(Difficulty.var, Grade.var), (Intelligence.var, Grade.var)])\n",
    "\n",
    "diff_cpd = TabularCPD(variable = Difficulty.var, variable_card = len(Difficulty.states),\n",
    "                      values = [[0.2], [0.8]])\n",
    "\n",
    "intel_cpd = TabularCPD(variable = Intelligence.var, variable_card = len(Intelligence.states),\n",
    "                       values = [[0.5], [0.3], [0.2]])\n",
    "\n",
    "grade_cpd = TabularCPD(variable = Grade.var, variable_card = len(Grade.states),\n",
    "                       values = [[0.1,0.1,0.1,0.1,0.1,0.1],\n",
    "                                    [0.1,0.1,0.1,0.1,0.1,0.1],\n",
    "                                    [0.8,0.8,0.8,0.8,0.8,0.8]],\n",
    "                       evidence=[Difficulty.var, Intelligence.var],\n",
    "                       evidence_card=[len(Difficulty.states), len(Intelligence.states)])\n",
    "\n",
    "gradeModel.add_cpds(diff_cpd, intel_cpd, grade_cpd)\n",
    "\n",
    "\n",
    "pgmpyToGraphCPD(gradeModel)"
   ]
  },
  {
   "cell_type": "markdown",
   "metadata": {
    "lines_to_next_cell": 0,
    "title": "markdown"
   },
   "source": [
    "Showing two ways of creating the `JointProbabilityDistribution`    : (1) by feeding in values manually, or (2) by using `reduce` over the `TabularCPD`s or `DiscreteFactor`s."
   ]
  },
  {
   "cell_type": "code",
   "execution_count": 19,
   "metadata": {
    "title": "codecell"
   },
   "outputs": [
    {
     "name": "stdout",
     "output_type": "stream",
     "text": [
      "+---------+----------+----------+-----------------------+\n",
      "| diff    | intel    | grade    |   P(diff,intel,grade) |\n",
      "+=========+==========+==========+=======================+\n",
      "| diff(0) | intel(0) | grade(0) |                0.0100 |\n",
      "+---------+----------+----------+-----------------------+\n",
      "| diff(0) | intel(0) | grade(1) |                0.0100 |\n",
      "+---------+----------+----------+-----------------------+\n",
      "| diff(0) | intel(0) | grade(2) |                0.0800 |\n",
      "+---------+----------+----------+-----------------------+\n",
      "| diff(0) | intel(1) | grade(0) |                0.0060 |\n",
      "+---------+----------+----------+-----------------------+\n",
      "| diff(0) | intel(1) | grade(1) |                0.0060 |\n",
      "+---------+----------+----------+-----------------------+\n",
      "| diff(0) | intel(1) | grade(2) |                0.0480 |\n",
      "+---------+----------+----------+-----------------------+\n",
      "| diff(0) | intel(2) | grade(0) |                0.0040 |\n",
      "+---------+----------+----------+-----------------------+\n",
      "| diff(0) | intel(2) | grade(1) |                0.0040 |\n",
      "+---------+----------+----------+-----------------------+\n",
      "| diff(0) | intel(2) | grade(2) |                0.0320 |\n",
      "+---------+----------+----------+-----------------------+\n",
      "| diff(1) | intel(0) | grade(0) |                0.0400 |\n",
      "+---------+----------+----------+-----------------------+\n",
      "| diff(1) | intel(0) | grade(1) |                0.0400 |\n",
      "+---------+----------+----------+-----------------------+\n",
      "| diff(1) | intel(0) | grade(2) |                0.3200 |\n",
      "+---------+----------+----------+-----------------------+\n",
      "| diff(1) | intel(1) | grade(0) |                0.0240 |\n",
      "+---------+----------+----------+-----------------------+\n",
      "| diff(1) | intel(1) | grade(1) |                0.0240 |\n",
      "+---------+----------+----------+-----------------------+\n",
      "| diff(1) | intel(1) | grade(2) |                0.1920 |\n",
      "+---------+----------+----------+-----------------------+\n",
      "| diff(1) | intel(2) | grade(0) |                0.0160 |\n",
      "+---------+----------+----------+-----------------------+\n",
      "| diff(1) | intel(2) | grade(1) |                0.0160 |\n",
      "+---------+----------+----------+-----------------------+\n",
      "| diff(1) | intel(2) | grade(2) |                0.1280 |\n",
      "+---------+----------+----------+-----------------------+\n"
     ]
    }
   ],
   "source": [
    "# Method 1: Creating joint distribution manually, by feeding in the calculated values:\n",
    "jpdValues = [0.01, 0.01, 0.08, 0.006, 0.006, 0.048, 0.004, 0.004, 0.032,\n",
    "           0.04, 0.04, 0.32, 0.024, 0.024, 0.192, 0.016, 0.016, 0.128]\n",
    "\n",
    "JPD = JointProbabilityDistribution(variables = [Difficulty.var , Intelligence.var, Grade.var],\n",
    "                                   cardinality = [len(Difficulty.states), len(Intelligence.states), len(Grade.states)], values = jpdValues)\n",
    "\n",
    "print(JPD)"
   ]
  },
  {
   "cell_type": "markdown",
   "metadata": {
    "lines_to_next_cell": 0,
    "title": "markdown"
   },
   "source": [
    "Showing if small student model is I-map:"
   ]
  },
  {
   "cell_type": "code",
   "execution_count": 20,
   "metadata": {
    "title": "codecell"
   },
   "outputs": [],
   "source": [
    "from src.utils.NetworkUtil import *\n",
    "\n",
    "\n",
    "# Method 2: creating the JPD by multiplying over the TabularCPDs (as per formula in page 16 of pgmpy book, Ankur Ankan)\n",
    "gradeJPDFactor: DiscreteFactor = DiscreteFactor(variables = JPD.variables, cardinality =  JPD.cardinality, values = JPD.values)\n",
    "gradeJPD: JointProbabilityDistribution = jointDistribution(gradeModel)\n",
    "\n",
    "\n",
    "assert gradeModel.is_imap(JPD = JPD), \"Check: using JPD to verify the graph is an independence-map: means no hidden backdoors between nodes and no way for variables to influence others except by one path\"\n",
    "\n",
    "assert gradeJPD == gradeJPDFactor, \"Check: joint distribution is the same as multiplying the cpds\""
   ]
  },
  {
   "cell_type": "markdown",
   "metadata": {
    "lines_to_next_cell": 0,
    "title": "markdown"
   },
   "source": [
    "Grade model's `JointProbabilityDistribution` over all variables:"
   ]
  },
  {
   "cell_type": "code",
   "execution_count": 21,
   "metadata": {
    "title": "codecell"
   },
   "outputs": [
    {
     "name": "stdout",
     "output_type": "stream",
     "text": [
      "+---------+----------+----------+-----------------------+\n",
      "| diff    | intel    | grade    |   P(diff,intel,grade) |\n",
      "+=========+==========+==========+=======================+\n",
      "| diff(0) | intel(0) | grade(0) |                0.0100 |\n",
      "+---------+----------+----------+-----------------------+\n",
      "| diff(0) | intel(0) | grade(1) |                0.0100 |\n",
      "+---------+----------+----------+-----------------------+\n",
      "| diff(0) | intel(0) | grade(2) |                0.0800 |\n",
      "+---------+----------+----------+-----------------------+\n",
      "| diff(0) | intel(1) | grade(0) |                0.0060 |\n",
      "+---------+----------+----------+-----------------------+\n",
      "| diff(0) | intel(1) | grade(1) |                0.0060 |\n",
      "+---------+----------+----------+-----------------------+\n",
      "| diff(0) | intel(1) | grade(2) |                0.0480 |\n",
      "+---------+----------+----------+-----------------------+\n",
      "| diff(0) | intel(2) | grade(0) |                0.0040 |\n",
      "+---------+----------+----------+-----------------------+\n",
      "| diff(0) | intel(2) | grade(1) |                0.0040 |\n",
      "+---------+----------+----------+-----------------------+\n",
      "| diff(0) | intel(2) | grade(2) |                0.0320 |\n",
      "+---------+----------+----------+-----------------------+\n",
      "| diff(1) | intel(0) | grade(0) |                0.0400 |\n",
      "+---------+----------+----------+-----------------------+\n",
      "| diff(1) | intel(0) | grade(1) |                0.0400 |\n",
      "+---------+----------+----------+-----------------------+\n",
      "| diff(1) | intel(0) | grade(2) |                0.3200 |\n",
      "+---------+----------+----------+-----------------------+\n",
      "| diff(1) | intel(1) | grade(0) |                0.0240 |\n",
      "+---------+----------+----------+-----------------------+\n",
      "| diff(1) | intel(1) | grade(1) |                0.0240 |\n",
      "+---------+----------+----------+-----------------------+\n",
      "| diff(1) | intel(1) | grade(2) |                0.1920 |\n",
      "+---------+----------+----------+-----------------------+\n",
      "| diff(1) | intel(2) | grade(0) |                0.0160 |\n",
      "+---------+----------+----------+-----------------------+\n",
      "| diff(1) | intel(2) | grade(1) |                0.0160 |\n",
      "+---------+----------+----------+-----------------------+\n",
      "| diff(1) | intel(2) | grade(2) |                0.1280 |\n",
      "+---------+----------+----------+-----------------------+\n"
     ]
    }
   ],
   "source": [
    "print(gradeJPD)"
   ]
  },
  {
   "cell_type": "markdown",
   "metadata": {
    "lines_to_next_cell": 0,
    "title": "markdown"
   },
   "source": [
    "Checking if alarm model is I-map:"
   ]
  },
  {
   "cell_type": "code",
   "execution_count": 22,
   "metadata": {
    "title": "codecell"
   },
   "outputs": [],
   "source": [
    "alarmJPD: JointProbabilityDistribution = jointDistribution(alarmModel_brief)\n",
    "\n",
    "assert not alarmModel_brief.is_imap(JPD = alarmJPD)\n",
    "\n",
    "\n",
    "\n"
   ]
  },
  {
   "cell_type": "markdown",
   "metadata": {
    "lines_to_next_cell": 0,
    "title": "markdown"
   },
   "source": [
    "## 3/ Joint Distribution Represented by the Bayesian Network\n",
    "Computing the Joint Distribution from the Bayesian Network, `model`:\n",
    "\n",
    "From the **chain rule of probability (also called and rule):**\n",
    "$$\n",
    "P(A, B) = P(B) \\cdot P(A \\; | \\; B)\n",
    "$$\n",
    "Now in this case for the `alarmModel`:\n",
    "$$\n",
    "\\begin{array}{ll}\n",
    "P(J, M, A, E, B)\n",
    "&= P(J \\; | \\; M, A, E, B) \\cdot P(J, M, A, E, B) \\\\\n",
    "&= P(J \\; | \\; M, A, E, B) \\cdot {\\color{cyan} (} P(M \\; | \\; A,E,B) \\cdot P(A,E,B) {\\color{cyan} )} \\\\\n",
    "&=  P(J \\; | \\; M, A, E, B) \\cdot  P(M \\; | \\; A,E,B) \\cdot {\\color{cyan} (}P(A \\; | \\; E,B) \\cdot P(E, B){\\color{cyan} )} \\\\\n",
    "&= P(J \\; | \\; M, A, E, B) \\cdot  P(M \\; | \\; A,E,B) \\cdot P(A \\; | \\; E,B) \\cdot {\\color{cyan} (}P(E \\; | \\; B) \\cdot P(B){\\color{cyan} )} \\\\\n",
    "\\end{array}\n",
    "$$"
   ]
  },
  {
   "cell_type": "code",
   "execution_count": 23,
   "metadata": {
    "lines_to_next_cell": 0,
    "title": "codecell"
   },
   "outputs": [
    {
     "data": {
      "text/plain": [
       "'P(J | M, A, E, B) * P(M | A, E, B) * P(A | E, B) * P(E | B) * P(B)'"
      ]
     },
     "execution_count": 23,
     "metadata": {},
     "output_type": "execute_result"
    }
   ],
   "source": [
    "probChainRule(['J','M','A','E','B'])"
   ]
  },
  {
   "cell_type": "markdown",
   "metadata": {
    "lines_to_next_cell": 0,
    "title": "markdown"
   },
   "source": [
    "Alarm model's `JointProbabilityDistribution` over all variables"
   ]
  },
  {
   "cell_type": "code",
   "execution_count": 24,
   "metadata": {
    "title": "codecell"
   },
   "outputs": [
    {
     "name": "stdout",
     "output_type": "stream",
     "text": [
      "+------+------+------+------+------+----------------+\n",
      "| B    | E    | A    | J    | M    |   P(B,E,A,J,M) |\n",
      "+======+======+======+======+======+================+\n",
      "| B(0) | E(0) | A(0) | J(0) | M(0) |         0.0000 |\n",
      "+------+------+------+------+------+----------------+\n",
      "| B(0) | E(0) | A(0) | J(0) | M(1) |         0.0000 |\n",
      "+------+------+------+------+------+----------------+\n",
      "| B(0) | E(0) | A(0) | J(1) | M(0) |         0.0000 |\n",
      "+------+------+------+------+------+----------------+\n",
      "| B(0) | E(0) | A(0) | J(1) | M(1) |         0.0000 |\n",
      "+------+------+------+------+------+----------------+\n",
      "| B(0) | E(0) | A(1) | J(0) | M(0) |         0.0000 |\n",
      "+------+------+------+------+------+----------------+\n",
      "| B(0) | E(0) | A(1) | J(0) | M(1) |         0.0000 |\n",
      "+------+------+------+------+------+----------------+\n",
      "| B(0) | E(0) | A(1) | J(1) | M(0) |         0.0000 |\n",
      "+------+------+------+------+------+----------------+\n",
      "| B(0) | E(0) | A(1) | J(1) | M(1) |         0.0000 |\n",
      "+------+------+------+------+------+----------------+\n",
      "| B(0) | E(1) | A(0) | J(0) | M(0) |         0.0006 |\n",
      "+------+------+------+------+------+----------------+\n",
      "| B(0) | E(1) | A(0) | J(0) | M(1) |         0.0003 |\n",
      "+------+------+------+------+------+----------------+\n",
      "| B(0) | E(1) | A(0) | J(1) | M(0) |         0.0001 |\n",
      "+------+------+------+------+------+----------------+\n",
      "| B(0) | E(1) | A(0) | J(1) | M(1) |         0.0000 |\n",
      "+------+------+------+------+------+----------------+\n",
      "| B(0) | E(1) | A(1) | J(0) | M(0) |         0.0000 |\n",
      "+------+------+------+------+------+----------------+\n",
      "| B(0) | E(1) | A(1) | J(0) | M(1) |         0.0000 |\n",
      "+------+------+------+------+------+----------------+\n",
      "| B(0) | E(1) | A(1) | J(1) | M(0) |         0.0000 |\n",
      "+------+------+------+------+------+----------------+\n",
      "| B(0) | E(1) | A(1) | J(1) | M(1) |         0.0001 |\n",
      "+------+------+------+------+------+----------------+\n",
      "| B(1) | E(0) | A(0) | J(0) | M(0) |         0.0004 |\n",
      "+------+------+------+------+------+----------------+\n",
      "| B(1) | E(0) | A(0) | J(0) | M(1) |         0.0002 |\n",
      "+------+------+------+------+------+----------------+\n",
      "| B(1) | E(0) | A(0) | J(1) | M(0) |         0.0000 |\n",
      "+------+------+------+------+------+----------------+\n",
      "| B(1) | E(0) | A(0) | J(1) | M(1) |         0.0000 |\n",
      "+------+------+------+------+------+----------------+\n",
      "| B(1) | E(0) | A(1) | J(0) | M(0) |         0.0000 |\n",
      "+------+------+------+------+------+----------------+\n",
      "| B(1) | E(0) | A(1) | J(0) | M(1) |         0.0001 |\n",
      "+------+------+------+------+------+----------------+\n",
      "| B(1) | E(0) | A(1) | J(1) | M(0) |         0.0000 |\n",
      "+------+------+------+------+------+----------------+\n",
      "| B(1) | E(0) | A(1) | J(1) | M(1) |         0.0013 |\n",
      "+------+------+------+------+------+----------------+\n",
      "| B(1) | E(1) | A(0) | J(0) | M(0) |         0.0006 |\n",
      "+------+------+------+------+------+----------------+\n",
      "| B(1) | E(1) | A(0) | J(0) | M(1) |         0.0003 |\n",
      "+------+------+------+------+------+----------------+\n",
      "| B(1) | E(1) | A(0) | J(1) | M(0) |         0.0001 |\n",
      "+------+------+------+------+------+----------------+\n",
      "| B(1) | E(1) | A(0) | J(1) | M(1) |         0.0000 |\n",
      "+------+------+------+------+------+----------------+\n",
      "| B(1) | E(1) | A(1) | J(0) | M(0) |         0.0005 |\n",
      "+------+------+------+------+------+----------------+\n",
      "| B(1) | E(1) | A(1) | J(0) | M(1) |         0.0493 |\n",
      "+------+------+------+------+------+----------------+\n",
      "| B(1) | E(1) | A(1) | J(1) | M(0) |         0.0095 |\n",
      "+------+------+------+------+------+----------------+\n",
      "| B(1) | E(1) | A(1) | J(1) | M(1) |         0.9367 |\n",
      "+------+------+------+------+------+----------------+\n"
     ]
    }
   ],
   "source": [
    "print(alarmJPD)\n",
    "\n",
    "\n"
   ]
  },
  {
   "cell_type": "markdown",
   "metadata": {
    "lines_to_next_cell": 2,
    "title": "markdown"
   },
   "source": [
    "## 4/ Inference in Bayesian Alarm Model\n",
    "\n",
    "Now let us do inference in a  Bayesian model and predict values using this model over new data points for ML tasks.\n",
    "\n",
    "### 1. Causal Reasoning in the Alarm Model\n",
    "For a causal model $A \\rightarrow B \\rightarrow C$, there are two cases:\n",
    "  * **Marginal Dependence:** ($B$ unknown): When $B$ is unknown / unobserved, there is an active trail between $A$ and $C$, meaning the probability of $A$ can influence probability of $C$ (and vice versa).\n",
    "  * **Conditional Independence:** ($B$ fixed): When $B$ is fixed, there is NO active trail between $A$ and $C$, so they are independent, which means the probability of $A$ won't influence probability of $C$ (and vice versa)."
   ]
  },
  {
   "cell_type": "code",
   "execution_count": 25,
   "metadata": {
    "lines_to_next_cell": 0,
    "title": "codecell"
   },
   "outputs": [
    {
     "data": {
      "image/svg+xml": [
       "<?xml version=\"1.0\" encoding=\"UTF-8\" standalone=\"no\"?>\n",
       "<!DOCTYPE svg PUBLIC \"-//W3C//DTD SVG 1.1//EN\"\n",
       " \"http://www.w3.org/Graphics/SVG/1.1/DTD/svg11.dtd\">\n",
       "<!-- Generated by graphviz version 2.38.0 (20140413.2041)\n",
       " -->\n",
       "<!-- Title: G Pages: 1 -->\n",
       "<svg width=\"214pt\" height=\"188pt\"\n",
       " viewBox=\"0.00 0.00 214.18 188.00\" xmlns=\"http://www.w3.org/2000/svg\" xmlns:xlink=\"http://www.w3.org/1999/xlink\">\n",
       "<g id=\"graph0\" class=\"graph\" transform=\"scale(1 1) rotate(0) translate(4 184)\">\n",
       "<title>G</title>\n",
       "<polygon fill=\"white\" stroke=\"none\" points=\"-4,4 -4,-184 210.185,-184 210.185,4 -4,4\"/>\n",
       "<!-- Burglary -->\n",
       "<g id=\"node1\" class=\"node\"><title>Burglary</title>\n",
       "<defs>\n",
       "<linearGradient id=\"l_0\" gradientUnits=\"userSpaceOnUse\" x1=\"41.8599\" y1=\"-144\" x2=\"41.8599\" y2=\"-180\" >\n",
       "<stop offset=\"0\" style=\"stop-color:#ceccff;stop-opacity:1.;\"/>\n",
       "<stop offset=\"1\" style=\"stop-color:white;stop-opacity:1.;\"/>\n",
       "</linearGradient>\n",
       "</defs>\n",
       "<ellipse fill=\"url(#l_0)\" stroke=\"#ff638d\" cx=\"41.8599\" cy=\"-162\" rx=\"41.7203\" ry=\"18\"/>\n",
       "<text text-anchor=\"middle\" x=\"41.8599\" y=\"-158.9\" font-family=\"Acme-Regular.ttf\" font-size=\"12.00\">Burglary</text>\n",
       "</g>\n",
       "<!-- Alarm -->\n",
       "<g id=\"node2\" class=\"node\"><title>Alarm</title>\n",
       "<defs>\n",
       "<linearGradient id=\"l_1\" gradientUnits=\"userSpaceOnUse\" x1=\"97.8599\" y1=\"-72\" x2=\"97.8599\" y2=\"-108\" >\n",
       "<stop offset=\"0\" style=\"stop-color:#ceccff;stop-opacity:1.;\"/>\n",
       "<stop offset=\"1\" style=\"stop-color:white;stop-opacity:1.;\"/>\n",
       "</linearGradient>\n",
       "</defs>\n",
       "<ellipse fill=\"url(#l_1)\" stroke=\"#ff638d\" cx=\"97.8599\" cy=\"-90\" rx=\"32.7527\" ry=\"18\"/>\n",
       "<text text-anchor=\"middle\" x=\"97.8599\" y=\"-86.9\" font-family=\"Acme-Regular.ttf\" font-size=\"12.00\">Alarm</text>\n",
       "</g>\n",
       "<!-- Burglary&#45;&gt;Alarm -->\n",
       "<g id=\"edge1\" class=\"edge\"><title>Burglary&#45;&gt;Alarm</title>\n",
       "<path fill=\"none\" stroke=\"#ff638d\" d=\"M54.8482,-144.765C62.0171,-135.804 71.05,-124.512 78.985,-114.594\"/>\n",
       "<polygon fill=\"#ff638d\" stroke=\"#ff638d\" points=\"81.8134,-116.661 85.3273,-106.666 76.3473,-112.288 81.8134,-116.661\"/>\n",
       "</g>\n",
       "<!-- JohnCalls -->\n",
       "<g id=\"node3\" class=\"node\"><title>JohnCalls</title>\n",
       "<defs>\n",
       "<linearGradient id=\"l_2\" gradientUnits=\"userSpaceOnUse\" x1=\"44.8599\" y1=\"-1.77636e-14\" x2=\"44.8599\" y2=\"-36\" >\n",
       "<stop offset=\"0\" style=\"stop-color:#ceccff;stop-opacity:1.;\"/>\n",
       "<stop offset=\"1\" style=\"stop-color:white;stop-opacity:1.;\"/>\n",
       "</linearGradient>\n",
       "</defs>\n",
       "<ellipse fill=\"url(#l_2)\" stroke=\"#ff638d\" cx=\"44.8599\" cy=\"-18\" rx=\"43.9143\" ry=\"18\"/>\n",
       "<text text-anchor=\"middle\" x=\"44.8599\" y=\"-14.9\" font-family=\"Acme-Regular.ttf\" font-size=\"12.00\">JohnCalls</text>\n",
       "</g>\n",
       "<!-- Alarm&#45;&gt;JohnCalls -->\n",
       "<g id=\"edge2\" class=\"edge\"><title>Alarm&#45;&gt;JohnCalls</title>\n",
       "<path fill=\"none\" stroke=\"#ff638d\" d=\"M85.8334,-73.1159C79.2193,-64.3803 70.8699,-53.3528 63.4366,-43.5352\"/>\n",
       "<polygon fill=\"#ff638d\" stroke=\"#ff638d\" points=\"66.0335,-41.1669 57.2066,-35.307 60.4527,-45.3923 66.0335,-41.1669\"/>\n",
       "</g>\n",
       "<!-- MaryCalls -->\n",
       "<g id=\"node4\" class=\"node\"><title>MaryCalls</title>\n",
       "<defs>\n",
       "<linearGradient id=\"l_3\" gradientUnits=\"userSpaceOnUse\" x1=\"151.86\" y1=\"-1.77636e-14\" x2=\"151.86\" y2=\"-36\" >\n",
       "<stop offset=\"0\" style=\"stop-color:#ceccff;stop-opacity:1.;\"/>\n",
       "<stop offset=\"1\" style=\"stop-color:white;stop-opacity:1.;\"/>\n",
       "</linearGradient>\n",
       "</defs>\n",
       "<ellipse fill=\"url(#l_3)\" stroke=\"#ff638d\" cx=\"151.86\" cy=\"-18\" rx=\"45.6069\" ry=\"18\"/>\n",
       "<text text-anchor=\"middle\" x=\"151.86\" y=\"-14.9\" font-family=\"Acme-Regular.ttf\" font-size=\"12.00\">MaryCalls</text>\n",
       "</g>\n",
       "<!-- Alarm&#45;&gt;MaryCalls -->\n",
       "<g id=\"edge3\" class=\"edge\"><title>Alarm&#45;&gt;MaryCalls</title>\n",
       "<path fill=\"none\" stroke=\"#ff638d\" d=\"M110.113,-73.1159C116.92,-64.292 125.531,-53.1298 133.162,-43.238\"/>\n",
       "<polygon fill=\"#ff638d\" stroke=\"#ff638d\" points=\"135.943,-45.3627 139.28,-35.307 130.401,-41.087 135.943,-45.3627\"/>\n",
       "</g>\n",
       "<!-- Earthquake -->\n",
       "<g id=\"node5\" class=\"node\"><title>Earthquake</title>\n",
       "<defs>\n",
       "<linearGradient id=\"l_4\" gradientUnits=\"userSpaceOnUse\" x1=\"153.86\" y1=\"-144\" x2=\"153.86\" y2=\"-180\" >\n",
       "<stop offset=\"0\" style=\"stop-color:#ceccff;stop-opacity:1.;\"/>\n",
       "<stop offset=\"1\" style=\"stop-color:white;stop-opacity:1.;\"/>\n",
       "</linearGradient>\n",
       "</defs>\n",
       "<ellipse fill=\"url(#l_4)\" stroke=\"#ff638d\" cx=\"153.86\" cy=\"-162\" rx=\"52.1504\" ry=\"18\"/>\n",
       "<text text-anchor=\"middle\" x=\"153.86\" y=\"-158.9\" font-family=\"Acme-Regular.ttf\" font-size=\"12.00\">Earthquake</text>\n",
       "</g>\n",
       "<!-- Earthquake&#45;&gt;Alarm -->\n",
       "<g id=\"edge4\" class=\"edge\"><title>Earthquake&#45;&gt;Alarm</title>\n",
       "<path fill=\"none\" stroke=\"#ff638d\" d=\"M140.589,-144.411C133.584,-135.655 124.861,-124.751 117.126,-115.082\"/>\n",
       "<polygon fill=\"#ff638d\" stroke=\"#ff638d\" points=\"119.63,-112.61 110.65,-106.988 114.164,-116.983 119.63,-112.61\"/>\n",
       "</g>\n",
       "</g>\n",
       "</svg>\n"
      ],
      "text/plain": [
       "<graphviz.dot.Digraph at 0x7f372c79d3d0>"
      ]
     },
     "execution_count": 25,
     "metadata": {},
     "output_type": "execute_result"
    }
   ],
   "source": [
    "pgmpyToGraph(alarmModel)"
   ]
  },
  {
   "cell_type": "markdown",
   "metadata": {
    "lines_to_next_cell": 0,
    "title": "markdown"
   },
   "source": [
    "### Case 1: Marginal Dependence (for Causal Model)\n",
    "For a causal model $A \\rightarrow B \\rightarrow C$, when the state of the middle node $B$ is unobserved, then an active trail is created between the nodes, namely the active trail is $A \\rightarrow B \\rightarrow C$. Information can now flow from node $A$ to node $C$ via node $B$. This implies there is a dependency between nodes $A$ and $C$, so the probability of $A$ taking on any of its states can influence the probability of $C$ taking on any of its states. This is called **marginal dependence** We can write this as: $P(A | C) \\ne P(A)$\n",
    "\n",
    "$\\color{red}{\\text{TODO}}$ left off here trying to refactor the text (continue from sublime notes pg 35 Korb and pg 336 Bayesiabook)\n",
    "$$\n",
    "\\color{Green}{ \\text{Alarm (unobserved): }\\;\\;\\;\\;\\;\\;\\;\\;\\; \\text{Burglary} \\longrightarrow \\text{Alarm} \\longrightarrow \\text{MaryCalls}}\n",
    "$$\n",
    "\n",
    "Given that the state of `Alarm` is unobserved, we can state the following equivalent statements:\n",
    "* there IS an active trail between `Burglary` and `MaryCalls`.\n",
    "* the random variables `Burglary` and `MaryCalls` are dependent.\n",
    "* the probability of `Burglary` can influence probability of `MaryCalls` (and vice versa).\n",
    "\n",
    "Similarly, the same kinds of statements can be made for the other causal chain pathways in the graph:\n",
    "\n",
    "$$\n",
    "\\color{Green}{ \\text{Alarm (unobserved): }\\;\\;\\;\\;\\;\\;\\;\\;\\; \\text{Burglary} \\longrightarrow \\text{Alarm} \\longrightarrow \\text{JohnCalls}}\n",
    "$$\n",
    "Given that the state of `Alarm` is unobserved, we can state the following equivalent statements:\n",
    "* there IS an active trail between `Burglary` and `JohnCalls`.\n",
    "* the random variables `Burglary` and `JohnCalls` are dependent.\n",
    "* the probability of `Burglary` can influence probability of `JohnCalls` (and vice versa).\n",
    "\n",
    "$$\n",
    "\\color{Green}{ \\text{Alarm (unobserved): }\\;\\;\\;\\;\\;\\;\\;\\;\\; \\text{Earthquake} \\longrightarrow \\text{Alarm} \\longrightarrow \\text{MaryCalls}}\n",
    "$$\n",
    "Given that the state of `Alarm` is unobserved, we can state the following equivalent statements:\n",
    "* there IS an active trail between `Earthquake` and `MaryCalls`.\n",
    "* the random variables `Earthquake` and `MaryCalls` are dependent.\n",
    "* the probability of `Earthquake` can influence probability of `MaryCalls` (and vice versa).\n",
    "\n",
    "$$\n",
    "\\color{Green}{ \\text{Alarm (unobserved): }\\;\\;\\;\\;\\;\\;\\;\\;\\; \\text{Earthquake} \\longrightarrow \\text{Alarm} \\longrightarrow \\text{JohnCalls}}\n",
    "$$\n",
    "Given that the state of `Alarm` is unobserved, we can state the following equivalent statements:\n",
    "* there IS an active trail between `Earthquake` and `JohnCalls`.\n",
    "* the random variables `Earthquake` and `JohnCalls` are dependent.\n",
    "* the probability of `Earthquake` can influence probability of `JohnCalls` (and vice versa)."
   ]
  },
  {
   "cell_type": "markdown",
   "metadata": {
    "lines_to_next_cell": 0,
    "title": "markdown"
   },
   "source": [
    "**Verify:** Using Active Trails"
   ]
  },
  {
   "cell_type": "code",
   "execution_count": 26,
   "metadata": {
    "title": "codecell"
   },
   "outputs": [
    {
     "name": "stdout",
     "output_type": "stream",
     "text": [
      "Burglary --> MaryCalls\n",
      "Burglary --> JohnCalls\n",
      "Burglary --> Alarm\n",
      "Burglary --> Burglary\n",
      "MaryCalls --> Earthquake\n",
      "MaryCalls --> JohnCalls\n",
      "MaryCalls --> Alarm\n",
      "MaryCalls --> MaryCalls\n",
      "MaryCalls --> Burglary\n"
     ]
    }
   ],
   "source": [
    "assert alarmModel.is_active_trail(start = Burglary.var, end = MaryCalls.var, observed = None)\n",
    "assert alarmModel.is_active_trail(start = Burglary.var, end = JohnCalls.var, observed = None)\n",
    "assert alarmModel.is_active_trail(start = Earthquake.var, end = MaryCalls.var, observed = None)\n",
    "assert alarmModel.is_active_trail(start = Earthquake.var, end = JohnCalls.var, observed = None)\n",
    "\n",
    "showActiveTrails(model = alarmModel, variables = [Burglary.var, MaryCalls.var])"
   ]
  },
  {
   "cell_type": "code",
   "execution_count": 27,
   "metadata": {
    "title": "codecell"
   },
   "outputs": [],
   "source": [
    "elim: VariableElimination = VariableElimination(model = alarmModel)"
   ]
  },
  {
   "cell_type": "markdown",
   "metadata": {
    "lines_to_next_cell": 0,
    "title": "markdown"
   },
   "source": [
    "**Verify:** Using Probabilities (example of $B \\rightarrow A \\rightarrow J$ trail)\n",
    "* **NOTE:** Causal Reasoning For Causal Model:"
   ]
  },
  {
   "cell_type": "markdown",
   "metadata": {
    "lines_to_next_cell": 0,
    "title": "markdown"
   },
   "source": [
    "The probability below is:\n",
    "$$\n",
    "P(\\text{JohnCalls} = \\text{True}) =  0.0521\n",
    "$$"
   ]
  },
  {
   "cell_type": "code",
   "execution_count": 28,
   "metadata": {
    "lines_to_next_cell": 0,
    "title": "codecell"
   },
   "outputs": [
    {
     "name": "stderr",
     "output_type": "stream",
     "text": [
      "\r",
      "  0%|          | 0/4 [00:00<?, ?it/s]"
     ]
    },
    {
     "name": "stderr",
     "output_type": "stream",
     "text": [
      "\r",
      "Finding Elimination Order: :   0%|          | 0/4 [00:00<?, ?it/s]"
     ]
    },
    {
     "name": "stderr",
     "output_type": "stream",
     "text": [
      "\r",
      "Finding Elimination Order: : 100%|██████████| 4/4 [00:00<00:00, 2012.38it/s]"
     ]
    },
    {
     "name": "stderr",
     "output_type": "stream",
     "text": [
      "\n",
      "\r",
      "  0%|          | 0/4 [00:00<?, ?it/s]"
     ]
    },
    {
     "name": "stderr",
     "output_type": "stream",
     "text": [
      "\r",
      "Eliminating: Earthquake:   0%|          | 0/4 [00:00<?, ?it/s]"
     ]
    },
    {
     "name": "stderr",
     "output_type": "stream",
     "text": [
      "\r",
      "Eliminating: MaryCalls:   0%|          | 0/4 [00:00<?, ?it/s] "
     ]
    },
    {
     "name": "stderr",
     "output_type": "stream",
     "text": [
      "\r",
      "Eliminating: Alarm:   0%|          | 0/4 [00:00<?, ?it/s]    "
     ]
    },
    {
     "name": "stderr",
     "output_type": "stream",
     "text": [
      "\r",
      "Eliminating: Burglary:   0%|          | 0/4 [00:00<?, ?it/s]"
     ]
    },
    {
     "name": "stderr",
     "output_type": "stream",
     "text": [
      "\r",
      "Eliminating: Burglary: 100%|██████████| 4/4 [00:00<00:00, 403.70it/s]"
     ]
    },
    {
     "name": "stdout",
     "output_type": "stream",
     "text": [
      "+------------------+------------------+\n",
      "| JohnCalls        |   phi(JohnCalls) |\n",
      "+==================+==================+\n",
      "| JohnCalls(True)  |           0.0521 |\n",
      "+------------------+------------------+\n",
      "| JohnCalls(False) |           0.9479 |\n",
      "+------------------+------------------+\n"
     ]
    },
    {
     "name": "stderr",
     "output_type": "stream",
     "text": [
      "\n"
     ]
    }
   ],
   "source": [
    "BJ: DiscreteFactor = elim.query(variables = [JohnCalls.var], evidence = None)\n",
    "print(BJ)"
   ]
  },
  {
   "cell_type": "markdown",
   "metadata": {
    "lines_to_next_cell": 0,
    "title": "markdown"
   },
   "source": [
    "Below we see that when there is evidence of `Burglary` and no `Alarm` was observed, there is a higher probability of `JohnCalls`, compared to when no `Burglary` was observed and no `Alarm` was observed (BJ). Specifically,\n",
    "$$\n",
    "P(\\text{JohnCalls} = \\text{True} \\; | \\; \\text{Burglary} = \\text{True}) = 0.8490\n",
    "$$\n",
    "while above:\n",
    "$$\n",
    "P(\\text{JohnCalls} = \\text{True}) =  0.0521\n",
    "$$"
   ]
  },
  {
   "cell_type": "code",
   "execution_count": 29,
   "metadata": {
    "lines_to_next_cell": 0,
    "title": "codecell"
   },
   "outputs": [
    {
     "name": "stderr",
     "output_type": "stream",
     "text": [
      "\r",
      "  0%|          | 0/3 [00:00<?, ?it/s]"
     ]
    },
    {
     "name": "stderr",
     "output_type": "stream",
     "text": [
      "\r",
      "Finding Elimination Order: :   0%|          | 0/3 [00:00<?, ?it/s]"
     ]
    },
    {
     "name": "stderr",
     "output_type": "stream",
     "text": [
      "\r",
      "Finding Elimination Order: : 100%|██████████| 3/3 [00:00<00:00, 1707.55it/s]"
     ]
    },
    {
     "name": "stderr",
     "output_type": "stream",
     "text": [
      "\n",
      "\r",
      "  0%|          | 0/3 [00:00<?, ?it/s]"
     ]
    },
    {
     "name": "stderr",
     "output_type": "stream",
     "text": [
      "\r",
      "Eliminating: MaryCalls:   0%|          | 0/3 [00:00<?, ?it/s]"
     ]
    },
    {
     "name": "stderr",
     "output_type": "stream",
     "text": [
      "\r",
      "Eliminating: Earthquake:   0%|          | 0/3 [00:00<?, ?it/s]"
     ]
    },
    {
     "name": "stderr",
     "output_type": "stream",
     "text": [
      "\r",
      "Eliminating: Alarm:   0%|          | 0/3 [00:00<?, ?it/s]     "
     ]
    },
    {
     "name": "stderr",
     "output_type": "stream",
     "text": [
      "\r",
      "Eliminating: Alarm: 100%|██████████| 3/3 [00:00<00:00, 543.87it/s]"
     ]
    },
    {
     "name": "stdout",
     "output_type": "stream",
     "text": [
      "+------------------+------------------+\n",
      "| JohnCalls        |   phi(JohnCalls) |\n",
      "+==================+==================+\n",
      "| JohnCalls(True)  |           0.8490 |\n",
      "+------------------+------------------+\n",
      "| JohnCalls(False) |           0.1510 |\n",
      "+------------------+------------------+\n"
     ]
    },
    {
     "name": "stderr",
     "output_type": "stream",
     "text": [
      "\n"
     ]
    }
   ],
   "source": [
    "BJ_1 = elim.query(variables = [JohnCalls.var], evidence = {Burglary.var: 'True'})\n",
    "print(BJ_1)"
   ]
  },
  {
   "cell_type": "markdown",
   "metadata": {
    "lines_to_next_cell": 0,
    "title": "markdown"
   },
   "source": [
    "Below we see that when there is no `Burglary` and no `Alarm` was observed, there is a lower probability of `JohnCalls`, compared to when `Burglary` did occur and no `Alarm` was observed (BJ_1).\n",
    "$$\n",
    "P(\\text{JohnCalls} = \\text{True} \\; | \\; \\text{Burglary} = \\text{False}) = 0.0513\n",
    "$$"
   ]
  },
  {
   "cell_type": "code",
   "execution_count": 30,
   "metadata": {
    "lines_to_next_cell": 0,
    "title": "codecell"
   },
   "outputs": [
    {
     "name": "stderr",
     "output_type": "stream",
     "text": [
      "\r",
      "  0%|          | 0/3 [00:00<?, ?it/s]"
     ]
    },
    {
     "name": "stderr",
     "output_type": "stream",
     "text": [
      "\r",
      "Finding Elimination Order: :   0%|          | 0/3 [00:00<?, ?it/s]"
     ]
    },
    {
     "name": "stderr",
     "output_type": "stream",
     "text": [
      "\r",
      "Finding Elimination Order: : 100%|██████████| 3/3 [00:00<00:00, 1697.64it/s]"
     ]
    },
    {
     "name": "stderr",
     "output_type": "stream",
     "text": [
      "\n",
      "\r",
      "  0%|          | 0/3 [00:00<?, ?it/s]"
     ]
    },
    {
     "name": "stderr",
     "output_type": "stream",
     "text": [
      "\r",
      "Eliminating: MaryCalls:   0%|          | 0/3 [00:00<?, ?it/s]"
     ]
    },
    {
     "name": "stderr",
     "output_type": "stream",
     "text": [
      "\r",
      "Eliminating: Earthquake:   0%|          | 0/3 [00:00<?, ?it/s]"
     ]
    },
    {
     "name": "stderr",
     "output_type": "stream",
     "text": [
      "\r",
      "Eliminating: Alarm:   0%|          | 0/3 [00:00<?, ?it/s]     "
     ]
    },
    {
     "name": "stderr",
     "output_type": "stream",
     "text": [
      "\r",
      "Eliminating: Alarm: 100%|██████████| 3/3 [00:00<00:00, 474.08it/s]"
     ]
    },
    {
     "name": "stdout",
     "output_type": "stream",
     "text": [
      "+------------------+------------------+\n",
      "| JohnCalls        |   phi(JohnCalls) |\n",
      "+==================+==================+\n",
      "| JohnCalls(True)  |           0.0513 |\n",
      "+------------------+------------------+\n",
      "| JohnCalls(False) |           0.9487 |\n",
      "+------------------+------------------+\n"
     ]
    },
    {
     "name": "stderr",
     "output_type": "stream",
     "text": [
      "\n"
     ]
    }
   ],
   "source": [
    "BJ_2 = elim.query(variables = [JohnCalls.var], evidence = {Burglary.var:'False'})\n",
    "print(BJ_2)"
   ]
  },
  {
   "cell_type": "markdown",
   "metadata": {
    "lines_to_next_cell": 0,
    "title": "markdown"
   },
   "source": [
    "Through the above steps, we observed some probabilities conditional on some states. To present them all in one place, here are the probabilities that `JohnCalls = True, where the last two are conditional on `Burglary.states = ['True', 'False']`.\n",
    "$$\n",
    "\\begin{array}{ll}\n",
    "P(\\text{JohnCalls} = \\text{True}) &= 0.0521 \\\\\n",
    "P(\\text{JohnCalls} = \\text{True} \\; | \\; \\text{Burglary} = \\text{True}) &= 0.8490 \\\\\n",
    "P(\\text{JohnCalls} = \\text{True} \\; | \\; \\text{Burglary} = \\text{False}) &= 0.0513\n",
    "\\end{array}\n",
    "$$\n",
    "From probability theory, we know that two random variables $A$ and $B$ are independent if and only if $P(A) = P(A \\; | \\; B)$ (by definition this statement holds for all the states that the random variables $A$ and $B$ can take on).\n",
    "\n",
    "Therefore, the fact that the above probabilities are not the same implies the random variables `JohnCalls` and `Burglary` are dependent (not independent). This is expressed in probability notation as follows:\n",
    "$$\n",
    "P(\\text{JohnCalls}) \\ne P(\\text{JohnCalls} \\; | \\; \\text{Burglary})\n",
    "$$\n",
    "Using pgmpy, we can access the previously calculated probabilites using the `.values` accessor to assert the probabilities aren't equal, which asserts the random variables `JohnCalls` and `Burglary` are dependent:"
   ]
  },
  {
   "cell_type": "code",
   "execution_count": 31,
   "metadata": {
    "lines_to_next_cell": 2,
    "title": "codecell"
   },
   "outputs": [],
   "source": [
    "assert (BJ.values != BJ_1.values).all() and (BJ.values != BJ_2.values).all(), \"Check: variables Burglary and JohnCalls are dependent, given that Alarm's state is unobserved \""
   ]
  },
  {
   "cell_type": "markdown",
   "metadata": {
    "lines_to_next_cell": 0,
    "title": "markdown"
   },
   "source": [
    "**Verify:** Using Probabilities (example of $E \\rightarrow A \\rightarrow M$ trail)\n",
    "* **NOTE:** Causal Reasoning For Causal Model:"
   ]
  },
  {
   "cell_type": "markdown",
   "metadata": {
    "lines_to_next_cell": 0,
    "title": "markdown"
   },
   "source": [
    "The probability below is:\n",
    "$$\n",
    "P(\\text{MaryCalls} = \\text{True}) = 0.0117\n",
    "$$"
   ]
  },
  {
   "cell_type": "code",
   "execution_count": 32,
   "metadata": {
    "lines_to_next_cell": 0,
    "title": "codecell"
   },
   "outputs": [
    {
     "name": "stderr",
     "output_type": "stream",
     "text": [
      "\r",
      "  0%|          | 0/4 [00:00<?, ?it/s]"
     ]
    },
    {
     "name": "stderr",
     "output_type": "stream",
     "text": [
      "\r",
      "Finding Elimination Order: :   0%|          | 0/4 [00:00<?, ?it/s]"
     ]
    },
    {
     "name": "stderr",
     "output_type": "stream",
     "text": [
      "\r",
      "Finding Elimination Order: : 100%|██████████| 4/4 [00:00<00:00, 1555.75it/s]"
     ]
    },
    {
     "name": "stderr",
     "output_type": "stream",
     "text": [
      "\n",
      "\r",
      "  0%|          | 0/4 [00:00<?, ?it/s]"
     ]
    },
    {
     "name": "stderr",
     "output_type": "stream",
     "text": [
      "\r",
      "Eliminating: Earthquake:   0%|          | 0/4 [00:00<?, ?it/s]"
     ]
    },
    {
     "name": "stderr",
     "output_type": "stream",
     "text": [
      "\r",
      "Eliminating: JohnCalls:   0%|          | 0/4 [00:00<?, ?it/s] "
     ]
    },
    {
     "name": "stderr",
     "output_type": "stream",
     "text": [
      "\r",
      "Eliminating: Alarm:   0%|          | 0/4 [00:00<?, ?it/s]    "
     ]
    },
    {
     "name": "stderr",
     "output_type": "stream",
     "text": [
      "\r",
      "Eliminating: Burglary:   0%|          | 0/4 [00:00<?, ?it/s]"
     ]
    },
    {
     "name": "stderr",
     "output_type": "stream",
     "text": [
      "\r",
      "Eliminating: Burglary: 100%|██████████| 4/4 [00:00<00:00, 521.27it/s]"
     ]
    },
    {
     "name": "stdout",
     "output_type": "stream",
     "text": [
      "+------------------+------------------+\n",
      "| MaryCalls        |   phi(MaryCalls) |\n",
      "+==================+==================+\n",
      "| MaryCalls(True)  |           0.0117 |\n",
      "+------------------+------------------+\n",
      "| MaryCalls(False) |           0.9883 |\n",
      "+------------------+------------------+\n"
     ]
    },
    {
     "name": "stderr",
     "output_type": "stream",
     "text": [
      "\n"
     ]
    }
   ],
   "source": [
    "EM: DiscreteFactor = elim.query(variables = [MaryCalls.var], evidence = None)\n",
    "print(EM)"
   ]
  },
  {
   "cell_type": "markdown",
   "metadata": {
    "lines_to_next_cell": 0,
    "title": "markdown"
   },
   "source": [
    "Below we see that when `Earthquake` occurs and no `Alarm` was observed, there is a higher probability of `MaryCalls`, compared to when neither `Alarm` nor `Earthquake` were observed:\n",
    "$$\n",
    "P(\\text{MaryCalls} = \\text{True} \\; | \\; \\text{Earthquake} = \\text{True}) = 0.2106\n",
    "$$"
   ]
  },
  {
   "cell_type": "code",
   "execution_count": 33,
   "metadata": {
    "lines_to_next_cell": 0,
    "title": "codecell"
   },
   "outputs": [
    {
     "name": "stderr",
     "output_type": "stream",
     "text": [
      "\r",
      "  0%|          | 0/3 [00:00<?, ?it/s]"
     ]
    },
    {
     "name": "stderr",
     "output_type": "stream",
     "text": [
      "\r",
      "Finding Elimination Order: :   0%|          | 0/3 [00:00<?, ?it/s]"
     ]
    },
    {
     "name": "stderr",
     "output_type": "stream",
     "text": [
      "\r",
      "Finding Elimination Order: : 100%|██████████| 3/3 [00:00<00:00, 1271.26it/s]"
     ]
    },
    {
     "name": "stderr",
     "output_type": "stream",
     "text": [
      "\n",
      "\r",
      "  0%|          | 0/3 [00:00<?, ?it/s]"
     ]
    },
    {
     "name": "stderr",
     "output_type": "stream",
     "text": [
      "\r",
      "Eliminating: JohnCalls:   0%|          | 0/3 [00:00<?, ?it/s]"
     ]
    },
    {
     "name": "stderr",
     "output_type": "stream",
     "text": [
      "\r",
      "Eliminating: Alarm:   0%|          | 0/3 [00:00<?, ?it/s]    "
     ]
    },
    {
     "name": "stderr",
     "output_type": "stream",
     "text": [
      "\r",
      "Eliminating: Burglary:   0%|          | 0/3 [00:00<?, ?it/s]"
     ]
    },
    {
     "name": "stderr",
     "output_type": "stream",
     "text": [
      "\r",
      "Eliminating: Burglary: 100%|██████████| 3/3 [00:00<00:00, 424.08it/s]"
     ]
    },
    {
     "name": "stdout",
     "output_type": "stream",
     "text": [
      "+------------------+------------------+\n",
      "| MaryCalls        |   phi(MaryCalls) |\n",
      "+==================+==================+\n",
      "| MaryCalls(True)  |           0.2106 |\n",
      "+------------------+------------------+\n",
      "| MaryCalls(False) |           0.7894 |\n",
      "+------------------+------------------+\n"
     ]
    },
    {
     "name": "stderr",
     "output_type": "stream",
     "text": [
      "\n"
     ]
    }
   ],
   "source": [
    "EM_1 = elim.query(variables = [MaryCalls.var], evidence = {Earthquake.var:'True'})\n",
    "print(EM_1)"
   ]
  },
  {
   "cell_type": "markdown",
   "metadata": {
    "lines_to_next_cell": 0,
    "title": "markdown"
   },
   "source": [
    "Below we see that when `Earthquake` does not occur and no `Alarm` was observed, there is a lower probability of `MaryCalls`, compared to when `Earthquake` occurs and no `Alarm` was observed:\n",
    "$$\n",
    "P(\\text{MaryCalls} = \\text{True} \\; | \\; \\text{Earthquake} = \\text{False}) = 0.0113\n",
    "$$\n",
    "Incidentally, this is the same probability as when no `Earthquake` and no `Alarm` was observed."
   ]
  },
  {
   "cell_type": "code",
   "execution_count": 34,
   "metadata": {
    "title": "codecell"
   },
   "outputs": [
    {
     "name": "stderr",
     "output_type": "stream",
     "text": [
      "\r",
      "  0%|          | 0/3 [00:00<?, ?it/s]"
     ]
    },
    {
     "name": "stderr",
     "output_type": "stream",
     "text": [
      "\r",
      "Finding Elimination Order: :   0%|          | 0/3 [00:00<?, ?it/s]"
     ]
    },
    {
     "name": "stderr",
     "output_type": "stream",
     "text": [
      "\r",
      "Finding Elimination Order: : 100%|██████████| 3/3 [00:00<00:00, 983.12it/s]"
     ]
    },
    {
     "name": "stderr",
     "output_type": "stream",
     "text": [
      "\n",
      "\r",
      "  0%|          | 0/3 [00:00<?, ?it/s]"
     ]
    },
    {
     "name": "stderr",
     "output_type": "stream",
     "text": [
      "\r",
      "Eliminating: JohnCalls:   0%|          | 0/3 [00:00<?, ?it/s]"
     ]
    },
    {
     "name": "stderr",
     "output_type": "stream",
     "text": [
      "\r",
      "Eliminating: Alarm:   0%|          | 0/3 [00:00<?, ?it/s]    "
     ]
    },
    {
     "name": "stderr",
     "output_type": "stream",
     "text": [
      "\r",
      "Eliminating: Burglary:   0%|          | 0/3 [00:00<?, ?it/s]"
     ]
    },
    {
     "name": "stderr",
     "output_type": "stream",
     "text": [
      "\r",
      "Eliminating: Burglary: 100%|██████████| 3/3 [00:00<00:00, 445.95it/s]"
     ]
    },
    {
     "name": "stderr",
     "output_type": "stream",
     "text": [
      "\n"
     ]
    },
    {
     "name": "stdout",
     "output_type": "stream",
     "text": [
      "+------------------+------------------+\n",
      "| MaryCalls        |   phi(MaryCalls) |\n",
      "+==================+==================+\n",
      "| MaryCalls(True)  |           0.0113 |\n",
      "+------------------+------------------+\n",
      "| MaryCalls(False) |           0.9887 |\n",
      "+------------------+------------------+\n"
     ]
    }
   ],
   "source": [
    "EM_2 = elim.query(variables = [MaryCalls.var], evidence = {Earthquake.var:'False'})\n",
    "print(EM_2)"
   ]
  },
  {
   "cell_type": "markdown",
   "metadata": {
    "lines_to_next_cell": 0,
    "title": "markdown"
   },
   "source": [
    "Through the above steps, we observed some probabilities conditional on some states. To present them all in one place, here are the probabilities that `MaryCalls = True, where the last two are conditional on `Earthquake.states = ['True', 'False']`.\n",
    "$$\n",
    "\\begin{array}{ll}\n",
    "P(\\text{MaryCalls} = \\text{True}) &= 0.0117 \\\\\n",
    "P(\\text{MaryCalls} = \\text{True} \\; | \\; \\text{Earthquake} = \\text{True}) &= 0.2106 \\\\\n",
    "P(\\text{MaryCalls} = \\text{True} \\; | \\; \\text{Earthquake} = \\text{False}) &= 0.0113\n",
    "\\end{array}\n",
    "$$\n",
    "From probability theory, we know that two random variables $A$ and $B$ are independent if and only if $P(A) = P(A \\; | \\; B)$ (by definition this statement holds for all the states that the random variables $A$ and $B$ can take on).\n",
    "\n",
    "Therefore, the fact that the above probabilities are not the same implies the random variables `MaryCalls` and `Earthquake` are dependent (not independent). This is expressed in probability notation as follows:\n",
    "$$\n",
    "P(\\text{MaryCalls}) \\ne P(\\text{MaryCalls} \\; | \\; \\text{Earthquake})\n",
    "$$\n",
    "Using pgmpy, we can access the previously calculated probabilites using the `.values` accessor to assert the probabilities aren't equal, which asserts that the random variables `MaryCalls` and `Earthquake` are dependent:"
   ]
  },
  {
   "cell_type": "code",
   "execution_count": 35,
   "metadata": {
    "title": "codecell"
   },
   "outputs": [],
   "source": [
    "assert (EM.values != EM_1.values).all() and (EM.values != EM_2.values).all(), \"Check: random variables Earthquake and MaryCalls are independent, given that Alarm state is unobserved \"\n",
    "\n",
    "\n"
   ]
  },
  {
   "cell_type": "markdown",
   "metadata": {
    "lines_to_next_cell": 0,
    "title": "markdown"
   },
   "source": [
    "### Case 2: Conditional Independence (for Causal Model)\n",
    "For a causal model $A \\rightarrow B \\rightarrow C$, when the state of the middle node $B$ is unobserved, then an active trail is created between the nodes, namely the active trail is $A \\rightarrow B \\rightarrow C$. Information can now flow from node $A$ to node $C$ via node $B$. This implies there is a dependency between nodes $A$ and $C$, so the probability of $A$ taking on any of its states can influence the probability of $C$ taking on any of its states. This is called **marginal dependence** We can write this as: $P(A | C) \\ne P(A)$ or even as $P(C | A) \\ne P(C)$.\n",
    "\n",
    "$$\n",
    "\\color{DeepSkyBlue}{ \\text{Alarm (observed): }\\;\\;\\;\\;\\;\\;\\;\\; \\text{Burglary} \\; \\bot \\; \\text{MaryCalls} \\; | \\; \\text{Alarm}}\n",
    "$$\n",
    "Given that `Alarm`'s state is fixed / observed, we can state the following equivalent statements:\n",
    "* there is NO active trail between `Burglary` and `MaryCalls`.\n",
    "* `Burglary` and `MaryCalls` are locally independent.\n",
    "* the probability of `Burglary` won't influence probability of `MaryCalls` (and vice versa).\n",
    "\n",
    "$$\n",
    "\\color{DeepSkyBlue}{ \\text{Alarm (observed): }\\;\\;\\;\\;\\;\\;\\;\\; \\text{Burglary} \\; \\bot \\; \\text{JohnCalls} \\; | \\; \\text{Alarm}}\n",
    "$$\n",
    "Given that `Alarm`'s state is fixed / observed, we can state the following equivalent statements:\n",
    "* there is NO active trail between `Burglary` and `JohnCalls`.\n",
    "* `Burglary` and `JohnCalls` are locally independent.\n",
    "* the probability of `Burglary` won't influence probability of `JohnCalls` (and vice versa).\n",
    "\n",
    "$$\n",
    "\\color{DeepSkyBlue}{ \\text{Alarm (observed): }\\;\\;\\;\\;\\;\\;\\;\\; \\text{Earthquake} \\; \\bot \\; \\text{MaryCalls} \\; | \\; \\text{Alarm}}\n",
    "$$\n",
    "Given that `Alarm`'s state is fixed / observed, we can state the following equivalent statements:\n",
    "* there is NO active trail between `Earthquake` and `MaryCalls`.\n",
    "* `Earthquake` and `MaryCalls` are locally independent.\n",
    "* the probability of `Earthquake` won't influence probability of `MaryCalls` (and vice versa).\n",
    "\n",
    "$$\n",
    "\\color{DeepSkyBlue}{ \\text{Alarm (observed): }\\;\\;\\;\\;\\;\\;\\;\\; \\text{Earthquake} \\; \\bot \\; \\text{JohnCalls} \\; | \\; \\text{Alarm}}\n",
    "$$\n",
    "Given that `Alarm`'s state is fixed / observed, we can state the following equivalent statements:\n",
    "* there is NO active trail between `Earthquake` and `JohnCalls`.\n",
    "* `Earthquake` and `JohnCalls` are locally independent.\n",
    "* the probability of `Earthquake` won't influence probability of `JohnCalls` (and vice versa)."
   ]
  },
  {
   "cell_type": "markdown",
   "metadata": {
    "lines_to_next_cell": 0,
    "title": "markdown"
   },
   "source": [
    "**Verify:** Using Active Trails"
   ]
  },
  {
   "cell_type": "code",
   "execution_count": 36,
   "metadata": {
    "title": "codecell"
   },
   "outputs": [
    {
     "name": "stdout",
     "output_type": "stream",
     "text": [
      "Burglary --> Earthquake\n",
      "Burglary --> Burglary\n",
      "MaryCalls --> MaryCalls\n"
     ]
    }
   ],
   "source": [
    "assert not alarmModel.is_active_trail(start = Burglary.var, end = MaryCalls.var, observed = Alarm.var)\n",
    "assert not alarmModel.is_active_trail(start = Burglary.var, end = JohnCalls.var, observed = Alarm.var)\n",
    "assert not alarmModel.is_active_trail(start = Earthquake.var, end = MaryCalls.var, observed = Alarm.var)\n",
    "assert not alarmModel.is_active_trail(start = Earthquake.var, end = JohnCalls.var, observed = Alarm.var)\n",
    "\n",
    "showActiveTrails(model = alarmModel, variables = [Burglary.var, MaryCalls.var], observed = Alarm.var)"
   ]
  },
  {
   "cell_type": "markdown",
   "metadata": {
    "lines_to_next_cell": 0,
    "title": "markdown"
   },
   "source": [
    "**Verify:** Using Independencies (just the $(B \\; \\bot \\; M \\; | \\; A)$ independence)"
   ]
  },
  {
   "cell_type": "code",
   "execution_count": 37,
   "metadata": {
    "title": "codecell"
   },
   "outputs": [
    {
     "data": {
      "text/plain": [
       "(MaryCalls _|_ JohnCalls | Alarm)\n",
       "(MaryCalls _|_ Burglary | Alarm)\n",
       "(MaryCalls _|_ Earthquake | Alarm, Burglary)\n",
       "(MaryCalls _|_ Burglary | Earthquake, JohnCalls, Alarm)\n",
       "(MaryCalls _|_ JohnCalls, Burglary | Earthquake, Alarm)\n",
       "(MaryCalls _|_ Burglary | JohnCalls, Alarm)\n",
       "(MaryCalls _|_ Earthquake, JohnCalls, Burglary | Alarm)\n",
       "(MaryCalls _|_ Earthquake, JohnCalls | Alarm)\n",
       "(MaryCalls _|_ Earthquake, Burglary | JohnCalls, Alarm)\n",
       "(MaryCalls _|_ JohnCalls, Burglary | Alarm)\n",
       "(MaryCalls _|_ JohnCalls | Alarm, Burglary)\n",
       "(MaryCalls _|_ Earthquake, JohnCalls | Alarm, Burglary)\n",
       "(MaryCalls _|_ Earthquake | Alarm)\n",
       "(MaryCalls _|_ JohnCalls | Earthquake, Alarm, Burglary)\n",
       "(MaryCalls _|_ Earthquake, Burglary | Alarm)\n",
       "(MaryCalls _|_ Earthquake | JohnCalls, Alarm)\n",
       "(MaryCalls _|_ Earthquake | JohnCalls, Alarm, Burglary)\n",
       "(MaryCalls _|_ Burglary | Earthquake, Alarm)\n",
       "(MaryCalls _|_ JohnCalls | Earthquake, Alarm)"
      ]
     },
     "execution_count": 37,
     "metadata": {},
     "output_type": "execute_result"
    }
   ],
   "source": [
    "indepBurglary: IndependenceAssertion = Independencies([Burglary.var, MaryCalls.var, [Alarm.var]]).get_assertions()[0]; indepBurglary\n",
    "\n",
    "indepMary: IndependenceAssertion = Independencies([MaryCalls.var, Burglary.var, [Alarm.var]]).get_assertions()[0]; indepMary\n",
    "\n",
    "# Using the fact that closure returns independencies that are IMPLIED by the current independencies:\n",
    "assert (str(indepMary) == '(MaryCalls _|_ Burglary | Alarm)' and\n",
    "        indepMary in alarmModel.local_independencies(MaryCalls.var).closure().get_assertions()),  \\\n",
    "        \"Check 1: Burglary and MaryCalls are independent once conditional on Alarm\"\n",
    "\n",
    "assert (str(indepBurglary) == '(Burglary _|_ MaryCalls | Alarm)' and\n",
    "        indepBurglary in alarmModel.local_independencies(MaryCalls.var).closure().get_assertions()), \\\n",
    "        \"Check 2: Burglary and MaryCalls are independent once conditional on Alarm\"\n",
    "\n",
    "alarmModel.local_independencies(MaryCalls.var).closure()"
   ]
  },
  {
   "cell_type": "code",
   "execution_count": 38,
   "metadata": {
    "title": "codecell"
   },
   "outputs": [
    {
     "name": "stdout",
     "output_type": "stream",
     "text": [
      "                   INDEPENDENCIES TABLE                  \n",
      "Fancy Notation              .....     Regular Notation   \n",
      "---------------------------------------------------------\n",
      "(M _|_ {B ∩ J ∩ E} | A)     .....     (M _|_ B, J, E | A)\n",
      "(M _|_ {B ∩ E ∩ J} | A)     .....     (M _|_ B, E, J | A)\n",
      "(M _|_ {J ∩ B ∩ E} | A)     .....     (M _|_ J, B, E | A)\n",
      "(M _|_ {J ∩ E ∩ B} | A)     .....     (M _|_ J, E, B | A)\n",
      "(M _|_ {E ∩ B ∩ J} | A)     .....     (M _|_ E, B, J | A)\n",
      "(M _|_ {E ∩ J ∩ B} | A)     .....     (M _|_ E, J, B | A)\n"
     ]
    }
   ],
   "source": [
    "# See: MaryCalls and Burglary are conditionally independent on Alarm:\n",
    "indepSynonymTable(model = alarmModel_brief, queryNode = 'M')\n",
    "\n"
   ]
  },
  {
   "cell_type": "markdown",
   "metadata": {
    "lines_to_next_cell": 0,
    "title": "markdown"
   },
   "source": [
    "**Verify:** Using Probabilities Method (just the $(E \\; \\bot \\; J \\; | \\; A)$ independence)"
   ]
  },
  {
   "cell_type": "code",
   "execution_count": 39,
   "metadata": {
    "title": "codecell"
   },
   "outputs": [
    {
     "name": "stderr",
     "output_type": "stream",
     "text": [
      "\r",
      "  0%|          | 0/3 [00:00<?, ?it/s]"
     ]
    },
    {
     "name": "stderr",
     "output_type": "stream",
     "text": [
      "\r",
      "Finding Elimination Order: :   0%|          | 0/3 [00:00<?, ?it/s]"
     ]
    },
    {
     "name": "stderr",
     "output_type": "stream",
     "text": [
      "\r",
      "Finding Elimination Order: : 100%|██████████| 3/3 [00:00<00:00, 1190.10it/s]"
     ]
    },
    {
     "name": "stderr",
     "output_type": "stream",
     "text": [
      "\n",
      "\r",
      "  0%|          | 0/3 [00:00<?, ?it/s]"
     ]
    },
    {
     "name": "stderr",
     "output_type": "stream",
     "text": [
      "\r",
      "Eliminating: Earthquake:   0%|          | 0/3 [00:00<?, ?it/s]"
     ]
    },
    {
     "name": "stderr",
     "output_type": "stream",
     "text": [
      "\r",
      "Eliminating: MaryCalls:   0%|          | 0/3 [00:00<?, ?it/s] "
     ]
    },
    {
     "name": "stderr",
     "output_type": "stream",
     "text": [
      "\r",
      "Eliminating: Burglary:   0%|          | 0/3 [00:00<?, ?it/s] "
     ]
    },
    {
     "name": "stderr",
     "output_type": "stream",
     "text": [
      "\r",
      "Eliminating: Burglary: 100%|██████████| 3/3 [00:00<00:00, 573.80it/s]"
     ]
    },
    {
     "name": "stderr",
     "output_type": "stream",
     "text": [
      "\n"
     ]
    },
    {
     "name": "stderr",
     "output_type": "stream",
     "text": [
      "\r",
      "  0%|          | 0/2 [00:00<?, ?it/s]"
     ]
    },
    {
     "name": "stderr",
     "output_type": "stream",
     "text": [
      "\r",
      "Finding Elimination Order: :   0%|          | 0/2 [00:00<?, ?it/s]"
     ]
    },
    {
     "name": "stderr",
     "output_type": "stream",
     "text": [
      "\r",
      "Finding Elimination Order: : 100%|██████████| 2/2 [00:00<00:00, 1182.49it/s]"
     ]
    },
    {
     "name": "stderr",
     "output_type": "stream",
     "text": [
      "\n",
      "\r",
      "  0%|          | 0/2 [00:00<?, ?it/s]"
     ]
    },
    {
     "name": "stderr",
     "output_type": "stream",
     "text": [
      "\r",
      "Eliminating: MaryCalls:   0%|          | 0/2 [00:00<?, ?it/s]"
     ]
    },
    {
     "name": "stderr",
     "output_type": "stream",
     "text": [
      "\r",
      "Eliminating: Burglary:   0%|          | 0/2 [00:00<?, ?it/s] "
     ]
    },
    {
     "name": "stderr",
     "output_type": "stream",
     "text": [
      "\r",
      "Eliminating: Burglary: 100%|██████████| 2/2 [00:00<00:00, 782.88it/s]"
     ]
    },
    {
     "name": "stderr",
     "output_type": "stream",
     "text": [
      "\n",
      "\r",
      "  0%|          | 0/2 [00:00<?, ?it/s]"
     ]
    },
    {
     "name": "stderr",
     "output_type": "stream",
     "text": [
      "\r",
      "Finding Elimination Order: :   0%|          | 0/2 [00:00<?, ?it/s]"
     ]
    },
    {
     "name": "stderr",
     "output_type": "stream",
     "text": [
      "\r",
      "Finding Elimination Order: : 100%|██████████| 2/2 [00:00<00:00, 559.05it/s]"
     ]
    },
    {
     "name": "stderr",
     "output_type": "stream",
     "text": [
      "\n"
     ]
    },
    {
     "name": "stderr",
     "output_type": "stream",
     "text": [
      "\r",
      "  0%|          | 0/2 [00:00<?, ?it/s]"
     ]
    },
    {
     "name": "stderr",
     "output_type": "stream",
     "text": [
      "\r",
      "Eliminating: MaryCalls:   0%|          | 0/2 [00:00<?, ?it/s]"
     ]
    },
    {
     "name": "stderr",
     "output_type": "stream",
     "text": [
      "\r",
      "Eliminating: Burglary:   0%|          | 0/2 [00:00<?, ?it/s] "
     ]
    },
    {
     "name": "stderr",
     "output_type": "stream",
     "text": [
      "\r",
      "Eliminating: Burglary: 100%|██████████| 2/2 [00:00<00:00, 252.72it/s]"
     ]
    },
    {
     "name": "stdout",
     "output_type": "stream",
     "text": [
      "+------------------+------------------+\n",
      "| JohnCalls        |   phi(JohnCalls) |\n",
      "+==================+==================+\n",
      "| JohnCalls(True)  |           0.9000 |\n",
      "+------------------+------------------+\n",
      "| JohnCalls(False) |           0.1000 |\n",
      "+------------------+------------------+\n"
     ]
    },
    {
     "name": "stderr",
     "output_type": "stream",
     "text": [
      "\n"
     ]
    }
   ],
   "source": [
    "\n",
    "# Case 1: Alarm = True\n",
    "EAJ: DiscreteFactor = elim.query(variables = [JohnCalls.var], evidence = {Alarm.var: 'True'})\n",
    "EAJ_1 = elim.query(variables = [JohnCalls.var], evidence = {Alarm.var: 'True', Earthquake.var:'True'})\n",
    "EAJ_2 = elim.query(variables = [JohnCalls.var], evidence = {Alarm.var: 'True', Earthquake.var:'False'})\n",
    "\n",
    "print(EAJ)"
   ]
  },
  {
   "cell_type": "markdown",
   "metadata": {
    "title": "markdown"
   },
   "source": [
    "Through the above steps, we observed some probabilities conditional on some states:\n",
    "$$\n",
    "\\begin{array}{ll}\n",
    "P(\\text{JohnCalls} = \\text{True} \\; | \\; \\text{Alarm} = \\text{True})\n",
    "&= P(\\text{JohnCalls} = \\text{True} \\; | \\; \\text{Alarm} = \\text{True} \\; \\cap \\; \\text{Earthquake} = \\text{True})  \\\\\n",
    "&= P(\\text{JohnCalls} = \\text{True} \\; | \\; \\text{Alarm} = \\text{True} \\; \\cap \\; \\text{Earthquake} = \\text{False}) \\\\\n",
    "&= 0.90\n",
    "\\end{array}\n",
    "$$\n",
    "From probability theory, we know that two random variables $A$ and $B$ are independent if and only if $P(A) = P(A \\; | \\; B)$ (by definition this statement holds for all the states that the random variables $A$ and $B$ can take on).\n",
    "\n",
    "Therefore, the fact that the above probabilities ARE the same implies the random variables `JohnCalls` and `Earthquake` are independent when having observed `Alarm = True`. This is expressed in probability notation as follows:\n",
    "$$\n",
    "P(\\text{JohnCalls} \\; | \\; \\text{Alarm = True}) = P(\\text{JohnCalls} \\; | \\; \\text{Earthquake} \\cap \\text{Alarm = True})\n",
    "$$\n",
    "\n",
    "Using pgmpy, we can access the previously calculated probabilites using the `.values` accessor to assert the probabilities ARE equal, which asserts that the random variables `JohnCalls` and `Earthquake` are independent (given `Alarm = True`):"
   ]
  },
  {
   "cell_type": "code",
   "execution_count": 40,
   "metadata": {
    "title": "codecell"
   },
   "outputs": [],
   "source": [
    "\n",
    "assert (EAJ.values == EAJ_1.values).all() and (EAJ.values == EAJ_2.values).all(), \"Check: random variables Earthquake and JohnCalls are independent when Alarm state is observed (e.g. Alarm = True)\"\n",
    "\n"
   ]
  },
  {
   "cell_type": "markdown",
   "metadata": {
    "lines_to_next_cell": 0,
    "title": "markdown"
   },
   "source": [
    "Through the above steps, we observed some probabilities conditional on some states:\n",
    "$$\n",
    "\\begin{array}{ll}\n",
    "P(\\text{JohnCalls} = \\text{True} \\; | \\; \\text{Alarm} = \\text{False})\n",
    "&= P(\\text{JohnCalls} = \\text{True} \\; | \\; \\text{Alarm} = \\text{False} \\; \\cap \\; \\text{Earthquake} = \\text{True})  \\\\\n",
    "&= P(\\text{JohnCalls} = \\text{True} \\; | \\; \\text{Alarm} = \\text{False} \\; \\cap \\; \\text{Earthquake} = \\text{False}) \\\\\n",
    "&= 0.05\n",
    "\\end{array}\n",
    "$$\n",
    "From probability theory, we know that two random variables $A$ and $B$ are independent if and only if $P(A) = P(A \\; | \\; B)$ (by definition this statement holds for all the states that the random variables $A$ and $B$ can take on).\n",
    "\n",
    "Therefore, the fact that the above probabilities ARE the same implies the random variables `JohnCalls` and `Earthquake` are independent when having observed `Alarm = False`. This is expressed in probability notation as follows:\n",
    "$$\n",
    "P(\\text{JohnCalls} \\; | \\; \\text{Alarm = False}) = P(\\text{JohnCalls} \\; | \\; \\text{Earthquake} \\cap \\text{Alarm = False})\n",
    "$$\n",
    "\n",
    "Using pgmpy, we can access the previously calculated probabilites using the `.values` accessor to assert the probabilities ARE equal, which asserts that the random variables `JohnCalls` and `Earthquake` are independent (given `Alarm = False`)"
   ]
  },
  {
   "cell_type": "code",
   "execution_count": 41,
   "metadata": {
    "title": "codecell"
   },
   "outputs": [
    {
     "name": "stderr",
     "output_type": "stream",
     "text": [
      "\r",
      "  0%|          | 0/3 [00:00<?, ?it/s]"
     ]
    },
    {
     "name": "stderr",
     "output_type": "stream",
     "text": [
      "\r",
      "Finding Elimination Order: :   0%|          | 0/3 [00:00<?, ?it/s]"
     ]
    },
    {
     "name": "stderr",
     "output_type": "stream",
     "text": [
      "\r",
      "Finding Elimination Order: : 100%|██████████| 3/3 [00:00<00:00, 1518.57it/s]"
     ]
    },
    {
     "name": "stderr",
     "output_type": "stream",
     "text": [
      "\n",
      "\r",
      "  0%|          | 0/3 [00:00<?, ?it/s]"
     ]
    },
    {
     "name": "stderr",
     "output_type": "stream",
     "text": [
      "\r",
      "Eliminating: Earthquake:   0%|          | 0/3 [00:00<?, ?it/s]"
     ]
    },
    {
     "name": "stderr",
     "output_type": "stream",
     "text": [
      "\r",
      "Eliminating: MaryCalls:   0%|          | 0/3 [00:00<?, ?it/s] "
     ]
    },
    {
     "name": "stderr",
     "output_type": "stream",
     "text": [
      "\r",
      "Eliminating: Burglary:   0%|          | 0/3 [00:00<?, ?it/s] "
     ]
    },
    {
     "name": "stderr",
     "output_type": "stream",
     "text": [
      "\r",
      "Eliminating: Burglary: 100%|██████████| 3/3 [00:00<00:00, 729.61it/s]"
     ]
    },
    {
     "name": "stderr",
     "output_type": "stream",
     "text": [
      "\n",
      "\r",
      "  0%|          | 0/2 [00:00<?, ?it/s]"
     ]
    },
    {
     "name": "stderr",
     "output_type": "stream",
     "text": [
      "\r",
      "Finding Elimination Order: :   0%|          | 0/2 [00:00<?, ?it/s]"
     ]
    },
    {
     "name": "stderr",
     "output_type": "stream",
     "text": [
      "\r",
      "Finding Elimination Order: : 100%|██████████| 2/2 [00:00<00:00, 606.99it/s]"
     ]
    },
    {
     "name": "stderr",
     "output_type": "stream",
     "text": [
      "\n",
      "\r",
      "  0%|          | 0/2 [00:00<?, ?it/s]"
     ]
    },
    {
     "name": "stderr",
     "output_type": "stream",
     "text": [
      "\r",
      "Eliminating: MaryCalls:   0%|          | 0/2 [00:00<?, ?it/s]"
     ]
    },
    {
     "name": "stderr",
     "output_type": "stream",
     "text": [
      "\r",
      "Eliminating: Burglary:   0%|          | 0/2 [00:00<?, ?it/s] "
     ]
    },
    {
     "name": "stderr",
     "output_type": "stream",
     "text": [
      "\r",
      "Eliminating: Burglary: 100%|██████████| 2/2 [00:00<00:00, 782.81it/s]"
     ]
    },
    {
     "name": "stderr",
     "output_type": "stream",
     "text": [
      "\n",
      "\r",
      "  0%|          | 0/2 [00:00<?, ?it/s]"
     ]
    },
    {
     "name": "stderr",
     "output_type": "stream",
     "text": [
      "\r",
      "Finding Elimination Order: :   0%|          | 0/2 [00:00<?, ?it/s]"
     ]
    },
    {
     "name": "stderr",
     "output_type": "stream",
     "text": [
      "\r",
      "Finding Elimination Order: : 100%|██████████| 2/2 [00:00<00:00, 1140.69it/s]"
     ]
    },
    {
     "name": "stderr",
     "output_type": "stream",
     "text": [
      "\n",
      "\r",
      "  0%|          | 0/2 [00:00<?, ?it/s]"
     ]
    },
    {
     "name": "stderr",
     "output_type": "stream",
     "text": [
      "\r",
      "Eliminating: MaryCalls:   0%|          | 0/2 [00:00<?, ?it/s]"
     ]
    },
    {
     "name": "stderr",
     "output_type": "stream",
     "text": [
      "\r",
      "Eliminating: Burglary:   0%|          | 0/2 [00:00<?, ?it/s] "
     ]
    },
    {
     "name": "stderr",
     "output_type": "stream",
     "text": [
      "\r",
      "Eliminating: Burglary: 100%|██████████| 2/2 [00:00<00:00, 753.49it/s]"
     ]
    },
    {
     "name": "stdout",
     "output_type": "stream",
     "text": [
      "+------------------+------------------+\n",
      "| JohnCalls        |   phi(JohnCalls) |\n",
      "+==================+==================+\n",
      "| JohnCalls(True)  |           0.0500 |\n",
      "+------------------+------------------+\n",
      "| JohnCalls(False) |           0.9500 |\n",
      "+------------------+------------------+\n"
     ]
    },
    {
     "name": "stderr",
     "output_type": "stream",
     "text": [
      "\n"
     ]
    }
   ],
   "source": [
    "# Case 2: Alarm = False\n",
    "EAJ: DiscreteFactor = elim.query(variables = [JohnCalls.var], evidence = {Alarm.var: 'False'})\n",
    "EAJ_1 = elim.query(variables = [JohnCalls.var], evidence = {Alarm.var: 'False', Earthquake.var:'True'})\n",
    "EAJ_2 = elim.query(variables = [JohnCalls.var], evidence = {Alarm.var: 'False', Earthquake.var:'False'})\n",
    "\n",
    "assert (EAJ.values == EAJ_1.values).all() and (EAJ.values == EAJ_2.values).all(), \"Check: Earthquake and JohnCalls are independent, given that Alarm state is observed (e.g. Alarm = False)\"\n",
    "\n",
    "print(EAJ)"
   ]
  },
  {
   "cell_type": "markdown",
   "metadata": {
    "title": "markdown"
   },
   "source": [
    "Comment: above we see that the probability of John calling when there is an `Alarm` is higher ($P(\\text{JohnCalls} = \\text{True} \\; | \\; \\text{Alarm} = \\text{True}) = 0.90$) than when there is no `Alarm` ringing ($P(\\text{JohnCalls} = \\text{True} \\; | \\; \\text{Alarm} = \\text{False}) = 0.05$).\n",
    "\n",
    "\n",
    "\n",
    "\n",
    "\n",
    "\n"
   ]
  },
  {
   "cell_type": "markdown",
   "metadata": {
    "title": "markdown"
   },
   "source": [
    "### 2. Evidential Reasoning in the Alarm Model\n",
    "For an evidential model $A \\leftarrow B \\leftarrow C$, there are two cases:\n",
    "  * **Marginal Dependence:** ($B$ unknown): When $B$ is unknown / unobserved, there is an active trail between $A$\n",
    "  and $C$, meaning the probability of $A$ can influence probability of $C$ (and vice versa) when information about $B$'s state is unknown.\n",
    "  * **Conditional Independence:** ($B$ fixed): When $B$ is fixed, there is NO active trail between $A$ and $C$,\n",
    "  so they are independent. The probability of $A$ won't influence probability of $C$ (and vice versa) when $B$'s state is observed."
   ]
  },
  {
   "cell_type": "code",
   "execution_count": 42,
   "metadata": {
    "lines_to_next_cell": 0,
    "title": "codecell"
   },
   "outputs": [
    {
     "data": {
      "image/svg+xml": [
       "<?xml version=\"1.0\" encoding=\"UTF-8\" standalone=\"no\"?>\n",
       "<!DOCTYPE svg PUBLIC \"-//W3C//DTD SVG 1.1//EN\"\n",
       " \"http://www.w3.org/Graphics/SVG/1.1/DTD/svg11.dtd\">\n",
       "<!-- Generated by graphviz version 2.38.0 (20140413.2041)\n",
       " -->\n",
       "<!-- Title: G Pages: 1 -->\n",
       "<svg width=\"214pt\" height=\"188pt\"\n",
       " viewBox=\"0.00 0.00 214.18 188.00\" xmlns=\"http://www.w3.org/2000/svg\" xmlns:xlink=\"http://www.w3.org/1999/xlink\">\n",
       "<g id=\"graph0\" class=\"graph\" transform=\"scale(1 1) rotate(0) translate(4 184)\">\n",
       "<title>G</title>\n",
       "<polygon fill=\"white\" stroke=\"none\" points=\"-4,4 -4,-184 210.185,-184 210.185,4 -4,4\"/>\n",
       "<!-- Burglary -->\n",
       "<g id=\"node1\" class=\"node\"><title>Burglary</title>\n",
       "<defs>\n",
       "<linearGradient id=\"l_0\" gradientUnits=\"userSpaceOnUse\" x1=\"41.8599\" y1=\"-144\" x2=\"41.8599\" y2=\"-180\" >\n",
       "<stop offset=\"0\" style=\"stop-color:#ceccff;stop-opacity:1.;\"/>\n",
       "<stop offset=\"1\" style=\"stop-color:white;stop-opacity:1.;\"/>\n",
       "</linearGradient>\n",
       "</defs>\n",
       "<ellipse fill=\"url(#l_0)\" stroke=\"#ff638d\" cx=\"41.8599\" cy=\"-162\" rx=\"41.7203\" ry=\"18\"/>\n",
       "<text text-anchor=\"middle\" x=\"41.8599\" y=\"-158.9\" font-family=\"Acme-Regular.ttf\" font-size=\"12.00\">Burglary</text>\n",
       "</g>\n",
       "<!-- Alarm -->\n",
       "<g id=\"node2\" class=\"node\"><title>Alarm</title>\n",
       "<defs>\n",
       "<linearGradient id=\"l_1\" gradientUnits=\"userSpaceOnUse\" x1=\"97.8599\" y1=\"-72\" x2=\"97.8599\" y2=\"-108\" >\n",
       "<stop offset=\"0\" style=\"stop-color:#ceccff;stop-opacity:1.;\"/>\n",
       "<stop offset=\"1\" style=\"stop-color:white;stop-opacity:1.;\"/>\n",
       "</linearGradient>\n",
       "</defs>\n",
       "<ellipse fill=\"url(#l_1)\" stroke=\"#ff638d\" cx=\"97.8599\" cy=\"-90\" rx=\"32.7527\" ry=\"18\"/>\n",
       "<text text-anchor=\"middle\" x=\"97.8599\" y=\"-86.9\" font-family=\"Acme-Regular.ttf\" font-size=\"12.00\">Alarm</text>\n",
       "</g>\n",
       "<!-- Burglary&#45;&gt;Alarm -->\n",
       "<g id=\"edge1\" class=\"edge\"><title>Burglary&#45;&gt;Alarm</title>\n",
       "<path fill=\"none\" stroke=\"#ff638d\" d=\"M54.8482,-144.765C62.0171,-135.804 71.05,-124.512 78.985,-114.594\"/>\n",
       "<polygon fill=\"#ff638d\" stroke=\"#ff638d\" points=\"81.8134,-116.661 85.3273,-106.666 76.3473,-112.288 81.8134,-116.661\"/>\n",
       "</g>\n",
       "<!-- JohnCalls -->\n",
       "<g id=\"node3\" class=\"node\"><title>JohnCalls</title>\n",
       "<defs>\n",
       "<linearGradient id=\"l_2\" gradientUnits=\"userSpaceOnUse\" x1=\"44.8599\" y1=\"-1.77636e-14\" x2=\"44.8599\" y2=\"-36\" >\n",
       "<stop offset=\"0\" style=\"stop-color:#ceccff;stop-opacity:1.;\"/>\n",
       "<stop offset=\"1\" style=\"stop-color:white;stop-opacity:1.;\"/>\n",
       "</linearGradient>\n",
       "</defs>\n",
       "<ellipse fill=\"url(#l_2)\" stroke=\"#ff638d\" cx=\"44.8599\" cy=\"-18\" rx=\"43.9143\" ry=\"18\"/>\n",
       "<text text-anchor=\"middle\" x=\"44.8599\" y=\"-14.9\" font-family=\"Acme-Regular.ttf\" font-size=\"12.00\">JohnCalls</text>\n",
       "</g>\n",
       "<!-- Alarm&#45;&gt;JohnCalls -->\n",
       "<g id=\"edge2\" class=\"edge\"><title>Alarm&#45;&gt;JohnCalls</title>\n",
       "<path fill=\"none\" stroke=\"#ff638d\" d=\"M85.8334,-73.1159C79.2193,-64.3803 70.8699,-53.3528 63.4366,-43.5352\"/>\n",
       "<polygon fill=\"#ff638d\" stroke=\"#ff638d\" points=\"66.0335,-41.1669 57.2066,-35.307 60.4527,-45.3923 66.0335,-41.1669\"/>\n",
       "</g>\n",
       "<!-- MaryCalls -->\n",
       "<g id=\"node4\" class=\"node\"><title>MaryCalls</title>\n",
       "<defs>\n",
       "<linearGradient id=\"l_3\" gradientUnits=\"userSpaceOnUse\" x1=\"151.86\" y1=\"-1.77636e-14\" x2=\"151.86\" y2=\"-36\" >\n",
       "<stop offset=\"0\" style=\"stop-color:#ceccff;stop-opacity:1.;\"/>\n",
       "<stop offset=\"1\" style=\"stop-color:white;stop-opacity:1.;\"/>\n",
       "</linearGradient>\n",
       "</defs>\n",
       "<ellipse fill=\"url(#l_3)\" stroke=\"#ff638d\" cx=\"151.86\" cy=\"-18\" rx=\"45.6069\" ry=\"18\"/>\n",
       "<text text-anchor=\"middle\" x=\"151.86\" y=\"-14.9\" font-family=\"Acme-Regular.ttf\" font-size=\"12.00\">MaryCalls</text>\n",
       "</g>\n",
       "<!-- Alarm&#45;&gt;MaryCalls -->\n",
       "<g id=\"edge3\" class=\"edge\"><title>Alarm&#45;&gt;MaryCalls</title>\n",
       "<path fill=\"none\" stroke=\"#ff638d\" d=\"M110.113,-73.1159C116.92,-64.292 125.531,-53.1298 133.162,-43.238\"/>\n",
       "<polygon fill=\"#ff638d\" stroke=\"#ff638d\" points=\"135.943,-45.3627 139.28,-35.307 130.401,-41.087 135.943,-45.3627\"/>\n",
       "</g>\n",
       "<!-- Earthquake -->\n",
       "<g id=\"node5\" class=\"node\"><title>Earthquake</title>\n",
       "<defs>\n",
       "<linearGradient id=\"l_4\" gradientUnits=\"userSpaceOnUse\" x1=\"153.86\" y1=\"-144\" x2=\"153.86\" y2=\"-180\" >\n",
       "<stop offset=\"0\" style=\"stop-color:#ceccff;stop-opacity:1.;\"/>\n",
       "<stop offset=\"1\" style=\"stop-color:white;stop-opacity:1.;\"/>\n",
       "</linearGradient>\n",
       "</defs>\n",
       "<ellipse fill=\"url(#l_4)\" stroke=\"#ff638d\" cx=\"153.86\" cy=\"-162\" rx=\"52.1504\" ry=\"18\"/>\n",
       "<text text-anchor=\"middle\" x=\"153.86\" y=\"-158.9\" font-family=\"Acme-Regular.ttf\" font-size=\"12.00\">Earthquake</text>\n",
       "</g>\n",
       "<!-- Earthquake&#45;&gt;Alarm -->\n",
       "<g id=\"edge4\" class=\"edge\"><title>Earthquake&#45;&gt;Alarm</title>\n",
       "<path fill=\"none\" stroke=\"#ff638d\" d=\"M140.589,-144.411C133.584,-135.655 124.861,-124.751 117.126,-115.082\"/>\n",
       "<polygon fill=\"#ff638d\" stroke=\"#ff638d\" points=\"119.63,-112.61 110.65,-106.988 114.164,-116.983 119.63,-112.61\"/>\n",
       "</g>\n",
       "</g>\n",
       "</svg>\n"
      ],
      "text/plain": [
       "<graphviz.dot.Digraph at 0x7f36a5ef1a50>"
      ]
     },
     "execution_count": 42,
     "metadata": {},
     "output_type": "execute_result"
    }
   ],
   "source": [
    "pgmpyToGraph(alarmModel)"
   ]
  },
  {
   "cell_type": "markdown",
   "metadata": {
    "lines_to_next_cell": 0,
    "title": "markdown"
   },
   "source": [
    "### Case 1: Marginal Dependence (for Evidential Model)\n",
    "\n",
    "$$\n",
    "\\color{Green}{ \\text{Alarm (unobserved): }\\;\\;\\;\\;\\;\\;\\;\\;\\; \\text{Burglary} \\longleftarrow \\text{Alarm} \\longleftarrow\n",
    "\\text{MaryCalls}}\n",
    "$$\n",
    "\n",
    "When the middle node `Alarm` is unknown / unobserved, there IS an active trail between `Burglary` and `MaryCalls`. In other words, there is a dependence between `Burglary` and `MaryCalls` when `Alarm` is unobserved. This means the probability of `Burglary` can influence probability of `MaryCalls` (and vice versa) when information about `Alarm`'s state is unknown.\n",
    "\n",
    "\n",
    "$$\n",
    "\\color{Green}{ \\text{Alarm (unobserved): }\\;\\;\\;\\;\\;\\;\\;\\;\\; \\text{Burglary} \\longleftarrow \\text{Alarm} \\longleftarrow \\text{JohnCalls}}\n",
    "$$\n",
    "When `Alarm`'s state is uknown, there is an active trail or dependency between `Burglary` and `JohnCalls`, so the probability of `Burglary` can influence the probability of `JohnCalls` (and vice versa) when `Alarm`'s state is unknown.\n",
    "\n",
    "$$\n",
    "\\color{Green}{ \\text{Alarm (unobserved): }\\;\\;\\;\\;\\;\\;\\;\\;\\; \\text{Earthquake} \\longleftarrow \\text{Alarm} \\longleftarrow \\text{MaryCalls}}\n",
    "$$\n",
    "When `Alarm`'s state is uknown, there is an active trail or dependency between `Earthquake` and `MaryCalls`, so the probability of `Earthquake` can influence the probability of `MaryCalls` (and vice versa) when `Alarm`'s state is unknown.\n",
    "\n",
    "$$\n",
    "\\color{Green}{ \\text{Alarm (unobserved): }\\;\\;\\;\\;\\;\\;\\;\\;\\; \\text{Earthquake} \\longleftarrow \\text{Alarm} \\longleftarrow \\text{JohnCalls}}\n",
    "$$\n",
    "When `Alarm`'s state is uknown, there is an active trail or dependency between `Earthquake` and `JohnCalls`, so the probability of `Earthquake` can influence the probability of `JohnCalls` (and vice versa) when `Alarm`'s state is unknown."
   ]
  },
  {
   "cell_type": "markdown",
   "metadata": {
    "lines_to_next_cell": 0,
    "title": "markdown"
   },
   "source": [
    "**Verify:** Using Active Trails"
   ]
  },
  {
   "cell_type": "code",
   "execution_count": 43,
   "metadata": {
    "lines_to_next_cell": 2,
    "title": "codecell"
   },
   "outputs": [
    {
     "name": "stdout",
     "output_type": "stream",
     "text": [
      "MaryCalls --> Earthquake\n",
      "MaryCalls --> JohnCalls\n",
      "MaryCalls --> Alarm\n",
      "MaryCalls --> MaryCalls\n",
      "MaryCalls --> Burglary\n",
      "Burglary --> MaryCalls\n",
      "Burglary --> JohnCalls\n",
      "Burglary --> Alarm\n",
      "Burglary --> Burglary\n"
     ]
    }
   ],
   "source": [
    "assert alarmModel.is_active_trail(start = MaryCalls.var, end = Burglary.var,  observed = None)\n",
    "assert alarmModel.is_active_trail(start = MaryCalls.var, end = Earthquake.var, observed = None)\n",
    "assert alarmModel.is_active_trail(start = JohnCalls.var, end = Burglary.var, observed = None)\n",
    "assert alarmModel.is_active_trail(start = JohnCalls.var, end = Earthquake.var, observed = None)\n",
    "\n",
    "showActiveTrails(model = alarmModel, variables = [MaryCalls.var, Burglary.var])"
   ]
  },
  {
   "cell_type": "markdown",
   "metadata": {
    "lines_to_next_cell": 0,
    "title": "markdown"
   },
   "source": [
    "**Verify:** Using Probabilities (example of $B \\leftarrow A \\leftarrow J$ trail)\n",
    "* **NOTE:** Evidential Reasoning For Evidential Model:"
   ]
  },
  {
   "cell_type": "code",
   "execution_count": 44,
   "metadata": {
    "title": "codecell"
   },
   "outputs": [
    {
     "name": "stderr",
     "output_type": "stream",
     "text": [
      "\r",
      "  0%|          | 0/4 [00:00<?, ?it/s]"
     ]
    },
    {
     "name": "stderr",
     "output_type": "stream",
     "text": [
      "\r",
      "Finding Elimination Order: :   0%|          | 0/4 [00:00<?, ?it/s]"
     ]
    },
    {
     "name": "stderr",
     "output_type": "stream",
     "text": [
      "\r",
      "Finding Elimination Order: : 100%|██████████| 4/4 [00:00<00:00, 1624.44it/s]"
     ]
    },
    {
     "name": "stderr",
     "output_type": "stream",
     "text": [
      "\n",
      "\r",
      "  0%|          | 0/4 [00:00<?, ?it/s]"
     ]
    },
    {
     "name": "stderr",
     "output_type": "stream",
     "text": [
      "\r",
      "Eliminating: Earthquake:   0%|          | 0/4 [00:00<?, ?it/s]"
     ]
    },
    {
     "name": "stderr",
     "output_type": "stream",
     "text": [
      "\r",
      "Eliminating: JohnCalls:   0%|          | 0/4 [00:00<?, ?it/s] "
     ]
    },
    {
     "name": "stderr",
     "output_type": "stream",
     "text": [
      "\r",
      "Eliminating: Alarm:   0%|          | 0/4 [00:00<?, ?it/s]    "
     ]
    },
    {
     "name": "stderr",
     "output_type": "stream",
     "text": [
      "\r",
      "Eliminating: MaryCalls:   0%|          | 0/4 [00:00<?, ?it/s]"
     ]
    },
    {
     "name": "stderr",
     "output_type": "stream",
     "text": [
      "\r",
      "Eliminating: MaryCalls: 100%|██████████| 4/4 [00:00<00:00, 416.16it/s]"
     ]
    },
    {
     "name": "stdout",
     "output_type": "stream",
     "text": [
      "+-----------------+-----------------+\n",
      "| Burglary        |   phi(Burglary) |\n",
      "+=================+=================+\n",
      "| Burglary(True)  |          0.0010 |\n",
      "+-----------------+-----------------+\n",
      "| Burglary(False) |          0.9990 |\n",
      "+-----------------+-----------------+\n"
     ]
    },
    {
     "name": "stderr",
     "output_type": "stream",
     "text": [
      "\n"
     ]
    }
   ],
   "source": [
    "JB: DiscreteFactor = elim.query(variables = [Burglary.var], evidence = None)\n",
    "print(JB)"
   ]
  },
  {
   "cell_type": "code",
   "execution_count": 45,
   "metadata": {
    "lines_to_next_cell": 0,
    "title": "codecell"
   },
   "outputs": [
    {
     "name": "stderr",
     "output_type": "stream",
     "text": [
      "\r",
      "  0%|          | 0/3 [00:00<?, ?it/s]"
     ]
    },
    {
     "name": "stderr",
     "output_type": "stream",
     "text": [
      "\r",
      "Finding Elimination Order: :   0%|          | 0/3 [00:00<?, ?it/s]"
     ]
    },
    {
     "name": "stderr",
     "output_type": "stream",
     "text": [
      "\r",
      "Finding Elimination Order: : 100%|██████████| 3/3 [00:00<00:00, 1055.97it/s]"
     ]
    },
    {
     "name": "stderr",
     "output_type": "stream",
     "text": [
      "\n",
      "\r",
      "  0%|          | 0/3 [00:00<?, ?it/s]"
     ]
    },
    {
     "name": "stderr",
     "output_type": "stream",
     "text": [
      "\r",
      "Eliminating: MaryCalls:   0%|          | 0/3 [00:00<?, ?it/s]"
     ]
    },
    {
     "name": "stderr",
     "output_type": "stream",
     "text": [
      "\r",
      "Eliminating: Earthquake:   0%|          | 0/3 [00:00<?, ?it/s]"
     ]
    },
    {
     "name": "stderr",
     "output_type": "stream",
     "text": [
      "\r",
      "Eliminating: Alarm:   0%|          | 0/3 [00:00<?, ?it/s]     "
     ]
    },
    {
     "name": "stderr",
     "output_type": "stream",
     "text": [
      "\r",
      "Eliminating: Alarm: 100%|██████████| 3/3 [00:00<00:00, 482.47it/s]"
     ]
    },
    {
     "name": "stdout",
     "output_type": "stream",
     "text": [
      "+-----------------+-----------------+\n",
      "| Burglary        |   phi(Burglary) |\n",
      "+=================+=================+\n",
      "| Burglary(True)  |          0.0163 |\n",
      "+-----------------+-----------------+\n",
      "| Burglary(False) |          0.9837 |\n",
      "+-----------------+-----------------+\n"
     ]
    },
    {
     "name": "stderr",
     "output_type": "stream",
     "text": [
      "\n"
     ]
    }
   ],
   "source": [
    "JB_1 = elim.query(variables = [Burglary.var], evidence = {JohnCalls.var:'True'})\n",
    "print(JB_1)"
   ]
  },
  {
   "cell_type": "markdown",
   "metadata": {
    "lines_to_next_cell": 0,
    "title": "markdown"
   },
   "source": [
    "Below we see that when `JohnCalls` does not occur and no `Alarm` was observed, there is a lower probability of `Burglary`, compared to when neither `Alarm` nor `JohnCalls` were observed:\n",
    "$$\n",
    "P(\\text{Burglary} = \\text{True} \\; | \\; \\text{JohnCalls} = \\text{False}) = 0.9937\n",
    "$$"
   ]
  },
  {
   "cell_type": "code",
   "execution_count": 46,
   "metadata": {
    "lines_to_next_cell": 0,
    "title": "codecell"
   },
   "outputs": [
    {
     "name": "stderr",
     "output_type": "stream",
     "text": [
      "\r",
      "  0%|          | 0/3 [00:00<?, ?it/s]"
     ]
    },
    {
     "name": "stderr",
     "output_type": "stream",
     "text": [
      "\r",
      "Finding Elimination Order: :   0%|          | 0/3 [00:00<?, ?it/s]"
     ]
    },
    {
     "name": "stderr",
     "output_type": "stream",
     "text": [
      "\r",
      "Finding Elimination Order: : 100%|██████████| 3/3 [00:00<00:00, 1234.34it/s]"
     ]
    },
    {
     "name": "stderr",
     "output_type": "stream",
     "text": [
      "\n",
      "\r",
      "  0%|          | 0/3 [00:00<?, ?it/s]"
     ]
    },
    {
     "name": "stderr",
     "output_type": "stream",
     "text": [
      "\r",
      "Eliminating: MaryCalls:   0%|          | 0/3 [00:00<?, ?it/s]"
     ]
    },
    {
     "name": "stderr",
     "output_type": "stream",
     "text": [
      "\r",
      "Eliminating: Earthquake:   0%|          | 0/3 [00:00<?, ?it/s]"
     ]
    },
    {
     "name": "stderr",
     "output_type": "stream",
     "text": [
      "\r",
      "Eliminating: Alarm:   0%|          | 0/3 [00:00<?, ?it/s]     "
     ]
    },
    {
     "name": "stderr",
     "output_type": "stream",
     "text": [
      "\r",
      "Eliminating: Alarm: 100%|██████████| 3/3 [00:00<00:00, 276.28it/s]"
     ]
    },
    {
     "name": "stdout",
     "output_type": "stream",
     "text": [
      "+-----------------+-----------------+\n",
      "| Burglary        |   phi(Burglary) |\n",
      "+=================+=================+\n",
      "| Burglary(True)  |          0.0002 |\n",
      "+-----------------+-----------------+\n",
      "| Burglary(False) |          0.9998 |\n",
      "+-----------------+-----------------+\n"
     ]
    },
    {
     "name": "stderr",
     "output_type": "stream",
     "text": [
      "\n"
     ]
    }
   ],
   "source": [
    "JB_2 = elim.query(variables = [Burglary.var], evidence = {JohnCalls.var:'False'})\n",
    "print(JB_2)"
   ]
  },
  {
   "cell_type": "code",
   "execution_count": 47,
   "metadata": {
    "lines_to_next_cell": 2,
    "title": "codecell"
   },
   "outputs": [],
   "source": [
    "assert (JB.values != JB_1.values).all() and (JB.values != JB_2.values).all(), \"Check there is dependency between Burglary and JohnCalls, when Alarm state is unobserved \""
   ]
  },
  {
   "cell_type": "markdown",
   "metadata": {
    "lines_to_next_cell": 0,
    "title": "markdown"
   },
   "source": [
    "**Verify:** Using Probabilities (example of $E \\leftarrow A \\leftarrow J$ trail)\n",
    "* **NOTE:** Evidential Reasoning For Evidential Model:"
   ]
  },
  {
   "cell_type": "code",
   "execution_count": 48,
   "metadata": {
    "title": "codecell"
   },
   "outputs": [
    {
     "name": "stderr",
     "output_type": "stream",
     "text": [
      "\r",
      "  0%|          | 0/4 [00:00<?, ?it/s]"
     ]
    },
    {
     "name": "stderr",
     "output_type": "stream",
     "text": [
      "\r",
      "Finding Elimination Order: :   0%|          | 0/4 [00:00<?, ?it/s]"
     ]
    },
    {
     "name": "stderr",
     "output_type": "stream",
     "text": [
      "\r",
      "Finding Elimination Order: : 100%|██████████| 4/4 [00:00<00:00, 1063.87it/s]"
     ]
    },
    {
     "name": "stderr",
     "output_type": "stream",
     "text": [
      "\n",
      "\r",
      "  0%|          | 0/4 [00:00<?, ?it/s]"
     ]
    },
    {
     "name": "stderr",
     "output_type": "stream",
     "text": [
      "\r",
      "Eliminating: JohnCalls:   0%|          | 0/4 [00:00<?, ?it/s]"
     ]
    },
    {
     "name": "stderr",
     "output_type": "stream",
     "text": [
      "\r",
      "Eliminating: Alarm:   0%|          | 0/4 [00:00<?, ?it/s]    "
     ]
    },
    {
     "name": "stderr",
     "output_type": "stream",
     "text": [
      "\r",
      "Eliminating: MaryCalls:   0%|          | 0/4 [00:00<?, ?it/s]"
     ]
    },
    {
     "name": "stderr",
     "output_type": "stream",
     "text": [
      "\r",
      "Eliminating: Burglary:   0%|          | 0/4 [00:00<?, ?it/s] "
     ]
    },
    {
     "name": "stderr",
     "output_type": "stream",
     "text": [
      "\r",
      "Eliminating: Burglary: 100%|██████████| 4/4 [00:00<00:00, 378.05it/s]"
     ]
    },
    {
     "name": "stdout",
     "output_type": "stream",
     "text": [
      "+-------------------+-------------------+\n",
      "| Earthquake        |   phi(Earthquake) |\n",
      "+===================+===================+\n",
      "| Earthquake(True)  |            0.0020 |\n",
      "+-------------------+-------------------+\n",
      "| Earthquake(False) |            0.9980 |\n",
      "+-------------------+-------------------+\n"
     ]
    },
    {
     "name": "stderr",
     "output_type": "stream",
     "text": [
      "\n"
     ]
    }
   ],
   "source": [
    "JE: DiscreteFactor = elim.query(variables = [Earthquake.var], evidence = None)\n",
    "print(JE)"
   ]
  },
  {
   "cell_type": "code",
   "execution_count": 49,
   "metadata": {
    "lines_to_next_cell": 0,
    "title": "codecell"
   },
   "outputs": [
    {
     "name": "stderr",
     "output_type": "stream",
     "text": [
      "\r",
      "  0%|          | 0/3 [00:00<?, ?it/s]"
     ]
    },
    {
     "name": "stderr",
     "output_type": "stream",
     "text": [
      "\r",
      "Finding Elimination Order: :   0%|          | 0/3 [00:00<?, ?it/s]"
     ]
    },
    {
     "name": "stderr",
     "output_type": "stream",
     "text": [
      "\r",
      "Finding Elimination Order: : 100%|██████████| 3/3 [00:00<00:00, 928.42it/s]"
     ]
    },
    {
     "name": "stderr",
     "output_type": "stream",
     "text": [
      "\n"
     ]
    },
    {
     "name": "stderr",
     "output_type": "stream",
     "text": [
      "\r",
      "  0%|          | 0/3 [00:00<?, ?it/s]"
     ]
    },
    {
     "name": "stderr",
     "output_type": "stream",
     "text": [
      "\r",
      "Eliminating: MaryCalls:   0%|          | 0/3 [00:00<?, ?it/s]"
     ]
    },
    {
     "name": "stderr",
     "output_type": "stream",
     "text": [
      "\r",
      "Eliminating: Alarm:   0%|          | 0/3 [00:00<?, ?it/s]    "
     ]
    },
    {
     "name": "stderr",
     "output_type": "stream",
     "text": [
      "\r",
      "Eliminating: Burglary:   0%|          | 0/3 [00:00<?, ?it/s]"
     ]
    },
    {
     "name": "stderr",
     "output_type": "stream",
     "text": [
      "\r",
      "Eliminating: Burglary: 100%|██████████| 3/3 [00:00<00:00, 560.46it/s]"
     ]
    },
    {
     "name": "stdout",
     "output_type": "stream",
     "text": [
      "+-------------------+-------------------+\n",
      "| Earthquake        |   phi(Earthquake) |\n",
      "+===================+===================+\n",
      "| Earthquake(True)  |            0.0114 |\n",
      "+-------------------+-------------------+\n",
      "| Earthquake(False) |            0.9886 |\n",
      "+-------------------+-------------------+\n"
     ]
    },
    {
     "name": "stderr",
     "output_type": "stream",
     "text": [
      "\n"
     ]
    }
   ],
   "source": [
    "JE_1 = elim.query(variables = [Earthquake.var], evidence = {JohnCalls.var:'True'})\n",
    "print(JE_1)"
   ]
  },
  {
   "cell_type": "markdown",
   "metadata": {
    "lines_to_next_cell": 0,
    "title": "markdown"
   },
   "source": [
    "Below we see that when `JohnCalls` does not occur and no `Alarm` was not observed, there is a lower probability of `Earthquake`, compared to when John did call and `Alarm` was not observed:\n",
    "$$\n",
    "P(\\text{Earthquake} = \\text{True} \\; | \\; \\text{JohnCalls} = \\text{False}) = 0.0019\n",
    "$$"
   ]
  },
  {
   "cell_type": "code",
   "execution_count": 50,
   "metadata": {
    "lines_to_next_cell": 0,
    "title": "codecell"
   },
   "outputs": [
    {
     "name": "stderr",
     "output_type": "stream",
     "text": [
      "\r",
      "  0%|          | 0/3 [00:00<?, ?it/s]"
     ]
    },
    {
     "name": "stderr",
     "output_type": "stream",
     "text": [
      "\r",
      "Finding Elimination Order: :   0%|          | 0/3 [00:00<?, ?it/s]"
     ]
    },
    {
     "name": "stderr",
     "output_type": "stream",
     "text": [
      "\r",
      "Finding Elimination Order: : 100%|██████████| 3/3 [00:00<00:00, 788.45it/s]"
     ]
    },
    {
     "name": "stderr",
     "output_type": "stream",
     "text": [
      "\n"
     ]
    },
    {
     "name": "stderr",
     "output_type": "stream",
     "text": [
      "\r",
      "  0%|          | 0/3 [00:00<?, ?it/s]"
     ]
    },
    {
     "name": "stderr",
     "output_type": "stream",
     "text": [
      "\r",
      "Eliminating: MaryCalls:   0%|          | 0/3 [00:00<?, ?it/s]"
     ]
    },
    {
     "name": "stderr",
     "output_type": "stream",
     "text": [
      "\r",
      "Eliminating: Alarm:   0%|          | 0/3 [00:00<?, ?it/s]    "
     ]
    },
    {
     "name": "stderr",
     "output_type": "stream",
     "text": [
      "\r",
      "Eliminating: Burglary:   0%|          | 0/3 [00:00<?, ?it/s]"
     ]
    },
    {
     "name": "stderr",
     "output_type": "stream",
     "text": [
      "\r",
      "Eliminating: Burglary: 100%|██████████| 3/3 [00:00<00:00, 449.61it/s]"
     ]
    },
    {
     "name": "stdout",
     "output_type": "stream",
     "text": [
      "+-------------------+-------------------+\n",
      "| Earthquake        |   phi(Earthquake) |\n",
      "+===================+===================+\n",
      "| Earthquake(True)  |            0.0015 |\n",
      "+-------------------+-------------------+\n",
      "| Earthquake(False) |            0.9985 |\n",
      "+-------------------+-------------------+\n"
     ]
    },
    {
     "name": "stderr",
     "output_type": "stream",
     "text": [
      "\n"
     ]
    }
   ],
   "source": [
    "JE_2 = elim.query(variables = [Earthquake.var], evidence = {JohnCalls.var:'False'})\n",
    "print(JE_2)"
   ]
  },
  {
   "cell_type": "code",
   "execution_count": 51,
   "metadata": {
    "title": "codecell"
   },
   "outputs": [],
   "source": [
    "assert (JE.values != JE_1.values).all() and (JE.values != JE_2.values).all(), \"Check there is dependency between \" \\\n",
    "                                                                              \"JohnCalls and Earthquake, when Alarm \" \\\n",
    "                                                                              \"state is unobserved \"\n",
    "\n",
    "\n"
   ]
  },
  {
   "cell_type": "markdown",
   "metadata": {
    "lines_to_next_cell": 0,
    "title": "markdown"
   },
   "source": [
    "### Case 2: Conditional Independence (for Evidential Model)\n",
    "\n",
    "$$\n",
    "\\color{DeepSkyBlue}{ \\text{Alarm (observed): }\\;\\;\\;\\;\\;\\;\\;\\; \\text{Burglary} \\; \\bot \\; \\text{MaryCalls} \\; | \\; \\text{Alarm}}\n",
    "$$\n",
    "When the `Alarm`'s state is known (fixed / observed), then there is NO active trail between `Burglary` and `MaryCalls`. In other words, `Burglary` and `MaryCalls` are locally independent when `Alarm`'s state is observed. This means the probability of `Burglary` won't influence probability of `MaryCalls` (and vice versa) when `Alarm`'s state is observed.\n",
    "\n",
    "$$\n",
    "\\color{DeepSkyBlue}{ \\text{Alarm (observed): }\\;\\;\\;\\;\\;\\;\\;\\; \\text{Burglary} \\; \\bot \\; \\text{JohnCalls} \\; | \\; \\text{Alarm}}\n",
    "$$\n",
    "When the `Alarm`'s state is known (fixed / observed), then there is NO active trail between `Burglary` and `JohnCalls`. In other words, `Burglary` and `JohnCalls` are locally independent when `Alarm`'s state is observed. This means the probability of `Burglary` won't influence probability of `JohnCalls` (and vice versa) when `Alarm`'s state is observed.\n",
    "\n",
    "$$\n",
    "\\color{DeepSkyBlue}{ \\text{Alarm (observed): }\\;\\;\\;\\;\\;\\;\\;\\; \\text{Earthquake} \\; \\bot \\; \\text{MaryCalls} \\; | \\; \\text{Alarm}}\n",
    "$$\n",
    "When the `Alarm`'s state is known (fixed / observed), then there is NO active trail between `Earthquake` and `MaryCalls`. In other words, `Earthquake` and `MaryCalls` are locally independent when `Alarm`'s state is observed. This means the probability of `Earthquake` won't influence probability of `MaryCalls` (and vice versa) when `Alarm`'s state is observed.\n",
    "\n",
    "$$\n",
    "\\color{DeepSkyBlue}{ \\text{Alarm (observed): }\\;\\;\\;\\;\\;\\;\\;\\; \\text{Earthquake} \\; \\bot \\; \\text{JohnCalls} \\; | \\; \\text{Alarm}}\n",
    "$$\n",
    "When the `Alarm`'s state is known (fixed / observed), then there is NO active trail between `Earthquake` and `JohnCalls`. In other words, `Earthquake` and `JohnCalls` are locally independent when `Alarm`'s state is observed. This means the probability of `Earthquake` won't influence probability of `JohnCalls` (and vice versa) when `Alarm`'s state is observed."
   ]
  },
  {
   "cell_type": "markdown",
   "metadata": {
    "lines_to_next_cell": 0,
    "title": "markdown"
   },
   "source": [
    "**Verify:** Using Active Trails"
   ]
  },
  {
   "cell_type": "code",
   "execution_count": 52,
   "metadata": {
    "title": "codecell"
   },
   "outputs": [
    {
     "name": "stdout",
     "output_type": "stream",
     "text": [
      "JohnCalls --> JohnCalls\n",
      "Earthquake --> Earthquake\n",
      "Earthquake --> Burglary\n"
     ]
    }
   ],
   "source": [
    "assert not alarmModel.is_active_trail(start = MaryCalls.var, end = Burglary.var, observed = Alarm.var)\n",
    "assert not alarmModel.is_active_trail(start = MaryCalls.var, end = Earthquake.var, observed = Alarm.var)\n",
    "assert not alarmModel.is_active_trail(start = JohnCalls.var, end = Burglary.var, observed = Alarm.var)\n",
    "assert not alarmModel.is_active_trail(start = JohnCalls.var, end = Earthquake.var, observed = Alarm.var)\n",
    "\n",
    "showActiveTrails(model = alarmModel, variables = [JohnCalls.var, Earthquake.var], observed = Alarm.var)"
   ]
  },
  {
   "cell_type": "markdown",
   "metadata": {
    "lines_to_next_cell": 0,
    "title": "markdown"
   },
   "source": [
    "**Verify:** Using Independencies (just the $(B \\; \\bot \\; M \\; | \\; A)$ independence)"
   ]
  },
  {
   "cell_type": "code",
   "execution_count": 53,
   "metadata": {
    "title": "codecell"
   },
   "outputs": [
    {
     "data": {
      "text/plain": [
       "(MaryCalls _|_ JohnCalls | Alarm)\n",
       "(MaryCalls _|_ Burglary | Alarm)\n",
       "(MaryCalls _|_ Earthquake | Alarm, Burglary)\n",
       "(MaryCalls _|_ Burglary | Earthquake, JohnCalls, Alarm)\n",
       "(MaryCalls _|_ JohnCalls, Burglary | Earthquake, Alarm)\n",
       "(MaryCalls _|_ Burglary | JohnCalls, Alarm)\n",
       "(MaryCalls _|_ Earthquake, JohnCalls, Burglary | Alarm)\n",
       "(MaryCalls _|_ Earthquake, JohnCalls | Alarm)\n",
       "(MaryCalls _|_ Earthquake, Burglary | JohnCalls, Alarm)\n",
       "(MaryCalls _|_ JohnCalls, Burglary | Alarm)\n",
       "(MaryCalls _|_ JohnCalls | Alarm, Burglary)\n",
       "(MaryCalls _|_ Earthquake, JohnCalls | Alarm, Burglary)\n",
       "(MaryCalls _|_ Earthquake | Alarm)\n",
       "(MaryCalls _|_ JohnCalls | Earthquake, Alarm, Burglary)\n",
       "(MaryCalls _|_ Earthquake, Burglary | Alarm)\n",
       "(MaryCalls _|_ Earthquake | JohnCalls, Alarm)\n",
       "(MaryCalls _|_ Earthquake | JohnCalls, Alarm, Burglary)\n",
       "(MaryCalls _|_ Burglary | Earthquake, Alarm)\n",
       "(MaryCalls _|_ JohnCalls | Earthquake, Alarm)"
      ]
     },
     "execution_count": 53,
     "metadata": {},
     "output_type": "execute_result"
    }
   ],
   "source": [
    "indepBurglary: IndependenceAssertion = Independencies([Burglary.var, MaryCalls.var, [Alarm.var]]).get_assertions()[0]; indepBurglary\n",
    "\n",
    "indepMary: IndependenceAssertion = Independencies([MaryCalls.var, Burglary.var, [Alarm.var]]).get_assertions()[0]; indepMary\n",
    "\n",
    "# Using the fact that closure returns independencies that are IMPLIED by the current independencies:\n",
    "assert (str(indepMary) == '(MaryCalls _|_ Burglary | Alarm)' and\n",
    "        indepMary in alarmModel.local_independencies(MaryCalls.var).closure().get_assertions()),  \\\n",
    "        \"Check 1: Burglary and MaryCalls are independent once conditional on Alarm\"\n",
    "\n",
    "assert (str(indepBurglary) == '(Burglary _|_ MaryCalls | Alarm)' and\n",
    "        indepBurglary in alarmModel.local_independencies(MaryCalls.var).closure().get_assertions()), \\\n",
    "        \"Check 2: Burglary and MaryCalls are independent once conditional on Alarm\"\n",
    "\n",
    "alarmModel.local_independencies(MaryCalls.var).closure()"
   ]
  },
  {
   "cell_type": "code",
   "execution_count": 54,
   "metadata": {
    "title": "codecell"
   },
   "outputs": [
    {
     "name": "stdout",
     "output_type": "stream",
     "text": [
      "                   INDEPENDENCIES TABLE                  \n",
      "Fancy Notation              .....     Regular Notation   \n",
      "---------------------------------------------------------\n",
      "(M _|_ {B ∩ J ∩ E} | A)     .....     (M _|_ B, J, E | A)\n",
      "(M _|_ {B ∩ E ∩ J} | A)     .....     (M _|_ B, E, J | A)\n",
      "(M _|_ {J ∩ B ∩ E} | A)     .....     (M _|_ J, B, E | A)\n",
      "(M _|_ {J ∩ E ∩ B} | A)     .....     (M _|_ J, E, B | A)\n",
      "(M _|_ {E ∩ B ∩ J} | A)     .....     (M _|_ E, B, J | A)\n",
      "(M _|_ {E ∩ J ∩ B} | A)     .....     (M _|_ E, J, B | A)\n"
     ]
    }
   ],
   "source": [
    "# See: MaryCalls and Burglary are conditionally independent on Alarm:\n",
    "indepSynonymTable(model = alarmModel_brief, queryNode = 'M')\n",
    "\n"
   ]
  },
  {
   "cell_type": "markdown",
   "metadata": {
    "lines_to_next_cell": 0,
    "title": "markdown"
   },
   "source": [
    "**Verify:** Using Probabilities Method (just the $(E \\; \\bot \\; J \\; | \\; A)$ independence)"
   ]
  },
  {
   "cell_type": "markdown",
   "metadata": {
    "lines_to_next_cell": 0,
    "title": "markdown"
   },
   "source": [
    "The probability below is:\n",
    "$$\n",
    "\\begin{array}{ll}\n",
    "P(\\text{Earthquake} = \\text{True} \\; | \\; \\text{Alarm} = \\text{True})\n",
    "&= P(\\text{Earthquake} = \\text{True} \\; | \\; \\text{Alarm} = \\text{True} \\; \\cap \\; \\text{JohnCalls} = \\text{True})  \\\\\n",
    "&= P(\\text{Earthquake} = \\text{True} \\; | \\; \\text{Alarm} = \\text{True} \\; \\cap \\; \\text{JohnCalls} = \\text{False}) \\\\\n",
    "&= 0.02\n",
    "\\end{array}\n",
    "$$"
   ]
  },
  {
   "cell_type": "code",
   "execution_count": 55,
   "metadata": {
    "lines_to_next_cell": 0,
    "title": "codecell"
   },
   "outputs": [
    {
     "name": "stderr",
     "output_type": "stream",
     "text": [
      "\r",
      "  0%|          | 0/3 [00:00<?, ?it/s]"
     ]
    },
    {
     "name": "stderr",
     "output_type": "stream",
     "text": [
      "\r",
      "Finding Elimination Order: :   0%|          | 0/3 [00:00<?, ?it/s]"
     ]
    },
    {
     "name": "stderr",
     "output_type": "stream",
     "text": [
      "\r",
      "Finding Elimination Order: : 100%|██████████| 3/3 [00:00<00:00, 1650.22it/s]"
     ]
    },
    {
     "name": "stderr",
     "output_type": "stream",
     "text": [
      "\n",
      "\r",
      "  0%|          | 0/3 [00:00<?, ?it/s]"
     ]
    },
    {
     "name": "stderr",
     "output_type": "stream",
     "text": [
      "\r",
      "Eliminating: JohnCalls:   0%|          | 0/3 [00:00<?, ?it/s]"
     ]
    },
    {
     "name": "stderr",
     "output_type": "stream",
     "text": [
      "\r",
      "Eliminating: MaryCalls:   0%|          | 0/3 [00:00<?, ?it/s]"
     ]
    },
    {
     "name": "stderr",
     "output_type": "stream",
     "text": [
      "\r",
      "Eliminating: Burglary:   0%|          | 0/3 [00:00<?, ?it/s] "
     ]
    },
    {
     "name": "stderr",
     "output_type": "stream",
     "text": [
      "\r",
      "Eliminating: Burglary: 100%|██████████| 3/3 [00:00<00:00, 682.89it/s]"
     ]
    },
    {
     "name": "stderr",
     "output_type": "stream",
     "text": [
      "\n"
     ]
    },
    {
     "name": "stderr",
     "output_type": "stream",
     "text": [
      "\r",
      "  0%|          | 0/2 [00:00<?, ?it/s]"
     ]
    },
    {
     "name": "stderr",
     "output_type": "stream",
     "text": [
      "\r",
      "Finding Elimination Order: :   0%|          | 0/2 [00:00<?, ?it/s]"
     ]
    },
    {
     "name": "stderr",
     "output_type": "stream",
     "text": [
      "\r",
      "Finding Elimination Order: : 100%|██████████| 2/2 [00:00<00:00, 1393.23it/s]"
     ]
    },
    {
     "name": "stderr",
     "output_type": "stream",
     "text": [
      "\n",
      "\r",
      "  0%|          | 0/2 [00:00<?, ?it/s]"
     ]
    },
    {
     "name": "stderr",
     "output_type": "stream",
     "text": [
      "\r",
      "Eliminating: MaryCalls:   0%|          | 0/2 [00:00<?, ?it/s]"
     ]
    },
    {
     "name": "stderr",
     "output_type": "stream",
     "text": [
      "\r",
      "Eliminating: Burglary:   0%|          | 0/2 [00:00<?, ?it/s] "
     ]
    },
    {
     "name": "stderr",
     "output_type": "stream",
     "text": [
      "\r",
      "Eliminating: Burglary: 100%|██████████| 2/2 [00:00<00:00, 452.75it/s]"
     ]
    },
    {
     "name": "stderr",
     "output_type": "stream",
     "text": [
      "\n",
      "\r",
      "  0%|          | 0/2 [00:00<?, ?it/s]"
     ]
    },
    {
     "name": "stderr",
     "output_type": "stream",
     "text": [
      "\r",
      "Finding Elimination Order: :   0%|          | 0/2 [00:00<?, ?it/s]"
     ]
    },
    {
     "name": "stderr",
     "output_type": "stream",
     "text": [
      "\r",
      "Finding Elimination Order: : 100%|██████████| 2/2 [00:00<00:00, 1396.94it/s]"
     ]
    },
    {
     "name": "stderr",
     "output_type": "stream",
     "text": [
      "\n",
      "\r",
      "  0%|          | 0/2 [00:00<?, ?it/s]"
     ]
    },
    {
     "name": "stderr",
     "output_type": "stream",
     "text": [
      "\r",
      "Eliminating: MaryCalls:   0%|          | 0/2 [00:00<?, ?it/s]"
     ]
    },
    {
     "name": "stderr",
     "output_type": "stream",
     "text": [
      "\r",
      "Eliminating: Burglary:   0%|          | 0/2 [00:00<?, ?it/s] "
     ]
    },
    {
     "name": "stderr",
     "output_type": "stream",
     "text": [
      "\r",
      "Eliminating: Burglary: 100%|██████████| 2/2 [00:00<00:00, 526.06it/s]"
     ]
    },
    {
     "name": "stderr",
     "output_type": "stream",
     "text": [
      "\n"
     ]
    },
    {
     "name": "stdout",
     "output_type": "stream",
     "text": [
      "+-------------------+-------------------+\n",
      "| Earthquake        |   phi(Earthquake) |\n",
      "+===================+===================+\n",
      "| Earthquake(True)  |            0.2310 |\n",
      "+-------------------+-------------------+\n",
      "| Earthquake(False) |            0.7690 |\n",
      "+-------------------+-------------------+\n"
     ]
    }
   ],
   "source": [
    "\n",
    "# Case 1: Alarm = True\n",
    "JAE: DiscreteFactor = elim.query(variables = [Earthquake.var], evidence = {Alarm.var: 'True'})\n",
    "JAE_1 = elim.query(variables = [Earthquake.var], evidence = {Alarm.var: 'True', JohnCalls.var:'True'})\n",
    "JAE_2 = elim.query(variables = [Earthquake.var], evidence = {Alarm.var: 'True', JohnCalls.var:'False'})\n",
    "\n",
    "assert (JAE.values == JAE_1.values).all() and (JAE.values == JAE_2.values).all(), \"Check: there is independence between Earthquake and JohnCalls when Alarm state is observed (Alarm = True)\"\n",
    "\n",
    "print(JAE)"
   ]
  },
  {
   "cell_type": "markdown",
   "metadata": {
    "lines_to_next_cell": 0,
    "title": "markdown"
   },
   "source": [
    "The probability below is:\n",
    "$$\n",
    "\\begin{array}{ll}\n",
    "P(\\text{Earthquake} = \\text{True} \\; | \\; \\text{Alarm} = \\text{False})\n",
    "&= P(\\text{Earthquake} = \\text{True} \\; | \\; \\text{Alarm} = \\text{False} \\; \\cap \\; \\text{JohnCalls} = \\text{True})  \\\\\n",
    "&= P(\\text{Earthquake} = \\text{True} \\; | \\; \\text{Alarm} = \\text{False} \\; \\cap \\; \\text{JohnCalls} = \\text{False}) \\\\\n",
    "&= 0.0017\n",
    "\\end{array}\n",
    "$$"
   ]
  },
  {
   "cell_type": "code",
   "execution_count": 56,
   "metadata": {
    "title": "codecell"
   },
   "outputs": [
    {
     "name": "stderr",
     "output_type": "stream",
     "text": [
      "\r",
      "  0%|          | 0/3 [00:00<?, ?it/s]"
     ]
    },
    {
     "name": "stderr",
     "output_type": "stream",
     "text": [
      "\r",
      "Finding Elimination Order: :   0%|          | 0/3 [00:00<?, ?it/s]"
     ]
    },
    {
     "name": "stderr",
     "output_type": "stream",
     "text": [
      "\r",
      "Finding Elimination Order: : 100%|██████████| 3/3 [00:00<00:00, 1615.47it/s]"
     ]
    },
    {
     "name": "stderr",
     "output_type": "stream",
     "text": [
      "\n",
      "\r",
      "  0%|          | 0/3 [00:00<?, ?it/s]"
     ]
    },
    {
     "name": "stderr",
     "output_type": "stream",
     "text": [
      "\r",
      "Eliminating: JohnCalls:   0%|          | 0/3 [00:00<?, ?it/s]"
     ]
    },
    {
     "name": "stderr",
     "output_type": "stream",
     "text": [
      "\r",
      "Eliminating: MaryCalls:   0%|          | 0/3 [00:00<?, ?it/s]"
     ]
    },
    {
     "name": "stderr",
     "output_type": "stream",
     "text": [
      "\r",
      "Eliminating: Burglary:   0%|          | 0/3 [00:00<?, ?it/s] "
     ]
    },
    {
     "name": "stderr",
     "output_type": "stream",
     "text": [
      "\r",
      "Eliminating: Burglary: 100%|██████████| 3/3 [00:00<00:00, 688.38it/s]"
     ]
    },
    {
     "name": "stderr",
     "output_type": "stream",
     "text": [
      "\n",
      "\r",
      "  0%|          | 0/2 [00:00<?, ?it/s]"
     ]
    },
    {
     "name": "stderr",
     "output_type": "stream",
     "text": [
      "\r",
      "Finding Elimination Order: :   0%|          | 0/2 [00:00<?, ?it/s]"
     ]
    },
    {
     "name": "stderr",
     "output_type": "stream",
     "text": [
      "\r",
      "Finding Elimination Order: : 100%|██████████| 2/2 [00:00<00:00, 166.36it/s]"
     ]
    },
    {
     "name": "stderr",
     "output_type": "stream",
     "text": [
      "\n",
      "\r",
      "  0%|          | 0/2 [00:00<?, ?it/s]"
     ]
    },
    {
     "name": "stderr",
     "output_type": "stream",
     "text": [
      "\r",
      "Eliminating: MaryCalls:   0%|          | 0/2 [00:00<?, ?it/s]"
     ]
    },
    {
     "name": "stderr",
     "output_type": "stream",
     "text": [
      "\r",
      "Eliminating: Burglary:   0%|          | 0/2 [00:00<?, ?it/s] "
     ]
    },
    {
     "name": "stderr",
     "output_type": "stream",
     "text": [
      "\r",
      "Eliminating: Burglary: 100%|██████████| 2/2 [00:00<00:00, 689.40it/s]"
     ]
    },
    {
     "name": "stderr",
     "output_type": "stream",
     "text": [
      "\n",
      "\r",
      "  0%|          | 0/2 [00:00<?, ?it/s]"
     ]
    },
    {
     "name": "stderr",
     "output_type": "stream",
     "text": [
      "\r",
      "Finding Elimination Order: :   0%|          | 0/2 [00:00<?, ?it/s]"
     ]
    },
    {
     "name": "stderr",
     "output_type": "stream",
     "text": [
      "\r",
      "Finding Elimination Order: : 100%|██████████| 2/2 [00:00<00:00, 1729.25it/s]"
     ]
    },
    {
     "name": "stderr",
     "output_type": "stream",
     "text": [
      "\n",
      "\r",
      "  0%|          | 0/2 [00:00<?, ?it/s]"
     ]
    },
    {
     "name": "stderr",
     "output_type": "stream",
     "text": [
      "\r",
      "Eliminating: MaryCalls:   0%|          | 0/2 [00:00<?, ?it/s]"
     ]
    },
    {
     "name": "stderr",
     "output_type": "stream",
     "text": [
      "\r",
      "Eliminating: Burglary:   0%|          | 0/2 [00:00<?, ?it/s] "
     ]
    },
    {
     "name": "stderr",
     "output_type": "stream",
     "text": [
      "\r",
      "Eliminating: Burglary: 100%|██████████| 2/2 [00:00<00:00, 813.24it/s]"
     ]
    },
    {
     "name": "stdout",
     "output_type": "stream",
     "text": [
      "+-------------------+-------------------+\n",
      "| Earthquake        |   phi(Earthquake) |\n",
      "+===================+===================+\n",
      "| Earthquake(True)  |            0.0014 |\n",
      "+-------------------+-------------------+\n",
      "| Earthquake(False) |            0.9986 |\n",
      "+-------------------+-------------------+\n"
     ]
    },
    {
     "name": "stderr",
     "output_type": "stream",
     "text": [
      "\n"
     ]
    }
   ],
   "source": [
    "# Case 2: Alarm = False\n",
    "JAE: DiscreteFactor = elim.query(variables = [Earthquake.var], evidence = {Alarm.var: 'False'})\n",
    "JAE_1 = elim.query(variables = [Earthquake.var], evidence = {Alarm.var: 'False', JohnCalls.var:'True'})\n",
    "JAE_2 = elim.query(variables = [Earthquake.var], evidence = {Alarm.var: 'False', JohnCalls.var:'False'})\n",
    "\n",
    "assert (JAE.values == JAE_1.values).all() and (JAE.values == JAE_2.values).all(), \"Check: there is independence between Earthquake and JohnCalls when Alarm state is observed (Alarm = False)\"\n",
    "\n",
    "print(JAE)\n",
    "\n",
    "\n",
    "\n",
    "\n",
    "\n"
   ]
  },
  {
   "cell_type": "markdown",
   "metadata": {
    "title": "markdown"
   },
   "source": [
    "### 3. Inter-Causal (?) Reasoning in the Alarm Model\n",
    "For a common cause model $A \\leftarrow B \\rightarrow C$, there are two cases:\n",
    "  * **Marginal Dependence:** ($B$ unknown): When $B$ is unknown / unobserved, there is an active trail between $A$ and $C$, meaning the probability of $A$ can influence probability of $C$ (and vice versa) when information about $B$'s state is unknown.\n",
    "  * **Conditional Independence:** ($B$ fixed): When $B$ is fixed, there is NO active trail between $A$ and $C$, so they are independent. The probability of $A$ won't influence probability of $C$ (and vice versa) when $B$'s state is observed."
   ]
  },
  {
   "cell_type": "code",
   "execution_count": 57,
   "metadata": {
    "lines_to_next_cell": 0,
    "title": "codecell"
   },
   "outputs": [
    {
     "data": {
      "image/svg+xml": [
       "<?xml version=\"1.0\" encoding=\"UTF-8\" standalone=\"no\"?>\n",
       "<!DOCTYPE svg PUBLIC \"-//W3C//DTD SVG 1.1//EN\"\n",
       " \"http://www.w3.org/Graphics/SVG/1.1/DTD/svg11.dtd\">\n",
       "<!-- Generated by graphviz version 2.38.0 (20140413.2041)\n",
       " -->\n",
       "<!-- Title: G Pages: 1 -->\n",
       "<svg width=\"214pt\" height=\"188pt\"\n",
       " viewBox=\"0.00 0.00 214.18 188.00\" xmlns=\"http://www.w3.org/2000/svg\" xmlns:xlink=\"http://www.w3.org/1999/xlink\">\n",
       "<g id=\"graph0\" class=\"graph\" transform=\"scale(1 1) rotate(0) translate(4 184)\">\n",
       "<title>G</title>\n",
       "<polygon fill=\"white\" stroke=\"none\" points=\"-4,4 -4,-184 210.185,-184 210.185,4 -4,4\"/>\n",
       "<!-- Burglary -->\n",
       "<g id=\"node1\" class=\"node\"><title>Burglary</title>\n",
       "<defs>\n",
       "<linearGradient id=\"l_0\" gradientUnits=\"userSpaceOnUse\" x1=\"41.8599\" y1=\"-144\" x2=\"41.8599\" y2=\"-180\" >\n",
       "<stop offset=\"0\" style=\"stop-color:#ceccff;stop-opacity:1.;\"/>\n",
       "<stop offset=\"1\" style=\"stop-color:white;stop-opacity:1.;\"/>\n",
       "</linearGradient>\n",
       "</defs>\n",
       "<ellipse fill=\"url(#l_0)\" stroke=\"#ff638d\" cx=\"41.8599\" cy=\"-162\" rx=\"41.7203\" ry=\"18\"/>\n",
       "<text text-anchor=\"middle\" x=\"41.8599\" y=\"-158.9\" font-family=\"Acme-Regular.ttf\" font-size=\"12.00\">Burglary</text>\n",
       "</g>\n",
       "<!-- Alarm -->\n",
       "<g id=\"node2\" class=\"node\"><title>Alarm</title>\n",
       "<defs>\n",
       "<linearGradient id=\"l_1\" gradientUnits=\"userSpaceOnUse\" x1=\"97.8599\" y1=\"-72\" x2=\"97.8599\" y2=\"-108\" >\n",
       "<stop offset=\"0\" style=\"stop-color:#ceccff;stop-opacity:1.;\"/>\n",
       "<stop offset=\"1\" style=\"stop-color:white;stop-opacity:1.;\"/>\n",
       "</linearGradient>\n",
       "</defs>\n",
       "<ellipse fill=\"url(#l_1)\" stroke=\"#ff638d\" cx=\"97.8599\" cy=\"-90\" rx=\"32.7527\" ry=\"18\"/>\n",
       "<text text-anchor=\"middle\" x=\"97.8599\" y=\"-86.9\" font-family=\"Acme-Regular.ttf\" font-size=\"12.00\">Alarm</text>\n",
       "</g>\n",
       "<!-- Burglary&#45;&gt;Alarm -->\n",
       "<g id=\"edge1\" class=\"edge\"><title>Burglary&#45;&gt;Alarm</title>\n",
       "<path fill=\"none\" stroke=\"#ff638d\" d=\"M54.8482,-144.765C62.0171,-135.804 71.05,-124.512 78.985,-114.594\"/>\n",
       "<polygon fill=\"#ff638d\" stroke=\"#ff638d\" points=\"81.8134,-116.661 85.3273,-106.666 76.3473,-112.288 81.8134,-116.661\"/>\n",
       "</g>\n",
       "<!-- JohnCalls -->\n",
       "<g id=\"node3\" class=\"node\"><title>JohnCalls</title>\n",
       "<defs>\n",
       "<linearGradient id=\"l_2\" gradientUnits=\"userSpaceOnUse\" x1=\"44.8599\" y1=\"-1.77636e-14\" x2=\"44.8599\" y2=\"-36\" >\n",
       "<stop offset=\"0\" style=\"stop-color:#ceccff;stop-opacity:1.;\"/>\n",
       "<stop offset=\"1\" style=\"stop-color:white;stop-opacity:1.;\"/>\n",
       "</linearGradient>\n",
       "</defs>\n",
       "<ellipse fill=\"url(#l_2)\" stroke=\"#ff638d\" cx=\"44.8599\" cy=\"-18\" rx=\"43.9143\" ry=\"18\"/>\n",
       "<text text-anchor=\"middle\" x=\"44.8599\" y=\"-14.9\" font-family=\"Acme-Regular.ttf\" font-size=\"12.00\">JohnCalls</text>\n",
       "</g>\n",
       "<!-- Alarm&#45;&gt;JohnCalls -->\n",
       "<g id=\"edge2\" class=\"edge\"><title>Alarm&#45;&gt;JohnCalls</title>\n",
       "<path fill=\"none\" stroke=\"#ff638d\" d=\"M85.8334,-73.1159C79.2193,-64.3803 70.8699,-53.3528 63.4366,-43.5352\"/>\n",
       "<polygon fill=\"#ff638d\" stroke=\"#ff638d\" points=\"66.0335,-41.1669 57.2066,-35.307 60.4527,-45.3923 66.0335,-41.1669\"/>\n",
       "</g>\n",
       "<!-- MaryCalls -->\n",
       "<g id=\"node4\" class=\"node\"><title>MaryCalls</title>\n",
       "<defs>\n",
       "<linearGradient id=\"l_3\" gradientUnits=\"userSpaceOnUse\" x1=\"151.86\" y1=\"-1.77636e-14\" x2=\"151.86\" y2=\"-36\" >\n",
       "<stop offset=\"0\" style=\"stop-color:#ceccff;stop-opacity:1.;\"/>\n",
       "<stop offset=\"1\" style=\"stop-color:white;stop-opacity:1.;\"/>\n",
       "</linearGradient>\n",
       "</defs>\n",
       "<ellipse fill=\"url(#l_3)\" stroke=\"#ff638d\" cx=\"151.86\" cy=\"-18\" rx=\"45.6069\" ry=\"18\"/>\n",
       "<text text-anchor=\"middle\" x=\"151.86\" y=\"-14.9\" font-family=\"Acme-Regular.ttf\" font-size=\"12.00\">MaryCalls</text>\n",
       "</g>\n",
       "<!-- Alarm&#45;&gt;MaryCalls -->\n",
       "<g id=\"edge3\" class=\"edge\"><title>Alarm&#45;&gt;MaryCalls</title>\n",
       "<path fill=\"none\" stroke=\"#ff638d\" d=\"M110.113,-73.1159C116.92,-64.292 125.531,-53.1298 133.162,-43.238\"/>\n",
       "<polygon fill=\"#ff638d\" stroke=\"#ff638d\" points=\"135.943,-45.3627 139.28,-35.307 130.401,-41.087 135.943,-45.3627\"/>\n",
       "</g>\n",
       "<!-- Earthquake -->\n",
       "<g id=\"node5\" class=\"node\"><title>Earthquake</title>\n",
       "<defs>\n",
       "<linearGradient id=\"l_4\" gradientUnits=\"userSpaceOnUse\" x1=\"153.86\" y1=\"-144\" x2=\"153.86\" y2=\"-180\" >\n",
       "<stop offset=\"0\" style=\"stop-color:#ceccff;stop-opacity:1.;\"/>\n",
       "<stop offset=\"1\" style=\"stop-color:white;stop-opacity:1.;\"/>\n",
       "</linearGradient>\n",
       "</defs>\n",
       "<ellipse fill=\"url(#l_4)\" stroke=\"#ff638d\" cx=\"153.86\" cy=\"-162\" rx=\"52.1504\" ry=\"18\"/>\n",
       "<text text-anchor=\"middle\" x=\"153.86\" y=\"-158.9\" font-family=\"Acme-Regular.ttf\" font-size=\"12.00\">Earthquake</text>\n",
       "</g>\n",
       "<!-- Earthquake&#45;&gt;Alarm -->\n",
       "<g id=\"edge4\" class=\"edge\"><title>Earthquake&#45;&gt;Alarm</title>\n",
       "<path fill=\"none\" stroke=\"#ff638d\" d=\"M140.589,-144.411C133.584,-135.655 124.861,-124.751 117.126,-115.082\"/>\n",
       "<polygon fill=\"#ff638d\" stroke=\"#ff638d\" points=\"119.63,-112.61 110.65,-106.988 114.164,-116.983 119.63,-112.61\"/>\n",
       "</g>\n",
       "</g>\n",
       "</svg>\n"
      ],
      "text/plain": [
       "<graphviz.dot.Digraph at 0x7f36a5f10250>"
      ]
     },
     "execution_count": 57,
     "metadata": {},
     "output_type": "execute_result"
    }
   ],
   "source": [
    "pgmpyToGraph(alarmModel)"
   ]
  },
  {
   "cell_type": "markdown",
   "metadata": {
    "title": "markdown"
   },
   "source": [
    "### Case 1: Marginal Dependence (for Evidential Model)\n",
    "\n",
    "$$\n",
    "\\color{Green}{ \\text{Alarm (unobserved): }\\;\\;\\;\\;\\;\\;\\;\\;\\; \\text{JohnCalls} \\longleftarrow \\text{Alarm} \\longleftarrow \\text{MaryCalls}}\n",
    "$$\n",
    "\n",
    "When the parent node `Alarm` is unknown / unobserved, there IS an active trail between `JohnCalls` and `MaryCalls`. In other words, there is a dependence between `JohnCalls` and `MaryCalls` when `Alarm` is unobserved. This means the probability of `JohnCalls` can influence probability of `MaryCalls` (and vice versa) when information about `Alarm`'s state is unknown."
   ]
  },
  {
   "cell_type": "markdown",
   "metadata": {
    "lines_to_next_cell": 0,
    "title": "markdown"
   },
   "source": [
    "**Verify:** Using Active Trails"
   ]
  },
  {
   "cell_type": "code",
   "execution_count": 58,
   "metadata": {
    "lines_to_next_cell": 2,
    "title": "codecell"
   },
   "outputs": [
    {
     "name": "stdout",
     "output_type": "stream",
     "text": [
      "JohnCalls --> Earthquake\n",
      "JohnCalls --> JohnCalls\n",
      "JohnCalls --> MaryCalls\n",
      "JohnCalls --> Alarm\n",
      "JohnCalls --> Burglary\n",
      "MaryCalls --> Earthquake\n",
      "MaryCalls --> JohnCalls\n",
      "MaryCalls --> Alarm\n",
      "MaryCalls --> MaryCalls\n",
      "MaryCalls --> Burglary\n"
     ]
    }
   ],
   "source": [
    "assert alarmModel.is_active_trail(start = JohnCalls.var, end = MaryCalls.var,  observed = None)\n",
    "\n",
    "showActiveTrails(model = alarmModel, variables = [JohnCalls.var, MaryCalls.var])"
   ]
  },
  {
   "cell_type": "markdown",
   "metadata": {
    "lines_to_next_cell": 0,
    "title": "markdown"
   },
   "source": [
    "**Verify:** Using Probabilities\n",
    "* **NOTE:** Inter-Causal Reasoning For Common Cause Model:"
   ]
  },
  {
   "cell_type": "code",
   "execution_count": 59,
   "metadata": {
    "lines_to_next_cell": 0,
    "title": "codecell"
   },
   "outputs": [
    {
     "name": "stderr",
     "output_type": "stream",
     "text": [
      "\r",
      "  0%|          | 0/4 [00:00<?, ?it/s]"
     ]
    },
    {
     "name": "stderr",
     "output_type": "stream",
     "text": [
      "\r",
      "Finding Elimination Order: :   0%|          | 0/4 [00:00<?, ?it/s]"
     ]
    },
    {
     "name": "stderr",
     "output_type": "stream",
     "text": [
      "\r",
      "Finding Elimination Order: : 100%|██████████| 4/4 [00:00<00:00, 2190.24it/s]"
     ]
    },
    {
     "name": "stderr",
     "output_type": "stream",
     "text": [
      "\n",
      "\r",
      "  0%|          | 0/4 [00:00<?, ?it/s]"
     ]
    },
    {
     "name": "stderr",
     "output_type": "stream",
     "text": [
      "\r",
      "Eliminating: Earthquake:   0%|          | 0/4 [00:00<?, ?it/s]"
     ]
    },
    {
     "name": "stderr",
     "output_type": "stream",
     "text": [
      "\r",
      "Eliminating: JohnCalls:   0%|          | 0/4 [00:00<?, ?it/s] "
     ]
    },
    {
     "name": "stderr",
     "output_type": "stream",
     "text": [
      "\r",
      "Eliminating: Alarm:   0%|          | 0/4 [00:00<?, ?it/s]    "
     ]
    },
    {
     "name": "stderr",
     "output_type": "stream",
     "text": [
      "\r",
      "Eliminating: Burglary:   0%|          | 0/4 [00:00<?, ?it/s]"
     ]
    },
    {
     "name": "stderr",
     "output_type": "stream",
     "text": [
      "\r",
      "Eliminating: Burglary: 100%|██████████| 4/4 [00:00<00:00, 540.69it/s]"
     ]
    },
    {
     "name": "stdout",
     "output_type": "stream",
     "text": [
      "+------------------+------------------+\n",
      "| MaryCalls        |   phi(MaryCalls) |\n",
      "+==================+==================+\n",
      "| MaryCalls(True)  |           0.0117 |\n",
      "+------------------+------------------+\n",
      "| MaryCalls(False) |           0.9883 |\n",
      "+------------------+------------------+\n"
     ]
    },
    {
     "name": "stderr",
     "output_type": "stream",
     "text": [
      "\n"
     ]
    }
   ],
   "source": [
    "JM: DiscreteFactor = elim.query(variables = [MaryCalls.var], evidence = None)\n",
    "print(JM)"
   ]
  },
  {
   "cell_type": "markdown",
   "metadata": {
    "lines_to_next_cell": 0,
    "title": "markdown"
   },
   "source": [
    "Below we see that when `JohnCalls` and no `Alarm` was observed, there is a higher probability of `MaryCalls`, compared to when no `JohnCalls` nor `Alarm` were observed:\n",
    "$$\n",
    "P(\\text{MaryCalls} = \\text{True} \\; | \\; \\text{JohnCalls} = \\text{True}) = 0.6975\n",
    "$$"
   ]
  },
  {
   "cell_type": "code",
   "execution_count": 60,
   "metadata": {
    "lines_to_next_cell": 0,
    "title": "codecell"
   },
   "outputs": [
    {
     "name": "stderr",
     "output_type": "stream",
     "text": [
      "\r",
      "  0%|          | 0/3 [00:00<?, ?it/s]"
     ]
    },
    {
     "name": "stderr",
     "output_type": "stream",
     "text": [
      "\r",
      "Finding Elimination Order: :   0%|          | 0/3 [00:00<?, ?it/s]"
     ]
    },
    {
     "name": "stderr",
     "output_type": "stream",
     "text": [
      "\r",
      "Finding Elimination Order: : 100%|██████████| 3/3 [00:00<00:00, 914.19it/s]"
     ]
    },
    {
     "name": "stderr",
     "output_type": "stream",
     "text": [
      "\n",
      "\r",
      "  0%|          | 0/3 [00:00<?, ?it/s]"
     ]
    },
    {
     "name": "stderr",
     "output_type": "stream",
     "text": [
      "\r",
      "Eliminating: Earthquake:   0%|          | 0/3 [00:00<?, ?it/s]"
     ]
    },
    {
     "name": "stderr",
     "output_type": "stream",
     "text": [
      "\r",
      "Eliminating: Burglary:   0%|          | 0/3 [00:00<?, ?it/s]  "
     ]
    },
    {
     "name": "stderr",
     "output_type": "stream",
     "text": [
      "\r",
      "Eliminating: Alarm:   0%|          | 0/3 [00:00<?, ?it/s]   "
     ]
    },
    {
     "name": "stderr",
     "output_type": "stream",
     "text": [
      "\r",
      "Eliminating: Alarm: 100%|██████████| 3/3 [00:00<00:00, 463.95it/s]"
     ]
    },
    {
     "name": "stderr",
     "output_type": "stream",
     "text": [
      "\n"
     ]
    },
    {
     "name": "stdout",
     "output_type": "stream",
     "text": [
      "+------------------+------------------+\n",
      "| MaryCalls        |   phi(MaryCalls) |\n",
      "+==================+==================+\n",
      "| MaryCalls(True)  |           0.0400 |\n",
      "+------------------+------------------+\n",
      "| MaryCalls(False) |           0.9600 |\n",
      "+------------------+------------------+\n"
     ]
    }
   ],
   "source": [
    "JM_1 = elim.query(variables = [MaryCalls.var], evidence = {JohnCalls.var:'True'})\n",
    "print(JM_1)"
   ]
  },
  {
   "cell_type": "markdown",
   "metadata": {
    "lines_to_next_cell": 0,
    "title": "markdown"
   },
   "source": [
    "Below we see that when `JohnCalls` does not occur and no `Alarm` was observed, there is a lower probability of `MaryCalls`, compared to when `JohnCalls` and `Alarm` was not observed:\n",
    "$$\n",
    "P(\\text{MaryCalls} = \\text{True} \\; | \\; \\text{JohnCalls} = \\text{False}) = 0.4369\n",
    "$$"
   ]
  },
  {
   "cell_type": "code",
   "execution_count": 61,
   "metadata": {
    "lines_to_next_cell": 0,
    "title": "codecell"
   },
   "outputs": [
    {
     "name": "stderr",
     "output_type": "stream",
     "text": [
      "\r",
      "  0%|          | 0/3 [00:00<?, ?it/s]"
     ]
    },
    {
     "name": "stderr",
     "output_type": "stream",
     "text": [
      "\r",
      "Finding Elimination Order: :   0%|          | 0/3 [00:00<?, ?it/s]"
     ]
    },
    {
     "name": "stderr",
     "output_type": "stream",
     "text": [
      "\r",
      "Finding Elimination Order: : 100%|██████████| 3/3 [00:00<00:00, 1541.27it/s]"
     ]
    },
    {
     "name": "stderr",
     "output_type": "stream",
     "text": [
      "\n",
      "\r",
      "  0%|          | 0/3 [00:00<?, ?it/s]"
     ]
    },
    {
     "name": "stderr",
     "output_type": "stream",
     "text": [
      "\r",
      "Eliminating: Earthquake:   0%|          | 0/3 [00:00<?, ?it/s]"
     ]
    },
    {
     "name": "stderr",
     "output_type": "stream",
     "text": [
      "\r",
      "Eliminating: Burglary:   0%|          | 0/3 [00:00<?, ?it/s]  "
     ]
    },
    {
     "name": "stderr",
     "output_type": "stream",
     "text": [
      "\r",
      "Eliminating: Alarm:   0%|          | 0/3 [00:00<?, ?it/s]   "
     ]
    },
    {
     "name": "stderr",
     "output_type": "stream",
     "text": [
      "\r",
      "Eliminating: Alarm: 100%|██████████| 3/3 [00:00<00:00, 394.58it/s]"
     ]
    },
    {
     "name": "stdout",
     "output_type": "stream",
     "text": [
      "+------------------+------------------+\n",
      "| MaryCalls        |   phi(MaryCalls) |\n",
      "+==================+==================+\n",
      "| MaryCalls(True)  |           0.0102 |\n",
      "+------------------+------------------+\n",
      "| MaryCalls(False) |           0.9898 |\n",
      "+------------------+------------------+\n"
     ]
    },
    {
     "name": "stderr",
     "output_type": "stream",
     "text": [
      "\n"
     ]
    }
   ],
   "source": [
    "JM_2 = elim.query(variables = [MaryCalls.var], evidence = {JohnCalls.var:'False'})\n",
    "print(JM_2)"
   ]
  },
  {
   "cell_type": "code",
   "execution_count": 62,
   "metadata": {
    "lines_to_next_cell": 2,
    "title": "codecell"
   },
   "outputs": [],
   "source": [
    "assert (JM.values != JM_1.values).all() and (JM.values != JM_2.values).all(), \"Check: Marginal Dependence: there is dependency between MaryCalls and JohnCalls, when Alarm state is unobserved \""
   ]
  },
  {
   "cell_type": "markdown",
   "metadata": {
    "lines_to_next_cell": 0,
    "title": "markdown"
   },
   "source": [
    "### Case 2: Conditional Independence (for Common Cause Model)\n",
    "\n",
    "$$\n",
    "\\color{DeepSkyBlue}{ \\text{Alarm (observed): }\\;\\;\\;\\;\\;\\;\\;\\; \\text{JohnCalls} \\; \\bot \\; \\text{MaryCalls} \\; | \\; \\text{Alarm}}\n",
    "$$\n",
    "When the `Alarm`'s state is known (fixed / observed), then there is NO active trail between `JohnCalls` and `MaryCalls`. In other words, `JohnCalls` and `MaryCalls` are locally independent when `Alarm`'s state is observed. This means the probability of `JohnCalls` won't influence probability of `MaryCalls` (and vice versa) when `Alarm`'s state is observed.\n"
   ]
  },
  {
   "cell_type": "markdown",
   "metadata": {
    "lines_to_next_cell": 0,
    "title": "markdown"
   },
   "source": [
    "**Verify:** Using Active Trails"
   ]
  },
  {
   "cell_type": "code",
   "execution_count": 63,
   "metadata": {
    "title": "codecell"
   },
   "outputs": [
    {
     "name": "stdout",
     "output_type": "stream",
     "text": [
      "JohnCalls --> JohnCalls\n",
      "MaryCalls --> MaryCalls\n"
     ]
    }
   ],
   "source": [
    "assert not alarmModel.is_active_trail(start = JohnCalls.var, end = MaryCalls.var, observed = Alarm.var)\n",
    "\n",
    "showActiveTrails(model = alarmModel, variables = [JohnCalls.var, MaryCalls.var], observed = Alarm.var)"
   ]
  },
  {
   "cell_type": "markdown",
   "metadata": {
    "lines_to_next_cell": 0,
    "title": "markdown"
   },
   "source": [
    "**Verify:** Using Independencies"
   ]
  },
  {
   "cell_type": "code",
   "execution_count": 64,
   "metadata": {
    "lines_to_next_cell": 0,
    "title": "codecell"
   },
   "outputs": [
    {
     "data": {
      "text/plain": [
       "(MaryCalls _|_ JohnCalls | Alarm)\n",
       "(MaryCalls _|_ Burglary | Alarm)\n",
       "(MaryCalls _|_ Earthquake | Alarm, Burglary)\n",
       "(MaryCalls _|_ Burglary | Earthquake, JohnCalls, Alarm)\n",
       "(MaryCalls _|_ JohnCalls, Burglary | Earthquake, Alarm)\n",
       "(MaryCalls _|_ Burglary | JohnCalls, Alarm)\n",
       "(MaryCalls _|_ Earthquake, JohnCalls, Burglary | Alarm)\n",
       "(MaryCalls _|_ Earthquake, JohnCalls | Alarm)\n",
       "(MaryCalls _|_ Earthquake, Burglary | JohnCalls, Alarm)\n",
       "(MaryCalls _|_ JohnCalls, Burglary | Alarm)\n",
       "(MaryCalls _|_ JohnCalls | Alarm, Burglary)\n",
       "(MaryCalls _|_ Earthquake, JohnCalls | Alarm, Burglary)\n",
       "(MaryCalls _|_ Earthquake | Alarm)\n",
       "(MaryCalls _|_ JohnCalls | Earthquake, Alarm, Burglary)\n",
       "(MaryCalls _|_ Earthquake, Burglary | Alarm)\n",
       "(MaryCalls _|_ Earthquake | JohnCalls, Alarm)\n",
       "(MaryCalls _|_ Earthquake | JohnCalls, Alarm, Burglary)\n",
       "(MaryCalls _|_ Burglary | Earthquake, Alarm)\n",
       "(MaryCalls _|_ JohnCalls | Earthquake, Alarm)"
      ]
     },
     "execution_count": 64,
     "metadata": {},
     "output_type": "execute_result"
    }
   ],
   "source": [
    "indepJohn: IndependenceAssertion = Independencies([JohnCalls.var, MaryCalls.var, [Alarm.var]]).get_assertions()[0]; indepJohn\n",
    "\n",
    "indepMary: IndependenceAssertion = Independencies([MaryCalls.var, JohnCalls.var, [Alarm.var]]).get_assertions()[0]; indepMary\n",
    "\n",
    "\n",
    "# Using the fact that closure returns independencies that are IMPLIED by the current independencies:\n",
    "assert (str(indepMary) == '(MaryCalls _|_ JohnCalls | Alarm)' and\n",
    "        indepMary in alarmModel.local_independencies(MaryCalls.var).closure().get_assertions()),  \\\n",
    "        \"Check 1: MaryCalls and JohnCalls are independent once conditional on Alarm\"\n",
    "\n",
    "alarmModel.local_independencies(MaryCalls.var).closure()"
   ]
  },
  {
   "cell_type": "code",
   "execution_count": 65,
   "metadata": {
    "title": "codecell"
   },
   "outputs": [
    {
     "data": {
      "text/plain": [
       "(MaryCalls _|_ JohnCalls | Alarm)\n",
       "(MaryCalls _|_ Burglary | Alarm)\n",
       "(MaryCalls _|_ Earthquake | Alarm, Burglary)\n",
       "(MaryCalls _|_ Burglary | Earthquake, JohnCalls, Alarm)\n",
       "(MaryCalls _|_ JohnCalls, Burglary | Earthquake, Alarm)\n",
       "(MaryCalls _|_ Burglary | JohnCalls, Alarm)\n",
       "(MaryCalls _|_ Earthquake, JohnCalls, Burglary | Alarm)\n",
       "(MaryCalls _|_ Earthquake, JohnCalls | Alarm)\n",
       "(MaryCalls _|_ Earthquake, Burglary | JohnCalls, Alarm)\n",
       "(MaryCalls _|_ JohnCalls, Burglary | Alarm)\n",
       "(MaryCalls _|_ JohnCalls | Alarm, Burglary)\n",
       "(MaryCalls _|_ Earthquake, JohnCalls | Alarm, Burglary)\n",
       "(MaryCalls _|_ Earthquake | Alarm)\n",
       "(MaryCalls _|_ JohnCalls | Earthquake, Alarm, Burglary)\n",
       "(MaryCalls _|_ Earthquake, Burglary | Alarm)\n",
       "(MaryCalls _|_ Earthquake | JohnCalls, Alarm)\n",
       "(MaryCalls _|_ Earthquake | JohnCalls, Alarm, Burglary)\n",
       "(MaryCalls _|_ Burglary | Earthquake, Alarm)\n",
       "(MaryCalls _|_ JohnCalls | Earthquake, Alarm)"
      ]
     },
     "execution_count": 65,
     "metadata": {},
     "output_type": "execute_result"
    }
   ],
   "source": [
    "assert (str(indepJohn) == '(JohnCalls _|_ MaryCalls | Alarm)' and\n",
    "        indepJohn in alarmModel.local_independencies(JohnCalls.var).closure().get_assertions()), \\\n",
    "        \"Check 2: JohnCalls and MaryCalls are independent once conditional on Alarm\"\n",
    "\n",
    "alarmModel.local_independencies(MaryCalls.var).closure()"
   ]
  },
  {
   "cell_type": "code",
   "execution_count": 66,
   "metadata": {
    "lines_to_next_cell": 0,
    "title": "codecell"
   },
   "outputs": [
    {
     "name": "stdout",
     "output_type": "stream",
     "text": [
      "                   INDEPENDENCIES TABLE                  \n",
      "Fancy Notation              .....     Regular Notation   \n",
      "---------------------------------------------------------\n",
      "(M _|_ {B ∩ J ∩ E} | A)     .....     (M _|_ B, J, E | A)\n",
      "(M _|_ {B ∩ E ∩ J} | A)     .....     (M _|_ B, E, J | A)\n",
      "(M _|_ {J ∩ B ∩ E} | A)     .....     (M _|_ J, B, E | A)\n",
      "(M _|_ {J ∩ E ∩ B} | A)     .....     (M _|_ J, E, B | A)\n",
      "(M _|_ {E ∩ B ∩ J} | A)     .....     (M _|_ E, B, J | A)\n",
      "(M _|_ {E ∩ J ∩ B} | A)     .....     (M _|_ E, J, B | A)\n"
     ]
    }
   ],
   "source": [
    "# See: MaryCalls and JohnCalls are conditionally independent on Alarm:\n",
    "indepSynonymTable(model = alarmModel_brief, queryNode = 'M')"
   ]
  },
  {
   "cell_type": "code",
   "execution_count": 67,
   "metadata": {
    "lines_to_next_cell": 2,
    "title": "codecell"
   },
   "outputs": [
    {
     "name": "stdout",
     "output_type": "stream",
     "text": [
      "                   INDEPENDENCIES TABLE                  \n",
      "Fancy Notation              .....     Regular Notation   \n",
      "---------------------------------------------------------\n",
      "(J _|_ {B ∩ M ∩ E} | A)     .....     (J _|_ B, M, E | A)\n",
      "(J _|_ {B ∩ E ∩ M} | A)     .....     (J _|_ B, E, M | A)\n",
      "(J _|_ {M ∩ B ∩ E} | A)     .....     (J _|_ M, B, E | A)\n",
      "(J _|_ {M ∩ E ∩ B} | A)     .....     (J _|_ M, E, B | A)\n",
      "(J _|_ {E ∩ B ∩ M} | A)     .....     (J _|_ E, B, M | A)\n",
      "(J _|_ {E ∩ M ∩ B} | A)     .....     (J _|_ E, M, B | A)\n"
     ]
    }
   ],
   "source": [
    "indepSynonymTable(model = alarmModel_brief, queryNode = 'J')"
   ]
  },
  {
   "cell_type": "markdown",
   "metadata": {
    "title": "markdown"
   },
   "source": [
    "**Verify:** Using Probabilities Method"
   ]
  },
  {
   "cell_type": "markdown",
   "metadata": {
    "lines_to_next_cell": 0,
    "title": "markdown"
   },
   "source": [
    "The probability below is:\n",
    "$$\n",
    "\\begin{array}{ll}\n",
    "P(\\text{MaryCalls} = \\text{True} \\; | \\; \\text{Alarm} = \\text{True})\n",
    "&= P(\\text{MaryCalls} = \\text{True} \\; | \\; \\text{Alarm} = \\text{True} \\; \\cap \\; \\text{JohnCalls} = \\text{True})  \\\\\n",
    "&= P(\\text{MaryCalls} = \\text{True} \\; | \\; \\text{Alarm} = \\text{True} \\; \\cap \\; \\text{JohnCalls} = \\text{False}) \\\\\n",
    "&= 0.7\n",
    "\\end{array}\n",
    "$$"
   ]
  },
  {
   "cell_type": "code",
   "execution_count": 68,
   "metadata": {
    "lines_to_next_cell": 0,
    "title": "codecell"
   },
   "outputs": [
    {
     "name": "stderr",
     "output_type": "stream",
     "text": [
      "\r",
      "  0%|          | 0/3 [00:00<?, ?it/s]"
     ]
    },
    {
     "name": "stderr",
     "output_type": "stream",
     "text": [
      "\r",
      "Finding Elimination Order: :   0%|          | 0/3 [00:00<?, ?it/s]"
     ]
    },
    {
     "name": "stderr",
     "output_type": "stream",
     "text": [
      "\r",
      "Finding Elimination Order: : 100%|██████████| 3/3 [00:00<00:00, 1259.17it/s]"
     ]
    },
    {
     "name": "stderr",
     "output_type": "stream",
     "text": [
      "\n",
      "\r",
      "  0%|          | 0/3 [00:00<?, ?it/s]"
     ]
    },
    {
     "name": "stderr",
     "output_type": "stream",
     "text": [
      "\r",
      "Eliminating: Earthquake:   0%|          | 0/3 [00:00<?, ?it/s]"
     ]
    },
    {
     "name": "stderr",
     "output_type": "stream",
     "text": [
      "\r",
      "Eliminating: JohnCalls:   0%|          | 0/3 [00:00<?, ?it/s] "
     ]
    },
    {
     "name": "stderr",
     "output_type": "stream",
     "text": [
      "\r",
      "Eliminating: Burglary:   0%|          | 0/3 [00:00<?, ?it/s] "
     ]
    },
    {
     "name": "stderr",
     "output_type": "stream",
     "text": [
      "\r",
      "Eliminating: Burglary: 100%|██████████| 3/3 [00:00<00:00, 690.31it/s]"
     ]
    },
    {
     "name": "stderr",
     "output_type": "stream",
     "text": [
      "\n",
      "\r",
      "  0%|          | 0/2 [00:00<?, ?it/s]"
     ]
    },
    {
     "name": "stderr",
     "output_type": "stream",
     "text": [
      "\r",
      "Finding Elimination Order: :   0%|          | 0/2 [00:00<?, ?it/s]"
     ]
    },
    {
     "name": "stderr",
     "output_type": "stream",
     "text": [
      "\r",
      "Finding Elimination Order: : 100%|██████████| 2/2 [00:00<00:00, 743.67it/s]"
     ]
    },
    {
     "name": "stderr",
     "output_type": "stream",
     "text": [
      "\n",
      "\r",
      "  0%|          | 0/2 [00:00<?, ?it/s]"
     ]
    },
    {
     "name": "stderr",
     "output_type": "stream",
     "text": [
      "\r",
      "Eliminating: Earthquake:   0%|          | 0/2 [00:00<?, ?it/s]"
     ]
    },
    {
     "name": "stderr",
     "output_type": "stream",
     "text": [
      "\r",
      "Eliminating: Burglary:   0%|          | 0/2 [00:00<?, ?it/s]  "
     ]
    },
    {
     "name": "stderr",
     "output_type": "stream",
     "text": [
      "\r",
      "Eliminating: Burglary: 100%|██████████| 2/2 [00:00<00:00, 430.63it/s]"
     ]
    },
    {
     "name": "stderr",
     "output_type": "stream",
     "text": [
      "\n"
     ]
    },
    {
     "name": "stderr",
     "output_type": "stream",
     "text": [
      "\r",
      "  0%|          | 0/2 [00:00<?, ?it/s]"
     ]
    },
    {
     "name": "stderr",
     "output_type": "stream",
     "text": [
      "\r",
      "Finding Elimination Order: :   0%|          | 0/2 [00:00<?, ?it/s]"
     ]
    },
    {
     "name": "stderr",
     "output_type": "stream",
     "text": [
      "\r",
      "Finding Elimination Order: : 100%|██████████| 2/2 [00:00<00:00, 999.71it/s]"
     ]
    },
    {
     "name": "stderr",
     "output_type": "stream",
     "text": [
      "\n"
     ]
    },
    {
     "name": "stderr",
     "output_type": "stream",
     "text": [
      "\r",
      "  0%|          | 0/2 [00:00<?, ?it/s]"
     ]
    },
    {
     "name": "stderr",
     "output_type": "stream",
     "text": [
      "\r",
      "Eliminating: Earthquake:   0%|          | 0/2 [00:00<?, ?it/s]"
     ]
    },
    {
     "name": "stderr",
     "output_type": "stream",
     "text": [
      "\r",
      "Eliminating: Burglary:   0%|          | 0/2 [00:00<?, ?it/s]  "
     ]
    },
    {
     "name": "stderr",
     "output_type": "stream",
     "text": [
      "\r",
      "Eliminating: Burglary: 100%|██████████| 2/2 [00:00<00:00, 398.62it/s]"
     ]
    },
    {
     "name": "stdout",
     "output_type": "stream",
     "text": [
      "+------------------+------------------+\n",
      "| MaryCalls        |   phi(MaryCalls) |\n",
      "+==================+==================+\n",
      "| MaryCalls(True)  |           0.7000 |\n",
      "+------------------+------------------+\n",
      "| MaryCalls(False) |           0.3000 |\n",
      "+------------------+------------------+\n"
     ]
    },
    {
     "name": "stderr",
     "output_type": "stream",
     "text": [
      "\n"
     ]
    }
   ],
   "source": [
    "\n",
    "# Case 1: Alarm = True\n",
    "JAM: DiscreteFactor = elim.query(variables = [MaryCalls.var], evidence = {Alarm.var: 'True'})\n",
    "JAM_1 = elim.query(variables = [MaryCalls.var], evidence = {Alarm.var: 'True', JohnCalls.var:'True'})\n",
    "JAM_2 = elim.query(variables = [MaryCalls.var], evidence = {Alarm.var: 'True', JohnCalls.var:'False'})\n",
    "\n",
    "assert (JAM.values == JAM_1.values).all() and (JAM.values == JAM_2.values).all(), \"Check: there is independence between MaryCalls and JohnCalls when Alarm state is observed (Alarm = True)\"\n",
    "\n",
    "print(JAM)"
   ]
  },
  {
   "cell_type": "markdown",
   "metadata": {
    "lines_to_next_cell": 0,
    "title": "markdown"
   },
   "source": [
    "The probability below is:\n",
    "$$\n",
    "\\begin{array}{ll}\n",
    "P(\\text{MaryCalls} = \\text{True} \\; | \\; \\text{Alarm} = \\text{False})\n",
    "&= P(\\text{MaryCalls} = \\text{True} \\; | \\; \\text{Alarm} = \\text{False} \\; \\cap \\; \\text{JohnCalls} = \\text{True})  \\\\\n",
    "&= P(\\text{MaryCalls} = \\text{True} \\; | \\; \\text{Alarm} = \\text{False} \\; \\cap \\; \\text{JohnCalls} = \\text{False}) \\\\\n",
    "&= 0.7\n",
    "\\end{array}\n",
    "$$"
   ]
  },
  {
   "cell_type": "code",
   "execution_count": 69,
   "metadata": {
    "title": "codecell"
   },
   "outputs": [
    {
     "name": "stderr",
     "output_type": "stream",
     "text": [
      "\r",
      "  0%|          | 0/3 [00:00<?, ?it/s]"
     ]
    },
    {
     "name": "stderr",
     "output_type": "stream",
     "text": [
      "\r",
      "Finding Elimination Order: :   0%|          | 0/3 [00:00<?, ?it/s]"
     ]
    },
    {
     "name": "stderr",
     "output_type": "stream",
     "text": [
      "\r",
      "Finding Elimination Order: : 100%|██████████| 3/3 [00:00<00:00, 957.02it/s]"
     ]
    },
    {
     "name": "stderr",
     "output_type": "stream",
     "text": [
      "\n",
      "\r",
      "  0%|          | 0/3 [00:00<?, ?it/s]"
     ]
    },
    {
     "name": "stderr",
     "output_type": "stream",
     "text": [
      "\r",
      "Eliminating: Earthquake:   0%|          | 0/3 [00:00<?, ?it/s]"
     ]
    },
    {
     "name": "stderr",
     "output_type": "stream",
     "text": [
      "\r",
      "Eliminating: JohnCalls:   0%|          | 0/3 [00:00<?, ?it/s] "
     ]
    },
    {
     "name": "stderr",
     "output_type": "stream",
     "text": [
      "\r",
      "Eliminating: Burglary:   0%|          | 0/3 [00:00<?, ?it/s] "
     ]
    },
    {
     "name": "stderr",
     "output_type": "stream",
     "text": [
      "\r",
      "Eliminating: Burglary: 100%|██████████| 3/3 [00:00<00:00, 406.27it/s]"
     ]
    },
    {
     "name": "stderr",
     "output_type": "stream",
     "text": [
      "\n",
      "\r",
      "  0%|          | 0/2 [00:00<?, ?it/s]"
     ]
    },
    {
     "name": "stderr",
     "output_type": "stream",
     "text": [
      "\r",
      "Finding Elimination Order: :   0%|          | 0/2 [00:00<?, ?it/s]"
     ]
    },
    {
     "name": "stderr",
     "output_type": "stream",
     "text": [
      "\r",
      "Finding Elimination Order: : 100%|██████████| 2/2 [00:00<00:00, 1428.33it/s]"
     ]
    },
    {
     "name": "stderr",
     "output_type": "stream",
     "text": [
      "\n",
      "\r",
      "  0%|          | 0/2 [00:00<?, ?it/s]"
     ]
    },
    {
     "name": "stderr",
     "output_type": "stream",
     "text": [
      "\r",
      "Eliminating: Earthquake:   0%|          | 0/2 [00:00<?, ?it/s]"
     ]
    },
    {
     "name": "stderr",
     "output_type": "stream",
     "text": [
      "\r",
      "Eliminating: Burglary:   0%|          | 0/2 [00:00<?, ?it/s]  "
     ]
    },
    {
     "name": "stderr",
     "output_type": "stream",
     "text": [
      "\r",
      "Eliminating: Burglary: 100%|██████████| 2/2 [00:00<00:00, 433.74it/s]"
     ]
    },
    {
     "name": "stderr",
     "output_type": "stream",
     "text": [
      "\n",
      "\r",
      "  0%|          | 0/2 [00:00<?, ?it/s]"
     ]
    },
    {
     "name": "stderr",
     "output_type": "stream",
     "text": [
      "\r",
      "Finding Elimination Order: :   0%|          | 0/2 [00:00<?, ?it/s]"
     ]
    },
    {
     "name": "stderr",
     "output_type": "stream",
     "text": [
      "\r",
      "Finding Elimination Order: : 100%|██████████| 2/2 [00:00<00:00, 974.85it/s]"
     ]
    },
    {
     "name": "stderr",
     "output_type": "stream",
     "text": [
      "\n",
      "\r",
      "  0%|          | 0/2 [00:00<?, ?it/s]"
     ]
    },
    {
     "name": "stderr",
     "output_type": "stream",
     "text": [
      "\r",
      "Eliminating: Earthquake:   0%|          | 0/2 [00:00<?, ?it/s]"
     ]
    },
    {
     "name": "stderr",
     "output_type": "stream",
     "text": [
      "\r",
      "Eliminating: Burglary:   0%|          | 0/2 [00:00<?, ?it/s]  "
     ]
    },
    {
     "name": "stderr",
     "output_type": "stream",
     "text": [
      "\r",
      "Eliminating: Burglary: 100%|██████████| 2/2 [00:00<00:00, 476.98it/s]"
     ]
    },
    {
     "name": "stdout",
     "output_type": "stream",
     "text": [
      "+------------------+------------------+\n",
      "| MaryCalls        |   phi(MaryCalls) |\n",
      "+==================+==================+\n",
      "| MaryCalls(True)  |           0.0100 |\n",
      "+------------------+------------------+\n",
      "| MaryCalls(False) |           0.9900 |\n",
      "+------------------+------------------+\n"
     ]
    },
    {
     "name": "stderr",
     "output_type": "stream",
     "text": [
      "\n"
     ]
    }
   ],
   "source": [
    "\n",
    "# Case 2: Alarm = False\n",
    "JAM: DiscreteFactor = elim.query(variables = [MaryCalls.var], evidence = {Alarm.var: 'False'})\n",
    "JAM_1 = elim.query(variables = [MaryCalls.var], evidence = {Alarm.var: 'False', JohnCalls.var:'True'})\n",
    "JAM_2 = elim.query(variables = [MaryCalls.var], evidence = {Alarm.var: 'False', JohnCalls.var:'False'})\n",
    "\n",
    "assert (JAM.values == JAM_1.values).all() and (JAM.values == JAM_2.values).all(), \"Check: there is independence between MaryCalls and JohnCalls when Alarm state is observed (Alarm = False)\"\n",
    "\n",
    "print(JAM)"
   ]
  },
  {
   "cell_type": "code",
   "execution_count": 70,
   "metadata": {
    "title": "codecell"
   },
   "outputs": [
    {
     "name": "stderr",
     "output_type": "stream",
     "text": [
      "\r",
      "  0%|          | 0/3 [00:00<?, ?it/s]"
     ]
    },
    {
     "name": "stderr",
     "output_type": "stream",
     "text": [
      "\r",
      "Finding Elimination Order: :   0%|          | 0/3 [00:00<?, ?it/s]"
     ]
    },
    {
     "name": "stderr",
     "output_type": "stream",
     "text": [
      "\r",
      "Finding Elimination Order: : 100%|██████████| 3/3 [00:00<00:00, 1626.12it/s]"
     ]
    },
    {
     "name": "stderr",
     "output_type": "stream",
     "text": [
      "\n",
      "\r",
      "  0%|          | 0/3 [00:00<?, ?it/s]"
     ]
    },
    {
     "name": "stderr",
     "output_type": "stream",
     "text": [
      "\r",
      "Eliminating: Earthquake:   0%|          | 0/3 [00:00<?, ?it/s]"
     ]
    },
    {
     "name": "stderr",
     "output_type": "stream",
     "text": [
      "\r",
      "Eliminating: MaryCalls:   0%|          | 0/3 [00:00<?, ?it/s] "
     ]
    },
    {
     "name": "stderr",
     "output_type": "stream",
     "text": [
      "\r",
      "Eliminating: Burglary:   0%|          | 0/3 [00:00<?, ?it/s] "
     ]
    },
    {
     "name": "stderr",
     "output_type": "stream",
     "text": [
      "\r",
      "Eliminating: Burglary: 100%|██████████| 3/3 [00:00<00:00, 533.29it/s]"
     ]
    },
    {
     "name": "stderr",
     "output_type": "stream",
     "text": [
      "\n"
     ]
    },
    {
     "name": "stderr",
     "output_type": "stream",
     "text": [
      "\r",
      "  0%|          | 0/2 [00:00<?, ?it/s]"
     ]
    },
    {
     "name": "stderr",
     "output_type": "stream",
     "text": [
      "\r",
      "Finding Elimination Order: :   0%|          | 0/2 [00:00<?, ?it/s]"
     ]
    },
    {
     "name": "stderr",
     "output_type": "stream",
     "text": [
      "\r",
      "Finding Elimination Order: : 100%|██████████| 2/2 [00:00<00:00, 1062.52it/s]"
     ]
    },
    {
     "name": "stderr",
     "output_type": "stream",
     "text": [
      "\n",
      "\r",
      "  0%|          | 0/2 [00:00<?, ?it/s]"
     ]
    },
    {
     "name": "stderr",
     "output_type": "stream",
     "text": [
      "\r",
      "Eliminating: Earthquake:   0%|          | 0/2 [00:00<?, ?it/s]"
     ]
    },
    {
     "name": "stderr",
     "output_type": "stream",
     "text": [
      "\r",
      "Eliminating: Burglary:   0%|          | 0/2 [00:00<?, ?it/s]  "
     ]
    },
    {
     "name": "stderr",
     "output_type": "stream",
     "text": [
      "\r",
      "Eliminating: Burglary: 100%|██████████| 2/2 [00:00<00:00, 532.78it/s]"
     ]
    },
    {
     "name": "stderr",
     "output_type": "stream",
     "text": [
      "\n",
      "\r",
      "  0%|          | 0/2 [00:00<?, ?it/s]"
     ]
    },
    {
     "name": "stderr",
     "output_type": "stream",
     "text": [
      "\r",
      "Finding Elimination Order: :   0%|          | 0/2 [00:00<?, ?it/s]"
     ]
    },
    {
     "name": "stderr",
     "output_type": "stream",
     "text": [
      "\r",
      "Finding Elimination Order: : 100%|██████████| 2/2 [00:00<00:00, 1104.49it/s]"
     ]
    },
    {
     "name": "stderr",
     "output_type": "stream",
     "text": [
      "\n",
      "\r",
      "  0%|          | 0/2 [00:00<?, ?it/s]"
     ]
    },
    {
     "name": "stderr",
     "output_type": "stream",
     "text": [
      "\r",
      "Eliminating: Earthquake:   0%|          | 0/2 [00:00<?, ?it/s]"
     ]
    },
    {
     "name": "stderr",
     "output_type": "stream",
     "text": [
      "\r",
      "Eliminating: Burglary:   0%|          | 0/2 [00:00<?, ?it/s]  "
     ]
    },
    {
     "name": "stderr",
     "output_type": "stream",
     "text": [
      "\r",
      "Eliminating: Burglary: 100%|██████████| 2/2 [00:00<00:00, 620.46it/s]"
     ]
    },
    {
     "name": "stdout",
     "output_type": "stream",
     "text": [
      "+------------------+------------------+\n",
      "| JohnCalls        |   phi(JohnCalls) |\n",
      "+==================+==================+\n",
      "| JohnCalls(True)  |           0.0500 |\n",
      "+------------------+------------------+\n",
      "| JohnCalls(False) |           0.9500 |\n",
      "+------------------+------------------+\n"
     ]
    },
    {
     "name": "stderr",
     "output_type": "stream",
     "text": [
      "\n"
     ]
    }
   ],
   "source": [
    "# Symmetry:\n",
    "MAJ: DiscreteFactor = elim.query(variables = [JohnCalls.var], evidence = {Alarm.var: 'False'})\n",
    "MAJ_1 = elim.query(variables = [JohnCalls.var], evidence = {Alarm.var: 'False', MaryCalls.var:'True'})\n",
    "MAJ_2 = elim.query(variables = [JohnCalls.var], evidence = {Alarm.var: 'False', MaryCalls.var:'False'})\n",
    "\n",
    "assert (MAJ.values == MAJ_1.values).all() and (MAJ.values == MAJ_2.values).all(), \"Check: there is independence between MaryCalls and JohnCalls when Alarm state is observed (Alarm = False)\"\n",
    "\n",
    "print(MAJ)\n",
    "\n",
    "\n"
   ]
  },
  {
   "cell_type": "markdown",
   "metadata": {
    "lines_to_next_cell": 2,
    "title": "markdown"
   },
   "source": [
    "### 4. Inter-Causal Reasoning in the Alarm Model\n",
    "For a common evidence model $A \\rightarrow B \\leftarrow C$, there are two cases:\n",
    "  * **Marginal Independence:** ($B$ unknown): When $B$ is unknown / unobserved, there is NO active trail between $A$ and $C$; they are independent. The probability of $A$ won't influence probability of $C$ (and vice versa) when $B$'s state is unknown.\n",
    "  * **Conditional Dependence:** ($B$ fixed): When $B$ is fixed, there IS an active trail between $A$ and $C$, meaning the probability of $A$ can influence probability of $C$ (and vice versa) when information about $B$ is observed / fixed."
   ]
  },
  {
   "cell_type": "code",
   "execution_count": 71,
   "metadata": {
    "lines_to_next_cell": 0,
    "title": "codecell"
   },
   "outputs": [
    {
     "data": {
      "image/svg+xml": [
       "<?xml version=\"1.0\" encoding=\"UTF-8\" standalone=\"no\"?>\n",
       "<!DOCTYPE svg PUBLIC \"-//W3C//DTD SVG 1.1//EN\"\n",
       " \"http://www.w3.org/Graphics/SVG/1.1/DTD/svg11.dtd\">\n",
       "<!-- Generated by graphviz version 2.38.0 (20140413.2041)\n",
       " -->\n",
       "<!-- Title: G Pages: 1 -->\n",
       "<svg width=\"214pt\" height=\"188pt\"\n",
       " viewBox=\"0.00 0.00 214.18 188.00\" xmlns=\"http://www.w3.org/2000/svg\" xmlns:xlink=\"http://www.w3.org/1999/xlink\">\n",
       "<g id=\"graph0\" class=\"graph\" transform=\"scale(1 1) rotate(0) translate(4 184)\">\n",
       "<title>G</title>\n",
       "<polygon fill=\"white\" stroke=\"none\" points=\"-4,4 -4,-184 210.185,-184 210.185,4 -4,4\"/>\n",
       "<!-- Burglary -->\n",
       "<g id=\"node1\" class=\"node\"><title>Burglary</title>\n",
       "<defs>\n",
       "<linearGradient id=\"l_0\" gradientUnits=\"userSpaceOnUse\" x1=\"41.8599\" y1=\"-144\" x2=\"41.8599\" y2=\"-180\" >\n",
       "<stop offset=\"0\" style=\"stop-color:#ceccff;stop-opacity:1.;\"/>\n",
       "<stop offset=\"1\" style=\"stop-color:white;stop-opacity:1.;\"/>\n",
       "</linearGradient>\n",
       "</defs>\n",
       "<ellipse fill=\"url(#l_0)\" stroke=\"#ff638d\" cx=\"41.8599\" cy=\"-162\" rx=\"41.7203\" ry=\"18\"/>\n",
       "<text text-anchor=\"middle\" x=\"41.8599\" y=\"-158.9\" font-family=\"Acme-Regular.ttf\" font-size=\"12.00\">Burglary</text>\n",
       "</g>\n",
       "<!-- Alarm -->\n",
       "<g id=\"node2\" class=\"node\"><title>Alarm</title>\n",
       "<defs>\n",
       "<linearGradient id=\"l_1\" gradientUnits=\"userSpaceOnUse\" x1=\"97.8599\" y1=\"-72\" x2=\"97.8599\" y2=\"-108\" >\n",
       "<stop offset=\"0\" style=\"stop-color:#ceccff;stop-opacity:1.;\"/>\n",
       "<stop offset=\"1\" style=\"stop-color:white;stop-opacity:1.;\"/>\n",
       "</linearGradient>\n",
       "</defs>\n",
       "<ellipse fill=\"url(#l_1)\" stroke=\"#ff638d\" cx=\"97.8599\" cy=\"-90\" rx=\"32.7527\" ry=\"18\"/>\n",
       "<text text-anchor=\"middle\" x=\"97.8599\" y=\"-86.9\" font-family=\"Acme-Regular.ttf\" font-size=\"12.00\">Alarm</text>\n",
       "</g>\n",
       "<!-- Burglary&#45;&gt;Alarm -->\n",
       "<g id=\"edge1\" class=\"edge\"><title>Burglary&#45;&gt;Alarm</title>\n",
       "<path fill=\"none\" stroke=\"#ff638d\" d=\"M54.8482,-144.765C62.0171,-135.804 71.05,-124.512 78.985,-114.594\"/>\n",
       "<polygon fill=\"#ff638d\" stroke=\"#ff638d\" points=\"81.8134,-116.661 85.3273,-106.666 76.3473,-112.288 81.8134,-116.661\"/>\n",
       "</g>\n",
       "<!-- JohnCalls -->\n",
       "<g id=\"node3\" class=\"node\"><title>JohnCalls</title>\n",
       "<defs>\n",
       "<linearGradient id=\"l_2\" gradientUnits=\"userSpaceOnUse\" x1=\"44.8599\" y1=\"-1.77636e-14\" x2=\"44.8599\" y2=\"-36\" >\n",
       "<stop offset=\"0\" style=\"stop-color:#ceccff;stop-opacity:1.;\"/>\n",
       "<stop offset=\"1\" style=\"stop-color:white;stop-opacity:1.;\"/>\n",
       "</linearGradient>\n",
       "</defs>\n",
       "<ellipse fill=\"url(#l_2)\" stroke=\"#ff638d\" cx=\"44.8599\" cy=\"-18\" rx=\"43.9143\" ry=\"18\"/>\n",
       "<text text-anchor=\"middle\" x=\"44.8599\" y=\"-14.9\" font-family=\"Acme-Regular.ttf\" font-size=\"12.00\">JohnCalls</text>\n",
       "</g>\n",
       "<!-- Alarm&#45;&gt;JohnCalls -->\n",
       "<g id=\"edge2\" class=\"edge\"><title>Alarm&#45;&gt;JohnCalls</title>\n",
       "<path fill=\"none\" stroke=\"#ff638d\" d=\"M85.8334,-73.1159C79.2193,-64.3803 70.8699,-53.3528 63.4366,-43.5352\"/>\n",
       "<polygon fill=\"#ff638d\" stroke=\"#ff638d\" points=\"66.0335,-41.1669 57.2066,-35.307 60.4527,-45.3923 66.0335,-41.1669\"/>\n",
       "</g>\n",
       "<!-- MaryCalls -->\n",
       "<g id=\"node4\" class=\"node\"><title>MaryCalls</title>\n",
       "<defs>\n",
       "<linearGradient id=\"l_3\" gradientUnits=\"userSpaceOnUse\" x1=\"151.86\" y1=\"-1.77636e-14\" x2=\"151.86\" y2=\"-36\" >\n",
       "<stop offset=\"0\" style=\"stop-color:#ceccff;stop-opacity:1.;\"/>\n",
       "<stop offset=\"1\" style=\"stop-color:white;stop-opacity:1.;\"/>\n",
       "</linearGradient>\n",
       "</defs>\n",
       "<ellipse fill=\"url(#l_3)\" stroke=\"#ff638d\" cx=\"151.86\" cy=\"-18\" rx=\"45.6069\" ry=\"18\"/>\n",
       "<text text-anchor=\"middle\" x=\"151.86\" y=\"-14.9\" font-family=\"Acme-Regular.ttf\" font-size=\"12.00\">MaryCalls</text>\n",
       "</g>\n",
       "<!-- Alarm&#45;&gt;MaryCalls -->\n",
       "<g id=\"edge3\" class=\"edge\"><title>Alarm&#45;&gt;MaryCalls</title>\n",
       "<path fill=\"none\" stroke=\"#ff638d\" d=\"M110.113,-73.1159C116.92,-64.292 125.531,-53.1298 133.162,-43.238\"/>\n",
       "<polygon fill=\"#ff638d\" stroke=\"#ff638d\" points=\"135.943,-45.3627 139.28,-35.307 130.401,-41.087 135.943,-45.3627\"/>\n",
       "</g>\n",
       "<!-- Earthquake -->\n",
       "<g id=\"node5\" class=\"node\"><title>Earthquake</title>\n",
       "<defs>\n",
       "<linearGradient id=\"l_4\" gradientUnits=\"userSpaceOnUse\" x1=\"153.86\" y1=\"-144\" x2=\"153.86\" y2=\"-180\" >\n",
       "<stop offset=\"0\" style=\"stop-color:#ceccff;stop-opacity:1.;\"/>\n",
       "<stop offset=\"1\" style=\"stop-color:white;stop-opacity:1.;\"/>\n",
       "</linearGradient>\n",
       "</defs>\n",
       "<ellipse fill=\"url(#l_4)\" stroke=\"#ff638d\" cx=\"153.86\" cy=\"-162\" rx=\"52.1504\" ry=\"18\"/>\n",
       "<text text-anchor=\"middle\" x=\"153.86\" y=\"-158.9\" font-family=\"Acme-Regular.ttf\" font-size=\"12.00\">Earthquake</text>\n",
       "</g>\n",
       "<!-- Earthquake&#45;&gt;Alarm -->\n",
       "<g id=\"edge4\" class=\"edge\"><title>Earthquake&#45;&gt;Alarm</title>\n",
       "<path fill=\"none\" stroke=\"#ff638d\" d=\"M140.589,-144.411C133.584,-135.655 124.861,-124.751 117.126,-115.082\"/>\n",
       "<polygon fill=\"#ff638d\" stroke=\"#ff638d\" points=\"119.63,-112.61 110.65,-106.988 114.164,-116.983 119.63,-112.61\"/>\n",
       "</g>\n",
       "</g>\n",
       "</svg>\n"
      ],
      "text/plain": [
       "<graphviz.dot.Digraph at 0x7f36a5f0a090>"
      ]
     },
     "execution_count": 71,
     "metadata": {},
     "output_type": "execute_result"
    }
   ],
   "source": [
    "pgmpyToGraph(alarmModel)"
   ]
  },
  {
   "cell_type": "markdown",
   "metadata": {
    "lines_to_next_cell": 0,
    "title": "markdown"
   },
   "source": [
    "### Case 1: Marginal Independence (for Common Evidence Model)\n",
    "\n",
    "$$\n",
    "\\color{DeepSkyBlue}{ \\text{Alarm (observed): }\\;\\;\\;\\;\\;\\;\\;\\; \\text{Burglary} \\; \\bot \\; \\text{Earthquake} \\; | \\; \\text{Alarm}}\n",
    "$$\n",
    "\n",
    "When the effect node `Alarm` is unknown / unobserved, there is NO an active trail between `Burglary` and `Earthquake`. In other words, there is a local marginal independence between `Burglary` and `Earthquake` when `Alarm` is unobserved. This means the probability of `Burglary` won't influence the probability of `Earthquake` (and vice versa) when `Alarm`'s state is unknown.\n"
   ]
  },
  {
   "cell_type": "markdown",
   "metadata": {
    "lines_to_next_cell": 0,
    "title": "markdown"
   },
   "source": [
    "**Verify:** Using Active Trails"
   ]
  },
  {
   "cell_type": "code",
   "execution_count": 72,
   "metadata": {
    "title": "codecell"
   },
   "outputs": [
    {
     "name": "stdout",
     "output_type": "stream",
     "text": [
      "Burglary --> MaryCalls\n",
      "Burglary --> JohnCalls\n",
      "Burglary --> Alarm\n",
      "Burglary --> Burglary\n",
      "Earthquake --> MaryCalls\n",
      "Earthquake --> Earthquake\n",
      "Earthquake --> JohnCalls\n",
      "Earthquake --> Alarm\n"
     ]
    }
   ],
   "source": [
    "assert not alarmModel.is_active_trail(start = Burglary.var, end = Earthquake.var, observed = None)\n",
    "\n",
    "showActiveTrails(model = alarmModel, variables = [Burglary.var, Earthquake.var])"
   ]
  },
  {
   "cell_type": "markdown",
   "metadata": {
    "lines_to_next_cell": 0,
    "title": "markdown"
   },
   "source": [
    "**Verify:** Using Independencies"
   ]
  },
  {
   "cell_type": "code",
   "execution_count": 73,
   "metadata": {
    "lines_to_next_cell": 2,
    "title": "codecell"
   },
   "outputs": [
    {
     "name": "stdout",
     "output_type": "stream",
     "text": [
      "                       INDEPENDENCIES TABLE                      \n",
      "Fancy Notation                .....     Regular Notation         \n",
      "-----------------------------------------------------------------\n",
      "(Burglary _|_ Earthquake)     .....     (Burglary _|_ Earthquake)\n",
      "None\n",
      "                       INDEPENDENCIES TABLE                      \n",
      "Fancy Notation                .....     Regular Notation         \n",
      "-----------------------------------------------------------------\n",
      "(Earthquake _|_ Burglary)     .....     (Earthquake _|_ Burglary)\n",
      "None\n"
     ]
    }
   ],
   "source": [
    "indepBurgEarth = Independencies([Burglary.var, Earthquake.var])\n",
    "\n",
    "assert indepBurgEarth == alarmModel.local_independencies(Burglary.var), 'Check 1: Burglary and Earthquake are marginally independent'\n",
    "\n",
    "assert indepBurgEarth == alarmModel.local_independencies(Earthquake.var), 'Check 2: Burglary and Earthquake are marginally independent'\n",
    "\n",
    "\n",
    "# See: MaryCalls and Burglary are marginally independent :\n",
    "print(indepSynonymTable(model = alarmModel, queryNode = Burglary.var))\n",
    "print(indepSynonymTable(model = alarmModel, queryNode = Earthquake.var))"
   ]
  },
  {
   "cell_type": "markdown",
   "metadata": {
    "lines_to_next_cell": 0,
    "title": "markdown"
   },
   "source": [
    "**Verify:** Using Probabilities Method"
   ]
  },
  {
   "cell_type": "markdown",
   "metadata": {
    "lines_to_next_cell": 0,
    "title": "markdown"
   },
   "source": [
    "The probability below is:\n",
    "$$\n",
    "\\begin{array}{ll}\n",
    "P(\\text{Earthquake} = \\text{True})\n",
    "&= P(\\text{Earthquake} = \\text{True} \\; | \\; \\text{Burglary} = \\text{True})  \\\\\n",
    "&= P(\\text{Earthquake} = \\text{True} \\; | \\; \\text{Burglary} = \\text{False}) \\\\\n",
    "&= 0.7\n",
    "\\end{array}\n",
    "$$"
   ]
  },
  {
   "cell_type": "code",
   "execution_count": 74,
   "metadata": {
    "title": "codecell"
   },
   "outputs": [
    {
     "name": "stderr",
     "output_type": "stream",
     "text": [
      "\r",
      "  0%|          | 0/4 [00:00<?, ?it/s]"
     ]
    },
    {
     "name": "stderr",
     "output_type": "stream",
     "text": [
      "\r",
      "Finding Elimination Order: :   0%|          | 0/4 [00:00<?, ?it/s]"
     ]
    },
    {
     "name": "stderr",
     "output_type": "stream",
     "text": [
      "\r",
      "Finding Elimination Order: : 100%|██████████| 4/4 [00:00<00:00, 1877.91it/s]"
     ]
    },
    {
     "name": "stderr",
     "output_type": "stream",
     "text": [
      "\n",
      "\r",
      "  0%|          | 0/4 [00:00<?, ?it/s]"
     ]
    },
    {
     "name": "stderr",
     "output_type": "stream",
     "text": [
      "\r",
      "Eliminating: JohnCalls:   0%|          | 0/4 [00:00<?, ?it/s]"
     ]
    },
    {
     "name": "stderr",
     "output_type": "stream",
     "text": [
      "\r",
      "Eliminating: Alarm:   0%|          | 0/4 [00:00<?, ?it/s]    "
     ]
    },
    {
     "name": "stderr",
     "output_type": "stream",
     "text": [
      "\r",
      "Eliminating: MaryCalls:   0%|          | 0/4 [00:00<?, ?it/s]"
     ]
    },
    {
     "name": "stderr",
     "output_type": "stream",
     "text": [
      "\r",
      "Eliminating: Burglary:   0%|          | 0/4 [00:00<?, ?it/s] "
     ]
    },
    {
     "name": "stderr",
     "output_type": "stream",
     "text": [
      "\r",
      "Eliminating: Burglary: 100%|██████████| 4/4 [00:00<00:00, 437.39it/s]"
     ]
    },
    {
     "name": "stderr",
     "output_type": "stream",
     "text": [
      "\n"
     ]
    },
    {
     "name": "stderr",
     "output_type": "stream",
     "text": [
      "\r",
      "  0%|          | 0/3 [00:00<?, ?it/s]"
     ]
    },
    {
     "name": "stderr",
     "output_type": "stream",
     "text": [
      "\r",
      "Finding Elimination Order: :   0%|          | 0/3 [00:00<?, ?it/s]"
     ]
    },
    {
     "name": "stderr",
     "output_type": "stream",
     "text": [
      "\r",
      "Finding Elimination Order: : 100%|██████████| 3/3 [00:00<00:00, 2236.56it/s]"
     ]
    },
    {
     "name": "stderr",
     "output_type": "stream",
     "text": [
      "\n",
      "\r",
      "  0%|          | 0/3 [00:00<?, ?it/s]"
     ]
    },
    {
     "name": "stderr",
     "output_type": "stream",
     "text": [
      "\r",
      "Eliminating: MaryCalls:   0%|          | 0/3 [00:00<?, ?it/s]"
     ]
    },
    {
     "name": "stderr",
     "output_type": "stream",
     "text": [
      "\r",
      "Eliminating: JohnCalls:   0%|          | 0/3 [00:00<?, ?it/s]"
     ]
    },
    {
     "name": "stderr",
     "output_type": "stream",
     "text": [
      "\r",
      "Eliminating: Alarm:   0%|          | 0/3 [00:00<?, ?it/s]    "
     ]
    },
    {
     "name": "stderr",
     "output_type": "stream",
     "text": [
      "\r",
      "Eliminating: Alarm: 100%|██████████| 3/3 [00:00<00:00, 589.20it/s]"
     ]
    },
    {
     "name": "stderr",
     "output_type": "stream",
     "text": [
      "\n"
     ]
    },
    {
     "name": "stderr",
     "output_type": "stream",
     "text": [
      "\r",
      "  0%|          | 0/3 [00:00<?, ?it/s]"
     ]
    },
    {
     "name": "stderr",
     "output_type": "stream",
     "text": [
      "\r",
      "Finding Elimination Order: :   0%|          | 0/3 [00:00<?, ?it/s]"
     ]
    },
    {
     "name": "stderr",
     "output_type": "stream",
     "text": [
      "\r",
      "Finding Elimination Order: : 100%|██████████| 3/3 [00:00<00:00, 1719.68it/s]"
     ]
    },
    {
     "name": "stderr",
     "output_type": "stream",
     "text": [
      "\n",
      "\r",
      "  0%|          | 0/3 [00:00<?, ?it/s]"
     ]
    },
    {
     "name": "stderr",
     "output_type": "stream",
     "text": [
      "\r",
      "Eliminating: MaryCalls:   0%|          | 0/3 [00:00<?, ?it/s]"
     ]
    },
    {
     "name": "stderr",
     "output_type": "stream",
     "text": [
      "\r",
      "Eliminating: JohnCalls:   0%|          | 0/3 [00:00<?, ?it/s]"
     ]
    },
    {
     "name": "stderr",
     "output_type": "stream",
     "text": [
      "\r",
      "Eliminating: Alarm:   0%|          | 0/3 [00:00<?, ?it/s]    "
     ]
    },
    {
     "name": "stderr",
     "output_type": "stream",
     "text": [
      "\r",
      "Eliminating: Alarm: 100%|██████████| 3/3 [00:00<00:00, 648.54it/s]"
     ]
    },
    {
     "name": "stderr",
     "output_type": "stream",
     "text": [
      "\n"
     ]
    },
    {
     "name": "stdout",
     "output_type": "stream",
     "text": [
      "+-------------------+-------------------+\n",
      "| Earthquake        |   phi(Earthquake) |\n",
      "+===================+===================+\n",
      "| Earthquake(True)  |            0.0020 |\n",
      "+-------------------+-------------------+\n",
      "| Earthquake(False) |            0.9980 |\n",
      "+-------------------+-------------------+\n"
     ]
    }
   ],
   "source": [
    "\n",
    "BE: DiscreteFactor = elim.query(variables = [Earthquake.var], evidence = None)\n",
    "BE_1 = elim.query(variables = [Earthquake.var], evidence = {Burglary.var:'True'})\n",
    "BE_2 = elim.query(variables = [Earthquake.var], evidence = {Burglary.var: 'False'})\n",
    "\n",
    "# Using np.allclose instead of exact equals sign (there must be some numerical inconsistency ... otherwise they wouldn't be different at all! BAE.values[0] = 0.0019999999 while BAE_1.values[0] = 0.002)\n",
    "assert np.allclose(BE.values, BE_1.values) and np.allclose(BE.values, BE_2.values), \"Check: there is marginal independence between Earthquake and Burglary when Alarm state is NOT observed\"\n",
    "\n",
    "print(BE)\n",
    "\n"
   ]
  },
  {
   "cell_type": "markdown",
   "metadata": {
    "title": "markdown"
   },
   "source": [
    "### Case 2: Conditional Dependence (for Common Evidence Model)\n",
    "\n",
    "$$\n",
    "\\color{Green}{ \\text{Alarm (unobserved): }\\;\\;\\;\\;\\;\\;\\;\\;\\; \\text{Burglary} \\longleftarrow \\text{Alarm} \\longrightarrow \\text{Earthquake}}\n",
    "$$\n",
    "When the `Alarm`'s state is known (fixed / observed), then there IS an active trail between `Burglary` and `Earthquake`. In other words, `Burglary` and `Earthquake` are dependent when `Alarm`'s state is observed. This means the probability of `Burglary` can influence probability of `Earthquake` (and vice versa) when `Alarm`'s state is observed."
   ]
  },
  {
   "cell_type": "markdown",
   "metadata": {
    "lines_to_next_cell": 0,
    "title": "markdown"
   },
   "source": [
    "**Verify:** Using Active Trails"
   ]
  },
  {
   "cell_type": "code",
   "execution_count": 75,
   "metadata": {
    "lines_to_next_cell": 2,
    "title": "codecell"
   },
   "outputs": [
    {
     "name": "stdout",
     "output_type": "stream",
     "text": [
      "Burglary --> Earthquake\n",
      "Burglary --> Burglary\n",
      "Earthquake --> Earthquake\n",
      "Earthquake --> Burglary\n"
     ]
    }
   ],
   "source": [
    "assert alarmModel.is_active_trail(start = Burglary.var, end = Earthquake.var,  observed = Alarm.var)\n",
    "\n",
    "showActiveTrails(model = alarmModel, variables = [Burglary.var, Earthquake.var], observed = Alarm.var)"
   ]
  },
  {
   "cell_type": "markdown",
   "metadata": {
    "lines_to_next_cell": 0,
    "title": "markdown"
   },
   "source": [
    "**Verify:** Using Probabilities\n",
    "* **NOTE:** Inter-Causal Reasoning For Common Evidence Model:"
   ]
  },
  {
   "cell_type": "code",
   "execution_count": 76,
   "metadata": {
    "lines_to_next_cell": 0,
    "title": "codecell"
   },
   "outputs": [
    {
     "name": "stderr",
     "output_type": "stream",
     "text": [
      "\r",
      "  0%|          | 0/3 [00:00<?, ?it/s]"
     ]
    },
    {
     "name": "stderr",
     "output_type": "stream",
     "text": [
      "\r",
      "Finding Elimination Order: :   0%|          | 0/3 [00:00<?, ?it/s]"
     ]
    },
    {
     "name": "stderr",
     "output_type": "stream",
     "text": [
      "\r",
      "Finding Elimination Order: : 100%|██████████| 3/3 [00:00<00:00, 1349.95it/s]"
     ]
    },
    {
     "name": "stderr",
     "output_type": "stream",
     "text": [
      "\n",
      "\r",
      "  0%|          | 0/3 [00:00<?, ?it/s]"
     ]
    },
    {
     "name": "stderr",
     "output_type": "stream",
     "text": [
      "\r",
      "Eliminating: JohnCalls:   0%|          | 0/3 [00:00<?, ?it/s]"
     ]
    },
    {
     "name": "stderr",
     "output_type": "stream",
     "text": [
      "\r",
      "Eliminating: MaryCalls:   0%|          | 0/3 [00:00<?, ?it/s]"
     ]
    },
    {
     "name": "stderr",
     "output_type": "stream",
     "text": [
      "\r",
      "Eliminating: Burglary:   0%|          | 0/3 [00:00<?, ?it/s] "
     ]
    },
    {
     "name": "stderr",
     "output_type": "stream",
     "text": [
      "\r",
      "Eliminating: Burglary: 100%|██████████| 3/3 [00:00<00:00, 589.47it/s]"
     ]
    },
    {
     "name": "stdout",
     "output_type": "stream",
     "text": [
      "+-------------------+-------------------+\n",
      "| Earthquake        |   phi(Earthquake) |\n",
      "+===================+===================+\n",
      "| Earthquake(True)  |            0.2310 |\n",
      "+-------------------+-------------------+\n",
      "| Earthquake(False) |            0.7690 |\n",
      "+-------------------+-------------------+\n"
     ]
    },
    {
     "name": "stderr",
     "output_type": "stream",
     "text": [
      "\n"
     ]
    }
   ],
   "source": [
    "\n",
    "# Case 1: Alarm = True\n",
    "BAE: DiscreteFactor = elim.query(variables = [Earthquake.var], evidence = {Alarm.var: 'True'})\n",
    "print(BAE)"
   ]
  },
  {
   "cell_type": "code",
   "execution_count": 77,
   "metadata": {
    "lines_to_next_cell": 0,
    "title": "codecell"
   },
   "outputs": [
    {
     "name": "stderr",
     "output_type": "stream",
     "text": [
      "\r",
      "  0%|          | 0/2 [00:00<?, ?it/s]"
     ]
    },
    {
     "name": "stderr",
     "output_type": "stream",
     "text": [
      "\r",
      "Finding Elimination Order: :   0%|          | 0/2 [00:00<?, ?it/s]"
     ]
    },
    {
     "name": "stderr",
     "output_type": "stream",
     "text": [
      "\r",
      "Finding Elimination Order: : 100%|██████████| 2/2 [00:00<00:00, 1167.68it/s]"
     ]
    },
    {
     "name": "stderr",
     "output_type": "stream",
     "text": [
      "\n",
      "\r",
      "  0%|          | 0/2 [00:00<?, ?it/s]"
     ]
    },
    {
     "name": "stderr",
     "output_type": "stream",
     "text": [
      "\r",
      "Eliminating: JohnCalls:   0%|          | 0/2 [00:00<?, ?it/s]"
     ]
    },
    {
     "name": "stderr",
     "output_type": "stream",
     "text": [
      "\r",
      "Eliminating: MaryCalls:   0%|          | 0/2 [00:00<?, ?it/s]"
     ]
    },
    {
     "name": "stderr",
     "output_type": "stream",
     "text": [
      "\r",
      "Eliminating: MaryCalls: 100%|██████████| 2/2 [00:00<00:00, 712.05it/s]"
     ]
    },
    {
     "name": "stdout",
     "output_type": "stream",
     "text": [
      "+-------------------+-------------------+\n",
      "| Earthquake        |   phi(Earthquake) |\n",
      "+===================+===================+\n",
      "| Earthquake(True)  |            0.0020 |\n",
      "+-------------------+-------------------+\n",
      "| Earthquake(False) |            0.9980 |\n",
      "+-------------------+-------------------+\n"
     ]
    },
    {
     "name": "stderr",
     "output_type": "stream",
     "text": [
      "\n"
     ]
    }
   ],
   "source": [
    "BAE_1: DiscreteFactor = elim.query(variables = [Earthquake.var], evidence = {Burglary.var:'True', Alarm.var: 'True'})\n",
    "print(BAE_1)"
   ]
  },
  {
   "cell_type": "markdown",
   "metadata": {
    "lines_to_next_cell": 0,
    "title": "markdown"
   },
   "source": [
    "Below we see that when there was no`Burglary` (cause) and `Alarm` rang, there is a higher probability of `Earthquake` (other cause) compared to when there was a `Burglary` and `Alarm` rang:\n",
    "$$\n",
    "P(\\text{Earthquake} = \\text{True} \\; | \\; \\text{Burglary} = \\text{False} \\; \\cap \\; \\text{Alarm} = \\text{True}) = 0.3676\n",
    "$$\n",
    "* NOTE: This is like in page 41 of Korb book (inverse of \"explaining away\")"
   ]
  },
  {
   "cell_type": "code",
   "execution_count": 78,
   "metadata": {
    "title": "codecell"
   },
   "outputs": [
    {
     "name": "stderr",
     "output_type": "stream",
     "text": [
      "\r",
      "  0%|          | 0/2 [00:00<?, ?it/s]"
     ]
    },
    {
     "name": "stderr",
     "output_type": "stream",
     "text": [
      "\r",
      "Finding Elimination Order: :   0%|          | 0/2 [00:00<?, ?it/s]"
     ]
    },
    {
     "name": "stderr",
     "output_type": "stream",
     "text": [
      "\r",
      "Finding Elimination Order: : 100%|██████████| 2/2 [00:00<00:00, 1078.37it/s]"
     ]
    },
    {
     "name": "stderr",
     "output_type": "stream",
     "text": [
      "\n"
     ]
    },
    {
     "name": "stderr",
     "output_type": "stream",
     "text": [
      "\r",
      "  0%|          | 0/2 [00:00<?, ?it/s]"
     ]
    },
    {
     "name": "stderr",
     "output_type": "stream",
     "text": [
      "\r",
      "Eliminating: JohnCalls:   0%|          | 0/2 [00:00<?, ?it/s]"
     ]
    },
    {
     "name": "stderr",
     "output_type": "stream",
     "text": [
      "\r",
      "Eliminating: MaryCalls:   0%|          | 0/2 [00:00<?, ?it/s]"
     ]
    },
    {
     "name": "stderr",
     "output_type": "stream",
     "text": [
      "\r",
      "Eliminating: MaryCalls: 100%|██████████| 2/2 [00:00<00:00, 428.30it/s]"
     ]
    },
    {
     "name": "stdout",
     "output_type": "stream",
     "text": [
      "+-------------------+-------------------+\n",
      "| Earthquake        |   phi(Earthquake) |\n",
      "+===================+===================+\n",
      "| Earthquake(True)  |            0.3676 |\n",
      "+-------------------+-------------------+\n",
      "| Earthquake(False) |            0.6324 |\n",
      "+-------------------+-------------------+\n"
     ]
    },
    {
     "name": "stderr",
     "output_type": "stream",
     "text": [
      "\n"
     ]
    }
   ],
   "source": [
    "BAE_2: DiscreteFactor = elim.query(variables = [Earthquake.var], evidence = {Burglary.var:'False', Alarm.var: 'True'})\n",
    "print(BAE_2)"
   ]
  },
  {
   "cell_type": "code",
   "execution_count": 79,
   "metadata": {
    "title": "codecell"
   },
   "outputs": [],
   "source": [
    "assert (BAE_2.values != BAE.values).all(), 'Check: there is dependency between Earthquake and Burglary when Alarm state is observed (True)'"
   ]
  },
  {
   "cell_type": "markdown",
   "metadata": {
    "lines_to_next_cell": 0,
    "title": "markdown"
   },
   "source": [
    "The probability below is:\n",
    "$$\n",
    "P(\\text{Earthquake} = \\text{True} \\; | \\;\\text{Alarm} = \\text{False}) = 0.0017\n",
    "$$"
   ]
  },
  {
   "cell_type": "code",
   "execution_count": 80,
   "metadata": {
    "lines_to_next_cell": 0,
    "title": "codecell"
   },
   "outputs": [
    {
     "name": "stderr",
     "output_type": "stream",
     "text": [
      "\r",
      "  0%|          | 0/3 [00:00<?, ?it/s]"
     ]
    },
    {
     "name": "stderr",
     "output_type": "stream",
     "text": [
      "\r",
      "Finding Elimination Order: :   0%|          | 0/3 [00:00<?, ?it/s]"
     ]
    },
    {
     "name": "stderr",
     "output_type": "stream",
     "text": [
      "\r",
      "Finding Elimination Order: : 100%|██████████| 3/3 [00:00<00:00, 1158.43it/s]"
     ]
    },
    {
     "name": "stderr",
     "output_type": "stream",
     "text": [
      "\n",
      "\r",
      "  0%|          | 0/3 [00:00<?, ?it/s]"
     ]
    },
    {
     "name": "stderr",
     "output_type": "stream",
     "text": [
      "\r",
      "Eliminating: JohnCalls:   0%|          | 0/3 [00:00<?, ?it/s]"
     ]
    },
    {
     "name": "stderr",
     "output_type": "stream",
     "text": [
      "\r",
      "Eliminating: MaryCalls:   0%|          | 0/3 [00:00<?, ?it/s]"
     ]
    },
    {
     "name": "stderr",
     "output_type": "stream",
     "text": [
      "\r",
      "Eliminating: Burglary:   0%|          | 0/3 [00:00<?, ?it/s] "
     ]
    },
    {
     "name": "stderr",
     "output_type": "stream",
     "text": [
      "\r",
      "Eliminating: Burglary: 100%|██████████| 3/3 [00:00<00:00, 618.87it/s]"
     ]
    },
    {
     "name": "stdout",
     "output_type": "stream",
     "text": [
      "+-------------------+-------------------+\n",
      "| Earthquake        |   phi(Earthquake) |\n",
      "+===================+===================+\n",
      "| Earthquake(True)  |            0.0014 |\n",
      "+-------------------+-------------------+\n",
      "| Earthquake(False) |            0.9986 |\n",
      "+-------------------+-------------------+\n"
     ]
    },
    {
     "name": "stderr",
     "output_type": "stream",
     "text": [
      "\n"
     ]
    }
   ],
   "source": [
    "# Case 2: Alarm = False\n",
    "BAE: DiscreteFactor = elim.query(variables = [Earthquake.var], evidence = {Alarm.var: 'False'})\n",
    "print(BAE)"
   ]
  },
  {
   "cell_type": "markdown",
   "metadata": {
    "lines_to_next_cell": 0,
    "title": "markdown"
   },
   "source": [
    "The probability below is:\n",
    "$$\n",
    "P(\\text{Earthquake} = \\text{True} \\; | \\; \\text{Burglary} = \\text{True} \\; \\cap \\; \\text{Alarm} = \\text{False}) = 0.0017\n",
    "$$"
   ]
  },
  {
   "cell_type": "code",
   "execution_count": 81,
   "metadata": {
    "lines_to_next_cell": 0,
    "title": "codecell"
   },
   "outputs": [
    {
     "name": "stderr",
     "output_type": "stream",
     "text": [
      "\r",
      "  0%|          | 0/2 [00:00<?, ?it/s]"
     ]
    },
    {
     "name": "stderr",
     "output_type": "stream",
     "text": [
      "\r",
      "Finding Elimination Order: :   0%|          | 0/2 [00:00<?, ?it/s]"
     ]
    },
    {
     "name": "stderr",
     "output_type": "stream",
     "text": [
      "\r",
      "Finding Elimination Order: : 100%|██████████| 2/2 [00:00<00:00, 968.10it/s]"
     ]
    },
    {
     "name": "stderr",
     "output_type": "stream",
     "text": [
      "\n",
      "\r",
      "  0%|          | 0/2 [00:00<?, ?it/s]"
     ]
    },
    {
     "name": "stderr",
     "output_type": "stream",
     "text": [
      "\r",
      "Eliminating: JohnCalls:   0%|          | 0/2 [00:00<?, ?it/s]"
     ]
    },
    {
     "name": "stderr",
     "output_type": "stream",
     "text": [
      "\r",
      "Eliminating: MaryCalls:   0%|          | 0/2 [00:00<?, ?it/s]"
     ]
    },
    {
     "name": "stderr",
     "output_type": "stream",
     "text": [
      "\r",
      "Eliminating: MaryCalls: 100%|██████████| 2/2 [00:00<00:00, 781.57it/s]"
     ]
    },
    {
     "name": "stdout",
     "output_type": "stream",
     "text": [
      "+-------------------+-------------------+\n",
      "| Earthquake        |   phi(Earthquake) |\n",
      "+===================+===================+\n",
      "| Earthquake(True)  |            0.0017 |\n",
      "+-------------------+-------------------+\n",
      "| Earthquake(False) |            0.9983 |\n",
      "+-------------------+-------------------+\n"
     ]
    },
    {
     "name": "stderr",
     "output_type": "stream",
     "text": [
      "\n"
     ]
    }
   ],
   "source": [
    "BAE_1: DiscreteFactor = elim.query(variables = [Earthquake.var], evidence = {Burglary.var:'True', Alarm.var: 'False'})\n",
    "print(BAE_1)"
   ]
  },
  {
   "cell_type": "markdown",
   "metadata": {
    "lines_to_next_cell": 0,
    "title": "markdown"
   },
   "source": [
    "Below we see that when there was no `Burglary` (cause) and `Alarm` did not ring, there is a lower probability of `Earthquake` (other cause) compared to when there was a `Burglary` and `Alarm` didn't ring:\n",
    "$$\n",
    "P(\\text{Earthquake} = \\text{True} \\; | \\; \\text{Burglary} = \\text{False} \\; \\cap \\; \\text{Alarm} = \\text{False}) = 0.0014\n",
    "$$"
   ]
  },
  {
   "cell_type": "code",
   "execution_count": 82,
   "metadata": {
    "lines_to_next_cell": 0,
    "title": "codecell"
   },
   "outputs": [
    {
     "name": "stderr",
     "output_type": "stream",
     "text": [
      "\r",
      "  0%|          | 0/2 [00:00<?, ?it/s]"
     ]
    },
    {
     "name": "stderr",
     "output_type": "stream",
     "text": [
      "\r",
      "Finding Elimination Order: :   0%|          | 0/2 [00:00<?, ?it/s]"
     ]
    },
    {
     "name": "stderr",
     "output_type": "stream",
     "text": [
      "\r",
      "Finding Elimination Order: : 100%|██████████| 2/2 [00:00<00:00, 1187.18it/s]"
     ]
    },
    {
     "name": "stderr",
     "output_type": "stream",
     "text": [
      "\n",
      "\r",
      "  0%|          | 0/2 [00:00<?, ?it/s]"
     ]
    },
    {
     "name": "stderr",
     "output_type": "stream",
     "text": [
      "\r",
      "Eliminating: JohnCalls:   0%|          | 0/2 [00:00<?, ?it/s]"
     ]
    },
    {
     "name": "stderr",
     "output_type": "stream",
     "text": [
      "\r",
      "Eliminating: MaryCalls:   0%|          | 0/2 [00:00<?, ?it/s]"
     ]
    },
    {
     "name": "stderr",
     "output_type": "stream",
     "text": [
      "\r",
      "Eliminating: MaryCalls: 100%|██████████| 2/2 [00:00<00:00, 689.91it/s]"
     ]
    },
    {
     "name": "stdout",
     "output_type": "stream",
     "text": [
      "+-------------------+-------------------+\n",
      "| Earthquake        |   phi(Earthquake) |\n",
      "+===================+===================+\n",
      "| Earthquake(True)  |            0.0014 |\n",
      "+-------------------+-------------------+\n",
      "| Earthquake(False) |            0.9986 |\n",
      "+-------------------+-------------------+\n"
     ]
    },
    {
     "name": "stderr",
     "output_type": "stream",
     "text": [
      "\n"
     ]
    }
   ],
   "source": [
    "BAE_2: DiscreteFactor = elim.query(variables = [Earthquake.var], evidence = {Burglary.var:'False', Alarm.var: 'False'})\n",
    "print(BAE_2)"
   ]
  },
  {
   "cell_type": "code",
   "execution_count": 83,
   "metadata": {
    "title": "codecell"
   },
   "outputs": [],
   "source": [
    "assert (BAE_2.values != BAE.values).all(), 'Check: there is dependency between Earthquake and Burglary when Alarm state is observed (False)'"
   ]
  }
 ],
 "metadata": {
  "jupytext": {
   "cell_metadata_filter": "title,-all"
  },
  "kernelspec": {
   "display_name": "pybayesian_env",
   "language": "python",
   "name": "pybayesian_env"
  },
  "language_info": {
   "codemirror_mode": {
    "name": "ipython",
    "version": 3
   },
   "file_extension": ".py",
   "mimetype": "text/x-python",
   "name": "python",
   "nbconvert_exporter": "python",
   "pygments_lexer": "ipython3",
   "version": "3.7.6"
  }
 },
 "nbformat": 4,
 "nbformat_minor": 4
}
