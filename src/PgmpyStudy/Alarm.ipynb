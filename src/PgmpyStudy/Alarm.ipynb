{
 "cells": [
  {
   "cell_type": "markdown",
   "metadata": {
    "title": "markdown"
   },
   "source": [
    "[Source for tutorial](https://github.com/pgmpy/pgmpy/blob/dev/examples/Alarm.ipynb)\n",
    "\n",
    "\n",
    "# Alarm Bayesian Network\n",
    "Creating the Alarm Bayesian network using pgmpy and doing some simple queries (mentioned in Bayesian Artificial Intelligence, Section 2.5.1: )"
   ]
  },
  {
   "cell_type": "markdown",
   "metadata": {
    "lines_to_next_cell": 0,
    "title": "markdown"
   },
   "source": [
    "Doing path-setting:"
   ]
  },
  {
   "cell_type": "code",
   "execution_count": 1,
   "metadata": {
    "title": "codecell"
   },
   "outputs": [
    {
     "name": "stdout",
     "output_type": "stream",
     "text": [
      "curPath =  /development/projects/statisticallyfit/github/learningmathstat/PythonProbabilisticGraphicalModels/src/PgmpyStudy/ \n",
      "\n",
      "dataPath =  /development/projects/statisticallyfit/github/learningmathstat/PythonProbabilisticGraphicalModels/src/PgmpyStudy/data/ \n",
      "\n",
      "imagePath =  /development/projects/statisticallyfit/github/learningmathstat/PythonProbabilisticGraphicalModels/src/PgmpyStudy/images/ \n",
      "\n"
     ]
    },
    {
     "data": {
      "text/plain": [
       "['/development/projects/statisticallyfit/github/learningmathstat/PythonProbabilisticGraphicalModels/src/PgmpyStudy',\n",
       " '/development/bin/python/conda3_ana/envs/pybayesian_env/lib/python37.zip',\n",
       " '/development/bin/python/conda3_ana/envs/pybayesian_env/lib/python3.7',\n",
       " '/development/bin/python/conda3_ana/envs/pybayesian_env/lib/python3.7/lib-dynload',\n",
       " '',\n",
       " '/development/bin/python/conda3_ana/envs/pybayesian_env/lib/python3.7/site-packages',\n",
       " '/development/bin/python/conda3_ana/envs/pybayesian_env/lib/python3.7/site-packages/IPython/extensions',\n",
       " '/home/statisticallyfit/.ipython',\n",
       " '/development/projects/statisticallyfit/github/learningmathstat/PythonProbabilisticGraphicalModels/src/utils/',\n",
       " '/development/projects/statisticallyfit/github/learningmathstat/PythonProbabilisticGraphicalModels/src/PgmpyStudy/']"
      ]
     },
     "execution_count": 1,
     "metadata": {},
     "output_type": "execute_result"
    }
   ],
   "source": [
    "import os\n",
    "import sys\n",
    "from typing import *\n",
    "from typing import Union, List, Any\n",
    "\n",
    "import itertools\n",
    "\n",
    "os.getcwd()\n",
    "# Setting the baseline:\n",
    "os.chdir('/development/projects/statisticallyfit/github/learningmathstat/PythonProbabilisticGraphicalModels')\n",
    "\n",
    "\n",
    "curPath: str = os.getcwd() + \"/src/PgmpyStudy/\"\n",
    "\n",
    "dataPath: str = curPath + \"data/\"\n",
    "\n",
    "imagePath: str = curPath + 'images/'\n",
    "\n",
    "print(\"curPath = \", curPath, \"\\n\")\n",
    "print(\"dataPath = \", dataPath, \"\\n\")\n",
    "print('imagePath = ', imagePath, \"\\n\")\n",
    "\n",
    "\n",
    "# Making files in utils folder visible here: to import my local print functions for nn.Module objects\n",
    "sys.path.append(os.getcwd() + \"/src/utils/\")\n",
    "# For being able to import files within PgmpyStudy folder\n",
    "sys.path.append(curPath)\n",
    "\n",
    "#sys.path.remove('/development/projects/statisticallyfit/github/learningmathstat/PythonNeuralNetNLP/src/utils/')\n",
    "#sys.path.remove('/development/projects/statisticallyfit/github/learningmathstat/PythonNeuralNetNLP/src/PgmpyStudy/')\n",
    "\n",
    "sys.path"
   ]
  },
  {
   "cell_type": "markdown",
   "metadata": {
    "lines_to_next_cell": 0,
    "title": "markdown"
   },
   "source": [
    "Science imports:"
   ]
  },
  {
   "cell_type": "code",
   "execution_count": 2,
   "metadata": {
    "lines_to_next_cell": 0,
    "title": "codecell"
   },
   "outputs": [],
   "source": [
    "from pgmpy.models import BayesianModel\n",
    "from pgmpy.inference import VariableElimination\n",
    "from pgmpy.factors.discrete import TabularCPD\n",
    "from pgmpy.factors.discrete import JointProbabilityDistribution\n",
    "from pgmpy.factors.discrete.DiscreteFactor import DiscreteFactor\n",
    "from pgmpy.independencies import Independencies\n",
    "from pgmpy.independencies.Independencies import IndependenceAssertion\n",
    "\n",
    "\n",
    "from operator import mul\n",
    "from functools import reduce\n",
    "\n",
    "\n",
    "from src.utils.GraphvizUtil import *\n",
    "from src.utils.NetworkUtil import *"
   ]
  },
  {
   "cell_type": "markdown",
   "metadata": {
    "lines_to_next_cell": 0,
    "title": "markdown"
   },
   "source": [
    "## Problem Statement: 2.5.1 Earthquake Alarm\n",
    "**Example statement:** You have a new burglar alarm installed. It reliably detects burglary, but also responds to minor earthquakes. Two neighbors, John and Mary, promise to call the police when they hear the alarm. John always calls when he hears the alarm, but sometimes confuses the alarm with the phone ringing and calls then also. On the other hand, Mary likes loud music and sometimes doesn't hear the alarm. Given evidence about who has and hasn't called, you'd like to estimate the probability of a burglary alarm (from Pearl (1988)).\n"
   ]
  },
  {
   "cell_type": "code",
   "execution_count": 3,
   "metadata": {
    "title": "codecell"
   },
   "outputs": [
    {
     "name": "stdout",
     "output_type": "stream",
     "text": [
      "+-----------------+-------+\n",
      "| Burglary(True)  | 0.001 |\n",
      "+-----------------+-------+\n",
      "| Burglary(False) | 0.999 |\n",
      "+-----------------+-------+\n"
     ]
    }
   ],
   "source": [
    "\n",
    "import collections\n",
    "\n",
    "# Creating some names for the random variables (nodes) in the graph, to clarify meaning.\n",
    "\n",
    "# Create named tuple class with names \"Names\" and \"Objects\"\n",
    "RandomVariable = collections.namedtuple(\"RandomVariable\", [\"var\", \"states\"])\n",
    "\n",
    "Burglary = RandomVariable(var = \"Burglary\", states = ['True', 'False'])\n",
    "Earthquake = RandomVariable(var = \"Earthquake\", states = ['True', 'False'])\n",
    "Alarm = RandomVariable(var = \"Alarm\", states = ['True', 'False'])\n",
    "JohnCalls = RandomVariable(var = \"JohnCalls\", states = ['True', 'False'])\n",
    "MaryCalls = RandomVariable(var = \"MaryCalls\", states = ['True', 'False'])\n",
    "\n",
    "#Burglary: Dict[Variable, List[State]] = {Burglary.var: ['True', 'False']}\n",
    "#Earthquake: Dict[Variable, List[State]] = {Earthquake.var: ['True', 'False']}\n",
    "#Alarm: Dict[Variable, List[State]] = {Alarm.var: ['True', 'False']}\n",
    "#JohnCalls: Dict[Variable, List[State]] = {JohnCalls.var: ['True', 'False']}\n",
    "#MaryCalls: Dict[Variable, List[State]] = {MaryCalls.var: ['True', 'False']}\n",
    "\n",
    "\n",
    "# Defining the network structure:\n",
    "#alarmModel: BayesianModel = BayesianModel([(Burglary.variable, Alarm.variable),\n",
    "#                                           (Earthquake.variable, Alarm.variable),\n",
    "#                                           (Alarm.variable, JohnCalls.variable),\n",
    "#                                           (Alarm.variable, MaryCalls.variable)])\n",
    "\n",
    "alarmModel: BayesianModel = BayesianModel([(Burglary.var, Alarm.var),\n",
    "                                          (Earthquake.var, Alarm.var),\n",
    "                                          (Alarm.var, JohnCalls.var),\n",
    "                                          (Alarm.var, MaryCalls.var)])\n",
    "\n",
    "# Defining parameters using CPT\n",
    "\n",
    "cpdBurglary: TabularCPD = TabularCPD(variable = Burglary.var, variable_card = len(Burglary.states),\n",
    "                                     values = [[0.001, 0.999]],\n",
    "                                     state_names = {Burglary.var : Burglary.states})\n",
    "\n",
    "print(cpdBurglary)"
   ]
  },
  {
   "cell_type": "code",
   "execution_count": 4,
   "metadata": {
    "title": "codecell"
   },
   "outputs": [
    {
     "name": "stdout",
     "output_type": "stream",
     "text": [
      "+-------------------+-------+\n",
      "| Earthquake(True)  | 0.002 |\n",
      "+-------------------+-------+\n",
      "| Earthquake(False) | 0.998 |\n",
      "+-------------------+-------+\n"
     ]
    }
   ],
   "source": [
    "cpdEarthquake: TabularCPD = TabularCPD(variable = Earthquake.var,\n",
    "                                       variable_card = len(Earthquake.states),\n",
    "                                       values = [[0.002, 0.998]],\n",
    "                                       state_names = {Earthquake.var : Earthquake.states})\n",
    "\n",
    "print(cpdEarthquake)"
   ]
  },
  {
   "cell_type": "code",
   "execution_count": 5,
   "metadata": {
    "title": "codecell"
   },
   "outputs": [
    {
     "name": "stdout",
     "output_type": "stream",
     "text": [
      "+--------------+------------------+-------------------+------------------+-------------------+\n",
      "| Burglary     | Burglary(True)   | Burglary(True)    | Burglary(False)  | Burglary(False)   |\n",
      "+--------------+------------------+-------------------+------------------+-------------------+\n",
      "| Earthquake   | Earthquake(True) | Earthquake(False) | Earthquake(True) | Earthquake(False) |\n",
      "+--------------+------------------+-------------------+------------------+-------------------+\n",
      "| Alarm(True)  | 0.95             | 0.94              | 0.29             | 0.001             |\n",
      "+--------------+------------------+-------------------+------------------+-------------------+\n",
      "| Alarm(False) | 0.05             | 0.06              | 0.71             | 0.999             |\n",
      "+--------------+------------------+-------------------+------------------+-------------------+\n"
     ]
    }
   ],
   "source": [
    "cpdAlarm: TabularCPD = TabularCPD(variable = Alarm.var,\n",
    "                                  variable_card = len(Alarm.states),\n",
    "                                  values = [[0.95, 0.94, 0.29, 0.001],\n",
    "                                            [0.05, 0.06, 0.71, 0.999]],\n",
    "                                  evidence = [Burglary.var, Earthquake.var],\n",
    "                                  evidence_card = [len(Burglary.states), len(Earthquake.states)],\n",
    "                                  state_names = {Alarm.var: Alarm.states,\n",
    "                                                 Burglary.var : Burglary.states,\n",
    "                                                 Earthquake.var : Earthquake.states})\n",
    "print(cpdAlarm)\n",
    "\n",
    "\n",
    "#def toDict(tup: RandomVariable):\n",
    "#    return {tup.var : tup.states}"
   ]
  },
  {
   "cell_type": "code",
   "execution_count": 6,
   "metadata": {
    "title": "codecell"
   },
   "outputs": [
    {
     "name": "stdout",
     "output_type": "stream",
     "text": [
      "+------------------+-------------+--------------+\n",
      "| Alarm            | Alarm(True) | Alarm(False) |\n",
      "+------------------+-------------+--------------+\n",
      "| JohnCalls(True)  | 0.9         | 0.05         |\n",
      "+------------------+-------------+--------------+\n",
      "| JohnCalls(False) | 0.1         | 0.95         |\n",
      "+------------------+-------------+--------------+\n"
     ]
    }
   ],
   "source": [
    "cpdJohnCalls: TabularCPD = TabularCPD(variable = JohnCalls.var, variable_card = len(JohnCalls.states),\n",
    "                                      values = [[0.90, 0.05],\n",
    "                                                [0.10, 0.95]],\n",
    "                                      evidence = [Alarm.var], evidence_card = [len(Alarm.states)],\n",
    "                                      state_names = {JohnCalls.var : JohnCalls.states,\n",
    "                                                     Alarm.var : Alarm.states})\n",
    "print(cpdJohnCalls)"
   ]
  },
  {
   "cell_type": "code",
   "execution_count": 7,
   "metadata": {
    "title": "codecell"
   },
   "outputs": [
    {
     "name": "stdout",
     "output_type": "stream",
     "text": [
      "+------------------+-------------+--------------+\n",
      "| Alarm            | Alarm(True) | Alarm(False) |\n",
      "+------------------+-------------+--------------+\n",
      "| MaryCalls(True)  | 0.7         | 0.01         |\n",
      "+------------------+-------------+--------------+\n",
      "| MaryCalls(False) | 0.3         | 0.99         |\n",
      "+------------------+-------------+--------------+\n"
     ]
    }
   ],
   "source": [
    "cpdMaryCalls: TabularCPD = TabularCPD(variable = MaryCalls.var, variable_card = len(MaryCalls.states),\n",
    "                                      values = [[0.70, 0.01],\n",
    "                                                [0.30, 0.99]],\n",
    "                                      evidence = [Alarm.var], evidence_card = [len(Alarm.states)],\n",
    "                                      state_names = {MaryCalls.var: MaryCalls.states,\n",
    "                                                     Alarm.var : Alarm.states})\n",
    "print(cpdMaryCalls)"
   ]
  },
  {
   "cell_type": "code",
   "execution_count": 8,
   "metadata": {
    "lines_to_next_cell": 2,
    "title": "codecell"
   },
   "outputs": [],
   "source": [
    "alarmModel.add_cpds(cpdBurglary, cpdEarthquake, cpdAlarm, cpdJohnCalls, cpdMaryCalls)\n",
    "\n",
    "assert alarmModel.check_model()"
   ]
  },
  {
   "cell_type": "markdown",
   "metadata": {
    "lines_to_next_cell": 0,
    "title": "markdown"
   },
   "source": [
    "Making a brief-name version for viewing clarity, in tables:"
   ]
  },
  {
   "cell_type": "code",
   "execution_count": 9,
   "metadata": {
    "lines_to_next_cell": 2,
    "title": "codecell"
   },
   "outputs": [],
   "source": [
    "alarmModel_brief: BayesianModel = BayesianModel([(Burglary.var[0], Alarm.var[0]),\n",
    "                                          (Earthquake.var[0], Alarm.var[0]),\n",
    "                                          (Alarm.var[0], JohnCalls.var[0]),\n",
    "                                          (Alarm.var[0], MaryCalls.var[0])])\n",
    "\n",
    "# Defining parameters using CPT\n",
    "\n",
    "cpdBurglary: TabularCPD = TabularCPD(variable = Burglary.var[0], variable_card = len(Burglary.states),\n",
    "                                     values = [[0.001, 0.999]],\n",
    "                                     state_names = {Burglary.var[0] : Burglary.states})\n",
    "\n",
    "\n",
    "cpdEarthquake: TabularCPD = TabularCPD(variable = Earthquake.var[0],\n",
    "                                       variable_card = len(Earthquake.states),\n",
    "                                       values = [[0.002, 0.998]],\n",
    "                                       state_names = {Earthquake.var[0] : Earthquake.states})\n",
    "\n",
    "\n",
    "cpdAlarm: TabularCPD = TabularCPD(variable = Alarm.var[0],\n",
    "                                  variable_card = len(Alarm.states),\n",
    "                                  values = [[0.95, 0.94, 0.29, 0.001],\n",
    "                                            [0.05, 0.06, 0.71, 0.999]],\n",
    "                                  evidence = [Burglary.var[0], Earthquake.var[0]],\n",
    "                                  evidence_card = [len(Burglary.states), len(Earthquake.states)],\n",
    "                                  state_names = {Alarm.var[0]: Alarm.states,\n",
    "                                                 Burglary.var[0] : Burglary.states,\n",
    "                                                 Earthquake.var[0] : Earthquake.states})\n",
    "\n",
    "cpdJohnCalls: TabularCPD = TabularCPD(variable = JohnCalls.var[0], variable_card = len(JohnCalls.states),\n",
    "                                      values = [[0.90, 0.05],\n",
    "                                                [0.10, 0.95]],\n",
    "                                      evidence = [Alarm.var[0]], evidence_card = [len(Alarm.states)],\n",
    "                                      state_names = {JohnCalls.var[0] : JohnCalls.states,\n",
    "                                                     Alarm.var[0] : Alarm.states})\n",
    "\n",
    "cpdMaryCalls: TabularCPD = TabularCPD(variable = MaryCalls.var[0], variable_card = len(MaryCalls.states),\n",
    "                                      values = [[0.70, 0.01],\n",
    "                                                [0.30, 0.99]],\n",
    "                                      evidence = [Alarm.var[0]], evidence_card = [len(Alarm.states)],\n",
    "                                      state_names = {MaryCalls.var[0]: MaryCalls.states,\n",
    "                                                     Alarm.var[0] : Alarm.states})\n",
    "\n",
    "alarmModel_brief.add_cpds(cpdBurglary, cpdEarthquake, cpdAlarm, cpdJohnCalls, cpdMaryCalls)\n",
    "\n",
    "assert alarmModel_brief.check_model()"
   ]
  },
  {
   "cell_type": "code",
   "execution_count": 10,
   "metadata": {
    "lines_to_next_cell": 2,
    "title": "codecell"
   },
   "outputs": [
    {
     "data": {
      "image/svg+xml": [
       "<?xml version=\"1.0\" encoding=\"UTF-8\" standalone=\"no\"?>\n",
       "<!DOCTYPE svg PUBLIC \"-//W3C//DTD SVG 1.1//EN\"\n",
       " \"http://www.w3.org/Graphics/SVG/1.1/DTD/svg11.dtd\">\n",
       "<!-- Generated by graphviz version 2.38.0 (20140413.2041)\n",
       " -->\n",
       "<!-- Title: G Pages: 1 -->\n",
       "<svg width=\"504pt\" height=\"358pt\"\n",
       " viewBox=\"0.00 0.00 504.00 358.00\" xmlns=\"http://www.w3.org/2000/svg\" xmlns:xlink=\"http://www.w3.org/1999/xlink\">\n",
       "<g id=\"graph0\" class=\"graph\" transform=\"scale(1 1) rotate(0) translate(4 354)\">\n",
       "<title>G</title>\n",
       "<polygon fill=\"white\" stroke=\"none\" points=\"-4,4 -4,-354 500,-354 500,4 -4,4\"/>\n",
       "<!-- Burglary -->\n",
       "<g id=\"node1\" class=\"node\"><title>Burglary</title>\n",
       "<defs>\n",
       "<linearGradient id=\"l_0\" gradientUnits=\"userSpaceOnUse\" x1=\"424\" y1=\"-200\" x2=\"424\" y2=\"-236\" >\n",
       "<stop offset=\"0\" style=\"stop-color:#ceccff;stop-opacity:1.;\"/>\n",
       "<stop offset=\"1\" style=\"stop-color:white;stop-opacity:1.;\"/>\n",
       "</linearGradient>\n",
       "</defs>\n",
       "<ellipse fill=\"url(#l_0)\" stroke=\"#ff638d\" cx=\"424\" cy=\"-218\" rx=\"41.7203\" ry=\"18\"/>\n",
       "<text text-anchor=\"middle\" x=\"424\" y=\"-214.9\" font-family=\"Acme-Regular.ttf\" font-size=\"12.00\">Burglary</text>\n",
       "</g>\n",
       "<!-- Alarm -->\n",
       "<g id=\"node2\" class=\"node\"><title>Alarm</title>\n",
       "<defs>\n",
       "<linearGradient id=\"l_1\" gradientUnits=\"userSpaceOnUse\" x1=\"259\" y1=\"-86\" x2=\"259\" y2=\"-122\" >\n",
       "<stop offset=\"0\" style=\"stop-color:#ceccff;stop-opacity:1.;\"/>\n",
       "<stop offset=\"1\" style=\"stop-color:white;stop-opacity:1.;\"/>\n",
       "</linearGradient>\n",
       "</defs>\n",
       "<ellipse fill=\"url(#l_1)\" stroke=\"#ff638d\" cx=\"259\" cy=\"-104\" rx=\"32.7527\" ry=\"18\"/>\n",
       "<text text-anchor=\"middle\" x=\"259\" y=\"-100.9\" font-family=\"Acme-Regular.ttf\" font-size=\"12.00\">Alarm</text>\n",
       "</g>\n",
       "<!-- Burglary&#45;&gt;Alarm -->\n",
       "<g id=\"edge1\" class=\"edge\"><title>Burglary&#45;&gt;Alarm</title>\n",
       "<path fill=\"none\" stroke=\"#ff638d\" d=\"M408.364,-201.239C398.703,-192.018 385.751,-180.548 373,-172 342.952,-151.857 330.788,-154.994 300,-136 294.843,-132.818 289.537,-129.143 284.524,-125.461\"/>\n",
       "<polygon fill=\"#ff638d\" stroke=\"#ff638d\" points=\"286.527,-122.587 276.441,-119.341 282.301,-128.168 286.527,-122.587\"/>\n",
       "</g>\n",
       "<!-- JohnCalls -->\n",
       "<g id=\"node3\" class=\"node\"><title>JohnCalls</title>\n",
       "<defs>\n",
       "<linearGradient id=\"l_2\" gradientUnits=\"userSpaceOnUse\" x1=\"197\" y1=\"-1.77636e-14\" x2=\"197\" y2=\"-36\" >\n",
       "<stop offset=\"0\" style=\"stop-color:#ceccff;stop-opacity:1.;\"/>\n",
       "<stop offset=\"1\" style=\"stop-color:white;stop-opacity:1.;\"/>\n",
       "</linearGradient>\n",
       "</defs>\n",
       "<ellipse fill=\"url(#l_2)\" stroke=\"#ff638d\" cx=\"197\" cy=\"-18\" rx=\"43.9143\" ry=\"18\"/>\n",
       "<text text-anchor=\"middle\" x=\"197\" y=\"-14.9\" font-family=\"Acme-Regular.ttf\" font-size=\"12.00\">JohnCalls</text>\n",
       "</g>\n",
       "<!-- Alarm&#45;&gt;JohnCalls -->\n",
       "<g id=\"edge2\" class=\"edge\"><title>Alarm&#45;&gt;JohnCalls</title>\n",
       "<path fill=\"none\" stroke=\"#ff638d\" d=\"M247.046,-86.804C238.012,-74.565 225.456,-57.553 215.18,-43.6314\"/>\n",
       "<polygon fill=\"#ff638d\" stroke=\"#ff638d\" points=\"217.884,-41.4002 209.129,-35.4329 212.252,-45.5572 217.884,-41.4002\"/>\n",
       "</g>\n",
       "<!-- MaryCalls -->\n",
       "<g id=\"node4\" class=\"node\"><title>MaryCalls</title>\n",
       "<defs>\n",
       "<linearGradient id=\"l_3\" gradientUnits=\"userSpaceOnUse\" x1=\"320\" y1=\"-1.77636e-14\" x2=\"320\" y2=\"-36\" >\n",
       "<stop offset=\"0\" style=\"stop-color:#ceccff;stop-opacity:1.;\"/>\n",
       "<stop offset=\"1\" style=\"stop-color:white;stop-opacity:1.;\"/>\n",
       "</linearGradient>\n",
       "</defs>\n",
       "<ellipse fill=\"url(#l_3)\" stroke=\"#ff638d\" cx=\"320\" cy=\"-18\" rx=\"45.6069\" ry=\"18\"/>\n",
       "<text text-anchor=\"middle\" x=\"320\" y=\"-14.9\" font-family=\"Acme-Regular.ttf\" font-size=\"12.00\">MaryCalls</text>\n",
       "</g>\n",
       "<!-- Alarm&#45;&gt;MaryCalls -->\n",
       "<g id=\"edge3\" class=\"edge\"><title>Alarm&#45;&gt;MaryCalls</title>\n",
       "<path fill=\"none\" stroke=\"#ff638d\" d=\"M270.761,-86.804C279.649,-74.565 292.003,-57.553 302.113,-43.6314\"/>\n",
       "<polygon fill=\"#ff638d\" stroke=\"#ff638d\" points=\"305.023,-45.5811 308.067,-35.4329 299.358,-41.4679 305.023,-45.5811\"/>\n",
       "</g>\n",
       "<!-- Earthquake -->\n",
       "<g id=\"node5\" class=\"node\"><title>Earthquake</title>\n",
       "<defs>\n",
       "<linearGradient id=\"l_4\" gradientUnits=\"userSpaceOnUse\" x1=\"83\" y1=\"-200\" x2=\"83\" y2=\"-236\" >\n",
       "<stop offset=\"0\" style=\"stop-color:#ceccff;stop-opacity:1.;\"/>\n",
       "<stop offset=\"1\" style=\"stop-color:white;stop-opacity:1.;\"/>\n",
       "</linearGradient>\n",
       "</defs>\n",
       "<ellipse fill=\"url(#l_4)\" stroke=\"#ff638d\" cx=\"83\" cy=\"-218\" rx=\"52.1504\" ry=\"18\"/>\n",
       "<text text-anchor=\"middle\" x=\"83\" y=\"-214.9\" font-family=\"Acme-Regular.ttf\" font-size=\"12.00\">Earthquake</text>\n",
       "</g>\n",
       "<!-- Earthquake&#45;&gt;Alarm -->\n",
       "<g id=\"edge4\" class=\"edge\"><title>Earthquake&#45;&gt;Alarm</title>\n",
       "<path fill=\"none\" stroke=\"#ff638d\" d=\"M102.436,-201.282C114.123,-192.186 129.499,-180.828 144,-172 174.899,-153.188 186.103,-154.816 217,-136 222.256,-132.799 227.679,-129.115 232.81,-125.429\"/>\n",
       "<polygon fill=\"#ff638d\" stroke=\"#ff638d\" points=\"235.128,-128.069 241.09,-119.31 230.968,-122.439 235.128,-128.069\"/>\n",
       "</g>\n",
       "<!-- cpd_Burglary -->\n",
       "<g id=\"node6\" class=\"node\"><title>cpd_Burglary</title>\n",
       "<polygon fill=\"white\" stroke=\"none\" points=\"496,-350 352,-350 352,-300 496,-300 496,-350\"/>\n",
       "<polygon fill=\"none\" stroke=\"gray\" points=\"360,-332 360,-346 488,-346 488,-332 360,-332\"/>\n",
       "<text text-anchor=\"start\" x=\"408.5\" y=\"-337.4\" font-family=\"Acme-Regular.ttf\" font-size=\"7.00\">Burglary</text>\n",
       "<polygon fill=\"none\" stroke=\"gray\" points=\"360,-318 360,-332 423,-332 423,-318 360,-318\"/>\n",
       "<text text-anchor=\"start\" x=\"363\" y=\"-323.4\" font-family=\"Acme-Regular.ttf\" font-size=\"7.00\">Burglary = True</text>\n",
       "<polygon fill=\"none\" stroke=\"gray\" points=\"423,-318 423,-332 488,-332 488,-318 423,-318\"/>\n",
       "<text text-anchor=\"start\" x=\"426\" y=\"-323.4\" font-family=\"Acme-Regular.ttf\" font-size=\"7.00\">Burglary = False</text>\n",
       "<polygon fill=\"none\" stroke=\"gray\" points=\"360,-304 360,-318 423,-318 423,-304 360,-304\"/>\n",
       "<text text-anchor=\"start\" x=\"381\" y=\"-309.4\" font-family=\"Acme-Regular.ttf\" font-size=\"7.00\">0.001</text>\n",
       "<polygon fill=\"none\" stroke=\"gray\" points=\"423,-304 423,-318 488,-318 488,-304 423,-304\"/>\n",
       "<text text-anchor=\"start\" x=\"445\" y=\"-309.4\" font-family=\"Acme-Regular.ttf\" font-size=\"7.00\">0.999</text>\n",
       "</g>\n",
       "<!-- cpd_Burglary&#45;&gt;Burglary -->\n",
       "<!-- cpd_Alarm -->\n",
       "<g id=\"node7\" class=\"node\"><title>cpd_Alarm</title>\n",
       "<polygon fill=\"white\" stroke=\"none\" points=\"364.5,-264 153.5,-264 153.5,-172 364.5,-172 364.5,-264\"/>\n",
       "<polygon fill=\"none\" stroke=\"gray\" points=\"162,-246 162,-260 357,-260 357,-246 162,-246\"/>\n",
       "<text text-anchor=\"start\" x=\"248.5\" y=\"-251.4\" font-family=\"Acme-Regular.ttf\" font-size=\"7.00\">Alarm</text>\n",
       "<polygon fill=\"none\" stroke=\"gray\" points=\"162,-232 162,-246 199,-246 199,-232 162,-232\"/>\n",
       "<text text-anchor=\"start\" x=\"165\" y=\"-237.4\" font-family=\"Acme-Regular.ttf\" font-size=\"7.00\">Burglary</text>\n",
       "<polygon fill=\"none\" stroke=\"gray\" points=\"199,-232 199,-246 247,-246 247,-232 199,-232\"/>\n",
       "<text text-anchor=\"start\" x=\"202\" y=\"-237.4\" font-family=\"Acme-Regular.ttf\" font-size=\"7.00\">Earthquake</text>\n",
       "<polygon fill=\"none\" stroke=\"gray\" points=\"247,-232 247,-246 301,-246 301,-232 247,-232\"/>\n",
       "<text text-anchor=\"start\" x=\"250\" y=\"-237.4\" font-family=\"Acme-Regular.ttf\" font-size=\"7.00\">Alarm = True</text>\n",
       "<polygon fill=\"none\" stroke=\"gray\" points=\"301,-232 301,-246 357,-246 357,-232 301,-232\"/>\n",
       "<text text-anchor=\"start\" x=\"304\" y=\"-237.4\" font-family=\"Acme-Regular.ttf\" font-size=\"7.00\">Alarm = False</text>\n",
       "<polygon fill=\"none\" stroke=\"gray\" points=\"162,-218 162,-232 199,-232 199,-218 162,-218\"/>\n",
       "<text text-anchor=\"start\" x=\"172.5\" y=\"-223.4\" font-family=\"Acme-Regular.ttf\" font-size=\"7.00\">True</text>\n",
       "<polygon fill=\"none\" stroke=\"gray\" points=\"199,-218 199,-232 247,-232 247,-218 199,-218\"/>\n",
       "<text text-anchor=\"start\" x=\"215\" y=\"-223.4\" font-family=\"Acme-Regular.ttf\" font-size=\"7.00\">True</text>\n",
       "<polygon fill=\"none\" stroke=\"gray\" points=\"247,-218 247,-232 301,-232 301,-218 247,-218\"/>\n",
       "<text text-anchor=\"start\" x=\"266\" y=\"-223.4\" font-family=\"Acme-Regular.ttf\" font-size=\"7.00\">0.95</text>\n",
       "<polygon fill=\"none\" stroke=\"gray\" points=\"301,-218 301,-232 357,-232 357,-218 301,-218\"/>\n",
       "<text text-anchor=\"start\" x=\"321\" y=\"-223.4\" font-family=\"Acme-Regular.ttf\" font-size=\"7.00\">0.05</text>\n",
       "<polygon fill=\"none\" stroke=\"gray\" points=\"162,-204 162,-218 199,-218 199,-204 162,-204\"/>\n",
       "<text text-anchor=\"start\" x=\"172.5\" y=\"-209.4\" font-family=\"Acme-Regular.ttf\" font-size=\"7.00\">True</text>\n",
       "<polygon fill=\"none\" stroke=\"gray\" points=\"199,-204 199,-218 247,-218 247,-204 199,-204\"/>\n",
       "<text text-anchor=\"start\" x=\"213.5\" y=\"-209.4\" font-family=\"Acme-Regular.ttf\" font-size=\"7.00\">False</text>\n",
       "<polygon fill=\"none\" stroke=\"gray\" points=\"247,-204 247,-218 301,-218 301,-204 247,-204\"/>\n",
       "<text text-anchor=\"start\" x=\"266\" y=\"-209.4\" font-family=\"Acme-Regular.ttf\" font-size=\"7.00\">0.94</text>\n",
       "<polygon fill=\"none\" stroke=\"gray\" points=\"301,-204 301,-218 357,-218 357,-204 301,-204\"/>\n",
       "<text text-anchor=\"start\" x=\"321\" y=\"-209.4\" font-family=\"Acme-Regular.ttf\" font-size=\"7.00\">0.06</text>\n",
       "<polygon fill=\"none\" stroke=\"gray\" points=\"162,-190 162,-204 199,-204 199,-190 162,-190\"/>\n",
       "<text text-anchor=\"start\" x=\"171\" y=\"-195.4\" font-family=\"Acme-Regular.ttf\" font-size=\"7.00\">False</text>\n",
       "<polygon fill=\"none\" stroke=\"gray\" points=\"199,-190 199,-204 247,-204 247,-190 199,-190\"/>\n",
       "<text text-anchor=\"start\" x=\"215\" y=\"-195.4\" font-family=\"Acme-Regular.ttf\" font-size=\"7.00\">True</text>\n",
       "<polygon fill=\"none\" stroke=\"gray\" points=\"247,-190 247,-204 301,-204 301,-190 247,-190\"/>\n",
       "<text text-anchor=\"start\" x=\"266\" y=\"-195.4\" font-family=\"Acme-Regular.ttf\" font-size=\"7.00\">0.29</text>\n",
       "<polygon fill=\"none\" stroke=\"gray\" points=\"301,-190 301,-204 357,-204 357,-190 301,-190\"/>\n",
       "<text text-anchor=\"start\" x=\"321\" y=\"-195.4\" font-family=\"Acme-Regular.ttf\" font-size=\"7.00\">0.71</text>\n",
       "<polygon fill=\"none\" stroke=\"gray\" points=\"162,-176 162,-190 199,-190 199,-176 162,-176\"/>\n",
       "<text text-anchor=\"start\" x=\"171\" y=\"-181.4\" font-family=\"Acme-Regular.ttf\" font-size=\"7.00\">False</text>\n",
       "<polygon fill=\"none\" stroke=\"gray\" points=\"199,-176 199,-190 247,-190 247,-176 199,-176\"/>\n",
       "<text text-anchor=\"start\" x=\"213.5\" y=\"-181.4\" font-family=\"Acme-Regular.ttf\" font-size=\"7.00\">False</text>\n",
       "<polygon fill=\"none\" stroke=\"gray\" points=\"247,-176 247,-190 301,-190 301,-176 247,-176\"/>\n",
       "<text text-anchor=\"start\" x=\"263.5\" y=\"-181.4\" font-family=\"Acme-Regular.ttf\" font-size=\"7.00\">0.001</text>\n",
       "<polygon fill=\"none\" stroke=\"gray\" points=\"301,-176 301,-190 357,-190 357,-176 301,-176\"/>\n",
       "<text text-anchor=\"start\" x=\"318.5\" y=\"-181.4\" font-family=\"Acme-Regular.ttf\" font-size=\"7.00\">0.999</text>\n",
       "</g>\n",
       "<!-- cpd_Alarm&#45;&gt;Alarm -->\n",
       "<!-- cpd_Earthquake -->\n",
       "<g id=\"node8\" class=\"node\"><title>cpd_Earthquake</title>\n",
       "<polygon fill=\"white\" stroke=\"none\" points=\"166,-350 0,-350 0,-300 166,-300 166,-350\"/>\n",
       "<polygon fill=\"none\" stroke=\"gray\" points=\"8,-332 8,-346 158,-346 158,-332 8,-332\"/>\n",
       "<text text-anchor=\"start\" x=\"62\" y=\"-337.4\" font-family=\"Acme-Regular.ttf\" font-size=\"7.00\">Earthquake</text>\n",
       "<polygon fill=\"none\" stroke=\"gray\" points=\"8,-318 8,-332 82,-332 82,-318 8,-318\"/>\n",
       "<text text-anchor=\"start\" x=\"11\" y=\"-323.4\" font-family=\"Acme-Regular.ttf\" font-size=\"7.00\">Earthquake = True</text>\n",
       "<polygon fill=\"none\" stroke=\"gray\" points=\"82,-318 82,-332 158,-332 158,-318 82,-318\"/>\n",
       "<text text-anchor=\"start\" x=\"85\" y=\"-323.4\" font-family=\"Acme-Regular.ttf\" font-size=\"7.00\">Earthquake = False</text>\n",
       "<polygon fill=\"none\" stroke=\"gray\" points=\"8,-304 8,-318 82,-318 82,-304 8,-304\"/>\n",
       "<text text-anchor=\"start\" x=\"34.5\" y=\"-309.4\" font-family=\"Acme-Regular.ttf\" font-size=\"7.00\">0.002</text>\n",
       "<polygon fill=\"none\" stroke=\"gray\" points=\"82,-304 82,-318 158,-318 158,-304 82,-304\"/>\n",
       "<text text-anchor=\"start\" x=\"109.5\" y=\"-309.4\" font-family=\"Acme-Regular.ttf\" font-size=\"7.00\">0.998</text>\n",
       "</g>\n",
       "<!-- cpd_Earthquake&#45;&gt;Earthquake -->\n",
       "<!-- cpd_JohnCalls -->\n",
       "<g id=\"node9\" class=\"node\"><title>cpd_JohnCalls</title>\n",
       "<polygon fill=\"white\" stroke=\"none\" points=\"208,-136 30,-136 30,-72 208,-72 208,-136\"/>\n",
       "<polygon fill=\"none\" stroke=\"gray\" points=\"38,-118 38,-132 200,-132 200,-118 38,-118\"/>\n",
       "<text text-anchor=\"start\" x=\"102\" y=\"-123.4\" font-family=\"Acme-Regular.ttf\" font-size=\"7.00\">JohnCalls</text>\n",
       "<polygon fill=\"none\" stroke=\"gray\" points=\"38,-104 38,-118 66,-118 66,-104 38,-104\"/>\n",
       "<text text-anchor=\"start\" x=\"41\" y=\"-109.4\" font-family=\"Acme-Regular.ttf\" font-size=\"7.00\">Alarm</text>\n",
       "<polygon fill=\"none\" stroke=\"gray\" points=\"66,-104 66,-118 132,-118 132,-104 66,-104\"/>\n",
       "<text text-anchor=\"start\" x=\"69\" y=\"-109.4\" font-family=\"Acme-Regular.ttf\" font-size=\"7.00\">JohnCalls = True</text>\n",
       "<polygon fill=\"none\" stroke=\"gray\" points=\"132,-104 132,-118 200,-118 200,-104 132,-104\"/>\n",
       "<text text-anchor=\"start\" x=\"135\" y=\"-109.4\" font-family=\"Acme-Regular.ttf\" font-size=\"7.00\">JohnCalls = False</text>\n",
       "<polygon fill=\"none\" stroke=\"gray\" points=\"38,-90 38,-104 66,-104 66,-90 38,-90\"/>\n",
       "<text text-anchor=\"start\" x=\"44\" y=\"-95.4\" font-family=\"Acme-Regular.ttf\" font-size=\"7.00\">True</text>\n",
       "<polygon fill=\"none\" stroke=\"gray\" points=\"66,-90 66,-104 132,-104 132,-90 66,-90\"/>\n",
       "<text text-anchor=\"start\" x=\"93\" y=\"-95.4\" font-family=\"Acme-Regular.ttf\" font-size=\"7.00\">0.9</text>\n",
       "<polygon fill=\"none\" stroke=\"gray\" points=\"132,-90 132,-104 200,-104 200,-90 132,-90\"/>\n",
       "<text text-anchor=\"start\" x=\"160\" y=\"-95.4\" font-family=\"Acme-Regular.ttf\" font-size=\"7.00\">0.1</text>\n",
       "<polygon fill=\"none\" stroke=\"gray\" points=\"38,-76 38,-90 66,-90 66,-76 38,-76\"/>\n",
       "<text text-anchor=\"start\" x=\"42.5\" y=\"-81.4\" font-family=\"Acme-Regular.ttf\" font-size=\"7.00\">False</text>\n",
       "<polygon fill=\"none\" stroke=\"gray\" points=\"66,-76 66,-90 132,-90 132,-76 66,-76\"/>\n",
       "<text text-anchor=\"start\" x=\"91\" y=\"-81.4\" font-family=\"Acme-Regular.ttf\" font-size=\"7.00\">0.05</text>\n",
       "<polygon fill=\"none\" stroke=\"gray\" points=\"132,-76 132,-90 200,-90 200,-76 132,-76\"/>\n",
       "<text text-anchor=\"start\" x=\"158\" y=\"-81.4\" font-family=\"Acme-Regular.ttf\" font-size=\"7.00\">0.95</text>\n",
       "</g>\n",
       "<!-- cpd_JohnCalls&#45;&gt;JohnCalls -->\n",
       "<!-- cpd_MaryCalls -->\n",
       "<g id=\"node10\" class=\"node\"><title>cpd_MaryCalls</title>\n",
       "<polygon fill=\"white\" stroke=\"none\" points=\"490.5,-136 309.5,-136 309.5,-72 490.5,-72 490.5,-136\"/>\n",
       "<polygon fill=\"none\" stroke=\"gray\" points=\"318,-118 318,-132 483,-132 483,-118 318,-118\"/>\n",
       "<text text-anchor=\"start\" x=\"383\" y=\"-123.4\" font-family=\"Acme-Regular.ttf\" font-size=\"7.00\">MaryCalls</text>\n",
       "<polygon fill=\"none\" stroke=\"gray\" points=\"318,-104 318,-118 346,-118 346,-104 318,-104\"/>\n",
       "<text text-anchor=\"start\" x=\"321\" y=\"-109.4\" font-family=\"Acme-Regular.ttf\" font-size=\"7.00\">Alarm</text>\n",
       "<polygon fill=\"none\" stroke=\"gray\" points=\"346,-104 346,-118 413,-118 413,-104 346,-104\"/>\n",
       "<text text-anchor=\"start\" x=\"349\" y=\"-109.4\" font-family=\"Acme-Regular.ttf\" font-size=\"7.00\">MaryCalls = True</text>\n",
       "<polygon fill=\"none\" stroke=\"gray\" points=\"413,-104 413,-118 483,-118 483,-104 413,-104\"/>\n",
       "<text text-anchor=\"start\" x=\"416\" y=\"-109.4\" font-family=\"Acme-Regular.ttf\" font-size=\"7.00\">MaryCalls = False</text>\n",
       "<polygon fill=\"none\" stroke=\"gray\" points=\"318,-90 318,-104 346,-104 346,-90 318,-90\"/>\n",
       "<text text-anchor=\"start\" x=\"324\" y=\"-95.4\" font-family=\"Acme-Regular.ttf\" font-size=\"7.00\">True</text>\n",
       "<polygon fill=\"none\" stroke=\"gray\" points=\"346,-90 346,-104 413,-104 413,-90 346,-90\"/>\n",
       "<text text-anchor=\"start\" x=\"373.5\" y=\"-95.4\" font-family=\"Acme-Regular.ttf\" font-size=\"7.00\">0.7</text>\n",
       "<polygon fill=\"none\" stroke=\"gray\" points=\"413,-90 413,-104 483,-104 483,-90 413,-90\"/>\n",
       "<text text-anchor=\"start\" x=\"442\" y=\"-95.4\" font-family=\"Acme-Regular.ttf\" font-size=\"7.00\">0.3</text>\n",
       "<polygon fill=\"none\" stroke=\"gray\" points=\"318,-76 318,-90 346,-90 346,-76 318,-76\"/>\n",
       "<text text-anchor=\"start\" x=\"322.5\" y=\"-81.4\" font-family=\"Acme-Regular.ttf\" font-size=\"7.00\">False</text>\n",
       "<polygon fill=\"none\" stroke=\"gray\" points=\"346,-76 346,-90 413,-90 413,-76 346,-76\"/>\n",
       "<text text-anchor=\"start\" x=\"371.5\" y=\"-81.4\" font-family=\"Acme-Regular.ttf\" font-size=\"7.00\">0.01</text>\n",
       "<polygon fill=\"none\" stroke=\"gray\" points=\"413,-76 413,-90 483,-90 483,-76 413,-76\"/>\n",
       "<text text-anchor=\"start\" x=\"440\" y=\"-81.4\" font-family=\"Acme-Regular.ttf\" font-size=\"7.00\">0.99</text>\n",
       "</g>\n",
       "<!-- cpd_MaryCalls&#45;&gt;MaryCalls -->\n",
       "</g>\n",
       "</svg>\n"
      ],
      "text/plain": [
       "<graphviz.dot.Digraph at 0x7fa837e5f890>"
      ]
     },
     "execution_count": 10,
     "metadata": {},
     "output_type": "execute_result"
    }
   ],
   "source": [
    "pgmpyToGraphCPD(model = alarmModel, shorten = False)"
   ]
  },
  {
   "cell_type": "markdown",
   "metadata": {
    "lines_to_next_cell": 0,
    "title": "markdown"
   },
   "source": [
    "## 1/ Independencies of the Alarm Model"
   ]
  },
  {
   "cell_type": "code",
   "execution_count": 11,
   "metadata": {
    "lines_to_next_cell": 0,
    "title": "codecell"
   },
   "outputs": [
    {
     "data": {
      "text/plain": [
       "(Burglary _|_ Earthquake)"
      ]
     },
     "execution_count": 11,
     "metadata": {},
     "output_type": "execute_result"
    }
   ],
   "source": [
    "alarmModel.local_independencies(Burglary.var)"
   ]
  },
  {
   "cell_type": "code",
   "execution_count": 12,
   "metadata": {
    "lines_to_next_cell": 0,
    "title": "codecell"
   },
   "outputs": [
    {
     "data": {
      "text/plain": [
       "(Earthquake _|_ Burglary)"
      ]
     },
     "execution_count": 12,
     "metadata": {},
     "output_type": "execute_result"
    }
   ],
   "source": [
    "alarmModel.local_independencies(Earthquake.var)"
   ]
  },
  {
   "cell_type": "code",
   "execution_count": 13,
   "metadata": {
    "lines_to_next_cell": 0,
    "title": "codecell"
   },
   "outputs": [
    {
     "data": {
      "text/plain": []
     },
     "execution_count": 13,
     "metadata": {},
     "output_type": "execute_result"
    }
   ],
   "source": [
    "alarmModel.local_independencies(Alarm.var)"
   ]
  },
  {
   "cell_type": "code",
   "execution_count": 14,
   "metadata": {
    "lines_to_next_cell": 0,
    "title": "codecell"
   },
   "outputs": [
    {
     "name": "stdout",
     "output_type": "stream",
     "text": [
      "(MaryCalls _|_ JohnCalls, Earthquake, Burglary | Alarm)\n",
      "                                                       INDEPENDENCIES TABLE                                                      \n",
      "Fancy Notation                                                  .....     Regular Notation                                       \n",
      "---------------------------------------------------------------------------------------------------------------------------------\n",
      "(MaryCalls _|_ {JohnCalls ∩ Earthquake ∩ Burglary} | Alarm)     .....     (MaryCalls _|_ JohnCalls, Earthquake, Burglary | Alarm)\n",
      "(MaryCalls _|_ {JohnCalls ∩ Burglary ∩ Earthquake} | Alarm)     .....     (MaryCalls _|_ JohnCalls, Burglary, Earthquake | Alarm)\n",
      "(MaryCalls _|_ {Earthquake ∩ JohnCalls ∩ Burglary} | Alarm)     .....     (MaryCalls _|_ Earthquake, JohnCalls, Burglary | Alarm)\n",
      "(MaryCalls _|_ {Earthquake ∩ Burglary ∩ JohnCalls} | Alarm)     .....     (MaryCalls _|_ Earthquake, Burglary, JohnCalls | Alarm)\n",
      "(MaryCalls _|_ {Burglary ∩ JohnCalls ∩ Earthquake} | Alarm)     .....     (MaryCalls _|_ Burglary, JohnCalls, Earthquake | Alarm)\n",
      "(MaryCalls _|_ {Burglary ∩ Earthquake ∩ JohnCalls} | Alarm)     .....     (MaryCalls _|_ Burglary, Earthquake, JohnCalls | Alarm)\n"
     ]
    }
   ],
   "source": [
    "print(alarmModel.local_independencies(MaryCalls.var))\n",
    "\n",
    "indepSynonymTable(model = alarmModel, queryNode = MaryCalls.var)"
   ]
  },
  {
   "cell_type": "code",
   "execution_count": 15,
   "metadata": {
    "lines_to_next_cell": 0,
    "title": "codecell"
   },
   "outputs": [
    {
     "name": "stdout",
     "output_type": "stream",
     "text": [
      "(JohnCalls _|_ Burglary, Earthquake, MaryCalls | Alarm)\n",
      "                                                       INDEPENDENCIES TABLE                                                      \n",
      "Fancy Notation                                                  .....     Regular Notation                                       \n",
      "---------------------------------------------------------------------------------------------------------------------------------\n",
      "(JohnCalls _|_ {Burglary ∩ Earthquake ∩ MaryCalls} | Alarm)     .....     (JohnCalls _|_ Burglary, Earthquake, MaryCalls | Alarm)\n",
      "(JohnCalls _|_ {Burglary ∩ MaryCalls ∩ Earthquake} | Alarm)     .....     (JohnCalls _|_ Burglary, MaryCalls, Earthquake | Alarm)\n",
      "(JohnCalls _|_ {Earthquake ∩ Burglary ∩ MaryCalls} | Alarm)     .....     (JohnCalls _|_ Earthquake, Burglary, MaryCalls | Alarm)\n",
      "(JohnCalls _|_ {Earthquake ∩ MaryCalls ∩ Burglary} | Alarm)     .....     (JohnCalls _|_ Earthquake, MaryCalls, Burglary | Alarm)\n",
      "(JohnCalls _|_ {MaryCalls ∩ Burglary ∩ Earthquake} | Alarm)     .....     (JohnCalls _|_ MaryCalls, Burglary, Earthquake | Alarm)\n",
      "(JohnCalls _|_ {MaryCalls ∩ Earthquake ∩ Burglary} | Alarm)     .....     (JohnCalls _|_ MaryCalls, Earthquake, Burglary | Alarm)\n"
     ]
    }
   ],
   "source": [
    "print(alarmModel.local_independencies(JohnCalls.var))\n",
    "\n",
    "indepSynonymTable(model = alarmModel, queryNode = JohnCalls.var)"
   ]
  },
  {
   "cell_type": "code",
   "execution_count": 16,
   "metadata": {
    "title": "codecell"
   },
   "outputs": [
    {
     "data": {
      "text/plain": [
       "(Burglary _|_ Earthquake)\n",
       "(Burglary _|_ JohnCalls, MaryCalls | Alarm)\n",
       "(Burglary _|_ MaryCalls | JohnCalls, Alarm)\n",
       "(Burglary _|_ JohnCalls, MaryCalls | Earthquake, Alarm)\n",
       "(Burglary _|_ JohnCalls | MaryCalls, Alarm)\n",
       "(Burglary _|_ MaryCalls | JohnCalls, Earthquake, Alarm)\n",
       "(Burglary _|_ JohnCalls | Earthquake, Alarm, MaryCalls)\n",
       "(Earthquake _|_ Burglary)\n",
       "(Earthquake _|_ JohnCalls, MaryCalls | Alarm)\n",
       "(Earthquake _|_ MaryCalls | JohnCalls, Alarm)\n",
       "(Earthquake _|_ JohnCalls, MaryCalls | Burglary, Alarm)\n",
       "(Earthquake _|_ JohnCalls | MaryCalls, Alarm)\n",
       "(Earthquake _|_ MaryCalls | JohnCalls, Burglary, Alarm)\n",
       "(Earthquake _|_ JohnCalls | Burglary, Alarm, MaryCalls)\n",
       "(JohnCalls _|_ Burglary, Earthquake, MaryCalls | Alarm)\n",
       "(JohnCalls _|_ Earthquake, Burglary | MaryCalls, Alarm)\n",
       "(JohnCalls _|_ MaryCalls, Burglary | Earthquake, Alarm)\n",
       "(JohnCalls _|_ Earthquake, MaryCalls | Burglary, Alarm)\n",
       "(JohnCalls _|_ Burglary | Earthquake, MaryCalls, Alarm)\n",
       "(JohnCalls _|_ Earthquake | MaryCalls, Alarm, Burglary)\n",
       "(JohnCalls _|_ MaryCalls | Earthquake, Alarm, Burglary)\n",
       "(MaryCalls _|_ JohnCalls, Earthquake, Burglary | Alarm)\n",
       "(MaryCalls _|_ Earthquake, Burglary | JohnCalls, Alarm)\n",
       "(MaryCalls _|_ JohnCalls, Burglary | Earthquake, Alarm)\n",
       "(MaryCalls _|_ JohnCalls, Earthquake | Burglary, Alarm)\n",
       "(MaryCalls _|_ Burglary | JohnCalls, Earthquake, Alarm)\n",
       "(MaryCalls _|_ Earthquake | JohnCalls, Burglary, Alarm)\n",
       "(MaryCalls _|_ JohnCalls | Earthquake, Alarm, Burglary)"
      ]
     },
     "execution_count": 16,
     "metadata": {},
     "output_type": "execute_result"
    }
   ],
   "source": [
    "alarmModel.get_independencies()\n",
    "\n"
   ]
  },
  {
   "cell_type": "code",
   "execution_count": 17,
   "metadata": {
    "lines_to_next_cell": 0,
    "title": "codecell"
   },
   "outputs": [
    {
     "data": {
      "image/svg+xml": [
       "<?xml version=\"1.0\" encoding=\"UTF-8\" standalone=\"no\"?>\n",
       "<!DOCTYPE svg PUBLIC \"-//W3C//DTD SVG 1.1//EN\"\n",
       " \"http://www.w3.org/Graphics/SVG/1.1/DTD/svg11.dtd\">\n",
       "<!-- Generated by graphviz version 2.38.0 (20140413.2041)\n",
       " -->\n",
       "<!-- Title: G Pages: 1 -->\n",
       "<svg width=\"214pt\" height=\"188pt\"\n",
       " viewBox=\"0.00 0.00 214.18 188.00\" xmlns=\"http://www.w3.org/2000/svg\" xmlns:xlink=\"http://www.w3.org/1999/xlink\">\n",
       "<g id=\"graph0\" class=\"graph\" transform=\"scale(1 1) rotate(0) translate(4 184)\">\n",
       "<title>G</title>\n",
       "<polygon fill=\"white\" stroke=\"none\" points=\"-4,4 -4,-184 210.185,-184 210.185,4 -4,4\"/>\n",
       "<!-- Burglary -->\n",
       "<g id=\"node1\" class=\"node\"><title>Burglary</title>\n",
       "<defs>\n",
       "<linearGradient id=\"l_0\" gradientUnits=\"userSpaceOnUse\" x1=\"41.8599\" y1=\"-144\" x2=\"41.8599\" y2=\"-180\" >\n",
       "<stop offset=\"0\" style=\"stop-color:#ceccff;stop-opacity:1.;\"/>\n",
       "<stop offset=\"1\" style=\"stop-color:white;stop-opacity:1.;\"/>\n",
       "</linearGradient>\n",
       "</defs>\n",
       "<ellipse fill=\"url(#l_0)\" stroke=\"#ff638d\" cx=\"41.8599\" cy=\"-162\" rx=\"41.7203\" ry=\"18\"/>\n",
       "<text text-anchor=\"middle\" x=\"41.8599\" y=\"-158.9\" font-family=\"Acme-Regular.ttf\" font-size=\"12.00\">Burglary</text>\n",
       "</g>\n",
       "<!-- Alarm -->\n",
       "<g id=\"node2\" class=\"node\"><title>Alarm</title>\n",
       "<defs>\n",
       "<linearGradient id=\"l_1\" gradientUnits=\"userSpaceOnUse\" x1=\"97.8599\" y1=\"-72\" x2=\"97.8599\" y2=\"-108\" >\n",
       "<stop offset=\"0\" style=\"stop-color:#ceccff;stop-opacity:1.;\"/>\n",
       "<stop offset=\"1\" style=\"stop-color:white;stop-opacity:1.;\"/>\n",
       "</linearGradient>\n",
       "</defs>\n",
       "<ellipse fill=\"url(#l_1)\" stroke=\"#ff638d\" cx=\"97.8599\" cy=\"-90\" rx=\"32.7527\" ry=\"18\"/>\n",
       "<text text-anchor=\"middle\" x=\"97.8599\" y=\"-86.9\" font-family=\"Acme-Regular.ttf\" font-size=\"12.00\">Alarm</text>\n",
       "</g>\n",
       "<!-- Burglary&#45;&gt;Alarm -->\n",
       "<g id=\"edge1\" class=\"edge\"><title>Burglary&#45;&gt;Alarm</title>\n",
       "<path fill=\"none\" stroke=\"#ff638d\" d=\"M54.8482,-144.765C62.0171,-135.804 71.05,-124.512 78.985,-114.594\"/>\n",
       "<polygon fill=\"#ff638d\" stroke=\"#ff638d\" points=\"81.8134,-116.661 85.3273,-106.666 76.3473,-112.288 81.8134,-116.661\"/>\n",
       "</g>\n",
       "<!-- JohnCalls -->\n",
       "<g id=\"node3\" class=\"node\"><title>JohnCalls</title>\n",
       "<defs>\n",
       "<linearGradient id=\"l_2\" gradientUnits=\"userSpaceOnUse\" x1=\"44.8599\" y1=\"-1.77636e-14\" x2=\"44.8599\" y2=\"-36\" >\n",
       "<stop offset=\"0\" style=\"stop-color:#ceccff;stop-opacity:1.;\"/>\n",
       "<stop offset=\"1\" style=\"stop-color:white;stop-opacity:1.;\"/>\n",
       "</linearGradient>\n",
       "</defs>\n",
       "<ellipse fill=\"url(#l_2)\" stroke=\"#ff638d\" cx=\"44.8599\" cy=\"-18\" rx=\"43.9143\" ry=\"18\"/>\n",
       "<text text-anchor=\"middle\" x=\"44.8599\" y=\"-14.9\" font-family=\"Acme-Regular.ttf\" font-size=\"12.00\">JohnCalls</text>\n",
       "</g>\n",
       "<!-- Alarm&#45;&gt;JohnCalls -->\n",
       "<g id=\"edge2\" class=\"edge\"><title>Alarm&#45;&gt;JohnCalls</title>\n",
       "<path fill=\"none\" stroke=\"#ff638d\" d=\"M85.8334,-73.1159C79.2193,-64.3803 70.8699,-53.3528 63.4366,-43.5352\"/>\n",
       "<polygon fill=\"#ff638d\" stroke=\"#ff638d\" points=\"66.0335,-41.1669 57.2066,-35.307 60.4527,-45.3923 66.0335,-41.1669\"/>\n",
       "</g>\n",
       "<!-- MaryCalls -->\n",
       "<g id=\"node4\" class=\"node\"><title>MaryCalls</title>\n",
       "<defs>\n",
       "<linearGradient id=\"l_3\" gradientUnits=\"userSpaceOnUse\" x1=\"151.86\" y1=\"-1.77636e-14\" x2=\"151.86\" y2=\"-36\" >\n",
       "<stop offset=\"0\" style=\"stop-color:#ceccff;stop-opacity:1.;\"/>\n",
       "<stop offset=\"1\" style=\"stop-color:white;stop-opacity:1.;\"/>\n",
       "</linearGradient>\n",
       "</defs>\n",
       "<ellipse fill=\"url(#l_3)\" stroke=\"#ff638d\" cx=\"151.86\" cy=\"-18\" rx=\"45.6069\" ry=\"18\"/>\n",
       "<text text-anchor=\"middle\" x=\"151.86\" y=\"-14.9\" font-family=\"Acme-Regular.ttf\" font-size=\"12.00\">MaryCalls</text>\n",
       "</g>\n",
       "<!-- Alarm&#45;&gt;MaryCalls -->\n",
       "<g id=\"edge3\" class=\"edge\"><title>Alarm&#45;&gt;MaryCalls</title>\n",
       "<path fill=\"none\" stroke=\"#ff638d\" d=\"M110.113,-73.1159C116.92,-64.292 125.531,-53.1298 133.162,-43.238\"/>\n",
       "<polygon fill=\"#ff638d\" stroke=\"#ff638d\" points=\"135.943,-45.3627 139.28,-35.307 130.401,-41.087 135.943,-45.3627\"/>\n",
       "</g>\n",
       "<!-- Earthquake -->\n",
       "<g id=\"node5\" class=\"node\"><title>Earthquake</title>\n",
       "<defs>\n",
       "<linearGradient id=\"l_4\" gradientUnits=\"userSpaceOnUse\" x1=\"153.86\" y1=\"-144\" x2=\"153.86\" y2=\"-180\" >\n",
       "<stop offset=\"0\" style=\"stop-color:#ceccff;stop-opacity:1.;\"/>\n",
       "<stop offset=\"1\" style=\"stop-color:white;stop-opacity:1.;\"/>\n",
       "</linearGradient>\n",
       "</defs>\n",
       "<ellipse fill=\"url(#l_4)\" stroke=\"#ff638d\" cx=\"153.86\" cy=\"-162\" rx=\"52.1504\" ry=\"18\"/>\n",
       "<text text-anchor=\"middle\" x=\"153.86\" y=\"-158.9\" font-family=\"Acme-Regular.ttf\" font-size=\"12.00\">Earthquake</text>\n",
       "</g>\n",
       "<!-- Earthquake&#45;&gt;Alarm -->\n",
       "<g id=\"edge4\" class=\"edge\"><title>Earthquake&#45;&gt;Alarm</title>\n",
       "<path fill=\"none\" stroke=\"#ff638d\" d=\"M140.589,-144.411C133.584,-135.655 124.861,-124.751 117.126,-115.082\"/>\n",
       "<polygon fill=\"#ff638d\" stroke=\"#ff638d\" points=\"119.63,-112.61 110.65,-106.988 114.164,-116.983 119.63,-112.61\"/>\n",
       "</g>\n",
       "</g>\n",
       "</svg>\n"
      ],
      "text/plain": [
       "<graphviz.dot.Digraph at 0x7fa836b01b90>"
      ]
     },
     "execution_count": 17,
     "metadata": {},
     "output_type": "execute_result"
    }
   ],
   "source": [
    "# TODO say direct dependency assumptions (from Korb book)\n",
    "\n",
    "pgmpyToGraph(alarmModel)"
   ]
  },
  {
   "cell_type": "markdown",
   "metadata": {
    "lines_to_next_cell": 0,
    "title": "markdown"
   },
   "source": [
    "### Study: Independence Maps (I-Maps)\n",
    "* **Markov Assumption:** Bayesian networks require the assumption of **Markov Property**: that there are no direct dependencies in the system being modeled, which are not already explicitly shown via arcs. (In the earthquake example, this translates to saying there is no way for an `Earthquake` to influence `MaryCalls` except by way of the `Alarm`.  There is no **hidden backdoor** from  `Earthquake` to `MaryCalls`).\n",
    "* **I-maps:** Bayesian networks which have this **Markov property** are called **Independence-maps** or **I-maps**, since every independence suggested by the lack of an arc is actual a valid, real independence in the system.\n",
    "\n",
    "Source: Korb book, Bayesian Artificial Intelligence (section 2.2.4)"
   ]
  },
  {
   "cell_type": "markdown",
   "metadata": {
    "lines_to_next_cell": 0,
    "title": "markdown"
   },
   "source": [
    "### Example 1: I-map\n",
    "Testing meaning of an **I-map** using a simple student example"
   ]
  },
  {
   "cell_type": "code",
   "execution_count": 18,
   "metadata": {
    "title": "codecell"
   },
   "outputs": [
    {
     "data": {
      "image/svg+xml": [
       "<?xml version=\"1.0\" encoding=\"UTF-8\" standalone=\"no\"?>\n",
       "<!DOCTYPE svg PUBLIC \"-//W3C//DTD SVG 1.1//EN\"\n",
       " \"http://www.w3.org/Graphics/SVG/1.1/DTD/svg11.dtd\">\n",
       "<!-- Generated by graphviz version 2.38.0 (20140413.2041)\n",
       " -->\n",
       "<!-- Title: G Pages: 1 -->\n",
       "<svg width=\"238pt\" height=\"358pt\"\n",
       " viewBox=\"0.00 0.00 238.00 358.00\" xmlns=\"http://www.w3.org/2000/svg\" xmlns:xlink=\"http://www.w3.org/1999/xlink\">\n",
       "<g id=\"graph0\" class=\"graph\" transform=\"scale(1 1) rotate(0) translate(4 354)\">\n",
       "<title>G</title>\n",
       "<polygon fill=\"white\" stroke=\"none\" points=\"-4,4 -4,-354 234,-354 234,4 -4,4\"/>\n",
       "<!-- diff -->\n",
       "<g id=\"node1\" class=\"node\"><title>diff</title>\n",
       "<defs>\n",
       "<linearGradient id=\"l_0\" gradientUnits=\"userSpaceOnUse\" x1=\"176\" y1=\"-228\" x2=\"176\" y2=\"-264\" >\n",
       "<stop offset=\"0\" style=\"stop-color:#ceccff;stop-opacity:1.;\"/>\n",
       "<stop offset=\"1\" style=\"stop-color:white;stop-opacity:1.;\"/>\n",
       "</linearGradient>\n",
       "</defs>\n",
       "<ellipse fill=\"url(#l_0)\" stroke=\"#ff638d\" cx=\"176\" cy=\"-246\" rx=\"27\" ry=\"18\"/>\n",
       "<text text-anchor=\"middle\" x=\"176\" y=\"-242.9\" font-family=\"Acme-Regular.ttf\" font-size=\"12.00\">diff</text>\n",
       "</g>\n",
       "<!-- grade -->\n",
       "<g id=\"node2\" class=\"node\"><title>grade</title>\n",
       "<defs>\n",
       "<linearGradient id=\"l_1\" gradientUnits=\"userSpaceOnUse\" x1=\"127\" y1=\"-156\" x2=\"127\" y2=\"-192\" >\n",
       "<stop offset=\"0\" style=\"stop-color:#ceccff;stop-opacity:1.;\"/>\n",
       "<stop offset=\"1\" style=\"stop-color:white;stop-opacity:1.;\"/>\n",
       "</linearGradient>\n",
       "</defs>\n",
       "<ellipse fill=\"url(#l_1)\" stroke=\"#ff638d\" cx=\"127\" cy=\"-174\" rx=\"32.0211\" ry=\"18\"/>\n",
       "<text text-anchor=\"middle\" x=\"127\" y=\"-170.9\" font-family=\"Acme-Regular.ttf\" font-size=\"12.00\">grade</text>\n",
       "</g>\n",
       "<!-- diff&#45;&gt;grade -->\n",
       "<g id=\"edge1\" class=\"edge\"><title>diff&#45;&gt;grade</title>\n",
       "<path fill=\"none\" stroke=\"#ff638d\" d=\"M165.125,-229.465C158.932,-220.617 151.036,-209.337 144.037,-199.339\"/>\n",
       "<polygon fill=\"#ff638d\" stroke=\"#ff638d\" points=\"146.786,-197.162 138.184,-190.977 141.051,-201.177 146.786,-197.162\"/>\n",
       "</g>\n",
       "<!-- cpd_grade -->\n",
       "<g id=\"node5\" class=\"node\"><title>cpd_grade</title>\n",
       "<polygon fill=\"white\" stroke=\"none\" points=\"220,-120 34,-120 34,-7.10543e-15 220,-7.10543e-15 220,-120\"/>\n",
       "<polygon fill=\"none\" stroke=\"gray\" points=\"42,-102 42,-116 212,-116 212,-102 42,-102\"/>\n",
       "<text text-anchor=\"start\" x=\"116\" y=\"-107.4\" font-family=\"Acme-Regular.ttf\" font-size=\"7.00\">grade</text>\n",
       "<polygon fill=\"none\" stroke=\"gray\" points=\"42,-88 42,-102 60,-102 60,-88 42,-88\"/>\n",
       "<text text-anchor=\"start\" x=\"45\" y=\"-93.4\" font-family=\"Acme-Regular.ttf\" font-size=\"7.00\">diff</text>\n",
       "<polygon fill=\"none\" stroke=\"gray\" points=\"60,-88 60,-102 83,-102 83,-88 60,-88\"/>\n",
       "<text text-anchor=\"start\" x=\"63\" y=\"-93.4\" font-family=\"Acme-Regular.ttf\" font-size=\"7.00\">intel</text>\n",
       "<polygon fill=\"none\" stroke=\"gray\" points=\"83,-88 83,-102 126,-102 126,-88 83,-88\"/>\n",
       "<text text-anchor=\"start\" x=\"86\" y=\"-93.4\" font-family=\"Acme-Regular.ttf\" font-size=\"7.00\">grade = 0</text>\n",
       "<polygon fill=\"none\" stroke=\"gray\" points=\"126,-88 126,-102 169,-102 169,-88 126,-88\"/>\n",
       "<text text-anchor=\"start\" x=\"129\" y=\"-93.4\" font-family=\"Acme-Regular.ttf\" font-size=\"7.00\">grade = 1</text>\n",
       "<polygon fill=\"none\" stroke=\"gray\" points=\"169,-88 169,-102 212,-102 212,-88 169,-88\"/>\n",
       "<text text-anchor=\"start\" x=\"172\" y=\"-93.4\" font-family=\"Acme-Regular.ttf\" font-size=\"7.00\">grade = 2</text>\n",
       "<polygon fill=\"none\" stroke=\"gray\" points=\"42,-74 42,-88 60,-88 60,-74 42,-74\"/>\n",
       "<text text-anchor=\"start\" x=\"48.5\" y=\"-79.4\" font-family=\"Acme-Regular.ttf\" font-size=\"7.00\">0</text>\n",
       "<polygon fill=\"none\" stroke=\"gray\" points=\"60,-74 60,-88 83,-88 83,-74 60,-74\"/>\n",
       "<text text-anchor=\"start\" x=\"69\" y=\"-79.4\" font-family=\"Acme-Regular.ttf\" font-size=\"7.00\">0</text>\n",
       "<polygon fill=\"none\" stroke=\"gray\" points=\"83,-74 83,-88 126,-88 126,-74 83,-74\"/>\n",
       "<text text-anchor=\"start\" x=\"98.5\" y=\"-79.4\" font-family=\"Acme-Regular.ttf\" font-size=\"7.00\">0.1</text>\n",
       "<polygon fill=\"none\" stroke=\"gray\" points=\"126,-74 126,-88 169,-88 169,-74 126,-74\"/>\n",
       "<text text-anchor=\"start\" x=\"141.5\" y=\"-79.4\" font-family=\"Acme-Regular.ttf\" font-size=\"7.00\">0.1</text>\n",
       "<polygon fill=\"none\" stroke=\"gray\" points=\"169,-74 169,-88 212,-88 212,-74 169,-74\"/>\n",
       "<text text-anchor=\"start\" x=\"184.5\" y=\"-79.4\" font-family=\"Acme-Regular.ttf\" font-size=\"7.00\">0.8</text>\n",
       "<polygon fill=\"none\" stroke=\"gray\" points=\"42,-60 42,-74 60,-74 60,-60 42,-60\"/>\n",
       "<text text-anchor=\"start\" x=\"48.5\" y=\"-65.4\" font-family=\"Acme-Regular.ttf\" font-size=\"7.00\">0</text>\n",
       "<polygon fill=\"none\" stroke=\"gray\" points=\"60,-60 60,-74 83,-74 83,-60 60,-60\"/>\n",
       "<text text-anchor=\"start\" x=\"69\" y=\"-65.4\" font-family=\"Acme-Regular.ttf\" font-size=\"7.00\">1</text>\n",
       "<polygon fill=\"none\" stroke=\"gray\" points=\"83,-60 83,-74 126,-74 126,-60 83,-60\"/>\n",
       "<text text-anchor=\"start\" x=\"98.5\" y=\"-65.4\" font-family=\"Acme-Regular.ttf\" font-size=\"7.00\">0.1</text>\n",
       "<polygon fill=\"none\" stroke=\"gray\" points=\"126,-60 126,-74 169,-74 169,-60 126,-60\"/>\n",
       "<text text-anchor=\"start\" x=\"141.5\" y=\"-65.4\" font-family=\"Acme-Regular.ttf\" font-size=\"7.00\">0.1</text>\n",
       "<polygon fill=\"none\" stroke=\"gray\" points=\"169,-60 169,-74 212,-74 212,-60 169,-60\"/>\n",
       "<text text-anchor=\"start\" x=\"184.5\" y=\"-65.4\" font-family=\"Acme-Regular.ttf\" font-size=\"7.00\">0.8</text>\n",
       "<polygon fill=\"none\" stroke=\"gray\" points=\"42,-46 42,-60 60,-60 60,-46 42,-46\"/>\n",
       "<text text-anchor=\"start\" x=\"48.5\" y=\"-51.4\" font-family=\"Acme-Regular.ttf\" font-size=\"7.00\">0</text>\n",
       "<polygon fill=\"none\" stroke=\"gray\" points=\"60,-46 60,-60 83,-60 83,-46 60,-46\"/>\n",
       "<text text-anchor=\"start\" x=\"69\" y=\"-51.4\" font-family=\"Acme-Regular.ttf\" font-size=\"7.00\">2</text>\n",
       "<polygon fill=\"none\" stroke=\"gray\" points=\"83,-46 83,-60 126,-60 126,-46 83,-46\"/>\n",
       "<text text-anchor=\"start\" x=\"98.5\" y=\"-51.4\" font-family=\"Acme-Regular.ttf\" font-size=\"7.00\">0.1</text>\n",
       "<polygon fill=\"none\" stroke=\"gray\" points=\"126,-46 126,-60 169,-60 169,-46 126,-46\"/>\n",
       "<text text-anchor=\"start\" x=\"141.5\" y=\"-51.4\" font-family=\"Acme-Regular.ttf\" font-size=\"7.00\">0.1</text>\n",
       "<polygon fill=\"none\" stroke=\"gray\" points=\"169,-46 169,-60 212,-60 212,-46 169,-46\"/>\n",
       "<text text-anchor=\"start\" x=\"184.5\" y=\"-51.4\" font-family=\"Acme-Regular.ttf\" font-size=\"7.00\">0.8</text>\n",
       "<polygon fill=\"none\" stroke=\"gray\" points=\"42,-32 42,-46 60,-46 60,-32 42,-32\"/>\n",
       "<text text-anchor=\"start\" x=\"48.5\" y=\"-37.4\" font-family=\"Acme-Regular.ttf\" font-size=\"7.00\">1</text>\n",
       "<polygon fill=\"none\" stroke=\"gray\" points=\"60,-32 60,-46 83,-46 83,-32 60,-32\"/>\n",
       "<text text-anchor=\"start\" x=\"69\" y=\"-37.4\" font-family=\"Acme-Regular.ttf\" font-size=\"7.00\">0</text>\n",
       "<polygon fill=\"none\" stroke=\"gray\" points=\"83,-32 83,-46 126,-46 126,-32 83,-32\"/>\n",
       "<text text-anchor=\"start\" x=\"98.5\" y=\"-37.4\" font-family=\"Acme-Regular.ttf\" font-size=\"7.00\">0.1</text>\n",
       "<polygon fill=\"none\" stroke=\"gray\" points=\"126,-32 126,-46 169,-46 169,-32 126,-32\"/>\n",
       "<text text-anchor=\"start\" x=\"141.5\" y=\"-37.4\" font-family=\"Acme-Regular.ttf\" font-size=\"7.00\">0.1</text>\n",
       "<polygon fill=\"none\" stroke=\"gray\" points=\"169,-32 169,-46 212,-46 212,-32 169,-32\"/>\n",
       "<text text-anchor=\"start\" x=\"184.5\" y=\"-37.4\" font-family=\"Acme-Regular.ttf\" font-size=\"7.00\">0.8</text>\n",
       "<polygon fill=\"none\" stroke=\"gray\" points=\"42,-18 42,-32 60,-32 60,-18 42,-18\"/>\n",
       "<text text-anchor=\"start\" x=\"48.5\" y=\"-23.4\" font-family=\"Acme-Regular.ttf\" font-size=\"7.00\">1</text>\n",
       "<polygon fill=\"none\" stroke=\"gray\" points=\"60,-18 60,-32 83,-32 83,-18 60,-18\"/>\n",
       "<text text-anchor=\"start\" x=\"69\" y=\"-23.4\" font-family=\"Acme-Regular.ttf\" font-size=\"7.00\">1</text>\n",
       "<polygon fill=\"none\" stroke=\"gray\" points=\"83,-18 83,-32 126,-32 126,-18 83,-18\"/>\n",
       "<text text-anchor=\"start\" x=\"98.5\" y=\"-23.4\" font-family=\"Acme-Regular.ttf\" font-size=\"7.00\">0.1</text>\n",
       "<polygon fill=\"none\" stroke=\"gray\" points=\"126,-18 126,-32 169,-32 169,-18 126,-18\"/>\n",
       "<text text-anchor=\"start\" x=\"141.5\" y=\"-23.4\" font-family=\"Acme-Regular.ttf\" font-size=\"7.00\">0.1</text>\n",
       "<polygon fill=\"none\" stroke=\"gray\" points=\"169,-18 169,-32 212,-32 212,-18 169,-18\"/>\n",
       "<text text-anchor=\"start\" x=\"184.5\" y=\"-23.4\" font-family=\"Acme-Regular.ttf\" font-size=\"7.00\">0.8</text>\n",
       "<polygon fill=\"none\" stroke=\"gray\" points=\"42,-4 42,-18 60,-18 60,-4 42,-4\"/>\n",
       "<text text-anchor=\"start\" x=\"48.5\" y=\"-9.4\" font-family=\"Acme-Regular.ttf\" font-size=\"7.00\">1</text>\n",
       "<polygon fill=\"none\" stroke=\"gray\" points=\"60,-4 60,-18 83,-18 83,-4 60,-4\"/>\n",
       "<text text-anchor=\"start\" x=\"69\" y=\"-9.4\" font-family=\"Acme-Regular.ttf\" font-size=\"7.00\">2</text>\n",
       "<polygon fill=\"none\" stroke=\"gray\" points=\"83,-4 83,-18 126,-18 126,-4 83,-4\"/>\n",
       "<text text-anchor=\"start\" x=\"98.5\" y=\"-9.4\" font-family=\"Acme-Regular.ttf\" font-size=\"7.00\">0.1</text>\n",
       "<polygon fill=\"none\" stroke=\"gray\" points=\"126,-4 126,-18 169,-18 169,-4 126,-4\"/>\n",
       "<text text-anchor=\"start\" x=\"141.5\" y=\"-9.4\" font-family=\"Acme-Regular.ttf\" font-size=\"7.00\">0.1</text>\n",
       "<polygon fill=\"none\" stroke=\"gray\" points=\"169,-4 169,-18 212,-18 212,-4 169,-4\"/>\n",
       "<text text-anchor=\"start\" x=\"184.5\" y=\"-9.4\" font-family=\"Acme-Regular.ttf\" font-size=\"7.00\">0.8</text>\n",
       "</g>\n",
       "<!-- grade&#45;&gt;cpd_grade -->\n",
       "<!-- intel -->\n",
       "<g id=\"node3\" class=\"node\"><title>intel</title>\n",
       "<defs>\n",
       "<linearGradient id=\"l_2\" gradientUnits=\"userSpaceOnUse\" x1=\"78\" y1=\"-228\" x2=\"78\" y2=\"-264\" >\n",
       "<stop offset=\"0\" style=\"stop-color:#ceccff;stop-opacity:1.;\"/>\n",
       "<stop offset=\"1\" style=\"stop-color:white;stop-opacity:1.;\"/>\n",
       "</linearGradient>\n",
       "</defs>\n",
       "<ellipse fill=\"url(#l_2)\" stroke=\"#ff638d\" cx=\"78\" cy=\"-246\" rx=\"27\" ry=\"18\"/>\n",
       "<text text-anchor=\"middle\" x=\"78\" y=\"-242.9\" font-family=\"Acme-Regular.ttf\" font-size=\"12.00\">intel</text>\n",
       "</g>\n",
       "<!-- intel&#45;&gt;grade -->\n",
       "<g id=\"edge2\" class=\"edge\"><title>intel&#45;&gt;grade</title>\n",
       "<path fill=\"none\" stroke=\"#ff638d\" d=\"M88.8747,-229.465C95.0679,-220.617 102.964,-209.337 109.963,-199.339\"/>\n",
       "<polygon fill=\"#ff638d\" stroke=\"#ff638d\" points=\"112.949,-201.177 115.816,-190.977 107.214,-197.162 112.949,-201.177\"/>\n",
       "</g>\n",
       "<!-- cpd_diff -->\n",
       "<g id=\"node4\" class=\"node\"><title>cpd_diff</title>\n",
       "<polygon fill=\"white\" stroke=\"none\" points=\"230,-350 148,-350 148,-300 230,-300 230,-350\"/>\n",
       "<polygon fill=\"none\" stroke=\"gray\" points=\"156,-332 156,-346 222,-346 222,-332 156,-332\"/>\n",
       "<text text-anchor=\"start\" x=\"183\" y=\"-337.4\" font-family=\"Acme-Regular.ttf\" font-size=\"7.00\">diff</text>\n",
       "<polygon fill=\"none\" stroke=\"gray\" points=\"156,-318 156,-332 189,-332 189,-318 156,-318\"/>\n",
       "<text text-anchor=\"start\" x=\"159\" y=\"-323.4\" font-family=\"Acme-Regular.ttf\" font-size=\"7.00\">diff = 0</text>\n",
       "<polygon fill=\"none\" stroke=\"gray\" points=\"189,-318 189,-332 222,-332 222,-318 189,-318\"/>\n",
       "<text text-anchor=\"start\" x=\"192\" y=\"-323.4\" font-family=\"Acme-Regular.ttf\" font-size=\"7.00\">diff = 1</text>\n",
       "<polygon fill=\"none\" stroke=\"gray\" points=\"156,-304 156,-318 189,-318 189,-304 156,-304\"/>\n",
       "<text text-anchor=\"start\" x=\"166.5\" y=\"-309.4\" font-family=\"Acme-Regular.ttf\" font-size=\"7.00\">0.2</text>\n",
       "<polygon fill=\"none\" stroke=\"gray\" points=\"189,-304 189,-318 222,-318 222,-304 189,-304\"/>\n",
       "<text text-anchor=\"start\" x=\"199.5\" y=\"-309.4\" font-family=\"Acme-Regular.ttf\" font-size=\"7.00\">0.8</text>\n",
       "</g>\n",
       "<!-- cpd_diff&#45;&gt;diff -->\n",
       "<!-- cpd_intel -->\n",
       "<g id=\"node6\" class=\"node\"><title>cpd_intel</title>\n",
       "<polygon fill=\"white\" stroke=\"none\" points=\"130,-350 0,-350 0,-300 130,-300 130,-350\"/>\n",
       "<polygon fill=\"none\" stroke=\"gray\" points=\"8,-332 8,-346 122,-346 122,-332 8,-332\"/>\n",
       "<text text-anchor=\"start\" x=\"56.5\" y=\"-337.4\" font-family=\"Acme-Regular.ttf\" font-size=\"7.00\">intel</text>\n",
       "<polygon fill=\"none\" stroke=\"gray\" points=\"8,-318 8,-332 46,-332 46,-318 8,-318\"/>\n",
       "<text text-anchor=\"start\" x=\"11\" y=\"-323.4\" font-family=\"Acme-Regular.ttf\" font-size=\"7.00\">intel = 0</text>\n",
       "<polygon fill=\"none\" stroke=\"gray\" points=\"46,-318 46,-332 84,-332 84,-318 46,-318\"/>\n",
       "<text text-anchor=\"start\" x=\"49\" y=\"-323.4\" font-family=\"Acme-Regular.ttf\" font-size=\"7.00\">intel = 1</text>\n",
       "<polygon fill=\"none\" stroke=\"gray\" points=\"84,-318 84,-332 122,-332 122,-318 84,-318\"/>\n",
       "<text text-anchor=\"start\" x=\"87\" y=\"-323.4\" font-family=\"Acme-Regular.ttf\" font-size=\"7.00\">intel = 2</text>\n",
       "<polygon fill=\"none\" stroke=\"gray\" points=\"8,-304 8,-318 46,-318 46,-304 8,-304\"/>\n",
       "<text text-anchor=\"start\" x=\"21\" y=\"-309.4\" font-family=\"Acme-Regular.ttf\" font-size=\"7.00\">0.5</text>\n",
       "<polygon fill=\"none\" stroke=\"gray\" points=\"46,-304 46,-318 84,-318 84,-304 46,-304\"/>\n",
       "<text text-anchor=\"start\" x=\"59\" y=\"-309.4\" font-family=\"Acme-Regular.ttf\" font-size=\"7.00\">0.3</text>\n",
       "<polygon fill=\"none\" stroke=\"gray\" points=\"84,-304 84,-318 122,-318 122,-304 84,-304\"/>\n",
       "<text text-anchor=\"start\" x=\"97\" y=\"-309.4\" font-family=\"Acme-Regular.ttf\" font-size=\"7.00\">0.2</text>\n",
       "</g>\n",
       "<!-- cpd_intel&#45;&gt;intel -->\n",
       "</g>\n",
       "</svg>\n"
      ],
      "text/plain": [
       "<graphviz.dot.Digraph at 0x7fa837a51f90>"
      ]
     },
     "execution_count": 18,
     "metadata": {},
     "output_type": "execute_result"
    }
   ],
   "source": [
    "Difficulty: RandomVariable = RandomVariable(var = 'diff', states = ['Easy', 'Hard'])\n",
    "Grade: RandomVariable = RandomVariable(var = 'grade', states = ['Good', 'Medium', 'Bad'])\n",
    "Intelligence: RandomVariable = RandomVariable(var = 'intel', states = ['Dumb', 'Average', 'Intelligent'])\n",
    "\n",
    "\n",
    "gradeModel = BayesianModel([(Difficulty.var, Grade.var), (Intelligence.var, Grade.var)])\n",
    "\n",
    "diff_cpd = TabularCPD(variable = Difficulty.var, variable_card = len(Difficulty.states),\n",
    "                      values = [[0.2], [0.8]])\n",
    "\n",
    "intel_cpd = TabularCPD(variable = Intelligence.var, variable_card = len(Intelligence.states),\n",
    "                       values = [[0.5], [0.3], [0.2]])\n",
    "\n",
    "grade_cpd = TabularCPD(variable = Grade.var, variable_card = len(Grade.states),\n",
    "                       values = [[0.1,0.1,0.1,0.1,0.1,0.1],\n",
    "                                    [0.1,0.1,0.1,0.1,0.1,0.1],\n",
    "                                    [0.8,0.8,0.8,0.8,0.8,0.8]],\n",
    "                       evidence=[Difficulty.var, Intelligence.var],\n",
    "                       evidence_card=[len(Difficulty.states), len(Intelligence.states)])\n",
    "\n",
    "gradeModel.add_cpds(diff_cpd, intel_cpd, grade_cpd)\n",
    "\n",
    "\n",
    "pgmpyToGraphCPD(gradeModel)"
   ]
  },
  {
   "cell_type": "markdown",
   "metadata": {
    "lines_to_next_cell": 0,
    "title": "markdown"
   },
   "source": [
    "Showing two ways of creating the `JointProbabilityDistribution`    : (1) by feeding in values manually, or (2) by using `reduce` over the `TabularCPD`s or `DiscreteFactor`s."
   ]
  },
  {
   "cell_type": "code",
   "execution_count": 19,
   "metadata": {
    "title": "codecell"
   },
   "outputs": [
    {
     "name": "stdout",
     "output_type": "stream",
     "text": [
      "+---------+----------+----------+-----------------------+\n",
      "| diff    | intel    | grade    |   P(diff,intel,grade) |\n",
      "+=========+==========+==========+=======================+\n",
      "| diff(0) | intel(0) | grade(0) |                0.0100 |\n",
      "+---------+----------+----------+-----------------------+\n",
      "| diff(0) | intel(0) | grade(1) |                0.0100 |\n",
      "+---------+----------+----------+-----------------------+\n",
      "| diff(0) | intel(0) | grade(2) |                0.0800 |\n",
      "+---------+----------+----------+-----------------------+\n",
      "| diff(0) | intel(1) | grade(0) |                0.0060 |\n",
      "+---------+----------+----------+-----------------------+\n",
      "| diff(0) | intel(1) | grade(1) |                0.0060 |\n",
      "+---------+----------+----------+-----------------------+\n",
      "| diff(0) | intel(1) | grade(2) |                0.0480 |\n",
      "+---------+----------+----------+-----------------------+\n",
      "| diff(0) | intel(2) | grade(0) |                0.0040 |\n",
      "+---------+----------+----------+-----------------------+\n",
      "| diff(0) | intel(2) | grade(1) |                0.0040 |\n",
      "+---------+----------+----------+-----------------------+\n",
      "| diff(0) | intel(2) | grade(2) |                0.0320 |\n",
      "+---------+----------+----------+-----------------------+\n",
      "| diff(1) | intel(0) | grade(0) |                0.0400 |\n",
      "+---------+----------+----------+-----------------------+\n",
      "| diff(1) | intel(0) | grade(1) |                0.0400 |\n",
      "+---------+----------+----------+-----------------------+\n",
      "| diff(1) | intel(0) | grade(2) |                0.3200 |\n",
      "+---------+----------+----------+-----------------------+\n",
      "| diff(1) | intel(1) | grade(0) |                0.0240 |\n",
      "+---------+----------+----------+-----------------------+\n",
      "| diff(1) | intel(1) | grade(1) |                0.0240 |\n",
      "+---------+----------+----------+-----------------------+\n",
      "| diff(1) | intel(1) | grade(2) |                0.1920 |\n",
      "+---------+----------+----------+-----------------------+\n",
      "| diff(1) | intel(2) | grade(0) |                0.0160 |\n",
      "+---------+----------+----------+-----------------------+\n",
      "| diff(1) | intel(2) | grade(1) |                0.0160 |\n",
      "+---------+----------+----------+-----------------------+\n",
      "| diff(1) | intel(2) | grade(2) |                0.1280 |\n",
      "+---------+----------+----------+-----------------------+\n"
     ]
    }
   ],
   "source": [
    "# Method 1: Creating joint distribution manually, by feeding in the calculated values:\n",
    "jpdValues = [0.01, 0.01, 0.08, 0.006, 0.006, 0.048, 0.004, 0.004, 0.032,\n",
    "           0.04, 0.04, 0.32, 0.024, 0.024, 0.192, 0.016, 0.016, 0.128]\n",
    "\n",
    "JPD = JointProbabilityDistribution(variables = [Difficulty.var , Intelligence.var, Grade.var],\n",
    "                                   cardinality = [len(Difficulty.states), len(Intelligence.states), len(Grade.states)], values = jpdValues)\n",
    "\n",
    "print(JPD)"
   ]
  },
  {
   "cell_type": "markdown",
   "metadata": {
    "lines_to_next_cell": 0,
    "title": "markdown"
   },
   "source": [
    "Showing if small student model is I-map:"
   ]
  },
  {
   "cell_type": "code",
   "execution_count": 20,
   "metadata": {
    "title": "codecell"
   },
   "outputs": [],
   "source": [
    "from src.utils.NetworkUtil import *\n",
    "\n",
    "\n",
    "# Method 2: creating the JPD by multiplying over the TabularCPDs (as per formula in page 16 of pgmpy book, Ankur Ankan)\n",
    "gradeJPDFactor: DiscreteFactor = DiscreteFactor(variables = JPD.variables, cardinality =  JPD.cardinality, values = JPD.values)\n",
    "gradeJPD: JointProbabilityDistribution = jointDistribution(gradeModel)\n",
    "\n",
    "\n",
    "assert gradeModel.is_imap(JPD = JPD), \"Check: using JPD to verify the graph is an independence-map: means no hidden backdoors between nodes and no way for variables to influence others except by one path\"\n",
    "\n",
    "assert gradeJPD == gradeJPDFactor, \"Check: joint distribution is the same as multiplying the cpds\""
   ]
  },
  {
   "cell_type": "markdown",
   "metadata": {
    "lines_to_next_cell": 0,
    "title": "markdown"
   },
   "source": [
    "Grade model's `JointProbabilityDistribution` over all variables:"
   ]
  },
  {
   "cell_type": "code",
   "execution_count": 21,
   "metadata": {
    "title": "codecell"
   },
   "outputs": [
    {
     "name": "stdout",
     "output_type": "stream",
     "text": [
      "+---------+----------+----------+-----------------------+\n",
      "| diff    | intel    | grade    |   P(diff,intel,grade) |\n",
      "+=========+==========+==========+=======================+\n",
      "| diff(0) | intel(0) | grade(0) |                0.0100 |\n",
      "+---------+----------+----------+-----------------------+\n",
      "| diff(0) | intel(0) | grade(1) |                0.0100 |\n",
      "+---------+----------+----------+-----------------------+\n",
      "| diff(0) | intel(0) | grade(2) |                0.0800 |\n",
      "+---------+----------+----------+-----------------------+\n",
      "| diff(0) | intel(1) | grade(0) |                0.0060 |\n",
      "+---------+----------+----------+-----------------------+\n",
      "| diff(0) | intel(1) | grade(1) |                0.0060 |\n",
      "+---------+----------+----------+-----------------------+\n",
      "| diff(0) | intel(1) | grade(2) |                0.0480 |\n",
      "+---------+----------+----------+-----------------------+\n",
      "| diff(0) | intel(2) | grade(0) |                0.0040 |\n",
      "+---------+----------+----------+-----------------------+\n",
      "| diff(0) | intel(2) | grade(1) |                0.0040 |\n",
      "+---------+----------+----------+-----------------------+\n",
      "| diff(0) | intel(2) | grade(2) |                0.0320 |\n",
      "+---------+----------+----------+-----------------------+\n",
      "| diff(1) | intel(0) | grade(0) |                0.0400 |\n",
      "+---------+----------+----------+-----------------------+\n",
      "| diff(1) | intel(0) | grade(1) |                0.0400 |\n",
      "+---------+----------+----------+-----------------------+\n",
      "| diff(1) | intel(0) | grade(2) |                0.3200 |\n",
      "+---------+----------+----------+-----------------------+\n",
      "| diff(1) | intel(1) | grade(0) |                0.0240 |\n",
      "+---------+----------+----------+-----------------------+\n",
      "| diff(1) | intel(1) | grade(1) |                0.0240 |\n",
      "+---------+----------+----------+-----------------------+\n",
      "| diff(1) | intel(1) | grade(2) |                0.1920 |\n",
      "+---------+----------+----------+-----------------------+\n",
      "| diff(1) | intel(2) | grade(0) |                0.0160 |\n",
      "+---------+----------+----------+-----------------------+\n",
      "| diff(1) | intel(2) | grade(1) |                0.0160 |\n",
      "+---------+----------+----------+-----------------------+\n",
      "| diff(1) | intel(2) | grade(2) |                0.1280 |\n",
      "+---------+----------+----------+-----------------------+\n"
     ]
    }
   ],
   "source": [
    "print(gradeJPD)"
   ]
  },
  {
   "cell_type": "markdown",
   "metadata": {
    "lines_to_next_cell": 0,
    "title": "markdown"
   },
   "source": [
    "Checking if alarm model is I-map:"
   ]
  },
  {
   "cell_type": "code",
   "execution_count": 22,
   "metadata": {
    "title": "codecell"
   },
   "outputs": [],
   "source": [
    "alarmJPD: JointProbabilityDistribution = jointDistribution(alarmModel_brief)\n",
    "\n",
    "assert not alarmModel_brief.is_imap(JPD = alarmJPD)\n",
    "\n",
    "\n",
    "\n"
   ]
  },
  {
   "cell_type": "markdown",
   "metadata": {
    "lines_to_next_cell": 0,
    "title": "markdown"
   },
   "source": [
    "## 3/ Joint Distribution Represented by the Bayesian Network\n",
    "Computing the Joint Distribution from the Bayesian Network, `model`:\n",
    "\n",
    "From the **chain rule of probability (also called and rule):**\n",
    "$$\n",
    "P(A, B) = P(B) \\cdot P(A \\; | \\; B)\n",
    "$$\n",
    "Now in this case for the `alarmModel`:\n",
    "$$\n",
    "\\begin{array}{ll}\n",
    "P(J, M, A, E, B)\n",
    "&= P(J \\; | \\; M, A, E, B) \\cdot P(J, M, A, E, B) \\\\\n",
    "&= P(J \\; | \\; M, A, E, B) \\cdot {\\color{cyan} (} P(M \\; | \\; A,E,B) \\cdot P(A,E,B) {\\color{cyan} )} \\\\\n",
    "&=  P(J \\; | \\; M, A, E, B) \\cdot  P(M \\; | \\; A,E,B) \\cdot {\\color{cyan} (}P(A \\; | \\; E,B) \\cdot P(E, B){\\color{cyan} )} \\\\\n",
    "&= P(J \\; | \\; M, A, E, B) \\cdot  P(M \\; | \\; A,E,B) \\cdot P(A \\; | \\; E,B) \\cdot {\\color{cyan} (}P(E \\; | \\; B) \\cdot P(B){\\color{cyan} )} \\\\\n",
    "\\end{array}\n",
    "$$"
   ]
  },
  {
   "cell_type": "code",
   "execution_count": 23,
   "metadata": {
    "lines_to_next_cell": 0,
    "title": "codecell"
   },
   "outputs": [
    {
     "data": {
      "text/plain": [
       "'P(J | M, A, E, B) * P(M | A, E, B) * P(A | E, B) * P(E | B) * P(B)'"
      ]
     },
     "execution_count": 23,
     "metadata": {},
     "output_type": "execute_result"
    }
   ],
   "source": [
    "probChainRule(['J','M','A','E','B'])"
   ]
  },
  {
   "cell_type": "markdown",
   "metadata": {
    "lines_to_next_cell": 0,
    "title": "markdown"
   },
   "source": [
    "Alarm model's `JointProbabilityDistribution` over all variables"
   ]
  },
  {
   "cell_type": "code",
   "execution_count": 24,
   "metadata": {
    "title": "codecell"
   },
   "outputs": [
    {
     "name": "stdout",
     "output_type": "stream",
     "text": [
      "+------+------+------+------+------+----------------+\n",
      "| B    | E    | A    | J    | M    |   P(B,E,A,J,M) |\n",
      "+======+======+======+======+======+================+\n",
      "| B(0) | E(0) | A(0) | J(0) | M(0) |         0.0000 |\n",
      "+------+------+------+------+------+----------------+\n",
      "| B(0) | E(0) | A(0) | J(0) | M(1) |         0.0000 |\n",
      "+------+------+------+------+------+----------------+\n",
      "| B(0) | E(0) | A(0) | J(1) | M(0) |         0.0000 |\n",
      "+------+------+------+------+------+----------------+\n",
      "| B(0) | E(0) | A(0) | J(1) | M(1) |         0.0000 |\n",
      "+------+------+------+------+------+----------------+\n",
      "| B(0) | E(0) | A(1) | J(0) | M(0) |         0.0000 |\n",
      "+------+------+------+------+------+----------------+\n",
      "| B(0) | E(0) | A(1) | J(0) | M(1) |         0.0000 |\n",
      "+------+------+------+------+------+----------------+\n",
      "| B(0) | E(0) | A(1) | J(1) | M(0) |         0.0000 |\n",
      "+------+------+------+------+------+----------------+\n",
      "| B(0) | E(0) | A(1) | J(1) | M(1) |         0.0000 |\n",
      "+------+------+------+------+------+----------------+\n",
      "| B(0) | E(1) | A(0) | J(0) | M(0) |         0.0006 |\n",
      "+------+------+------+------+------+----------------+\n",
      "| B(0) | E(1) | A(0) | J(0) | M(1) |         0.0003 |\n",
      "+------+------+------+------+------+----------------+\n",
      "| B(0) | E(1) | A(0) | J(1) | M(0) |         0.0001 |\n",
      "+------+------+------+------+------+----------------+\n",
      "| B(0) | E(1) | A(0) | J(1) | M(1) |         0.0000 |\n",
      "+------+------+------+------+------+----------------+\n",
      "| B(0) | E(1) | A(1) | J(0) | M(0) |         0.0000 |\n",
      "+------+------+------+------+------+----------------+\n",
      "| B(0) | E(1) | A(1) | J(0) | M(1) |         0.0000 |\n",
      "+------+------+------+------+------+----------------+\n",
      "| B(0) | E(1) | A(1) | J(1) | M(0) |         0.0000 |\n",
      "+------+------+------+------+------+----------------+\n",
      "| B(0) | E(1) | A(1) | J(1) | M(1) |         0.0001 |\n",
      "+------+------+------+------+------+----------------+\n",
      "| B(1) | E(0) | A(0) | J(0) | M(0) |         0.0004 |\n",
      "+------+------+------+------+------+----------------+\n",
      "| B(1) | E(0) | A(0) | J(0) | M(1) |         0.0002 |\n",
      "+------+------+------+------+------+----------------+\n",
      "| B(1) | E(0) | A(0) | J(1) | M(0) |         0.0000 |\n",
      "+------+------+------+------+------+----------------+\n",
      "| B(1) | E(0) | A(0) | J(1) | M(1) |         0.0000 |\n",
      "+------+------+------+------+------+----------------+\n",
      "| B(1) | E(0) | A(1) | J(0) | M(0) |         0.0000 |\n",
      "+------+------+------+------+------+----------------+\n",
      "| B(1) | E(0) | A(1) | J(0) | M(1) |         0.0001 |\n",
      "+------+------+------+------+------+----------------+\n",
      "| B(1) | E(0) | A(1) | J(1) | M(0) |         0.0000 |\n",
      "+------+------+------+------+------+----------------+\n",
      "| B(1) | E(0) | A(1) | J(1) | M(1) |         0.0013 |\n",
      "+------+------+------+------+------+----------------+\n",
      "| B(1) | E(1) | A(0) | J(0) | M(0) |         0.0006 |\n",
      "+------+------+------+------+------+----------------+\n",
      "| B(1) | E(1) | A(0) | J(0) | M(1) |         0.0003 |\n",
      "+------+------+------+------+------+----------------+\n",
      "| B(1) | E(1) | A(0) | J(1) | M(0) |         0.0001 |\n",
      "+------+------+------+------+------+----------------+\n",
      "| B(1) | E(1) | A(0) | J(1) | M(1) |         0.0000 |\n",
      "+------+------+------+------+------+----------------+\n",
      "| B(1) | E(1) | A(1) | J(0) | M(0) |         0.0005 |\n",
      "+------+------+------+------+------+----------------+\n",
      "| B(1) | E(1) | A(1) | J(0) | M(1) |         0.0493 |\n",
      "+------+------+------+------+------+----------------+\n",
      "| B(1) | E(1) | A(1) | J(1) | M(0) |         0.0095 |\n",
      "+------+------+------+------+------+----------------+\n",
      "| B(1) | E(1) | A(1) | J(1) | M(1) |         0.9367 |\n",
      "+------+------+------+------+------+----------------+\n"
     ]
    }
   ],
   "source": [
    "print(alarmJPD)\n",
    "\n",
    "\n"
   ]
  },
  {
   "cell_type": "markdown",
   "metadata": {
    "lines_to_next_cell": 2,
    "title": "markdown"
   },
   "source": [
    "## 4/ Inference in Bayesian Alarm Model\n",
    "\n",
    "Now let us do inference in a  Bayesian model and predict values using this model over new data points for ML tasks.\n",
    "\n",
    "### 1. Causal Reasoning in the Alarm Model\n",
    "For a causal model $A \\rightarrow B \\rightarrow C$, there are two cases:\n",
    "  * **Marginal Dependence:** ($B$ unknown): When $B$ is unknown / unobserved, there is an active trail between $A$ and $C$, meaning the probability of $A$ can influence probability of $C$ (and vice versa).\n",
    "  * **Conditional Independence:** ($B$ fixed): When $B$ is fixed, there is NO active trail between $A$ and $C$, so they are independent, which means the probability of $A$ won't influence probability of $C$ (and vice versa)."
   ]
  },
  {
   "cell_type": "code",
   "execution_count": 25,
   "metadata": {
    "lines_to_next_cell": 0,
    "title": "codecell"
   },
   "outputs": [
    {
     "data": {
      "image/svg+xml": [
       "<?xml version=\"1.0\" encoding=\"UTF-8\" standalone=\"no\"?>\n",
       "<!DOCTYPE svg PUBLIC \"-//W3C//DTD SVG 1.1//EN\"\n",
       " \"http://www.w3.org/Graphics/SVG/1.1/DTD/svg11.dtd\">\n",
       "<!-- Generated by graphviz version 2.38.0 (20140413.2041)\n",
       " -->\n",
       "<!-- Title: G Pages: 1 -->\n",
       "<svg width=\"214pt\" height=\"188pt\"\n",
       " viewBox=\"0.00 0.00 214.18 188.00\" xmlns=\"http://www.w3.org/2000/svg\" xmlns:xlink=\"http://www.w3.org/1999/xlink\">\n",
       "<g id=\"graph0\" class=\"graph\" transform=\"scale(1 1) rotate(0) translate(4 184)\">\n",
       "<title>G</title>\n",
       "<polygon fill=\"white\" stroke=\"none\" points=\"-4,4 -4,-184 210.185,-184 210.185,4 -4,4\"/>\n",
       "<!-- Burglary -->\n",
       "<g id=\"node1\" class=\"node\"><title>Burglary</title>\n",
       "<defs>\n",
       "<linearGradient id=\"l_0\" gradientUnits=\"userSpaceOnUse\" x1=\"41.8599\" y1=\"-144\" x2=\"41.8599\" y2=\"-180\" >\n",
       "<stop offset=\"0\" style=\"stop-color:#ceccff;stop-opacity:1.;\"/>\n",
       "<stop offset=\"1\" style=\"stop-color:white;stop-opacity:1.;\"/>\n",
       "</linearGradient>\n",
       "</defs>\n",
       "<ellipse fill=\"url(#l_0)\" stroke=\"#ff638d\" cx=\"41.8599\" cy=\"-162\" rx=\"41.7203\" ry=\"18\"/>\n",
       "<text text-anchor=\"middle\" x=\"41.8599\" y=\"-158.9\" font-family=\"Acme-Regular.ttf\" font-size=\"12.00\">Burglary</text>\n",
       "</g>\n",
       "<!-- Alarm -->\n",
       "<g id=\"node2\" class=\"node\"><title>Alarm</title>\n",
       "<defs>\n",
       "<linearGradient id=\"l_1\" gradientUnits=\"userSpaceOnUse\" x1=\"97.8599\" y1=\"-72\" x2=\"97.8599\" y2=\"-108\" >\n",
       "<stop offset=\"0\" style=\"stop-color:#ceccff;stop-opacity:1.;\"/>\n",
       "<stop offset=\"1\" style=\"stop-color:white;stop-opacity:1.;\"/>\n",
       "</linearGradient>\n",
       "</defs>\n",
       "<ellipse fill=\"url(#l_1)\" stroke=\"#ff638d\" cx=\"97.8599\" cy=\"-90\" rx=\"32.7527\" ry=\"18\"/>\n",
       "<text text-anchor=\"middle\" x=\"97.8599\" y=\"-86.9\" font-family=\"Acme-Regular.ttf\" font-size=\"12.00\">Alarm</text>\n",
       "</g>\n",
       "<!-- Burglary&#45;&gt;Alarm -->\n",
       "<g id=\"edge1\" class=\"edge\"><title>Burglary&#45;&gt;Alarm</title>\n",
       "<path fill=\"none\" stroke=\"#ff638d\" d=\"M54.8482,-144.765C62.0171,-135.804 71.05,-124.512 78.985,-114.594\"/>\n",
       "<polygon fill=\"#ff638d\" stroke=\"#ff638d\" points=\"81.8134,-116.661 85.3273,-106.666 76.3473,-112.288 81.8134,-116.661\"/>\n",
       "</g>\n",
       "<!-- JohnCalls -->\n",
       "<g id=\"node3\" class=\"node\"><title>JohnCalls</title>\n",
       "<defs>\n",
       "<linearGradient id=\"l_2\" gradientUnits=\"userSpaceOnUse\" x1=\"44.8599\" y1=\"-1.77636e-14\" x2=\"44.8599\" y2=\"-36\" >\n",
       "<stop offset=\"0\" style=\"stop-color:#ceccff;stop-opacity:1.;\"/>\n",
       "<stop offset=\"1\" style=\"stop-color:white;stop-opacity:1.;\"/>\n",
       "</linearGradient>\n",
       "</defs>\n",
       "<ellipse fill=\"url(#l_2)\" stroke=\"#ff638d\" cx=\"44.8599\" cy=\"-18\" rx=\"43.9143\" ry=\"18\"/>\n",
       "<text text-anchor=\"middle\" x=\"44.8599\" y=\"-14.9\" font-family=\"Acme-Regular.ttf\" font-size=\"12.00\">JohnCalls</text>\n",
       "</g>\n",
       "<!-- Alarm&#45;&gt;JohnCalls -->\n",
       "<g id=\"edge2\" class=\"edge\"><title>Alarm&#45;&gt;JohnCalls</title>\n",
       "<path fill=\"none\" stroke=\"#ff638d\" d=\"M85.8334,-73.1159C79.2193,-64.3803 70.8699,-53.3528 63.4366,-43.5352\"/>\n",
       "<polygon fill=\"#ff638d\" stroke=\"#ff638d\" points=\"66.0335,-41.1669 57.2066,-35.307 60.4527,-45.3923 66.0335,-41.1669\"/>\n",
       "</g>\n",
       "<!-- MaryCalls -->\n",
       "<g id=\"node4\" class=\"node\"><title>MaryCalls</title>\n",
       "<defs>\n",
       "<linearGradient id=\"l_3\" gradientUnits=\"userSpaceOnUse\" x1=\"151.86\" y1=\"-1.77636e-14\" x2=\"151.86\" y2=\"-36\" >\n",
       "<stop offset=\"0\" style=\"stop-color:#ceccff;stop-opacity:1.;\"/>\n",
       "<stop offset=\"1\" style=\"stop-color:white;stop-opacity:1.;\"/>\n",
       "</linearGradient>\n",
       "</defs>\n",
       "<ellipse fill=\"url(#l_3)\" stroke=\"#ff638d\" cx=\"151.86\" cy=\"-18\" rx=\"45.6069\" ry=\"18\"/>\n",
       "<text text-anchor=\"middle\" x=\"151.86\" y=\"-14.9\" font-family=\"Acme-Regular.ttf\" font-size=\"12.00\">MaryCalls</text>\n",
       "</g>\n",
       "<!-- Alarm&#45;&gt;MaryCalls -->\n",
       "<g id=\"edge3\" class=\"edge\"><title>Alarm&#45;&gt;MaryCalls</title>\n",
       "<path fill=\"none\" stroke=\"#ff638d\" d=\"M110.113,-73.1159C116.92,-64.292 125.531,-53.1298 133.162,-43.238\"/>\n",
       "<polygon fill=\"#ff638d\" stroke=\"#ff638d\" points=\"135.943,-45.3627 139.28,-35.307 130.401,-41.087 135.943,-45.3627\"/>\n",
       "</g>\n",
       "<!-- Earthquake -->\n",
       "<g id=\"node5\" class=\"node\"><title>Earthquake</title>\n",
       "<defs>\n",
       "<linearGradient id=\"l_4\" gradientUnits=\"userSpaceOnUse\" x1=\"153.86\" y1=\"-144\" x2=\"153.86\" y2=\"-180\" >\n",
       "<stop offset=\"0\" style=\"stop-color:#ceccff;stop-opacity:1.;\"/>\n",
       "<stop offset=\"1\" style=\"stop-color:white;stop-opacity:1.;\"/>\n",
       "</linearGradient>\n",
       "</defs>\n",
       "<ellipse fill=\"url(#l_4)\" stroke=\"#ff638d\" cx=\"153.86\" cy=\"-162\" rx=\"52.1504\" ry=\"18\"/>\n",
       "<text text-anchor=\"middle\" x=\"153.86\" y=\"-158.9\" font-family=\"Acme-Regular.ttf\" font-size=\"12.00\">Earthquake</text>\n",
       "</g>\n",
       "<!-- Earthquake&#45;&gt;Alarm -->\n",
       "<g id=\"edge4\" class=\"edge\"><title>Earthquake&#45;&gt;Alarm</title>\n",
       "<path fill=\"none\" stroke=\"#ff638d\" d=\"M140.589,-144.411C133.584,-135.655 124.861,-124.751 117.126,-115.082\"/>\n",
       "<polygon fill=\"#ff638d\" stroke=\"#ff638d\" points=\"119.63,-112.61 110.65,-106.988 114.164,-116.983 119.63,-112.61\"/>\n",
       "</g>\n",
       "</g>\n",
       "</svg>\n"
      ],
      "text/plain": [
       "<graphviz.dot.Digraph at 0x7fa8bc30d250>"
      ]
     },
     "execution_count": 25,
     "metadata": {},
     "output_type": "execute_result"
    }
   ],
   "source": [
    "pgmpyToGraph(alarmModel)"
   ]
  },
  {
   "cell_type": "markdown",
   "metadata": {
    "lines_to_next_cell": 0,
    "title": "markdown"
   },
   "source": [
    "### Case 1: Marginal Dependence (for Causal Model)\n",
    "For a causal model $A \\rightarrow B \\rightarrow C$, when the state of the middle node $B$ is unobserved, then an active trail is created between the nodes, namely the active trail is $A \\rightarrow B \\rightarrow C$. Information can now flow from node $A$ to node $C$ via node $B$. This implies there is a dependency between nodes $A$ and $C$, so the probability of $A$ taking on any of its states can influence the probability of $C$ taking on any of its states. This is called **marginal dependence** We can write this as: $P(A | C) \\ne P(A)$\n",
    "\n",
    "$\\color{red}{\\text{TODO}}$ left off here trying to refactor the text (continue from sublime notes pg 35 Korb and pg 336 Bayesiabook)\n",
    "$$\n",
    "\\color{Green}{ \\text{Alarm (unobserved): }\\;\\;\\;\\;\\;\\;\\;\\;\\; \\text{Burglary} \\longrightarrow \\text{Alarm} \\longrightarrow \\text{MaryCalls}}\n",
    "$$\n",
    "\n",
    "Given that the state of `Alarm` is unobserved, we can make the following equivalent statements:\n",
    "* there IS an active trail between `Burglary` and `MaryCalls`.\n",
    "* the random variables `Burglary` and `MaryCalls` are dependent.\n",
    "* the probability of `Burglary` can influence probability of `MaryCalls` (and vice versa).\n",
    "\n",
    "Similarly, the same kinds of statements can be made for the other causal chain pathways in the graph:\n",
    "\n",
    "$$\n",
    "\\color{Green}{ \\text{Alarm (unobserved): }\\;\\;\\;\\;\\;\\;\\;\\;\\; \\text{Burglary} \\longrightarrow \\text{Alarm} \\longrightarrow \\text{JohnCalls}}\n",
    "$$\n",
    "Given that the state of `Alarm` is unobserved, we can make the following equivalent statements:\n",
    "* there IS an active trail between `Burglary` and `JohnCalls`.\n",
    "* the random variables `Burglary` and `JohnCalls` are dependent.\n",
    "* the probability of `Burglary` can influence probability of `JohnCalls` (and vice versa).\n",
    "\n",
    "$$\n",
    "\\color{Green}{ \\text{Alarm (unobserved): }\\;\\;\\;\\;\\;\\;\\;\\;\\; \\text{Earthquake} \\longrightarrow \\text{Alarm} \\longrightarrow \\text{MaryCalls}}\n",
    "$$\n",
    "Given that the state of `Alarm` is unobserved, we can make the following equivalent statements:\n",
    "* there IS an active trail between `Earthquake` and `MaryCalls`.\n",
    "* the random variables `Earthquake` and `MaryCalls` are dependent.\n",
    "* the probability of `Earthquake` can influence probability of `MaryCalls` (and vice versa).\n",
    "\n",
    "$$\n",
    "\\color{Green}{ \\text{Alarm (unobserved): }\\;\\;\\;\\;\\;\\;\\;\\;\\; \\text{Earthquake} \\longrightarrow \\text{Alarm} \\longrightarrow \\text{JohnCalls}}\n",
    "$$\n",
    "Given that the state of `Alarm` is unobserved, we can make the following equivalent statements:\n",
    "* there IS an active trail between `Earthquake` and `JohnCalls`.\n",
    "* the random variables `Earthquake` and `JohnCalls` are dependent.\n",
    "* the probability of `Earthquake` can influence probability of `JohnCalls` (and vice versa)."
   ]
  },
  {
   "cell_type": "markdown",
   "metadata": {
    "lines_to_next_cell": 0,
    "title": "markdown"
   },
   "source": [
    "**Verify:** Using Active Trails"
   ]
  },
  {
   "cell_type": "code",
   "execution_count": 26,
   "metadata": {
    "title": "codecell"
   },
   "outputs": [
    {
     "name": "stdout",
     "output_type": "stream",
     "text": [
      "Burglary --> JohnCalls\n",
      "Burglary --> Burglary\n",
      "Burglary --> Alarm\n",
      "Burglary --> MaryCalls\n",
      "MaryCalls --> JohnCalls\n",
      "MaryCalls --> Alarm\n",
      "MaryCalls --> Earthquake\n",
      "MaryCalls --> Burglary\n",
      "MaryCalls --> MaryCalls\n"
     ]
    }
   ],
   "source": [
    "assert alarmModel.is_active_trail(start = Burglary.var, end = MaryCalls.var, observed = None)\n",
    "assert alarmModel.is_active_trail(start = Burglary.var, end = JohnCalls.var, observed = None)\n",
    "assert alarmModel.is_active_trail(start = Earthquake.var, end = MaryCalls.var, observed = None)\n",
    "assert alarmModel.is_active_trail(start = Earthquake.var, end = JohnCalls.var, observed = None)\n",
    "\n",
    "showActiveTrails(model = alarmModel, variables = [Burglary.var, MaryCalls.var])"
   ]
  },
  {
   "cell_type": "code",
   "execution_count": 27,
   "metadata": {
    "title": "codecell"
   },
   "outputs": [],
   "source": [
    "elim: VariableElimination = VariableElimination(model = alarmModel)"
   ]
  },
  {
   "cell_type": "markdown",
   "metadata": {
    "lines_to_next_cell": 0,
    "title": "markdown"
   },
   "source": [
    "**Verify:** Using Probabilities (example of $B \\rightarrow A \\rightarrow J$ trail)\n",
    "* **NOTE:** Causal Reasoning For Causal Model:"
   ]
  },
  {
   "cell_type": "markdown",
   "metadata": {
    "lines_to_next_cell": 0,
    "title": "markdown"
   },
   "source": [
    "The probability below is:\n",
    "$$\n",
    "P(\\text{JohnCalls} = \\text{True}) =  0.0521\n",
    "$$"
   ]
  },
  {
   "cell_type": "code",
   "execution_count": 28,
   "metadata": {
    "lines_to_next_cell": 0,
    "title": "codecell"
   },
   "outputs": [
    {
     "name": "stderr",
     "output_type": "stream",
     "text": [
      "\r",
      "  0%|          | 0/4 [00:00<?, ?it/s]"
     ]
    },
    {
     "name": "stderr",
     "output_type": "stream",
     "text": [
      "\r",
      "Finding Elimination Order: :   0%|          | 0/4 [00:00<?, ?it/s]"
     ]
    },
    {
     "name": "stderr",
     "output_type": "stream",
     "text": [
      "\r",
      "Finding Elimination Order: : 100%|██████████| 4/4 [00:00<00:00, 1282.17it/s]"
     ]
    },
    {
     "name": "stderr",
     "output_type": "stream",
     "text": [
      "\n",
      "\r",
      "  0%|          | 0/4 [00:00<?, ?it/s]"
     ]
    },
    {
     "name": "stderr",
     "output_type": "stream",
     "text": [
      "\r",
      "Eliminating: MaryCalls:   0%|          | 0/4 [00:00<?, ?it/s]"
     ]
    },
    {
     "name": "stderr",
     "output_type": "stream",
     "text": [
      "\r",
      "Eliminating: Earthquake:   0%|          | 0/4 [00:00<?, ?it/s]"
     ]
    },
    {
     "name": "stderr",
     "output_type": "stream",
     "text": [
      "\r",
      "Eliminating: Alarm:   0%|          | 0/4 [00:00<?, ?it/s]     "
     ]
    },
    {
     "name": "stderr",
     "output_type": "stream",
     "text": [
      "\r",
      "Eliminating: Burglary:   0%|          | 0/4 [00:00<?, ?it/s]"
     ]
    },
    {
     "name": "stderr",
     "output_type": "stream",
     "text": [
      "\r",
      "Eliminating: Burglary: 100%|██████████| 4/4 [00:00<00:00, 518.12it/s]"
     ]
    },
    {
     "name": "stdout",
     "output_type": "stream",
     "text": [
      "+------------------+------------------+\n",
      "| JohnCalls        |   phi(JohnCalls) |\n",
      "+==================+==================+\n",
      "| JohnCalls(True)  |           0.0521 |\n",
      "+------------------+------------------+\n",
      "| JohnCalls(False) |           0.9479 |\n",
      "+------------------+------------------+\n"
     ]
    },
    {
     "name": "stderr",
     "output_type": "stream",
     "text": [
      "\n"
     ]
    }
   ],
   "source": [
    "BJ: DiscreteFactor = elim.query(variables = [JohnCalls.var], evidence = None)\n",
    "print(BJ)"
   ]
  },
  {
   "cell_type": "markdown",
   "metadata": {
    "lines_to_next_cell": 0,
    "title": "markdown"
   },
   "source": [
    "Below we see that when there is evidence of `Burglary` and no `Alarm` was observed, there is a higher probability of `JohnCalls`, compared to when no `Burglary` was observed and no `Alarm` was observed (BJ). Specifically,\n",
    "$$\n",
    "P(\\text{JohnCalls} = \\text{True} \\; | \\; \\text{Burglary} = \\text{True}) = 0.8490\n",
    "$$\n",
    "while above:\n",
    "$$\n",
    "P(\\text{JohnCalls} = \\text{True}) =  0.0521\n",
    "$$"
   ]
  },
  {
   "cell_type": "code",
   "execution_count": 29,
   "metadata": {
    "lines_to_next_cell": 0,
    "title": "codecell"
   },
   "outputs": [
    {
     "name": "stderr",
     "output_type": "stream",
     "text": [
      "\r",
      "  0%|          | 0/3 [00:00<?, ?it/s]"
     ]
    },
    {
     "name": "stderr",
     "output_type": "stream",
     "text": [
      "\r",
      "Finding Elimination Order: :   0%|          | 0/3 [00:00<?, ?it/s]"
     ]
    },
    {
     "name": "stderr",
     "output_type": "stream",
     "text": [
      "\r",
      "Finding Elimination Order: : 100%|██████████| 3/3 [00:00<00:00, 870.97it/s]"
     ]
    },
    {
     "name": "stderr",
     "output_type": "stream",
     "text": [
      "\n",
      "\r",
      "  0%|          | 0/3 [00:00<?, ?it/s]"
     ]
    },
    {
     "name": "stderr",
     "output_type": "stream",
     "text": [
      "\r",
      "Eliminating: Earthquake:   0%|          | 0/3 [00:00<?, ?it/s]"
     ]
    },
    {
     "name": "stderr",
     "output_type": "stream",
     "text": [
      "\r",
      "Eliminating: MaryCalls:   0%|          | 0/3 [00:00<?, ?it/s] "
     ]
    },
    {
     "name": "stderr",
     "output_type": "stream",
     "text": [
      "\r",
      "Eliminating: Alarm:   0%|          | 0/3 [00:00<?, ?it/s]    "
     ]
    },
    {
     "name": "stderr",
     "output_type": "stream",
     "text": [
      "\r",
      "Eliminating: Alarm: 100%|██████████| 3/3 [00:00<00:00, 491.85it/s]"
     ]
    },
    {
     "name": "stdout",
     "output_type": "stream",
     "text": [
      "+------------------+------------------+\n",
      "| JohnCalls        |   phi(JohnCalls) |\n",
      "+==================+==================+\n",
      "| JohnCalls(True)  |           0.8490 |\n",
      "+------------------+------------------+\n",
      "| JohnCalls(False) |           0.1510 |\n",
      "+------------------+------------------+\n"
     ]
    },
    {
     "name": "stderr",
     "output_type": "stream",
     "text": [
      "\n"
     ]
    }
   ],
   "source": [
    "BJ_1 = elim.query(variables = [JohnCalls.var], evidence = {Burglary.var: 'True'})\n",
    "print(BJ_1)"
   ]
  },
  {
   "cell_type": "markdown",
   "metadata": {
    "lines_to_next_cell": 0,
    "title": "markdown"
   },
   "source": [
    "Below we see that when there is no `Burglary` and no `Alarm` was observed, there is a lower probability of `JohnCalls`, compared to when `Burglary` did occur and no `Alarm` was observed (BJ_1).\n",
    "$$\n",
    "P(\\text{JohnCalls} = \\text{True} \\; | \\; \\text{Burglary} = \\text{False}) = 0.0513\n",
    "$$"
   ]
  },
  {
   "cell_type": "code",
   "execution_count": 30,
   "metadata": {
    "lines_to_next_cell": 0,
    "title": "codecell"
   },
   "outputs": [
    {
     "name": "stderr",
     "output_type": "stream",
     "text": [
      "\r",
      "  0%|          | 0/3 [00:00<?, ?it/s]"
     ]
    },
    {
     "name": "stderr",
     "output_type": "stream",
     "text": [
      "\r",
      "Finding Elimination Order: :   0%|          | 0/3 [00:00<?, ?it/s]"
     ]
    },
    {
     "name": "stderr",
     "output_type": "stream",
     "text": [
      "\r",
      "Finding Elimination Order: : 100%|██████████| 3/3 [00:00<00:00, 1036.31it/s]"
     ]
    },
    {
     "name": "stderr",
     "output_type": "stream",
     "text": [
      "\n",
      "\r",
      "  0%|          | 0/3 [00:00<?, ?it/s]"
     ]
    },
    {
     "name": "stderr",
     "output_type": "stream",
     "text": [
      "\r",
      "Eliminating: Earthquake:   0%|          | 0/3 [00:00<?, ?it/s]"
     ]
    },
    {
     "name": "stderr",
     "output_type": "stream",
     "text": [
      "\r",
      "Eliminating: MaryCalls:   0%|          | 0/3 [00:00<?, ?it/s] "
     ]
    },
    {
     "name": "stderr",
     "output_type": "stream",
     "text": [
      "\r",
      "Eliminating: Alarm:   0%|          | 0/3 [00:00<?, ?it/s]    "
     ]
    },
    {
     "name": "stderr",
     "output_type": "stream",
     "text": [
      "\r",
      "Eliminating: Alarm: 100%|██████████| 3/3 [00:00<00:00, 570.19it/s]"
     ]
    },
    {
     "name": "stdout",
     "output_type": "stream",
     "text": [
      "+------------------+------------------+\n",
      "| JohnCalls        |   phi(JohnCalls) |\n",
      "+==================+==================+\n",
      "| JohnCalls(True)  |           0.0513 |\n",
      "+------------------+------------------+\n",
      "| JohnCalls(False) |           0.9487 |\n",
      "+------------------+------------------+\n"
     ]
    },
    {
     "name": "stderr",
     "output_type": "stream",
     "text": [
      "\n"
     ]
    }
   ],
   "source": [
    "BJ_2 = elim.query(variables = [JohnCalls.var], evidence = {Burglary.var:'False'})\n",
    "print(BJ_2)"
   ]
  },
  {
   "cell_type": "markdown",
   "metadata": {
    "lines_to_next_cell": 0,
    "title": "markdown"
   },
   "source": [
    "Through the above steps, we observed some probabilities conditional on some states. To present them all in one place, here are the probabilities that `JohnCalls = True`, where the last two are conditional on `Burglary.states = ['True', 'False']`.\n",
    "$$\n",
    "\\begin{array}{ll}\n",
    "P(\\text{JohnCalls} = \\text{True}) &= 0.0521 \\\\\n",
    "P(\\text{JohnCalls} = \\text{True} \\; | \\; \\text{Burglary} = \\text{True}) &= 0.8490 \\\\\n",
    "P(\\text{JohnCalls} = \\text{True} \\; | \\; \\text{Burglary} = \\text{False}) &= 0.0513\n",
    "\\end{array}\n",
    "$$\n",
    "From probability theory, we know that two random variables $A$ and $B$ are independent if and only if $P(A) = P(A \\; | \\; B)$ (by definition this statement holds for all the states that the random variables $A$ and $B$ can take on).\n",
    "\n",
    "Therefore, the fact that the above probabilities are not the same implies the random variables `JohnCalls` and `Burglary` are dependent (not independent). This is expressed in probability notation as follows:\n",
    "$$\n",
    "P(\\text{JohnCalls}) \\ne P(\\text{JohnCalls} \\; | \\; \\text{Burglary})\n",
    "$$\n",
    "Using pgmpy, we can access the previously calculated probabilites using the `.values` accessor to assert the probabilities aren't equal, which asserts the random variables `JohnCalls` and `Burglary` are dependent:"
   ]
  },
  {
   "cell_type": "code",
   "execution_count": 31,
   "metadata": {
    "lines_to_next_cell": 2,
    "title": "codecell"
   },
   "outputs": [],
   "source": [
    "assert (BJ.values != BJ_1.values).all() and (BJ.values != BJ_2.values).all(), \"Check: variables Burglary and JohnCalls are dependent, given that Alarm's state is unobserved \""
   ]
  },
  {
   "cell_type": "markdown",
   "metadata": {
    "lines_to_next_cell": 0,
    "title": "markdown"
   },
   "source": [
    "**Verify:** Using Probabilities (example of $E \\rightarrow A \\rightarrow M$ trail)\n",
    "* **NOTE:** Causal Reasoning For Causal Model:"
   ]
  },
  {
   "cell_type": "markdown",
   "metadata": {
    "lines_to_next_cell": 0,
    "title": "markdown"
   },
   "source": [
    "The probability below is:\n",
    "$$\n",
    "P(\\text{MaryCalls} = \\text{True}) = 0.0117\n",
    "$$"
   ]
  },
  {
   "cell_type": "code",
   "execution_count": 32,
   "metadata": {
    "lines_to_next_cell": 0,
    "title": "codecell"
   },
   "outputs": [
    {
     "name": "stderr",
     "output_type": "stream",
     "text": [
      "\r",
      "  0%|          | 0/4 [00:00<?, ?it/s]"
     ]
    },
    {
     "name": "stderr",
     "output_type": "stream",
     "text": [
      "\r",
      "Finding Elimination Order: :   0%|          | 0/4 [00:00<?, ?it/s]"
     ]
    },
    {
     "name": "stderr",
     "output_type": "stream",
     "text": [
      "\r",
      "Finding Elimination Order: : 100%|██████████| 4/4 [00:00<00:00, 1501.45it/s]"
     ]
    },
    {
     "name": "stderr",
     "output_type": "stream",
     "text": [
      "\n",
      "\r",
      "  0%|          | 0/4 [00:00<?, ?it/s]"
     ]
    },
    {
     "name": "stderr",
     "output_type": "stream",
     "text": [
      "\r",
      "Eliminating: JohnCalls:   0%|          | 0/4 [00:00<?, ?it/s]"
     ]
    },
    {
     "name": "stderr",
     "output_type": "stream",
     "text": [
      "\r",
      "Eliminating: Earthquake:   0%|          | 0/4 [00:00<?, ?it/s]"
     ]
    },
    {
     "name": "stderr",
     "output_type": "stream",
     "text": [
      "\r",
      "Eliminating: Alarm:   0%|          | 0/4 [00:00<?, ?it/s]     "
     ]
    },
    {
     "name": "stderr",
     "output_type": "stream",
     "text": [
      "\r",
      "Eliminating: Burglary:   0%|          | 0/4 [00:00<?, ?it/s]"
     ]
    },
    {
     "name": "stderr",
     "output_type": "stream",
     "text": [
      "\r",
      "Eliminating: Burglary: 100%|██████████| 4/4 [00:00<00:00, 507.28it/s]"
     ]
    },
    {
     "name": "stdout",
     "output_type": "stream",
     "text": [
      "+------------------+------------------+\n",
      "| MaryCalls        |   phi(MaryCalls) |\n",
      "+==================+==================+\n",
      "| MaryCalls(True)  |           0.0117 |\n",
      "+------------------+------------------+\n",
      "| MaryCalls(False) |           0.9883 |\n",
      "+------------------+------------------+\n"
     ]
    },
    {
     "name": "stderr",
     "output_type": "stream",
     "text": [
      "\n"
     ]
    }
   ],
   "source": [
    "EM: DiscreteFactor = elim.query(variables = [MaryCalls.var], evidence = None)\n",
    "print(EM)"
   ]
  },
  {
   "cell_type": "markdown",
   "metadata": {
    "lines_to_next_cell": 0,
    "title": "markdown"
   },
   "source": [
    "Below we see that when `Earthquake` occurs and no `Alarm` was observed, there is a higher probability of `MaryCalls`, compared to when neither `Alarm` nor `Earthquake` were observed:\n",
    "$$\n",
    "P(\\text{MaryCalls} = \\text{True} \\; | \\; \\text{Earthquake} = \\text{True}) = 0.2106\n",
    "$$"
   ]
  },
  {
   "cell_type": "code",
   "execution_count": 33,
   "metadata": {
    "lines_to_next_cell": 0,
    "title": "codecell"
   },
   "outputs": [
    {
     "name": "stderr",
     "output_type": "stream",
     "text": [
      "\r",
      "  0%|          | 0/3 [00:00<?, ?it/s]"
     ]
    },
    {
     "name": "stderr",
     "output_type": "stream",
     "text": [
      "\r",
      "Finding Elimination Order: :   0%|          | 0/3 [00:00<?, ?it/s]"
     ]
    },
    {
     "name": "stderr",
     "output_type": "stream",
     "text": [
      "\r",
      "Finding Elimination Order: : 100%|██████████| 3/3 [00:00<00:00, 1482.26it/s]"
     ]
    },
    {
     "name": "stderr",
     "output_type": "stream",
     "text": [
      "\n",
      "\r",
      "  0%|          | 0/3 [00:00<?, ?it/s]"
     ]
    },
    {
     "name": "stderr",
     "output_type": "stream",
     "text": [
      "\r",
      "Eliminating: JohnCalls:   0%|          | 0/3 [00:00<?, ?it/s]"
     ]
    },
    {
     "name": "stderr",
     "output_type": "stream",
     "text": [
      "\r",
      "Eliminating: Burglary:   0%|          | 0/3 [00:00<?, ?it/s] "
     ]
    },
    {
     "name": "stderr",
     "output_type": "stream",
     "text": [
      "\r",
      "Eliminating: Alarm:   0%|          | 0/3 [00:00<?, ?it/s]   "
     ]
    },
    {
     "name": "stderr",
     "output_type": "stream",
     "text": [
      "\r",
      "Eliminating: Alarm: 100%|██████████| 3/3 [00:00<00:00, 484.48it/s]"
     ]
    },
    {
     "name": "stdout",
     "output_type": "stream",
     "text": [
      "+------------------+------------------+\n",
      "| MaryCalls        |   phi(MaryCalls) |\n",
      "+==================+==================+\n",
      "| MaryCalls(True)  |           0.2106 |\n",
      "+------------------+------------------+\n",
      "| MaryCalls(False) |           0.7894 |\n",
      "+------------------+------------------+\n"
     ]
    },
    {
     "name": "stderr",
     "output_type": "stream",
     "text": [
      "\n"
     ]
    }
   ],
   "source": [
    "EM_1 = elim.query(variables = [MaryCalls.var], evidence = {Earthquake.var:'True'})\n",
    "print(EM_1)"
   ]
  },
  {
   "cell_type": "markdown",
   "metadata": {
    "lines_to_next_cell": 0,
    "title": "markdown"
   },
   "source": [
    "Below we see that when `Earthquake` does not occur and no `Alarm` was observed, there is a lower probability of `MaryCalls`, compared to when `Earthquake` occurs and no `Alarm` was observed:\n",
    "$$\n",
    "P(\\text{MaryCalls} = \\text{True} \\; | \\; \\text{Earthquake} = \\text{False}) = 0.0113\n",
    "$$\n",
    "Incidentally, this is the same probability as when no `Earthquake` and no `Alarm` was observed."
   ]
  },
  {
   "cell_type": "code",
   "execution_count": 34,
   "metadata": {
    "title": "codecell"
   },
   "outputs": [
    {
     "name": "stderr",
     "output_type": "stream",
     "text": [
      "\r",
      "  0%|          | 0/3 [00:00<?, ?it/s]"
     ]
    },
    {
     "name": "stderr",
     "output_type": "stream",
     "text": [
      "\r",
      "Finding Elimination Order: :   0%|          | 0/3 [00:00<?, ?it/s]"
     ]
    },
    {
     "name": "stderr",
     "output_type": "stream",
     "text": [
      "\r",
      "Finding Elimination Order: : 100%|██████████| 3/3 [00:00<00:00, 1277.32it/s]"
     ]
    },
    {
     "name": "stderr",
     "output_type": "stream",
     "text": [
      "\n",
      "\r",
      "  0%|          | 0/3 [00:00<?, ?it/s]"
     ]
    },
    {
     "name": "stderr",
     "output_type": "stream",
     "text": [
      "\r",
      "Eliminating: JohnCalls:   0%|          | 0/3 [00:00<?, ?it/s]"
     ]
    },
    {
     "name": "stderr",
     "output_type": "stream",
     "text": [
      "\r",
      "Eliminating: Burglary:   0%|          | 0/3 [00:00<?, ?it/s] "
     ]
    },
    {
     "name": "stderr",
     "output_type": "stream",
     "text": [
      "\r",
      "Eliminating: Alarm:   0%|          | 0/3 [00:00<?, ?it/s]   "
     ]
    },
    {
     "name": "stderr",
     "output_type": "stream",
     "text": [
      "\r",
      "Eliminating: Alarm: 100%|██████████| 3/3 [00:00<00:00, 461.28it/s]"
     ]
    },
    {
     "name": "stdout",
     "output_type": "stream",
     "text": [
      "+------------------+------------------+\n",
      "| MaryCalls        |   phi(MaryCalls) |\n",
      "+==================+==================+\n",
      "| MaryCalls(True)  |           0.0113 |\n",
      "+------------------+------------------+\n",
      "| MaryCalls(False) |           0.9887 |\n",
      "+------------------+------------------+\n"
     ]
    },
    {
     "name": "stderr",
     "output_type": "stream",
     "text": [
      "\n"
     ]
    }
   ],
   "source": [
    "EM_2 = elim.query(variables = [MaryCalls.var], evidence = {Earthquake.var:'False'})\n",
    "print(EM_2)"
   ]
  },
  {
   "cell_type": "markdown",
   "metadata": {
    "lines_to_next_cell": 0,
    "title": "markdown"
   },
   "source": [
    "Through the above steps, we observed some probabilities conditional on some states. To present them all in one place, here are the probabilities that `MaryCalls = True`, where the last two are conditional on `Earthquake.states = ['True', 'False']`.\n",
    "$$\n",
    "\\begin{array}{ll}\n",
    "P(\\text{MaryCalls} = \\text{True}) &= 0.0117 \\\\\n",
    "P(\\text{MaryCalls} = \\text{True} \\; | \\; \\text{Earthquake} = \\text{True}) &= 0.2106 \\\\\n",
    "P(\\text{MaryCalls} = \\text{True} \\; | \\; \\text{Earthquake} = \\text{False}) &= 0.0113\n",
    "\\end{array}\n",
    "$$\n",
    "From probability theory, we know that two random variables $A$ and $B$ are independent if and only if $P(A) = P(A \\; | \\; B)$ (by definition this statement holds for all the states that the random variables $A$ and $B$ can take on).\n",
    "\n",
    "Therefore, the fact that the above probabilities are not the same implies the random variables `MaryCalls` and `Earthquake` are dependent (not independent). This is expressed in probability notation as follows:\n",
    "$$\n",
    "P(\\text{MaryCalls}) \\ne P(\\text{MaryCalls} \\; | \\; \\text{Earthquake})\n",
    "$$\n",
    "Using pgmpy, we can access the previously calculated probabilites using the `.values` accessor to assert the probabilities aren't equal, which asserts that the random variables `MaryCalls` and `Earthquake` are dependent:"
   ]
  },
  {
   "cell_type": "code",
   "execution_count": 35,
   "metadata": {
    "title": "codecell"
   },
   "outputs": [],
   "source": [
    "assert (EM.values != EM_1.values).all() and (EM.values != EM_2.values).all(), \"Check: random variables Earthquake and MaryCalls are independent, given that Alarm state is unobserved \"\n",
    "\n",
    "\n"
   ]
  },
  {
   "cell_type": "markdown",
   "metadata": {
    "lines_to_next_cell": 0,
    "title": "markdown"
   },
   "source": [
    "### Case 2: Conditional Independence (for Causal Model)\n",
    "For a causal model $A \\rightarrow B \\rightarrow C$, when the state of the middle node $B$ is unobserved, then an active trail is created between the nodes, namely the active trail is $A \\rightarrow B \\rightarrow C$. Information can now flow from node $A$ to node $C$ via node $B$. This implies there is a dependency between nodes $A$ and $C$, so the probability of $A$ taking on any of its states can influence the probability of $C$ taking on any of its states. This is called **marginal dependence** We can write this as: $P(A | C) \\ne P(A)$ or even as $P(C | A) \\ne P(C)$.\n",
    "\n",
    "$$\n",
    "\\color{DeepSkyBlue}{ \\text{Alarm (observed): }\\;\\;\\;\\;\\;\\;\\;\\; \\text{Burglary} \\; \\bot \\; \\text{MaryCalls} \\; | \\; \\text{Alarm}}\n",
    "$$\n",
    "Given that `Alarm`'s state is fixed / observed, we can make the following equivalent statements:\n",
    "* there is NO active trail between `Burglary` and `MaryCalls`.\n",
    "* `Burglary` and `MaryCalls` are locally independent.\n",
    "* the probability of `Burglary` won't influence probability of `MaryCalls` (and vice versa).\n",
    "\n",
    "$$\n",
    "\\color{DeepSkyBlue}{ \\text{Alarm (observed): }\\;\\;\\;\\;\\;\\;\\;\\; \\text{Burglary} \\; \\bot \\; \\text{JohnCalls} \\; | \\; \\text{Alarm}}\n",
    "$$\n",
    "Given that `Alarm`'s state is fixed / observed, we can make the following equivalent statements:\n",
    "* there is NO active trail between `Burglary` and `JohnCalls`.\n",
    "* `Burglary` and `JohnCalls` are locally independent.\n",
    "* the probability of `Burglary` won't influence probability of `JohnCalls` (and vice versa).\n",
    "\n",
    "$$\n",
    "\\color{DeepSkyBlue}{ \\text{Alarm (observed): }\\;\\;\\;\\;\\;\\;\\;\\; \\text{Earthquake} \\; \\bot \\; \\text{MaryCalls} \\; | \\; \\text{Alarm}}\n",
    "$$\n",
    "Given that `Alarm`'s state is fixed / observed, we can make the following equivalent statements:\n",
    "* there is NO active trail between `Earthquake` and `MaryCalls`.\n",
    "* `Earthquake` and `MaryCalls` are locally independent.\n",
    "* the probability of `Earthquake` won't influence probability of `MaryCalls` (and vice versa).\n",
    "\n",
    "$$\n",
    "\\color{DeepSkyBlue}{ \\text{Alarm (observed): }\\;\\;\\;\\;\\;\\;\\;\\; \\text{Earthquake} \\; \\bot \\; \\text{JohnCalls} \\; | \\; \\text{Alarm}}\n",
    "$$\n",
    "Given that `Alarm`'s state is fixed / observed, we can make the following equivalent statements:\n",
    "* there is NO active trail between `Earthquake` and `JohnCalls`.\n",
    "* `Earthquake` and `JohnCalls` are locally independent.\n",
    "* the probability of `Earthquake` won't influence probability of `JohnCalls` (and vice versa)."
   ]
  },
  {
   "cell_type": "markdown",
   "metadata": {
    "lines_to_next_cell": 0,
    "title": "markdown"
   },
   "source": [
    "**Verify:** Using Active Trails"
   ]
  },
  {
   "cell_type": "code",
   "execution_count": 36,
   "metadata": {
    "title": "codecell"
   },
   "outputs": [
    {
     "name": "stdout",
     "output_type": "stream",
     "text": [
      "Burglary --> Earthquake\n",
      "Burglary --> Burglary\n",
      "MaryCalls --> MaryCalls\n"
     ]
    }
   ],
   "source": [
    "assert not alarmModel.is_active_trail(start = Burglary.var, end = MaryCalls.var, observed = Alarm.var)\n",
    "assert not alarmModel.is_active_trail(start = Burglary.var, end = JohnCalls.var, observed = Alarm.var)\n",
    "assert not alarmModel.is_active_trail(start = Earthquake.var, end = MaryCalls.var, observed = Alarm.var)\n",
    "assert not alarmModel.is_active_trail(start = Earthquake.var, end = JohnCalls.var, observed = Alarm.var)\n",
    "\n",
    "showActiveTrails(model = alarmModel, variables = [Burglary.var, MaryCalls.var], observed = Alarm.var)"
   ]
  },
  {
   "cell_type": "markdown",
   "metadata": {
    "lines_to_next_cell": 0,
    "title": "markdown"
   },
   "source": [
    "**Verify:** Using Independencies (just the $(B \\; \\bot \\; M \\; | \\; A)$ independence)"
   ]
  },
  {
   "cell_type": "code",
   "execution_count": 37,
   "metadata": {
    "title": "codecell"
   },
   "outputs": [
    {
     "data": {
      "text/plain": [
       "(MaryCalls _|_ Burglary | JohnCalls, Earthquake, Alarm)\n",
       "(MaryCalls _|_ JohnCalls, Earthquake | Burglary, Alarm)\n",
       "(MaryCalls _|_ Burglary | JohnCalls, Alarm)\n",
       "(MaryCalls _|_ Earthquake | JohnCalls, Alarm)\n",
       "(MaryCalls _|_ Earthquake | Burglary, Alarm)\n",
       "(MaryCalls _|_ JohnCalls, Earthquake, Burglary | Alarm)\n",
       "(MaryCalls _|_ Earthquake, Burglary | Alarm)\n",
       "(MaryCalls _|_ JohnCalls | Earthquake, Alarm, Burglary)\n",
       "(MaryCalls _|_ Earthquake | JohnCalls, Burglary, Alarm)\n",
       "(MaryCalls _|_ Earthquake, Burglary | JohnCalls, Alarm)\n",
       "(MaryCalls _|_ JohnCalls | Burglary, Alarm)\n",
       "(MaryCalls _|_ JohnCalls, Earthquake | Alarm)\n",
       "(MaryCalls _|_ JohnCalls, Burglary | Alarm)\n",
       "(MaryCalls _|_ Earthquake | Alarm)\n",
       "(MaryCalls _|_ Burglary | Alarm)\n",
       "(MaryCalls _|_ JohnCalls, Burglary | Earthquake, Alarm)\n",
       "(MaryCalls _|_ JohnCalls | Earthquake, Alarm)\n",
       "(MaryCalls _|_ Burglary | Earthquake, Alarm)\n",
       "(MaryCalls _|_ JohnCalls | Alarm)"
      ]
     },
     "execution_count": 37,
     "metadata": {},
     "output_type": "execute_result"
    }
   ],
   "source": [
    "indepBurglary: IndependenceAssertion = Independencies([Burglary.var, MaryCalls.var, [Alarm.var]]).get_assertions()[0]; indepBurglary\n",
    "\n",
    "indepMary: IndependenceAssertion = Independencies([MaryCalls.var, Burglary.var, [Alarm.var]]).get_assertions()[0]; indepMary\n",
    "\n",
    "# Using the fact that closure returns independencies that are IMPLIED by the current independencies:\n",
    "assert (str(indepMary) == '(MaryCalls _|_ Burglary | Alarm)' and\n",
    "        indepMary in alarmModel.local_independencies(MaryCalls.var).closure().get_assertions()),  \\\n",
    "        \"Check 1: Burglary and MaryCalls are independent once conditional on Alarm\"\n",
    "\n",
    "assert (str(indepBurglary) == '(Burglary _|_ MaryCalls | Alarm)' and\n",
    "        indepBurglary in alarmModel.local_independencies(MaryCalls.var).closure().get_assertions()), \\\n",
    "        \"Check 2: Burglary and MaryCalls are independent once conditional on Alarm\"\n",
    "\n",
    "alarmModel.local_independencies(MaryCalls.var).closure()"
   ]
  },
  {
   "cell_type": "code",
   "execution_count": 38,
   "metadata": {
    "title": "codecell"
   },
   "outputs": [
    {
     "name": "stdout",
     "output_type": "stream",
     "text": [
      "                   INDEPENDENCIES TABLE                  \n",
      "Fancy Notation              .....     Regular Notation   \n",
      "---------------------------------------------------------\n",
      "(M _|_ {B ∩ J ∩ E} | A)     .....     (M _|_ B, J, E | A)\n",
      "(M _|_ {B ∩ E ∩ J} | A)     .....     (M _|_ B, E, J | A)\n",
      "(M _|_ {J ∩ B ∩ E} | A)     .....     (M _|_ J, B, E | A)\n",
      "(M _|_ {J ∩ E ∩ B} | A)     .....     (M _|_ J, E, B | A)\n",
      "(M _|_ {E ∩ B ∩ J} | A)     .....     (M _|_ E, B, J | A)\n",
      "(M _|_ {E ∩ J ∩ B} | A)     .....     (M _|_ E, J, B | A)\n"
     ]
    }
   ],
   "source": [
    "# See: MaryCalls and Burglary are conditionally independent on Alarm:\n",
    "indepSynonymTable(model = alarmModel_brief, queryNode = 'M')\n",
    "\n"
   ]
  },
  {
   "cell_type": "markdown",
   "metadata": {
    "title": "markdown"
   },
   "source": [
    "**Verify:** Using Probabilities Method (just the $(E \\; \\bot \\; J \\; | \\; A)$ independence)"
   ]
  },
  {
   "cell_type": "markdown",
   "metadata": {
    "lines_to_next_cell": 0,
    "title": "markdown"
   },
   "source": [
    "Doing the case where `Alarm = True`:"
   ]
  },
  {
   "cell_type": "code",
   "execution_count": 39,
   "metadata": {
    "title": "codecell"
   },
   "outputs": [
    {
     "name": "stderr",
     "output_type": "stream",
     "text": [
      "\r",
      "  0%|          | 0/3 [00:00<?, ?it/s]"
     ]
    },
    {
     "name": "stderr",
     "output_type": "stream",
     "text": [
      "\r",
      "Finding Elimination Order: :   0%|          | 0/3 [00:00<?, ?it/s]"
     ]
    },
    {
     "name": "stderr",
     "output_type": "stream",
     "text": [
      "\r",
      "Finding Elimination Order: : 100%|██████████| 3/3 [00:00<00:00, 1464.49it/s]"
     ]
    },
    {
     "name": "stderr",
     "output_type": "stream",
     "text": [
      "\n"
     ]
    },
    {
     "name": "stderr",
     "output_type": "stream",
     "text": [
      "\r",
      "  0%|          | 0/3 [00:00<?, ?it/s]"
     ]
    },
    {
     "name": "stderr",
     "output_type": "stream",
     "text": [
      "\r",
      "Eliminating: Earthquake:   0%|          | 0/3 [00:00<?, ?it/s]"
     ]
    },
    {
     "name": "stderr",
     "output_type": "stream",
     "text": [
      "\r",
      "Eliminating: MaryCalls:   0%|          | 0/3 [00:00<?, ?it/s] "
     ]
    },
    {
     "name": "stderr",
     "output_type": "stream",
     "text": [
      "\r",
      "Eliminating: Burglary:   0%|          | 0/3 [00:00<?, ?it/s] "
     ]
    },
    {
     "name": "stderr",
     "output_type": "stream",
     "text": [
      "\r",
      "Eliminating: Burglary: 100%|██████████| 3/3 [00:00<00:00, 400.27it/s]"
     ]
    },
    {
     "name": "stderr",
     "output_type": "stream",
     "text": [
      "\n",
      "\r",
      "  0%|          | 0/2 [00:00<?, ?it/s]"
     ]
    },
    {
     "name": "stderr",
     "output_type": "stream",
     "text": [
      "\r",
      "Finding Elimination Order: :   0%|          | 0/2 [00:00<?, ?it/s]"
     ]
    },
    {
     "name": "stderr",
     "output_type": "stream",
     "text": [
      "\r",
      "Finding Elimination Order: : 100%|██████████| 2/2 [00:00<00:00, 985.04it/s]"
     ]
    },
    {
     "name": "stderr",
     "output_type": "stream",
     "text": [
      "\n",
      "\r",
      "  0%|          | 0/2 [00:00<?, ?it/s]"
     ]
    },
    {
     "name": "stderr",
     "output_type": "stream",
     "text": [
      "\r",
      "Eliminating: MaryCalls:   0%|          | 0/2 [00:00<?, ?it/s]"
     ]
    },
    {
     "name": "stderr",
     "output_type": "stream",
     "text": [
      "\r",
      "Eliminating: Burglary:   0%|          | 0/2 [00:00<?, ?it/s] "
     ]
    },
    {
     "name": "stderr",
     "output_type": "stream",
     "text": [
      "\r",
      "Eliminating: Burglary: 100%|██████████| 2/2 [00:00<00:00, 809.63it/s]"
     ]
    },
    {
     "name": "stderr",
     "output_type": "stream",
     "text": [
      "\n"
     ]
    },
    {
     "name": "stderr",
     "output_type": "stream",
     "text": [
      "\r",
      "  0%|          | 0/2 [00:00<?, ?it/s]"
     ]
    },
    {
     "name": "stderr",
     "output_type": "stream",
     "text": [
      "\r",
      "Finding Elimination Order: :   0%|          | 0/2 [00:00<?, ?it/s]"
     ]
    },
    {
     "name": "stderr",
     "output_type": "stream",
     "text": [
      "\r",
      "Finding Elimination Order: : 100%|██████████| 2/2 [00:00<00:00, 1115.36it/s]"
     ]
    },
    {
     "name": "stderr",
     "output_type": "stream",
     "text": [
      "\n",
      "\r",
      "  0%|          | 0/2 [00:00<?, ?it/s]"
     ]
    },
    {
     "name": "stderr",
     "output_type": "stream",
     "text": [
      "\r",
      "Eliminating: MaryCalls:   0%|          | 0/2 [00:00<?, ?it/s]"
     ]
    },
    {
     "name": "stderr",
     "output_type": "stream",
     "text": [
      "\r",
      "Eliminating: Burglary:   0%|          | 0/2 [00:00<?, ?it/s] "
     ]
    },
    {
     "name": "stderr",
     "output_type": "stream",
     "text": [
      "\r",
      "Eliminating: Burglary: 100%|██████████| 2/2 [00:00<00:00, 583.88it/s]"
     ]
    },
    {
     "name": "stdout",
     "output_type": "stream",
     "text": [
      "+------------------+------------------+\n",
      "| JohnCalls        |   phi(JohnCalls) |\n",
      "+==================+==================+\n",
      "| JohnCalls(True)  |           0.9000 |\n",
      "+------------------+------------------+\n",
      "| JohnCalls(False) |           0.1000 |\n",
      "+------------------+------------------+\n"
     ]
    },
    {
     "name": "stderr",
     "output_type": "stream",
     "text": [
      "\n"
     ]
    }
   ],
   "source": [
    "\n",
    "# Case 1: Alarm = True\n",
    "EAJ: DiscreteFactor = elim.query(variables = [JohnCalls.var], evidence = {Alarm.var: 'True'})\n",
    "EAJ_1 = elim.query(variables = [JohnCalls.var], evidence = {Alarm.var: 'True', Earthquake.var:'True'})\n",
    "EAJ_2 = elim.query(variables = [JohnCalls.var], evidence = {Alarm.var: 'True', Earthquake.var:'False'})\n",
    "\n",
    "print(EAJ)"
   ]
  },
  {
   "cell_type": "markdown",
   "metadata": {
    "title": "markdown"
   },
   "source": [
    "Through the above steps, we observed some probabilities conditional on some states:\n",
    "$$\n",
    "\\begin{array}{ll}\n",
    "P(\\text{JohnCalls} = \\text{True} \\; | \\; \\text{Alarm} = \\text{True})\n",
    "&= P(\\text{JohnCalls} = \\text{True} \\; | \\; \\text{Alarm} = \\text{True} \\; \\cap \\; \\text{Earthquake} = \\text{True})  \\\\\n",
    "&= P(\\text{JohnCalls} = \\text{True} \\; | \\; \\text{Alarm} = \\text{True} \\; \\cap \\; \\text{Earthquake} = \\text{False}) \\\\\n",
    "&= 0.90\n",
    "\\end{array}\n",
    "$$\n",
    "From probability theory, we know that two random variables $A$ and $B$ are independent if and only if $P(A) = P(A \\; | \\; B)$ (by definition this statement holds for all the states that the random variables $A$ and $B$ can take on).\n",
    "\n",
    "Therefore, the fact that the above probabilities ARE the same implies the random variables `JohnCalls` and `Earthquake` are independent when having observed `Alarm = True`. This is expressed in probability notation as follows:\n",
    "$$\n",
    "P(\\text{JohnCalls} \\; | \\; \\text{Alarm = True}) = P(\\text{JohnCalls} \\; | \\; \\text{Earthquake} \\cap \\text{Alarm = True})\n",
    "$$\n",
    "\n",
    "Using pgmpy, we can access the previously calculated probabilites using the `.values` accessor to assert the probabilities ARE equal, which asserts that the random variables `JohnCalls` and `Earthquake` are independent (given `Alarm = True`):"
   ]
  },
  {
   "cell_type": "code",
   "execution_count": 40,
   "metadata": {
    "title": "codecell"
   },
   "outputs": [],
   "source": [
    "\n",
    "assert (EAJ.values == EAJ_1.values).all() and (EAJ.values == EAJ_2.values).all(), \"Check: random variables Earthquake and JohnCalls are independent when Alarm state is observed (e.g. Alarm = True)\"\n",
    "\n"
   ]
  },
  {
   "cell_type": "markdown",
   "metadata": {
    "lines_to_next_cell": 0,
    "title": "markdown"
   },
   "source": [
    "Doing the case where `Alarm = True`:"
   ]
  },
  {
   "cell_type": "code",
   "execution_count": 41,
   "metadata": {
    "title": "codecell"
   },
   "outputs": [
    {
     "name": "stderr",
     "output_type": "stream",
     "text": [
      "\r",
      "  0%|          | 0/3 [00:00<?, ?it/s]"
     ]
    },
    {
     "name": "stderr",
     "output_type": "stream",
     "text": [
      "\r",
      "Finding Elimination Order: :   0%|          | 0/3 [00:00<?, ?it/s]"
     ]
    },
    {
     "name": "stderr",
     "output_type": "stream",
     "text": [
      "\r",
      "Finding Elimination Order: : 100%|██████████| 3/3 [00:00<00:00, 377.29it/s]"
     ]
    },
    {
     "name": "stderr",
     "output_type": "stream",
     "text": [
      "\n"
     ]
    },
    {
     "name": "stderr",
     "output_type": "stream",
     "text": [
      "\r",
      "  0%|          | 0/3 [00:00<?, ?it/s]"
     ]
    },
    {
     "name": "stderr",
     "output_type": "stream",
     "text": [
      "\r",
      "Eliminating: Earthquake:   0%|          | 0/3 [00:00<?, ?it/s]"
     ]
    },
    {
     "name": "stderr",
     "output_type": "stream",
     "text": [
      "\r",
      "Eliminating: MaryCalls:   0%|          | 0/3 [00:00<?, ?it/s] "
     ]
    },
    {
     "name": "stderr",
     "output_type": "stream",
     "text": [
      "\r",
      "Eliminating: Burglary:   0%|          | 0/3 [00:00<?, ?it/s] "
     ]
    },
    {
     "name": "stderr",
     "output_type": "stream",
     "text": [
      "\r",
      "Eliminating: Burglary: 100%|██████████| 3/3 [00:00<00:00, 182.09it/s]"
     ]
    },
    {
     "name": "stderr",
     "output_type": "stream",
     "text": [
      "\n"
     ]
    },
    {
     "name": "stderr",
     "output_type": "stream",
     "text": [
      "\r",
      "  0%|          | 0/2 [00:00<?, ?it/s]"
     ]
    },
    {
     "name": "stderr",
     "output_type": "stream",
     "text": [
      "\r",
      "Finding Elimination Order: :   0%|          | 0/2 [00:00<?, ?it/s]"
     ]
    },
    {
     "name": "stderr",
     "output_type": "stream",
     "text": [
      "\r",
      "Finding Elimination Order: : 100%|██████████| 2/2 [00:00<00:00, 446.54it/s]"
     ]
    },
    {
     "name": "stderr",
     "output_type": "stream",
     "text": [
      "\n",
      "\r",
      "  0%|          | 0/2 [00:00<?, ?it/s]"
     ]
    },
    {
     "name": "stderr",
     "output_type": "stream",
     "text": [
      "\r",
      "Eliminating: MaryCalls:   0%|          | 0/2 [00:00<?, ?it/s]"
     ]
    },
    {
     "name": "stderr",
     "output_type": "stream",
     "text": [
      "\r",
      "Eliminating: Burglary:   0%|          | 0/2 [00:00<?, ?it/s] "
     ]
    },
    {
     "name": "stderr",
     "output_type": "stream",
     "text": [
      "\r",
      "Eliminating: Burglary: 100%|██████████| 2/2 [00:00<00:00, 424.61it/s]"
     ]
    },
    {
     "name": "stderr",
     "output_type": "stream",
     "text": [
      "\n",
      "\r",
      "  0%|          | 0/2 [00:00<?, ?it/s]"
     ]
    },
    {
     "name": "stderr",
     "output_type": "stream",
     "text": [
      "\r",
      "Finding Elimination Order: :   0%|          | 0/2 [00:00<?, ?it/s]"
     ]
    },
    {
     "name": "stderr",
     "output_type": "stream",
     "text": [
      "\r",
      "Finding Elimination Order: : 100%|██████████| 2/2 [00:00<00:00, 826.55it/s]"
     ]
    },
    {
     "name": "stderr",
     "output_type": "stream",
     "text": [
      "\n",
      "\r",
      "  0%|          | 0/2 [00:00<?, ?it/s]"
     ]
    },
    {
     "name": "stderr",
     "output_type": "stream",
     "text": [
      "\r",
      "Eliminating: MaryCalls:   0%|          | 0/2 [00:00<?, ?it/s]"
     ]
    },
    {
     "name": "stderr",
     "output_type": "stream",
     "text": [
      "\r",
      "Eliminating: Burglary:   0%|          | 0/2 [00:00<?, ?it/s] "
     ]
    },
    {
     "name": "stderr",
     "output_type": "stream",
     "text": [
      "\r",
      "Eliminating: Burglary: 100%|██████████| 2/2 [00:00<00:00, 521.32it/s]"
     ]
    },
    {
     "name": "stdout",
     "output_type": "stream",
     "text": [
      "+------------------+------------------+\n",
      "| JohnCalls        |   phi(JohnCalls) |\n",
      "+==================+==================+\n",
      "| JohnCalls(True)  |           0.0500 |\n",
      "+------------------+------------------+\n",
      "| JohnCalls(False) |           0.9500 |\n",
      "+------------------+------------------+\n"
     ]
    },
    {
     "name": "stderr",
     "output_type": "stream",
     "text": [
      "\n"
     ]
    }
   ],
   "source": [
    "# Case 2: Alarm = False\n",
    "EAJ: DiscreteFactor = elim.query(variables = [JohnCalls.var], evidence = {Alarm.var: 'False'})\n",
    "EAJ_1 = elim.query(variables = [JohnCalls.var], evidence = {Alarm.var: 'False', Earthquake.var:'True'})\n",
    "EAJ_2 = elim.query(variables = [JohnCalls.var], evidence = {Alarm.var: 'False', Earthquake.var:'False'})\n",
    "\n",
    "print(EAJ)"
   ]
  },
  {
   "cell_type": "markdown",
   "metadata": {
    "lines_to_next_cell": 0,
    "title": "markdown"
   },
   "source": [
    "Through the above steps, we observed some probabilities conditional on some states:\n",
    "$$\n",
    "\\begin{array}{ll}\n",
    "P(\\text{JohnCalls} = \\text{True} \\; | \\; \\text{Alarm} = \\text{False})\n",
    "&= P(\\text{JohnCalls} = \\text{True} \\; | \\; \\text{Alarm} = \\text{False} \\; \\cap \\; \\text{Earthquake} = \\text{True})  \\\\\n",
    "&= P(\\text{JohnCalls} = \\text{True} \\; | \\; \\text{Alarm} = \\text{False} \\; \\cap \\; \\text{Earthquake} = \\text{False}) \\\\\n",
    "&= 0.05\n",
    "\\end{array}\n",
    "$$\n",
    "From probability theory, we know that two random variables $A$ and $B$ are independent if and only if $P(A) = P(A \\; | \\; B)$ (by definition this statement holds for all the states that the random variables $A$ and $B$ can take on).\n",
    "\n",
    "Therefore, the fact that the above probabilities ARE the same implies the random variables `JohnCalls` and `Earthquake` are independent when having observed `Alarm = False`. This is expressed in probability notation as follows:\n",
    "$$\n",
    "P(\\text{JohnCalls} \\; | \\; \\text{Alarm = False}) = P(\\text{JohnCalls} \\; | \\; \\text{Earthquake} \\cap \\text{Alarm = False})\n",
    "$$\n",
    "\n",
    "Using pgmpy, we can access the previously calculated probabilites using the `.values` accessor to assert the probabilities ARE equal, which asserts that the random variables `JohnCalls` and `Earthquake` are independent (given `Alarm = False`)"
   ]
  },
  {
   "cell_type": "code",
   "execution_count": 42,
   "metadata": {
    "title": "codecell"
   },
   "outputs": [],
   "source": [
    "assert (EAJ.values == EAJ_1.values).all() and (EAJ.values == EAJ_2.values).all(), \"Check: Earthquake and JohnCalls are independent, given that Alarm state is observed (e.g. Alarm = False)\"\n",
    "\n"
   ]
  },
  {
   "cell_type": "markdown",
   "metadata": {
    "title": "markdown"
   },
   "source": [
    "* Comment: comparing the probabilities obtained from the two cases `Alarm = True` and `Alarm = False`, we see that the probability of John calling when there is an `Alarm` is higher ($P(\\text{JohnCalls} = \\text{True} \\; | \\; \\text{Alarm} = \\text{True}) = 0.90$) than when there is no `Alarm` ringing ($P(\\text{JohnCalls} = \\text{True} \\; | \\; \\text{Alarm} = \\text{False}) = 0.05$).\n",
    "\n",
    "\n",
    "\n",
    "\n",
    "\n",
    "\n"
   ]
  },
  {
   "cell_type": "markdown",
   "metadata": {
    "title": "markdown"
   },
   "source": [
    "### 2. Evidential Reasoning in the Alarm Model\n",
    "For an evidential model $A \\leftarrow B \\leftarrow C$, there are two cases:\n",
    "  * **Marginal Dependence:** ($B$ unobserved): When $B$ is unobserved, there is an active trail between $A$  and $C$, meaning the probability of $A$ can influence probability of $C$ (and vice versa).\n",
    "  * **Conditional Independence:** ($B$ observed): When $B$ is fixed, there is NO active trail between $A$ and $C$, so they are independent. The probability of $A$ won't influence probability of $C$ (and vice versa) when $B$'s state is observed."
   ]
  },
  {
   "cell_type": "code",
   "execution_count": 43,
   "metadata": {
    "lines_to_next_cell": 0,
    "title": "codecell"
   },
   "outputs": [
    {
     "data": {
      "image/svg+xml": [
       "<?xml version=\"1.0\" encoding=\"UTF-8\" standalone=\"no\"?>\n",
       "<!DOCTYPE svg PUBLIC \"-//W3C//DTD SVG 1.1//EN\"\n",
       " \"http://www.w3.org/Graphics/SVG/1.1/DTD/svg11.dtd\">\n",
       "<!-- Generated by graphviz version 2.38.0 (20140413.2041)\n",
       " -->\n",
       "<!-- Title: G Pages: 1 -->\n",
       "<svg width=\"214pt\" height=\"188pt\"\n",
       " viewBox=\"0.00 0.00 214.18 188.00\" xmlns=\"http://www.w3.org/2000/svg\" xmlns:xlink=\"http://www.w3.org/1999/xlink\">\n",
       "<g id=\"graph0\" class=\"graph\" transform=\"scale(1 1) rotate(0) translate(4 184)\">\n",
       "<title>G</title>\n",
       "<polygon fill=\"white\" stroke=\"none\" points=\"-4,4 -4,-184 210.185,-184 210.185,4 -4,4\"/>\n",
       "<!-- Burglary -->\n",
       "<g id=\"node1\" class=\"node\"><title>Burglary</title>\n",
       "<defs>\n",
       "<linearGradient id=\"l_0\" gradientUnits=\"userSpaceOnUse\" x1=\"41.8599\" y1=\"-144\" x2=\"41.8599\" y2=\"-180\" >\n",
       "<stop offset=\"0\" style=\"stop-color:#ceccff;stop-opacity:1.;\"/>\n",
       "<stop offset=\"1\" style=\"stop-color:white;stop-opacity:1.;\"/>\n",
       "</linearGradient>\n",
       "</defs>\n",
       "<ellipse fill=\"url(#l_0)\" stroke=\"#ff638d\" cx=\"41.8599\" cy=\"-162\" rx=\"41.7203\" ry=\"18\"/>\n",
       "<text text-anchor=\"middle\" x=\"41.8599\" y=\"-158.9\" font-family=\"Acme-Regular.ttf\" font-size=\"12.00\">Burglary</text>\n",
       "</g>\n",
       "<!-- Alarm -->\n",
       "<g id=\"node2\" class=\"node\"><title>Alarm</title>\n",
       "<defs>\n",
       "<linearGradient id=\"l_1\" gradientUnits=\"userSpaceOnUse\" x1=\"97.8599\" y1=\"-72\" x2=\"97.8599\" y2=\"-108\" >\n",
       "<stop offset=\"0\" style=\"stop-color:#ceccff;stop-opacity:1.;\"/>\n",
       "<stop offset=\"1\" style=\"stop-color:white;stop-opacity:1.;\"/>\n",
       "</linearGradient>\n",
       "</defs>\n",
       "<ellipse fill=\"url(#l_1)\" stroke=\"#ff638d\" cx=\"97.8599\" cy=\"-90\" rx=\"32.7527\" ry=\"18\"/>\n",
       "<text text-anchor=\"middle\" x=\"97.8599\" y=\"-86.9\" font-family=\"Acme-Regular.ttf\" font-size=\"12.00\">Alarm</text>\n",
       "</g>\n",
       "<!-- Burglary&#45;&gt;Alarm -->\n",
       "<g id=\"edge1\" class=\"edge\"><title>Burglary&#45;&gt;Alarm</title>\n",
       "<path fill=\"none\" stroke=\"#ff638d\" d=\"M54.8482,-144.765C62.0171,-135.804 71.05,-124.512 78.985,-114.594\"/>\n",
       "<polygon fill=\"#ff638d\" stroke=\"#ff638d\" points=\"81.8134,-116.661 85.3273,-106.666 76.3473,-112.288 81.8134,-116.661\"/>\n",
       "</g>\n",
       "<!-- JohnCalls -->\n",
       "<g id=\"node3\" class=\"node\"><title>JohnCalls</title>\n",
       "<defs>\n",
       "<linearGradient id=\"l_2\" gradientUnits=\"userSpaceOnUse\" x1=\"44.8599\" y1=\"-1.77636e-14\" x2=\"44.8599\" y2=\"-36\" >\n",
       "<stop offset=\"0\" style=\"stop-color:#ceccff;stop-opacity:1.;\"/>\n",
       "<stop offset=\"1\" style=\"stop-color:white;stop-opacity:1.;\"/>\n",
       "</linearGradient>\n",
       "</defs>\n",
       "<ellipse fill=\"url(#l_2)\" stroke=\"#ff638d\" cx=\"44.8599\" cy=\"-18\" rx=\"43.9143\" ry=\"18\"/>\n",
       "<text text-anchor=\"middle\" x=\"44.8599\" y=\"-14.9\" font-family=\"Acme-Regular.ttf\" font-size=\"12.00\">JohnCalls</text>\n",
       "</g>\n",
       "<!-- Alarm&#45;&gt;JohnCalls -->\n",
       "<g id=\"edge2\" class=\"edge\"><title>Alarm&#45;&gt;JohnCalls</title>\n",
       "<path fill=\"none\" stroke=\"#ff638d\" d=\"M85.8334,-73.1159C79.2193,-64.3803 70.8699,-53.3528 63.4366,-43.5352\"/>\n",
       "<polygon fill=\"#ff638d\" stroke=\"#ff638d\" points=\"66.0335,-41.1669 57.2066,-35.307 60.4527,-45.3923 66.0335,-41.1669\"/>\n",
       "</g>\n",
       "<!-- MaryCalls -->\n",
       "<g id=\"node4\" class=\"node\"><title>MaryCalls</title>\n",
       "<defs>\n",
       "<linearGradient id=\"l_3\" gradientUnits=\"userSpaceOnUse\" x1=\"151.86\" y1=\"-1.77636e-14\" x2=\"151.86\" y2=\"-36\" >\n",
       "<stop offset=\"0\" style=\"stop-color:#ceccff;stop-opacity:1.;\"/>\n",
       "<stop offset=\"1\" style=\"stop-color:white;stop-opacity:1.;\"/>\n",
       "</linearGradient>\n",
       "</defs>\n",
       "<ellipse fill=\"url(#l_3)\" stroke=\"#ff638d\" cx=\"151.86\" cy=\"-18\" rx=\"45.6069\" ry=\"18\"/>\n",
       "<text text-anchor=\"middle\" x=\"151.86\" y=\"-14.9\" font-family=\"Acme-Regular.ttf\" font-size=\"12.00\">MaryCalls</text>\n",
       "</g>\n",
       "<!-- Alarm&#45;&gt;MaryCalls -->\n",
       "<g id=\"edge3\" class=\"edge\"><title>Alarm&#45;&gt;MaryCalls</title>\n",
       "<path fill=\"none\" stroke=\"#ff638d\" d=\"M110.113,-73.1159C116.92,-64.292 125.531,-53.1298 133.162,-43.238\"/>\n",
       "<polygon fill=\"#ff638d\" stroke=\"#ff638d\" points=\"135.943,-45.3627 139.28,-35.307 130.401,-41.087 135.943,-45.3627\"/>\n",
       "</g>\n",
       "<!-- Earthquake -->\n",
       "<g id=\"node5\" class=\"node\"><title>Earthquake</title>\n",
       "<defs>\n",
       "<linearGradient id=\"l_4\" gradientUnits=\"userSpaceOnUse\" x1=\"153.86\" y1=\"-144\" x2=\"153.86\" y2=\"-180\" >\n",
       "<stop offset=\"0\" style=\"stop-color:#ceccff;stop-opacity:1.;\"/>\n",
       "<stop offset=\"1\" style=\"stop-color:white;stop-opacity:1.;\"/>\n",
       "</linearGradient>\n",
       "</defs>\n",
       "<ellipse fill=\"url(#l_4)\" stroke=\"#ff638d\" cx=\"153.86\" cy=\"-162\" rx=\"52.1504\" ry=\"18\"/>\n",
       "<text text-anchor=\"middle\" x=\"153.86\" y=\"-158.9\" font-family=\"Acme-Regular.ttf\" font-size=\"12.00\">Earthquake</text>\n",
       "</g>\n",
       "<!-- Earthquake&#45;&gt;Alarm -->\n",
       "<g id=\"edge4\" class=\"edge\"><title>Earthquake&#45;&gt;Alarm</title>\n",
       "<path fill=\"none\" stroke=\"#ff638d\" d=\"M140.589,-144.411C133.584,-135.655 124.861,-124.751 117.126,-115.082\"/>\n",
       "<polygon fill=\"#ff638d\" stroke=\"#ff638d\" points=\"119.63,-112.61 110.65,-106.988 114.164,-116.983 119.63,-112.61\"/>\n",
       "</g>\n",
       "</g>\n",
       "</svg>\n"
      ],
      "text/plain": [
       "<graphviz.dot.Digraph at 0x7fa836b19f90>"
      ]
     },
     "execution_count": 43,
     "metadata": {},
     "output_type": "execute_result"
    }
   ],
   "source": [
    "pgmpyToGraph(alarmModel)"
   ]
  },
  {
   "cell_type": "markdown",
   "metadata": {
    "lines_to_next_cell": 2,
    "title": "markdown"
   },
   "source": [
    "### Case 1: Marginal Dependence (for Evidential Model)\n",
    "\n",
    "$$\n",
    "\\color{Green}{ \\text{Alarm (unobserved): }\\;\\;\\;\\;\\;\\;\\;\\;\\; \\text{Burglary} \\longleftarrow \\text{Alarm} \\longleftarrow\n",
    "\\text{MaryCalls}}\n",
    "$$\n",
    "Given that the state of `Alarm` is unobserved, we can make the following equivalent statements:\n",
    "* there IS an active trail between `Burglary` and `MaryCalls`.\n",
    "* the random variables `Burglary` and `MaryCalls` are dependent.\n",
    "* the probability of `Burglary` can influence probability of `MaryCalls` (and vice versa).\n",
    "\n",
    "\n",
    "$$\n",
    "\\color{Green}{ \\text{Alarm (unobserved): }\\;\\;\\;\\;\\;\\;\\;\\;\\; \\text{Burglary} \\longleftarrow \\text{Alarm} \\longleftarrow \\text{JohnCalls}}\n",
    "$$\n",
    "Given that the state of `Alarm` is unobserved, we can make the following equivalent statements:\n",
    "* there IS an active trail between `Burglary` and `JohnCalls`.\n",
    "* the random variables `Burglary` and `JohnCalls` are dependent.\n",
    "* the probability of `Burglary` can influence probability of `JohnCalls` (and vice versa).\n",
    "\n",
    "$$\n",
    "\\color{Green}{ \\text{Alarm (unobserved): }\\;\\;\\;\\;\\;\\;\\;\\;\\; \\text{Earthquake} \\longleftarrow \\text{Alarm} \\longleftarrow \\text{MaryCalls}}\n",
    "$$\n",
    "Given that the state of `Alarm` is unobserved, we can make the following equivalent statements:\n",
    "* there IS an active trail between `Earthquake` and `MaryCalls`.\n",
    "* the random variables `Earthquake` and `MaryCalls` are dependent.\n",
    "* the probability of `Earthquake` can influence probability of `MaryCalls` (and vice versa).\n",
    "\n",
    "$$\n",
    "\\color{Green}{ \\text{Alarm (unobserved): }\\;\\;\\;\\;\\;\\;\\;\\;\\; \\text{Earthquake} \\longleftarrow \\text{Alarm} \\longleftarrow \\text{JohnCalls}}\n",
    "$$\n",
    "Given that the state of `Alarm` is unobserved, we can make the following equivalent statements:\n",
    "* there IS an active trail between `Earthquake` and `JohnCalls`.\n",
    "* the random variables `Earthquake` and `JohnCalls` are dependent.\n",
    "* the probability of `Earthquake` can influence probability of `JohnCalls` (and vice versa)."
   ]
  },
  {
   "cell_type": "markdown",
   "metadata": {
    "lines_to_next_cell": 0,
    "title": "markdown"
   },
   "source": [
    "**Verify:** Using Active Trails"
   ]
  },
  {
   "cell_type": "code",
   "execution_count": 44,
   "metadata": {
    "lines_to_next_cell": 2,
    "title": "codecell"
   },
   "outputs": [
    {
     "name": "stdout",
     "output_type": "stream",
     "text": [
      "MaryCalls --> JohnCalls\n",
      "MaryCalls --> Alarm\n",
      "MaryCalls --> Earthquake\n",
      "MaryCalls --> Burglary\n",
      "MaryCalls --> MaryCalls\n",
      "Burglary --> JohnCalls\n",
      "Burglary --> Burglary\n",
      "Burglary --> Alarm\n",
      "Burglary --> MaryCalls\n"
     ]
    }
   ],
   "source": [
    "assert alarmModel.is_active_trail(start = MaryCalls.var, end = Burglary.var,  observed = None)\n",
    "assert alarmModel.is_active_trail(start = MaryCalls.var, end = Earthquake.var, observed = None)\n",
    "assert alarmModel.is_active_trail(start = JohnCalls.var, end = Burglary.var, observed = None)\n",
    "assert alarmModel.is_active_trail(start = JohnCalls.var, end = Earthquake.var, observed = None)\n",
    "\n",
    "showActiveTrails(model = alarmModel, variables = [MaryCalls.var, Burglary.var])"
   ]
  },
  {
   "cell_type": "markdown",
   "metadata": {
    "lines_to_next_cell": 0,
    "title": "markdown"
   },
   "source": [
    "**Verify:** Using Probabilities (example of $B \\leftarrow A \\leftarrow J$ trail)\n",
    "* **NOTE:** Evidential Reasoning For Evidential Model:"
   ]
  },
  {
   "cell_type": "code",
   "execution_count": 45,
   "metadata": {
    "title": "codecell"
   },
   "outputs": [
    {
     "name": "stderr",
     "output_type": "stream",
     "text": [
      "\r",
      "  0%|          | 0/4 [00:00<?, ?it/s]"
     ]
    },
    {
     "name": "stderr",
     "output_type": "stream",
     "text": [
      "\r",
      "Finding Elimination Order: :   0%|          | 0/4 [00:00<?, ?it/s]"
     ]
    },
    {
     "name": "stderr",
     "output_type": "stream",
     "text": [
      "\r",
      "Finding Elimination Order: : 100%|██████████| 4/4 [00:00<00:00, 1688.36it/s]"
     ]
    },
    {
     "name": "stderr",
     "output_type": "stream",
     "text": [
      "\n",
      "\r",
      "  0%|          | 0/4 [00:00<?, ?it/s]"
     ]
    },
    {
     "name": "stderr",
     "output_type": "stream",
     "text": [
      "\r",
      "Eliminating: JohnCalls:   0%|          | 0/4 [00:00<?, ?it/s]"
     ]
    },
    {
     "name": "stderr",
     "output_type": "stream",
     "text": [
      "\r",
      "Eliminating: Earthquake:   0%|          | 0/4 [00:00<?, ?it/s]"
     ]
    },
    {
     "name": "stderr",
     "output_type": "stream",
     "text": [
      "\r",
      "Eliminating: Alarm:   0%|          | 0/4 [00:00<?, ?it/s]     "
     ]
    },
    {
     "name": "stderr",
     "output_type": "stream",
     "text": [
      "\r",
      "Eliminating: MaryCalls:   0%|          | 0/4 [00:00<?, ?it/s]"
     ]
    },
    {
     "name": "stderr",
     "output_type": "stream",
     "text": [
      "\r",
      "Eliminating: MaryCalls: 100%|██████████| 4/4 [00:00<00:00, 373.76it/s]"
     ]
    },
    {
     "name": "stdout",
     "output_type": "stream",
     "text": [
      "+-----------------+-----------------+\n",
      "| Burglary        |   phi(Burglary) |\n",
      "+=================+=================+\n",
      "| Burglary(True)  |          0.0010 |\n",
      "+-----------------+-----------------+\n",
      "| Burglary(False) |          0.9990 |\n",
      "+-----------------+-----------------+\n"
     ]
    },
    {
     "name": "stderr",
     "output_type": "stream",
     "text": [
      "\n"
     ]
    }
   ],
   "source": [
    "JB: DiscreteFactor = elim.query(variables = [Burglary.var], evidence = None)\n",
    "print(JB)"
   ]
  },
  {
   "cell_type": "code",
   "execution_count": 46,
   "metadata": {
    "lines_to_next_cell": 0,
    "title": "codecell"
   },
   "outputs": [
    {
     "name": "stderr",
     "output_type": "stream",
     "text": [
      "\r",
      "  0%|          | 0/3 [00:00<?, ?it/s]"
     ]
    },
    {
     "name": "stderr",
     "output_type": "stream",
     "text": [
      "\r",
      "Finding Elimination Order: :   0%|          | 0/3 [00:00<?, ?it/s]"
     ]
    },
    {
     "name": "stderr",
     "output_type": "stream",
     "text": [
      "\r",
      "Finding Elimination Order: : 100%|██████████| 3/3 [00:00<00:00, 1277.58it/s]"
     ]
    },
    {
     "name": "stderr",
     "output_type": "stream",
     "text": [
      "\n",
      "\r",
      "  0%|          | 0/3 [00:00<?, ?it/s]"
     ]
    },
    {
     "name": "stderr",
     "output_type": "stream",
     "text": [
      "\r",
      "Eliminating: Earthquake:   0%|          | 0/3 [00:00<?, ?it/s]"
     ]
    },
    {
     "name": "stderr",
     "output_type": "stream",
     "text": [
      "\r",
      "Eliminating: MaryCalls:   0%|          | 0/3 [00:00<?, ?it/s] "
     ]
    },
    {
     "name": "stderr",
     "output_type": "stream",
     "text": [
      "\r",
      "Eliminating: Alarm:   0%|          | 0/3 [00:00<?, ?it/s]    "
     ]
    },
    {
     "name": "stderr",
     "output_type": "stream",
     "text": [
      "\r",
      "Eliminating: Alarm: 100%|██████████| 3/3 [00:00<00:00, 342.64it/s]"
     ]
    },
    {
     "name": "stdout",
     "output_type": "stream",
     "text": [
      "+-----------------+-----------------+\n",
      "| Burglary        |   phi(Burglary) |\n",
      "+=================+=================+\n",
      "| Burglary(True)  |          0.0163 |\n",
      "+-----------------+-----------------+\n",
      "| Burglary(False) |          0.9837 |\n",
      "+-----------------+-----------------+\n"
     ]
    },
    {
     "name": "stderr",
     "output_type": "stream",
     "text": [
      "\n"
     ]
    }
   ],
   "source": [
    "JB_1 = elim.query(variables = [Burglary.var], evidence = {JohnCalls.var:'True'})\n",
    "print(JB_1)"
   ]
  },
  {
   "cell_type": "markdown",
   "metadata": {
    "lines_to_next_cell": 0,
    "title": "markdown"
   },
   "source": [
    "Below we see that when `JohnCalls` does not occur and no `Alarm` was observed, there is a lower probability of `Burglary`, compared to when neither `Alarm` nor `JohnCalls` were observed:\n",
    "$$\n",
    "P(\\text{Burglary} = \\text{True} \\; | \\; \\text{JohnCalls} = \\text{False}) = 0.9937\n",
    "$$"
   ]
  },
  {
   "cell_type": "code",
   "execution_count": 47,
   "metadata": {
    "lines_to_next_cell": 0,
    "title": "codecell"
   },
   "outputs": [
    {
     "name": "stderr",
     "output_type": "stream",
     "text": [
      "\r",
      "  0%|          | 0/3 [00:00<?, ?it/s]"
     ]
    },
    {
     "name": "stderr",
     "output_type": "stream",
     "text": [
      "\r",
      "Finding Elimination Order: :   0%|          | 0/3 [00:00<?, ?it/s]"
     ]
    },
    {
     "name": "stderr",
     "output_type": "stream",
     "text": [
      "\r",
      "Finding Elimination Order: : 100%|██████████| 3/3 [00:00<00:00, 1594.19it/s]"
     ]
    },
    {
     "name": "stderr",
     "output_type": "stream",
     "text": [
      "\n",
      "\r",
      "  0%|          | 0/3 [00:00<?, ?it/s]"
     ]
    },
    {
     "name": "stderr",
     "output_type": "stream",
     "text": [
      "\r",
      "Eliminating: Earthquake:   0%|          | 0/3 [00:00<?, ?it/s]"
     ]
    },
    {
     "name": "stderr",
     "output_type": "stream",
     "text": [
      "\r",
      "Eliminating: MaryCalls:   0%|          | 0/3 [00:00<?, ?it/s] "
     ]
    },
    {
     "name": "stderr",
     "output_type": "stream",
     "text": [
      "\r",
      "Eliminating: Alarm:   0%|          | 0/3 [00:00<?, ?it/s]    "
     ]
    },
    {
     "name": "stderr",
     "output_type": "stream",
     "text": [
      "\r",
      "Eliminating: Alarm: 100%|██████████| 3/3 [00:00<00:00, 468.99it/s]"
     ]
    },
    {
     "name": "stdout",
     "output_type": "stream",
     "text": [
      "+-----------------+-----------------+\n",
      "| Burglary        |   phi(Burglary) |\n",
      "+=================+=================+\n",
      "| Burglary(True)  |          0.0002 |\n",
      "+-----------------+-----------------+\n",
      "| Burglary(False) |          0.9998 |\n",
      "+-----------------+-----------------+\n"
     ]
    },
    {
     "name": "stderr",
     "output_type": "stream",
     "text": [
      "\n"
     ]
    }
   ],
   "source": [
    "JB_2 = elim.query(variables = [Burglary.var], evidence = {JohnCalls.var:'False'})\n",
    "print(JB_2)"
   ]
  },
  {
   "cell_type": "code",
   "execution_count": 48,
   "metadata": {
    "lines_to_next_cell": 2,
    "title": "codecell"
   },
   "outputs": [],
   "source": [
    "assert (JB.values != JB_1.values).all() and (JB.values != JB_2.values).all(), \"Check there is dependency between Burglary and JohnCalls, when Alarm state is unobserved \""
   ]
  },
  {
   "cell_type": "markdown",
   "metadata": {
    "lines_to_next_cell": 0,
    "title": "markdown"
   },
   "source": [
    "**Verify:** Using Probabilities (example of $E \\leftarrow A \\leftarrow J$ trail)\n",
    "* **NOTE:** Evidential Reasoning For Evidential Model:"
   ]
  },
  {
   "cell_type": "code",
   "execution_count": 49,
   "metadata": {
    "title": "codecell"
   },
   "outputs": [
    {
     "name": "stderr",
     "output_type": "stream",
     "text": [
      "\r",
      "  0%|          | 0/4 [00:00<?, ?it/s]"
     ]
    },
    {
     "name": "stderr",
     "output_type": "stream",
     "text": [
      "\r",
      "Finding Elimination Order: :   0%|          | 0/4 [00:00<?, ?it/s]"
     ]
    },
    {
     "name": "stderr",
     "output_type": "stream",
     "text": [
      "\r",
      "Finding Elimination Order: : 100%|██████████| 4/4 [00:00<00:00, 1550.72it/s]"
     ]
    },
    {
     "name": "stderr",
     "output_type": "stream",
     "text": [
      "\n",
      "\r",
      "  0%|          | 0/4 [00:00<?, ?it/s]"
     ]
    },
    {
     "name": "stderr",
     "output_type": "stream",
     "text": [
      "\r",
      "Eliminating: JohnCalls:   0%|          | 0/4 [00:00<?, ?it/s]"
     ]
    },
    {
     "name": "stderr",
     "output_type": "stream",
     "text": [
      "\r",
      "Eliminating: Burglary:   0%|          | 0/4 [00:00<?, ?it/s] "
     ]
    },
    {
     "name": "stderr",
     "output_type": "stream",
     "text": [
      "\r",
      "Eliminating: Alarm:   0%|          | 0/4 [00:00<?, ?it/s]   "
     ]
    },
    {
     "name": "stderr",
     "output_type": "stream",
     "text": [
      "\r",
      "Eliminating: MaryCalls:   0%|          | 0/4 [00:00<?, ?it/s]"
     ]
    },
    {
     "name": "stderr",
     "output_type": "stream",
     "text": [
      "\r",
      "Eliminating: MaryCalls: 100%|██████████| 4/4 [00:00<00:00, 510.19it/s]"
     ]
    },
    {
     "name": "stdout",
     "output_type": "stream",
     "text": [
      "+-------------------+-------------------+\n",
      "| Earthquake        |   phi(Earthquake) |\n",
      "+===================+===================+\n",
      "| Earthquake(True)  |            0.0020 |\n",
      "+-------------------+-------------------+\n",
      "| Earthquake(False) |            0.9980 |\n",
      "+-------------------+-------------------+\n"
     ]
    },
    {
     "name": "stderr",
     "output_type": "stream",
     "text": [
      "\n"
     ]
    }
   ],
   "source": [
    "JE: DiscreteFactor = elim.query(variables = [Earthquake.var], evidence = None)\n",
    "print(JE)"
   ]
  },
  {
   "cell_type": "code",
   "execution_count": 50,
   "metadata": {
    "lines_to_next_cell": 0,
    "title": "codecell"
   },
   "outputs": [
    {
     "name": "stderr",
     "output_type": "stream",
     "text": [
      "\r",
      "  0%|          | 0/3 [00:00<?, ?it/s]"
     ]
    },
    {
     "name": "stderr",
     "output_type": "stream",
     "text": [
      "\r",
      "Finding Elimination Order: :   0%|          | 0/3 [00:00<?, ?it/s]"
     ]
    },
    {
     "name": "stderr",
     "output_type": "stream",
     "text": [
      "\r",
      "Finding Elimination Order: : 100%|██████████| 3/3 [00:00<00:00, 1013.93it/s]"
     ]
    },
    {
     "name": "stderr",
     "output_type": "stream",
     "text": [
      "\n",
      "\r",
      "  0%|          | 0/3 [00:00<?, ?it/s]"
     ]
    },
    {
     "name": "stderr",
     "output_type": "stream",
     "text": [
      "\r",
      "Eliminating: Burglary:   0%|          | 0/3 [00:00<?, ?it/s]"
     ]
    },
    {
     "name": "stderr",
     "output_type": "stream",
     "text": [
      "\r",
      "Eliminating: MaryCalls:   0%|          | 0/3 [00:00<?, ?it/s]"
     ]
    },
    {
     "name": "stderr",
     "output_type": "stream",
     "text": [
      "\r",
      "Eliminating: Alarm:   0%|          | 0/3 [00:00<?, ?it/s]    "
     ]
    },
    {
     "name": "stderr",
     "output_type": "stream",
     "text": [
      "\r",
      "Eliminating: Alarm: 100%|██████████| 3/3 [00:00<00:00, 481.72it/s]"
     ]
    },
    {
     "name": "stdout",
     "output_type": "stream",
     "text": [
      "+-------------------+-------------------+\n",
      "| Earthquake        |   phi(Earthquake) |\n",
      "+===================+===================+\n",
      "| Earthquake(True)  |            0.0114 |\n",
      "+-------------------+-------------------+\n",
      "| Earthquake(False) |            0.9886 |\n",
      "+-------------------+-------------------+\n"
     ]
    },
    {
     "name": "stderr",
     "output_type": "stream",
     "text": [
      "\n"
     ]
    }
   ],
   "source": [
    "JE_1 = elim.query(variables = [Earthquake.var], evidence = {JohnCalls.var:'True'})\n",
    "print(JE_1)"
   ]
  },
  {
   "cell_type": "markdown",
   "metadata": {
    "lines_to_next_cell": 0,
    "title": "markdown"
   },
   "source": [
    "Below we see that when `JohnCalls` does not occur and no `Alarm` was not observed, there is a lower probability of `Earthquake`, compared to when John did call and `Alarm` was not observed:\n",
    "$$\n",
    "P(\\text{Earthquake} = \\text{True} \\; | \\; \\text{JohnCalls} = \\text{False}) = 0.0019\n",
    "$$"
   ]
  },
  {
   "cell_type": "code",
   "execution_count": 51,
   "metadata": {
    "lines_to_next_cell": 0,
    "title": "codecell"
   },
   "outputs": [
    {
     "name": "stderr",
     "output_type": "stream",
     "text": [
      "\r",
      "  0%|          | 0/3 [00:00<?, ?it/s]"
     ]
    },
    {
     "name": "stderr",
     "output_type": "stream",
     "text": [
      "\r",
      "Finding Elimination Order: :   0%|          | 0/3 [00:00<?, ?it/s]"
     ]
    },
    {
     "name": "stderr",
     "output_type": "stream",
     "text": [
      "\r",
      "Finding Elimination Order: : 100%|██████████| 3/3 [00:00<00:00, 1339.89it/s]"
     ]
    },
    {
     "name": "stderr",
     "output_type": "stream",
     "text": [
      "\n",
      "\r",
      "  0%|          | 0/3 [00:00<?, ?it/s]"
     ]
    },
    {
     "name": "stderr",
     "output_type": "stream",
     "text": [
      "\r",
      "Eliminating: Burglary:   0%|          | 0/3 [00:00<?, ?it/s]"
     ]
    },
    {
     "name": "stderr",
     "output_type": "stream",
     "text": [
      "\r",
      "Eliminating: MaryCalls:   0%|          | 0/3 [00:00<?, ?it/s]"
     ]
    },
    {
     "name": "stderr",
     "output_type": "stream",
     "text": [
      "\r",
      "Eliminating: Alarm:   0%|          | 0/3 [00:00<?, ?it/s]    "
     ]
    },
    {
     "name": "stderr",
     "output_type": "stream",
     "text": [
      "\r",
      "Eliminating: Alarm: 100%|██████████| 3/3 [00:00<00:00, 529.56it/s]"
     ]
    },
    {
     "name": "stderr",
     "output_type": "stream",
     "text": [
      "\n"
     ]
    },
    {
     "name": "stdout",
     "output_type": "stream",
     "text": [
      "+-------------------+-------------------+\n",
      "| Earthquake        |   phi(Earthquake) |\n",
      "+===================+===================+\n",
      "| Earthquake(True)  |            0.0015 |\n",
      "+-------------------+-------------------+\n",
      "| Earthquake(False) |            0.9985 |\n",
      "+-------------------+-------------------+\n"
     ]
    }
   ],
   "source": [
    "JE_2 = elim.query(variables = [Earthquake.var], evidence = {JohnCalls.var:'False'})\n",
    "print(JE_2)"
   ]
  },
  {
   "cell_type": "code",
   "execution_count": 52,
   "metadata": {
    "title": "codecell"
   },
   "outputs": [],
   "source": [
    "assert (JE.values != JE_1.values).all() and (JE.values != JE_2.values).all(), \"Check there is dependency between \" \\\n",
    "                                                                              \"JohnCalls and Earthquake, when Alarm \" \\\n",
    "                                                                              \"state is unobserved \"\n",
    "\n",
    "\n"
   ]
  },
  {
   "cell_type": "markdown",
   "metadata": {
    "lines_to_next_cell": 0,
    "title": "markdown"
   },
   "source": [
    "### Case 2: Conditional Independence (for Evidential Model)\n",
    "\n",
    "$$\n",
    "\\color{DeepSkyBlue}{ \\text{Alarm (observed): }\\;\\;\\;\\;\\;\\;\\;\\; \\text{Burglary} \\; \\bot \\; \\text{MaryCalls} \\; | \\; \\text{Alarm}}\n",
    "$$\n",
    "When the `Alarm`'s state is known (fixed / observed), then there is NO active trail between `Burglary` and `MaryCalls`. In other words, `Burglary` and `MaryCalls` are locally independent when `Alarm`'s state is observed. This means the probability of `Burglary` won't influence probability of `MaryCalls` (and vice versa) when `Alarm`'s state is observed.\n",
    "\n",
    "$$\n",
    "\\color{DeepSkyBlue}{ \\text{Alarm (observed): }\\;\\;\\;\\;\\;\\;\\;\\; \\text{Burglary} \\; \\bot \\; \\text{JohnCalls} \\; | \\; \\text{Alarm}}\n",
    "$$\n",
    "When the `Alarm`'s state is known (fixed / observed), then there is NO active trail between `Burglary` and `JohnCalls`. In other words, `Burglary` and `JohnCalls` are locally independent when `Alarm`'s state is observed. This means the probability of `Burglary` won't influence probability of `JohnCalls` (and vice versa) when `Alarm`'s state is observed.\n",
    "\n",
    "$$\n",
    "\\color{DeepSkyBlue}{ \\text{Alarm (observed): }\\;\\;\\;\\;\\;\\;\\;\\; \\text{Earthquake} \\; \\bot \\; \\text{MaryCalls} \\; | \\; \\text{Alarm}}\n",
    "$$\n",
    "When the `Alarm`'s state is known (fixed / observed), then there is NO active trail between `Earthquake` and `MaryCalls`. In other words, `Earthquake` and `MaryCalls` are locally independent when `Alarm`'s state is observed. This means the probability of `Earthquake` won't influence probability of `MaryCalls` (and vice versa) when `Alarm`'s state is observed.\n",
    "\n",
    "$$\n",
    "\\color{DeepSkyBlue}{ \\text{Alarm (observed): }\\;\\;\\;\\;\\;\\;\\;\\; \\text{Earthquake} \\; \\bot \\; \\text{JohnCalls} \\; | \\; \\text{Alarm}}\n",
    "$$\n",
    "When the `Alarm`'s state is known (fixed / observed), then there is NO active trail between `Earthquake` and `JohnCalls`. In other words, `Earthquake` and `JohnCalls` are locally independent when `Alarm`'s state is observed. This means the probability of `Earthquake` won't influence probability of `JohnCalls` (and vice versa) when `Alarm`'s state is observed."
   ]
  },
  {
   "cell_type": "markdown",
   "metadata": {
    "lines_to_next_cell": 0,
    "title": "markdown"
   },
   "source": [
    "**Verify:** Using Active Trails"
   ]
  },
  {
   "cell_type": "code",
   "execution_count": 53,
   "metadata": {
    "title": "codecell"
   },
   "outputs": [
    {
     "name": "stdout",
     "output_type": "stream",
     "text": [
      "JohnCalls --> JohnCalls\n",
      "Earthquake --> Earthquake\n",
      "Earthquake --> Burglary\n"
     ]
    }
   ],
   "source": [
    "assert not alarmModel.is_active_trail(start = MaryCalls.var, end = Burglary.var, observed = Alarm.var)\n",
    "assert not alarmModel.is_active_trail(start = MaryCalls.var, end = Earthquake.var, observed = Alarm.var)\n",
    "assert not alarmModel.is_active_trail(start = JohnCalls.var, end = Burglary.var, observed = Alarm.var)\n",
    "assert not alarmModel.is_active_trail(start = JohnCalls.var, end = Earthquake.var, observed = Alarm.var)\n",
    "\n",
    "showActiveTrails(model = alarmModel, variables = [JohnCalls.var, Earthquake.var], observed = Alarm.var)"
   ]
  },
  {
   "cell_type": "markdown",
   "metadata": {
    "lines_to_next_cell": 0,
    "title": "markdown"
   },
   "source": [
    "**Verify:** Using Independencies (just the $(B \\; \\bot \\; M \\; | \\; A)$ independence)"
   ]
  },
  {
   "cell_type": "code",
   "execution_count": 54,
   "metadata": {
    "title": "codecell"
   },
   "outputs": [
    {
     "data": {
      "text/plain": [
       "(MaryCalls _|_ Burglary | JohnCalls, Earthquake, Alarm)\n",
       "(MaryCalls _|_ JohnCalls, Earthquake | Burglary, Alarm)\n",
       "(MaryCalls _|_ Burglary | JohnCalls, Alarm)\n",
       "(MaryCalls _|_ Earthquake | JohnCalls, Alarm)\n",
       "(MaryCalls _|_ Earthquake | Burglary, Alarm)\n",
       "(MaryCalls _|_ JohnCalls, Earthquake, Burglary | Alarm)\n",
       "(MaryCalls _|_ Earthquake, Burglary | Alarm)\n",
       "(MaryCalls _|_ JohnCalls | Earthquake, Alarm, Burglary)\n",
       "(MaryCalls _|_ Earthquake | JohnCalls, Burglary, Alarm)\n",
       "(MaryCalls _|_ Earthquake, Burglary | JohnCalls, Alarm)\n",
       "(MaryCalls _|_ JohnCalls | Burglary, Alarm)\n",
       "(MaryCalls _|_ JohnCalls, Earthquake | Alarm)\n",
       "(MaryCalls _|_ JohnCalls, Burglary | Alarm)\n",
       "(MaryCalls _|_ Earthquake | Alarm)\n",
       "(MaryCalls _|_ Burglary | Alarm)\n",
       "(MaryCalls _|_ JohnCalls, Burglary | Earthquake, Alarm)\n",
       "(MaryCalls _|_ JohnCalls | Earthquake, Alarm)\n",
       "(MaryCalls _|_ Burglary | Earthquake, Alarm)\n",
       "(MaryCalls _|_ JohnCalls | Alarm)"
      ]
     },
     "execution_count": 54,
     "metadata": {},
     "output_type": "execute_result"
    }
   ],
   "source": [
    "indepBurglary: IndependenceAssertion = Independencies([Burglary.var, MaryCalls.var, [Alarm.var]]).get_assertions()[0]; indepBurglary\n",
    "\n",
    "indepMary: IndependenceAssertion = Independencies([MaryCalls.var, Burglary.var, [Alarm.var]]).get_assertions()[0]; indepMary\n",
    "\n",
    "# Using the fact that closure returns independencies that are IMPLIED by the current independencies:\n",
    "assert (str(indepMary) == '(MaryCalls _|_ Burglary | Alarm)' and\n",
    "        indepMary in alarmModel.local_independencies(MaryCalls.var).closure().get_assertions()),  \\\n",
    "        \"Check 1: Burglary and MaryCalls are independent once conditional on Alarm\"\n",
    "\n",
    "assert (str(indepBurglary) == '(Burglary _|_ MaryCalls | Alarm)' and\n",
    "        indepBurglary in alarmModel.local_independencies(MaryCalls.var).closure().get_assertions()), \\\n",
    "        \"Check 2: Burglary and MaryCalls are independent once conditional on Alarm\"\n",
    "\n",
    "alarmModel.local_independencies(MaryCalls.var).closure()"
   ]
  },
  {
   "cell_type": "code",
   "execution_count": 55,
   "metadata": {
    "title": "codecell"
   },
   "outputs": [
    {
     "name": "stdout",
     "output_type": "stream",
     "text": [
      "                   INDEPENDENCIES TABLE                  \n",
      "Fancy Notation              .....     Regular Notation   \n",
      "---------------------------------------------------------\n",
      "(M _|_ {B ∩ J ∩ E} | A)     .....     (M _|_ B, J, E | A)\n",
      "(M _|_ {B ∩ E ∩ J} | A)     .....     (M _|_ B, E, J | A)\n",
      "(M _|_ {J ∩ B ∩ E} | A)     .....     (M _|_ J, B, E | A)\n",
      "(M _|_ {J ∩ E ∩ B} | A)     .....     (M _|_ J, E, B | A)\n",
      "(M _|_ {E ∩ B ∩ J} | A)     .....     (M _|_ E, B, J | A)\n",
      "(M _|_ {E ∩ J ∩ B} | A)     .....     (M _|_ E, J, B | A)\n"
     ]
    }
   ],
   "source": [
    "# See: MaryCalls and Burglary are conditionally independent on Alarm:\n",
    "indepSynonymTable(model = alarmModel_brief, queryNode = 'M')\n",
    "\n"
   ]
  },
  {
   "cell_type": "markdown",
   "metadata": {
    "lines_to_next_cell": 0,
    "title": "markdown"
   },
   "source": [
    "**Verify:** Using Probabilities Method (just the $(E \\; \\bot \\; J \\; | \\; A)$ independence)"
   ]
  },
  {
   "cell_type": "markdown",
   "metadata": {
    "lines_to_next_cell": 0,
    "title": "markdown"
   },
   "source": [
    "The probability below is:\n",
    "$$\n",
    "\\begin{array}{ll}\n",
    "P(\\text{Earthquake} = \\text{True} \\; | \\; \\text{Alarm} = \\text{True})\n",
    "&= P(\\text{Earthquake} = \\text{True} \\; | \\; \\text{Alarm} = \\text{True} \\; \\cap \\; \\text{JohnCalls} = \\text{True})  \\\\\n",
    "&= P(\\text{Earthquake} = \\text{True} \\; | \\; \\text{Alarm} = \\text{True} \\; \\cap \\; \\text{JohnCalls} = \\text{False}) \\\\\n",
    "&= 0.02\n",
    "\\end{array}\n",
    "$$"
   ]
  },
  {
   "cell_type": "code",
   "execution_count": 56,
   "metadata": {
    "lines_to_next_cell": 0,
    "title": "codecell"
   },
   "outputs": [
    {
     "name": "stderr",
     "output_type": "stream",
     "text": [
      "\r",
      "  0%|          | 0/3 [00:00<?, ?it/s]"
     ]
    },
    {
     "name": "stderr",
     "output_type": "stream",
     "text": [
      "\r",
      "Finding Elimination Order: :   0%|          | 0/3 [00:00<?, ?it/s]"
     ]
    },
    {
     "name": "stderr",
     "output_type": "stream",
     "text": [
      "\r",
      "Finding Elimination Order: : 100%|██████████| 3/3 [00:00<00:00, 1320.76it/s]"
     ]
    },
    {
     "name": "stderr",
     "output_type": "stream",
     "text": [
      "\n",
      "\r",
      "  0%|          | 0/3 [00:00<?, ?it/s]"
     ]
    },
    {
     "name": "stderr",
     "output_type": "stream",
     "text": [
      "\r",
      "Eliminating: JohnCalls:   0%|          | 0/3 [00:00<?, ?it/s]"
     ]
    },
    {
     "name": "stderr",
     "output_type": "stream",
     "text": [
      "\r",
      "Eliminating: Burglary:   0%|          | 0/3 [00:00<?, ?it/s] "
     ]
    },
    {
     "name": "stderr",
     "output_type": "stream",
     "text": [
      "\r",
      "Eliminating: MaryCalls:   0%|          | 0/3 [00:00<?, ?it/s]"
     ]
    },
    {
     "name": "stderr",
     "output_type": "stream",
     "text": [
      "\r",
      "Eliminating: MaryCalls: 100%|██████████| 3/3 [00:00<00:00, 664.57it/s]"
     ]
    },
    {
     "name": "stderr",
     "output_type": "stream",
     "text": [
      "\n",
      "\r",
      "  0%|          | 0/2 [00:00<?, ?it/s]"
     ]
    },
    {
     "name": "stderr",
     "output_type": "stream",
     "text": [
      "\r",
      "Finding Elimination Order: :   0%|          | 0/2 [00:00<?, ?it/s]"
     ]
    },
    {
     "name": "stderr",
     "output_type": "stream",
     "text": [
      "\r",
      "Finding Elimination Order: : 100%|██████████| 2/2 [00:00<00:00, 1154.18it/s]"
     ]
    },
    {
     "name": "stderr",
     "output_type": "stream",
     "text": [
      "\n",
      "\r",
      "  0%|          | 0/2 [00:00<?, ?it/s]"
     ]
    },
    {
     "name": "stderr",
     "output_type": "stream",
     "text": [
      "\r",
      "Eliminating: Burglary:   0%|          | 0/2 [00:00<?, ?it/s]"
     ]
    },
    {
     "name": "stderr",
     "output_type": "stream",
     "text": [
      "\r",
      "Eliminating: MaryCalls:   0%|          | 0/2 [00:00<?, ?it/s]"
     ]
    },
    {
     "name": "stderr",
     "output_type": "stream",
     "text": [
      "\r",
      "Eliminating: MaryCalls: 100%|██████████| 2/2 [00:00<00:00, 617.26it/s]"
     ]
    },
    {
     "name": "stderr",
     "output_type": "stream",
     "text": [
      "\n"
     ]
    },
    {
     "name": "stderr",
     "output_type": "stream",
     "text": [
      "\r",
      "  0%|          | 0/2 [00:00<?, ?it/s]"
     ]
    },
    {
     "name": "stderr",
     "output_type": "stream",
     "text": [
      "\r",
      "Finding Elimination Order: :   0%|          | 0/2 [00:00<?, ?it/s]"
     ]
    },
    {
     "name": "stderr",
     "output_type": "stream",
     "text": [
      "\r",
      "Finding Elimination Order: : 100%|██████████| 2/2 [00:00<00:00, 900.55it/s]"
     ]
    },
    {
     "name": "stderr",
     "output_type": "stream",
     "text": [
      "\n",
      "\r",
      "  0%|          | 0/2 [00:00<?, ?it/s]"
     ]
    },
    {
     "name": "stderr",
     "output_type": "stream",
     "text": [
      "\r",
      "Eliminating: Burglary:   0%|          | 0/2 [00:00<?, ?it/s]"
     ]
    },
    {
     "name": "stderr",
     "output_type": "stream",
     "text": [
      "\r",
      "Eliminating: MaryCalls:   0%|          | 0/2 [00:00<?, ?it/s]"
     ]
    },
    {
     "name": "stderr",
     "output_type": "stream",
     "text": [
      "\r",
      "Eliminating: MaryCalls: 100%|██████████| 2/2 [00:00<00:00, 341.53it/s]"
     ]
    },
    {
     "name": "stdout",
     "output_type": "stream",
     "text": [
      "+-------------------+-------------------+\n",
      "| Earthquake        |   phi(Earthquake) |\n",
      "+===================+===================+\n",
      "| Earthquake(True)  |            0.2310 |\n",
      "+-------------------+-------------------+\n",
      "| Earthquake(False) |            0.7690 |\n",
      "+-------------------+-------------------+\n"
     ]
    },
    {
     "name": "stderr",
     "output_type": "stream",
     "text": [
      "\n"
     ]
    }
   ],
   "source": [
    "\n",
    "# Case 1: Alarm = True\n",
    "JAE: DiscreteFactor = elim.query(variables = [Earthquake.var], evidence = {Alarm.var: 'True'})\n",
    "JAE_1 = elim.query(variables = [Earthquake.var], evidence = {Alarm.var: 'True', JohnCalls.var:'True'})\n",
    "JAE_2 = elim.query(variables = [Earthquake.var], evidence = {Alarm.var: 'True', JohnCalls.var:'False'})\n",
    "\n",
    "assert (JAE.values == JAE_1.values).all() and (JAE.values == JAE_2.values).all(), \"Check: there is independence between Earthquake and JohnCalls when Alarm state is observed (Alarm = True)\"\n",
    "\n",
    "print(JAE)"
   ]
  },
  {
   "cell_type": "markdown",
   "metadata": {
    "lines_to_next_cell": 0,
    "title": "markdown"
   },
   "source": [
    "The probability below is:\n",
    "$$\n",
    "\\begin{array}{ll}\n",
    "P(\\text{Earthquake} = \\text{True} \\; | \\; \\text{Alarm} = \\text{False})\n",
    "&= P(\\text{Earthquake} = \\text{True} \\; | \\; \\text{Alarm} = \\text{False} \\; \\cap \\; \\text{JohnCalls} = \\text{True})  \\\\\n",
    "&= P(\\text{Earthquake} = \\text{True} \\; | \\; \\text{Alarm} = \\text{False} \\; \\cap \\; \\text{JohnCalls} = \\text{False}) \\\\\n",
    "&= 0.0017\n",
    "\\end{array}\n",
    "$$"
   ]
  },
  {
   "cell_type": "code",
   "execution_count": 57,
   "metadata": {
    "title": "codecell"
   },
   "outputs": [
    {
     "name": "stderr",
     "output_type": "stream",
     "text": [
      "\r",
      "  0%|          | 0/3 [00:00<?, ?it/s]"
     ]
    },
    {
     "name": "stderr",
     "output_type": "stream",
     "text": [
      "\r",
      "Finding Elimination Order: :   0%|          | 0/3 [00:00<?, ?it/s]"
     ]
    },
    {
     "name": "stderr",
     "output_type": "stream",
     "text": [
      "\r",
      "Finding Elimination Order: : 100%|██████████| 3/3 [00:00<00:00, 1199.63it/s]"
     ]
    },
    {
     "name": "stderr",
     "output_type": "stream",
     "text": [
      "\n",
      "\r",
      "  0%|          | 0/3 [00:00<?, ?it/s]"
     ]
    },
    {
     "name": "stderr",
     "output_type": "stream",
     "text": [
      "\r",
      "Eliminating: JohnCalls:   0%|          | 0/3 [00:00<?, ?it/s]"
     ]
    },
    {
     "name": "stderr",
     "output_type": "stream",
     "text": [
      "\r",
      "Eliminating: Burglary:   0%|          | 0/3 [00:00<?, ?it/s] "
     ]
    },
    {
     "name": "stderr",
     "output_type": "stream",
     "text": [
      "\r",
      "Eliminating: MaryCalls:   0%|          | 0/3 [00:00<?, ?it/s]"
     ]
    },
    {
     "name": "stderr",
     "output_type": "stream",
     "text": [
      "\r",
      "Eliminating: MaryCalls: 100%|██████████| 3/3 [00:00<00:00, 633.68it/s]"
     ]
    },
    {
     "name": "stderr",
     "output_type": "stream",
     "text": [
      "\n",
      "\r",
      "  0%|          | 0/2 [00:00<?, ?it/s]"
     ]
    },
    {
     "name": "stderr",
     "output_type": "stream",
     "text": [
      "\r",
      "Finding Elimination Order: :   0%|          | 0/2 [00:00<?, ?it/s]"
     ]
    },
    {
     "name": "stderr",
     "output_type": "stream",
     "text": [
      "\r",
      "Finding Elimination Order: : 100%|██████████| 2/2 [00:00<00:00, 207.54it/s]"
     ]
    },
    {
     "name": "stderr",
     "output_type": "stream",
     "text": [
      "\n",
      "\r",
      "  0%|          | 0/2 [00:00<?, ?it/s]"
     ]
    },
    {
     "name": "stderr",
     "output_type": "stream",
     "text": [
      "\r",
      "Eliminating: Burglary:   0%|          | 0/2 [00:00<?, ?it/s]"
     ]
    },
    {
     "name": "stderr",
     "output_type": "stream",
     "text": [
      "\r",
      "Eliminating: MaryCalls:   0%|          | 0/2 [00:00<?, ?it/s]"
     ]
    },
    {
     "name": "stderr",
     "output_type": "stream",
     "text": [
      "\r",
      "Eliminating: MaryCalls: 100%|██████████| 2/2 [00:00<00:00, 544.43it/s]"
     ]
    },
    {
     "name": "stderr",
     "output_type": "stream",
     "text": [
      "\n",
      "\r",
      "  0%|          | 0/2 [00:00<?, ?it/s]"
     ]
    },
    {
     "name": "stderr",
     "output_type": "stream",
     "text": [
      "\r",
      "Finding Elimination Order: :   0%|          | 0/2 [00:00<?, ?it/s]"
     ]
    },
    {
     "name": "stderr",
     "output_type": "stream",
     "text": [
      "\r",
      "Finding Elimination Order: : 100%|██████████| 2/2 [00:00<00:00, 814.03it/s]"
     ]
    },
    {
     "name": "stderr",
     "output_type": "stream",
     "text": [
      "\n",
      "\r",
      "  0%|          | 0/2 [00:00<?, ?it/s]"
     ]
    },
    {
     "name": "stderr",
     "output_type": "stream",
     "text": [
      "\r",
      "Eliminating: Burglary:   0%|          | 0/2 [00:00<?, ?it/s]"
     ]
    },
    {
     "name": "stderr",
     "output_type": "stream",
     "text": [
      "\r",
      "Eliminating: MaryCalls:   0%|          | 0/2 [00:00<?, ?it/s]"
     ]
    },
    {
     "name": "stderr",
     "output_type": "stream",
     "text": [
      "\r",
      "Eliminating: MaryCalls: 100%|██████████| 2/2 [00:00<00:00, 578.88it/s]"
     ]
    },
    {
     "name": "stdout",
     "output_type": "stream",
     "text": [
      "+-------------------+-------------------+\n",
      "| Earthquake        |   phi(Earthquake) |\n",
      "+===================+===================+\n",
      "| Earthquake(True)  |            0.0014 |\n",
      "+-------------------+-------------------+\n",
      "| Earthquake(False) |            0.9986 |\n",
      "+-------------------+-------------------+\n"
     ]
    },
    {
     "name": "stderr",
     "output_type": "stream",
     "text": [
      "\n"
     ]
    }
   ],
   "source": [
    "# Case 2: Alarm = False\n",
    "JAE: DiscreteFactor = elim.query(variables = [Earthquake.var], evidence = {Alarm.var: 'False'})\n",
    "JAE_1 = elim.query(variables = [Earthquake.var], evidence = {Alarm.var: 'False', JohnCalls.var:'True'})\n",
    "JAE_2 = elim.query(variables = [Earthquake.var], evidence = {Alarm.var: 'False', JohnCalls.var:'False'})\n",
    "\n",
    "assert (JAE.values == JAE_1.values).all() and (JAE.values == JAE_2.values).all(), \"Check: there is independence between Earthquake and JohnCalls when Alarm state is observed (Alarm = False)\"\n",
    "\n",
    "print(JAE)\n",
    "\n",
    "\n",
    "\n",
    "\n",
    "\n"
   ]
  },
  {
   "cell_type": "markdown",
   "metadata": {
    "title": "markdown"
   },
   "source": [
    "### 3. Inter-Causal (?) Reasoning in the Alarm Model\n",
    "For a common cause model $A \\leftarrow B \\rightarrow C$, there are two cases:\n",
    "  * **Marginal Dependence:** ($B$ unknown): When $B$ is unknown / unobserved, there is an active trail between $A$ and $C$, meaning the probability of $A$ can influence probability of $C$ (and vice versa) when information about $B$'s state is unknown.\n",
    "  * **Conditional Independence:** ($B$ fixed): When $B$ is fixed, there is NO active trail between $A$ and $C$, so they are independent. The probability of $A$ won't influence probability of $C$ (and vice versa) when $B$'s state is observed."
   ]
  },
  {
   "cell_type": "code",
   "execution_count": 58,
   "metadata": {
    "lines_to_next_cell": 0,
    "title": "codecell"
   },
   "outputs": [
    {
     "data": {
      "image/svg+xml": [
       "<?xml version=\"1.0\" encoding=\"UTF-8\" standalone=\"no\"?>\n",
       "<!DOCTYPE svg PUBLIC \"-//W3C//DTD SVG 1.1//EN\"\n",
       " \"http://www.w3.org/Graphics/SVG/1.1/DTD/svg11.dtd\">\n",
       "<!-- Generated by graphviz version 2.38.0 (20140413.2041)\n",
       " -->\n",
       "<!-- Title: G Pages: 1 -->\n",
       "<svg width=\"214pt\" height=\"188pt\"\n",
       " viewBox=\"0.00 0.00 214.18 188.00\" xmlns=\"http://www.w3.org/2000/svg\" xmlns:xlink=\"http://www.w3.org/1999/xlink\">\n",
       "<g id=\"graph0\" class=\"graph\" transform=\"scale(1 1) rotate(0) translate(4 184)\">\n",
       "<title>G</title>\n",
       "<polygon fill=\"white\" stroke=\"none\" points=\"-4,4 -4,-184 210.185,-184 210.185,4 -4,4\"/>\n",
       "<!-- Burglary -->\n",
       "<g id=\"node1\" class=\"node\"><title>Burglary</title>\n",
       "<defs>\n",
       "<linearGradient id=\"l_0\" gradientUnits=\"userSpaceOnUse\" x1=\"41.8599\" y1=\"-144\" x2=\"41.8599\" y2=\"-180\" >\n",
       "<stop offset=\"0\" style=\"stop-color:#ceccff;stop-opacity:1.;\"/>\n",
       "<stop offset=\"1\" style=\"stop-color:white;stop-opacity:1.;\"/>\n",
       "</linearGradient>\n",
       "</defs>\n",
       "<ellipse fill=\"url(#l_0)\" stroke=\"#ff638d\" cx=\"41.8599\" cy=\"-162\" rx=\"41.7203\" ry=\"18\"/>\n",
       "<text text-anchor=\"middle\" x=\"41.8599\" y=\"-158.9\" font-family=\"Acme-Regular.ttf\" font-size=\"12.00\">Burglary</text>\n",
       "</g>\n",
       "<!-- Alarm -->\n",
       "<g id=\"node2\" class=\"node\"><title>Alarm</title>\n",
       "<defs>\n",
       "<linearGradient id=\"l_1\" gradientUnits=\"userSpaceOnUse\" x1=\"97.8599\" y1=\"-72\" x2=\"97.8599\" y2=\"-108\" >\n",
       "<stop offset=\"0\" style=\"stop-color:#ceccff;stop-opacity:1.;\"/>\n",
       "<stop offset=\"1\" style=\"stop-color:white;stop-opacity:1.;\"/>\n",
       "</linearGradient>\n",
       "</defs>\n",
       "<ellipse fill=\"url(#l_1)\" stroke=\"#ff638d\" cx=\"97.8599\" cy=\"-90\" rx=\"32.7527\" ry=\"18\"/>\n",
       "<text text-anchor=\"middle\" x=\"97.8599\" y=\"-86.9\" font-family=\"Acme-Regular.ttf\" font-size=\"12.00\">Alarm</text>\n",
       "</g>\n",
       "<!-- Burglary&#45;&gt;Alarm -->\n",
       "<g id=\"edge1\" class=\"edge\"><title>Burglary&#45;&gt;Alarm</title>\n",
       "<path fill=\"none\" stroke=\"#ff638d\" d=\"M54.8482,-144.765C62.0171,-135.804 71.05,-124.512 78.985,-114.594\"/>\n",
       "<polygon fill=\"#ff638d\" stroke=\"#ff638d\" points=\"81.8134,-116.661 85.3273,-106.666 76.3473,-112.288 81.8134,-116.661\"/>\n",
       "</g>\n",
       "<!-- JohnCalls -->\n",
       "<g id=\"node3\" class=\"node\"><title>JohnCalls</title>\n",
       "<defs>\n",
       "<linearGradient id=\"l_2\" gradientUnits=\"userSpaceOnUse\" x1=\"44.8599\" y1=\"-1.77636e-14\" x2=\"44.8599\" y2=\"-36\" >\n",
       "<stop offset=\"0\" style=\"stop-color:#ceccff;stop-opacity:1.;\"/>\n",
       "<stop offset=\"1\" style=\"stop-color:white;stop-opacity:1.;\"/>\n",
       "</linearGradient>\n",
       "</defs>\n",
       "<ellipse fill=\"url(#l_2)\" stroke=\"#ff638d\" cx=\"44.8599\" cy=\"-18\" rx=\"43.9143\" ry=\"18\"/>\n",
       "<text text-anchor=\"middle\" x=\"44.8599\" y=\"-14.9\" font-family=\"Acme-Regular.ttf\" font-size=\"12.00\">JohnCalls</text>\n",
       "</g>\n",
       "<!-- Alarm&#45;&gt;JohnCalls -->\n",
       "<g id=\"edge2\" class=\"edge\"><title>Alarm&#45;&gt;JohnCalls</title>\n",
       "<path fill=\"none\" stroke=\"#ff638d\" d=\"M85.8334,-73.1159C79.2193,-64.3803 70.8699,-53.3528 63.4366,-43.5352\"/>\n",
       "<polygon fill=\"#ff638d\" stroke=\"#ff638d\" points=\"66.0335,-41.1669 57.2066,-35.307 60.4527,-45.3923 66.0335,-41.1669\"/>\n",
       "</g>\n",
       "<!-- MaryCalls -->\n",
       "<g id=\"node4\" class=\"node\"><title>MaryCalls</title>\n",
       "<defs>\n",
       "<linearGradient id=\"l_3\" gradientUnits=\"userSpaceOnUse\" x1=\"151.86\" y1=\"-1.77636e-14\" x2=\"151.86\" y2=\"-36\" >\n",
       "<stop offset=\"0\" style=\"stop-color:#ceccff;stop-opacity:1.;\"/>\n",
       "<stop offset=\"1\" style=\"stop-color:white;stop-opacity:1.;\"/>\n",
       "</linearGradient>\n",
       "</defs>\n",
       "<ellipse fill=\"url(#l_3)\" stroke=\"#ff638d\" cx=\"151.86\" cy=\"-18\" rx=\"45.6069\" ry=\"18\"/>\n",
       "<text text-anchor=\"middle\" x=\"151.86\" y=\"-14.9\" font-family=\"Acme-Regular.ttf\" font-size=\"12.00\">MaryCalls</text>\n",
       "</g>\n",
       "<!-- Alarm&#45;&gt;MaryCalls -->\n",
       "<g id=\"edge3\" class=\"edge\"><title>Alarm&#45;&gt;MaryCalls</title>\n",
       "<path fill=\"none\" stroke=\"#ff638d\" d=\"M110.113,-73.1159C116.92,-64.292 125.531,-53.1298 133.162,-43.238\"/>\n",
       "<polygon fill=\"#ff638d\" stroke=\"#ff638d\" points=\"135.943,-45.3627 139.28,-35.307 130.401,-41.087 135.943,-45.3627\"/>\n",
       "</g>\n",
       "<!-- Earthquake -->\n",
       "<g id=\"node5\" class=\"node\"><title>Earthquake</title>\n",
       "<defs>\n",
       "<linearGradient id=\"l_4\" gradientUnits=\"userSpaceOnUse\" x1=\"153.86\" y1=\"-144\" x2=\"153.86\" y2=\"-180\" >\n",
       "<stop offset=\"0\" style=\"stop-color:#ceccff;stop-opacity:1.;\"/>\n",
       "<stop offset=\"1\" style=\"stop-color:white;stop-opacity:1.;\"/>\n",
       "</linearGradient>\n",
       "</defs>\n",
       "<ellipse fill=\"url(#l_4)\" stroke=\"#ff638d\" cx=\"153.86\" cy=\"-162\" rx=\"52.1504\" ry=\"18\"/>\n",
       "<text text-anchor=\"middle\" x=\"153.86\" y=\"-158.9\" font-family=\"Acme-Regular.ttf\" font-size=\"12.00\">Earthquake</text>\n",
       "</g>\n",
       "<!-- Earthquake&#45;&gt;Alarm -->\n",
       "<g id=\"edge4\" class=\"edge\"><title>Earthquake&#45;&gt;Alarm</title>\n",
       "<path fill=\"none\" stroke=\"#ff638d\" d=\"M140.589,-144.411C133.584,-135.655 124.861,-124.751 117.126,-115.082\"/>\n",
       "<polygon fill=\"#ff638d\" stroke=\"#ff638d\" points=\"119.63,-112.61 110.65,-106.988 114.164,-116.983 119.63,-112.61\"/>\n",
       "</g>\n",
       "</g>\n",
       "</svg>\n"
      ],
      "text/plain": [
       "<graphviz.dot.Digraph at 0x7fa8362807d0>"
      ]
     },
     "execution_count": 58,
     "metadata": {},
     "output_type": "execute_result"
    }
   ],
   "source": [
    "pgmpyToGraph(alarmModel)"
   ]
  },
  {
   "cell_type": "markdown",
   "metadata": {
    "title": "markdown"
   },
   "source": [
    "### Case 1: Marginal Dependence (for Evidential Model)\n",
    "\n",
    "$$\n",
    "\\color{Green}{ \\text{Alarm (unobserved): }\\;\\;\\;\\;\\;\\;\\;\\;\\; \\text{JohnCalls} \\longleftarrow \\text{Alarm} \\longleftarrow \\text{MaryCalls}}\n",
    "$$\n",
    "\n",
    "When the parent node `Alarm` is unknown / unobserved, there IS an active trail between `JohnCalls` and `MaryCalls`. In other words, there is a dependence between `JohnCalls` and `MaryCalls` when `Alarm` is unobserved. This means the probability of `JohnCalls` can influence probability of `MaryCalls` (and vice versa) when information about `Alarm`'s state is unknown."
   ]
  },
  {
   "cell_type": "markdown",
   "metadata": {
    "lines_to_next_cell": 0,
    "title": "markdown"
   },
   "source": [
    "**Verify:** Using Active Trails"
   ]
  },
  {
   "cell_type": "code",
   "execution_count": 59,
   "metadata": {
    "lines_to_next_cell": 2,
    "title": "codecell"
   },
   "outputs": [
    {
     "name": "stdout",
     "output_type": "stream",
     "text": [
      "JohnCalls --> JohnCalls\n",
      "JohnCalls --> Alarm\n",
      "JohnCalls --> Earthquake\n",
      "JohnCalls --> Burglary\n",
      "JohnCalls --> MaryCalls\n",
      "MaryCalls --> JohnCalls\n",
      "MaryCalls --> Alarm\n",
      "MaryCalls --> Earthquake\n",
      "MaryCalls --> Burglary\n",
      "MaryCalls --> MaryCalls\n"
     ]
    }
   ],
   "source": [
    "assert alarmModel.is_active_trail(start = JohnCalls.var, end = MaryCalls.var,  observed = None)\n",
    "\n",
    "showActiveTrails(model = alarmModel, variables = [JohnCalls.var, MaryCalls.var])"
   ]
  },
  {
   "cell_type": "markdown",
   "metadata": {
    "lines_to_next_cell": 0,
    "title": "markdown"
   },
   "source": [
    "**Verify:** Using Probabilities\n",
    "* **NOTE:** Inter-Causal Reasoning For Common Cause Model:"
   ]
  },
  {
   "cell_type": "code",
   "execution_count": 60,
   "metadata": {
    "lines_to_next_cell": 0,
    "title": "codecell"
   },
   "outputs": [
    {
     "name": "stderr",
     "output_type": "stream",
     "text": [
      "\r",
      "  0%|          | 0/4 [00:00<?, ?it/s]"
     ]
    },
    {
     "name": "stderr",
     "output_type": "stream",
     "text": [
      "\r",
      "Finding Elimination Order: :   0%|          | 0/4 [00:00<?, ?it/s]"
     ]
    },
    {
     "name": "stderr",
     "output_type": "stream",
     "text": [
      "\r",
      "Finding Elimination Order: : 100%|██████████| 4/4 [00:00<00:00, 1424.45it/s]"
     ]
    },
    {
     "name": "stderr",
     "output_type": "stream",
     "text": [
      "\n",
      "\r",
      "  0%|          | 0/4 [00:00<?, ?it/s]"
     ]
    },
    {
     "name": "stderr",
     "output_type": "stream",
     "text": [
      "\r",
      "Eliminating: JohnCalls:   0%|          | 0/4 [00:00<?, ?it/s]"
     ]
    },
    {
     "name": "stderr",
     "output_type": "stream",
     "text": [
      "\r",
      "Eliminating: Earthquake:   0%|          | 0/4 [00:00<?, ?it/s]"
     ]
    },
    {
     "name": "stderr",
     "output_type": "stream",
     "text": [
      "\r",
      "Eliminating: Alarm:   0%|          | 0/4 [00:00<?, ?it/s]     "
     ]
    },
    {
     "name": "stderr",
     "output_type": "stream",
     "text": [
      "\r",
      "Eliminating: Burglary:   0%|          | 0/4 [00:00<?, ?it/s]"
     ]
    },
    {
     "name": "stderr",
     "output_type": "stream",
     "text": [
      "\r",
      "Eliminating: Burglary: 100%|██████████| 4/4 [00:00<00:00, 342.99it/s]"
     ]
    },
    {
     "name": "stdout",
     "output_type": "stream",
     "text": [
      "+------------------+------------------+\n",
      "| MaryCalls        |   phi(MaryCalls) |\n",
      "+==================+==================+\n",
      "| MaryCalls(True)  |           0.0117 |\n",
      "+------------------+------------------+\n",
      "| MaryCalls(False) |           0.9883 |\n",
      "+------------------+------------------+\n"
     ]
    },
    {
     "name": "stderr",
     "output_type": "stream",
     "text": [
      "\n"
     ]
    }
   ],
   "source": [
    "JM: DiscreteFactor = elim.query(variables = [MaryCalls.var], evidence = None)\n",
    "print(JM)"
   ]
  },
  {
   "cell_type": "markdown",
   "metadata": {
    "lines_to_next_cell": 0,
    "title": "markdown"
   },
   "source": [
    "Below we see that when `JohnCalls` and no `Alarm` was observed, there is a higher probability of `MaryCalls`, compared to when no `JohnCalls` nor `Alarm` were observed:\n",
    "$$\n",
    "P(\\text{MaryCalls} = \\text{True} \\; | \\; \\text{JohnCalls} = \\text{True}) = 0.6975\n",
    "$$"
   ]
  },
  {
   "cell_type": "code",
   "execution_count": 61,
   "metadata": {
    "lines_to_next_cell": 0,
    "title": "codecell"
   },
   "outputs": [
    {
     "name": "stderr",
     "output_type": "stream",
     "text": [
      "\r",
      "  0%|          | 0/3 [00:00<?, ?it/s]"
     ]
    },
    {
     "name": "stderr",
     "output_type": "stream",
     "text": [
      "\r",
      "Finding Elimination Order: :   0%|          | 0/3 [00:00<?, ?it/s]"
     ]
    },
    {
     "name": "stderr",
     "output_type": "stream",
     "text": [
      "\r",
      "Finding Elimination Order: : 100%|██████████| 3/3 [00:00<00:00, 1548.67it/s]"
     ]
    },
    {
     "name": "stderr",
     "output_type": "stream",
     "text": [
      "\n",
      "\r",
      "  0%|          | 0/3 [00:00<?, ?it/s]"
     ]
    },
    {
     "name": "stderr",
     "output_type": "stream",
     "text": [
      "\r",
      "Eliminating: Earthquake:   0%|          | 0/3 [00:00<?, ?it/s]"
     ]
    },
    {
     "name": "stderr",
     "output_type": "stream",
     "text": [
      "\r",
      "Eliminating: Burglary:   0%|          | 0/3 [00:00<?, ?it/s]  "
     ]
    },
    {
     "name": "stderr",
     "output_type": "stream",
     "text": [
      "\r",
      "Eliminating: Alarm:   0%|          | 0/3 [00:00<?, ?it/s]   "
     ]
    },
    {
     "name": "stderr",
     "output_type": "stream",
     "text": [
      "\r",
      "Eliminating: Alarm: 100%|██████████| 3/3 [00:00<00:00, 355.71it/s]"
     ]
    },
    {
     "name": "stdout",
     "output_type": "stream",
     "text": [
      "+------------------+------------------+\n",
      "| MaryCalls        |   phi(MaryCalls) |\n",
      "+==================+==================+\n",
      "| MaryCalls(True)  |           0.0400 |\n",
      "+------------------+------------------+\n",
      "| MaryCalls(False) |           0.9600 |\n",
      "+------------------+------------------+\n"
     ]
    },
    {
     "name": "stderr",
     "output_type": "stream",
     "text": [
      "\n"
     ]
    }
   ],
   "source": [
    "JM_1 = elim.query(variables = [MaryCalls.var], evidence = {JohnCalls.var:'True'})\n",
    "print(JM_1)"
   ]
  },
  {
   "cell_type": "markdown",
   "metadata": {
    "lines_to_next_cell": 0,
    "title": "markdown"
   },
   "source": [
    "Below we see that when `JohnCalls` does not occur and no `Alarm` was observed, there is a lower probability of `MaryCalls`, compared to when `JohnCalls` and `Alarm` was not observed:\n",
    "$$\n",
    "P(\\text{MaryCalls} = \\text{True} \\; | \\; \\text{JohnCalls} = \\text{False}) = 0.4369\n",
    "$$"
   ]
  },
  {
   "cell_type": "code",
   "execution_count": 62,
   "metadata": {
    "lines_to_next_cell": 0,
    "title": "codecell"
   },
   "outputs": [
    {
     "name": "stderr",
     "output_type": "stream",
     "text": [
      "\r",
      "  0%|          | 0/3 [00:00<?, ?it/s]"
     ]
    },
    {
     "name": "stderr",
     "output_type": "stream",
     "text": [
      "\r",
      "Finding Elimination Order: :   0%|          | 0/3 [00:00<?, ?it/s]"
     ]
    },
    {
     "name": "stderr",
     "output_type": "stream",
     "text": [
      "\r",
      "Finding Elimination Order: : 100%|██████████| 3/3 [00:00<00:00, 320.32it/s]"
     ]
    },
    {
     "name": "stderr",
     "output_type": "stream",
     "text": [
      "\n",
      "\r",
      "  0%|          | 0/3 [00:00<?, ?it/s]"
     ]
    },
    {
     "name": "stderr",
     "output_type": "stream",
     "text": [
      "\r",
      "Eliminating: Earthquake:   0%|          | 0/3 [00:00<?, ?it/s]"
     ]
    },
    {
     "name": "stderr",
     "output_type": "stream",
     "text": [
      "\r",
      "Eliminating: Burglary:   0%|          | 0/3 [00:00<?, ?it/s]  "
     ]
    },
    {
     "name": "stderr",
     "output_type": "stream",
     "text": [
      "\r",
      "Eliminating: Alarm:   0%|          | 0/3 [00:00<?, ?it/s]   "
     ]
    },
    {
     "name": "stderr",
     "output_type": "stream",
     "text": [
      "\r",
      "Eliminating: Alarm: 100%|██████████| 3/3 [00:00<00:00, 81.03it/s]"
     ]
    },
    {
     "name": "stdout",
     "output_type": "stream",
     "text": [
      "+------------------+------------------+\n",
      "| MaryCalls        |   phi(MaryCalls) |\n",
      "+==================+==================+\n",
      "| MaryCalls(True)  |           0.0102 |\n",
      "+------------------+------------------+\n",
      "| MaryCalls(False) |           0.9898 |\n",
      "+------------------+------------------+\n"
     ]
    },
    {
     "name": "stderr",
     "output_type": "stream",
     "text": [
      "\n"
     ]
    }
   ],
   "source": [
    "JM_2 = elim.query(variables = [MaryCalls.var], evidence = {JohnCalls.var:'False'})\n",
    "print(JM_2)"
   ]
  },
  {
   "cell_type": "code",
   "execution_count": 63,
   "metadata": {
    "lines_to_next_cell": 2,
    "title": "codecell"
   },
   "outputs": [],
   "source": [
    "assert (JM.values != JM_1.values).all() and (JM.values != JM_2.values).all(), \"Check: Marginal Dependence: there is dependency between MaryCalls and JohnCalls, when Alarm state is unobserved \""
   ]
  },
  {
   "cell_type": "markdown",
   "metadata": {
    "lines_to_next_cell": 0,
    "title": "markdown"
   },
   "source": [
    "### Case 2: Conditional Independence (for Common Cause Model)\n",
    "\n",
    "$$\n",
    "\\color{DeepSkyBlue}{ \\text{Alarm (observed): }\\;\\;\\;\\;\\;\\;\\;\\; \\text{JohnCalls} \\; \\bot \\; \\text{MaryCalls} \\; | \\; \\text{Alarm}}\n",
    "$$\n",
    "When the `Alarm`'s state is known (fixed / observed), then there is NO active trail between `JohnCalls` and `MaryCalls`. In other words, `JohnCalls` and `MaryCalls` are locally independent when `Alarm`'s state is observed. This means the probability of `JohnCalls` won't influence probability of `MaryCalls` (and vice versa) when `Alarm`'s state is observed.\n"
   ]
  },
  {
   "cell_type": "markdown",
   "metadata": {
    "lines_to_next_cell": 0,
    "title": "markdown"
   },
   "source": [
    "**Verify:** Using Active Trails"
   ]
  },
  {
   "cell_type": "code",
   "execution_count": 64,
   "metadata": {
    "title": "codecell"
   },
   "outputs": [
    {
     "name": "stdout",
     "output_type": "stream",
     "text": [
      "JohnCalls --> JohnCalls\n",
      "MaryCalls --> MaryCalls\n"
     ]
    }
   ],
   "source": [
    "assert not alarmModel.is_active_trail(start = JohnCalls.var, end = MaryCalls.var, observed = Alarm.var)\n",
    "\n",
    "showActiveTrails(model = alarmModel, variables = [JohnCalls.var, MaryCalls.var], observed = Alarm.var)"
   ]
  },
  {
   "cell_type": "markdown",
   "metadata": {
    "lines_to_next_cell": 0,
    "title": "markdown"
   },
   "source": [
    "**Verify:** Using Independencies"
   ]
  },
  {
   "cell_type": "code",
   "execution_count": 65,
   "metadata": {
    "lines_to_next_cell": 0,
    "title": "codecell"
   },
   "outputs": [
    {
     "data": {
      "text/plain": [
       "(MaryCalls _|_ Burglary | JohnCalls, Earthquake, Alarm)\n",
       "(MaryCalls _|_ JohnCalls, Earthquake | Burglary, Alarm)\n",
       "(MaryCalls _|_ Burglary | JohnCalls, Alarm)\n",
       "(MaryCalls _|_ Earthquake | JohnCalls, Alarm)\n",
       "(MaryCalls _|_ Earthquake | Burglary, Alarm)\n",
       "(MaryCalls _|_ JohnCalls, Earthquake, Burglary | Alarm)\n",
       "(MaryCalls _|_ Earthquake, Burglary | Alarm)\n",
       "(MaryCalls _|_ JohnCalls | Earthquake, Alarm, Burglary)\n",
       "(MaryCalls _|_ Earthquake | JohnCalls, Burglary, Alarm)\n",
       "(MaryCalls _|_ Earthquake, Burglary | JohnCalls, Alarm)\n",
       "(MaryCalls _|_ JohnCalls | Burglary, Alarm)\n",
       "(MaryCalls _|_ JohnCalls, Earthquake | Alarm)\n",
       "(MaryCalls _|_ JohnCalls, Burglary | Alarm)\n",
       "(MaryCalls _|_ Earthquake | Alarm)\n",
       "(MaryCalls _|_ Burglary | Alarm)\n",
       "(MaryCalls _|_ JohnCalls, Burglary | Earthquake, Alarm)\n",
       "(MaryCalls _|_ JohnCalls | Earthquake, Alarm)\n",
       "(MaryCalls _|_ Burglary | Earthquake, Alarm)\n",
       "(MaryCalls _|_ JohnCalls | Alarm)"
      ]
     },
     "execution_count": 65,
     "metadata": {},
     "output_type": "execute_result"
    }
   ],
   "source": [
    "indepJohn: IndependenceAssertion = Independencies([JohnCalls.var, MaryCalls.var, [Alarm.var]]).get_assertions()[0]; indepJohn\n",
    "\n",
    "indepMary: IndependenceAssertion = Independencies([MaryCalls.var, JohnCalls.var, [Alarm.var]]).get_assertions()[0]; indepMary\n",
    "\n",
    "\n",
    "# Using the fact that closure returns independencies that are IMPLIED by the current independencies:\n",
    "assert (str(indepMary) == '(MaryCalls _|_ JohnCalls | Alarm)' and\n",
    "        indepMary in alarmModel.local_independencies(MaryCalls.var).closure().get_assertions()),  \\\n",
    "        \"Check 1: MaryCalls and JohnCalls are independent once conditional on Alarm\"\n",
    "\n",
    "alarmModel.local_independencies(MaryCalls.var).closure()"
   ]
  },
  {
   "cell_type": "code",
   "execution_count": 66,
   "metadata": {
    "title": "codecell"
   },
   "outputs": [
    {
     "data": {
      "text/plain": [
       "(MaryCalls _|_ Burglary | JohnCalls, Earthquake, Alarm)\n",
       "(MaryCalls _|_ JohnCalls, Earthquake | Burglary, Alarm)\n",
       "(MaryCalls _|_ Burglary | JohnCalls, Alarm)\n",
       "(MaryCalls _|_ Earthquake | JohnCalls, Alarm)\n",
       "(MaryCalls _|_ Earthquake | Burglary, Alarm)\n",
       "(MaryCalls _|_ JohnCalls, Earthquake, Burglary | Alarm)\n",
       "(MaryCalls _|_ Earthquake, Burglary | Alarm)\n",
       "(MaryCalls _|_ JohnCalls | Earthquake, Alarm, Burglary)\n",
       "(MaryCalls _|_ Earthquake | JohnCalls, Burglary, Alarm)\n",
       "(MaryCalls _|_ Earthquake, Burglary | JohnCalls, Alarm)\n",
       "(MaryCalls _|_ JohnCalls | Burglary, Alarm)\n",
       "(MaryCalls _|_ JohnCalls, Earthquake | Alarm)\n",
       "(MaryCalls _|_ JohnCalls, Burglary | Alarm)\n",
       "(MaryCalls _|_ Earthquake | Alarm)\n",
       "(MaryCalls _|_ Burglary | Alarm)\n",
       "(MaryCalls _|_ JohnCalls, Burglary | Earthquake, Alarm)\n",
       "(MaryCalls _|_ JohnCalls | Earthquake, Alarm)\n",
       "(MaryCalls _|_ Burglary | Earthquake, Alarm)\n",
       "(MaryCalls _|_ JohnCalls | Alarm)"
      ]
     },
     "execution_count": 66,
     "metadata": {},
     "output_type": "execute_result"
    }
   ],
   "source": [
    "assert (str(indepJohn) == '(JohnCalls _|_ MaryCalls | Alarm)' and\n",
    "        indepJohn in alarmModel.local_independencies(JohnCalls.var).closure().get_assertions()), \\\n",
    "        \"Check 2: JohnCalls and MaryCalls are independent once conditional on Alarm\"\n",
    "\n",
    "alarmModel.local_independencies(MaryCalls.var).closure()"
   ]
  },
  {
   "cell_type": "code",
   "execution_count": 67,
   "metadata": {
    "lines_to_next_cell": 0,
    "title": "codecell"
   },
   "outputs": [
    {
     "name": "stdout",
     "output_type": "stream",
     "text": [
      "                   INDEPENDENCIES TABLE                  \n",
      "Fancy Notation              .....     Regular Notation   \n",
      "---------------------------------------------------------\n",
      "(M _|_ {B ∩ J ∩ E} | A)     .....     (M _|_ B, J, E | A)\n",
      "(M _|_ {B ∩ E ∩ J} | A)     .....     (M _|_ B, E, J | A)\n",
      "(M _|_ {J ∩ B ∩ E} | A)     .....     (M _|_ J, B, E | A)\n",
      "(M _|_ {J ∩ E ∩ B} | A)     .....     (M _|_ J, E, B | A)\n",
      "(M _|_ {E ∩ B ∩ J} | A)     .....     (M _|_ E, B, J | A)\n",
      "(M _|_ {E ∩ J ∩ B} | A)     .....     (M _|_ E, J, B | A)\n"
     ]
    }
   ],
   "source": [
    "# See: MaryCalls and JohnCalls are conditionally independent on Alarm:\n",
    "indepSynonymTable(model = alarmModel_brief, queryNode = 'M')"
   ]
  },
  {
   "cell_type": "code",
   "execution_count": 68,
   "metadata": {
    "lines_to_next_cell": 2,
    "title": "codecell"
   },
   "outputs": [
    {
     "name": "stdout",
     "output_type": "stream",
     "text": [
      "                   INDEPENDENCIES TABLE                  \n",
      "Fancy Notation              .....     Regular Notation   \n",
      "---------------------------------------------------------\n",
      "(J _|_ {B ∩ E ∩ M} | A)     .....     (J _|_ B, E, M | A)\n",
      "(J _|_ {B ∩ M ∩ E} | A)     .....     (J _|_ B, M, E | A)\n",
      "(J _|_ {E ∩ B ∩ M} | A)     .....     (J _|_ E, B, M | A)\n",
      "(J _|_ {E ∩ M ∩ B} | A)     .....     (J _|_ E, M, B | A)\n",
      "(J _|_ {M ∩ B ∩ E} | A)     .....     (J _|_ M, B, E | A)\n",
      "(J _|_ {M ∩ E ∩ B} | A)     .....     (J _|_ M, E, B | A)\n"
     ]
    }
   ],
   "source": [
    "indepSynonymTable(model = alarmModel_brief, queryNode = 'J')"
   ]
  },
  {
   "cell_type": "markdown",
   "metadata": {
    "title": "markdown"
   },
   "source": [
    "**Verify:** Using Probabilities Method"
   ]
  },
  {
   "cell_type": "markdown",
   "metadata": {
    "lines_to_next_cell": 0,
    "title": "markdown"
   },
   "source": [
    "The probability below is:\n",
    "$$\n",
    "\\begin{array}{ll}\n",
    "P(\\text{MaryCalls} = \\text{True} \\; | \\; \\text{Alarm} = \\text{True})\n",
    "&= P(\\text{MaryCalls} = \\text{True} \\; | \\; \\text{Alarm} = \\text{True} \\; \\cap \\; \\text{JohnCalls} = \\text{True})  \\\\\n",
    "&= P(\\text{MaryCalls} = \\text{True} \\; | \\; \\text{Alarm} = \\text{True} \\; \\cap \\; \\text{JohnCalls} = \\text{False}) \\\\\n",
    "&= 0.7\n",
    "\\end{array}\n",
    "$$"
   ]
  },
  {
   "cell_type": "code",
   "execution_count": 69,
   "metadata": {
    "lines_to_next_cell": 0,
    "title": "codecell"
   },
   "outputs": [
    {
     "name": "stderr",
     "output_type": "stream",
     "text": [
      "\r",
      "  0%|          | 0/3 [00:00<?, ?it/s]"
     ]
    },
    {
     "name": "stderr",
     "output_type": "stream",
     "text": [
      "\r",
      "Finding Elimination Order: :   0%|          | 0/3 [00:00<?, ?it/s]"
     ]
    },
    {
     "name": "stderr",
     "output_type": "stream",
     "text": [
      "\r",
      "Finding Elimination Order: : 100%|██████████| 3/3 [00:00<00:00, 1553.45it/s]"
     ]
    },
    {
     "name": "stderr",
     "output_type": "stream",
     "text": [
      "\n",
      "\r",
      "  0%|          | 0/3 [00:00<?, ?it/s]"
     ]
    },
    {
     "name": "stderr",
     "output_type": "stream",
     "text": [
      "\r",
      "Eliminating: JohnCalls:   0%|          | 0/3 [00:00<?, ?it/s]"
     ]
    },
    {
     "name": "stderr",
     "output_type": "stream",
     "text": [
      "\r",
      "Eliminating: Earthquake:   0%|          | 0/3 [00:00<?, ?it/s]"
     ]
    },
    {
     "name": "stderr",
     "output_type": "stream",
     "text": [
      "\r",
      "Eliminating: Burglary:   0%|          | 0/3 [00:00<?, ?it/s]  "
     ]
    },
    {
     "name": "stderr",
     "output_type": "stream",
     "text": [
      "\r",
      "Eliminating: Burglary: 100%|██████████| 3/3 [00:00<00:00, 663.76it/s]"
     ]
    },
    {
     "name": "stderr",
     "output_type": "stream",
     "text": [
      "\n",
      "\r",
      "  0%|          | 0/2 [00:00<?, ?it/s]"
     ]
    },
    {
     "name": "stderr",
     "output_type": "stream",
     "text": [
      "\r",
      "Finding Elimination Order: :   0%|          | 0/2 [00:00<?, ?it/s]"
     ]
    },
    {
     "name": "stderr",
     "output_type": "stream",
     "text": [
      "\r",
      "Finding Elimination Order: : 100%|██████████| 2/2 [00:00<00:00, 912.30it/s]"
     ]
    },
    {
     "name": "stderr",
     "output_type": "stream",
     "text": [
      "\n",
      "\r",
      "  0%|          | 0/2 [00:00<?, ?it/s]"
     ]
    },
    {
     "name": "stderr",
     "output_type": "stream",
     "text": [
      "\r",
      "Eliminating: Earthquake:   0%|          | 0/2 [00:00<?, ?it/s]"
     ]
    },
    {
     "name": "stderr",
     "output_type": "stream",
     "text": [
      "\r",
      "Eliminating: Burglary:   0%|          | 0/2 [00:00<?, ?it/s]  "
     ]
    },
    {
     "name": "stderr",
     "output_type": "stream",
     "text": [
      "\r",
      "Eliminating: Burglary: 100%|██████████| 2/2 [00:00<00:00, 535.43it/s]"
     ]
    },
    {
     "name": "stderr",
     "output_type": "stream",
     "text": [
      "\n",
      "\r",
      "  0%|          | 0/2 [00:00<?, ?it/s]"
     ]
    },
    {
     "name": "stderr",
     "output_type": "stream",
     "text": [
      "\r",
      "Finding Elimination Order: :   0%|          | 0/2 [00:00<?, ?it/s]"
     ]
    },
    {
     "name": "stderr",
     "output_type": "stream",
     "text": [
      "\r",
      "Finding Elimination Order: : 100%|██████████| 2/2 [00:00<00:00, 544.68it/s]"
     ]
    },
    {
     "name": "stderr",
     "output_type": "stream",
     "text": [
      "\n",
      "\r",
      "  0%|          | 0/2 [00:00<?, ?it/s]"
     ]
    },
    {
     "name": "stderr",
     "output_type": "stream",
     "text": [
      "\r",
      "Eliminating: Earthquake:   0%|          | 0/2 [00:00<?, ?it/s]"
     ]
    },
    {
     "name": "stderr",
     "output_type": "stream",
     "text": [
      "\r",
      "Eliminating: Burglary:   0%|          | 0/2 [00:00<?, ?it/s]  "
     ]
    },
    {
     "name": "stderr",
     "output_type": "stream",
     "text": [
      "\r",
      "Eliminating: Burglary: 100%|██████████| 2/2 [00:00<00:00, 201.23it/s]"
     ]
    },
    {
     "name": "stdout",
     "output_type": "stream",
     "text": [
      "+------------------+------------------+\n",
      "| MaryCalls        |   phi(MaryCalls) |\n",
      "+==================+==================+\n",
      "| MaryCalls(True)  |           0.7000 |\n",
      "+------------------+------------------+\n",
      "| MaryCalls(False) |           0.3000 |\n",
      "+------------------+------------------+\n"
     ]
    },
    {
     "name": "stderr",
     "output_type": "stream",
     "text": [
      "\n"
     ]
    }
   ],
   "source": [
    "\n",
    "# Case 1: Alarm = True\n",
    "JAM: DiscreteFactor = elim.query(variables = [MaryCalls.var], evidence = {Alarm.var: 'True'})\n",
    "JAM_1 = elim.query(variables = [MaryCalls.var], evidence = {Alarm.var: 'True', JohnCalls.var:'True'})\n",
    "JAM_2 = elim.query(variables = [MaryCalls.var], evidence = {Alarm.var: 'True', JohnCalls.var:'False'})\n",
    "\n",
    "assert (JAM.values == JAM_1.values).all() and (JAM.values == JAM_2.values).all(), \"Check: there is independence between MaryCalls and JohnCalls when Alarm state is observed (Alarm = True)\"\n",
    "\n",
    "print(JAM)"
   ]
  },
  {
   "cell_type": "markdown",
   "metadata": {
    "lines_to_next_cell": 0,
    "title": "markdown"
   },
   "source": [
    "The probability below is:\n",
    "$$\n",
    "\\begin{array}{ll}\n",
    "P(\\text{MaryCalls} = \\text{True} \\; | \\; \\text{Alarm} = \\text{False})\n",
    "&= P(\\text{MaryCalls} = \\text{True} \\; | \\; \\text{Alarm} = \\text{False} \\; \\cap \\; \\text{JohnCalls} = \\text{True})  \\\\\n",
    "&= P(\\text{MaryCalls} = \\text{True} \\; | \\; \\text{Alarm} = \\text{False} \\; \\cap \\; \\text{JohnCalls} = \\text{False}) \\\\\n",
    "&= 0.7\n",
    "\\end{array}\n",
    "$$"
   ]
  },
  {
   "cell_type": "code",
   "execution_count": 70,
   "metadata": {
    "title": "codecell"
   },
   "outputs": [
    {
     "name": "stderr",
     "output_type": "stream",
     "text": [
      "\r",
      "  0%|          | 0/3 [00:00<?, ?it/s]"
     ]
    },
    {
     "name": "stderr",
     "output_type": "stream",
     "text": [
      "\r",
      "Finding Elimination Order: :   0%|          | 0/3 [00:00<?, ?it/s]"
     ]
    },
    {
     "name": "stderr",
     "output_type": "stream",
     "text": [
      "\r",
      "Finding Elimination Order: : 100%|██████████| 3/3 [00:00<00:00, 985.35it/s]"
     ]
    },
    {
     "name": "stderr",
     "output_type": "stream",
     "text": [
      "\n",
      "\r",
      "  0%|          | 0/3 [00:00<?, ?it/s]"
     ]
    },
    {
     "name": "stderr",
     "output_type": "stream",
     "text": [
      "\r",
      "Eliminating: JohnCalls:   0%|          | 0/3 [00:00<?, ?it/s]"
     ]
    },
    {
     "name": "stderr",
     "output_type": "stream",
     "text": [
      "\r",
      "Eliminating: Earthquake:   0%|          | 0/3 [00:00<?, ?it/s]"
     ]
    },
    {
     "name": "stderr",
     "output_type": "stream",
     "text": [
      "\r",
      "Eliminating: Burglary:   0%|          | 0/3 [00:00<?, ?it/s]  "
     ]
    },
    {
     "name": "stderr",
     "output_type": "stream",
     "text": [
      "\r",
      "Eliminating: Burglary: 100%|██████████| 3/3 [00:00<00:00, 678.69it/s]"
     ]
    },
    {
     "name": "stderr",
     "output_type": "stream",
     "text": [
      "\n",
      "\r",
      "  0%|          | 0/2 [00:00<?, ?it/s]"
     ]
    },
    {
     "name": "stderr",
     "output_type": "stream",
     "text": [
      "\r",
      "Finding Elimination Order: :   0%|          | 0/2 [00:00<?, ?it/s]"
     ]
    },
    {
     "name": "stderr",
     "output_type": "stream",
     "text": [
      "\r",
      "Finding Elimination Order: : 100%|██████████| 2/2 [00:00<00:00, 1047.79it/s]"
     ]
    },
    {
     "name": "stderr",
     "output_type": "stream",
     "text": [
      "\n",
      "\r",
      "  0%|          | 0/2 [00:00<?, ?it/s]"
     ]
    },
    {
     "name": "stderr",
     "output_type": "stream",
     "text": [
      "\r",
      "Eliminating: Earthquake:   0%|          | 0/2 [00:00<?, ?it/s]"
     ]
    },
    {
     "name": "stderr",
     "output_type": "stream",
     "text": [
      "\r",
      "Eliminating: Burglary:   0%|          | 0/2 [00:00<?, ?it/s]  "
     ]
    },
    {
     "name": "stderr",
     "output_type": "stream",
     "text": [
      "\r",
      "Eliminating: Burglary: 100%|██████████| 2/2 [00:00<00:00, 430.05it/s]"
     ]
    },
    {
     "name": "stderr",
     "output_type": "stream",
     "text": [
      "\n",
      "\r",
      "  0%|          | 0/2 [00:00<?, ?it/s]"
     ]
    },
    {
     "name": "stderr",
     "output_type": "stream",
     "text": [
      "\r",
      "Finding Elimination Order: :   0%|          | 0/2 [00:00<?, ?it/s]"
     ]
    },
    {
     "name": "stderr",
     "output_type": "stream",
     "text": [
      "\r",
      "Finding Elimination Order: : 100%|██████████| 2/2 [00:00<00:00, 1214.86it/s]"
     ]
    },
    {
     "name": "stderr",
     "output_type": "stream",
     "text": [
      "\n",
      "\r",
      "  0%|          | 0/2 [00:00<?, ?it/s]"
     ]
    },
    {
     "name": "stderr",
     "output_type": "stream",
     "text": [
      "\r",
      "Eliminating: Earthquake:   0%|          | 0/2 [00:00<?, ?it/s]"
     ]
    },
    {
     "name": "stderr",
     "output_type": "stream",
     "text": [
      "\r",
      "Eliminating: Burglary:   0%|          | 0/2 [00:00<?, ?it/s]  "
     ]
    },
    {
     "name": "stderr",
     "output_type": "stream",
     "text": [
      "\r",
      "Eliminating: Burglary: 100%|██████████| 2/2 [00:00<00:00, 547.60it/s]"
     ]
    },
    {
     "name": "stdout",
     "output_type": "stream",
     "text": [
      "+------------------+------------------+\n",
      "| MaryCalls        |   phi(MaryCalls) |\n",
      "+==================+==================+\n",
      "| MaryCalls(True)  |           0.0100 |\n",
      "+------------------+------------------+\n",
      "| MaryCalls(False) |           0.9900 |\n",
      "+------------------+------------------+\n"
     ]
    },
    {
     "name": "stderr",
     "output_type": "stream",
     "text": [
      "\n"
     ]
    }
   ],
   "source": [
    "\n",
    "# Case 2: Alarm = False\n",
    "JAM: DiscreteFactor = elim.query(variables = [MaryCalls.var], evidence = {Alarm.var: 'False'})\n",
    "JAM_1 = elim.query(variables = [MaryCalls.var], evidence = {Alarm.var: 'False', JohnCalls.var:'True'})\n",
    "JAM_2 = elim.query(variables = [MaryCalls.var], evidence = {Alarm.var: 'False', JohnCalls.var:'False'})\n",
    "\n",
    "assert (JAM.values == JAM_1.values).all() and (JAM.values == JAM_2.values).all(), \"Check: there is independence between MaryCalls and JohnCalls when Alarm state is observed (Alarm = False)\"\n",
    "\n",
    "print(JAM)"
   ]
  },
  {
   "cell_type": "code",
   "execution_count": 71,
   "metadata": {
    "title": "codecell"
   },
   "outputs": [
    {
     "name": "stderr",
     "output_type": "stream",
     "text": [
      "\r",
      "  0%|          | 0/3 [00:00<?, ?it/s]"
     ]
    },
    {
     "name": "stderr",
     "output_type": "stream",
     "text": [
      "\r",
      "Finding Elimination Order: :   0%|          | 0/3 [00:00<?, ?it/s]"
     ]
    },
    {
     "name": "stderr",
     "output_type": "stream",
     "text": [
      "\r",
      "Finding Elimination Order: : 100%|██████████| 3/3 [00:00<00:00, 1745.93it/s]"
     ]
    },
    {
     "name": "stderr",
     "output_type": "stream",
     "text": [
      "\n",
      "\r",
      "  0%|          | 0/3 [00:00<?, ?it/s]"
     ]
    },
    {
     "name": "stderr",
     "output_type": "stream",
     "text": [
      "\r",
      "Eliminating: Earthquake:   0%|          | 0/3 [00:00<?, ?it/s]"
     ]
    },
    {
     "name": "stderr",
     "output_type": "stream",
     "text": [
      "\r",
      "Eliminating: MaryCalls:   0%|          | 0/3 [00:00<?, ?it/s] "
     ]
    },
    {
     "name": "stderr",
     "output_type": "stream",
     "text": [
      "\r",
      "Eliminating: Burglary:   0%|          | 0/3 [00:00<?, ?it/s] "
     ]
    },
    {
     "name": "stderr",
     "output_type": "stream",
     "text": [
      "\r",
      "Eliminating: Burglary: 100%|██████████| 3/3 [00:00<00:00, 313.62it/s]"
     ]
    },
    {
     "name": "stderr",
     "output_type": "stream",
     "text": [
      "\n"
     ]
    },
    {
     "name": "stderr",
     "output_type": "stream",
     "text": [
      "\r",
      "  0%|          | 0/2 [00:00<?, ?it/s]"
     ]
    },
    {
     "name": "stderr",
     "output_type": "stream",
     "text": [
      "\r",
      "Finding Elimination Order: :   0%|          | 0/2 [00:00<?, ?it/s]"
     ]
    },
    {
     "name": "stderr",
     "output_type": "stream",
     "text": [
      "\r",
      "Finding Elimination Order: : 100%|██████████| 2/2 [00:00<00:00, 869.38it/s]"
     ]
    },
    {
     "name": "stderr",
     "output_type": "stream",
     "text": [
      "\n",
      "\r",
      "  0%|          | 0/2 [00:00<?, ?it/s]"
     ]
    },
    {
     "name": "stderr",
     "output_type": "stream",
     "text": [
      "\r",
      "Eliminating: Earthquake:   0%|          | 0/2 [00:00<?, ?it/s]"
     ]
    },
    {
     "name": "stderr",
     "output_type": "stream",
     "text": [
      "\r",
      "Eliminating: Burglary:   0%|          | 0/2 [00:00<?, ?it/s]  "
     ]
    },
    {
     "name": "stderr",
     "output_type": "stream",
     "text": [
      "\r",
      "Eliminating: Burglary: 100%|██████████| 2/2 [00:00<00:00, 530.89it/s]"
     ]
    },
    {
     "name": "stderr",
     "output_type": "stream",
     "text": [
      "\n"
     ]
    },
    {
     "name": "stderr",
     "output_type": "stream",
     "text": [
      "\r",
      "  0%|          | 0/2 [00:00<?, ?it/s]"
     ]
    },
    {
     "name": "stderr",
     "output_type": "stream",
     "text": [
      "\r",
      "Finding Elimination Order: :   0%|          | 0/2 [00:00<?, ?it/s]"
     ]
    },
    {
     "name": "stderr",
     "output_type": "stream",
     "text": [
      "\r",
      "Finding Elimination Order: : 100%|██████████| 2/2 [00:00<00:00, 1074.64it/s]"
     ]
    },
    {
     "name": "stderr",
     "output_type": "stream",
     "text": [
      "\n",
      "\r",
      "  0%|          | 0/2 [00:00<?, ?it/s]"
     ]
    },
    {
     "name": "stderr",
     "output_type": "stream",
     "text": [
      "\r",
      "Eliminating: Earthquake:   0%|          | 0/2 [00:00<?, ?it/s]"
     ]
    },
    {
     "name": "stderr",
     "output_type": "stream",
     "text": [
      "\r",
      "Eliminating: Burglary:   0%|          | 0/2 [00:00<?, ?it/s]  "
     ]
    },
    {
     "name": "stderr",
     "output_type": "stream",
     "text": [
      "\r",
      "Eliminating: Burglary: 100%|██████████| 2/2 [00:00<00:00, 507.42it/s]"
     ]
    },
    {
     "name": "stderr",
     "output_type": "stream",
     "text": [
      "\n"
     ]
    },
    {
     "name": "stdout",
     "output_type": "stream",
     "text": [
      "+------------------+------------------+\n",
      "| JohnCalls        |   phi(JohnCalls) |\n",
      "+==================+==================+\n",
      "| JohnCalls(True)  |           0.0500 |\n",
      "+------------------+------------------+\n",
      "| JohnCalls(False) |           0.9500 |\n",
      "+------------------+------------------+\n"
     ]
    }
   ],
   "source": [
    "# Symmetry:\n",
    "MAJ: DiscreteFactor = elim.query(variables = [JohnCalls.var], evidence = {Alarm.var: 'False'})\n",
    "MAJ_1 = elim.query(variables = [JohnCalls.var], evidence = {Alarm.var: 'False', MaryCalls.var:'True'})\n",
    "MAJ_2 = elim.query(variables = [JohnCalls.var], evidence = {Alarm.var: 'False', MaryCalls.var:'False'})\n",
    "\n",
    "assert (MAJ.values == MAJ_1.values).all() and (MAJ.values == MAJ_2.values).all(), \"Check: there is independence between MaryCalls and JohnCalls when Alarm state is observed (Alarm = False)\"\n",
    "\n",
    "print(MAJ)\n",
    "\n",
    "\n"
   ]
  },
  {
   "cell_type": "markdown",
   "metadata": {
    "lines_to_next_cell": 2,
    "title": "markdown"
   },
   "source": [
    "### 4. Inter-Causal Reasoning in the Alarm Model\n",
    "For a common evidence model $A \\rightarrow B \\leftarrow C$, there are two cases:\n",
    "  * **Marginal Independence:** ($B$ unknown): When $B$ is unknown / unobserved, there is NO active trail between $A$ and $C$; they are independent. The probability of $A$ won't influence probability of $C$ (and vice versa) when $B$'s state is unknown.\n",
    "  * **Conditional Dependence:** ($B$ fixed): When $B$ is fixed, there IS an active trail between $A$ and $C$, meaning the probability of $A$ can influence probability of $C$ (and vice versa) when information about $B$ is observed / fixed."
   ]
  },
  {
   "cell_type": "code",
   "execution_count": 72,
   "metadata": {
    "lines_to_next_cell": 0,
    "title": "codecell"
   },
   "outputs": [
    {
     "data": {
      "image/svg+xml": [
       "<?xml version=\"1.0\" encoding=\"UTF-8\" standalone=\"no\"?>\n",
       "<!DOCTYPE svg PUBLIC \"-//W3C//DTD SVG 1.1//EN\"\n",
       " \"http://www.w3.org/Graphics/SVG/1.1/DTD/svg11.dtd\">\n",
       "<!-- Generated by graphviz version 2.38.0 (20140413.2041)\n",
       " -->\n",
       "<!-- Title: G Pages: 1 -->\n",
       "<svg width=\"214pt\" height=\"188pt\"\n",
       " viewBox=\"0.00 0.00 214.18 188.00\" xmlns=\"http://www.w3.org/2000/svg\" xmlns:xlink=\"http://www.w3.org/1999/xlink\">\n",
       "<g id=\"graph0\" class=\"graph\" transform=\"scale(1 1) rotate(0) translate(4 184)\">\n",
       "<title>G</title>\n",
       "<polygon fill=\"white\" stroke=\"none\" points=\"-4,4 -4,-184 210.185,-184 210.185,4 -4,4\"/>\n",
       "<!-- Burglary -->\n",
       "<g id=\"node1\" class=\"node\"><title>Burglary</title>\n",
       "<defs>\n",
       "<linearGradient id=\"l_0\" gradientUnits=\"userSpaceOnUse\" x1=\"41.8599\" y1=\"-144\" x2=\"41.8599\" y2=\"-180\" >\n",
       "<stop offset=\"0\" style=\"stop-color:#ceccff;stop-opacity:1.;\"/>\n",
       "<stop offset=\"1\" style=\"stop-color:white;stop-opacity:1.;\"/>\n",
       "</linearGradient>\n",
       "</defs>\n",
       "<ellipse fill=\"url(#l_0)\" stroke=\"#ff638d\" cx=\"41.8599\" cy=\"-162\" rx=\"41.7203\" ry=\"18\"/>\n",
       "<text text-anchor=\"middle\" x=\"41.8599\" y=\"-158.9\" font-family=\"Acme-Regular.ttf\" font-size=\"12.00\">Burglary</text>\n",
       "</g>\n",
       "<!-- Alarm -->\n",
       "<g id=\"node2\" class=\"node\"><title>Alarm</title>\n",
       "<defs>\n",
       "<linearGradient id=\"l_1\" gradientUnits=\"userSpaceOnUse\" x1=\"97.8599\" y1=\"-72\" x2=\"97.8599\" y2=\"-108\" >\n",
       "<stop offset=\"0\" style=\"stop-color:#ceccff;stop-opacity:1.;\"/>\n",
       "<stop offset=\"1\" style=\"stop-color:white;stop-opacity:1.;\"/>\n",
       "</linearGradient>\n",
       "</defs>\n",
       "<ellipse fill=\"url(#l_1)\" stroke=\"#ff638d\" cx=\"97.8599\" cy=\"-90\" rx=\"32.7527\" ry=\"18\"/>\n",
       "<text text-anchor=\"middle\" x=\"97.8599\" y=\"-86.9\" font-family=\"Acme-Regular.ttf\" font-size=\"12.00\">Alarm</text>\n",
       "</g>\n",
       "<!-- Burglary&#45;&gt;Alarm -->\n",
       "<g id=\"edge1\" class=\"edge\"><title>Burglary&#45;&gt;Alarm</title>\n",
       "<path fill=\"none\" stroke=\"#ff638d\" d=\"M54.8482,-144.765C62.0171,-135.804 71.05,-124.512 78.985,-114.594\"/>\n",
       "<polygon fill=\"#ff638d\" stroke=\"#ff638d\" points=\"81.8134,-116.661 85.3273,-106.666 76.3473,-112.288 81.8134,-116.661\"/>\n",
       "</g>\n",
       "<!-- JohnCalls -->\n",
       "<g id=\"node3\" class=\"node\"><title>JohnCalls</title>\n",
       "<defs>\n",
       "<linearGradient id=\"l_2\" gradientUnits=\"userSpaceOnUse\" x1=\"44.8599\" y1=\"-1.77636e-14\" x2=\"44.8599\" y2=\"-36\" >\n",
       "<stop offset=\"0\" style=\"stop-color:#ceccff;stop-opacity:1.;\"/>\n",
       "<stop offset=\"1\" style=\"stop-color:white;stop-opacity:1.;\"/>\n",
       "</linearGradient>\n",
       "</defs>\n",
       "<ellipse fill=\"url(#l_2)\" stroke=\"#ff638d\" cx=\"44.8599\" cy=\"-18\" rx=\"43.9143\" ry=\"18\"/>\n",
       "<text text-anchor=\"middle\" x=\"44.8599\" y=\"-14.9\" font-family=\"Acme-Regular.ttf\" font-size=\"12.00\">JohnCalls</text>\n",
       "</g>\n",
       "<!-- Alarm&#45;&gt;JohnCalls -->\n",
       "<g id=\"edge2\" class=\"edge\"><title>Alarm&#45;&gt;JohnCalls</title>\n",
       "<path fill=\"none\" stroke=\"#ff638d\" d=\"M85.8334,-73.1159C79.2193,-64.3803 70.8699,-53.3528 63.4366,-43.5352\"/>\n",
       "<polygon fill=\"#ff638d\" stroke=\"#ff638d\" points=\"66.0335,-41.1669 57.2066,-35.307 60.4527,-45.3923 66.0335,-41.1669\"/>\n",
       "</g>\n",
       "<!-- MaryCalls -->\n",
       "<g id=\"node4\" class=\"node\"><title>MaryCalls</title>\n",
       "<defs>\n",
       "<linearGradient id=\"l_3\" gradientUnits=\"userSpaceOnUse\" x1=\"151.86\" y1=\"-1.77636e-14\" x2=\"151.86\" y2=\"-36\" >\n",
       "<stop offset=\"0\" style=\"stop-color:#ceccff;stop-opacity:1.;\"/>\n",
       "<stop offset=\"1\" style=\"stop-color:white;stop-opacity:1.;\"/>\n",
       "</linearGradient>\n",
       "</defs>\n",
       "<ellipse fill=\"url(#l_3)\" stroke=\"#ff638d\" cx=\"151.86\" cy=\"-18\" rx=\"45.6069\" ry=\"18\"/>\n",
       "<text text-anchor=\"middle\" x=\"151.86\" y=\"-14.9\" font-family=\"Acme-Regular.ttf\" font-size=\"12.00\">MaryCalls</text>\n",
       "</g>\n",
       "<!-- Alarm&#45;&gt;MaryCalls -->\n",
       "<g id=\"edge3\" class=\"edge\"><title>Alarm&#45;&gt;MaryCalls</title>\n",
       "<path fill=\"none\" stroke=\"#ff638d\" d=\"M110.113,-73.1159C116.92,-64.292 125.531,-53.1298 133.162,-43.238\"/>\n",
       "<polygon fill=\"#ff638d\" stroke=\"#ff638d\" points=\"135.943,-45.3627 139.28,-35.307 130.401,-41.087 135.943,-45.3627\"/>\n",
       "</g>\n",
       "<!-- Earthquake -->\n",
       "<g id=\"node5\" class=\"node\"><title>Earthquake</title>\n",
       "<defs>\n",
       "<linearGradient id=\"l_4\" gradientUnits=\"userSpaceOnUse\" x1=\"153.86\" y1=\"-144\" x2=\"153.86\" y2=\"-180\" >\n",
       "<stop offset=\"0\" style=\"stop-color:#ceccff;stop-opacity:1.;\"/>\n",
       "<stop offset=\"1\" style=\"stop-color:white;stop-opacity:1.;\"/>\n",
       "</linearGradient>\n",
       "</defs>\n",
       "<ellipse fill=\"url(#l_4)\" stroke=\"#ff638d\" cx=\"153.86\" cy=\"-162\" rx=\"52.1504\" ry=\"18\"/>\n",
       "<text text-anchor=\"middle\" x=\"153.86\" y=\"-158.9\" font-family=\"Acme-Regular.ttf\" font-size=\"12.00\">Earthquake</text>\n",
       "</g>\n",
       "<!-- Earthquake&#45;&gt;Alarm -->\n",
       "<g id=\"edge4\" class=\"edge\"><title>Earthquake&#45;&gt;Alarm</title>\n",
       "<path fill=\"none\" stroke=\"#ff638d\" d=\"M140.589,-144.411C133.584,-135.655 124.861,-124.751 117.126,-115.082\"/>\n",
       "<polygon fill=\"#ff638d\" stroke=\"#ff638d\" points=\"119.63,-112.61 110.65,-106.988 114.164,-116.983 119.63,-112.61\"/>\n",
       "</g>\n",
       "</g>\n",
       "</svg>\n"
      ],
      "text/plain": [
       "<graphviz.dot.Digraph at 0x7fa83626a210>"
      ]
     },
     "execution_count": 72,
     "metadata": {},
     "output_type": "execute_result"
    }
   ],
   "source": [
    "pgmpyToGraph(alarmModel)"
   ]
  },
  {
   "cell_type": "markdown",
   "metadata": {
    "lines_to_next_cell": 0,
    "title": "markdown"
   },
   "source": [
    "### Case 1: Marginal Independence (for Common Evidence Model)\n",
    "\n",
    "$$\n",
    "\\color{DeepSkyBlue}{ \\text{Alarm (observed): }\\;\\;\\;\\;\\;\\;\\;\\; \\text{Burglary} \\; \\bot \\; \\text{Earthquake} \\; | \\; \\text{Alarm}}\n",
    "$$\n",
    "\n",
    "When the effect node `Alarm` is unknown / unobserved, there is NO an active trail between `Burglary` and `Earthquake`. In other words, there is a local marginal independence between `Burglary` and `Earthquake` when `Alarm` is unobserved. This means the probability of `Burglary` won't influence the probability of `Earthquake` (and vice versa) when `Alarm`'s state is unknown.\n"
   ]
  },
  {
   "cell_type": "markdown",
   "metadata": {
    "lines_to_next_cell": 0,
    "title": "markdown"
   },
   "source": [
    "**Verify:** Using Active Trails"
   ]
  },
  {
   "cell_type": "code",
   "execution_count": 73,
   "metadata": {
    "title": "codecell"
   },
   "outputs": [
    {
     "name": "stdout",
     "output_type": "stream",
     "text": [
      "Burglary --> JohnCalls\n",
      "Burglary --> Burglary\n",
      "Burglary --> Alarm\n",
      "Burglary --> MaryCalls\n",
      "Earthquake --> JohnCalls\n",
      "Earthquake --> Earthquake\n",
      "Earthquake --> Alarm\n",
      "Earthquake --> MaryCalls\n"
     ]
    }
   ],
   "source": [
    "assert not alarmModel.is_active_trail(start = Burglary.var, end = Earthquake.var, observed = None)\n",
    "\n",
    "showActiveTrails(model = alarmModel, variables = [Burglary.var, Earthquake.var])"
   ]
  },
  {
   "cell_type": "markdown",
   "metadata": {
    "lines_to_next_cell": 0,
    "title": "markdown"
   },
   "source": [
    "**Verify:** Using Independencies"
   ]
  },
  {
   "cell_type": "code",
   "execution_count": 74,
   "metadata": {
    "lines_to_next_cell": 2,
    "title": "codecell"
   },
   "outputs": [
    {
     "name": "stdout",
     "output_type": "stream",
     "text": [
      "                       INDEPENDENCIES TABLE                      \n",
      "Fancy Notation                .....     Regular Notation         \n",
      "-----------------------------------------------------------------\n",
      "(Burglary _|_ Earthquake)     .....     (Burglary _|_ Earthquake)\n",
      "None\n",
      "                       INDEPENDENCIES TABLE                      \n",
      "Fancy Notation                .....     Regular Notation         \n",
      "-----------------------------------------------------------------\n",
      "(Earthquake _|_ Burglary)     .....     (Earthquake _|_ Burglary)\n",
      "None\n"
     ]
    }
   ],
   "source": [
    "indepBurgEarth = Independencies([Burglary.var, Earthquake.var])\n",
    "\n",
    "assert indepBurgEarth == alarmModel.local_independencies(Burglary.var), 'Check 1: Burglary and Earthquake are marginally independent'\n",
    "\n",
    "assert indepBurgEarth == alarmModel.local_independencies(Earthquake.var), 'Check 2: Burglary and Earthquake are marginally independent'\n",
    "\n",
    "\n",
    "# See: MaryCalls and Burglary are marginally independent :\n",
    "print(indepSynonymTable(model = alarmModel, queryNode = Burglary.var))\n",
    "print(indepSynonymTable(model = alarmModel, queryNode = Earthquake.var))"
   ]
  },
  {
   "cell_type": "markdown",
   "metadata": {
    "lines_to_next_cell": 0,
    "title": "markdown"
   },
   "source": [
    "**Verify:** Using Probabilities Method"
   ]
  },
  {
   "cell_type": "markdown",
   "metadata": {
    "lines_to_next_cell": 0,
    "title": "markdown"
   },
   "source": [
    "The probability below is:\n",
    "$$\n",
    "\\begin{array}{ll}\n",
    "P(\\text{Earthquake} = \\text{True})\n",
    "&= P(\\text{Earthquake} = \\text{True} \\; | \\; \\text{Burglary} = \\text{True})  \\\\\n",
    "&= P(\\text{Earthquake} = \\text{True} \\; | \\; \\text{Burglary} = \\text{False}) \\\\\n",
    "&= 0.7\n",
    "\\end{array}\n",
    "$$"
   ]
  },
  {
   "cell_type": "code",
   "execution_count": 75,
   "metadata": {
    "title": "codecell"
   },
   "outputs": [
    {
     "name": "stderr",
     "output_type": "stream",
     "text": [
      "\r",
      "  0%|          | 0/4 [00:00<?, ?it/s]"
     ]
    },
    {
     "name": "stderr",
     "output_type": "stream",
     "text": [
      "\r",
      "Finding Elimination Order: :   0%|          | 0/4 [00:00<?, ?it/s]"
     ]
    },
    {
     "name": "stderr",
     "output_type": "stream",
     "text": [
      "\r",
      "Finding Elimination Order: : 100%|██████████| 4/4 [00:00<00:00, 1685.64it/s]"
     ]
    },
    {
     "name": "stderr",
     "output_type": "stream",
     "text": [
      "\n",
      "\r",
      "  0%|          | 0/4 [00:00<?, ?it/s]"
     ]
    },
    {
     "name": "stderr",
     "output_type": "stream",
     "text": [
      "\r",
      "Eliminating: JohnCalls:   0%|          | 0/4 [00:00<?, ?it/s]"
     ]
    },
    {
     "name": "stderr",
     "output_type": "stream",
     "text": [
      "\r",
      "Eliminating: Burglary:   0%|          | 0/4 [00:00<?, ?it/s] "
     ]
    },
    {
     "name": "stderr",
     "output_type": "stream",
     "text": [
      "\r",
      "Eliminating: Alarm:   0%|          | 0/4 [00:00<?, ?it/s]   "
     ]
    },
    {
     "name": "stderr",
     "output_type": "stream",
     "text": [
      "\r",
      "Eliminating: MaryCalls:   0%|          | 0/4 [00:00<?, ?it/s]"
     ]
    },
    {
     "name": "stderr",
     "output_type": "stream",
     "text": [
      "\r",
      "Eliminating: MaryCalls: 100%|██████████| 4/4 [00:00<00:00, 393.26it/s]"
     ]
    },
    {
     "name": "stderr",
     "output_type": "stream",
     "text": [
      "\n",
      "\r",
      "  0%|          | 0/3 [00:00<?, ?it/s]"
     ]
    },
    {
     "name": "stderr",
     "output_type": "stream",
     "text": [
      "\r",
      "Finding Elimination Order: :   0%|          | 0/3 [00:00<?, ?it/s]"
     ]
    },
    {
     "name": "stderr",
     "output_type": "stream",
     "text": [
      "\r",
      "Finding Elimination Order: : 100%|██████████| 3/3 [00:00<00:00, 469.30it/s]"
     ]
    },
    {
     "name": "stderr",
     "output_type": "stream",
     "text": [
      "\n"
     ]
    },
    {
     "name": "stderr",
     "output_type": "stream",
     "text": [
      "\r",
      "  0%|          | 0/3 [00:00<?, ?it/s]"
     ]
    },
    {
     "name": "stderr",
     "output_type": "stream",
     "text": [
      "\r",
      "Eliminating: JohnCalls:   0%|          | 0/3 [00:00<?, ?it/s]"
     ]
    },
    {
     "name": "stderr",
     "output_type": "stream",
     "text": [
      "\r",
      "Eliminating: MaryCalls:   0%|          | 0/3 [00:00<?, ?it/s]"
     ]
    },
    {
     "name": "stderr",
     "output_type": "stream",
     "text": [
      "\r",
      "Eliminating: Alarm:   0%|          | 0/3 [00:00<?, ?it/s]    "
     ]
    },
    {
     "name": "stderr",
     "output_type": "stream",
     "text": [
      "\r",
      "Eliminating: Alarm: 100%|██████████| 3/3 [00:00<00:00, 274.31it/s]"
     ]
    },
    {
     "name": "stderr",
     "output_type": "stream",
     "text": [
      "\n"
     ]
    },
    {
     "name": "stderr",
     "output_type": "stream",
     "text": [
      "\r",
      "  0%|          | 0/3 [00:00<?, ?it/s]"
     ]
    },
    {
     "name": "stderr",
     "output_type": "stream",
     "text": [
      "\r",
      "Finding Elimination Order: :   0%|          | 0/3 [00:00<?, ?it/s]"
     ]
    },
    {
     "name": "stderr",
     "output_type": "stream",
     "text": [
      "\r",
      "Finding Elimination Order: : 100%|██████████| 3/3 [00:00<00:00, 1529.65it/s]"
     ]
    },
    {
     "name": "stderr",
     "output_type": "stream",
     "text": [
      "\n",
      "\r",
      "  0%|          | 0/3 [00:00<?, ?it/s]"
     ]
    },
    {
     "name": "stderr",
     "output_type": "stream",
     "text": [
      "\r",
      "Eliminating: JohnCalls:   0%|          | 0/3 [00:00<?, ?it/s]"
     ]
    },
    {
     "name": "stderr",
     "output_type": "stream",
     "text": [
      "\r",
      "Eliminating: MaryCalls:   0%|          | 0/3 [00:00<?, ?it/s]"
     ]
    },
    {
     "name": "stderr",
     "output_type": "stream",
     "text": [
      "\r",
      "Eliminating: Alarm:   0%|          | 0/3 [00:00<?, ?it/s]    "
     ]
    },
    {
     "name": "stderr",
     "output_type": "stream",
     "text": [
      "\r",
      "Eliminating: Alarm: 100%|██████████| 3/3 [00:00<00:00, 470.16it/s]"
     ]
    },
    {
     "name": "stdout",
     "output_type": "stream",
     "text": [
      "+-------------------+-------------------+\n",
      "| Earthquake        |   phi(Earthquake) |\n",
      "+===================+===================+\n",
      "| Earthquake(True)  |            0.0020 |\n",
      "+-------------------+-------------------+\n",
      "| Earthquake(False) |            0.9980 |\n",
      "+-------------------+-------------------+\n"
     ]
    },
    {
     "name": "stderr",
     "output_type": "stream",
     "text": [
      "\n"
     ]
    }
   ],
   "source": [
    "\n",
    "BE: DiscreteFactor = elim.query(variables = [Earthquake.var], evidence = None)\n",
    "BE_1 = elim.query(variables = [Earthquake.var], evidence = {Burglary.var:'True'})\n",
    "BE_2 = elim.query(variables = [Earthquake.var], evidence = {Burglary.var: 'False'})\n",
    "\n",
    "# Using np.allclose instead of exact equals sign (there must be some numerical inconsistency ... otherwise they wouldn't be different at all! BAE.values[0] = 0.0019999999 while BAE_1.values[0] = 0.002)\n",
    "assert np.allclose(BE.values, BE_1.values) and np.allclose(BE.values, BE_2.values), \"Check: there is marginal independence between Earthquake and Burglary when Alarm state is NOT observed\"\n",
    "\n",
    "print(BE)\n",
    "\n"
   ]
  },
  {
   "cell_type": "markdown",
   "metadata": {
    "title": "markdown"
   },
   "source": [
    "### Case 2: Conditional Dependence (for Common Evidence Model)\n",
    "\n",
    "$$\n",
    "\\color{Green}{ \\text{Alarm (unobserved): }\\;\\;\\;\\;\\;\\;\\;\\;\\; \\text{Burglary} \\longleftarrow \\text{Alarm} \\longrightarrow \\text{Earthquake}}\n",
    "$$\n",
    "When the `Alarm`'s state is known (fixed / observed), then there IS an active trail between `Burglary` and `Earthquake`. In other words, `Burglary` and `Earthquake` are dependent when `Alarm`'s state is observed. This means the probability of `Burglary` can influence probability of `Earthquake` (and vice versa) when `Alarm`'s state is observed."
   ]
  },
  {
   "cell_type": "markdown",
   "metadata": {
    "lines_to_next_cell": 0,
    "title": "markdown"
   },
   "source": [
    "**Verify:** Using Active Trails"
   ]
  },
  {
   "cell_type": "code",
   "execution_count": 76,
   "metadata": {
    "lines_to_next_cell": 2,
    "title": "codecell"
   },
   "outputs": [
    {
     "name": "stdout",
     "output_type": "stream",
     "text": [
      "Burglary --> Earthquake\n",
      "Burglary --> Burglary\n",
      "Earthquake --> Earthquake\n",
      "Earthquake --> Burglary\n"
     ]
    }
   ],
   "source": [
    "assert alarmModel.is_active_trail(start = Burglary.var, end = Earthquake.var,  observed = Alarm.var)\n",
    "\n",
    "showActiveTrails(model = alarmModel, variables = [Burglary.var, Earthquake.var], observed = Alarm.var)"
   ]
  },
  {
   "cell_type": "markdown",
   "metadata": {
    "lines_to_next_cell": 0,
    "title": "markdown"
   },
   "source": [
    "**Verify:** Using Probabilities\n",
    "* **NOTE:** Inter-Causal Reasoning For Common Evidence Model:"
   ]
  },
  {
   "cell_type": "code",
   "execution_count": 77,
   "metadata": {
    "lines_to_next_cell": 0,
    "title": "codecell"
   },
   "outputs": [
    {
     "name": "stderr",
     "output_type": "stream",
     "text": [
      "\r",
      "  0%|          | 0/3 [00:00<?, ?it/s]"
     ]
    },
    {
     "name": "stderr",
     "output_type": "stream",
     "text": [
      "\r",
      "Finding Elimination Order: :   0%|          | 0/3 [00:00<?, ?it/s]"
     ]
    },
    {
     "name": "stderr",
     "output_type": "stream",
     "text": [
      "\r",
      "Finding Elimination Order: : 100%|██████████| 3/3 [00:00<00:00, 1075.83it/s]"
     ]
    },
    {
     "name": "stderr",
     "output_type": "stream",
     "text": [
      "\n",
      "\r",
      "  0%|          | 0/3 [00:00<?, ?it/s]"
     ]
    },
    {
     "name": "stderr",
     "output_type": "stream",
     "text": [
      "\r",
      "Eliminating: JohnCalls:   0%|          | 0/3 [00:00<?, ?it/s]"
     ]
    },
    {
     "name": "stderr",
     "output_type": "stream",
     "text": [
      "\r",
      "Eliminating: Burglary:   0%|          | 0/3 [00:00<?, ?it/s] "
     ]
    },
    {
     "name": "stderr",
     "output_type": "stream",
     "text": [
      "\r",
      "Eliminating: MaryCalls:   0%|          | 0/3 [00:00<?, ?it/s]"
     ]
    },
    {
     "name": "stderr",
     "output_type": "stream",
     "text": [
      "\r",
      "Eliminating: MaryCalls: 100%|██████████| 3/3 [00:00<00:00, 622.76it/s]"
     ]
    },
    {
     "name": "stdout",
     "output_type": "stream",
     "text": [
      "+-------------------+-------------------+\n",
      "| Earthquake        |   phi(Earthquake) |\n",
      "+===================+===================+\n",
      "| Earthquake(True)  |            0.2310 |\n",
      "+-------------------+-------------------+\n",
      "| Earthquake(False) |            0.7690 |\n",
      "+-------------------+-------------------+\n"
     ]
    },
    {
     "name": "stderr",
     "output_type": "stream",
     "text": [
      "\n"
     ]
    }
   ],
   "source": [
    "\n",
    "# Case 1: Alarm = True\n",
    "BAE: DiscreteFactor = elim.query(variables = [Earthquake.var], evidence = {Alarm.var: 'True'})\n",
    "print(BAE)"
   ]
  },
  {
   "cell_type": "code",
   "execution_count": 78,
   "metadata": {
    "lines_to_next_cell": 0,
    "title": "codecell"
   },
   "outputs": [
    {
     "name": "stderr",
     "output_type": "stream",
     "text": [
      "\r",
      "  0%|          | 0/2 [00:00<?, ?it/s]"
     ]
    },
    {
     "name": "stderr",
     "output_type": "stream",
     "text": [
      "\r",
      "Finding Elimination Order: :   0%|          | 0/2 [00:00<?, ?it/s]"
     ]
    },
    {
     "name": "stderr",
     "output_type": "stream",
     "text": [
      "\r",
      "Finding Elimination Order: : 100%|██████████| 2/2 [00:00<00:00, 210.97it/s]"
     ]
    },
    {
     "name": "stderr",
     "output_type": "stream",
     "text": [
      "\n",
      "\r",
      "  0%|          | 0/2 [00:00<?, ?it/s]"
     ]
    },
    {
     "name": "stderr",
     "output_type": "stream",
     "text": [
      "\r",
      "Eliminating: JohnCalls:   0%|          | 0/2 [00:00<?, ?it/s]"
     ]
    },
    {
     "name": "stderr",
     "output_type": "stream",
     "text": [
      "\r",
      "Eliminating: MaryCalls:   0%|          | 0/2 [00:00<?, ?it/s]"
     ]
    },
    {
     "name": "stderr",
     "output_type": "stream",
     "text": [
      "\r",
      "Eliminating: MaryCalls: 100%|██████████| 2/2 [00:00<00:00, 134.76it/s]"
     ]
    },
    {
     "name": "stdout",
     "output_type": "stream",
     "text": [
      "+-------------------+-------------------+\n",
      "| Earthquake        |   phi(Earthquake) |\n",
      "+===================+===================+\n",
      "| Earthquake(True)  |            0.0020 |\n",
      "+-------------------+-------------------+\n",
      "| Earthquake(False) |            0.9980 |\n",
      "+-------------------+-------------------+\n"
     ]
    },
    {
     "name": "stderr",
     "output_type": "stream",
     "text": [
      "\n"
     ]
    }
   ],
   "source": [
    "BAE_1: DiscreteFactor = elim.query(variables = [Earthquake.var], evidence = {Burglary.var:'True', Alarm.var: 'True'})\n",
    "print(BAE_1)"
   ]
  },
  {
   "cell_type": "markdown",
   "metadata": {
    "lines_to_next_cell": 0,
    "title": "markdown"
   },
   "source": [
    "Below we see that when there was no`Burglary` (cause) and `Alarm` rang, there is a higher probability of `Earthquake` (other cause) compared to when there was a `Burglary` and `Alarm` rang:\n",
    "$$\n",
    "P(\\text{Earthquake} = \\text{True} \\; | \\; \\text{Burglary} = \\text{False} \\; \\cap \\; \\text{Alarm} = \\text{True}) = 0.3676\n",
    "$$\n",
    "* NOTE: This is like in page 41 of Korb book (inverse of \"explaining away\")"
   ]
  },
  {
   "cell_type": "code",
   "execution_count": 79,
   "metadata": {
    "title": "codecell"
   },
   "outputs": [
    {
     "name": "stderr",
     "output_type": "stream",
     "text": [
      "\r",
      "  0%|          | 0/2 [00:00<?, ?it/s]"
     ]
    },
    {
     "name": "stderr",
     "output_type": "stream",
     "text": [
      "\r",
      "Finding Elimination Order: :   0%|          | 0/2 [00:00<?, ?it/s]"
     ]
    },
    {
     "name": "stderr",
     "output_type": "stream",
     "text": [
      "\r",
      "Finding Elimination Order: : 100%|██████████| 2/2 [00:00<00:00, 906.00it/s]"
     ]
    },
    {
     "name": "stderr",
     "output_type": "stream",
     "text": [
      "\n",
      "\r",
      "  0%|          | 0/2 [00:00<?, ?it/s]"
     ]
    },
    {
     "name": "stderr",
     "output_type": "stream",
     "text": [
      "\r",
      "Eliminating: JohnCalls:   0%|          | 0/2 [00:00<?, ?it/s]"
     ]
    },
    {
     "name": "stderr",
     "output_type": "stream",
     "text": [
      "\r",
      "Eliminating: MaryCalls:   0%|          | 0/2 [00:00<?, ?it/s]"
     ]
    },
    {
     "name": "stderr",
     "output_type": "stream",
     "text": [
      "\r",
      "Eliminating: MaryCalls: 100%|██████████| 2/2 [00:00<00:00, 613.43it/s]"
     ]
    },
    {
     "name": "stdout",
     "output_type": "stream",
     "text": [
      "+-------------------+-------------------+\n",
      "| Earthquake        |   phi(Earthquake) |\n",
      "+===================+===================+\n",
      "| Earthquake(True)  |            0.3676 |\n",
      "+-------------------+-------------------+\n",
      "| Earthquake(False) |            0.6324 |\n",
      "+-------------------+-------------------+\n"
     ]
    },
    {
     "name": "stderr",
     "output_type": "stream",
     "text": [
      "\n"
     ]
    }
   ],
   "source": [
    "BAE_2: DiscreteFactor = elim.query(variables = [Earthquake.var], evidence = {Burglary.var:'False', Alarm.var: 'True'})\n",
    "print(BAE_2)"
   ]
  },
  {
   "cell_type": "code",
   "execution_count": 80,
   "metadata": {
    "title": "codecell"
   },
   "outputs": [],
   "source": [
    "assert (BAE_2.values != BAE.values).all(), 'Check: there is dependency between Earthquake and Burglary when Alarm state is observed (True)'"
   ]
  },
  {
   "cell_type": "markdown",
   "metadata": {
    "lines_to_next_cell": 0,
    "title": "markdown"
   },
   "source": [
    "The probability below is:\n",
    "$$\n",
    "P(\\text{Earthquake} = \\text{True} \\; | \\;\\text{Alarm} = \\text{False}) = 0.0017\n",
    "$$"
   ]
  },
  {
   "cell_type": "code",
   "execution_count": 81,
   "metadata": {
    "lines_to_next_cell": 0,
    "title": "codecell"
   },
   "outputs": [
    {
     "name": "stderr",
     "output_type": "stream",
     "text": [
      "\r",
      "  0%|          | 0/3 [00:00<?, ?it/s]"
     ]
    },
    {
     "name": "stderr",
     "output_type": "stream",
     "text": [
      "\r",
      "Finding Elimination Order: :   0%|          | 0/3 [00:00<?, ?it/s]"
     ]
    },
    {
     "name": "stderr",
     "output_type": "stream",
     "text": [
      "\r",
      "Finding Elimination Order: : 100%|██████████| 3/3 [00:00<00:00, 1188.97it/s]"
     ]
    },
    {
     "name": "stderr",
     "output_type": "stream",
     "text": [
      "\n",
      "\r",
      "  0%|          | 0/3 [00:00<?, ?it/s]"
     ]
    },
    {
     "name": "stderr",
     "output_type": "stream",
     "text": [
      "\r",
      "Eliminating: JohnCalls:   0%|          | 0/3 [00:00<?, ?it/s]"
     ]
    },
    {
     "name": "stderr",
     "output_type": "stream",
     "text": [
      "\r",
      "Eliminating: Burglary:   0%|          | 0/3 [00:00<?, ?it/s] "
     ]
    },
    {
     "name": "stderr",
     "output_type": "stream",
     "text": [
      "\r",
      "Eliminating: MaryCalls:   0%|          | 0/3 [00:00<?, ?it/s]"
     ]
    },
    {
     "name": "stderr",
     "output_type": "stream",
     "text": [
      "\r",
      "Eliminating: MaryCalls: 100%|██████████| 3/3 [00:00<00:00, 431.93it/s]"
     ]
    },
    {
     "name": "stdout",
     "output_type": "stream",
     "text": [
      "+-------------------+-------------------+\n",
      "| Earthquake        |   phi(Earthquake) |\n",
      "+===================+===================+\n",
      "| Earthquake(True)  |            0.0014 |\n",
      "+-------------------+-------------------+\n",
      "| Earthquake(False) |            0.9986 |\n",
      "+-------------------+-------------------+\n"
     ]
    },
    {
     "name": "stderr",
     "output_type": "stream",
     "text": [
      "\n"
     ]
    }
   ],
   "source": [
    "# Case 2: Alarm = False\n",
    "BAE: DiscreteFactor = elim.query(variables = [Earthquake.var], evidence = {Alarm.var: 'False'})\n",
    "print(BAE)"
   ]
  },
  {
   "cell_type": "markdown",
   "metadata": {
    "lines_to_next_cell": 0,
    "title": "markdown"
   },
   "source": [
    "The probability below is:\n",
    "$$\n",
    "P(\\text{Earthquake} = \\text{True} \\; | \\; \\text{Burglary} = \\text{True} \\; \\cap \\; \\text{Alarm} = \\text{False}) = 0.0017\n",
    "$$"
   ]
  },
  {
   "cell_type": "code",
   "execution_count": 82,
   "metadata": {
    "lines_to_next_cell": 0,
    "title": "codecell"
   },
   "outputs": [
    {
     "name": "stderr",
     "output_type": "stream",
     "text": [
      "\r",
      "  0%|          | 0/2 [00:00<?, ?it/s]"
     ]
    },
    {
     "name": "stderr",
     "output_type": "stream",
     "text": [
      "\r",
      "Finding Elimination Order: :   0%|          | 0/2 [00:00<?, ?it/s]"
     ]
    },
    {
     "name": "stderr",
     "output_type": "stream",
     "text": [
      "\r",
      "Finding Elimination Order: : 100%|██████████| 2/2 [00:00<00:00, 983.54it/s]"
     ]
    },
    {
     "name": "stderr",
     "output_type": "stream",
     "text": [
      "\n",
      "\r",
      "  0%|          | 0/2 [00:00<?, ?it/s]"
     ]
    },
    {
     "name": "stderr",
     "output_type": "stream",
     "text": [
      "\r",
      "Eliminating: JohnCalls:   0%|          | 0/2 [00:00<?, ?it/s]"
     ]
    },
    {
     "name": "stderr",
     "output_type": "stream",
     "text": [
      "\r",
      "Eliminating: MaryCalls:   0%|          | 0/2 [00:00<?, ?it/s]"
     ]
    },
    {
     "name": "stderr",
     "output_type": "stream",
     "text": [
      "\r",
      "Eliminating: MaryCalls: 100%|██████████| 2/2 [00:00<00:00, 512.03it/s]"
     ]
    },
    {
     "name": "stdout",
     "output_type": "stream",
     "text": [
      "+-------------------+-------------------+\n",
      "| Earthquake        |   phi(Earthquake) |\n",
      "+===================+===================+\n",
      "| Earthquake(True)  |            0.0017 |\n",
      "+-------------------+-------------------+\n",
      "| Earthquake(False) |            0.9983 |\n",
      "+-------------------+-------------------+\n"
     ]
    },
    {
     "name": "stderr",
     "output_type": "stream",
     "text": [
      "\n"
     ]
    }
   ],
   "source": [
    "BAE_1: DiscreteFactor = elim.query(variables = [Earthquake.var], evidence = {Burglary.var:'True', Alarm.var: 'False'})\n",
    "print(BAE_1)"
   ]
  },
  {
   "cell_type": "markdown",
   "metadata": {
    "lines_to_next_cell": 0,
    "title": "markdown"
   },
   "source": [
    "Below we see that when there was no `Burglary` (cause) and `Alarm` did not ring, there is a lower probability of `Earthquake` (other cause) compared to when there was a `Burglary` and `Alarm` didn't ring:\n",
    "$$\n",
    "P(\\text{Earthquake} = \\text{True} \\; | \\; \\text{Burglary} = \\text{False} \\; \\cap \\; \\text{Alarm} = \\text{False}) = 0.0014\n",
    "$$"
   ]
  },
  {
   "cell_type": "code",
   "execution_count": 83,
   "metadata": {
    "lines_to_next_cell": 0,
    "title": "codecell"
   },
   "outputs": [
    {
     "name": "stderr",
     "output_type": "stream",
     "text": [
      "\r",
      "  0%|          | 0/2 [00:00<?, ?it/s]"
     ]
    },
    {
     "name": "stderr",
     "output_type": "stream",
     "text": [
      "\r",
      "Finding Elimination Order: :   0%|          | 0/2 [00:00<?, ?it/s]"
     ]
    },
    {
     "name": "stderr",
     "output_type": "stream",
     "text": [
      "\r",
      "Finding Elimination Order: : 100%|██████████| 2/2 [00:00<00:00, 732.63it/s]"
     ]
    },
    {
     "name": "stderr",
     "output_type": "stream",
     "text": [
      "\n",
      "\r",
      "  0%|          | 0/2 [00:00<?, ?it/s]"
     ]
    },
    {
     "name": "stderr",
     "output_type": "stream",
     "text": [
      "\r",
      "Eliminating: JohnCalls:   0%|          | 0/2 [00:00<?, ?it/s]"
     ]
    },
    {
     "name": "stderr",
     "output_type": "stream",
     "text": [
      "\r",
      "Eliminating: MaryCalls:   0%|          | 0/2 [00:00<?, ?it/s]"
     ]
    },
    {
     "name": "stderr",
     "output_type": "stream",
     "text": [
      "\r",
      "Eliminating: MaryCalls: 100%|██████████| 2/2 [00:00<00:00, 504.94it/s]"
     ]
    },
    {
     "name": "stdout",
     "output_type": "stream",
     "text": [
      "+-------------------+-------------------+\n",
      "| Earthquake        |   phi(Earthquake) |\n",
      "+===================+===================+\n",
      "| Earthquake(True)  |            0.0014 |\n",
      "+-------------------+-------------------+\n",
      "| Earthquake(False) |            0.9986 |\n",
      "+-------------------+-------------------+\n"
     ]
    },
    {
     "name": "stderr",
     "output_type": "stream",
     "text": [
      "\n"
     ]
    }
   ],
   "source": [
    "BAE_2: DiscreteFactor = elim.query(variables = [Earthquake.var], evidence = {Burglary.var:'False', Alarm.var: 'False'})\n",
    "print(BAE_2)"
   ]
  },
  {
   "cell_type": "code",
   "execution_count": 84,
   "metadata": {
    "title": "codecell"
   },
   "outputs": [],
   "source": [
    "assert (BAE_2.values != BAE.values).all(), 'Check: there is dependency between Earthquake and Burglary when Alarm state is observed (False)'"
   ]
  }
 ],
 "metadata": {
  "jupytext": {
   "cell_metadata_filter": "title,-all"
  },
  "kernelspec": {
   "display_name": "pybayesian_env",
   "language": "python",
   "name": "pybayesian_env"
  },
  "language_info": {
   "codemirror_mode": {
    "name": "ipython",
    "version": 3
   },
   "file_extension": ".py",
   "mimetype": "text/x-python",
   "name": "python",
   "nbconvert_exporter": "python",
   "pygments_lexer": "ipython3",
   "version": "3.7.6"
  }
 },
 "nbformat": 4,
 "nbformat_minor": 4
}
