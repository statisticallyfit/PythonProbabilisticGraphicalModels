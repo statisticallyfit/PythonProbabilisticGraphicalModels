{
 "cells": [
  {
   "cell_type": "markdown",
   "metadata": {
    "title": "markdown"
   },
   "source": [
    "# Monty Hall Problem\n",
    "Tutorial source"
   ]
  },
  {
   "cell_type": "markdown",
   "metadata": {
    "lines_to_next_cell": 0,
    "title": "markdown"
   },
   "source": [
    "Doing path-setting:"
   ]
  },
  {
   "cell_type": "code",
   "execution_count": 1,
   "metadata": {
    "title": "codecell"
   },
   "outputs": [
    {
     "name": "stdout",
     "output_type": "stream",
     "text": [
      "curPath =  /development/projects/statisticallyfit/github/learningmathstat/PythonProbabilisticGraphicalModels/src/PgmpyStudy/ \n",
      "\n",
      "dataPath =  /development/projects/statisticallyfit/github/learningmathstat/PythonProbabilisticGraphicalModels/src/_data/ \n",
      "\n",
      "imagePath =  /development/projects/statisticallyfit/github/learningmathstat/PythonProbabilisticGraphicalModels/src/PgmpyStudy/images/ \n",
      "\n"
     ]
    },
    {
     "data": {
      "text/plain": [
       "['/development/projects/statisticallyfit/github/learningmathstat/PythonProbabilisticGraphicalModels/src/PgmpyStudy',\n",
       " '/development/bin/python/conda3_ana/envs/pybayesian_env/lib/python37.zip',\n",
       " '/development/bin/python/conda3_ana/envs/pybayesian_env/lib/python3.7',\n",
       " '/development/bin/python/conda3_ana/envs/pybayesian_env/lib/python3.7/lib-dynload',\n",
       " '',\n",
       " '/development/bin/python/conda3_ana/envs/pybayesian_env/lib/python3.7/site-packages',\n",
       " '/development/bin/python/conda3_ana/envs/pybayesian_env/lib/python3.7/site-packages/IPython/extensions',\n",
       " '/home/statisticallyfit/.ipython',\n",
       " '/development/projects/statisticallyfit/github/learningmathstat/PythonProbabilisticGraphicalModels/src/utils/',\n",
       " '/development/projects/statisticallyfit/github/learningmathstat/PythonProbabilisticGraphicalModels/src/PgmpyStudy/']"
      ]
     },
     "execution_count": 1,
     "metadata": {},
     "output_type": "execute_result"
    }
   ],
   "source": [
    "import os\n",
    "import sys\n",
    "\n",
    "\n",
    "os.getcwd()\n",
    "# Setting the baseline:\n",
    "os.chdir('/development/projects/statisticallyfit/github/learningmathstat/PythonProbabilisticGraphicalModels')\n",
    "\n",
    "\n",
    "curPath: str = os.getcwd() + \"/src/PgmpyStudy/\"\n",
    "\n",
    "dataPath: str = os.getcwd() + \"/src/_data/\"\n",
    "imagePath: str = curPath + 'images/'\n",
    "\n",
    "print(\"curPath = \", curPath, \"\\n\")\n",
    "print(\"dataPath = \", dataPath, \"\\n\")\n",
    "print('imagePath = ', imagePath, \"\\n\")\n",
    "\n",
    "\n",
    "# Making files in utils folder visible here: to import my local print functions for nn.Module objects\n",
    "sys.path.append(os.getcwd() + \"/src/utils/\")\n",
    "# For being able to import files within PgmpyStudy folder\n",
    "sys.path.append(curPath)\n",
    "\n",
    "#sys.path.remove('/development/projects/statisticallyfit/github/learningmathstat/PythonNeuralNetNLP/src/utils/')\n",
    "#sys.path.remove('/development/projects/statisticallyfit/github/learningmathstat/PythonNeuralNetNLP/src/PgmpyStudy/')\n",
    "\n",
    "sys.path"
   ]
  },
  {
   "cell_type": "markdown",
   "metadata": {
    "lines_to_next_cell": 0,
    "title": "markdown"
   },
   "source": [
    "Science imports:"
   ]
  },
  {
   "cell_type": "code",
   "execution_count": 2,
   "metadata": {
    "title": "codecell"
   },
   "outputs": [],
   "source": [
    "from pgmpy.models import BayesianModel\n",
    "from pgmpy.inference import VariableElimination\n",
    "from pgmpy.factors.discrete import TabularCPD\n",
    "from pgmpy.factors.discrete import JointProbabilityDistribution\n",
    "from pgmpy.factors.discrete.DiscreteFactor import DiscreteFactor\n",
    "from pgmpy.independencies import Independencies\n",
    "from pgmpy.independencies.Independencies import IndependenceAssertion\n",
    "\n",
    "\n",
    "from operator import mul\n",
    "from functools import reduce\n",
    "\n",
    "import itertools\n",
    "import collections\n",
    "\n",
    "\n",
    "\n",
    "from src.utils.TypeAliases import *\n",
    "\n",
    "from src.utils.GraphvizUtil import *\n",
    "from src.utils.NetworkUtil import *\n",
    "from src.utils.DataUtil import *\n",
    "from src.utils.GenericUtil import *\n",
    "\n",
    "from typing import *\n",
    "\n",
    "# My type alias for clarity\n",
    "\n",
    "import pandas as pd\n",
    "from pandas.core.frame import DataFrame\n",
    "\n",
    "\n"
   ]
  },
  {
   "cell_type": "markdown",
   "metadata": {
    "title": "markdown"
   },
   "source": [
    "## Monty Hall Problem Description:\n",
    "The Monty Hall Problem is a very famous problem in Probability Theory. The question goes like:\n",
    "\n",
    "Suppose you're on a game show, and you're given the choice of three doors: Behind one door is a car (the prize); behind the others, goats (not prizes). You pick a door, say `door A`, and the `Host`, who knows what's behind the doors, opens **another** door (so he can never open the same door you the `Contestant` chooses), say he opens `door C`, which has a goat. He then says to you, \"Do you want to pick door `door B`?\"\n",
    "\n",
    "The question we want to figure out is: Is it to your advantage to switch your choice?\n",
    "\n",
    "By intution it seems that there shouldn't be any increase in probability of getting the prize if we switch the door. But using Bayes' Theorem we can show that by switching the door you the `Contestant` have higher chance of winning.\n",
    "\n",
    "Monty hall wikipedia page: [https://en.wikipedia.org/wiki/Monty_Hall_problem](https://en.wikipedia.org/wiki/Monty_Hall_problem)\n",
    "\n",
    "\n",
    "## Probabilistic Interpretation:\n",
    "\n",
    "There are $3$ random variables: the `Contestant`, the `Host`, and the `Prize`.\n",
    "* `Contestant` random variable: The contestant (you) can choose any of the doors, so `Contestant` random variable can take on the values of the doors, hence `Contestant` $\\in \\{ A, B, C\\}$. Also it has been randomly placed behind the doors, so there is equal chance the `Contestant` chooses any of the doors. Thus: $P(\\text{Contestant} = A) = P(\\text{Contestant} = B) = P(\\text{Contestant} = C) = \\frac{1}{3}$.\n",
    "* `Host` random variable: the Host can choose any of the doors, depending on which house the prize or which have been chosen, so `Host` $\\in \\{ A, B, C\\}$.\n",
    "* `Prize` random variable: The prize object has been placed behind the doors, so the `Prize` random variable can take on the values of the doors, hence `Prize` $\\in \\{ A, B, C\\}$. Also it has been randomly placed behind the doors, so there is equal chance it could be behind any of the doors. Thus: $P(\\text{Prize} = A) = P(\\text{Prize} = B) = P(\\text{Prize} = C) = \\frac{1}{3}$."
   ]
  },
  {
   "cell_type": "code",
   "execution_count": 3,
   "metadata": {
    "lines_to_next_cell": 0,
    "title": "codecell"
   },
   "outputs": [
    {
     "data": {
      "text/html": [
       "<div>\n",
       "<style scoped>\n",
       "    .dataframe tbody tr th:only-of-type {\n",
       "        vertical-align: middle;\n",
       "    }\n",
       "\n",
       "    .dataframe tbody tr th {\n",
       "        vertical-align: top;\n",
       "    }\n",
       "\n",
       "    .dataframe thead th {\n",
       "        text-align: right;\n",
       "    }\n",
       "</style>\n",
       "<table border=\"1\" class=\"dataframe\">\n",
       "  <thead>\n",
       "    <tr style=\"text-align: right;\">\n",
       "      <th></th>\n",
       "      <th></th>\n",
       "    </tr>\n",
       "    <tr>\n",
       "      <th>Contestant</th>\n",
       "      <th></th>\n",
       "    </tr>\n",
       "  </thead>\n",
       "  <tbody>\n",
       "    <tr>\n",
       "      <th>A</th>\n",
       "      <td>0.333333</td>\n",
       "    </tr>\n",
       "    <tr>\n",
       "      <th>C</th>\n",
       "      <td>0.333333</td>\n",
       "    </tr>\n",
       "    <tr>\n",
       "      <th>B</th>\n",
       "      <td>0.333333</td>\n",
       "    </tr>\n",
       "  </tbody>\n",
       "</table>\n",
       "</div>"
      ],
      "text/plain": [
       "                    \n",
       "Contestant          \n",
       "A           0.333333\n",
       "C           0.333333\n",
       "B           0.333333"
      ]
     },
     "execution_count": 3,
     "metadata": {},
     "output_type": "execute_result"
    }
   ],
   "source": [
    "# Defining the network structure\n",
    "\n",
    "# These values mean that that door was selected\n",
    "doorA = 'A' # door A was selected\n",
    "doorB = 'B' # door B was selected\n",
    "doorC = 'C'\n",
    "\n",
    "# Using them like Contestant = doorA means Contestant chose door A\n",
    "\n",
    "Contestant = RandomVariable(var = \"Contestant\", states = {doorA, doorB, doorC})\n",
    "Host = RandomVariable(var = \"Host\", states = {doorA, doorB, doorC})\n",
    "Prize = RandomVariable(var = \"Prize\", states = {doorA, doorB, doorC})\n",
    "\n",
    "montyModel: BayesianModel = BayesianModel([(Prize.var, Host.var), (Contestant.var, Host.var)])\n",
    "\n",
    "# Defining the CPDs\n",
    "cpd_C: TabularCPD = TabularCPD(variable = Contestant.var, variable_card = len(Contestant.states),\n",
    "                               state_names = {Contestant.var : list(Contestant.states)},\n",
    "                               values = [[1/3, 1/3, 1/3]])\n",
    "tabularDf(cpd_C)"
   ]
  },
  {
   "cell_type": "code",
   "execution_count": 4,
   "metadata": {
    "title": "codecell"
   },
   "outputs": [
    {
     "data": {
      "text/html": [
       "<div>\n",
       "<style scoped>\n",
       "    .dataframe tbody tr th:only-of-type {\n",
       "        vertical-align: middle;\n",
       "    }\n",
       "\n",
       "    .dataframe tbody tr th {\n",
       "        vertical-align: top;\n",
       "    }\n",
       "\n",
       "    .dataframe thead th {\n",
       "        text-align: right;\n",
       "    }\n",
       "</style>\n",
       "<table border=\"1\" class=\"dataframe\">\n",
       "  <thead>\n",
       "    <tr style=\"text-align: right;\">\n",
       "      <th></th>\n",
       "      <th></th>\n",
       "    </tr>\n",
       "    <tr>\n",
       "      <th>Prize</th>\n",
       "      <th></th>\n",
       "    </tr>\n",
       "  </thead>\n",
       "  <tbody>\n",
       "    <tr>\n",
       "      <th>A</th>\n",
       "      <td>0.333333</td>\n",
       "    </tr>\n",
       "    <tr>\n",
       "      <th>C</th>\n",
       "      <td>0.333333</td>\n",
       "    </tr>\n",
       "    <tr>\n",
       "      <th>B</th>\n",
       "      <td>0.333333</td>\n",
       "    </tr>\n",
       "  </tbody>\n",
       "</table>\n",
       "</div>"
      ],
      "text/plain": [
       "               \n",
       "Prize          \n",
       "A      0.333333\n",
       "C      0.333333\n",
       "B      0.333333"
      ]
     },
     "execution_count": 4,
     "metadata": {},
     "output_type": "execute_result"
    }
   ],
   "source": [
    "cpd_P: TabularCPD = TabularCPD(variable = Prize.var, variable_card = len(Prize.states),\n",
    "                               state_names = {Prize.var : list(Prize.states)},\n",
    "                                  values = [[1/3, 1/3, 1/3]])\n",
    "tabularDf(cpd_P)"
   ]
  },
  {
   "cell_type": "markdown",
   "metadata": {
    "lines_to_next_cell": 0,
    "title": "markdown"
   },
   "source": [
    "* Given that `Contestant` chose door `B` and ...\n",
    "  * Given the `Prize` is behind door `B`, then:\n",
    "      * the probability that the `Host` opens door `B` is $0$ (since the `Contestant` chose it and also the `Prize` is behind it)\n",
    "      * the probability that the `Host` opens door `A` is $0.5$ (because the other door `C` is still available as an option)\n",
    "      * the probability that the `Host` opens door `C` is $0.5$ (because other door `A` is still available as an option)\n",
    "\n",
    "* Given that `Contestant` chose door `B` and ...\n",
    "  * Given the `Prize` is behind door `A`, then:\n",
    "      * the probability that the `Host` opens door `B` is $0$ (since the Host can't open the door of the Contestant).\n",
    "      * the probability that the `Host` opens door `A` is $0$ (since opening it would reveal the prize).\n",
    "      * the probability that the `Host` opens door `C` is $1$ (since there are no other doors left to open).\n",
    "\n",
    "* Given that `Contestant` chose door `B` and ...\n",
    "  * Given the `Prize` is behind door `C`, then:\n",
    "      * the probability that the `Host` opens door `B` is $0$ (since the `Contestant` chose already door `B`)\n",
    "      * the probability that the `Host` opens door `A` is $1$ (since there is no other door left to open).\n",
    "      * the probability that the `Host` opens door `C` is $0$ (since opening it would reveal the prize).\n",
    "\n",
    "Similar reasoning applies for the other cases when `Contestant` chooses doors `A` or `C`."
   ]
  },
  {
   "cell_type": "code",
   "execution_count": 5,
   "metadata": {
    "title": "codecell"
   },
   "outputs": [
    {
     "data": {
      "text/html": [
       "<div>\n",
       "<style scoped>\n",
       "    .dataframe tbody tr th:only-of-type {\n",
       "        vertical-align: middle;\n",
       "    }\n",
       "\n",
       "    .dataframe tbody tr th {\n",
       "        vertical-align: top;\n",
       "    }\n",
       "\n",
       "    .dataframe thead th {\n",
       "        text-align: right;\n",
       "    }\n",
       "</style>\n",
       "<table border=\"1\" class=\"dataframe\">\n",
       "  <thead>\n",
       "    <tr style=\"text-align: right;\">\n",
       "      <th></th>\n",
       "      <th>Host</th>\n",
       "      <th>A</th>\n",
       "      <th>C</th>\n",
       "      <th>B</th>\n",
       "    </tr>\n",
       "    <tr>\n",
       "      <th>Contestant</th>\n",
       "      <th>Prize</th>\n",
       "      <th></th>\n",
       "      <th></th>\n",
       "      <th></th>\n",
       "    </tr>\n",
       "  </thead>\n",
       "  <tbody>\n",
       "    <tr>\n",
       "      <th rowspan=\"3\" valign=\"top\">A</th>\n",
       "      <th>A</th>\n",
       "      <td>0.0</td>\n",
       "      <td>0.5</td>\n",
       "      <td>0.5</td>\n",
       "    </tr>\n",
       "    <tr>\n",
       "      <th>C</th>\n",
       "      <td>0.0</td>\n",
       "      <td>0.0</td>\n",
       "      <td>1.0</td>\n",
       "    </tr>\n",
       "    <tr>\n",
       "      <th>B</th>\n",
       "      <td>0.0</td>\n",
       "      <td>1.0</td>\n",
       "      <td>0.0</td>\n",
       "    </tr>\n",
       "    <tr>\n",
       "      <th rowspan=\"3\" valign=\"top\">C</th>\n",
       "      <th>A</th>\n",
       "      <td>0.0</td>\n",
       "      <td>0.0</td>\n",
       "      <td>1.0</td>\n",
       "    </tr>\n",
       "    <tr>\n",
       "      <th>C</th>\n",
       "      <td>0.5</td>\n",
       "      <td>0.0</td>\n",
       "      <td>0.5</td>\n",
       "    </tr>\n",
       "    <tr>\n",
       "      <th>B</th>\n",
       "      <td>1.0</td>\n",
       "      <td>0.0</td>\n",
       "      <td>0.0</td>\n",
       "    </tr>\n",
       "    <tr>\n",
       "      <th rowspan=\"3\" valign=\"top\">B</th>\n",
       "      <th>A</th>\n",
       "      <td>0.0</td>\n",
       "      <td>1.0</td>\n",
       "      <td>0.0</td>\n",
       "    </tr>\n",
       "    <tr>\n",
       "      <th>C</th>\n",
       "      <td>1.0</td>\n",
       "      <td>0.0</td>\n",
       "      <td>0.0</td>\n",
       "    </tr>\n",
       "    <tr>\n",
       "      <th>B</th>\n",
       "      <td>0.5</td>\n",
       "      <td>0.5</td>\n",
       "      <td>0.0</td>\n",
       "    </tr>\n",
       "  </tbody>\n",
       "</table>\n",
       "</div>"
      ],
      "text/plain": [
       "Host                A    C    B\n",
       "Contestant Prize               \n",
       "A          A      0.0  0.5  0.5\n",
       "           C      0.0  0.0  1.0\n",
       "           B      0.0  1.0  0.0\n",
       "C          A      0.0  0.0  1.0\n",
       "           C      0.5  0.0  0.5\n",
       "           B      1.0  0.0  0.0\n",
       "B          A      0.0  1.0  0.0\n",
       "           C      1.0  0.0  0.0\n",
       "           B      0.5  0.5  0.0"
      ]
     },
     "execution_count": 5,
     "metadata": {},
     "output_type": "execute_result"
    }
   ],
   "source": [
    "cpd_H: TabularCPD = TabularCPD(variable = Host.var, variable_card = len(Host.states),\n",
    "                                 values = [[0, 0, 0, 0, 0.5, 1, 0, 1, 0.5],\n",
    "                                           [0.5, 0, 1, 0, 0, 0, 1, 0, 0.5],\n",
    "                                           [0.5, 1, 0, 1, 0.5, 0, 0, 0, 0]],\n",
    "                                 evidence = [Contestant.var, Prize.var],\n",
    "                                 evidence_card = [len(Contestant.states), len(Prize.states)],\n",
    "                                 state_names = {Host.var : list(Host.states),\n",
    "                                                Contestant.var : list(Contestant.states),\n",
    "                                                Prize.var : list(Prize.states)})\n",
    "tabularDf(cpd_H)"
   ]
  },
  {
   "cell_type": "code",
   "execution_count": 6,
   "metadata": {
    "title": "codecell"
   },
   "outputs": [
    {
     "data": {
      "text/plain": [
       "True"
      ]
     },
     "execution_count": 6,
     "metadata": {},
     "output_type": "execute_result"
    }
   ],
   "source": [
    "# Associating the cpds to the model\n",
    "montyModel.add_cpds(cpd_C, cpd_P, cpd_H)\n",
    "\n",
    "# Check model structure and defined CPDs are correct\n",
    "montyModel.check_model()"
   ]
  },
  {
   "cell_type": "markdown",
   "metadata": {
    "lines_to_next_cell": 0,
    "title": "markdown"
   },
   "source": [
    "## Inferring Posterior Probability\n",
    "Given that the `Contestant` chooses `door A` and the `Host` chooses `door B`, the probability that the prize  is behind the other `door C` is higher than the probability that it is behind the `Contestant`'s chosen `door A`.\n",
    "\n",
    "**CONCLUSION**: the `Contestant` should switch his choice to get a higher chance of winning the prize."
   ]
  },
  {
   "cell_type": "code",
   "execution_count": 7,
   "metadata": {
    "title": "codecell"
   },
   "outputs": [
    {
     "name": "stderr",
     "output_type": "stream",
     "text": [
      "\r",
      "0it [00:00, ?it/s]"
     ]
    },
    {
     "name": "stderr",
     "output_type": "stream",
     "text": [
      "\r",
      "Finding Elimination Order: : : 0it [00:00, ?it/s]"
     ]
    },
    {
     "name": "stderr",
     "output_type": "stream",
     "text": [
      "\r",
      "Finding Elimination Order: : : 0it [00:00, ?it/s]"
     ]
    },
    {
     "name": "stderr",
     "output_type": "stream",
     "text": [
      "\n",
      "\r",
      "0it [00:00, ?it/s]"
     ]
    },
    {
     "name": "stderr",
     "output_type": "stream",
     "text": [
      "\r",
      "0it [00:00, ?it/s]"
     ]
    },
    {
     "name": "stderr",
     "output_type": "stream",
     "text": [
      "\n"
     ]
    },
    {
     "data": {
      "text/html": [
       "<div>\n",
       "<style scoped>\n",
       "    .dataframe tbody tr th:only-of-type {\n",
       "        vertical-align: middle;\n",
       "    }\n",
       "\n",
       "    .dataframe tbody tr th {\n",
       "        vertical-align: top;\n",
       "    }\n",
       "\n",
       "    .dataframe thead th {\n",
       "        text-align: right;\n",
       "    }\n",
       "</style>\n",
       "<table border=\"1\" class=\"dataframe\">\n",
       "  <thead>\n",
       "    <tr style=\"text-align: right;\">\n",
       "      <th></th>\n",
       "      <th></th>\n",
       "    </tr>\n",
       "    <tr>\n",
       "      <th>Prize</th>\n",
       "      <th></th>\n",
       "    </tr>\n",
       "  </thead>\n",
       "  <tbody>\n",
       "    <tr>\n",
       "      <th>A</th>\n",
       "      <td>0.333333</td>\n",
       "    </tr>\n",
       "    <tr>\n",
       "      <th>C</th>\n",
       "      <td>0.666667</td>\n",
       "    </tr>\n",
       "    <tr>\n",
       "      <th>B</th>\n",
       "      <td>0.000000</td>\n",
       "    </tr>\n",
       "  </tbody>\n",
       "</table>\n",
       "</div>"
      ],
      "text/plain": [
       "               \n",
       "Prize          \n",
       "A      0.333333\n",
       "C      0.666667\n",
       "B      0.000000"
      ]
     },
     "execution_count": 7,
     "metadata": {},
     "output_type": "execute_result"
    }
   ],
   "source": [
    "infer = VariableElimination(montyModel)\n",
    "\n",
    "posteriorPrize: DiscreteFactor = infer.query(variables = [Prize.var],\n",
    "                             evidence = {Contestant.var : doorA, Host.var : doorB})\n",
    "\n",
    "#print(posteriorPrize)\n",
    "\n",
    "factorDf(posteriorPrize)"
   ]
  }
 ],
 "metadata": {
  "jupytext": {
   "cell_metadata_filter": "title,-all"
  },
  "kernelspec": {
   "display_name": "pybayesian_env",
   "language": "python",
   "name": "pybayesian_env"
  },
  "language_info": {
   "codemirror_mode": {
    "name": "ipython",
    "version": 3
   },
   "file_extension": ".py",
   "mimetype": "text/x-python",
   "name": "python",
   "nbconvert_exporter": "python",
   "pygments_lexer": "ipython3",
   "version": "3.7.6"
  }
 },
 "nbformat": 4,
 "nbformat_minor": 4
}
